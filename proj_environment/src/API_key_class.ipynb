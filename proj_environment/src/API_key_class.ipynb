{
 "cells": [
  {
   "cell_type": "code",
   "execution_count": null,
   "id": "2fd9d1d0",
   "metadata": {},
   "outputs": [],
   "source": [
    "class APIKeyManager:\n",
    "    \"\"\"\n",
    "    A class to manage and provide multiple API keys for accessing different datasets.\n",
    "    \"\"\"\n",
    "\n",
    "    def __init__(self):\n",
    "        \"\"\"\n",
    "        Initialize the APIKeyManager with a predefined dictionary of API keys.\n",
    "        \"\"\"\n",
    "        self._api_keys = {\n",
    "            \"Frost\": \"2e243d34-57bc-42b4-8095-239991af5353\",\n",
    "            \"Opencage\": \"e9a6e9b1b9be44fab4720c2c96ae9c48\"\n",
    "        }\n",
    "\n",
    "    def get_api_key(self, key_name: str) -> str:\n",
    "        \"\"\"\n",
    "        Retrieve the API key for a specific identifier.\n",
    "\n",
    "        :param key_name: The identifier for the API key (e.g., 'Frost').\n",
    "        :return: The API key as a string.\n",
    "        :raises KeyError: If the key_name is not found in the dictionary.\n",
    "        \"\"\"\n",
    "        if key_name not in self._api_keys:\n",
    "            raise KeyError(f\"API key for '{key_name}' not found.\")\n",
    "        return self._api_keys[key_name]\n",
    "\n",
    "\n",
    "# Eksempel på bruk:\n",
    "api_key_manager = APIKeyManager()\n",
    "\n",
    "# Hent Frost API-nøkkelen direkte fra klassen\n",
    "frost_api_key = api_key_manager.get_api_key(\"Frost\")\n",
    "print(f\"Frost API Key: {frost_api_key}\")\n",
    "\n",
    "# Hent Opencage API-nøkkelen direkte fra klassen\n",
    "opencage_api_key = api_key_manager.get_api_key(\"Opencage\")\n",
    "print(f\"Opencage API Key: {opencage_api_key}\")"
   ]
  }
 ],
 "metadata": {
  "kernelspec": {
   "display_name": "venv",
   "language": "python",
   "name": "python3"
  },
  "language_info": {
   "codemirror_mode": {
    "name": "ipython",
    "version": 3
   },
   "file_extension": ".py",
   "mimetype": "text/x-python",
   "name": "python",
   "nbconvert_exporter": "python",
   "pygments_lexer": "ipython3",
   "version": "3.13.1"
  }
 },
 "nbformat": 4,
 "nbformat_minor": 5
}
