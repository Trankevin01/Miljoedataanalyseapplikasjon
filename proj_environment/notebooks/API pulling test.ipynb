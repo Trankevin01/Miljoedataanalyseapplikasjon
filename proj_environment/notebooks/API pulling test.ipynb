{
 "cells": [
  {
   "cell_type": "code",
   "execution_count": 3,
   "metadata": {},
   "outputs": [
    {
     "name": "stdout",
     "output_type": "stream",
     "text": [
      "========================================\n",
      "📍 Værmelding for London (51.5°N, 0°E)\n",
      "🕒 Tidspunkt: 2025-02-26 12:00:00 UTC\n",
      "🌡 Temperatur: 7.2°C\n",
      "💨 Vindhastighet: 8.2 m/s\n",
      "🌧 Nedbør (neste time): 1.8 mm\n",
      "========================================\n"
     ]
    }
   ],
   "source": [
    "import requests\n",
    "import json\n",
    "from datetime import datetime\n",
    "\n",
    "# Definer API-endepunkt og parametere\n",
    "url = \"https://api.met.no/weatherapi/locationforecast/2.0/compact\"\n",
    "params = {\n",
    "    \"lat\": 51.5,  # Breddegrad for London\n",
    "    \"lon\": 0       # Lengdegrad for London\n",
    "}\n",
    "\n",
    "# User-Agent er påkrevd av Yr\n",
    "headers = {\n",
    "    \"User-Agent\": \"Miljoedataanalyseapplikasjon/0.1 (fredbm@stud.ntnu.no)\"\n",
    "}\n",
    "\n",
    "# Gjør API-kallet\n",
    "response = requests.get(url, headers=headers, params=params)\n",
    "\n",
    "# Sjekk om forespørselen var vellykket\n",
    "if response.status_code == 200:\n",
    "    data = response.json()\n",
    "\n",
    "    # Hent ut den nyeste værprognosen\n",
    "    forecast = data[\"properties\"][\"timeseries\"][0]\n",
    "    time = forecast[\"time\"]\n",
    "    details = forecast[\"data\"][\"instant\"][\"details\"]\n",
    "\n",
    "    # Formater dataene\n",
    "    temperature = details[\"air_temperature\"]\n",
    "    wind_speed = details[\"wind_speed\"]\n",
    "    precipitation = forecast[\"data\"].get(\"next_1_hours\", {}).get(\"details\", {}).get(\"precipitation_amount\", 0)\n",
    "\n",
    "    # Konverter tidspunkt til leselig format\n",
    "    time_formatted = datetime.fromisoformat(time.replace(\"Z\", \"+00:00\")).strftime(\"%Y-%m-%d %H:%M:%S\")\n",
    "\n",
    "    # Print værdata på en ryddig måte\n",
    "    print(\"=\" * 40)\n",
    "    print(f\"📍 Værmelding for London (51.5°N, 0°E)\")\n",
    "    print(f\"🕒 Tidspunkt: {time_formatted} UTC\")\n",
    "    print(f\"🌡 Temperatur: {temperature}°C\")\n",
    "    print(f\"💨 Vindhastighet: {wind_speed} m/s\")\n",
    "    print(f\"🌧 Nedbør (neste time): {precipitation} mm\")\n",
    "    print(\"=\" * 40)\n",
    "\n",
    "else:\n",
    "    print(f\"Feil: {response.status_code} - {response.text}\")\n"
   ]
  },
  {
   "cell_type": "code",
   "execution_count": null,
   "metadata": {},
   "outputs": [],
   "source": []
  }
 ],
 "metadata": {
  "kernelspec": {
   "display_name": "venv",
   "language": "python",
   "name": "python3"
  },
  "language_info": {
   "codemirror_mode": {
    "name": "ipython",
    "version": 3
   },
   "file_extension": ".py",
   "mimetype": "text/x-python",
   "name": "python",
   "nbconvert_exporter": "python",
   "pygments_lexer": "ipython3",
   "version": "3.13.2"
  }
 },
 "nbformat": 4,
 "nbformat_minor": 2
}
