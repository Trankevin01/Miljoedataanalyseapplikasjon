{
 "cells": [
  {
   "cell_type": "code",
   "execution_count": 1,
   "id": "bee54d2e",
   "metadata": {},
   "outputs": [],
   "source": [
    "import pandas as pd\n",
    "# Les inn data fra CSV\n",
    "precipitation_data = pd.read_csv(\"../data/precipitation_data.csv\")\n",
    "temperature_data = pd.read_csv(\"../data/temperature_data.csv\")\n",
    "wind_speed_data = pd.read_csv(\"../data/wind_speed_data.csv\")\n",
    "humidity_data = pd.read_csv(\"../data/humidity_data.csv\")\n",
    "\n",
    "# Konverter referenceTime til datetime\n",
    "precipitation_data['referenceTime'] = pd.to_datetime(precipitation_data['referenceTime'], errors='coerce')\n",
    "temperature_data['referenceTime'] = pd.to_datetime(temperature_data['referenceTime'], errors='coerce')\n",
    "wind_speed_data['referenceTime'] = pd.to_datetime(wind_speed_data['referenceTime'], errors='coerce')\n",
    "humidity_data['referenceTime'] = pd.to_datetime(humidity_data['referenceTime'], errors='coerce')\n",
    "\n",
    "# Henter antall timer fra timeOffset (for eksempel \"PT6\" -> 6)\n",
    "precipitation_data['timeOffsetHours'] = precipitation_data['timeOffset'].str.extract(r'PT(\\d+)').astype(float)\n",
    "temperature_data['timeOffsetHours'] = temperature_data['timeOffset'].str.extract(r'PT(\\d+)').astype(float)\n",
    "wind_speed_data['timeOffsetHours'] = wind_speed_data['timeOffset'].str.extract(r'PT(\\d+)').astype(float)\n",
    "humidity_data['timeOffsetHours'] = humidity_data['timeOffset'].str.extract(r'PT(\\d+)').astype(float)\n",
    "\n",
    "# Legg til timeOffset i referenceTime\n",
    "precipitation_data['referenceTime'] = precipitation_data['referenceTime'] + pd.to_timedelta(precipitation_data['timeOffsetHours'], unit='h')\n",
    "temperature_data['referenceTime'] = temperature_data['referenceTime'] + pd.to_timedelta(temperature_data['timeOffsetHours'], unit='h')\n",
    "wind_speed_data['referenceTime'] = wind_speed_data['referenceTime'] + pd.to_timedelta(wind_speed_data['timeOffsetHours'], unit='h')\n",
    "humidity_data['referenceTime'] = humidity_data['referenceTime'] + pd.to_timedelta(humidity_data['timeOffsetHours'], unit='h')\n",
    "\n",
    "# Slett timeOffsetHours-kolonnen\n",
    "precipitation_data.drop(columns=['timeOffsetHours'], inplace=True)\n",
    "temperature_data.drop(columns=['timeOffsetHours'], inplace=True)\n",
    "wind_speed_data.drop(columns=['timeOffsetHours'], inplace=True)\n",
    "humidity_data.drop(columns=['timeOffsetHours'], inplace=True)\n",
    "\n",
    "# Lagre tilbake til CSV\n",
    "precipitation_data.to_csv(\"../data/precipitation_data.csv\", index=False)\n",
    "temperature_data.to_csv(\"../data/temperature_data.csv\", index=False)\n",
    "wind_speed_data.to_csv(\"../data/wind_speed_data.csv\", index=False)\n",
    "humidity_data.to_csv(\"../data/humidity_data.csv\", index=False)"
   ]
  }
 ],
 "metadata": {
  "kernelspec": {
   "display_name": "venv",
   "language": "python",
   "name": "python3"
  },
  "language_info": {
   "codemirror_mode": {
    "name": "ipython",
    "version": 3
   },
   "file_extension": ".py",
   "mimetype": "text/x-python",
   "name": "python",
   "nbconvert_exporter": "python",
   "pygments_lexer": "ipython3",
   "version": "3.13.1"
  }
 },
 "nbformat": 4,
 "nbformat_minor": 5
}
