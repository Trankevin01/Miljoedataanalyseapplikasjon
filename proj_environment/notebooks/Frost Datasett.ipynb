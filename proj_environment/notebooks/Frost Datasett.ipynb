{
 "cells": [
  {
   "cell_type": "markdown",
   "metadata": {},
   "source": [
    "# Vi lager et program som lar brukeren velge et sted i Norge og se den historiske værdataene til dette stedet. \n",
    "# Programmet henter informasjon fra den nærmeste værstasjonen til det valgte stedet og visualiserer dataene i grafer\n",
    "# Programmet viser også en beregning for hvordan framtidig vær kommer til å se ut.\n",
    "# All data er hentet fra MET som er en offentlig kilde sponset fra den norske stat\n",
    "e9a6e9b1b9be44fab4720c2c96ae9c48"
   ]
  },
  {
   "cell_type": "code",
   "execution_count": 18,
   "metadata": {},
   "outputs": [
    {
     "name": "stdout",
     "output_type": "stream",
     "text": [
      "Henter data for element: mean(air_temperature P1D)\n",
      "Error retrieving mean(air_temperature P1D) data from station SN68173. Trying next station...\n",
      "Data retrieved for mean(air_temperature P1D) from station SN68125!\n",
      "Henter data for element: sum(precipitation_amount P1D)\n",
      "Error retrieving sum(precipitation_amount P1D) data from station SN68173. Trying next station...\n",
      "Data retrieved for sum(precipitation_amount P1D) from station SN68125!\n",
      "Henter data for element: mean(wind_speed P1D)\n",
      "Error retrieving mean(wind_speed P1D) data from station SN68173. Trying next station...\n",
      "Error retrieving mean(wind_speed P1D) data from station SN68125. Trying next station...\n",
      "Error retrieving mean(wind_speed P1D) data from station SN68050. Trying next station...\n",
      "Error retrieving mean(wind_speed P1D) data from station SN68053. Trying next station...\n",
      "Error retrieving mean(wind_speed P1D) data from station SN68175. Trying next station...\n",
      "Error retrieving mean(wind_speed P1D) data from station SN68863. Trying next station...\n",
      "Data retrieved for mean(wind_speed P1D) from station SN68860!\n",
      "Henter data for element: surface_snow_thickness\n",
      "Error retrieving surface_snow_thickness data from station SN68173. Trying next station...\n",
      "Data retrieved for surface_snow_thickness from station SN68125!\n",
      "Henter data for element: mean(relative_humidity P1D)\n",
      "Error retrieving mean(relative_humidity P1D) data from station SN68173. Trying next station...\n",
      "Data retrieved for mean(relative_humidity P1D) from station SN68125!\n",
      "Data saved to ../src/weather_data.csv\n"
     ]
    }
   ],
   "source": [
    "import requests\n",
    "import pandas as pd\n",
    "import os\n",
    "import sys\n",
    "from datetime import datetime, timedelta\n",
    "from opencage.geocoder import OpenCageGeocode\n",
    "from geopy.distance import geodesic\n",
    "sys.path.insert(0, os.path.abspath(os.path.join(os.getcwd(), 'proj_environment', 'src')))\n",
    "from API_Key_Manager_class import APIKeyManager\n",
    "\n",
    "api_key_manager = APIKeyManager()\n",
    "\n",
    "# Hent Frost API-nøkkelen direkte fra klassen\n",
    "client_id = api_key_manager.get_api_key(\"Frost\")\n",
    "\n",
    "# Hent Opencage API-nøkkelen direkte fra klassen\n",
    "api_key = api_key_manager.get_api_key(\"Opencage\")\n",
    "\n",
    "# Sett opp OpenCageGeocode med API-nøkkelen din\n",
    "geolocator = OpenCageGeocode(api_key)\n",
    "\n",
    "# Henter inn lokasjon fra brukeren\n",
    "location_input = input(\"Enter the location (e.g., Bergen, Oslo, Trondheim, Stavanger, Tromsø): \")\n",
    "\n",
    "# Geokoder lokasjonen for å få koordinatene\n",
    "location = geolocator.geocode(location_input)\n",
    "\n",
    "# Sjekker om geokodingen var vellykket\n",
    "if location:\n",
    "    # Henter ut koordinatene\n",
    "    location_coords = (location[0]['geometry']['lat'], location[0]['geometry']['lng'])\n",
    "else:\n",
    "    raise ValueError(\"Could not find coordinates for the location. Please check the input.\")\n",
    "\n",
    "# Definerer endepunkt og parametere for stasjoner\n",
    "stations_endpoint = 'https://frost.met.no/sources/v0.jsonld'\n",
    "stations_parameters = {\n",
    "    'types': 'SensorSystem'\n",
    "}\n",
    "\n",
    "# Henter ut HTTP-responsen og lagrer den som JSON\n",
    "r = requests.get(stations_endpoint, stations_parameters, auth=(client_id, ''))\n",
    "stations_json = r.json()\n",
    "\n",
    "# Henter ut stasjonsinformasjonen\n",
    "stations = stations_json['data']\n",
    "\n",
    "# Lager et dictionary med stasjons-ID som nøkkel og koordinater som verdi\n",
    "weather_stations_coords = {station['id']: (station['geometry']['coordinates'][1], station['geometry']['coordinates'][0]) for station in stations if 'geometry' in station}\n",
    "\n",
    "# Regner ut avstanden til værstasjonene fra lokasjonen\n",
    "distances = {station: geodesic(location_coords, coords).km for station, coords in weather_stations_coords.items()}\n",
    "\n",
    "# Sorterer værstasjonene etter avstand til lokasjonen\n",
    "sorted_stations = sorted(distances, key=distances.get)\n",
    "\n",
    "# Henter ut dagens dato og datoen 90 dager tilbake\n",
    "now = datetime.now()\n",
    "offset = now - timedelta(days=90)\n",
    "current_date = now.strftime(\"%Y-%m-%d\")\n",
    "historic_date = offset.strftime(\"%Y-%m-%d\")\n",
    "\n",
    "# Definerer endepunkt og parametere for observasjoner\n",
    "observations_endpoint = 'https://frost.met.no/observations/v0.jsonld'\n",
    "\n",
    "def fetch_data_by_element(stations, elements, max_attempts = 15):\n",
    "    \"\"\"\n",
    "    Fetch data for each element (e.g., temperature, precipitation, wind speed) from the nearest weather stations.\n",
    "    Tries up to max_attempts stations for each element and returns the data for the first successful attempt.\n",
    "    \"\"\"\n",
    "    all_data = {}\n",
    "    \n",
    "    for element in elements:\n",
    "        print(f\"Henter data for element: {element}\")\n",
    "        for attempt in range(min(max_attempts, len(stations))):\n",
    "            parameters = {\n",
    "                'sources': stations[attempt],\n",
    "                'elements': element,\n",
    "                'referencetime': f'{historic_date}/{current_date}',\n",
    "            }\n",
    "            r = requests.get(observations_endpoint, parameters, auth=(client_id, ''))\n",
    "            json = r.json()\n",
    "\n",
    "            if r.status_code == 200 and 'data' in json:\n",
    "                data = json['data']\n",
    "                if data:\n",
    "                    print(f\"Data retrieved for {element} from station {stations[attempt]}!\")\n",
    "                    all_data[element] = data\n",
    "                    break\n",
    "            else:\n",
    "                print(f\"Error retrieving {element} data from station {stations[attempt]}. Trying next station...\")\n",
    "        \n",
    "        # Hvis ingen data blir funnet for elementet, logges en melding\n",
    "        if element not in all_data:\n",
    "            print(f\"No data found for {element} from any of the attempted stations.\")\n",
    "    \n",
    "    return all_data\n",
    "\n",
    "# Elementene vi ønsker å hente data for\n",
    "elements = [\n",
    "    'mean(air_temperature P1D)', \n",
    "    'sum(precipitation_amount P1D)', \n",
    "    'mean(wind_speed P1D)',\n",
    "    'surface_snow_thickness',\n",
    "    'mean(relative_humidity P1D)'\n",
    "]\n",
    "\n",
    "# Henter data for lokasjonen\n",
    "data = fetch_data_by_element(sorted_stations, elements)\n",
    "\n",
    "# Samler de viktige dataene i en DataFrame\n",
    "df_list = []\n",
    "\n",
    "for element, data_element in data.items():\n",
    "    for item in data_element:\n",
    "        row = pd.DataFrame(item['observations'])\n",
    "        row['referenceTime'] = item['referenceTime']\n",
    "        row['sourceId'] = item['sourceId']\n",
    "        row['elementId'] = element\n",
    "        df_list.append(row)\n",
    "\n",
    "# Effektivt å koble sammen alle DataFrames samtidig\n",
    "df = pd.concat(df_list, ignore_index=True)\n",
    "\n",
    "# Lagrer dataene i en CSV-fil (overskriver eksisterende fil)\n",
    "csv_filename = \"../src/weather_data.csv\"\n",
    "df.to_csv(csv_filename, index=False)\n",
    "print(f\"Data saved to {csv_filename}\")\n"
   ]
  },
  {
   "cell_type": "code",
   "execution_count": 21,
   "metadata": {},
   "outputs": [
    {
     "data": {
      "application/vnd.plotly.v1+json": {
       "config": {
        "plotlyServerURL": "https://plot.ly"
       },
       "data": [
        {
         "line": {
          "color": "#1f77b4"
         },
         "mode": "lines",
         "name": "Temperatur i Trondheim",
         "type": "scatter",
         "x": [
          "2025-01-08T00:00:00+00:00",
          "2025-01-08T00:00:00+00:00",
          "2025-01-09T00:00:00+00:00",
          "2025-01-09T00:00:00+00:00",
          "2025-01-10T00:00:00+00:00",
          "2025-01-10T00:00:00+00:00",
          "2025-01-11T00:00:00+00:00",
          "2025-01-11T00:00:00+00:00",
          "2025-01-12T00:00:00+00:00",
          "2025-01-12T00:00:00+00:00",
          "2025-01-13T00:00:00+00:00",
          "2025-01-13T00:00:00+00:00",
          "2025-01-14T00:00:00+00:00",
          "2025-01-14T00:00:00+00:00",
          "2025-01-15T00:00:00+00:00",
          "2025-01-15T00:00:00+00:00",
          "2025-01-16T00:00:00+00:00",
          "2025-01-16T00:00:00+00:00",
          "2025-01-17T00:00:00+00:00",
          "2025-01-17T00:00:00+00:00",
          "2025-01-18T00:00:00+00:00",
          "2025-01-18T00:00:00+00:00",
          "2025-01-19T00:00:00+00:00",
          "2025-01-19T00:00:00+00:00",
          "2025-01-20T00:00:00+00:00",
          "2025-01-20T00:00:00+00:00",
          "2025-01-21T00:00:00+00:00",
          "2025-01-21T00:00:00+00:00",
          "2025-01-22T00:00:00+00:00",
          "2025-01-22T00:00:00+00:00",
          "2025-01-23T00:00:00+00:00",
          "2025-01-23T00:00:00+00:00",
          "2025-01-24T00:00:00+00:00",
          "2025-01-24T00:00:00+00:00",
          "2025-01-25T00:00:00+00:00",
          "2025-01-25T00:00:00+00:00",
          "2025-01-26T00:00:00+00:00",
          "2025-01-26T00:00:00+00:00",
          "2025-01-27T00:00:00+00:00",
          "2025-01-27T00:00:00+00:00",
          "2025-01-28T00:00:00+00:00",
          "2025-01-28T00:00:00+00:00",
          "2025-01-29T00:00:00+00:00",
          "2025-01-29T00:00:00+00:00",
          "2025-01-30T00:00:00+00:00",
          "2025-01-30T00:00:00+00:00",
          "2025-01-31T00:00:00+00:00",
          "2025-01-31T00:00:00+00:00",
          "2025-02-01T00:00:00+00:00",
          "2025-02-01T00:00:00+00:00",
          "2025-02-02T00:00:00+00:00",
          "2025-02-02T00:00:00+00:00",
          "2025-02-03T00:00:00+00:00",
          "2025-02-03T00:00:00+00:00",
          "2025-02-04T00:00:00+00:00",
          "2025-02-04T00:00:00+00:00",
          "2025-02-05T00:00:00+00:00",
          "2025-02-05T00:00:00+00:00",
          "2025-02-06T00:00:00+00:00",
          "2025-02-06T00:00:00+00:00",
          "2025-02-07T00:00:00+00:00",
          "2025-02-07T00:00:00+00:00",
          "2025-02-08T00:00:00+00:00",
          "2025-02-08T00:00:00+00:00",
          "2025-02-09T00:00:00+00:00",
          "2025-02-09T00:00:00+00:00",
          "2025-02-10T00:00:00+00:00",
          "2025-02-10T00:00:00+00:00",
          "2025-02-11T00:00:00+00:00",
          "2025-02-11T00:00:00+00:00",
          "2025-02-12T00:00:00+00:00",
          "2025-02-12T00:00:00+00:00",
          "2025-02-13T00:00:00+00:00",
          "2025-02-13T00:00:00+00:00",
          "2025-02-14T00:00:00+00:00",
          "2025-02-14T00:00:00+00:00",
          "2025-02-15T00:00:00+00:00",
          "2025-02-15T00:00:00+00:00",
          "2025-02-16T00:00:00+00:00",
          "2025-02-16T00:00:00+00:00",
          "2025-02-17T00:00:00+00:00",
          "2025-02-17T00:00:00+00:00",
          "2025-02-18T00:00:00+00:00",
          "2025-02-18T00:00:00+00:00",
          "2025-02-19T00:00:00+00:00",
          "2025-02-19T00:00:00+00:00",
          "2025-02-20T00:00:00+00:00",
          "2025-02-20T00:00:00+00:00",
          "2025-02-21T00:00:00+00:00",
          "2025-02-21T00:00:00+00:00",
          "2025-02-22T00:00:00+00:00",
          "2025-02-22T00:00:00+00:00",
          "2025-02-23T00:00:00+00:00",
          "2025-02-23T00:00:00+00:00",
          "2025-02-24T00:00:00+00:00",
          "2025-02-24T00:00:00+00:00",
          "2025-02-25T00:00:00+00:00",
          "2025-02-25T00:00:00+00:00",
          "2025-02-26T00:00:00+00:00",
          "2025-02-26T00:00:00+00:00",
          "2025-02-27T00:00:00+00:00",
          "2025-02-27T00:00:00+00:00",
          "2025-02-28T00:00:00+00:00",
          "2025-02-28T00:00:00+00:00",
          "2025-03-01T00:00:00+00:00",
          "2025-03-01T00:00:00+00:00",
          "2025-03-02T00:00:00+00:00",
          "2025-03-02T00:00:00+00:00",
          "2025-03-03T00:00:00+00:00",
          "2025-03-03T00:00:00+00:00",
          "2025-03-04T00:00:00+00:00",
          "2025-03-04T00:00:00+00:00",
          "2025-03-05T00:00:00+00:00",
          "2025-03-05T00:00:00+00:00",
          "2025-03-06T00:00:00+00:00",
          "2025-03-06T00:00:00+00:00",
          "2025-03-07T00:00:00+00:00",
          "2025-03-07T00:00:00+00:00",
          "2025-03-08T00:00:00+00:00",
          "2025-03-08T00:00:00+00:00",
          "2025-03-09T00:00:00+00:00",
          "2025-03-09T00:00:00+00:00",
          "2025-03-10T00:00:00+00:00",
          "2025-03-10T00:00:00+00:00",
          "2025-03-11T00:00:00+00:00",
          "2025-03-11T00:00:00+00:00",
          "2025-03-12T00:00:00+00:00",
          "2025-03-12T00:00:00+00:00",
          "2025-03-13T00:00:00+00:00",
          "2025-03-13T00:00:00+00:00",
          "2025-03-14T00:00:00+00:00",
          "2025-03-14T00:00:00+00:00",
          "2025-03-15T00:00:00+00:00",
          "2025-03-15T00:00:00+00:00",
          "2025-03-16T00:00:00+00:00",
          "2025-03-16T00:00:00+00:00",
          "2025-03-17T00:00:00+00:00",
          "2025-03-17T00:00:00+00:00",
          "2025-03-18T00:00:00+00:00",
          "2025-03-18T00:00:00+00:00",
          "2025-03-19T00:00:00+00:00",
          "2025-03-19T00:00:00+00:00",
          "2025-03-20T00:00:00+00:00",
          "2025-03-20T00:00:00+00:00",
          "2025-03-21T00:00:00+00:00",
          "2025-03-21T00:00:00+00:00",
          "2025-03-22T00:00:00+00:00",
          "2025-03-22T00:00:00+00:00",
          "2025-03-23T00:00:00+00:00",
          "2025-03-23T00:00:00+00:00",
          "2025-03-24T00:00:00+00:00",
          "2025-03-24T00:00:00+00:00",
          "2025-03-25T00:00:00+00:00",
          "2025-03-25T00:00:00+00:00",
          "2025-03-26T00:00:00+00:00",
          "2025-03-26T00:00:00+00:00",
          "2025-03-27T00:00:00+00:00",
          "2025-03-27T00:00:00+00:00",
          "2025-03-28T00:00:00+00:00",
          "2025-03-28T00:00:00+00:00",
          "2025-03-29T00:00:00+00:00",
          "2025-03-29T00:00:00+00:00",
          "2025-03-30T00:00:00+00:00",
          "2025-03-30T00:00:00+00:00",
          "2025-03-31T00:00:00+00:00",
          "2025-03-31T00:00:00+00:00",
          "2025-04-01T00:00:00+00:00",
          "2025-04-01T00:00:00+00:00",
          "2025-04-02T00:00:00+00:00",
          "2025-04-02T00:00:00+00:00",
          "2025-04-03T00:00:00+00:00",
          "2025-04-03T00:00:00+00:00",
          "2025-04-04T00:00:00+00:00",
          "2025-04-04T00:00:00+00:00",
          "2025-04-05T00:00:00+00:00",
          "2025-04-05T00:00:00+00:00",
          "2025-04-06T00:00:00+00:00",
          "2025-04-06T00:00:00+00:00",
          "2025-04-07T00:00:00+00:00",
          "2025-04-07T00:00:00+00:00"
         ],
         "y": {
          "bdata": "zczMzMzMKMAAAAAAAAAgwJqZmZmZmRnAZmZmZmZmJsBmZmZmZmYOwM3MzMzMzBTAzczMzMzMBMAAAAAAAAAMwGZmZmZmZv6/ZmZmZmZmAsAAAAAAAAAQQM3MzMzMzPy/MzMzMzMzE0AzMzMzMzMZQM3MzMzMzBhAMzMzMzMzD0AzMzMzMzMbQGZmZmZmZh5AmpmZmZmZEUAAAAAAAAAWQGZmZmZmZgJAmpmZmZmZEUCamZmZmZkNQM3MzMzMzPw/MzMzMzMz8z+amZmZmZkNQGZmZmZmZua/MzMzMzMz0z9mZmZmZmb+v2ZmZmZmZua/AAAAAAAAFsBmZmZmZmYCwAAAAAAAAATAMzMzMzMzFcCamZmZmZkTQM3MzMzMzOy/AAAAAAAACECamZmZmZkTQAAAAAAAAPg/ZmZmZmZmAkCamZmZmZnJPzMzMzMzM/M/mpmZmZmZAcAzMzMzMzPzv5qZmZmZmbm/MzMzMzMz878AAAAAAADgPwAAAAAAAOA/mpmZmZmZDcAAAAAAAADgv83MzMzMzBDAmpmZmZmZEcAzMzMzMzPzvwAAAAAAAAzAmpmZmZmZ2T+amZmZmZnZv5qZmZmZmQFAmpmZmZmZ8T8zMzMzMzMDQAAAAAAAAABAAAAAAAAA8L/NzMzMzMwAQGZmZmZmZua/mpmZmZmZ+b+amZmZmZm5P5qZmZmZmfG/ZmZmZmZm/j8zMzMzMzP7P2ZmZmZmZgbAMzMzMzMz0z8AAAAAAAD4v5qZmZmZmQXAzczMzMzMAMDNzMzMzMzsv5qZmZmZmQ3AZmZmZmZmDsBmZmZmZmYcwGZmZmZmZgbAZmZmZmZmDsBmZmZmZmYgwJqZmZmZmdm/ZmZmZmZm/r+amZmZmZm5v5qZmZmZmbm/MzMzMzMzFcAzMzMzMzPzv83MzMzMzBTAZmZmZmZmHMCamZmZmZkFQDMzMzMzM/u/ZmZmZmZmGEDNzMzMzMwQQGZmZmZmZg5AMzMzMzMzE0AAAAAAAAAcQAAAAAAAABRAZmZmZmZmEkAzMzMzMzMbQDMzMzMzMwdAZmZmZmZmCkCamZmZmZkBQJqZmZmZmQVAAAAAAAAABEAzMzMzMzMDQAAAAAAAAAhAAAAAAAAABEAzMzMzMzMRQGZmZmZmZgpAMzMzMzMzB0CamZmZmZkTQM3MzMzMzPQ/mpmZmZmZAUBmZmZmZmYCQAAAAAAAAPg/AAAAAAAAFkAAAAAAAAAQQJqZmZmZmRFAZmZmZmZmDkAAAAAAAAAMQAAAAAAAABRAzczMzMzM/D/NzMzMzMwEQJqZmZmZmcm/MzMzMzMz+z8AAAAAAAD4vzMzMzMzM/O/MzMzMzMzB8CamZmZmZkBwM3MzMzMzPS/MzMzMzMzA8BmZmZmZmbmvzMzMzMzM+O/ZmZmZmZm9j+amZmZmZm5v2ZmZmZmZva/ZmZmZmZm5j8AAAAAAAAAQM3MzMzMzOy/zczMzMzMEkBmZmZmZmYKQDMzMzMzMw9AMzMzMzMzE0AzMzMzMzMHQM3MzMzMzAhAZmZmZmZmAkAzMzMzMzMDQJqZmZmZmRtAMzMzMzMzB0AzMzMzMzMZQAAAAAAAAB5AzczMzMzMEkAAAAAAAAAaQGZmZmZmZgJAAAAAAAAAEECamZmZmZkNQJqZmZmZmQFAzczMzMzMFECamZmZmZkRQAAAAAAAABRAmpmZmZmZE0DNzMzMzMwMQDMzMzMzMxFAZmZmZmZm/j8zMzMzMzMLQJqZmZmZmQ1AAAAAAAAAAEDNzMzMzMweQJqZmZmZmRNAAAAAAAAAIkAAAAAAAAAgQDMzMzMzMw9AzczMzMzMIEAzMzMzMzP7P5qZmZmZmQlAMzMzMzMzB0CamZmZmZn5P2ZmZmZmZg5AzczMzMzMDECamZmZmZkRQM3MzMzMzAxA",
          "dtype": "f8"
         }
        },
        {
         "line": {
          "color": "#1f77b4",
          "dash": "dash"
         },
         "mode": "lines",
         "name": "Gjennomsnittstemperatur i Trondheim",
         "type": "scatter",
         "x": [
          "2025-01-08T00:00:00+00:00",
          "2025-01-08T00:00:00+00:00",
          "2025-01-09T00:00:00+00:00",
          "2025-01-09T00:00:00+00:00",
          "2025-01-10T00:00:00+00:00",
          "2025-01-10T00:00:00+00:00",
          "2025-01-11T00:00:00+00:00",
          "2025-01-11T00:00:00+00:00",
          "2025-01-12T00:00:00+00:00",
          "2025-01-12T00:00:00+00:00",
          "2025-01-13T00:00:00+00:00",
          "2025-01-13T00:00:00+00:00",
          "2025-01-14T00:00:00+00:00",
          "2025-01-14T00:00:00+00:00",
          "2025-01-15T00:00:00+00:00",
          "2025-01-15T00:00:00+00:00",
          "2025-01-16T00:00:00+00:00",
          "2025-01-16T00:00:00+00:00",
          "2025-01-17T00:00:00+00:00",
          "2025-01-17T00:00:00+00:00",
          "2025-01-18T00:00:00+00:00",
          "2025-01-18T00:00:00+00:00",
          "2025-01-19T00:00:00+00:00",
          "2025-01-19T00:00:00+00:00",
          "2025-01-20T00:00:00+00:00",
          "2025-01-20T00:00:00+00:00",
          "2025-01-21T00:00:00+00:00",
          "2025-01-21T00:00:00+00:00",
          "2025-01-22T00:00:00+00:00",
          "2025-01-22T00:00:00+00:00",
          "2025-01-23T00:00:00+00:00",
          "2025-01-23T00:00:00+00:00",
          "2025-01-24T00:00:00+00:00",
          "2025-01-24T00:00:00+00:00",
          "2025-01-25T00:00:00+00:00",
          "2025-01-25T00:00:00+00:00",
          "2025-01-26T00:00:00+00:00",
          "2025-01-26T00:00:00+00:00",
          "2025-01-27T00:00:00+00:00",
          "2025-01-27T00:00:00+00:00",
          "2025-01-28T00:00:00+00:00",
          "2025-01-28T00:00:00+00:00",
          "2025-01-29T00:00:00+00:00",
          "2025-01-29T00:00:00+00:00",
          "2025-01-30T00:00:00+00:00",
          "2025-01-30T00:00:00+00:00",
          "2025-01-31T00:00:00+00:00",
          "2025-01-31T00:00:00+00:00",
          "2025-02-01T00:00:00+00:00",
          "2025-02-01T00:00:00+00:00",
          "2025-02-02T00:00:00+00:00",
          "2025-02-02T00:00:00+00:00",
          "2025-02-03T00:00:00+00:00",
          "2025-02-03T00:00:00+00:00",
          "2025-02-04T00:00:00+00:00",
          "2025-02-04T00:00:00+00:00",
          "2025-02-05T00:00:00+00:00",
          "2025-02-05T00:00:00+00:00",
          "2025-02-06T00:00:00+00:00",
          "2025-02-06T00:00:00+00:00",
          "2025-02-07T00:00:00+00:00",
          "2025-02-07T00:00:00+00:00",
          "2025-02-08T00:00:00+00:00",
          "2025-02-08T00:00:00+00:00",
          "2025-02-09T00:00:00+00:00",
          "2025-02-09T00:00:00+00:00",
          "2025-02-10T00:00:00+00:00",
          "2025-02-10T00:00:00+00:00",
          "2025-02-11T00:00:00+00:00",
          "2025-02-11T00:00:00+00:00",
          "2025-02-12T00:00:00+00:00",
          "2025-02-12T00:00:00+00:00",
          "2025-02-13T00:00:00+00:00",
          "2025-02-13T00:00:00+00:00",
          "2025-02-14T00:00:00+00:00",
          "2025-02-14T00:00:00+00:00",
          "2025-02-15T00:00:00+00:00",
          "2025-02-15T00:00:00+00:00",
          "2025-02-16T00:00:00+00:00",
          "2025-02-16T00:00:00+00:00",
          "2025-02-17T00:00:00+00:00",
          "2025-02-17T00:00:00+00:00",
          "2025-02-18T00:00:00+00:00",
          "2025-02-18T00:00:00+00:00",
          "2025-02-19T00:00:00+00:00",
          "2025-02-19T00:00:00+00:00",
          "2025-02-20T00:00:00+00:00",
          "2025-02-20T00:00:00+00:00",
          "2025-02-21T00:00:00+00:00",
          "2025-02-21T00:00:00+00:00",
          "2025-02-22T00:00:00+00:00",
          "2025-02-22T00:00:00+00:00",
          "2025-02-23T00:00:00+00:00",
          "2025-02-23T00:00:00+00:00",
          "2025-02-24T00:00:00+00:00",
          "2025-02-24T00:00:00+00:00",
          "2025-02-25T00:00:00+00:00",
          "2025-02-25T00:00:00+00:00",
          "2025-02-26T00:00:00+00:00",
          "2025-02-26T00:00:00+00:00",
          "2025-02-27T00:00:00+00:00",
          "2025-02-27T00:00:00+00:00",
          "2025-02-28T00:00:00+00:00",
          "2025-02-28T00:00:00+00:00",
          "2025-03-01T00:00:00+00:00",
          "2025-03-01T00:00:00+00:00",
          "2025-03-02T00:00:00+00:00",
          "2025-03-02T00:00:00+00:00",
          "2025-03-03T00:00:00+00:00",
          "2025-03-03T00:00:00+00:00",
          "2025-03-04T00:00:00+00:00",
          "2025-03-04T00:00:00+00:00",
          "2025-03-05T00:00:00+00:00",
          "2025-03-05T00:00:00+00:00",
          "2025-03-06T00:00:00+00:00",
          "2025-03-06T00:00:00+00:00",
          "2025-03-07T00:00:00+00:00",
          "2025-03-07T00:00:00+00:00",
          "2025-03-08T00:00:00+00:00",
          "2025-03-08T00:00:00+00:00",
          "2025-03-09T00:00:00+00:00",
          "2025-03-09T00:00:00+00:00",
          "2025-03-10T00:00:00+00:00",
          "2025-03-10T00:00:00+00:00",
          "2025-03-11T00:00:00+00:00",
          "2025-03-11T00:00:00+00:00",
          "2025-03-12T00:00:00+00:00",
          "2025-03-12T00:00:00+00:00",
          "2025-03-13T00:00:00+00:00",
          "2025-03-13T00:00:00+00:00",
          "2025-03-14T00:00:00+00:00",
          "2025-03-14T00:00:00+00:00",
          "2025-03-15T00:00:00+00:00",
          "2025-03-15T00:00:00+00:00",
          "2025-03-16T00:00:00+00:00",
          "2025-03-16T00:00:00+00:00",
          "2025-03-17T00:00:00+00:00",
          "2025-03-17T00:00:00+00:00",
          "2025-03-18T00:00:00+00:00",
          "2025-03-18T00:00:00+00:00",
          "2025-03-19T00:00:00+00:00",
          "2025-03-19T00:00:00+00:00",
          "2025-03-20T00:00:00+00:00",
          "2025-03-20T00:00:00+00:00",
          "2025-03-21T00:00:00+00:00",
          "2025-03-21T00:00:00+00:00",
          "2025-03-22T00:00:00+00:00",
          "2025-03-22T00:00:00+00:00",
          "2025-03-23T00:00:00+00:00",
          "2025-03-23T00:00:00+00:00",
          "2025-03-24T00:00:00+00:00",
          "2025-03-24T00:00:00+00:00",
          "2025-03-25T00:00:00+00:00",
          "2025-03-25T00:00:00+00:00",
          "2025-03-26T00:00:00+00:00",
          "2025-03-26T00:00:00+00:00",
          "2025-03-27T00:00:00+00:00",
          "2025-03-27T00:00:00+00:00",
          "2025-03-28T00:00:00+00:00",
          "2025-03-28T00:00:00+00:00",
          "2025-03-29T00:00:00+00:00",
          "2025-03-29T00:00:00+00:00",
          "2025-03-30T00:00:00+00:00",
          "2025-03-30T00:00:00+00:00",
          "2025-03-31T00:00:00+00:00",
          "2025-03-31T00:00:00+00:00",
          "2025-04-01T00:00:00+00:00",
          "2025-04-01T00:00:00+00:00",
          "2025-04-02T00:00:00+00:00",
          "2025-04-02T00:00:00+00:00",
          "2025-04-03T00:00:00+00:00",
          "2025-04-03T00:00:00+00:00",
          "2025-04-04T00:00:00+00:00",
          "2025-04-04T00:00:00+00:00",
          "2025-04-05T00:00:00+00:00",
          "2025-04-05T00:00:00+00:00",
          "2025-04-06T00:00:00+00:00",
          "2025-04-06T00:00:00+00:00",
          "2025-04-07T00:00:00+00:00",
          "2025-04-07T00:00:00+00:00"
         ],
         "y": [
          1.2305555555555558,
          1.2305555555555558,
          1.2305555555555558,
          1.2305555555555558,
          1.2305555555555558,
          1.2305555555555558,
          1.2305555555555558,
          1.2305555555555558,
          1.2305555555555558,
          1.2305555555555558,
          1.2305555555555558,
          1.2305555555555558,
          1.2305555555555558,
          1.2305555555555558,
          1.2305555555555558,
          1.2305555555555558,
          1.2305555555555558,
          1.2305555555555558,
          1.2305555555555558,
          1.2305555555555558,
          1.2305555555555558,
          1.2305555555555558,
          1.2305555555555558,
          1.2305555555555558,
          1.2305555555555558,
          1.2305555555555558,
          1.2305555555555558,
          1.2305555555555558,
          1.2305555555555558,
          1.2305555555555558,
          1.2305555555555558,
          1.2305555555555558,
          1.2305555555555558,
          1.2305555555555558,
          1.2305555555555558,
          1.2305555555555558,
          1.2305555555555558,
          1.2305555555555558,
          1.2305555555555558,
          1.2305555555555558,
          1.2305555555555558,
          1.2305555555555558,
          1.2305555555555558,
          1.2305555555555558,
          1.2305555555555558,
          1.2305555555555558,
          1.2305555555555558,
          1.2305555555555558,
          1.2305555555555558,
          1.2305555555555558,
          1.2305555555555558,
          1.2305555555555558,
          1.2305555555555558,
          1.2305555555555558,
          1.2305555555555558,
          1.2305555555555558,
          1.2305555555555558,
          1.2305555555555558,
          1.2305555555555558,
          1.2305555555555558,
          1.2305555555555558,
          1.2305555555555558,
          1.2305555555555558,
          1.2305555555555558,
          1.2305555555555558,
          1.2305555555555558,
          1.2305555555555558,
          1.2305555555555558,
          1.2305555555555558,
          1.2305555555555558,
          1.2305555555555558,
          1.2305555555555558,
          1.2305555555555558,
          1.2305555555555558,
          1.2305555555555558,
          1.2305555555555558,
          1.2305555555555558,
          1.2305555555555558,
          1.2305555555555558,
          1.2305555555555558,
          1.2305555555555558,
          1.2305555555555558,
          1.2305555555555558,
          1.2305555555555558,
          1.2305555555555558,
          1.2305555555555558,
          1.2305555555555558,
          1.2305555555555558,
          1.2305555555555558,
          1.2305555555555558,
          1.2305555555555558,
          1.2305555555555558,
          1.2305555555555558,
          1.2305555555555558,
          1.2305555555555558,
          1.2305555555555558,
          1.2305555555555558,
          1.2305555555555558,
          1.2305555555555558,
          1.2305555555555558,
          1.2305555555555558,
          1.2305555555555558,
          1.2305555555555558,
          1.2305555555555558,
          1.2305555555555558,
          1.2305555555555558,
          1.2305555555555558,
          1.2305555555555558,
          1.2305555555555558,
          1.2305555555555558,
          1.2305555555555558,
          1.2305555555555558,
          1.2305555555555558,
          1.2305555555555558,
          1.2305555555555558,
          1.2305555555555558,
          1.2305555555555558,
          1.2305555555555558,
          1.2305555555555558,
          1.2305555555555558,
          1.2305555555555558,
          1.2305555555555558,
          1.2305555555555558,
          1.2305555555555558,
          1.2305555555555558,
          1.2305555555555558,
          1.2305555555555558,
          1.2305555555555558,
          1.2305555555555558,
          1.2305555555555558,
          1.2305555555555558,
          1.2305555555555558,
          1.2305555555555558,
          1.2305555555555558,
          1.2305555555555558,
          1.2305555555555558,
          1.2305555555555558,
          1.2305555555555558,
          1.2305555555555558,
          1.2305555555555558,
          1.2305555555555558,
          1.2305555555555558,
          1.2305555555555558,
          1.2305555555555558,
          1.2305555555555558,
          1.2305555555555558,
          1.2305555555555558,
          1.2305555555555558,
          1.2305555555555558,
          1.2305555555555558,
          1.2305555555555558,
          1.2305555555555558,
          1.2305555555555558,
          1.2305555555555558,
          1.2305555555555558,
          1.2305555555555558,
          1.2305555555555558,
          1.2305555555555558,
          1.2305555555555558,
          1.2305555555555558,
          1.2305555555555558,
          1.2305555555555558,
          1.2305555555555558,
          1.2305555555555558,
          1.2305555555555558,
          1.2305555555555558,
          1.2305555555555558,
          1.2305555555555558,
          1.2305555555555558,
          1.2305555555555558,
          1.2305555555555558,
          1.2305555555555558,
          1.2305555555555558,
          1.2305555555555558,
          1.2305555555555558,
          1.2305555555555558,
          1.2305555555555558,
          1.2305555555555558,
          1.2305555555555558,
          1.2305555555555558
         ]
        }
       ],
       "layout": {
        "legend": {
         "title": {
          "text": "Temperatur"
         }
        },
        "template": {
         "data": {
          "bar": [
           {
            "error_x": {
             "color": "#2a3f5f"
            },
            "error_y": {
             "color": "#2a3f5f"
            },
            "marker": {
             "line": {
              "color": "#E5ECF6",
              "width": 0.5
             },
             "pattern": {
              "fillmode": "overlay",
              "size": 10,
              "solidity": 0.2
             }
            },
            "type": "bar"
           }
          ],
          "barpolar": [
           {
            "marker": {
             "line": {
              "color": "#E5ECF6",
              "width": 0.5
             },
             "pattern": {
              "fillmode": "overlay",
              "size": 10,
              "solidity": 0.2
             }
            },
            "type": "barpolar"
           }
          ],
          "carpet": [
           {
            "aaxis": {
             "endlinecolor": "#2a3f5f",
             "gridcolor": "white",
             "linecolor": "white",
             "minorgridcolor": "white",
             "startlinecolor": "#2a3f5f"
            },
            "baxis": {
             "endlinecolor": "#2a3f5f",
             "gridcolor": "white",
             "linecolor": "white",
             "minorgridcolor": "white",
             "startlinecolor": "#2a3f5f"
            },
            "type": "carpet"
           }
          ],
          "choropleth": [
           {
            "colorbar": {
             "outlinewidth": 0,
             "ticks": ""
            },
            "type": "choropleth"
           }
          ],
          "contour": [
           {
            "colorbar": {
             "outlinewidth": 0,
             "ticks": ""
            },
            "colorscale": [
             [
              0,
              "#0d0887"
             ],
             [
              0.1111111111111111,
              "#46039f"
             ],
             [
              0.2222222222222222,
              "#7201a8"
             ],
             [
              0.3333333333333333,
              "#9c179e"
             ],
             [
              0.4444444444444444,
              "#bd3786"
             ],
             [
              0.5555555555555556,
              "#d8576b"
             ],
             [
              0.6666666666666666,
              "#ed7953"
             ],
             [
              0.7777777777777778,
              "#fb9f3a"
             ],
             [
              0.8888888888888888,
              "#fdca26"
             ],
             [
              1,
              "#f0f921"
             ]
            ],
            "type": "contour"
           }
          ],
          "contourcarpet": [
           {
            "colorbar": {
             "outlinewidth": 0,
             "ticks": ""
            },
            "type": "contourcarpet"
           }
          ],
          "heatmap": [
           {
            "colorbar": {
             "outlinewidth": 0,
             "ticks": ""
            },
            "colorscale": [
             [
              0,
              "#0d0887"
             ],
             [
              0.1111111111111111,
              "#46039f"
             ],
             [
              0.2222222222222222,
              "#7201a8"
             ],
             [
              0.3333333333333333,
              "#9c179e"
             ],
             [
              0.4444444444444444,
              "#bd3786"
             ],
             [
              0.5555555555555556,
              "#d8576b"
             ],
             [
              0.6666666666666666,
              "#ed7953"
             ],
             [
              0.7777777777777778,
              "#fb9f3a"
             ],
             [
              0.8888888888888888,
              "#fdca26"
             ],
             [
              1,
              "#f0f921"
             ]
            ],
            "type": "heatmap"
           }
          ],
          "histogram": [
           {
            "marker": {
             "pattern": {
              "fillmode": "overlay",
              "size": 10,
              "solidity": 0.2
             }
            },
            "type": "histogram"
           }
          ],
          "histogram2d": [
           {
            "colorbar": {
             "outlinewidth": 0,
             "ticks": ""
            },
            "colorscale": [
             [
              0,
              "#0d0887"
             ],
             [
              0.1111111111111111,
              "#46039f"
             ],
             [
              0.2222222222222222,
              "#7201a8"
             ],
             [
              0.3333333333333333,
              "#9c179e"
             ],
             [
              0.4444444444444444,
              "#bd3786"
             ],
             [
              0.5555555555555556,
              "#d8576b"
             ],
             [
              0.6666666666666666,
              "#ed7953"
             ],
             [
              0.7777777777777778,
              "#fb9f3a"
             ],
             [
              0.8888888888888888,
              "#fdca26"
             ],
             [
              1,
              "#f0f921"
             ]
            ],
            "type": "histogram2d"
           }
          ],
          "histogram2dcontour": [
           {
            "colorbar": {
             "outlinewidth": 0,
             "ticks": ""
            },
            "colorscale": [
             [
              0,
              "#0d0887"
             ],
             [
              0.1111111111111111,
              "#46039f"
             ],
             [
              0.2222222222222222,
              "#7201a8"
             ],
             [
              0.3333333333333333,
              "#9c179e"
             ],
             [
              0.4444444444444444,
              "#bd3786"
             ],
             [
              0.5555555555555556,
              "#d8576b"
             ],
             [
              0.6666666666666666,
              "#ed7953"
             ],
             [
              0.7777777777777778,
              "#fb9f3a"
             ],
             [
              0.8888888888888888,
              "#fdca26"
             ],
             [
              1,
              "#f0f921"
             ]
            ],
            "type": "histogram2dcontour"
           }
          ],
          "mesh3d": [
           {
            "colorbar": {
             "outlinewidth": 0,
             "ticks": ""
            },
            "type": "mesh3d"
           }
          ],
          "parcoords": [
           {
            "line": {
             "colorbar": {
              "outlinewidth": 0,
              "ticks": ""
             }
            },
            "type": "parcoords"
           }
          ],
          "pie": [
           {
            "automargin": true,
            "type": "pie"
           }
          ],
          "scatter": [
           {
            "fillpattern": {
             "fillmode": "overlay",
             "size": 10,
             "solidity": 0.2
            },
            "type": "scatter"
           }
          ],
          "scatter3d": [
           {
            "line": {
             "colorbar": {
              "outlinewidth": 0,
              "ticks": ""
             }
            },
            "marker": {
             "colorbar": {
              "outlinewidth": 0,
              "ticks": ""
             }
            },
            "type": "scatter3d"
           }
          ],
          "scattercarpet": [
           {
            "marker": {
             "colorbar": {
              "outlinewidth": 0,
              "ticks": ""
             }
            },
            "type": "scattercarpet"
           }
          ],
          "scattergeo": [
           {
            "marker": {
             "colorbar": {
              "outlinewidth": 0,
              "ticks": ""
             }
            },
            "type": "scattergeo"
           }
          ],
          "scattergl": [
           {
            "marker": {
             "colorbar": {
              "outlinewidth": 0,
              "ticks": ""
             }
            },
            "type": "scattergl"
           }
          ],
          "scattermap": [
           {
            "marker": {
             "colorbar": {
              "outlinewidth": 0,
              "ticks": ""
             }
            },
            "type": "scattermap"
           }
          ],
          "scattermapbox": [
           {
            "marker": {
             "colorbar": {
              "outlinewidth": 0,
              "ticks": ""
             }
            },
            "type": "scattermapbox"
           }
          ],
          "scatterpolar": [
           {
            "marker": {
             "colorbar": {
              "outlinewidth": 0,
              "ticks": ""
             }
            },
            "type": "scatterpolar"
           }
          ],
          "scatterpolargl": [
           {
            "marker": {
             "colorbar": {
              "outlinewidth": 0,
              "ticks": ""
             }
            },
            "type": "scatterpolargl"
           }
          ],
          "scatterternary": [
           {
            "marker": {
             "colorbar": {
              "outlinewidth": 0,
              "ticks": ""
             }
            },
            "type": "scatterternary"
           }
          ],
          "surface": [
           {
            "colorbar": {
             "outlinewidth": 0,
             "ticks": ""
            },
            "colorscale": [
             [
              0,
              "#0d0887"
             ],
             [
              0.1111111111111111,
              "#46039f"
             ],
             [
              0.2222222222222222,
              "#7201a8"
             ],
             [
              0.3333333333333333,
              "#9c179e"
             ],
             [
              0.4444444444444444,
              "#bd3786"
             ],
             [
              0.5555555555555556,
              "#d8576b"
             ],
             [
              0.6666666666666666,
              "#ed7953"
             ],
             [
              0.7777777777777778,
              "#fb9f3a"
             ],
             [
              0.8888888888888888,
              "#fdca26"
             ],
             [
              1,
              "#f0f921"
             ]
            ],
            "type": "surface"
           }
          ],
          "table": [
           {
            "cells": {
             "fill": {
              "color": "#EBF0F8"
             },
             "line": {
              "color": "white"
             }
            },
            "header": {
             "fill": {
              "color": "#C8D4E3"
             },
             "line": {
              "color": "white"
             }
            },
            "type": "table"
           }
          ]
         },
         "layout": {
          "annotationdefaults": {
           "arrowcolor": "#2a3f5f",
           "arrowhead": 0,
           "arrowwidth": 1
          },
          "autotypenumbers": "strict",
          "coloraxis": {
           "colorbar": {
            "outlinewidth": 0,
            "ticks": ""
           }
          },
          "colorscale": {
           "diverging": [
            [
             0,
             "#8e0152"
            ],
            [
             0.1,
             "#c51b7d"
            ],
            [
             0.2,
             "#de77ae"
            ],
            [
             0.3,
             "#f1b6da"
            ],
            [
             0.4,
             "#fde0ef"
            ],
            [
             0.5,
             "#f7f7f7"
            ],
            [
             0.6,
             "#e6f5d0"
            ],
            [
             0.7,
             "#b8e186"
            ],
            [
             0.8,
             "#7fbc41"
            ],
            [
             0.9,
             "#4d9221"
            ],
            [
             1,
             "#276419"
            ]
           ],
           "sequential": [
            [
             0,
             "#0d0887"
            ],
            [
             0.1111111111111111,
             "#46039f"
            ],
            [
             0.2222222222222222,
             "#7201a8"
            ],
            [
             0.3333333333333333,
             "#9c179e"
            ],
            [
             0.4444444444444444,
             "#bd3786"
            ],
            [
             0.5555555555555556,
             "#d8576b"
            ],
            [
             0.6666666666666666,
             "#ed7953"
            ],
            [
             0.7777777777777778,
             "#fb9f3a"
            ],
            [
             0.8888888888888888,
             "#fdca26"
            ],
            [
             1,
             "#f0f921"
            ]
           ],
           "sequentialminus": [
            [
             0,
             "#0d0887"
            ],
            [
             0.1111111111111111,
             "#46039f"
            ],
            [
             0.2222222222222222,
             "#7201a8"
            ],
            [
             0.3333333333333333,
             "#9c179e"
            ],
            [
             0.4444444444444444,
             "#bd3786"
            ],
            [
             0.5555555555555556,
             "#d8576b"
            ],
            [
             0.6666666666666666,
             "#ed7953"
            ],
            [
             0.7777777777777778,
             "#fb9f3a"
            ],
            [
             0.8888888888888888,
             "#fdca26"
            ],
            [
             1,
             "#f0f921"
            ]
           ]
          },
          "colorway": [
           "#636efa",
           "#EF553B",
           "#00cc96",
           "#ab63fa",
           "#FFA15A",
           "#19d3f3",
           "#FF6692",
           "#B6E880",
           "#FF97FF",
           "#FECB52"
          ],
          "font": {
           "color": "#2a3f5f"
          },
          "geo": {
           "bgcolor": "white",
           "lakecolor": "white",
           "landcolor": "#E5ECF6",
           "showlakes": true,
           "showland": true,
           "subunitcolor": "white"
          },
          "hoverlabel": {
           "align": "left"
          },
          "hovermode": "closest",
          "mapbox": {
           "style": "light"
          },
          "paper_bgcolor": "white",
          "plot_bgcolor": "#E5ECF6",
          "polar": {
           "angularaxis": {
            "gridcolor": "white",
            "linecolor": "white",
            "ticks": ""
           },
           "bgcolor": "#E5ECF6",
           "radialaxis": {
            "gridcolor": "white",
            "linecolor": "white",
            "ticks": ""
           }
          },
          "scene": {
           "xaxis": {
            "backgroundcolor": "#E5ECF6",
            "gridcolor": "white",
            "gridwidth": 2,
            "linecolor": "white",
            "showbackground": true,
            "ticks": "",
            "zerolinecolor": "white"
           },
           "yaxis": {
            "backgroundcolor": "#E5ECF6",
            "gridcolor": "white",
            "gridwidth": 2,
            "linecolor": "white",
            "showbackground": true,
            "ticks": "",
            "zerolinecolor": "white"
           },
           "zaxis": {
            "backgroundcolor": "#E5ECF6",
            "gridcolor": "white",
            "gridwidth": 2,
            "linecolor": "white",
            "showbackground": true,
            "ticks": "",
            "zerolinecolor": "white"
           }
          },
          "shapedefaults": {
           "line": {
            "color": "#2a3f5f"
           }
          },
          "ternary": {
           "aaxis": {
            "gridcolor": "white",
            "linecolor": "white",
            "ticks": ""
           },
           "baxis": {
            "gridcolor": "white",
            "linecolor": "white",
            "ticks": ""
           },
           "bgcolor": "#E5ECF6",
           "caxis": {
            "gridcolor": "white",
            "linecolor": "white",
            "ticks": ""
           }
          },
          "title": {
           "x": 0.05
          },
          "xaxis": {
           "automargin": true,
           "gridcolor": "white",
           "linecolor": "white",
           "ticks": "",
           "title": {
            "standoff": 15
           },
           "zerolinecolor": "white",
           "zerolinewidth": 2
          },
          "yaxis": {
           "automargin": true,
           "gridcolor": "white",
           "linecolor": "white",
           "ticks": "",
           "title": {
            "standoff": 15
           },
           "zerolinecolor": "white",
           "zerolinewidth": 2
          }
         }
        },
        "title": {
         "text": "Temperatur over tid i Trondheim"
        },
        "xaxis": {
         "title": {
          "text": "Dato"
         }
        },
        "yaxis": {
         "title": {
          "text": "Temperatur (°C)"
         }
        }
       }
      }
     },
     "metadata": {},
     "output_type": "display_data"
    },
    {
     "name": "stdout",
     "output_type": "stream",
     "text": [
      "Temperatur:\n",
      "Median: 2.00, Standardavvik: 3.76\n"
     ]
    },
    {
     "data": {
      "application/vnd.plotly.v1+json": {
       "config": {
        "plotlyServerURL": "https://plot.ly"
       },
       "data": [
        {
         "marker": {
          "color": "#1f77b4"
         },
         "name": "Nedbør i Trondheim",
         "type": "bar",
         "x": [
          "2025-01-08T00:00:00+00:00",
          "2025-01-08T00:00:00+00:00",
          "2025-01-09T00:00:00+00:00",
          "2025-01-09T00:00:00+00:00",
          "2025-01-10T00:00:00+00:00",
          "2025-01-10T00:00:00+00:00",
          "2025-01-11T00:00:00+00:00",
          "2025-01-11T00:00:00+00:00",
          "2025-01-12T00:00:00+00:00",
          "2025-01-12T00:00:00+00:00",
          "2025-01-13T00:00:00+00:00",
          "2025-01-13T00:00:00+00:00",
          "2025-01-14T00:00:00+00:00",
          "2025-01-14T00:00:00+00:00",
          "2025-01-15T00:00:00+00:00",
          "2025-01-15T00:00:00+00:00",
          "2025-01-16T00:00:00+00:00",
          "2025-01-16T00:00:00+00:00",
          "2025-01-17T00:00:00+00:00",
          "2025-01-17T00:00:00+00:00",
          "2025-01-18T00:00:00+00:00",
          "2025-01-18T00:00:00+00:00",
          "2025-01-19T00:00:00+00:00",
          "2025-01-19T00:00:00+00:00",
          "2025-01-20T00:00:00+00:00",
          "2025-01-20T00:00:00+00:00",
          "2025-01-21T00:00:00+00:00",
          "2025-01-21T00:00:00+00:00",
          "2025-01-22T00:00:00+00:00",
          "2025-01-22T00:00:00+00:00",
          "2025-01-23T00:00:00+00:00",
          "2025-01-23T00:00:00+00:00",
          "2025-01-24T00:00:00+00:00",
          "2025-01-24T00:00:00+00:00",
          "2025-01-25T00:00:00+00:00",
          "2025-01-25T00:00:00+00:00",
          "2025-01-26T00:00:00+00:00",
          "2025-01-26T00:00:00+00:00",
          "2025-01-27T00:00:00+00:00",
          "2025-01-27T00:00:00+00:00",
          "2025-01-28T00:00:00+00:00",
          "2025-01-28T00:00:00+00:00",
          "2025-01-29T00:00:00+00:00",
          "2025-01-29T00:00:00+00:00",
          "2025-01-30T00:00:00+00:00",
          "2025-01-30T00:00:00+00:00",
          "2025-01-31T00:00:00+00:00",
          "2025-01-31T00:00:00+00:00",
          "2025-02-01T00:00:00+00:00",
          "2025-02-01T00:00:00+00:00",
          "2025-02-02T00:00:00+00:00",
          "2025-02-02T00:00:00+00:00",
          "2025-02-03T00:00:00+00:00",
          "2025-02-03T00:00:00+00:00",
          "2025-02-04T00:00:00+00:00",
          "2025-02-04T00:00:00+00:00",
          "2025-02-05T00:00:00+00:00",
          "2025-02-05T00:00:00+00:00",
          "2025-02-06T00:00:00+00:00",
          "2025-02-06T00:00:00+00:00",
          "2025-02-07T00:00:00+00:00",
          "2025-02-07T00:00:00+00:00",
          "2025-02-08T00:00:00+00:00",
          "2025-02-08T00:00:00+00:00",
          "2025-02-09T00:00:00+00:00",
          "2025-02-09T00:00:00+00:00",
          "2025-02-10T00:00:00+00:00",
          "2025-02-10T00:00:00+00:00",
          "2025-02-11T00:00:00+00:00",
          "2025-02-11T00:00:00+00:00",
          "2025-02-12T00:00:00+00:00",
          "2025-02-12T00:00:00+00:00",
          "2025-02-13T00:00:00+00:00",
          "2025-02-13T00:00:00+00:00",
          "2025-02-14T00:00:00+00:00",
          "2025-02-14T00:00:00+00:00",
          "2025-02-15T00:00:00+00:00",
          "2025-02-15T00:00:00+00:00",
          "2025-02-16T00:00:00+00:00",
          "2025-02-16T00:00:00+00:00",
          "2025-02-17T00:00:00+00:00",
          "2025-02-17T00:00:00+00:00",
          "2025-02-18T00:00:00+00:00",
          "2025-02-18T00:00:00+00:00",
          "2025-02-19T00:00:00+00:00",
          "2025-02-19T00:00:00+00:00",
          "2025-02-20T00:00:00+00:00",
          "2025-02-20T00:00:00+00:00",
          "2025-02-21T00:00:00+00:00",
          "2025-02-21T00:00:00+00:00",
          "2025-02-22T00:00:00+00:00",
          "2025-02-22T00:00:00+00:00",
          "2025-02-23T00:00:00+00:00",
          "2025-02-23T00:00:00+00:00",
          "2025-02-24T00:00:00+00:00",
          "2025-02-24T00:00:00+00:00",
          "2025-02-25T00:00:00+00:00",
          "2025-02-25T00:00:00+00:00",
          "2025-02-26T00:00:00+00:00",
          "2025-02-26T00:00:00+00:00",
          "2025-02-27T00:00:00+00:00",
          "2025-02-27T00:00:00+00:00",
          "2025-02-28T00:00:00+00:00",
          "2025-02-28T00:00:00+00:00",
          "2025-03-01T00:00:00+00:00",
          "2025-03-01T00:00:00+00:00",
          "2025-03-02T00:00:00+00:00",
          "2025-03-02T00:00:00+00:00",
          "2025-03-03T00:00:00+00:00",
          "2025-03-03T00:00:00+00:00",
          "2025-03-04T00:00:00+00:00",
          "2025-03-04T00:00:00+00:00",
          "2025-03-05T00:00:00+00:00",
          "2025-03-05T00:00:00+00:00",
          "2025-03-06T00:00:00+00:00",
          "2025-03-06T00:00:00+00:00",
          "2025-03-07T00:00:00+00:00",
          "2025-03-07T00:00:00+00:00",
          "2025-03-08T00:00:00+00:00",
          "2025-03-08T00:00:00+00:00",
          "2025-03-09T00:00:00+00:00",
          "2025-03-09T00:00:00+00:00",
          "2025-03-10T00:00:00+00:00",
          "2025-03-10T00:00:00+00:00",
          "2025-03-11T00:00:00+00:00",
          "2025-03-11T00:00:00+00:00",
          "2025-03-12T00:00:00+00:00",
          "2025-03-12T00:00:00+00:00",
          "2025-03-13T00:00:00+00:00",
          "2025-03-13T00:00:00+00:00",
          "2025-03-14T00:00:00+00:00",
          "2025-03-14T00:00:00+00:00",
          "2025-03-15T00:00:00+00:00",
          "2025-03-15T00:00:00+00:00",
          "2025-03-16T00:00:00+00:00",
          "2025-03-16T00:00:00+00:00",
          "2025-03-17T00:00:00+00:00",
          "2025-03-17T00:00:00+00:00",
          "2025-03-18T00:00:00+00:00",
          "2025-03-18T00:00:00+00:00",
          "2025-03-19T00:00:00+00:00",
          "2025-03-19T00:00:00+00:00",
          "2025-03-20T00:00:00+00:00",
          "2025-03-20T00:00:00+00:00",
          "2025-03-21T00:00:00+00:00",
          "2025-03-21T00:00:00+00:00",
          "2025-03-22T00:00:00+00:00",
          "2025-03-22T00:00:00+00:00",
          "2025-03-23T00:00:00+00:00",
          "2025-03-23T00:00:00+00:00",
          "2025-03-24T00:00:00+00:00",
          "2025-03-24T00:00:00+00:00",
          "2025-03-25T00:00:00+00:00",
          "2025-03-25T00:00:00+00:00",
          "2025-03-26T00:00:00+00:00",
          "2025-03-26T00:00:00+00:00",
          "2025-03-27T00:00:00+00:00",
          "2025-03-27T00:00:00+00:00",
          "2025-03-28T00:00:00+00:00",
          "2025-03-28T00:00:00+00:00",
          "2025-03-29T00:00:00+00:00",
          "2025-03-29T00:00:00+00:00",
          "2025-03-30T00:00:00+00:00",
          "2025-03-30T00:00:00+00:00",
          "2025-03-31T00:00:00+00:00",
          "2025-03-31T00:00:00+00:00",
          "2025-04-01T00:00:00+00:00",
          "2025-04-01T00:00:00+00:00",
          "2025-04-02T00:00:00+00:00",
          "2025-04-02T00:00:00+00:00",
          "2025-04-03T00:00:00+00:00",
          "2025-04-03T00:00:00+00:00",
          "2025-04-04T00:00:00+00:00",
          "2025-04-04T00:00:00+00:00",
          "2025-04-05T00:00:00+00:00",
          "2025-04-05T00:00:00+00:00",
          "2025-04-06T00:00:00+00:00",
          "2025-04-06T00:00:00+00:00",
          "2025-04-07T00:00:00+00:00",
          "2025-04-07T00:00:00+00:00"
         ],
         "y": {
          "bdata": "AAAAAAAAAAAAAAAAAAAAAAAAAAAAAAAAAAAAAAAAAACamZmZmZnZP5qZmZmZmdk/AAAAAAAAAAAAAAAAAAAAAAAAAAAAAAAAAAAAAAAAAABmZmZmZmbmPzMzMzMzM9M/AAAAAAAALkAAAAAAAAAcQM3MzMzMzBZAAAAAAAAAJ0AAAAAAAAAYQJqZmZmZmRtAmpmZmZmZBUCamZmZmZkRQDMzMzMzM9M/mpmZmZmZyT8zMzMzMzPzP5qZmZmZmbk/AAAAAAAA+D+amZmZmZkFQAAAAAAAABBAAAAAAAAAAAAAAAAAAAAUQAAAAAAAACJAAAAAAAAAAAAAAAAAAAAAAAAAAAAAAAAAAAAAAAAAAAAAAAAAAAAAAAAAAAAAAAAAZmZmZmZm5j9mZmZmZmbmPwAAAAAAAAAAAAAAAAAAAAAAAAAAAAAAAAAAAAAAAAAAAAAAAAAAAAAAAAAAAAAAAAAAAAAAAAAAAAAAAAAAAABmZmZmZmYQQDMzMzMzM/M/zczMzMzM7D9mZmZmZmYOQAAAAAAAAAAAAAAAAAAAAACamZmZmZm5P5qZmZmZmbk/MzMzMzMzJEBmZmZmZmYOQDMzMzMzMydAAAAAAAAAKUCamZmZmZm5P2ZmZmZmZhZAAAAAAAAAAAAAAAAAAAAAAAAAAAAAAAAAAAAAAAAAAACamZmZmZnxP5qZmZmZmfE/AAAAAAAAAAAAAAAAAAAAAAAAAAAAAAAAAAAAAAAAAAAAAAAAAAAAAAAAAAAAAAAAAAAAAAAAAAAAAAAAAAAAADMzMzMzM+M/AAAAAAAAAAAAAAAAAAAAADMzMzMzM+M/zczMzMzMEEAAAAAAAAAAAJqZmZmZmSRAMzMzMzMzIkCamZmZmZkqQGZmZmZmZi5AmpmZmZmZyT+amZmZmZkNQAAAAAAAAAAAAAAAAAAAAAAzMzMzMzP7PzMzMzMzM/s/mpmZmZmZyT+amZmZmZnJPwAAAAAAAAAAmpmZmZmZyT+amZmZmZnZP5qZmZmZmdk/AAAAAAAAAAAAAAAAAAAAADMzMzMzM9M/mpmZmZmZuT8zMzMzMzPTPwAAAAAAAOA/MzMzMzMzD0CamZmZmZm5PzMzMzMzMx1AMzMzMzMzJkCamZmZmRlLQGZmZmZm5j9AmpmZmZmZMECamZmZmRk8QJqZmZmZGTVAZmZmZmbmMkAzMzMzM/NCQM3MzMzMzDdAZmZmZmbmNUAAAAAAAIBIQDMzMzMzM+M/MzMzMzMz4z8AAAAAAAAAAAAAAAAAAAAAAAAAAAAA4D8zMzMzMzPTPwAAAAAAAAAAmpmZmZmZyT8AAAAAAAAAAAAAAAAAAAAAAAAAAAAAAAAAAAAAAAAAADMzMzMzM+M/AAAAAAAAAACamZmZmZkZQM3MzMzMzBhAZmZmZmZmIEBmZmZmZmb2P5qZmZmZmRtAZmZmZmZmJUAzMzMzMzMlQAAAAAAAABpAzczMzMzMCEAAAAAAAAAmQGZmZmZmZi9AzczMzMzMJECamZmZmZnxP83MzMzMzCBAmpmZmZmZuT8zMzMzMzPzPwAAAAAAAAAAAAAAAAAAAAAAAAAAAAAAAAAAAAAAAAAAZmZmZmZmGEAAAAAAAAAAAGZmZmZmZiBAzczMzMzMIUDNzMzMzMwnQM3MzMzMzCJAMzMzMzMzH0CamZmZmZkqQJqZmZmZmfE/ZmZmZmZmCkCamZmZmZm5P5qZmZmZmck/ZmZmZmZm9j+amZmZmZm5PwAAAAAAAAAAZmZmZmZm9j8zMzMzMzP7PwAAAAAAAPA/AAAAAAAAAABmZmZmZmbmP83MzMzMzAxAAAAAAAAAAADNzMzMzMwWQDMzMzMzMxVAAAAAAAAAAEAzMzMzMzMXQAAAAAAAABhAmpmZmZmZyT8AAAAAAADwPwAAAAAAABxA",
          "dtype": "f8"
         }
        },
        {
         "line": {
          "color": "rgba(31, 119, 180, 0.8)",
          "dash": "dash"
         },
         "mode": "lines",
         "name": "Gjennomsnittsnedbør i Trondheim",
         "type": "scatter",
         "x": [
          "2025-01-08T00:00:00+00:00",
          "2025-01-08T00:00:00+00:00",
          "2025-01-09T00:00:00+00:00",
          "2025-01-09T00:00:00+00:00",
          "2025-01-10T00:00:00+00:00",
          "2025-01-10T00:00:00+00:00",
          "2025-01-11T00:00:00+00:00",
          "2025-01-11T00:00:00+00:00",
          "2025-01-12T00:00:00+00:00",
          "2025-01-12T00:00:00+00:00",
          "2025-01-13T00:00:00+00:00",
          "2025-01-13T00:00:00+00:00",
          "2025-01-14T00:00:00+00:00",
          "2025-01-14T00:00:00+00:00",
          "2025-01-15T00:00:00+00:00",
          "2025-01-15T00:00:00+00:00",
          "2025-01-16T00:00:00+00:00",
          "2025-01-16T00:00:00+00:00",
          "2025-01-17T00:00:00+00:00",
          "2025-01-17T00:00:00+00:00",
          "2025-01-18T00:00:00+00:00",
          "2025-01-18T00:00:00+00:00",
          "2025-01-19T00:00:00+00:00",
          "2025-01-19T00:00:00+00:00",
          "2025-01-20T00:00:00+00:00",
          "2025-01-20T00:00:00+00:00",
          "2025-01-21T00:00:00+00:00",
          "2025-01-21T00:00:00+00:00",
          "2025-01-22T00:00:00+00:00",
          "2025-01-22T00:00:00+00:00",
          "2025-01-23T00:00:00+00:00",
          "2025-01-23T00:00:00+00:00",
          "2025-01-24T00:00:00+00:00",
          "2025-01-24T00:00:00+00:00",
          "2025-01-25T00:00:00+00:00",
          "2025-01-25T00:00:00+00:00",
          "2025-01-26T00:00:00+00:00",
          "2025-01-26T00:00:00+00:00",
          "2025-01-27T00:00:00+00:00",
          "2025-01-27T00:00:00+00:00",
          "2025-01-28T00:00:00+00:00",
          "2025-01-28T00:00:00+00:00",
          "2025-01-29T00:00:00+00:00",
          "2025-01-29T00:00:00+00:00",
          "2025-01-30T00:00:00+00:00",
          "2025-01-30T00:00:00+00:00",
          "2025-01-31T00:00:00+00:00",
          "2025-01-31T00:00:00+00:00",
          "2025-02-01T00:00:00+00:00",
          "2025-02-01T00:00:00+00:00",
          "2025-02-02T00:00:00+00:00",
          "2025-02-02T00:00:00+00:00",
          "2025-02-03T00:00:00+00:00",
          "2025-02-03T00:00:00+00:00",
          "2025-02-04T00:00:00+00:00",
          "2025-02-04T00:00:00+00:00",
          "2025-02-05T00:00:00+00:00",
          "2025-02-05T00:00:00+00:00",
          "2025-02-06T00:00:00+00:00",
          "2025-02-06T00:00:00+00:00",
          "2025-02-07T00:00:00+00:00",
          "2025-02-07T00:00:00+00:00",
          "2025-02-08T00:00:00+00:00",
          "2025-02-08T00:00:00+00:00",
          "2025-02-09T00:00:00+00:00",
          "2025-02-09T00:00:00+00:00",
          "2025-02-10T00:00:00+00:00",
          "2025-02-10T00:00:00+00:00",
          "2025-02-11T00:00:00+00:00",
          "2025-02-11T00:00:00+00:00",
          "2025-02-12T00:00:00+00:00",
          "2025-02-12T00:00:00+00:00",
          "2025-02-13T00:00:00+00:00",
          "2025-02-13T00:00:00+00:00",
          "2025-02-14T00:00:00+00:00",
          "2025-02-14T00:00:00+00:00",
          "2025-02-15T00:00:00+00:00",
          "2025-02-15T00:00:00+00:00",
          "2025-02-16T00:00:00+00:00",
          "2025-02-16T00:00:00+00:00",
          "2025-02-17T00:00:00+00:00",
          "2025-02-17T00:00:00+00:00",
          "2025-02-18T00:00:00+00:00",
          "2025-02-18T00:00:00+00:00",
          "2025-02-19T00:00:00+00:00",
          "2025-02-19T00:00:00+00:00",
          "2025-02-20T00:00:00+00:00",
          "2025-02-20T00:00:00+00:00",
          "2025-02-21T00:00:00+00:00",
          "2025-02-21T00:00:00+00:00",
          "2025-02-22T00:00:00+00:00",
          "2025-02-22T00:00:00+00:00",
          "2025-02-23T00:00:00+00:00",
          "2025-02-23T00:00:00+00:00",
          "2025-02-24T00:00:00+00:00",
          "2025-02-24T00:00:00+00:00",
          "2025-02-25T00:00:00+00:00",
          "2025-02-25T00:00:00+00:00",
          "2025-02-26T00:00:00+00:00",
          "2025-02-26T00:00:00+00:00",
          "2025-02-27T00:00:00+00:00",
          "2025-02-27T00:00:00+00:00",
          "2025-02-28T00:00:00+00:00",
          "2025-02-28T00:00:00+00:00",
          "2025-03-01T00:00:00+00:00",
          "2025-03-01T00:00:00+00:00",
          "2025-03-02T00:00:00+00:00",
          "2025-03-02T00:00:00+00:00",
          "2025-03-03T00:00:00+00:00",
          "2025-03-03T00:00:00+00:00",
          "2025-03-04T00:00:00+00:00",
          "2025-03-04T00:00:00+00:00",
          "2025-03-05T00:00:00+00:00",
          "2025-03-05T00:00:00+00:00",
          "2025-03-06T00:00:00+00:00",
          "2025-03-06T00:00:00+00:00",
          "2025-03-07T00:00:00+00:00",
          "2025-03-07T00:00:00+00:00",
          "2025-03-08T00:00:00+00:00",
          "2025-03-08T00:00:00+00:00",
          "2025-03-09T00:00:00+00:00",
          "2025-03-09T00:00:00+00:00",
          "2025-03-10T00:00:00+00:00",
          "2025-03-10T00:00:00+00:00",
          "2025-03-11T00:00:00+00:00",
          "2025-03-11T00:00:00+00:00",
          "2025-03-12T00:00:00+00:00",
          "2025-03-12T00:00:00+00:00",
          "2025-03-13T00:00:00+00:00",
          "2025-03-13T00:00:00+00:00",
          "2025-03-14T00:00:00+00:00",
          "2025-03-14T00:00:00+00:00",
          "2025-03-15T00:00:00+00:00",
          "2025-03-15T00:00:00+00:00",
          "2025-03-16T00:00:00+00:00",
          "2025-03-16T00:00:00+00:00",
          "2025-03-17T00:00:00+00:00",
          "2025-03-17T00:00:00+00:00",
          "2025-03-18T00:00:00+00:00",
          "2025-03-18T00:00:00+00:00",
          "2025-03-19T00:00:00+00:00",
          "2025-03-19T00:00:00+00:00",
          "2025-03-20T00:00:00+00:00",
          "2025-03-20T00:00:00+00:00",
          "2025-03-21T00:00:00+00:00",
          "2025-03-21T00:00:00+00:00",
          "2025-03-22T00:00:00+00:00",
          "2025-03-22T00:00:00+00:00",
          "2025-03-23T00:00:00+00:00",
          "2025-03-23T00:00:00+00:00",
          "2025-03-24T00:00:00+00:00",
          "2025-03-24T00:00:00+00:00",
          "2025-03-25T00:00:00+00:00",
          "2025-03-25T00:00:00+00:00",
          "2025-03-26T00:00:00+00:00",
          "2025-03-26T00:00:00+00:00",
          "2025-03-27T00:00:00+00:00",
          "2025-03-27T00:00:00+00:00",
          "2025-03-28T00:00:00+00:00",
          "2025-03-28T00:00:00+00:00",
          "2025-03-29T00:00:00+00:00",
          "2025-03-29T00:00:00+00:00",
          "2025-03-30T00:00:00+00:00",
          "2025-03-30T00:00:00+00:00",
          "2025-03-31T00:00:00+00:00",
          "2025-03-31T00:00:00+00:00",
          "2025-04-01T00:00:00+00:00",
          "2025-04-01T00:00:00+00:00",
          "2025-04-02T00:00:00+00:00",
          "2025-04-02T00:00:00+00:00",
          "2025-04-03T00:00:00+00:00",
          "2025-04-03T00:00:00+00:00",
          "2025-04-04T00:00:00+00:00",
          "2025-04-04T00:00:00+00:00",
          "2025-04-05T00:00:00+00:00",
          "2025-04-05T00:00:00+00:00",
          "2025-04-06T00:00:00+00:00",
          "2025-04-06T00:00:00+00:00",
          "2025-04-07T00:00:00+00:00",
          "2025-04-07T00:00:00+00:00"
         ],
         "y": [
          4.196666666666667,
          4.196666666666667,
          4.196666666666667,
          4.196666666666667,
          4.196666666666667,
          4.196666666666667,
          4.196666666666667,
          4.196666666666667,
          4.196666666666667,
          4.196666666666667,
          4.196666666666667,
          4.196666666666667,
          4.196666666666667,
          4.196666666666667,
          4.196666666666667,
          4.196666666666667,
          4.196666666666667,
          4.196666666666667,
          4.196666666666667,
          4.196666666666667,
          4.196666666666667,
          4.196666666666667,
          4.196666666666667,
          4.196666666666667,
          4.196666666666667,
          4.196666666666667,
          4.196666666666667,
          4.196666666666667,
          4.196666666666667,
          4.196666666666667,
          4.196666666666667,
          4.196666666666667,
          4.196666666666667,
          4.196666666666667,
          4.196666666666667,
          4.196666666666667,
          4.196666666666667,
          4.196666666666667,
          4.196666666666667,
          4.196666666666667,
          4.196666666666667,
          4.196666666666667,
          4.196666666666667,
          4.196666666666667,
          4.196666666666667,
          4.196666666666667,
          4.196666666666667,
          4.196666666666667,
          4.196666666666667,
          4.196666666666667,
          4.196666666666667,
          4.196666666666667,
          4.196666666666667,
          4.196666666666667,
          4.196666666666667,
          4.196666666666667,
          4.196666666666667,
          4.196666666666667,
          4.196666666666667,
          4.196666666666667,
          4.196666666666667,
          4.196666666666667,
          4.196666666666667,
          4.196666666666667,
          4.196666666666667,
          4.196666666666667,
          4.196666666666667,
          4.196666666666667,
          4.196666666666667,
          4.196666666666667,
          4.196666666666667,
          4.196666666666667,
          4.196666666666667,
          4.196666666666667,
          4.196666666666667,
          4.196666666666667,
          4.196666666666667,
          4.196666666666667,
          4.196666666666667,
          4.196666666666667,
          4.196666666666667,
          4.196666666666667,
          4.196666666666667,
          4.196666666666667,
          4.196666666666667,
          4.196666666666667,
          4.196666666666667,
          4.196666666666667,
          4.196666666666667,
          4.196666666666667,
          4.196666666666667,
          4.196666666666667,
          4.196666666666667,
          4.196666666666667,
          4.196666666666667,
          4.196666666666667,
          4.196666666666667,
          4.196666666666667,
          4.196666666666667,
          4.196666666666667,
          4.196666666666667,
          4.196666666666667,
          4.196666666666667,
          4.196666666666667,
          4.196666666666667,
          4.196666666666667,
          4.196666666666667,
          4.196666666666667,
          4.196666666666667,
          4.196666666666667,
          4.196666666666667,
          4.196666666666667,
          4.196666666666667,
          4.196666666666667,
          4.196666666666667,
          4.196666666666667,
          4.196666666666667,
          4.196666666666667,
          4.196666666666667,
          4.196666666666667,
          4.196666666666667,
          4.196666666666667,
          4.196666666666667,
          4.196666666666667,
          4.196666666666667,
          4.196666666666667,
          4.196666666666667,
          4.196666666666667,
          4.196666666666667,
          4.196666666666667,
          4.196666666666667,
          4.196666666666667,
          4.196666666666667,
          4.196666666666667,
          4.196666666666667,
          4.196666666666667,
          4.196666666666667,
          4.196666666666667,
          4.196666666666667,
          4.196666666666667,
          4.196666666666667,
          4.196666666666667,
          4.196666666666667,
          4.196666666666667,
          4.196666666666667,
          4.196666666666667,
          4.196666666666667,
          4.196666666666667,
          4.196666666666667,
          4.196666666666667,
          4.196666666666667,
          4.196666666666667,
          4.196666666666667,
          4.196666666666667,
          4.196666666666667,
          4.196666666666667,
          4.196666666666667,
          4.196666666666667,
          4.196666666666667,
          4.196666666666667,
          4.196666666666667,
          4.196666666666667,
          4.196666666666667,
          4.196666666666667,
          4.196666666666667,
          4.196666666666667,
          4.196666666666667,
          4.196666666666667,
          4.196666666666667,
          4.196666666666667,
          4.196666666666667,
          4.196666666666667,
          4.196666666666667,
          4.196666666666667,
          4.196666666666667,
          4.196666666666667,
          4.196666666666667,
          4.196666666666667,
          4.196666666666667,
          4.196666666666667
         ]
        }
       ],
       "layout": {
        "legend": {
         "title": {
          "text": "Nedbør"
         }
        },
        "template": {
         "data": {
          "bar": [
           {
            "error_x": {
             "color": "#2a3f5f"
            },
            "error_y": {
             "color": "#2a3f5f"
            },
            "marker": {
             "line": {
              "color": "#E5ECF6",
              "width": 0.5
             },
             "pattern": {
              "fillmode": "overlay",
              "size": 10,
              "solidity": 0.2
             }
            },
            "type": "bar"
           }
          ],
          "barpolar": [
           {
            "marker": {
             "line": {
              "color": "#E5ECF6",
              "width": 0.5
             },
             "pattern": {
              "fillmode": "overlay",
              "size": 10,
              "solidity": 0.2
             }
            },
            "type": "barpolar"
           }
          ],
          "carpet": [
           {
            "aaxis": {
             "endlinecolor": "#2a3f5f",
             "gridcolor": "white",
             "linecolor": "white",
             "minorgridcolor": "white",
             "startlinecolor": "#2a3f5f"
            },
            "baxis": {
             "endlinecolor": "#2a3f5f",
             "gridcolor": "white",
             "linecolor": "white",
             "minorgridcolor": "white",
             "startlinecolor": "#2a3f5f"
            },
            "type": "carpet"
           }
          ],
          "choropleth": [
           {
            "colorbar": {
             "outlinewidth": 0,
             "ticks": ""
            },
            "type": "choropleth"
           }
          ],
          "contour": [
           {
            "colorbar": {
             "outlinewidth": 0,
             "ticks": ""
            },
            "colorscale": [
             [
              0,
              "#0d0887"
             ],
             [
              0.1111111111111111,
              "#46039f"
             ],
             [
              0.2222222222222222,
              "#7201a8"
             ],
             [
              0.3333333333333333,
              "#9c179e"
             ],
             [
              0.4444444444444444,
              "#bd3786"
             ],
             [
              0.5555555555555556,
              "#d8576b"
             ],
             [
              0.6666666666666666,
              "#ed7953"
             ],
             [
              0.7777777777777778,
              "#fb9f3a"
             ],
             [
              0.8888888888888888,
              "#fdca26"
             ],
             [
              1,
              "#f0f921"
             ]
            ],
            "type": "contour"
           }
          ],
          "contourcarpet": [
           {
            "colorbar": {
             "outlinewidth": 0,
             "ticks": ""
            },
            "type": "contourcarpet"
           }
          ],
          "heatmap": [
           {
            "colorbar": {
             "outlinewidth": 0,
             "ticks": ""
            },
            "colorscale": [
             [
              0,
              "#0d0887"
             ],
             [
              0.1111111111111111,
              "#46039f"
             ],
             [
              0.2222222222222222,
              "#7201a8"
             ],
             [
              0.3333333333333333,
              "#9c179e"
             ],
             [
              0.4444444444444444,
              "#bd3786"
             ],
             [
              0.5555555555555556,
              "#d8576b"
             ],
             [
              0.6666666666666666,
              "#ed7953"
             ],
             [
              0.7777777777777778,
              "#fb9f3a"
             ],
             [
              0.8888888888888888,
              "#fdca26"
             ],
             [
              1,
              "#f0f921"
             ]
            ],
            "type": "heatmap"
           }
          ],
          "histogram": [
           {
            "marker": {
             "pattern": {
              "fillmode": "overlay",
              "size": 10,
              "solidity": 0.2
             }
            },
            "type": "histogram"
           }
          ],
          "histogram2d": [
           {
            "colorbar": {
             "outlinewidth": 0,
             "ticks": ""
            },
            "colorscale": [
             [
              0,
              "#0d0887"
             ],
             [
              0.1111111111111111,
              "#46039f"
             ],
             [
              0.2222222222222222,
              "#7201a8"
             ],
             [
              0.3333333333333333,
              "#9c179e"
             ],
             [
              0.4444444444444444,
              "#bd3786"
             ],
             [
              0.5555555555555556,
              "#d8576b"
             ],
             [
              0.6666666666666666,
              "#ed7953"
             ],
             [
              0.7777777777777778,
              "#fb9f3a"
             ],
             [
              0.8888888888888888,
              "#fdca26"
             ],
             [
              1,
              "#f0f921"
             ]
            ],
            "type": "histogram2d"
           }
          ],
          "histogram2dcontour": [
           {
            "colorbar": {
             "outlinewidth": 0,
             "ticks": ""
            },
            "colorscale": [
             [
              0,
              "#0d0887"
             ],
             [
              0.1111111111111111,
              "#46039f"
             ],
             [
              0.2222222222222222,
              "#7201a8"
             ],
             [
              0.3333333333333333,
              "#9c179e"
             ],
             [
              0.4444444444444444,
              "#bd3786"
             ],
             [
              0.5555555555555556,
              "#d8576b"
             ],
             [
              0.6666666666666666,
              "#ed7953"
             ],
             [
              0.7777777777777778,
              "#fb9f3a"
             ],
             [
              0.8888888888888888,
              "#fdca26"
             ],
             [
              1,
              "#f0f921"
             ]
            ],
            "type": "histogram2dcontour"
           }
          ],
          "mesh3d": [
           {
            "colorbar": {
             "outlinewidth": 0,
             "ticks": ""
            },
            "type": "mesh3d"
           }
          ],
          "parcoords": [
           {
            "line": {
             "colorbar": {
              "outlinewidth": 0,
              "ticks": ""
             }
            },
            "type": "parcoords"
           }
          ],
          "pie": [
           {
            "automargin": true,
            "type": "pie"
           }
          ],
          "scatter": [
           {
            "fillpattern": {
             "fillmode": "overlay",
             "size": 10,
             "solidity": 0.2
            },
            "type": "scatter"
           }
          ],
          "scatter3d": [
           {
            "line": {
             "colorbar": {
              "outlinewidth": 0,
              "ticks": ""
             }
            },
            "marker": {
             "colorbar": {
              "outlinewidth": 0,
              "ticks": ""
             }
            },
            "type": "scatter3d"
           }
          ],
          "scattercarpet": [
           {
            "marker": {
             "colorbar": {
              "outlinewidth": 0,
              "ticks": ""
             }
            },
            "type": "scattercarpet"
           }
          ],
          "scattergeo": [
           {
            "marker": {
             "colorbar": {
              "outlinewidth": 0,
              "ticks": ""
             }
            },
            "type": "scattergeo"
           }
          ],
          "scattergl": [
           {
            "marker": {
             "colorbar": {
              "outlinewidth": 0,
              "ticks": ""
             }
            },
            "type": "scattergl"
           }
          ],
          "scattermap": [
           {
            "marker": {
             "colorbar": {
              "outlinewidth": 0,
              "ticks": ""
             }
            },
            "type": "scattermap"
           }
          ],
          "scattermapbox": [
           {
            "marker": {
             "colorbar": {
              "outlinewidth": 0,
              "ticks": ""
             }
            },
            "type": "scattermapbox"
           }
          ],
          "scatterpolar": [
           {
            "marker": {
             "colorbar": {
              "outlinewidth": 0,
              "ticks": ""
             }
            },
            "type": "scatterpolar"
           }
          ],
          "scatterpolargl": [
           {
            "marker": {
             "colorbar": {
              "outlinewidth": 0,
              "ticks": ""
             }
            },
            "type": "scatterpolargl"
           }
          ],
          "scatterternary": [
           {
            "marker": {
             "colorbar": {
              "outlinewidth": 0,
              "ticks": ""
             }
            },
            "type": "scatterternary"
           }
          ],
          "surface": [
           {
            "colorbar": {
             "outlinewidth": 0,
             "ticks": ""
            },
            "colorscale": [
             [
              0,
              "#0d0887"
             ],
             [
              0.1111111111111111,
              "#46039f"
             ],
             [
              0.2222222222222222,
              "#7201a8"
             ],
             [
              0.3333333333333333,
              "#9c179e"
             ],
             [
              0.4444444444444444,
              "#bd3786"
             ],
             [
              0.5555555555555556,
              "#d8576b"
             ],
             [
              0.6666666666666666,
              "#ed7953"
             ],
             [
              0.7777777777777778,
              "#fb9f3a"
             ],
             [
              0.8888888888888888,
              "#fdca26"
             ],
             [
              1,
              "#f0f921"
             ]
            ],
            "type": "surface"
           }
          ],
          "table": [
           {
            "cells": {
             "fill": {
              "color": "#EBF0F8"
             },
             "line": {
              "color": "white"
             }
            },
            "header": {
             "fill": {
              "color": "#C8D4E3"
             },
             "line": {
              "color": "white"
             }
            },
            "type": "table"
           }
          ]
         },
         "layout": {
          "annotationdefaults": {
           "arrowcolor": "#2a3f5f",
           "arrowhead": 0,
           "arrowwidth": 1
          },
          "autotypenumbers": "strict",
          "coloraxis": {
           "colorbar": {
            "outlinewidth": 0,
            "ticks": ""
           }
          },
          "colorscale": {
           "diverging": [
            [
             0,
             "#8e0152"
            ],
            [
             0.1,
             "#c51b7d"
            ],
            [
             0.2,
             "#de77ae"
            ],
            [
             0.3,
             "#f1b6da"
            ],
            [
             0.4,
             "#fde0ef"
            ],
            [
             0.5,
             "#f7f7f7"
            ],
            [
             0.6,
             "#e6f5d0"
            ],
            [
             0.7,
             "#b8e186"
            ],
            [
             0.8,
             "#7fbc41"
            ],
            [
             0.9,
             "#4d9221"
            ],
            [
             1,
             "#276419"
            ]
           ],
           "sequential": [
            [
             0,
             "#0d0887"
            ],
            [
             0.1111111111111111,
             "#46039f"
            ],
            [
             0.2222222222222222,
             "#7201a8"
            ],
            [
             0.3333333333333333,
             "#9c179e"
            ],
            [
             0.4444444444444444,
             "#bd3786"
            ],
            [
             0.5555555555555556,
             "#d8576b"
            ],
            [
             0.6666666666666666,
             "#ed7953"
            ],
            [
             0.7777777777777778,
             "#fb9f3a"
            ],
            [
             0.8888888888888888,
             "#fdca26"
            ],
            [
             1,
             "#f0f921"
            ]
           ],
           "sequentialminus": [
            [
             0,
             "#0d0887"
            ],
            [
             0.1111111111111111,
             "#46039f"
            ],
            [
             0.2222222222222222,
             "#7201a8"
            ],
            [
             0.3333333333333333,
             "#9c179e"
            ],
            [
             0.4444444444444444,
             "#bd3786"
            ],
            [
             0.5555555555555556,
             "#d8576b"
            ],
            [
             0.6666666666666666,
             "#ed7953"
            ],
            [
             0.7777777777777778,
             "#fb9f3a"
            ],
            [
             0.8888888888888888,
             "#fdca26"
            ],
            [
             1,
             "#f0f921"
            ]
           ]
          },
          "colorway": [
           "#636efa",
           "#EF553B",
           "#00cc96",
           "#ab63fa",
           "#FFA15A",
           "#19d3f3",
           "#FF6692",
           "#B6E880",
           "#FF97FF",
           "#FECB52"
          ],
          "font": {
           "color": "#2a3f5f"
          },
          "geo": {
           "bgcolor": "white",
           "lakecolor": "white",
           "landcolor": "#E5ECF6",
           "showlakes": true,
           "showland": true,
           "subunitcolor": "white"
          },
          "hoverlabel": {
           "align": "left"
          },
          "hovermode": "closest",
          "mapbox": {
           "style": "light"
          },
          "paper_bgcolor": "white",
          "plot_bgcolor": "#E5ECF6",
          "polar": {
           "angularaxis": {
            "gridcolor": "white",
            "linecolor": "white",
            "ticks": ""
           },
           "bgcolor": "#E5ECF6",
           "radialaxis": {
            "gridcolor": "white",
            "linecolor": "white",
            "ticks": ""
           }
          },
          "scene": {
           "xaxis": {
            "backgroundcolor": "#E5ECF6",
            "gridcolor": "white",
            "gridwidth": 2,
            "linecolor": "white",
            "showbackground": true,
            "ticks": "",
            "zerolinecolor": "white"
           },
           "yaxis": {
            "backgroundcolor": "#E5ECF6",
            "gridcolor": "white",
            "gridwidth": 2,
            "linecolor": "white",
            "showbackground": true,
            "ticks": "",
            "zerolinecolor": "white"
           },
           "zaxis": {
            "backgroundcolor": "#E5ECF6",
            "gridcolor": "white",
            "gridwidth": 2,
            "linecolor": "white",
            "showbackground": true,
            "ticks": "",
            "zerolinecolor": "white"
           }
          },
          "shapedefaults": {
           "line": {
            "color": "#2a3f5f"
           }
          },
          "ternary": {
           "aaxis": {
            "gridcolor": "white",
            "linecolor": "white",
            "ticks": ""
           },
           "baxis": {
            "gridcolor": "white",
            "linecolor": "white",
            "ticks": ""
           },
           "bgcolor": "#E5ECF6",
           "caxis": {
            "gridcolor": "white",
            "linecolor": "white",
            "ticks": ""
           }
          },
          "title": {
           "x": 0.05
          },
          "xaxis": {
           "automargin": true,
           "gridcolor": "white",
           "linecolor": "white",
           "ticks": "",
           "title": {
            "standoff": 15
           },
           "zerolinecolor": "white",
           "zerolinewidth": 2
          },
          "yaxis": {
           "automargin": true,
           "gridcolor": "white",
           "linecolor": "white",
           "ticks": "",
           "title": {
            "standoff": 15
           },
           "zerolinecolor": "white",
           "zerolinewidth": 2
          }
         }
        },
        "title": {
         "text": "Nedbør over tid i Trondheim"
        },
        "xaxis": {
         "title": {
          "text": "Dato"
         }
        },
        "yaxis": {
         "title": {
          "text": "Nedbør (mm)"
         }
        }
       }
      }
     },
     "metadata": {},
     "output_type": "display_data"
    },
    {
     "name": "stdout",
     "output_type": "stream",
     "text": [
      "\n",
      "Nedbør:\n",
      "Median: 0.60, Standardavvik: 7.99\n"
     ]
    },
    {
     "data": {
      "application/vnd.plotly.v1+json": {
       "config": {
        "plotlyServerURL": "https://plot.ly"
       },
       "data": [
        {
         "line": {
          "color": "#1f77b4"
         },
         "mode": "lines",
         "name": "Vindhastighet i Trondheim",
         "type": "scatter",
         "x": [
          "2025-01-08T00:00:00+00:00",
          "2025-01-09T00:00:00+00:00",
          "2025-01-10T00:00:00+00:00",
          "2025-01-11T00:00:00+00:00",
          "2025-01-12T00:00:00+00:00",
          "2025-01-13T00:00:00+00:00",
          "2025-01-14T00:00:00+00:00",
          "2025-01-15T00:00:00+00:00",
          "2025-01-16T00:00:00+00:00",
          "2025-01-17T00:00:00+00:00",
          "2025-01-18T00:00:00+00:00",
          "2025-01-19T00:00:00+00:00",
          "2025-01-20T00:00:00+00:00",
          "2025-01-21T00:00:00+00:00",
          "2025-01-22T00:00:00+00:00",
          "2025-01-23T00:00:00+00:00",
          "2025-01-24T00:00:00+00:00",
          "2025-01-25T00:00:00+00:00",
          "2025-01-26T00:00:00+00:00",
          "2025-01-27T00:00:00+00:00",
          "2025-01-28T00:00:00+00:00",
          "2025-01-29T00:00:00+00:00",
          "2025-01-30T00:00:00+00:00",
          "2025-01-31T00:00:00+00:00",
          "2025-02-01T00:00:00+00:00",
          "2025-02-02T00:00:00+00:00",
          "2025-02-03T00:00:00+00:00",
          "2025-02-04T00:00:00+00:00",
          "2025-02-05T00:00:00+00:00",
          "2025-02-06T00:00:00+00:00",
          "2025-02-07T00:00:00+00:00",
          "2025-02-08T00:00:00+00:00",
          "2025-02-09T00:00:00+00:00",
          "2025-02-10T00:00:00+00:00",
          "2025-02-11T00:00:00+00:00",
          "2025-02-12T00:00:00+00:00",
          "2025-02-13T00:00:00+00:00",
          "2025-02-14T00:00:00+00:00",
          "2025-02-15T00:00:00+00:00",
          "2025-02-16T00:00:00+00:00",
          "2025-02-17T00:00:00+00:00",
          "2025-02-18T00:00:00+00:00",
          "2025-02-19T00:00:00+00:00",
          "2025-02-20T00:00:00+00:00",
          "2025-02-21T00:00:00+00:00",
          "2025-02-22T00:00:00+00:00",
          "2025-02-23T00:00:00+00:00",
          "2025-02-24T00:00:00+00:00",
          "2025-02-25T00:00:00+00:00",
          "2025-02-26T00:00:00+00:00",
          "2025-02-27T00:00:00+00:00",
          "2025-02-28T00:00:00+00:00",
          "2025-03-01T00:00:00+00:00",
          "2025-03-02T00:00:00+00:00",
          "2025-03-03T00:00:00+00:00",
          "2025-03-04T00:00:00+00:00",
          "2025-03-05T00:00:00+00:00",
          "2025-03-06T00:00:00+00:00",
          "2025-03-07T00:00:00+00:00",
          "2025-03-08T00:00:00+00:00",
          "2025-03-09T00:00:00+00:00",
          "2025-03-10T00:00:00+00:00",
          "2025-03-11T00:00:00+00:00",
          "2025-03-12T00:00:00+00:00",
          "2025-03-13T00:00:00+00:00",
          "2025-03-14T00:00:00+00:00",
          "2025-03-15T00:00:00+00:00",
          "2025-03-16T00:00:00+00:00",
          "2025-03-17T00:00:00+00:00",
          "2025-03-18T00:00:00+00:00",
          "2025-03-19T00:00:00+00:00",
          "2025-03-20T00:00:00+00:00",
          "2025-03-21T00:00:00+00:00",
          "2025-03-22T00:00:00+00:00",
          "2025-03-23T00:00:00+00:00",
          "2025-03-24T00:00:00+00:00",
          "2025-03-25T00:00:00+00:00",
          "2025-03-26T00:00:00+00:00",
          "2025-03-27T00:00:00+00:00",
          "2025-03-28T00:00:00+00:00",
          "2025-03-29T00:00:00+00:00",
          "2025-03-30T00:00:00+00:00",
          "2025-03-31T00:00:00+00:00",
          "2025-04-01T00:00:00+00:00",
          "2025-04-02T00:00:00+00:00",
          "2025-04-03T00:00:00+00:00",
          "2025-04-04T00:00:00+00:00",
          "2025-04-05T00:00:00+00:00",
          "2025-04-06T00:00:00+00:00",
          "2025-04-07T00:00:00+00:00"
         ],
         "y": {
          "bdata": "ZmZmZmZm9j/NzMzMzMzsP5qZmZmZmQFAzczMzMzMBEBmZmZmZmYKQM3MzMzMzAxAzczMzMzMCEAAAAAAAAAEQJqZmZmZmQ1AZmZmZmZmFEAAAAAAAAAEQM3MzMzMzARAzczMzMzM/D/NzMzMzMzsP5qZmZmZmfk/MzMzMzMz+z9mZmZmZmb+P83MzMzMzBZAzczMzMzMFkAzMzMzMzMPQM3MzMzMzABAMzMzMzMz8z+amZmZmZkBQDMzMzMzMwNAMzMzMzMz+z/NzMzMzMz8PzMzMzMzM/s/MzMzMzMz+z8zMzMzMzMLQDMzMzMzMwdAzczMzMzM9D9mZmZmZmYOQJqZmZmZmQlAmpmZmZmZBUCamZmZmZn5P5qZmZmZmfk/AAAAAAAAAEBmZmZmZmYCQJqZmZmZmQVAZmZmZmZmCkAzMzMzMzMDQJqZmZmZmQFAMzMzMzMz+z8zMzMzMzP7P5qZmZmZmQ1AzczMzMzMEEDNzMzMzMwEQDMzMzMzMxdAMzMzMzMzA0AzMzMzMzP7P83MzMzMzPw/ZmZmZmZmCkAAAAAAAAAMQDMzMzMzMxNAAAAAAAAAFkDNzMzMzMwMQJqZmZmZmQ1AzczMzMzMHEAzMzMzMzMLQGZmZmZmZg5AMzMzMzMzB0AAAAAAAAAAQJqZmZmZmfk/mpmZmZmZ+T8AAAAAAAAAQJqZmZmZmQVAAAAAAAAAGEAzMzMzMzMLQM3MzMzMzBJAmpmZmZmZGUAzMzMzMzMPQDMzMzMzMwNAMzMzMzMz+z8AAAAAAAAYQDMzMzMzMxVAmpmZmZmZEUCamZmZmZkBQJqZmZmZmQlAAAAAAAAABEAAAAAAAAD4P5qZmZmZmQFAAAAAAAAA+D+amZmZmZkBQDMzMzMzMwdAzczMzMzMAEAAAAAAAAAQQDMzMzMzMw9AzczMzMzMBEBmZmZmZmYKQJqZmZmZmfk/",
          "dtype": "f8"
         }
        },
        {
         "line": {
          "color": "#1f77b4",
          "dash": "dash"
         },
         "mode": "lines",
         "name": "Gjennomsnittsvindhastighet i Trondheim",
         "type": "scatter",
         "x": [
          "2025-01-08T00:00:00+00:00",
          "2025-01-09T00:00:00+00:00",
          "2025-01-10T00:00:00+00:00",
          "2025-01-11T00:00:00+00:00",
          "2025-01-12T00:00:00+00:00",
          "2025-01-13T00:00:00+00:00",
          "2025-01-14T00:00:00+00:00",
          "2025-01-15T00:00:00+00:00",
          "2025-01-16T00:00:00+00:00",
          "2025-01-17T00:00:00+00:00",
          "2025-01-18T00:00:00+00:00",
          "2025-01-19T00:00:00+00:00",
          "2025-01-20T00:00:00+00:00",
          "2025-01-21T00:00:00+00:00",
          "2025-01-22T00:00:00+00:00",
          "2025-01-23T00:00:00+00:00",
          "2025-01-24T00:00:00+00:00",
          "2025-01-25T00:00:00+00:00",
          "2025-01-26T00:00:00+00:00",
          "2025-01-27T00:00:00+00:00",
          "2025-01-28T00:00:00+00:00",
          "2025-01-29T00:00:00+00:00",
          "2025-01-30T00:00:00+00:00",
          "2025-01-31T00:00:00+00:00",
          "2025-02-01T00:00:00+00:00",
          "2025-02-02T00:00:00+00:00",
          "2025-02-03T00:00:00+00:00",
          "2025-02-04T00:00:00+00:00",
          "2025-02-05T00:00:00+00:00",
          "2025-02-06T00:00:00+00:00",
          "2025-02-07T00:00:00+00:00",
          "2025-02-08T00:00:00+00:00",
          "2025-02-09T00:00:00+00:00",
          "2025-02-10T00:00:00+00:00",
          "2025-02-11T00:00:00+00:00",
          "2025-02-12T00:00:00+00:00",
          "2025-02-13T00:00:00+00:00",
          "2025-02-14T00:00:00+00:00",
          "2025-02-15T00:00:00+00:00",
          "2025-02-16T00:00:00+00:00",
          "2025-02-17T00:00:00+00:00",
          "2025-02-18T00:00:00+00:00",
          "2025-02-19T00:00:00+00:00",
          "2025-02-20T00:00:00+00:00",
          "2025-02-21T00:00:00+00:00",
          "2025-02-22T00:00:00+00:00",
          "2025-02-23T00:00:00+00:00",
          "2025-02-24T00:00:00+00:00",
          "2025-02-25T00:00:00+00:00",
          "2025-02-26T00:00:00+00:00",
          "2025-02-27T00:00:00+00:00",
          "2025-02-28T00:00:00+00:00",
          "2025-03-01T00:00:00+00:00",
          "2025-03-02T00:00:00+00:00",
          "2025-03-03T00:00:00+00:00",
          "2025-03-04T00:00:00+00:00",
          "2025-03-05T00:00:00+00:00",
          "2025-03-06T00:00:00+00:00",
          "2025-03-07T00:00:00+00:00",
          "2025-03-08T00:00:00+00:00",
          "2025-03-09T00:00:00+00:00",
          "2025-03-10T00:00:00+00:00",
          "2025-03-11T00:00:00+00:00",
          "2025-03-12T00:00:00+00:00",
          "2025-03-13T00:00:00+00:00",
          "2025-03-14T00:00:00+00:00",
          "2025-03-15T00:00:00+00:00",
          "2025-03-16T00:00:00+00:00",
          "2025-03-17T00:00:00+00:00",
          "2025-03-18T00:00:00+00:00",
          "2025-03-19T00:00:00+00:00",
          "2025-03-20T00:00:00+00:00",
          "2025-03-21T00:00:00+00:00",
          "2025-03-22T00:00:00+00:00",
          "2025-03-23T00:00:00+00:00",
          "2025-03-24T00:00:00+00:00",
          "2025-03-25T00:00:00+00:00",
          "2025-03-26T00:00:00+00:00",
          "2025-03-27T00:00:00+00:00",
          "2025-03-28T00:00:00+00:00",
          "2025-03-29T00:00:00+00:00",
          "2025-03-30T00:00:00+00:00",
          "2025-03-31T00:00:00+00:00",
          "2025-04-01T00:00:00+00:00",
          "2025-04-02T00:00:00+00:00",
          "2025-04-03T00:00:00+00:00",
          "2025-04-04T00:00:00+00:00",
          "2025-04-05T00:00:00+00:00",
          "2025-04-06T00:00:00+00:00",
          "2025-04-07T00:00:00+00:00"
         ],
         "y": [
          2.933333333333334,
          2.933333333333334,
          2.933333333333334,
          2.933333333333334,
          2.933333333333334,
          2.933333333333334,
          2.933333333333334,
          2.933333333333334,
          2.933333333333334,
          2.933333333333334,
          2.933333333333334,
          2.933333333333334,
          2.933333333333334,
          2.933333333333334,
          2.933333333333334,
          2.933333333333334,
          2.933333333333334,
          2.933333333333334,
          2.933333333333334,
          2.933333333333334,
          2.933333333333334,
          2.933333333333334,
          2.933333333333334,
          2.933333333333334,
          2.933333333333334,
          2.933333333333334,
          2.933333333333334,
          2.933333333333334,
          2.933333333333334,
          2.933333333333334,
          2.933333333333334,
          2.933333333333334,
          2.933333333333334,
          2.933333333333334,
          2.933333333333334,
          2.933333333333334,
          2.933333333333334,
          2.933333333333334,
          2.933333333333334,
          2.933333333333334,
          2.933333333333334,
          2.933333333333334,
          2.933333333333334,
          2.933333333333334,
          2.933333333333334,
          2.933333333333334,
          2.933333333333334,
          2.933333333333334,
          2.933333333333334,
          2.933333333333334,
          2.933333333333334,
          2.933333333333334,
          2.933333333333334,
          2.933333333333334,
          2.933333333333334,
          2.933333333333334,
          2.933333333333334,
          2.933333333333334,
          2.933333333333334,
          2.933333333333334,
          2.933333333333334,
          2.933333333333334,
          2.933333333333334,
          2.933333333333334,
          2.933333333333334,
          2.933333333333334,
          2.933333333333334,
          2.933333333333334,
          2.933333333333334,
          2.933333333333334,
          2.933333333333334,
          2.933333333333334,
          2.933333333333334,
          2.933333333333334,
          2.933333333333334,
          2.933333333333334,
          2.933333333333334,
          2.933333333333334,
          2.933333333333334,
          2.933333333333334,
          2.933333333333334,
          2.933333333333334,
          2.933333333333334,
          2.933333333333334,
          2.933333333333334,
          2.933333333333334,
          2.933333333333334,
          2.933333333333334,
          2.933333333333334,
          2.933333333333334
         ]
        }
       ],
       "layout": {
        "legend": {
         "title": {
          "text": "Vindhastighet"
         }
        },
        "template": {
         "data": {
          "bar": [
           {
            "error_x": {
             "color": "#2a3f5f"
            },
            "error_y": {
             "color": "#2a3f5f"
            },
            "marker": {
             "line": {
              "color": "#E5ECF6",
              "width": 0.5
             },
             "pattern": {
              "fillmode": "overlay",
              "size": 10,
              "solidity": 0.2
             }
            },
            "type": "bar"
           }
          ],
          "barpolar": [
           {
            "marker": {
             "line": {
              "color": "#E5ECF6",
              "width": 0.5
             },
             "pattern": {
              "fillmode": "overlay",
              "size": 10,
              "solidity": 0.2
             }
            },
            "type": "barpolar"
           }
          ],
          "carpet": [
           {
            "aaxis": {
             "endlinecolor": "#2a3f5f",
             "gridcolor": "white",
             "linecolor": "white",
             "minorgridcolor": "white",
             "startlinecolor": "#2a3f5f"
            },
            "baxis": {
             "endlinecolor": "#2a3f5f",
             "gridcolor": "white",
             "linecolor": "white",
             "minorgridcolor": "white",
             "startlinecolor": "#2a3f5f"
            },
            "type": "carpet"
           }
          ],
          "choropleth": [
           {
            "colorbar": {
             "outlinewidth": 0,
             "ticks": ""
            },
            "type": "choropleth"
           }
          ],
          "contour": [
           {
            "colorbar": {
             "outlinewidth": 0,
             "ticks": ""
            },
            "colorscale": [
             [
              0,
              "#0d0887"
             ],
             [
              0.1111111111111111,
              "#46039f"
             ],
             [
              0.2222222222222222,
              "#7201a8"
             ],
             [
              0.3333333333333333,
              "#9c179e"
             ],
             [
              0.4444444444444444,
              "#bd3786"
             ],
             [
              0.5555555555555556,
              "#d8576b"
             ],
             [
              0.6666666666666666,
              "#ed7953"
             ],
             [
              0.7777777777777778,
              "#fb9f3a"
             ],
             [
              0.8888888888888888,
              "#fdca26"
             ],
             [
              1,
              "#f0f921"
             ]
            ],
            "type": "contour"
           }
          ],
          "contourcarpet": [
           {
            "colorbar": {
             "outlinewidth": 0,
             "ticks": ""
            },
            "type": "contourcarpet"
           }
          ],
          "heatmap": [
           {
            "colorbar": {
             "outlinewidth": 0,
             "ticks": ""
            },
            "colorscale": [
             [
              0,
              "#0d0887"
             ],
             [
              0.1111111111111111,
              "#46039f"
             ],
             [
              0.2222222222222222,
              "#7201a8"
             ],
             [
              0.3333333333333333,
              "#9c179e"
             ],
             [
              0.4444444444444444,
              "#bd3786"
             ],
             [
              0.5555555555555556,
              "#d8576b"
             ],
             [
              0.6666666666666666,
              "#ed7953"
             ],
             [
              0.7777777777777778,
              "#fb9f3a"
             ],
             [
              0.8888888888888888,
              "#fdca26"
             ],
             [
              1,
              "#f0f921"
             ]
            ],
            "type": "heatmap"
           }
          ],
          "histogram": [
           {
            "marker": {
             "pattern": {
              "fillmode": "overlay",
              "size": 10,
              "solidity": 0.2
             }
            },
            "type": "histogram"
           }
          ],
          "histogram2d": [
           {
            "colorbar": {
             "outlinewidth": 0,
             "ticks": ""
            },
            "colorscale": [
             [
              0,
              "#0d0887"
             ],
             [
              0.1111111111111111,
              "#46039f"
             ],
             [
              0.2222222222222222,
              "#7201a8"
             ],
             [
              0.3333333333333333,
              "#9c179e"
             ],
             [
              0.4444444444444444,
              "#bd3786"
             ],
             [
              0.5555555555555556,
              "#d8576b"
             ],
             [
              0.6666666666666666,
              "#ed7953"
             ],
             [
              0.7777777777777778,
              "#fb9f3a"
             ],
             [
              0.8888888888888888,
              "#fdca26"
             ],
             [
              1,
              "#f0f921"
             ]
            ],
            "type": "histogram2d"
           }
          ],
          "histogram2dcontour": [
           {
            "colorbar": {
             "outlinewidth": 0,
             "ticks": ""
            },
            "colorscale": [
             [
              0,
              "#0d0887"
             ],
             [
              0.1111111111111111,
              "#46039f"
             ],
             [
              0.2222222222222222,
              "#7201a8"
             ],
             [
              0.3333333333333333,
              "#9c179e"
             ],
             [
              0.4444444444444444,
              "#bd3786"
             ],
             [
              0.5555555555555556,
              "#d8576b"
             ],
             [
              0.6666666666666666,
              "#ed7953"
             ],
             [
              0.7777777777777778,
              "#fb9f3a"
             ],
             [
              0.8888888888888888,
              "#fdca26"
             ],
             [
              1,
              "#f0f921"
             ]
            ],
            "type": "histogram2dcontour"
           }
          ],
          "mesh3d": [
           {
            "colorbar": {
             "outlinewidth": 0,
             "ticks": ""
            },
            "type": "mesh3d"
           }
          ],
          "parcoords": [
           {
            "line": {
             "colorbar": {
              "outlinewidth": 0,
              "ticks": ""
             }
            },
            "type": "parcoords"
           }
          ],
          "pie": [
           {
            "automargin": true,
            "type": "pie"
           }
          ],
          "scatter": [
           {
            "fillpattern": {
             "fillmode": "overlay",
             "size": 10,
             "solidity": 0.2
            },
            "type": "scatter"
           }
          ],
          "scatter3d": [
           {
            "line": {
             "colorbar": {
              "outlinewidth": 0,
              "ticks": ""
             }
            },
            "marker": {
             "colorbar": {
              "outlinewidth": 0,
              "ticks": ""
             }
            },
            "type": "scatter3d"
           }
          ],
          "scattercarpet": [
           {
            "marker": {
             "colorbar": {
              "outlinewidth": 0,
              "ticks": ""
             }
            },
            "type": "scattercarpet"
           }
          ],
          "scattergeo": [
           {
            "marker": {
             "colorbar": {
              "outlinewidth": 0,
              "ticks": ""
             }
            },
            "type": "scattergeo"
           }
          ],
          "scattergl": [
           {
            "marker": {
             "colorbar": {
              "outlinewidth": 0,
              "ticks": ""
             }
            },
            "type": "scattergl"
           }
          ],
          "scattermap": [
           {
            "marker": {
             "colorbar": {
              "outlinewidth": 0,
              "ticks": ""
             }
            },
            "type": "scattermap"
           }
          ],
          "scattermapbox": [
           {
            "marker": {
             "colorbar": {
              "outlinewidth": 0,
              "ticks": ""
             }
            },
            "type": "scattermapbox"
           }
          ],
          "scatterpolar": [
           {
            "marker": {
             "colorbar": {
              "outlinewidth": 0,
              "ticks": ""
             }
            },
            "type": "scatterpolar"
           }
          ],
          "scatterpolargl": [
           {
            "marker": {
             "colorbar": {
              "outlinewidth": 0,
              "ticks": ""
             }
            },
            "type": "scatterpolargl"
           }
          ],
          "scatterternary": [
           {
            "marker": {
             "colorbar": {
              "outlinewidth": 0,
              "ticks": ""
             }
            },
            "type": "scatterternary"
           }
          ],
          "surface": [
           {
            "colorbar": {
             "outlinewidth": 0,
             "ticks": ""
            },
            "colorscale": [
             [
              0,
              "#0d0887"
             ],
             [
              0.1111111111111111,
              "#46039f"
             ],
             [
              0.2222222222222222,
              "#7201a8"
             ],
             [
              0.3333333333333333,
              "#9c179e"
             ],
             [
              0.4444444444444444,
              "#bd3786"
             ],
             [
              0.5555555555555556,
              "#d8576b"
             ],
             [
              0.6666666666666666,
              "#ed7953"
             ],
             [
              0.7777777777777778,
              "#fb9f3a"
             ],
             [
              0.8888888888888888,
              "#fdca26"
             ],
             [
              1,
              "#f0f921"
             ]
            ],
            "type": "surface"
           }
          ],
          "table": [
           {
            "cells": {
             "fill": {
              "color": "#EBF0F8"
             },
             "line": {
              "color": "white"
             }
            },
            "header": {
             "fill": {
              "color": "#C8D4E3"
             },
             "line": {
              "color": "white"
             }
            },
            "type": "table"
           }
          ]
         },
         "layout": {
          "annotationdefaults": {
           "arrowcolor": "#2a3f5f",
           "arrowhead": 0,
           "arrowwidth": 1
          },
          "autotypenumbers": "strict",
          "coloraxis": {
           "colorbar": {
            "outlinewidth": 0,
            "ticks": ""
           }
          },
          "colorscale": {
           "diverging": [
            [
             0,
             "#8e0152"
            ],
            [
             0.1,
             "#c51b7d"
            ],
            [
             0.2,
             "#de77ae"
            ],
            [
             0.3,
             "#f1b6da"
            ],
            [
             0.4,
             "#fde0ef"
            ],
            [
             0.5,
             "#f7f7f7"
            ],
            [
             0.6,
             "#e6f5d0"
            ],
            [
             0.7,
             "#b8e186"
            ],
            [
             0.8,
             "#7fbc41"
            ],
            [
             0.9,
             "#4d9221"
            ],
            [
             1,
             "#276419"
            ]
           ],
           "sequential": [
            [
             0,
             "#0d0887"
            ],
            [
             0.1111111111111111,
             "#46039f"
            ],
            [
             0.2222222222222222,
             "#7201a8"
            ],
            [
             0.3333333333333333,
             "#9c179e"
            ],
            [
             0.4444444444444444,
             "#bd3786"
            ],
            [
             0.5555555555555556,
             "#d8576b"
            ],
            [
             0.6666666666666666,
             "#ed7953"
            ],
            [
             0.7777777777777778,
             "#fb9f3a"
            ],
            [
             0.8888888888888888,
             "#fdca26"
            ],
            [
             1,
             "#f0f921"
            ]
           ],
           "sequentialminus": [
            [
             0,
             "#0d0887"
            ],
            [
             0.1111111111111111,
             "#46039f"
            ],
            [
             0.2222222222222222,
             "#7201a8"
            ],
            [
             0.3333333333333333,
             "#9c179e"
            ],
            [
             0.4444444444444444,
             "#bd3786"
            ],
            [
             0.5555555555555556,
             "#d8576b"
            ],
            [
             0.6666666666666666,
             "#ed7953"
            ],
            [
             0.7777777777777778,
             "#fb9f3a"
            ],
            [
             0.8888888888888888,
             "#fdca26"
            ],
            [
             1,
             "#f0f921"
            ]
           ]
          },
          "colorway": [
           "#636efa",
           "#EF553B",
           "#00cc96",
           "#ab63fa",
           "#FFA15A",
           "#19d3f3",
           "#FF6692",
           "#B6E880",
           "#FF97FF",
           "#FECB52"
          ],
          "font": {
           "color": "#2a3f5f"
          },
          "geo": {
           "bgcolor": "white",
           "lakecolor": "white",
           "landcolor": "#E5ECF6",
           "showlakes": true,
           "showland": true,
           "subunitcolor": "white"
          },
          "hoverlabel": {
           "align": "left"
          },
          "hovermode": "closest",
          "mapbox": {
           "style": "light"
          },
          "paper_bgcolor": "white",
          "plot_bgcolor": "#E5ECF6",
          "polar": {
           "angularaxis": {
            "gridcolor": "white",
            "linecolor": "white",
            "ticks": ""
           },
           "bgcolor": "#E5ECF6",
           "radialaxis": {
            "gridcolor": "white",
            "linecolor": "white",
            "ticks": ""
           }
          },
          "scene": {
           "xaxis": {
            "backgroundcolor": "#E5ECF6",
            "gridcolor": "white",
            "gridwidth": 2,
            "linecolor": "white",
            "showbackground": true,
            "ticks": "",
            "zerolinecolor": "white"
           },
           "yaxis": {
            "backgroundcolor": "#E5ECF6",
            "gridcolor": "white",
            "gridwidth": 2,
            "linecolor": "white",
            "showbackground": true,
            "ticks": "",
            "zerolinecolor": "white"
           },
           "zaxis": {
            "backgroundcolor": "#E5ECF6",
            "gridcolor": "white",
            "gridwidth": 2,
            "linecolor": "white",
            "showbackground": true,
            "ticks": "",
            "zerolinecolor": "white"
           }
          },
          "shapedefaults": {
           "line": {
            "color": "#2a3f5f"
           }
          },
          "ternary": {
           "aaxis": {
            "gridcolor": "white",
            "linecolor": "white",
            "ticks": ""
           },
           "baxis": {
            "gridcolor": "white",
            "linecolor": "white",
            "ticks": ""
           },
           "bgcolor": "#E5ECF6",
           "caxis": {
            "gridcolor": "white",
            "linecolor": "white",
            "ticks": ""
           }
          },
          "title": {
           "x": 0.05
          },
          "xaxis": {
           "automargin": true,
           "gridcolor": "white",
           "linecolor": "white",
           "ticks": "",
           "title": {
            "standoff": 15
           },
           "zerolinecolor": "white",
           "zerolinewidth": 2
          },
          "yaxis": {
           "automargin": true,
           "gridcolor": "white",
           "linecolor": "white",
           "ticks": "",
           "title": {
            "standoff": 15
           },
           "zerolinecolor": "white",
           "zerolinewidth": 2
          }
         }
        },
        "title": {
         "text": "Vindhastighet over tid i Trondheim"
        },
        "xaxis": {
         "title": {
          "text": "Dato"
         }
        },
        "yaxis": {
         "title": {
          "text": "Vindhastighet (m/s)"
         }
        }
       }
      }
     },
     "metadata": {},
     "output_type": "display_data"
    },
    {
     "name": "stdout",
     "output_type": "stream",
     "text": [
      "\n",
      "Vindhastighet:\n",
      "Median: 2.60, Standardavvik: 1.37\n"
     ]
    },
    {
     "data": {
      "application/vnd.plotly.v1+json": {
       "config": {
        "plotlyServerURL": "https://plot.ly"
       },
       "data": [
        {
         "marker": {
          "color": "#1f77b4"
         },
         "mode": "markers",
         "name": "Snøtykkelse i Trondheim",
         "type": "scatter",
         "x": [
          "2025-01-08T00:00:00+00:00",
          "2025-01-08T00:00:00+00:00",
          "2025-01-08T01:00:00+00:00",
          "2025-01-08T02:00:00+00:00",
          "2025-01-08T03:00:00+00:00",
          "2025-01-08T04:00:00+00:00",
          "2025-01-08T05:00:00+00:00",
          "2025-01-08T06:00:00+00:00",
          "2025-01-08T07:00:00+00:00",
          "2025-01-08T08:00:00+00:00",
          "2025-01-08T09:00:00+00:00",
          "2025-01-08T10:00:00+00:00",
          "2025-01-08T11:00:00+00:00",
          "2025-01-08T12:00:00+00:00",
          "2025-01-08T13:00:00+00:00",
          "2025-01-08T14:00:00+00:00",
          "2025-01-08T15:00:00+00:00",
          "2025-01-08T16:00:00+00:00",
          "2025-01-08T17:00:00+00:00",
          "2025-01-08T18:00:00+00:00",
          "2025-01-08T19:00:00+00:00",
          "2025-01-08T20:00:00+00:00",
          "2025-01-08T21:00:00+00:00",
          "2025-01-08T22:00:00+00:00",
          "2025-01-08T23:00:00+00:00",
          "2025-01-09T00:00:00+00:00",
          "2025-01-09T00:00:00+00:00",
          "2025-01-09T01:00:00+00:00",
          "2025-01-09T02:00:00+00:00",
          "2025-01-09T03:00:00+00:00",
          "2025-01-09T04:00:00+00:00",
          "2025-01-09T05:00:00+00:00",
          "2025-01-09T06:00:00+00:00",
          "2025-01-09T07:00:00+00:00",
          "2025-01-09T08:00:00+00:00",
          "2025-01-09T09:00:00+00:00",
          "2025-01-09T10:00:00+00:00",
          "2025-01-09T11:00:00+00:00",
          "2025-01-09T12:00:00+00:00",
          "2025-01-09T13:00:00+00:00",
          "2025-01-09T14:00:00+00:00",
          "2025-01-09T15:00:00+00:00",
          "2025-01-09T16:00:00+00:00",
          "2025-01-09T17:00:00+00:00",
          "2025-01-09T18:00:00+00:00",
          "2025-01-09T19:00:00+00:00",
          "2025-01-09T20:00:00+00:00",
          "2025-01-09T21:00:00+00:00",
          "2025-01-09T22:00:00+00:00",
          "2025-01-09T23:00:00+00:00",
          "2025-01-10T00:00:00+00:00",
          "2025-01-10T00:00:00+00:00",
          "2025-01-10T01:00:00+00:00",
          "2025-01-10T02:00:00+00:00",
          "2025-01-10T03:00:00+00:00",
          "2025-01-10T04:00:00+00:00",
          "2025-01-10T05:00:00+00:00",
          "2025-01-10T06:00:00+00:00",
          "2025-01-10T07:00:00+00:00",
          "2025-01-10T08:00:00+00:00",
          "2025-01-10T09:00:00+00:00",
          "2025-01-10T10:00:00+00:00",
          "2025-01-10T11:00:00+00:00",
          "2025-01-10T12:00:00+00:00",
          "2025-01-10T13:00:00+00:00",
          "2025-01-10T14:00:00+00:00",
          "2025-01-10T15:00:00+00:00",
          "2025-01-10T16:00:00+00:00",
          "2025-01-10T17:00:00+00:00",
          "2025-01-10T18:00:00+00:00",
          "2025-01-10T19:00:00+00:00",
          "2025-01-10T20:00:00+00:00",
          "2025-01-10T21:00:00+00:00",
          "2025-01-10T22:00:00+00:00",
          "2025-01-10T23:00:00+00:00",
          "2025-01-11T00:00:00+00:00",
          "2025-01-11T00:00:00+00:00",
          "2025-01-11T01:00:00+00:00",
          "2025-01-11T02:00:00+00:00",
          "2025-01-11T03:00:00+00:00",
          "2025-01-11T04:00:00+00:00",
          "2025-01-11T05:00:00+00:00",
          "2025-01-11T06:00:00+00:00",
          "2025-01-11T07:00:00+00:00",
          "2025-01-11T08:00:00+00:00",
          "2025-01-11T09:00:00+00:00",
          "2025-01-11T10:00:00+00:00",
          "2025-01-11T11:00:00+00:00",
          "2025-01-11T12:00:00+00:00",
          "2025-01-11T13:00:00+00:00",
          "2025-01-11T14:00:00+00:00",
          "2025-01-11T15:00:00+00:00",
          "2025-01-11T16:00:00+00:00",
          "2025-01-11T17:00:00+00:00",
          "2025-01-11T18:00:00+00:00",
          "2025-01-11T19:00:00+00:00",
          "2025-01-11T20:00:00+00:00",
          "2025-01-11T21:00:00+00:00",
          "2025-01-11T22:00:00+00:00",
          "2025-01-11T23:00:00+00:00",
          "2025-01-12T00:00:00+00:00",
          "2025-01-12T00:00:00+00:00",
          "2025-01-12T01:00:00+00:00",
          "2025-01-12T02:00:00+00:00",
          "2025-01-12T03:00:00+00:00",
          "2025-01-12T04:00:00+00:00",
          "2025-01-12T05:00:00+00:00",
          "2025-01-12T06:00:00+00:00",
          "2025-01-12T07:00:00+00:00",
          "2025-01-12T08:00:00+00:00",
          "2025-01-12T09:00:00+00:00",
          "2025-01-12T10:00:00+00:00",
          "2025-01-12T11:00:00+00:00",
          "2025-01-12T12:00:00+00:00",
          "2025-01-12T13:00:00+00:00",
          "2025-01-12T14:00:00+00:00",
          "2025-01-12T15:00:00+00:00",
          "2025-01-12T16:00:00+00:00",
          "2025-01-12T17:00:00+00:00",
          "2025-01-12T18:00:00+00:00",
          "2025-01-12T19:00:00+00:00",
          "2025-01-12T20:00:00+00:00",
          "2025-01-12T21:00:00+00:00",
          "2025-01-12T22:00:00+00:00",
          "2025-01-12T23:00:00+00:00",
          "2025-01-13T00:00:00+00:00",
          "2025-01-13T00:00:00+00:00",
          "2025-01-13T01:00:00+00:00",
          "2025-01-13T02:00:00+00:00",
          "2025-01-13T03:00:00+00:00",
          "2025-01-13T04:00:00+00:00",
          "2025-01-13T05:00:00+00:00",
          "2025-01-13T06:00:00+00:00",
          "2025-01-13T07:00:00+00:00",
          "2025-01-13T08:00:00+00:00",
          "2025-01-13T09:00:00+00:00",
          "2025-01-13T10:00:00+00:00",
          "2025-01-13T11:00:00+00:00",
          "2025-01-13T12:00:00+00:00",
          "2025-01-13T13:00:00+00:00",
          "2025-01-13T14:00:00+00:00",
          "2025-01-13T15:00:00+00:00",
          "2025-01-13T16:00:00+00:00",
          "2025-01-13T17:00:00+00:00",
          "2025-01-13T18:00:00+00:00",
          "2025-01-13T19:00:00+00:00",
          "2025-01-13T20:00:00+00:00",
          "2025-01-13T21:00:00+00:00",
          "2025-01-13T22:00:00+00:00",
          "2025-01-13T23:00:00+00:00",
          "2025-01-14T00:00:00+00:00",
          "2025-01-14T00:00:00+00:00",
          "2025-01-14T01:00:00+00:00",
          "2025-01-14T02:00:00+00:00",
          "2025-01-14T03:00:00+00:00",
          "2025-01-14T04:00:00+00:00",
          "2025-01-14T05:00:00+00:00",
          "2025-01-14T06:00:00+00:00",
          "2025-01-14T07:00:00+00:00",
          "2025-01-14T08:00:00+00:00",
          "2025-01-14T09:00:00+00:00",
          "2025-01-14T10:00:00+00:00",
          "2025-01-14T11:00:00+00:00",
          "2025-01-14T12:00:00+00:00",
          "2025-01-14T13:00:00+00:00",
          "2025-01-14T14:00:00+00:00",
          "2025-01-14T15:00:00+00:00",
          "2025-01-14T16:00:00+00:00",
          "2025-01-14T17:00:00+00:00",
          "2025-01-14T18:00:00+00:00",
          "2025-01-14T19:00:00+00:00",
          "2025-01-14T20:00:00+00:00",
          "2025-01-14T21:00:00+00:00",
          "2025-01-14T22:00:00+00:00",
          "2025-01-14T23:00:00+00:00",
          "2025-01-15T00:00:00+00:00",
          "2025-01-15T00:00:00+00:00",
          "2025-01-15T01:00:00+00:00",
          "2025-01-15T02:00:00+00:00",
          "2025-01-15T03:00:00+00:00",
          "2025-01-15T04:00:00+00:00",
          "2025-01-15T05:00:00+00:00",
          "2025-01-15T06:00:00+00:00",
          "2025-01-15T07:00:00+00:00",
          "2025-01-15T08:00:00+00:00",
          "2025-01-15T09:00:00+00:00",
          "2025-01-15T10:00:00+00:00",
          "2025-01-15T11:00:00+00:00",
          "2025-01-15T12:00:00+00:00",
          "2025-01-15T13:00:00+00:00",
          "2025-01-15T14:00:00+00:00",
          "2025-01-15T15:00:00+00:00",
          "2025-01-15T16:00:00+00:00",
          "2025-01-15T17:00:00+00:00",
          "2025-01-15T18:00:00+00:00",
          "2025-01-15T19:00:00+00:00",
          "2025-01-15T20:00:00+00:00",
          "2025-01-15T21:00:00+00:00",
          "2025-01-15T22:00:00+00:00",
          "2025-01-15T23:00:00+00:00",
          "2025-01-16T00:00:00+00:00",
          "2025-01-16T00:00:00+00:00",
          "2025-01-16T01:00:00+00:00",
          "2025-01-16T02:00:00+00:00",
          "2025-01-16T03:00:00+00:00",
          "2025-01-16T04:00:00+00:00",
          "2025-01-16T05:00:00+00:00",
          "2025-01-16T06:00:00+00:00",
          "2025-01-16T07:00:00+00:00",
          "2025-01-16T08:00:00+00:00",
          "2025-01-16T09:00:00+00:00",
          "2025-01-16T10:00:00+00:00",
          "2025-01-16T11:00:00+00:00",
          "2025-01-16T12:00:00+00:00",
          "2025-01-16T13:00:00+00:00",
          "2025-01-16T14:00:00+00:00",
          "2025-01-16T15:00:00+00:00",
          "2025-01-16T16:00:00+00:00",
          "2025-01-16T17:00:00+00:00",
          "2025-01-16T18:00:00+00:00",
          "2025-01-16T19:00:00+00:00",
          "2025-01-16T20:00:00+00:00",
          "2025-01-16T21:00:00+00:00",
          "2025-01-16T22:00:00+00:00",
          "2025-01-16T23:00:00+00:00",
          "2025-01-17T00:00:00+00:00",
          "2025-01-17T00:00:00+00:00",
          "2025-01-17T01:00:00+00:00",
          "2025-01-17T02:00:00+00:00",
          "2025-01-17T03:00:00+00:00",
          "2025-01-17T04:00:00+00:00",
          "2025-01-17T05:00:00+00:00",
          "2025-01-17T06:00:00+00:00",
          "2025-01-17T07:00:00+00:00",
          "2025-01-17T08:00:00+00:00",
          "2025-01-17T09:00:00+00:00",
          "2025-01-17T10:00:00+00:00",
          "2025-01-17T11:00:00+00:00",
          "2025-01-17T12:00:00+00:00",
          "2025-01-17T13:00:00+00:00",
          "2025-01-17T14:00:00+00:00",
          "2025-01-17T15:00:00+00:00",
          "2025-01-17T16:00:00+00:00",
          "2025-01-17T17:00:00+00:00",
          "2025-01-17T18:00:00+00:00",
          "2025-01-17T19:00:00+00:00",
          "2025-01-17T20:00:00+00:00",
          "2025-01-17T21:00:00+00:00",
          "2025-01-17T22:00:00+00:00",
          "2025-01-17T23:00:00+00:00",
          "2025-01-18T00:00:00+00:00",
          "2025-01-18T00:00:00+00:00",
          "2025-01-18T01:00:00+00:00",
          "2025-01-18T02:00:00+00:00",
          "2025-01-18T03:00:00+00:00",
          "2025-01-18T04:00:00+00:00",
          "2025-01-18T05:00:00+00:00",
          "2025-01-18T06:00:00+00:00",
          "2025-01-18T07:00:00+00:00",
          "2025-01-18T08:00:00+00:00",
          "2025-01-18T09:00:00+00:00",
          "2025-01-18T10:00:00+00:00",
          "2025-01-18T11:00:00+00:00",
          "2025-01-18T12:00:00+00:00",
          "2025-01-18T13:00:00+00:00",
          "2025-01-18T14:00:00+00:00",
          "2025-01-18T15:00:00+00:00",
          "2025-01-18T16:00:00+00:00",
          "2025-01-18T17:00:00+00:00",
          "2025-01-18T18:00:00+00:00",
          "2025-01-18T19:00:00+00:00",
          "2025-01-18T20:00:00+00:00",
          "2025-01-18T21:00:00+00:00",
          "2025-01-18T22:00:00+00:00",
          "2025-01-18T23:00:00+00:00",
          "2025-01-19T00:00:00+00:00",
          "2025-01-19T00:00:00+00:00",
          "2025-01-19T01:00:00+00:00",
          "2025-01-19T02:00:00+00:00",
          "2025-01-19T03:00:00+00:00",
          "2025-01-19T04:00:00+00:00",
          "2025-01-19T05:00:00+00:00",
          "2025-01-19T06:00:00+00:00",
          "2025-01-19T07:00:00+00:00",
          "2025-01-19T08:00:00+00:00",
          "2025-01-19T09:00:00+00:00",
          "2025-01-19T10:00:00+00:00",
          "2025-01-19T11:00:00+00:00",
          "2025-01-19T12:00:00+00:00",
          "2025-01-19T13:00:00+00:00",
          "2025-01-19T14:00:00+00:00",
          "2025-01-19T15:00:00+00:00",
          "2025-01-19T16:00:00+00:00",
          "2025-01-19T17:00:00+00:00",
          "2025-01-19T18:00:00+00:00",
          "2025-01-19T19:00:00+00:00",
          "2025-01-19T20:00:00+00:00",
          "2025-01-19T21:00:00+00:00",
          "2025-01-19T22:00:00+00:00",
          "2025-01-19T23:00:00+00:00",
          "2025-01-20T00:00:00+00:00",
          "2025-01-20T00:00:00+00:00",
          "2025-01-20T01:00:00+00:00",
          "2025-01-20T02:00:00+00:00",
          "2025-01-20T03:00:00+00:00",
          "2025-01-20T04:00:00+00:00",
          "2025-01-20T05:00:00+00:00",
          "2025-01-20T06:00:00+00:00",
          "2025-01-20T07:00:00+00:00",
          "2025-01-20T08:00:00+00:00",
          "2025-01-20T09:00:00+00:00",
          "2025-01-20T10:00:00+00:00",
          "2025-01-20T11:00:00+00:00",
          "2025-01-20T12:00:00+00:00",
          "2025-01-20T13:00:00+00:00",
          "2025-01-20T14:00:00+00:00",
          "2025-01-20T15:00:00+00:00",
          "2025-01-20T16:00:00+00:00",
          "2025-01-20T17:00:00+00:00",
          "2025-01-20T18:00:00+00:00",
          "2025-01-20T19:00:00+00:00",
          "2025-01-20T20:00:00+00:00",
          "2025-01-20T21:00:00+00:00",
          "2025-01-20T22:00:00+00:00",
          "2025-01-20T23:00:00+00:00",
          "2025-01-21T00:00:00+00:00",
          "2025-01-21T00:00:00+00:00",
          "2025-01-21T01:00:00+00:00",
          "2025-01-21T02:00:00+00:00",
          "2025-01-21T03:00:00+00:00",
          "2025-01-21T04:00:00+00:00",
          "2025-01-21T05:00:00+00:00",
          "2025-01-21T06:00:00+00:00",
          "2025-01-21T07:00:00+00:00",
          "2025-01-21T08:00:00+00:00",
          "2025-01-21T09:00:00+00:00",
          "2025-01-21T10:00:00+00:00",
          "2025-01-21T11:00:00+00:00",
          "2025-01-21T12:00:00+00:00",
          "2025-01-21T13:00:00+00:00",
          "2025-01-21T14:00:00+00:00",
          "2025-01-21T15:00:00+00:00",
          "2025-01-21T16:00:00+00:00",
          "2025-01-21T17:00:00+00:00",
          "2025-01-21T18:00:00+00:00",
          "2025-01-21T19:00:00+00:00",
          "2025-01-21T20:00:00+00:00",
          "2025-01-21T21:00:00+00:00",
          "2025-01-21T22:00:00+00:00",
          "2025-01-21T23:00:00+00:00",
          "2025-01-22T00:00:00+00:00",
          "2025-01-22T00:00:00+00:00",
          "2025-01-22T01:00:00+00:00",
          "2025-01-22T02:00:00+00:00",
          "2025-01-22T03:00:00+00:00",
          "2025-01-22T04:00:00+00:00",
          "2025-01-22T05:00:00+00:00",
          "2025-01-22T06:00:00+00:00",
          "2025-01-22T07:00:00+00:00",
          "2025-01-22T08:00:00+00:00",
          "2025-01-22T09:00:00+00:00",
          "2025-01-22T10:00:00+00:00",
          "2025-01-22T11:00:00+00:00",
          "2025-01-22T12:00:00+00:00",
          "2025-01-22T13:00:00+00:00",
          "2025-01-22T14:00:00+00:00",
          "2025-01-22T15:00:00+00:00",
          "2025-01-22T16:00:00+00:00",
          "2025-01-22T17:00:00+00:00",
          "2025-01-22T18:00:00+00:00",
          "2025-01-22T19:00:00+00:00",
          "2025-01-22T20:00:00+00:00",
          "2025-01-22T21:00:00+00:00",
          "2025-01-22T22:00:00+00:00",
          "2025-01-22T23:00:00+00:00",
          "2025-01-23T00:00:00+00:00",
          "2025-01-23T00:00:00+00:00",
          "2025-01-23T01:00:00+00:00",
          "2025-01-23T02:00:00+00:00",
          "2025-01-23T03:00:00+00:00",
          "2025-01-23T04:00:00+00:00",
          "2025-01-23T05:00:00+00:00",
          "2025-01-23T06:00:00+00:00",
          "2025-01-23T07:00:00+00:00",
          "2025-01-23T08:00:00+00:00",
          "2025-01-23T09:00:00+00:00",
          "2025-01-23T10:00:00+00:00",
          "2025-01-23T11:00:00+00:00",
          "2025-01-23T12:00:00+00:00",
          "2025-01-23T13:00:00+00:00",
          "2025-01-23T14:00:00+00:00",
          "2025-01-23T15:00:00+00:00",
          "2025-01-23T16:00:00+00:00",
          "2025-01-23T17:00:00+00:00",
          "2025-01-23T18:00:00+00:00",
          "2025-01-23T19:00:00+00:00",
          "2025-01-23T20:00:00+00:00",
          "2025-01-23T21:00:00+00:00",
          "2025-01-23T22:00:00+00:00",
          "2025-01-23T23:00:00+00:00",
          "2025-01-24T00:00:00+00:00",
          "2025-01-24T00:00:00+00:00",
          "2025-01-24T01:00:00+00:00",
          "2025-01-24T02:00:00+00:00",
          "2025-01-24T03:00:00+00:00",
          "2025-01-24T04:00:00+00:00",
          "2025-01-24T05:00:00+00:00",
          "2025-01-24T06:00:00+00:00",
          "2025-01-24T07:00:00+00:00",
          "2025-01-24T08:00:00+00:00",
          "2025-01-24T09:00:00+00:00",
          "2025-01-24T10:00:00+00:00",
          "2025-01-24T11:00:00+00:00",
          "2025-01-24T12:00:00+00:00",
          "2025-01-24T13:00:00+00:00",
          "2025-01-24T14:00:00+00:00",
          "2025-01-24T15:00:00+00:00",
          "2025-01-24T16:00:00+00:00",
          "2025-01-24T17:00:00+00:00",
          "2025-01-24T18:00:00+00:00",
          "2025-01-24T19:00:00+00:00",
          "2025-01-24T20:00:00+00:00",
          "2025-01-24T21:00:00+00:00",
          "2025-01-24T22:00:00+00:00",
          "2025-01-24T23:00:00+00:00",
          "2025-01-25T00:00:00+00:00",
          "2025-01-25T00:00:00+00:00",
          "2025-01-25T01:00:00+00:00",
          "2025-01-25T02:00:00+00:00",
          "2025-01-25T03:00:00+00:00",
          "2025-01-25T04:00:00+00:00",
          "2025-01-25T05:00:00+00:00",
          "2025-01-25T06:00:00+00:00",
          "2025-01-25T07:00:00+00:00",
          "2025-01-25T08:00:00+00:00",
          "2025-01-25T09:00:00+00:00",
          "2025-01-25T10:00:00+00:00",
          "2025-01-25T11:00:00+00:00",
          "2025-01-25T12:00:00+00:00",
          "2025-01-25T13:00:00+00:00",
          "2025-01-25T14:00:00+00:00",
          "2025-01-25T15:00:00+00:00",
          "2025-01-25T16:00:00+00:00",
          "2025-01-25T17:00:00+00:00",
          "2025-01-25T18:00:00+00:00",
          "2025-01-25T19:00:00+00:00",
          "2025-01-25T20:00:00+00:00",
          "2025-01-25T21:00:00+00:00",
          "2025-01-25T22:00:00+00:00",
          "2025-01-25T23:00:00+00:00",
          "2025-01-26T00:00:00+00:00",
          "2025-01-26T00:00:00+00:00",
          "2025-01-26T01:00:00+00:00",
          "2025-01-26T02:00:00+00:00",
          "2025-01-26T03:00:00+00:00",
          "2025-01-26T04:00:00+00:00",
          "2025-01-26T05:00:00+00:00",
          "2025-01-26T06:00:00+00:00",
          "2025-01-26T07:00:00+00:00",
          "2025-01-26T08:00:00+00:00",
          "2025-01-26T09:00:00+00:00",
          "2025-01-26T10:00:00+00:00",
          "2025-01-26T11:00:00+00:00",
          "2025-01-26T12:00:00+00:00",
          "2025-01-26T13:00:00+00:00",
          "2025-01-26T14:00:00+00:00",
          "2025-01-26T15:00:00+00:00",
          "2025-01-26T16:00:00+00:00",
          "2025-01-26T17:00:00+00:00",
          "2025-01-26T18:00:00+00:00",
          "2025-01-26T19:00:00+00:00",
          "2025-01-26T20:00:00+00:00",
          "2025-01-26T21:00:00+00:00",
          "2025-01-26T22:00:00+00:00",
          "2025-01-26T23:00:00+00:00",
          "2025-01-27T00:00:00+00:00",
          "2025-01-27T00:00:00+00:00",
          "2025-01-27T01:00:00+00:00",
          "2025-01-27T02:00:00+00:00",
          "2025-01-27T03:00:00+00:00",
          "2025-01-27T04:00:00+00:00",
          "2025-01-27T05:00:00+00:00",
          "2025-01-27T06:00:00+00:00",
          "2025-01-27T07:00:00+00:00",
          "2025-01-27T08:00:00+00:00",
          "2025-01-27T09:00:00+00:00",
          "2025-01-27T10:00:00+00:00",
          "2025-01-27T11:00:00+00:00",
          "2025-01-27T12:00:00+00:00",
          "2025-01-27T13:00:00+00:00",
          "2025-01-27T14:00:00+00:00",
          "2025-01-27T15:00:00+00:00",
          "2025-01-27T16:00:00+00:00",
          "2025-01-27T17:00:00+00:00",
          "2025-01-27T18:00:00+00:00",
          "2025-01-27T19:00:00+00:00",
          "2025-01-27T20:00:00+00:00",
          "2025-01-27T21:00:00+00:00",
          "2025-01-27T22:00:00+00:00",
          "2025-01-27T23:00:00+00:00",
          "2025-01-28T00:00:00+00:00",
          "2025-01-28T00:00:00+00:00",
          "2025-01-28T01:00:00+00:00",
          "2025-01-28T02:00:00+00:00",
          "2025-01-28T03:00:00+00:00",
          "2025-01-28T04:00:00+00:00",
          "2025-01-28T05:00:00+00:00",
          "2025-01-28T06:00:00+00:00",
          "2025-01-28T07:00:00+00:00",
          "2025-01-28T08:00:00+00:00",
          "2025-01-28T09:00:00+00:00",
          "2025-01-28T10:00:00+00:00",
          "2025-01-28T11:00:00+00:00",
          "2025-01-28T12:00:00+00:00",
          "2025-01-28T13:00:00+00:00",
          "2025-01-28T14:00:00+00:00",
          "2025-01-28T15:00:00+00:00",
          "2025-01-28T16:00:00+00:00",
          "2025-01-28T17:00:00+00:00",
          "2025-01-28T18:00:00+00:00",
          "2025-01-28T19:00:00+00:00",
          "2025-01-28T20:00:00+00:00",
          "2025-01-28T21:00:00+00:00",
          "2025-01-28T22:00:00+00:00",
          "2025-01-28T23:00:00+00:00",
          "2025-01-29T00:00:00+00:00",
          "2025-01-29T00:00:00+00:00",
          "2025-01-29T01:00:00+00:00",
          "2025-01-29T02:00:00+00:00",
          "2025-01-29T03:00:00+00:00",
          "2025-01-29T04:00:00+00:00",
          "2025-01-29T05:00:00+00:00",
          "2025-01-29T06:00:00+00:00",
          "2025-01-29T07:00:00+00:00",
          "2025-01-29T08:00:00+00:00",
          "2025-01-29T09:00:00+00:00",
          "2025-01-29T10:00:00+00:00",
          "2025-01-29T11:00:00+00:00",
          "2025-01-29T12:00:00+00:00",
          "2025-01-29T13:00:00+00:00",
          "2025-01-29T14:00:00+00:00",
          "2025-01-29T15:00:00+00:00",
          "2025-01-29T16:00:00+00:00",
          "2025-01-29T17:00:00+00:00",
          "2025-01-29T18:00:00+00:00",
          "2025-01-29T19:00:00+00:00",
          "2025-01-29T20:00:00+00:00",
          "2025-01-29T21:00:00+00:00",
          "2025-01-29T22:00:00+00:00",
          "2025-01-29T23:00:00+00:00",
          "2025-01-30T00:00:00+00:00",
          "2025-01-30T00:00:00+00:00",
          "2025-01-30T01:00:00+00:00",
          "2025-01-30T02:00:00+00:00",
          "2025-01-30T03:00:00+00:00",
          "2025-01-30T04:00:00+00:00",
          "2025-01-30T05:00:00+00:00",
          "2025-01-30T06:00:00+00:00",
          "2025-01-30T07:00:00+00:00",
          "2025-01-30T08:00:00+00:00",
          "2025-01-30T09:00:00+00:00",
          "2025-01-30T10:00:00+00:00",
          "2025-01-30T11:00:00+00:00",
          "2025-01-30T12:00:00+00:00",
          "2025-01-30T13:00:00+00:00",
          "2025-01-30T14:00:00+00:00",
          "2025-01-30T15:00:00+00:00",
          "2025-01-30T16:00:00+00:00",
          "2025-01-30T17:00:00+00:00",
          "2025-01-30T18:00:00+00:00",
          "2025-01-30T19:00:00+00:00",
          "2025-01-30T20:00:00+00:00",
          "2025-01-30T21:00:00+00:00",
          "2025-01-30T22:00:00+00:00",
          "2025-01-30T23:00:00+00:00",
          "2025-01-31T00:00:00+00:00",
          "2025-01-31T00:00:00+00:00",
          "2025-01-31T01:00:00+00:00",
          "2025-01-31T02:00:00+00:00",
          "2025-01-31T03:00:00+00:00",
          "2025-01-31T04:00:00+00:00",
          "2025-01-31T05:00:00+00:00",
          "2025-01-31T06:00:00+00:00",
          "2025-01-31T07:00:00+00:00",
          "2025-01-31T08:00:00+00:00",
          "2025-01-31T09:00:00+00:00",
          "2025-01-31T10:00:00+00:00",
          "2025-01-31T11:00:00+00:00",
          "2025-01-31T12:00:00+00:00",
          "2025-01-31T13:00:00+00:00",
          "2025-01-31T14:00:00+00:00",
          "2025-01-31T15:00:00+00:00",
          "2025-01-31T16:00:00+00:00",
          "2025-01-31T17:00:00+00:00",
          "2025-01-31T18:00:00+00:00",
          "2025-01-31T19:00:00+00:00",
          "2025-01-31T20:00:00+00:00",
          "2025-01-31T21:00:00+00:00",
          "2025-01-31T22:00:00+00:00",
          "2025-01-31T23:00:00+00:00",
          "2025-02-01T00:00:00+00:00",
          "2025-02-01T00:00:00+00:00",
          "2025-02-01T01:00:00+00:00",
          "2025-02-01T02:00:00+00:00",
          "2025-02-01T03:00:00+00:00",
          "2025-02-01T04:00:00+00:00",
          "2025-02-01T05:00:00+00:00",
          "2025-02-01T06:00:00+00:00",
          "2025-02-01T07:00:00+00:00",
          "2025-02-01T08:00:00+00:00",
          "2025-02-01T09:00:00+00:00",
          "2025-02-01T10:00:00+00:00",
          "2025-02-01T11:00:00+00:00",
          "2025-02-01T12:00:00+00:00",
          "2025-02-01T13:00:00+00:00",
          "2025-02-01T14:00:00+00:00",
          "2025-02-01T15:00:00+00:00",
          "2025-02-01T16:00:00+00:00",
          "2025-02-01T17:00:00+00:00",
          "2025-02-01T18:00:00+00:00",
          "2025-02-01T19:00:00+00:00",
          "2025-02-01T20:00:00+00:00",
          "2025-02-01T21:00:00+00:00",
          "2025-02-01T22:00:00+00:00",
          "2025-02-01T23:00:00+00:00",
          "2025-02-02T00:00:00+00:00",
          "2025-02-02T00:00:00+00:00",
          "2025-02-02T01:00:00+00:00",
          "2025-02-02T02:00:00+00:00",
          "2025-02-02T03:00:00+00:00",
          "2025-02-02T04:00:00+00:00",
          "2025-02-02T05:00:00+00:00",
          "2025-02-02T06:00:00+00:00",
          "2025-02-02T07:00:00+00:00",
          "2025-02-02T08:00:00+00:00",
          "2025-02-02T09:00:00+00:00",
          "2025-02-02T10:00:00+00:00",
          "2025-02-02T11:00:00+00:00",
          "2025-02-02T12:00:00+00:00",
          "2025-02-02T13:00:00+00:00",
          "2025-02-02T14:00:00+00:00",
          "2025-02-02T15:00:00+00:00",
          "2025-02-02T16:00:00+00:00",
          "2025-02-02T17:00:00+00:00",
          "2025-02-02T18:00:00+00:00",
          "2025-02-02T19:00:00+00:00",
          "2025-02-02T20:00:00+00:00",
          "2025-02-02T21:00:00+00:00",
          "2025-02-02T22:00:00+00:00",
          "2025-02-02T23:00:00+00:00",
          "2025-02-03T00:00:00+00:00",
          "2025-02-03T00:00:00+00:00",
          "2025-02-03T01:00:00+00:00",
          "2025-02-03T02:00:00+00:00",
          "2025-02-03T03:00:00+00:00",
          "2025-02-03T04:00:00+00:00",
          "2025-02-03T05:00:00+00:00",
          "2025-02-03T06:00:00+00:00",
          "2025-02-03T07:00:00+00:00",
          "2025-02-03T08:00:00+00:00",
          "2025-02-03T09:00:00+00:00",
          "2025-02-03T10:00:00+00:00",
          "2025-02-03T11:00:00+00:00",
          "2025-02-03T12:00:00+00:00",
          "2025-02-03T13:00:00+00:00",
          "2025-02-03T14:00:00+00:00",
          "2025-02-03T15:00:00+00:00",
          "2025-02-03T16:00:00+00:00",
          "2025-02-03T17:00:00+00:00",
          "2025-02-03T18:00:00+00:00",
          "2025-02-03T19:00:00+00:00",
          "2025-02-03T20:00:00+00:00",
          "2025-02-03T21:00:00+00:00",
          "2025-02-03T22:00:00+00:00",
          "2025-02-03T23:00:00+00:00",
          "2025-02-04T00:00:00+00:00",
          "2025-02-04T00:00:00+00:00",
          "2025-02-04T01:00:00+00:00",
          "2025-02-04T02:00:00+00:00",
          "2025-02-04T03:00:00+00:00",
          "2025-02-04T04:00:00+00:00",
          "2025-02-04T05:00:00+00:00",
          "2025-02-04T06:00:00+00:00",
          "2025-02-04T07:00:00+00:00",
          "2025-02-04T08:00:00+00:00",
          "2025-02-04T09:00:00+00:00",
          "2025-02-04T10:00:00+00:00",
          "2025-02-04T11:00:00+00:00",
          "2025-02-04T12:00:00+00:00",
          "2025-02-04T13:00:00+00:00",
          "2025-02-04T14:00:00+00:00",
          "2025-02-04T15:00:00+00:00",
          "2025-02-04T16:00:00+00:00",
          "2025-02-04T17:00:00+00:00",
          "2025-02-04T18:00:00+00:00",
          "2025-02-04T19:00:00+00:00",
          "2025-02-04T20:00:00+00:00",
          "2025-02-04T21:00:00+00:00",
          "2025-02-04T22:00:00+00:00",
          "2025-02-04T23:00:00+00:00",
          "2025-02-05T00:00:00+00:00",
          "2025-02-05T00:00:00+00:00",
          "2025-02-05T01:00:00+00:00",
          "2025-02-05T02:00:00+00:00",
          "2025-02-05T03:00:00+00:00",
          "2025-02-05T04:00:00+00:00",
          "2025-02-05T05:00:00+00:00",
          "2025-02-05T06:00:00+00:00",
          "2025-02-05T07:00:00+00:00",
          "2025-02-05T08:00:00+00:00",
          "2025-02-05T09:00:00+00:00",
          "2025-02-05T10:00:00+00:00",
          "2025-02-05T11:00:00+00:00",
          "2025-02-05T12:00:00+00:00",
          "2025-02-05T13:00:00+00:00",
          "2025-02-05T14:00:00+00:00",
          "2025-02-05T15:00:00+00:00",
          "2025-02-05T16:00:00+00:00",
          "2025-02-05T17:00:00+00:00",
          "2025-02-05T18:00:00+00:00",
          "2025-02-05T19:00:00+00:00",
          "2025-02-05T20:00:00+00:00",
          "2025-02-05T21:00:00+00:00",
          "2025-02-05T22:00:00+00:00",
          "2025-02-05T23:00:00+00:00",
          "2025-02-06T00:00:00+00:00",
          "2025-02-06T00:00:00+00:00",
          "2025-02-06T01:00:00+00:00",
          "2025-02-06T02:00:00+00:00",
          "2025-02-06T03:00:00+00:00",
          "2025-02-06T04:00:00+00:00",
          "2025-02-06T05:00:00+00:00",
          "2025-02-06T06:00:00+00:00",
          "2025-02-06T07:00:00+00:00",
          "2025-02-06T08:00:00+00:00",
          "2025-02-06T09:00:00+00:00",
          "2025-02-06T10:00:00+00:00",
          "2025-02-06T11:00:00+00:00",
          "2025-02-06T12:00:00+00:00",
          "2025-02-06T13:00:00+00:00",
          "2025-02-06T14:00:00+00:00",
          "2025-02-06T15:00:00+00:00",
          "2025-02-06T16:00:00+00:00",
          "2025-02-06T17:00:00+00:00",
          "2025-02-06T18:00:00+00:00",
          "2025-02-06T19:00:00+00:00",
          "2025-02-06T20:00:00+00:00",
          "2025-02-06T21:00:00+00:00",
          "2025-02-06T22:00:00+00:00",
          "2025-02-06T23:00:00+00:00",
          "2025-02-07T00:00:00+00:00",
          "2025-02-07T00:00:00+00:00",
          "2025-02-07T01:00:00+00:00",
          "2025-02-07T02:00:00+00:00",
          "2025-02-07T03:00:00+00:00",
          "2025-02-07T04:00:00+00:00",
          "2025-02-07T05:00:00+00:00",
          "2025-02-07T06:00:00+00:00",
          "2025-02-07T07:00:00+00:00",
          "2025-02-07T08:00:00+00:00",
          "2025-02-07T09:00:00+00:00",
          "2025-02-07T10:00:00+00:00",
          "2025-02-07T11:00:00+00:00",
          "2025-02-07T12:00:00+00:00",
          "2025-02-07T13:00:00+00:00",
          "2025-02-07T14:00:00+00:00",
          "2025-02-07T15:00:00+00:00",
          "2025-02-07T16:00:00+00:00",
          "2025-02-07T17:00:00+00:00",
          "2025-02-07T18:00:00+00:00",
          "2025-02-07T19:00:00+00:00",
          "2025-02-07T20:00:00+00:00",
          "2025-02-07T21:00:00+00:00",
          "2025-02-07T22:00:00+00:00",
          "2025-02-07T23:00:00+00:00",
          "2025-02-08T00:00:00+00:00",
          "2025-02-08T00:00:00+00:00",
          "2025-02-08T01:00:00+00:00",
          "2025-02-08T02:00:00+00:00",
          "2025-02-08T03:00:00+00:00",
          "2025-02-08T04:00:00+00:00",
          "2025-02-08T05:00:00+00:00",
          "2025-02-08T06:00:00+00:00",
          "2025-02-08T07:00:00+00:00",
          "2025-02-08T08:00:00+00:00",
          "2025-02-08T09:00:00+00:00",
          "2025-02-08T10:00:00+00:00",
          "2025-02-08T11:00:00+00:00",
          "2025-02-08T12:00:00+00:00",
          "2025-02-08T13:00:00+00:00",
          "2025-02-08T14:00:00+00:00",
          "2025-02-08T15:00:00+00:00",
          "2025-02-08T16:00:00+00:00",
          "2025-02-08T17:00:00+00:00",
          "2025-02-08T18:00:00+00:00",
          "2025-02-08T19:00:00+00:00",
          "2025-02-08T20:00:00+00:00",
          "2025-02-08T21:00:00+00:00",
          "2025-02-08T22:00:00+00:00",
          "2025-02-08T23:00:00+00:00",
          "2025-02-09T00:00:00+00:00",
          "2025-02-09T00:00:00+00:00",
          "2025-02-09T01:00:00+00:00",
          "2025-02-09T02:00:00+00:00",
          "2025-02-09T03:00:00+00:00",
          "2025-02-09T04:00:00+00:00",
          "2025-02-09T05:00:00+00:00",
          "2025-02-09T06:00:00+00:00",
          "2025-02-09T07:00:00+00:00",
          "2025-02-09T08:00:00+00:00",
          "2025-02-09T09:00:00+00:00",
          "2025-02-09T10:00:00+00:00",
          "2025-02-09T11:00:00+00:00",
          "2025-02-09T12:00:00+00:00",
          "2025-02-09T13:00:00+00:00",
          "2025-02-09T14:00:00+00:00",
          "2025-02-09T15:00:00+00:00",
          "2025-02-09T16:00:00+00:00",
          "2025-02-09T17:00:00+00:00",
          "2025-02-09T18:00:00+00:00",
          "2025-02-09T19:00:00+00:00",
          "2025-02-09T20:00:00+00:00",
          "2025-02-09T21:00:00+00:00",
          "2025-02-09T22:00:00+00:00",
          "2025-02-09T23:00:00+00:00",
          "2025-02-10T00:00:00+00:00",
          "2025-02-10T00:00:00+00:00",
          "2025-02-10T01:00:00+00:00",
          "2025-02-10T02:00:00+00:00",
          "2025-02-10T03:00:00+00:00",
          "2025-02-10T04:00:00+00:00",
          "2025-02-10T05:00:00+00:00",
          "2025-02-10T06:00:00+00:00",
          "2025-02-10T07:00:00+00:00",
          "2025-02-10T08:00:00+00:00",
          "2025-02-10T09:00:00+00:00",
          "2025-02-10T10:00:00+00:00",
          "2025-02-10T11:00:00+00:00",
          "2025-02-10T12:00:00+00:00",
          "2025-02-10T13:00:00+00:00",
          "2025-02-10T14:00:00+00:00",
          "2025-02-10T15:00:00+00:00",
          "2025-02-10T16:00:00+00:00",
          "2025-02-10T17:00:00+00:00",
          "2025-02-10T18:00:00+00:00",
          "2025-02-10T19:00:00+00:00",
          "2025-02-10T20:00:00+00:00",
          "2025-02-10T21:00:00+00:00",
          "2025-02-10T22:00:00+00:00",
          "2025-02-10T23:00:00+00:00",
          "2025-02-11T00:00:00+00:00",
          "2025-02-11T00:00:00+00:00",
          "2025-02-11T01:00:00+00:00",
          "2025-02-11T02:00:00+00:00",
          "2025-02-11T03:00:00+00:00",
          "2025-02-11T04:00:00+00:00",
          "2025-02-11T05:00:00+00:00",
          "2025-02-11T06:00:00+00:00",
          "2025-02-11T07:00:00+00:00",
          "2025-02-11T08:00:00+00:00",
          "2025-02-11T09:00:00+00:00",
          "2025-02-11T10:00:00+00:00",
          "2025-02-11T11:00:00+00:00",
          "2025-02-11T12:00:00+00:00",
          "2025-02-11T13:00:00+00:00",
          "2025-02-11T14:00:00+00:00",
          "2025-02-11T15:00:00+00:00",
          "2025-02-11T16:00:00+00:00",
          "2025-02-11T17:00:00+00:00",
          "2025-02-11T18:00:00+00:00",
          "2025-02-11T19:00:00+00:00",
          "2025-02-11T20:00:00+00:00",
          "2025-02-11T21:00:00+00:00",
          "2025-02-11T22:00:00+00:00",
          "2025-02-11T23:00:00+00:00",
          "2025-02-12T00:00:00+00:00",
          "2025-02-12T00:00:00+00:00",
          "2025-02-12T01:00:00+00:00",
          "2025-02-12T02:00:00+00:00",
          "2025-02-12T03:00:00+00:00",
          "2025-02-12T04:00:00+00:00",
          "2025-02-12T05:00:00+00:00",
          "2025-02-12T06:00:00+00:00",
          "2025-02-12T07:00:00+00:00",
          "2025-02-12T08:00:00+00:00",
          "2025-02-12T09:00:00+00:00",
          "2025-02-12T10:00:00+00:00",
          "2025-02-12T11:00:00+00:00",
          "2025-02-12T12:00:00+00:00",
          "2025-02-12T13:00:00+00:00",
          "2025-02-12T14:00:00+00:00",
          "2025-02-12T15:00:00+00:00",
          "2025-02-12T16:00:00+00:00",
          "2025-02-12T17:00:00+00:00",
          "2025-02-12T18:00:00+00:00",
          "2025-02-12T19:00:00+00:00",
          "2025-02-12T20:00:00+00:00",
          "2025-02-12T21:00:00+00:00",
          "2025-02-12T22:00:00+00:00",
          "2025-02-12T23:00:00+00:00",
          "2025-02-13T00:00:00+00:00",
          "2025-02-13T00:00:00+00:00",
          "2025-02-13T01:00:00+00:00",
          "2025-02-13T02:00:00+00:00",
          "2025-02-13T03:00:00+00:00",
          "2025-02-13T04:00:00+00:00",
          "2025-02-13T05:00:00+00:00",
          "2025-02-13T06:00:00+00:00",
          "2025-02-13T07:00:00+00:00",
          "2025-02-13T08:00:00+00:00",
          "2025-02-13T09:00:00+00:00",
          "2025-02-13T10:00:00+00:00",
          "2025-02-13T11:00:00+00:00",
          "2025-02-13T12:00:00+00:00",
          "2025-02-13T13:00:00+00:00",
          "2025-02-13T14:00:00+00:00",
          "2025-02-13T15:00:00+00:00",
          "2025-02-13T16:00:00+00:00",
          "2025-02-13T17:00:00+00:00",
          "2025-02-13T18:00:00+00:00",
          "2025-02-13T19:00:00+00:00",
          "2025-02-13T20:00:00+00:00",
          "2025-02-13T21:00:00+00:00",
          "2025-02-13T22:00:00+00:00",
          "2025-02-13T23:00:00+00:00",
          "2025-02-14T00:00:00+00:00",
          "2025-02-14T00:00:00+00:00",
          "2025-02-14T01:00:00+00:00",
          "2025-02-14T02:00:00+00:00",
          "2025-02-14T03:00:00+00:00",
          "2025-02-14T04:00:00+00:00",
          "2025-02-14T05:00:00+00:00",
          "2025-02-14T06:00:00+00:00",
          "2025-02-14T07:00:00+00:00",
          "2025-02-14T08:00:00+00:00",
          "2025-02-14T09:00:00+00:00",
          "2025-02-14T10:00:00+00:00",
          "2025-02-14T11:00:00+00:00",
          "2025-02-14T12:00:00+00:00",
          "2025-02-14T13:00:00+00:00",
          "2025-02-14T14:00:00+00:00",
          "2025-02-14T15:00:00+00:00",
          "2025-02-14T16:00:00+00:00",
          "2025-02-14T17:00:00+00:00",
          "2025-02-14T18:00:00+00:00",
          "2025-02-14T19:00:00+00:00",
          "2025-02-14T20:00:00+00:00",
          "2025-02-14T21:00:00+00:00",
          "2025-02-14T22:00:00+00:00",
          "2025-02-14T23:00:00+00:00",
          "2025-02-15T00:00:00+00:00",
          "2025-02-15T00:00:00+00:00",
          "2025-02-15T01:00:00+00:00",
          "2025-02-15T02:00:00+00:00",
          "2025-02-15T03:00:00+00:00",
          "2025-02-15T04:00:00+00:00",
          "2025-02-15T05:00:00+00:00",
          "2025-02-15T06:00:00+00:00",
          "2025-02-15T07:00:00+00:00",
          "2025-02-15T08:00:00+00:00",
          "2025-02-15T09:00:00+00:00",
          "2025-02-15T10:00:00+00:00",
          "2025-02-15T11:00:00+00:00",
          "2025-02-15T12:00:00+00:00",
          "2025-02-15T13:00:00+00:00",
          "2025-02-15T14:00:00+00:00",
          "2025-02-15T15:00:00+00:00",
          "2025-02-15T16:00:00+00:00",
          "2025-02-15T17:00:00+00:00",
          "2025-02-15T18:00:00+00:00",
          "2025-02-15T19:00:00+00:00",
          "2025-02-15T20:00:00+00:00",
          "2025-02-15T21:00:00+00:00",
          "2025-02-15T22:00:00+00:00",
          "2025-02-15T23:00:00+00:00",
          "2025-02-16T00:00:00+00:00",
          "2025-02-16T00:00:00+00:00",
          "2025-02-16T01:00:00+00:00",
          "2025-02-16T02:00:00+00:00",
          "2025-02-16T03:00:00+00:00",
          "2025-02-16T04:00:00+00:00",
          "2025-02-16T05:00:00+00:00",
          "2025-02-16T06:00:00+00:00",
          "2025-02-16T07:00:00+00:00",
          "2025-02-16T08:00:00+00:00",
          "2025-02-16T09:00:00+00:00",
          "2025-02-16T10:00:00+00:00",
          "2025-02-16T11:00:00+00:00",
          "2025-02-16T12:00:00+00:00",
          "2025-02-16T13:00:00+00:00",
          "2025-02-16T14:00:00+00:00",
          "2025-02-16T15:00:00+00:00",
          "2025-02-16T16:00:00+00:00",
          "2025-02-16T17:00:00+00:00",
          "2025-02-16T18:00:00+00:00",
          "2025-02-16T19:00:00+00:00",
          "2025-02-16T20:00:00+00:00",
          "2025-02-16T21:00:00+00:00",
          "2025-02-16T22:00:00+00:00",
          "2025-02-16T23:00:00+00:00",
          "2025-02-17T00:00:00+00:00",
          "2025-02-17T00:00:00+00:00",
          "2025-02-17T01:00:00+00:00",
          "2025-02-17T02:00:00+00:00",
          "2025-02-17T03:00:00+00:00",
          "2025-02-17T04:00:00+00:00",
          "2025-02-17T05:00:00+00:00",
          "2025-02-17T06:00:00+00:00",
          "2025-02-17T07:00:00+00:00",
          "2025-02-17T08:00:00+00:00",
          "2025-02-17T09:00:00+00:00",
          "2025-02-17T10:00:00+00:00",
          "2025-02-17T11:00:00+00:00",
          "2025-02-17T12:00:00+00:00",
          "2025-02-17T13:00:00+00:00",
          "2025-02-17T14:00:00+00:00",
          "2025-02-17T15:00:00+00:00",
          "2025-02-17T16:00:00+00:00",
          "2025-02-17T17:00:00+00:00",
          "2025-02-17T18:00:00+00:00",
          "2025-02-17T19:00:00+00:00",
          "2025-02-17T20:00:00+00:00",
          "2025-02-17T21:00:00+00:00",
          "2025-02-17T22:00:00+00:00",
          "2025-02-17T23:00:00+00:00",
          "2025-02-18T00:00:00+00:00",
          "2025-02-18T00:00:00+00:00",
          "2025-02-18T01:00:00+00:00",
          "2025-02-18T02:00:00+00:00",
          "2025-02-18T03:00:00+00:00",
          "2025-02-18T04:00:00+00:00",
          "2025-02-18T05:00:00+00:00",
          "2025-02-18T06:00:00+00:00",
          "2025-02-18T07:00:00+00:00",
          "2025-02-18T08:00:00+00:00",
          "2025-02-18T09:00:00+00:00",
          "2025-02-18T10:00:00+00:00",
          "2025-02-18T11:00:00+00:00",
          "2025-02-18T12:00:00+00:00",
          "2025-02-18T13:00:00+00:00",
          "2025-02-18T14:00:00+00:00",
          "2025-02-18T15:00:00+00:00",
          "2025-02-18T16:00:00+00:00",
          "2025-02-18T17:00:00+00:00",
          "2025-02-18T18:00:00+00:00",
          "2025-02-18T19:00:00+00:00",
          "2025-02-18T20:00:00+00:00",
          "2025-02-18T21:00:00+00:00",
          "2025-02-18T22:00:00+00:00",
          "2025-02-18T23:00:00+00:00",
          "2025-02-19T00:00:00+00:00",
          "2025-02-19T00:00:00+00:00",
          "2025-02-19T01:00:00+00:00",
          "2025-02-19T02:00:00+00:00",
          "2025-02-19T03:00:00+00:00",
          "2025-02-19T04:00:00+00:00",
          "2025-02-19T05:00:00+00:00",
          "2025-02-19T06:00:00+00:00",
          "2025-02-19T07:00:00+00:00",
          "2025-02-19T08:00:00+00:00",
          "2025-02-19T09:00:00+00:00",
          "2025-02-19T10:00:00+00:00",
          "2025-02-19T11:00:00+00:00",
          "2025-02-19T12:00:00+00:00",
          "2025-02-19T13:00:00+00:00",
          "2025-02-19T14:00:00+00:00",
          "2025-02-19T15:00:00+00:00",
          "2025-02-19T16:00:00+00:00",
          "2025-02-19T17:00:00+00:00",
          "2025-02-19T18:00:00+00:00",
          "2025-02-19T19:00:00+00:00",
          "2025-02-19T20:00:00+00:00",
          "2025-02-19T21:00:00+00:00",
          "2025-02-19T22:00:00+00:00",
          "2025-02-19T23:00:00+00:00",
          "2025-02-20T00:00:00+00:00",
          "2025-02-20T00:00:00+00:00",
          "2025-02-20T01:00:00+00:00",
          "2025-02-20T02:00:00+00:00",
          "2025-02-20T03:00:00+00:00",
          "2025-02-20T04:00:00+00:00",
          "2025-02-20T05:00:00+00:00",
          "2025-02-20T06:00:00+00:00",
          "2025-02-20T07:00:00+00:00",
          "2025-02-20T08:00:00+00:00",
          "2025-02-20T09:00:00+00:00",
          "2025-02-20T10:00:00+00:00",
          "2025-02-20T11:00:00+00:00",
          "2025-02-20T12:00:00+00:00",
          "2025-02-20T13:00:00+00:00",
          "2025-02-20T14:00:00+00:00",
          "2025-02-20T15:00:00+00:00",
          "2025-02-20T16:00:00+00:00",
          "2025-02-20T17:00:00+00:00",
          "2025-02-20T18:00:00+00:00",
          "2025-02-20T19:00:00+00:00",
          "2025-02-20T20:00:00+00:00",
          "2025-02-20T21:00:00+00:00",
          "2025-02-20T22:00:00+00:00",
          "2025-02-20T23:00:00+00:00",
          "2025-02-21T00:00:00+00:00",
          "2025-02-21T00:00:00+00:00",
          "2025-02-21T01:00:00+00:00",
          "2025-02-21T02:00:00+00:00",
          "2025-02-21T03:00:00+00:00",
          "2025-02-21T04:00:00+00:00",
          "2025-02-21T05:00:00+00:00",
          "2025-02-21T06:00:00+00:00",
          "2025-02-21T07:00:00+00:00",
          "2025-02-21T08:00:00+00:00",
          "2025-02-21T09:00:00+00:00",
          "2025-02-21T10:00:00+00:00",
          "2025-02-21T11:00:00+00:00",
          "2025-02-21T12:00:00+00:00",
          "2025-02-21T13:00:00+00:00",
          "2025-02-21T14:00:00+00:00",
          "2025-02-21T15:00:00+00:00",
          "2025-02-21T16:00:00+00:00",
          "2025-02-21T17:00:00+00:00",
          "2025-02-21T18:00:00+00:00",
          "2025-02-21T19:00:00+00:00",
          "2025-02-21T20:00:00+00:00",
          "2025-02-21T21:00:00+00:00",
          "2025-02-21T22:00:00+00:00",
          "2025-02-21T23:00:00+00:00",
          "2025-02-22T00:00:00+00:00",
          "2025-02-22T00:00:00+00:00",
          "2025-02-22T01:00:00+00:00",
          "2025-02-22T02:00:00+00:00",
          "2025-02-22T03:00:00+00:00",
          "2025-02-22T04:00:00+00:00",
          "2025-02-22T05:00:00+00:00",
          "2025-02-22T06:00:00+00:00",
          "2025-02-22T07:00:00+00:00",
          "2025-02-22T08:00:00+00:00",
          "2025-02-22T09:00:00+00:00",
          "2025-02-22T10:00:00+00:00",
          "2025-02-22T11:00:00+00:00",
          "2025-02-22T12:00:00+00:00",
          "2025-02-22T13:00:00+00:00",
          "2025-02-22T14:00:00+00:00",
          "2025-02-22T15:00:00+00:00",
          "2025-02-22T16:00:00+00:00",
          "2025-02-22T17:00:00+00:00",
          "2025-02-22T18:00:00+00:00",
          "2025-02-22T19:00:00+00:00",
          "2025-02-22T20:00:00+00:00",
          "2025-02-22T21:00:00+00:00",
          "2025-02-22T22:00:00+00:00",
          "2025-02-22T23:00:00+00:00",
          "2025-02-23T00:00:00+00:00",
          "2025-02-23T00:00:00+00:00",
          "2025-02-23T01:00:00+00:00",
          "2025-02-23T02:00:00+00:00",
          "2025-02-23T03:00:00+00:00",
          "2025-02-23T04:00:00+00:00",
          "2025-02-23T05:00:00+00:00",
          "2025-02-23T06:00:00+00:00",
          "2025-02-23T07:00:00+00:00",
          "2025-02-23T08:00:00+00:00",
          "2025-02-23T09:00:00+00:00",
          "2025-02-23T10:00:00+00:00",
          "2025-02-23T11:00:00+00:00",
          "2025-02-23T12:00:00+00:00",
          "2025-02-23T13:00:00+00:00",
          "2025-02-23T14:00:00+00:00",
          "2025-02-23T15:00:00+00:00",
          "2025-02-23T16:00:00+00:00",
          "2025-02-23T17:00:00+00:00",
          "2025-02-23T18:00:00+00:00",
          "2025-02-23T19:00:00+00:00",
          "2025-02-23T20:00:00+00:00",
          "2025-02-23T21:00:00+00:00",
          "2025-02-23T22:00:00+00:00",
          "2025-02-23T23:00:00+00:00",
          "2025-02-24T00:00:00+00:00",
          "2025-02-24T00:00:00+00:00",
          "2025-02-24T01:00:00+00:00",
          "2025-02-24T02:00:00+00:00",
          "2025-02-24T03:00:00+00:00",
          "2025-02-24T04:00:00+00:00",
          "2025-02-24T05:00:00+00:00",
          "2025-02-24T06:00:00+00:00",
          "2025-02-24T07:00:00+00:00",
          "2025-02-24T08:00:00+00:00",
          "2025-02-24T09:00:00+00:00",
          "2025-02-24T10:00:00+00:00",
          "2025-02-24T11:00:00+00:00",
          "2025-02-24T12:00:00+00:00",
          "2025-02-24T13:00:00+00:00",
          "2025-02-24T14:00:00+00:00",
          "2025-02-24T15:00:00+00:00",
          "2025-02-24T16:00:00+00:00",
          "2025-02-24T17:00:00+00:00",
          "2025-02-24T18:00:00+00:00",
          "2025-02-24T19:00:00+00:00",
          "2025-02-24T20:00:00+00:00",
          "2025-02-24T21:00:00+00:00",
          "2025-02-24T22:00:00+00:00",
          "2025-02-24T23:00:00+00:00",
          "2025-02-25T00:00:00+00:00",
          "2025-02-25T00:00:00+00:00",
          "2025-02-25T01:00:00+00:00",
          "2025-02-25T02:00:00+00:00",
          "2025-02-25T03:00:00+00:00",
          "2025-02-25T04:00:00+00:00",
          "2025-02-25T05:00:00+00:00",
          "2025-02-25T06:00:00+00:00",
          "2025-02-25T07:00:00+00:00",
          "2025-02-25T08:00:00+00:00",
          "2025-02-25T09:00:00+00:00",
          "2025-02-25T10:00:00+00:00",
          "2025-02-25T11:00:00+00:00",
          "2025-02-25T12:00:00+00:00",
          "2025-02-25T13:00:00+00:00",
          "2025-02-25T14:00:00+00:00",
          "2025-02-25T15:00:00+00:00",
          "2025-02-25T16:00:00+00:00",
          "2025-02-25T17:00:00+00:00",
          "2025-02-25T18:00:00+00:00",
          "2025-02-25T19:00:00+00:00",
          "2025-02-25T20:00:00+00:00",
          "2025-02-25T21:00:00+00:00",
          "2025-02-25T22:00:00+00:00",
          "2025-02-25T23:00:00+00:00",
          "2025-02-26T00:00:00+00:00",
          "2025-02-26T00:00:00+00:00",
          "2025-02-26T01:00:00+00:00",
          "2025-02-26T02:00:00+00:00",
          "2025-02-26T03:00:00+00:00",
          "2025-02-26T04:00:00+00:00",
          "2025-02-26T05:00:00+00:00",
          "2025-02-26T06:00:00+00:00",
          "2025-02-26T07:00:00+00:00",
          "2025-02-26T08:00:00+00:00",
          "2025-02-26T09:00:00+00:00",
          "2025-02-26T10:00:00+00:00",
          "2025-02-26T11:00:00+00:00",
          "2025-02-26T12:00:00+00:00",
          "2025-02-26T13:00:00+00:00",
          "2025-02-26T14:00:00+00:00",
          "2025-02-26T15:00:00+00:00",
          "2025-02-26T16:00:00+00:00",
          "2025-02-26T17:00:00+00:00",
          "2025-02-26T18:00:00+00:00",
          "2025-02-26T19:00:00+00:00",
          "2025-02-26T20:00:00+00:00",
          "2025-02-26T21:00:00+00:00",
          "2025-02-26T22:00:00+00:00",
          "2025-02-26T23:00:00+00:00",
          "2025-02-27T00:00:00+00:00",
          "2025-02-27T00:00:00+00:00",
          "2025-02-27T01:00:00+00:00",
          "2025-02-27T02:00:00+00:00",
          "2025-02-27T03:00:00+00:00",
          "2025-02-27T04:00:00+00:00",
          "2025-02-27T05:00:00+00:00",
          "2025-02-27T06:00:00+00:00",
          "2025-02-27T07:00:00+00:00",
          "2025-02-27T08:00:00+00:00",
          "2025-02-27T09:00:00+00:00",
          "2025-02-27T10:00:00+00:00",
          "2025-02-27T11:00:00+00:00",
          "2025-02-27T12:00:00+00:00",
          "2025-02-27T13:00:00+00:00",
          "2025-02-27T14:00:00+00:00",
          "2025-02-27T15:00:00+00:00",
          "2025-02-27T16:00:00+00:00",
          "2025-02-27T17:00:00+00:00",
          "2025-02-27T18:00:00+00:00",
          "2025-02-27T19:00:00+00:00",
          "2025-02-27T20:00:00+00:00",
          "2025-02-27T21:00:00+00:00",
          "2025-02-27T22:00:00+00:00",
          "2025-02-27T23:00:00+00:00",
          "2025-02-28T00:00:00+00:00",
          "2025-02-28T00:00:00+00:00",
          "2025-02-28T01:00:00+00:00",
          "2025-02-28T02:00:00+00:00",
          "2025-02-28T03:00:00+00:00",
          "2025-02-28T04:00:00+00:00",
          "2025-02-28T05:00:00+00:00",
          "2025-02-28T06:00:00+00:00",
          "2025-02-28T07:00:00+00:00",
          "2025-02-28T08:00:00+00:00",
          "2025-02-28T09:00:00+00:00",
          "2025-02-28T10:00:00+00:00",
          "2025-02-28T11:00:00+00:00",
          "2025-02-28T12:00:00+00:00",
          "2025-02-28T13:00:00+00:00",
          "2025-02-28T14:00:00+00:00",
          "2025-02-28T15:00:00+00:00",
          "2025-02-28T16:00:00+00:00",
          "2025-02-28T17:00:00+00:00",
          "2025-02-28T18:00:00+00:00",
          "2025-02-28T19:00:00+00:00",
          "2025-02-28T20:00:00+00:00",
          "2025-02-28T21:00:00+00:00",
          "2025-02-28T22:00:00+00:00",
          "2025-02-28T23:00:00+00:00",
          "2025-03-01T00:00:00+00:00",
          "2025-03-01T00:00:00+00:00",
          "2025-03-01T01:00:00+00:00",
          "2025-03-01T02:00:00+00:00",
          "2025-03-01T03:00:00+00:00",
          "2025-03-01T04:00:00+00:00",
          "2025-03-01T05:00:00+00:00",
          "2025-03-01T06:00:00+00:00",
          "2025-03-01T07:00:00+00:00",
          "2025-03-01T08:00:00+00:00",
          "2025-03-01T09:00:00+00:00",
          "2025-03-01T10:00:00+00:00",
          "2025-03-01T11:00:00+00:00",
          "2025-03-01T12:00:00+00:00",
          "2025-03-01T13:00:00+00:00",
          "2025-03-01T14:00:00+00:00",
          "2025-03-01T15:00:00+00:00",
          "2025-03-01T16:00:00+00:00",
          "2025-03-01T17:00:00+00:00",
          "2025-03-01T18:00:00+00:00",
          "2025-03-01T19:00:00+00:00",
          "2025-03-01T20:00:00+00:00",
          "2025-03-01T21:00:00+00:00",
          "2025-03-01T22:00:00+00:00",
          "2025-03-01T23:00:00+00:00",
          "2025-03-02T00:00:00+00:00",
          "2025-03-02T00:00:00+00:00",
          "2025-03-02T01:00:00+00:00",
          "2025-03-02T02:00:00+00:00",
          "2025-03-02T03:00:00+00:00",
          "2025-03-02T04:00:00+00:00",
          "2025-03-02T05:00:00+00:00",
          "2025-03-02T06:00:00+00:00",
          "2025-03-02T07:00:00+00:00",
          "2025-03-02T08:00:00+00:00",
          "2025-03-02T09:00:00+00:00",
          "2025-03-02T10:00:00+00:00",
          "2025-03-02T11:00:00+00:00",
          "2025-03-02T12:00:00+00:00",
          "2025-03-02T13:00:00+00:00",
          "2025-03-02T14:00:00+00:00",
          "2025-03-02T15:00:00+00:00",
          "2025-03-02T16:00:00+00:00",
          "2025-03-02T17:00:00+00:00",
          "2025-03-02T18:00:00+00:00",
          "2025-03-02T19:00:00+00:00",
          "2025-03-02T20:00:00+00:00",
          "2025-03-02T21:00:00+00:00",
          "2025-03-02T22:00:00+00:00",
          "2025-03-02T23:00:00+00:00",
          "2025-03-03T00:00:00+00:00",
          "2025-03-03T00:00:00+00:00",
          "2025-03-03T01:00:00+00:00",
          "2025-03-03T02:00:00+00:00",
          "2025-03-03T03:00:00+00:00",
          "2025-03-03T04:00:00+00:00",
          "2025-03-03T05:00:00+00:00",
          "2025-03-03T06:00:00+00:00",
          "2025-03-03T07:00:00+00:00",
          "2025-03-03T08:00:00+00:00",
          "2025-03-03T09:00:00+00:00",
          "2025-03-03T10:00:00+00:00",
          "2025-03-03T11:00:00+00:00",
          "2025-03-03T12:00:00+00:00",
          "2025-03-03T13:00:00+00:00",
          "2025-03-03T14:00:00+00:00",
          "2025-03-03T15:00:00+00:00",
          "2025-03-03T16:00:00+00:00",
          "2025-03-03T17:00:00+00:00",
          "2025-03-03T18:00:00+00:00",
          "2025-03-03T19:00:00+00:00",
          "2025-03-03T20:00:00+00:00",
          "2025-03-03T21:00:00+00:00",
          "2025-03-03T22:00:00+00:00",
          "2025-03-03T23:00:00+00:00",
          "2025-03-04T00:00:00+00:00",
          "2025-03-04T00:00:00+00:00",
          "2025-03-04T01:00:00+00:00",
          "2025-03-04T02:00:00+00:00",
          "2025-03-04T03:00:00+00:00",
          "2025-03-04T04:00:00+00:00",
          "2025-03-04T05:00:00+00:00",
          "2025-03-04T06:00:00+00:00",
          "2025-03-04T07:00:00+00:00",
          "2025-03-04T08:00:00+00:00",
          "2025-03-04T09:00:00+00:00",
          "2025-03-04T10:00:00+00:00",
          "2025-03-04T11:00:00+00:00",
          "2025-03-04T12:00:00+00:00",
          "2025-03-04T13:00:00+00:00",
          "2025-03-04T14:00:00+00:00",
          "2025-03-04T15:00:00+00:00",
          "2025-03-04T16:00:00+00:00",
          "2025-03-04T17:00:00+00:00",
          "2025-03-04T18:00:00+00:00",
          "2025-03-04T19:00:00+00:00",
          "2025-03-04T20:00:00+00:00",
          "2025-03-04T21:00:00+00:00",
          "2025-03-04T22:00:00+00:00",
          "2025-03-04T23:00:00+00:00",
          "2025-03-05T00:00:00+00:00",
          "2025-03-05T00:00:00+00:00",
          "2025-03-05T01:00:00+00:00",
          "2025-03-05T02:00:00+00:00",
          "2025-03-05T03:00:00+00:00",
          "2025-03-05T04:00:00+00:00",
          "2025-03-05T05:00:00+00:00",
          "2025-03-05T06:00:00+00:00",
          "2025-03-05T07:00:00+00:00",
          "2025-03-05T08:00:00+00:00",
          "2025-03-05T09:00:00+00:00",
          "2025-03-05T10:00:00+00:00",
          "2025-03-05T11:00:00+00:00",
          "2025-03-05T12:00:00+00:00",
          "2025-03-05T13:00:00+00:00",
          "2025-03-05T14:00:00+00:00",
          "2025-03-05T15:00:00+00:00",
          "2025-03-05T16:00:00+00:00",
          "2025-03-05T17:00:00+00:00",
          "2025-03-05T18:00:00+00:00",
          "2025-03-05T19:00:00+00:00",
          "2025-03-05T20:00:00+00:00",
          "2025-03-05T21:00:00+00:00",
          "2025-03-05T22:00:00+00:00",
          "2025-03-05T23:00:00+00:00",
          "2025-03-06T00:00:00+00:00",
          "2025-03-06T00:00:00+00:00",
          "2025-03-06T01:00:00+00:00",
          "2025-03-06T02:00:00+00:00",
          "2025-03-06T03:00:00+00:00",
          "2025-03-06T04:00:00+00:00",
          "2025-03-06T05:00:00+00:00",
          "2025-03-06T06:00:00+00:00",
          "2025-03-06T07:00:00+00:00",
          "2025-03-06T08:00:00+00:00",
          "2025-03-06T09:00:00+00:00",
          "2025-03-06T10:00:00+00:00",
          "2025-03-06T11:00:00+00:00",
          "2025-03-06T12:00:00+00:00",
          "2025-03-06T13:00:00+00:00",
          "2025-03-06T14:00:00+00:00",
          "2025-03-06T15:00:00+00:00",
          "2025-03-06T16:00:00+00:00",
          "2025-03-06T17:00:00+00:00",
          "2025-03-06T18:00:00+00:00",
          "2025-03-06T19:00:00+00:00",
          "2025-03-06T20:00:00+00:00",
          "2025-03-06T21:00:00+00:00",
          "2025-03-06T22:00:00+00:00",
          "2025-03-06T23:00:00+00:00",
          "2025-03-07T00:00:00+00:00",
          "2025-03-07T00:00:00+00:00",
          "2025-03-07T01:00:00+00:00",
          "2025-03-07T02:00:00+00:00",
          "2025-03-07T03:00:00+00:00",
          "2025-03-07T04:00:00+00:00",
          "2025-03-07T05:00:00+00:00",
          "2025-03-07T06:00:00+00:00",
          "2025-03-07T07:00:00+00:00",
          "2025-03-07T08:00:00+00:00",
          "2025-03-07T09:00:00+00:00",
          "2025-03-07T10:00:00+00:00",
          "2025-03-07T11:00:00+00:00",
          "2025-03-07T12:00:00+00:00",
          "2025-03-07T13:00:00+00:00",
          "2025-03-07T14:00:00+00:00",
          "2025-03-07T15:00:00+00:00",
          "2025-03-07T16:00:00+00:00",
          "2025-03-07T17:00:00+00:00",
          "2025-03-07T18:00:00+00:00",
          "2025-03-07T19:00:00+00:00",
          "2025-03-07T20:00:00+00:00",
          "2025-03-07T21:00:00+00:00",
          "2025-03-07T22:00:00+00:00",
          "2025-03-07T23:00:00+00:00",
          "2025-03-08T00:00:00+00:00",
          "2025-03-08T00:00:00+00:00",
          "2025-03-08T01:00:00+00:00",
          "2025-03-08T02:00:00+00:00",
          "2025-03-08T03:00:00+00:00",
          "2025-03-08T04:00:00+00:00",
          "2025-03-08T05:00:00+00:00",
          "2025-03-08T06:00:00+00:00",
          "2025-03-08T07:00:00+00:00",
          "2025-03-08T08:00:00+00:00",
          "2025-03-08T09:00:00+00:00",
          "2025-03-08T10:00:00+00:00",
          "2025-03-08T11:00:00+00:00",
          "2025-03-08T12:00:00+00:00",
          "2025-03-08T13:00:00+00:00",
          "2025-03-08T14:00:00+00:00",
          "2025-03-08T15:00:00+00:00",
          "2025-03-08T16:00:00+00:00",
          "2025-03-08T17:00:00+00:00",
          "2025-03-08T18:00:00+00:00",
          "2025-03-08T19:00:00+00:00",
          "2025-03-08T20:00:00+00:00",
          "2025-03-08T21:00:00+00:00",
          "2025-03-08T22:00:00+00:00",
          "2025-03-08T23:00:00+00:00",
          "2025-03-09T00:00:00+00:00",
          "2025-03-09T00:00:00+00:00",
          "2025-03-09T01:00:00+00:00",
          "2025-03-09T02:00:00+00:00",
          "2025-03-09T03:00:00+00:00",
          "2025-03-09T04:00:00+00:00",
          "2025-03-09T05:00:00+00:00",
          "2025-03-09T06:00:00+00:00",
          "2025-03-09T07:00:00+00:00",
          "2025-03-09T08:00:00+00:00",
          "2025-03-09T09:00:00+00:00",
          "2025-03-09T10:00:00+00:00",
          "2025-03-09T11:00:00+00:00",
          "2025-03-09T12:00:00+00:00",
          "2025-03-09T13:00:00+00:00",
          "2025-03-09T14:00:00+00:00",
          "2025-03-09T15:00:00+00:00",
          "2025-03-09T16:00:00+00:00",
          "2025-03-09T17:00:00+00:00",
          "2025-03-09T18:00:00+00:00",
          "2025-03-09T19:00:00+00:00",
          "2025-03-09T20:00:00+00:00",
          "2025-03-09T21:00:00+00:00",
          "2025-03-09T22:00:00+00:00",
          "2025-03-09T23:00:00+00:00",
          "2025-03-10T00:00:00+00:00",
          "2025-03-10T00:00:00+00:00",
          "2025-03-10T01:00:00+00:00",
          "2025-03-10T02:00:00+00:00",
          "2025-03-10T03:00:00+00:00",
          "2025-03-10T04:00:00+00:00",
          "2025-03-10T05:00:00+00:00",
          "2025-03-10T06:00:00+00:00",
          "2025-03-10T07:00:00+00:00",
          "2025-03-10T08:00:00+00:00",
          "2025-03-10T09:00:00+00:00",
          "2025-03-10T10:00:00+00:00",
          "2025-03-10T11:00:00+00:00",
          "2025-03-10T12:00:00+00:00",
          "2025-03-10T13:00:00+00:00",
          "2025-03-10T14:00:00+00:00",
          "2025-03-10T15:00:00+00:00",
          "2025-03-10T16:00:00+00:00",
          "2025-03-10T17:00:00+00:00",
          "2025-03-10T18:00:00+00:00",
          "2025-03-10T19:00:00+00:00",
          "2025-03-10T20:00:00+00:00",
          "2025-03-10T21:00:00+00:00",
          "2025-03-10T22:00:00+00:00",
          "2025-03-10T23:00:00+00:00",
          "2025-03-11T00:00:00+00:00",
          "2025-03-11T00:00:00+00:00",
          "2025-03-11T01:00:00+00:00",
          "2025-03-11T02:00:00+00:00",
          "2025-03-11T03:00:00+00:00",
          "2025-03-11T04:00:00+00:00",
          "2025-03-11T05:00:00+00:00",
          "2025-03-11T06:00:00+00:00",
          "2025-03-11T07:00:00+00:00",
          "2025-03-11T08:00:00+00:00",
          "2025-03-11T09:00:00+00:00",
          "2025-03-11T10:00:00+00:00",
          "2025-03-11T11:00:00+00:00",
          "2025-03-11T12:00:00+00:00",
          "2025-03-11T13:00:00+00:00",
          "2025-03-11T14:00:00+00:00",
          "2025-03-11T15:00:00+00:00",
          "2025-03-11T16:00:00+00:00",
          "2025-03-11T17:00:00+00:00",
          "2025-03-11T18:00:00+00:00",
          "2025-03-11T19:00:00+00:00",
          "2025-03-11T20:00:00+00:00",
          "2025-03-11T21:00:00+00:00",
          "2025-03-11T22:00:00+00:00",
          "2025-03-11T23:00:00+00:00",
          "2025-03-12T00:00:00+00:00",
          "2025-03-12T00:00:00+00:00",
          "2025-03-12T01:00:00+00:00",
          "2025-03-12T02:00:00+00:00",
          "2025-03-12T03:00:00+00:00",
          "2025-03-12T04:00:00+00:00",
          "2025-03-12T05:00:00+00:00",
          "2025-03-12T06:00:00+00:00",
          "2025-03-12T07:00:00+00:00",
          "2025-03-12T08:00:00+00:00",
          "2025-03-12T09:00:00+00:00",
          "2025-03-12T10:00:00+00:00",
          "2025-03-12T11:00:00+00:00",
          "2025-03-12T12:00:00+00:00",
          "2025-03-12T13:00:00+00:00",
          "2025-03-12T14:00:00+00:00",
          "2025-03-12T15:00:00+00:00",
          "2025-03-12T16:00:00+00:00",
          "2025-03-12T17:00:00+00:00",
          "2025-03-12T18:00:00+00:00",
          "2025-03-12T19:00:00+00:00",
          "2025-03-12T20:00:00+00:00",
          "2025-03-12T21:00:00+00:00",
          "2025-03-12T22:00:00+00:00",
          "2025-03-12T23:00:00+00:00",
          "2025-03-13T00:00:00+00:00",
          "2025-03-13T00:00:00+00:00",
          "2025-03-13T01:00:00+00:00",
          "2025-03-13T02:00:00+00:00",
          "2025-03-13T03:00:00+00:00",
          "2025-03-13T04:00:00+00:00",
          "2025-03-13T05:00:00+00:00",
          "2025-03-13T06:00:00+00:00",
          "2025-03-13T07:00:00+00:00",
          "2025-03-13T08:00:00+00:00",
          "2025-03-13T09:00:00+00:00",
          "2025-03-13T10:00:00+00:00",
          "2025-03-13T11:00:00+00:00",
          "2025-03-13T12:00:00+00:00",
          "2025-03-13T13:00:00+00:00",
          "2025-03-13T14:00:00+00:00",
          "2025-03-13T15:00:00+00:00",
          "2025-03-13T16:00:00+00:00",
          "2025-03-13T17:00:00+00:00",
          "2025-03-13T18:00:00+00:00",
          "2025-03-13T19:00:00+00:00",
          "2025-03-13T20:00:00+00:00",
          "2025-03-13T21:00:00+00:00",
          "2025-03-13T22:00:00+00:00",
          "2025-03-13T23:00:00+00:00",
          "2025-03-14T00:00:00+00:00",
          "2025-03-14T00:00:00+00:00",
          "2025-03-14T01:00:00+00:00",
          "2025-03-14T02:00:00+00:00",
          "2025-03-14T03:00:00+00:00",
          "2025-03-14T04:00:00+00:00",
          "2025-03-14T05:00:00+00:00",
          "2025-03-14T06:00:00+00:00",
          "2025-03-14T07:00:00+00:00",
          "2025-03-14T08:00:00+00:00",
          "2025-03-14T09:00:00+00:00",
          "2025-03-14T10:00:00+00:00",
          "2025-03-14T11:00:00+00:00",
          "2025-03-14T12:00:00+00:00",
          "2025-03-14T13:00:00+00:00",
          "2025-03-14T14:00:00+00:00",
          "2025-03-14T15:00:00+00:00",
          "2025-03-14T16:00:00+00:00",
          "2025-03-14T17:00:00+00:00",
          "2025-03-14T18:00:00+00:00",
          "2025-03-14T19:00:00+00:00",
          "2025-03-14T20:00:00+00:00",
          "2025-03-14T21:00:00+00:00",
          "2025-03-14T22:00:00+00:00",
          "2025-03-14T23:00:00+00:00",
          "2025-03-15T00:00:00+00:00",
          "2025-03-15T00:00:00+00:00",
          "2025-03-15T01:00:00+00:00",
          "2025-03-15T02:00:00+00:00",
          "2025-03-15T03:00:00+00:00",
          "2025-03-15T04:00:00+00:00",
          "2025-03-15T05:00:00+00:00",
          "2025-03-15T06:00:00+00:00",
          "2025-03-15T07:00:00+00:00",
          "2025-03-15T08:00:00+00:00",
          "2025-03-15T09:00:00+00:00",
          "2025-03-15T10:00:00+00:00",
          "2025-03-15T11:00:00+00:00",
          "2025-03-15T12:00:00+00:00",
          "2025-03-15T13:00:00+00:00",
          "2025-03-15T14:00:00+00:00",
          "2025-03-15T15:00:00+00:00",
          "2025-03-15T16:00:00+00:00",
          "2025-03-15T17:00:00+00:00",
          "2025-03-15T18:00:00+00:00",
          "2025-03-15T19:00:00+00:00",
          "2025-03-15T20:00:00+00:00",
          "2025-03-15T21:00:00+00:00",
          "2025-03-15T22:00:00+00:00",
          "2025-03-15T23:00:00+00:00",
          "2025-03-16T00:00:00+00:00",
          "2025-03-16T00:00:00+00:00",
          "2025-03-16T01:00:00+00:00",
          "2025-03-16T02:00:00+00:00",
          "2025-03-16T03:00:00+00:00",
          "2025-03-16T04:00:00+00:00",
          "2025-03-16T05:00:00+00:00",
          "2025-03-16T06:00:00+00:00",
          "2025-03-16T07:00:00+00:00",
          "2025-03-16T08:00:00+00:00",
          "2025-03-16T09:00:00+00:00",
          "2025-03-16T10:00:00+00:00",
          "2025-03-16T11:00:00+00:00",
          "2025-03-16T12:00:00+00:00",
          "2025-03-16T13:00:00+00:00",
          "2025-03-16T14:00:00+00:00",
          "2025-03-16T15:00:00+00:00",
          "2025-03-16T16:00:00+00:00",
          "2025-03-16T17:00:00+00:00",
          "2025-03-16T18:00:00+00:00",
          "2025-03-16T19:00:00+00:00",
          "2025-03-16T20:00:00+00:00",
          "2025-03-16T21:00:00+00:00",
          "2025-03-16T22:00:00+00:00",
          "2025-03-16T23:00:00+00:00",
          "2025-03-17T00:00:00+00:00",
          "2025-03-17T00:00:00+00:00",
          "2025-03-17T01:00:00+00:00",
          "2025-03-17T02:00:00+00:00",
          "2025-03-17T03:00:00+00:00",
          "2025-03-17T04:00:00+00:00",
          "2025-03-17T05:00:00+00:00",
          "2025-03-17T06:00:00+00:00",
          "2025-03-17T07:00:00+00:00",
          "2025-03-17T08:00:00+00:00",
          "2025-03-17T09:00:00+00:00",
          "2025-03-17T10:00:00+00:00",
          "2025-03-17T11:00:00+00:00",
          "2025-03-17T12:00:00+00:00",
          "2025-03-17T13:00:00+00:00",
          "2025-03-17T14:00:00+00:00",
          "2025-03-17T15:00:00+00:00",
          "2025-03-17T16:00:00+00:00",
          "2025-03-17T17:00:00+00:00",
          "2025-03-17T18:00:00+00:00",
          "2025-03-17T19:00:00+00:00",
          "2025-03-17T20:00:00+00:00",
          "2025-03-17T21:00:00+00:00",
          "2025-03-17T22:00:00+00:00",
          "2025-03-17T23:00:00+00:00",
          "2025-03-18T00:00:00+00:00",
          "2025-03-18T00:00:00+00:00",
          "2025-03-18T01:00:00+00:00",
          "2025-03-18T02:00:00+00:00",
          "2025-03-18T03:00:00+00:00",
          "2025-03-18T04:00:00+00:00",
          "2025-03-18T05:00:00+00:00",
          "2025-03-18T06:00:00+00:00",
          "2025-03-18T07:00:00+00:00",
          "2025-03-18T08:00:00+00:00",
          "2025-03-18T09:00:00+00:00",
          "2025-03-18T10:00:00+00:00",
          "2025-03-18T11:00:00+00:00",
          "2025-03-18T12:00:00+00:00",
          "2025-03-18T13:00:00+00:00",
          "2025-03-18T14:00:00+00:00",
          "2025-03-18T15:00:00+00:00",
          "2025-03-18T16:00:00+00:00",
          "2025-03-18T17:00:00+00:00",
          "2025-03-18T18:00:00+00:00",
          "2025-03-18T19:00:00+00:00",
          "2025-03-18T20:00:00+00:00",
          "2025-03-18T21:00:00+00:00",
          "2025-03-18T22:00:00+00:00",
          "2025-03-18T23:00:00+00:00",
          "2025-03-19T00:00:00+00:00",
          "2025-03-19T00:00:00+00:00",
          "2025-03-19T01:00:00+00:00",
          "2025-03-19T02:00:00+00:00",
          "2025-03-19T03:00:00+00:00",
          "2025-03-19T04:00:00+00:00",
          "2025-03-19T05:00:00+00:00",
          "2025-03-19T06:00:00+00:00",
          "2025-03-19T07:00:00+00:00",
          "2025-03-19T08:00:00+00:00",
          "2025-03-19T09:00:00+00:00",
          "2025-03-19T10:00:00+00:00",
          "2025-03-19T11:00:00+00:00",
          "2025-03-19T12:00:00+00:00",
          "2025-03-19T13:00:00+00:00",
          "2025-03-19T14:00:00+00:00",
          "2025-03-19T15:00:00+00:00",
          "2025-03-19T16:00:00+00:00",
          "2025-03-19T17:00:00+00:00",
          "2025-03-19T18:00:00+00:00",
          "2025-03-19T19:00:00+00:00",
          "2025-03-19T20:00:00+00:00",
          "2025-03-19T21:00:00+00:00",
          "2025-03-19T22:00:00+00:00",
          "2025-03-19T23:00:00+00:00",
          "2025-03-20T00:00:00+00:00",
          "2025-03-20T00:00:00+00:00",
          "2025-03-20T01:00:00+00:00",
          "2025-03-20T02:00:00+00:00",
          "2025-03-20T03:00:00+00:00",
          "2025-03-20T04:00:00+00:00",
          "2025-03-20T05:00:00+00:00",
          "2025-03-20T06:00:00+00:00",
          "2025-03-20T07:00:00+00:00",
          "2025-03-20T08:00:00+00:00",
          "2025-03-20T09:00:00+00:00",
          "2025-03-20T10:00:00+00:00",
          "2025-03-20T11:00:00+00:00",
          "2025-03-20T12:00:00+00:00",
          "2025-03-20T13:00:00+00:00",
          "2025-03-20T14:00:00+00:00",
          "2025-03-20T15:00:00+00:00",
          "2025-03-20T16:00:00+00:00",
          "2025-03-20T17:00:00+00:00",
          "2025-03-20T18:00:00+00:00",
          "2025-03-20T19:00:00+00:00",
          "2025-03-20T20:00:00+00:00",
          "2025-03-20T21:00:00+00:00",
          "2025-03-20T22:00:00+00:00",
          "2025-03-20T23:00:00+00:00",
          "2025-03-21T00:00:00+00:00",
          "2025-03-21T00:00:00+00:00",
          "2025-03-21T01:00:00+00:00",
          "2025-03-21T02:00:00+00:00",
          "2025-03-21T03:00:00+00:00",
          "2025-03-21T04:00:00+00:00",
          "2025-03-21T05:00:00+00:00",
          "2025-03-21T06:00:00+00:00",
          "2025-03-21T07:00:00+00:00",
          "2025-03-21T08:00:00+00:00",
          "2025-03-21T09:00:00+00:00",
          "2025-03-21T10:00:00+00:00",
          "2025-03-21T11:00:00+00:00",
          "2025-03-21T12:00:00+00:00",
          "2025-03-21T13:00:00+00:00",
          "2025-03-21T14:00:00+00:00",
          "2025-03-21T15:00:00+00:00",
          "2025-03-21T16:00:00+00:00",
          "2025-03-21T17:00:00+00:00",
          "2025-03-21T18:00:00+00:00",
          "2025-03-21T19:00:00+00:00",
          "2025-03-21T20:00:00+00:00",
          "2025-03-21T21:00:00+00:00",
          "2025-03-21T22:00:00+00:00",
          "2025-03-21T23:00:00+00:00",
          "2025-03-22T00:00:00+00:00",
          "2025-03-22T00:00:00+00:00",
          "2025-03-22T01:00:00+00:00",
          "2025-03-22T02:00:00+00:00",
          "2025-03-22T03:00:00+00:00",
          "2025-03-22T04:00:00+00:00",
          "2025-03-22T05:00:00+00:00",
          "2025-03-22T06:00:00+00:00",
          "2025-03-22T07:00:00+00:00",
          "2025-03-22T08:00:00+00:00",
          "2025-03-22T09:00:00+00:00",
          "2025-03-22T10:00:00+00:00",
          "2025-03-22T11:00:00+00:00",
          "2025-03-22T12:00:00+00:00",
          "2025-03-22T13:00:00+00:00",
          "2025-03-22T14:00:00+00:00",
          "2025-03-22T15:00:00+00:00",
          "2025-03-22T16:00:00+00:00",
          "2025-03-22T17:00:00+00:00",
          "2025-03-22T18:00:00+00:00",
          "2025-03-22T19:00:00+00:00",
          "2025-03-22T20:00:00+00:00",
          "2025-03-22T21:00:00+00:00",
          "2025-03-22T22:00:00+00:00",
          "2025-03-22T23:00:00+00:00",
          "2025-03-23T00:00:00+00:00",
          "2025-03-23T00:00:00+00:00",
          "2025-03-23T01:00:00+00:00",
          "2025-03-23T02:00:00+00:00",
          "2025-03-23T03:00:00+00:00",
          "2025-03-23T04:00:00+00:00",
          "2025-03-23T05:00:00+00:00",
          "2025-03-23T06:00:00+00:00",
          "2025-03-23T07:00:00+00:00",
          "2025-03-23T08:00:00+00:00",
          "2025-03-23T09:00:00+00:00",
          "2025-03-23T10:00:00+00:00",
          "2025-03-23T11:00:00+00:00",
          "2025-03-23T12:00:00+00:00",
          "2025-03-23T13:00:00+00:00",
          "2025-03-23T14:00:00+00:00",
          "2025-03-23T15:00:00+00:00",
          "2025-03-23T16:00:00+00:00",
          "2025-03-23T17:00:00+00:00",
          "2025-03-23T18:00:00+00:00",
          "2025-03-23T19:00:00+00:00",
          "2025-03-23T20:00:00+00:00",
          "2025-03-23T21:00:00+00:00",
          "2025-03-23T22:00:00+00:00",
          "2025-03-23T23:00:00+00:00",
          "2025-03-24T00:00:00+00:00",
          "2025-03-24T00:00:00+00:00",
          "2025-03-24T01:00:00+00:00",
          "2025-03-24T02:00:00+00:00",
          "2025-03-24T03:00:00+00:00",
          "2025-03-24T04:00:00+00:00",
          "2025-03-24T05:00:00+00:00",
          "2025-03-24T06:00:00+00:00",
          "2025-03-24T07:00:00+00:00",
          "2025-03-24T08:00:00+00:00",
          "2025-03-24T09:00:00+00:00",
          "2025-03-24T10:00:00+00:00",
          "2025-03-24T11:00:00+00:00",
          "2025-03-24T12:00:00+00:00",
          "2025-03-24T13:00:00+00:00",
          "2025-03-24T14:00:00+00:00",
          "2025-03-24T15:00:00+00:00",
          "2025-03-24T16:00:00+00:00",
          "2025-03-24T17:00:00+00:00",
          "2025-03-24T18:00:00+00:00",
          "2025-03-24T19:00:00+00:00",
          "2025-03-24T20:00:00+00:00",
          "2025-03-24T21:00:00+00:00",
          "2025-03-24T22:00:00+00:00",
          "2025-03-24T23:00:00+00:00",
          "2025-03-25T00:00:00+00:00",
          "2025-03-25T00:00:00+00:00",
          "2025-03-25T01:00:00+00:00",
          "2025-03-25T02:00:00+00:00",
          "2025-03-25T03:00:00+00:00",
          "2025-03-25T04:00:00+00:00",
          "2025-03-25T05:00:00+00:00",
          "2025-03-25T06:00:00+00:00",
          "2025-03-25T07:00:00+00:00",
          "2025-03-25T08:00:00+00:00",
          "2025-03-25T09:00:00+00:00",
          "2025-03-25T10:00:00+00:00",
          "2025-03-25T11:00:00+00:00",
          "2025-03-25T12:00:00+00:00",
          "2025-03-25T13:00:00+00:00",
          "2025-03-25T14:00:00+00:00",
          "2025-03-25T15:00:00+00:00",
          "2025-03-25T16:00:00+00:00",
          "2025-03-25T17:00:00+00:00",
          "2025-03-25T18:00:00+00:00",
          "2025-03-25T19:00:00+00:00",
          "2025-03-25T20:00:00+00:00",
          "2025-03-25T21:00:00+00:00",
          "2025-03-25T22:00:00+00:00",
          "2025-03-25T23:00:00+00:00",
          "2025-03-26T00:00:00+00:00",
          "2025-03-26T00:00:00+00:00",
          "2025-03-26T01:00:00+00:00",
          "2025-03-26T02:00:00+00:00",
          "2025-03-26T03:00:00+00:00",
          "2025-03-26T04:00:00+00:00",
          "2025-03-26T05:00:00+00:00",
          "2025-03-26T06:00:00+00:00",
          "2025-03-26T07:00:00+00:00",
          "2025-03-26T08:00:00+00:00",
          "2025-03-26T09:00:00+00:00",
          "2025-03-26T10:00:00+00:00",
          "2025-03-26T11:00:00+00:00",
          "2025-03-26T12:00:00+00:00",
          "2025-03-26T13:00:00+00:00",
          "2025-03-26T14:00:00+00:00",
          "2025-03-26T15:00:00+00:00",
          "2025-03-26T16:00:00+00:00",
          "2025-03-26T17:00:00+00:00",
          "2025-03-26T18:00:00+00:00",
          "2025-03-26T19:00:00+00:00",
          "2025-03-26T20:00:00+00:00",
          "2025-03-26T21:00:00+00:00",
          "2025-03-26T22:00:00+00:00",
          "2025-03-26T23:00:00+00:00",
          "2025-03-27T00:00:00+00:00",
          "2025-03-27T00:00:00+00:00",
          "2025-03-27T01:00:00+00:00",
          "2025-03-27T02:00:00+00:00",
          "2025-03-27T03:00:00+00:00",
          "2025-03-27T04:00:00+00:00",
          "2025-03-27T05:00:00+00:00",
          "2025-03-27T06:00:00+00:00",
          "2025-03-27T07:00:00+00:00",
          "2025-03-27T08:00:00+00:00",
          "2025-03-27T09:00:00+00:00",
          "2025-03-27T10:00:00+00:00",
          "2025-03-27T11:00:00+00:00",
          "2025-03-27T12:00:00+00:00",
          "2025-03-27T13:00:00+00:00",
          "2025-03-27T14:00:00+00:00",
          "2025-03-27T15:00:00+00:00",
          "2025-03-27T16:00:00+00:00",
          "2025-03-27T17:00:00+00:00",
          "2025-03-27T18:00:00+00:00",
          "2025-03-27T19:00:00+00:00",
          "2025-03-27T20:00:00+00:00",
          "2025-03-27T21:00:00+00:00",
          "2025-03-27T22:00:00+00:00",
          "2025-03-27T23:00:00+00:00",
          "2025-03-28T00:00:00+00:00",
          "2025-03-28T00:00:00+00:00",
          "2025-03-28T01:00:00+00:00",
          "2025-03-28T02:00:00+00:00",
          "2025-03-28T03:00:00+00:00",
          "2025-03-28T04:00:00+00:00",
          "2025-03-28T05:00:00+00:00",
          "2025-03-28T06:00:00+00:00",
          "2025-03-28T07:00:00+00:00",
          "2025-03-28T08:00:00+00:00",
          "2025-03-28T09:00:00+00:00",
          "2025-03-28T10:00:00+00:00",
          "2025-03-28T11:00:00+00:00",
          "2025-03-28T12:00:00+00:00",
          "2025-03-28T13:00:00+00:00",
          "2025-03-28T14:00:00+00:00",
          "2025-03-28T15:00:00+00:00",
          "2025-03-28T16:00:00+00:00",
          "2025-03-28T17:00:00+00:00",
          "2025-03-28T18:00:00+00:00",
          "2025-03-28T19:00:00+00:00",
          "2025-03-28T20:00:00+00:00",
          "2025-03-28T21:00:00+00:00",
          "2025-03-28T22:00:00+00:00",
          "2025-03-28T23:00:00+00:00",
          "2025-03-29T00:00:00+00:00",
          "2025-03-29T00:00:00+00:00",
          "2025-03-29T01:00:00+00:00",
          "2025-03-29T02:00:00+00:00",
          "2025-03-29T03:00:00+00:00",
          "2025-03-29T04:00:00+00:00",
          "2025-03-29T05:00:00+00:00",
          "2025-03-29T06:00:00+00:00",
          "2025-03-29T07:00:00+00:00",
          "2025-03-29T08:00:00+00:00",
          "2025-03-29T09:00:00+00:00",
          "2025-03-29T10:00:00+00:00",
          "2025-03-29T11:00:00+00:00",
          "2025-03-29T12:00:00+00:00",
          "2025-03-29T13:00:00+00:00",
          "2025-03-29T14:00:00+00:00",
          "2025-03-29T15:00:00+00:00",
          "2025-03-29T16:00:00+00:00",
          "2025-03-29T17:00:00+00:00",
          "2025-03-29T18:00:00+00:00",
          "2025-03-29T19:00:00+00:00",
          "2025-03-29T20:00:00+00:00",
          "2025-03-29T21:00:00+00:00",
          "2025-03-29T22:00:00+00:00",
          "2025-03-29T23:00:00+00:00",
          "2025-03-30T00:00:00+00:00",
          "2025-03-30T00:00:00+00:00",
          "2025-03-30T01:00:00+00:00",
          "2025-03-30T02:00:00+00:00",
          "2025-03-30T03:00:00+00:00",
          "2025-03-30T04:00:00+00:00",
          "2025-03-30T05:00:00+00:00",
          "2025-03-30T06:00:00+00:00",
          "2025-03-30T07:00:00+00:00",
          "2025-03-30T08:00:00+00:00",
          "2025-03-30T09:00:00+00:00",
          "2025-03-30T10:00:00+00:00",
          "2025-03-30T11:00:00+00:00",
          "2025-03-30T12:00:00+00:00",
          "2025-03-30T13:00:00+00:00",
          "2025-03-30T14:00:00+00:00",
          "2025-03-30T15:00:00+00:00",
          "2025-03-30T16:00:00+00:00",
          "2025-03-30T17:00:00+00:00",
          "2025-03-30T18:00:00+00:00",
          "2025-03-30T19:00:00+00:00",
          "2025-03-30T20:00:00+00:00",
          "2025-03-30T21:00:00+00:00",
          "2025-03-30T22:00:00+00:00",
          "2025-03-30T23:00:00+00:00",
          "2025-03-31T00:00:00+00:00",
          "2025-03-31T00:00:00+00:00",
          "2025-03-31T01:00:00+00:00",
          "2025-03-31T02:00:00+00:00",
          "2025-03-31T03:00:00+00:00",
          "2025-03-31T04:00:00+00:00",
          "2025-03-31T05:00:00+00:00",
          "2025-03-31T06:00:00+00:00",
          "2025-03-31T07:00:00+00:00",
          "2025-03-31T08:00:00+00:00",
          "2025-03-31T09:00:00+00:00",
          "2025-03-31T10:00:00+00:00",
          "2025-03-31T11:00:00+00:00",
          "2025-03-31T12:00:00+00:00",
          "2025-03-31T13:00:00+00:00",
          "2025-03-31T14:00:00+00:00",
          "2025-03-31T15:00:00+00:00",
          "2025-03-31T16:00:00+00:00",
          "2025-03-31T17:00:00+00:00",
          "2025-03-31T18:00:00+00:00",
          "2025-03-31T19:00:00+00:00",
          "2025-03-31T20:00:00+00:00",
          "2025-03-31T21:00:00+00:00",
          "2025-03-31T22:00:00+00:00",
          "2025-03-31T23:00:00+00:00",
          "2025-04-01T00:00:00+00:00",
          "2025-04-01T00:00:00+00:00",
          "2025-04-01T01:00:00+00:00",
          "2025-04-01T02:00:00+00:00",
          "2025-04-01T03:00:00+00:00",
          "2025-04-01T04:00:00+00:00",
          "2025-04-01T05:00:00+00:00",
          "2025-04-01T06:00:00+00:00",
          "2025-04-01T07:00:00+00:00",
          "2025-04-01T08:00:00+00:00",
          "2025-04-01T09:00:00+00:00",
          "2025-04-01T10:00:00+00:00",
          "2025-04-01T11:00:00+00:00",
          "2025-04-01T12:00:00+00:00",
          "2025-04-01T13:00:00+00:00",
          "2025-04-01T14:00:00+00:00",
          "2025-04-01T15:00:00+00:00",
          "2025-04-01T16:00:00+00:00",
          "2025-04-01T17:00:00+00:00",
          "2025-04-01T18:00:00+00:00",
          "2025-04-01T19:00:00+00:00",
          "2025-04-01T20:00:00+00:00",
          "2025-04-01T21:00:00+00:00",
          "2025-04-01T22:00:00+00:00",
          "2025-04-01T23:00:00+00:00",
          "2025-04-02T00:00:00+00:00",
          "2025-04-02T00:00:00+00:00",
          "2025-04-02T01:00:00+00:00",
          "2025-04-02T02:00:00+00:00",
          "2025-04-02T03:00:00+00:00",
          "2025-04-02T04:00:00+00:00",
          "2025-04-02T05:00:00+00:00",
          "2025-04-02T06:00:00+00:00",
          "2025-04-02T07:00:00+00:00",
          "2025-04-02T08:00:00+00:00",
          "2025-04-02T09:00:00+00:00",
          "2025-04-02T10:00:00+00:00",
          "2025-04-02T11:00:00+00:00",
          "2025-04-02T12:00:00+00:00",
          "2025-04-02T13:00:00+00:00",
          "2025-04-02T14:00:00+00:00",
          "2025-04-02T15:00:00+00:00",
          "2025-04-02T16:00:00+00:00",
          "2025-04-02T17:00:00+00:00",
          "2025-04-02T18:00:00+00:00",
          "2025-04-02T19:00:00+00:00",
          "2025-04-02T20:00:00+00:00",
          "2025-04-02T21:00:00+00:00",
          "2025-04-02T22:00:00+00:00",
          "2025-04-02T23:00:00+00:00",
          "2025-04-03T00:00:00+00:00",
          "2025-04-03T00:00:00+00:00",
          "2025-04-03T01:00:00+00:00",
          "2025-04-03T02:00:00+00:00",
          "2025-04-03T03:00:00+00:00",
          "2025-04-03T04:00:00+00:00",
          "2025-04-03T05:00:00+00:00",
          "2025-04-03T06:00:00+00:00",
          "2025-04-03T07:00:00+00:00",
          "2025-04-03T08:00:00+00:00",
          "2025-04-03T09:00:00+00:00",
          "2025-04-03T10:00:00+00:00",
          "2025-04-03T11:00:00+00:00",
          "2025-04-03T12:00:00+00:00",
          "2025-04-03T13:00:00+00:00",
          "2025-04-03T14:00:00+00:00",
          "2025-04-03T15:00:00+00:00",
          "2025-04-03T16:00:00+00:00",
          "2025-04-03T17:00:00+00:00",
          "2025-04-03T18:00:00+00:00",
          "2025-04-03T19:00:00+00:00",
          "2025-04-03T20:00:00+00:00",
          "2025-04-03T21:00:00+00:00",
          "2025-04-03T22:00:00+00:00",
          "2025-04-03T23:00:00+00:00",
          "2025-04-04T00:00:00+00:00",
          "2025-04-04T00:00:00+00:00",
          "2025-04-04T01:00:00+00:00",
          "2025-04-04T02:00:00+00:00",
          "2025-04-04T03:00:00+00:00",
          "2025-04-04T04:00:00+00:00",
          "2025-04-04T05:00:00+00:00",
          "2025-04-04T06:00:00+00:00",
          "2025-04-04T07:00:00+00:00",
          "2025-04-04T08:00:00+00:00",
          "2025-04-04T09:00:00+00:00",
          "2025-04-04T10:00:00+00:00",
          "2025-04-04T11:00:00+00:00",
          "2025-04-04T12:00:00+00:00",
          "2025-04-04T13:00:00+00:00",
          "2025-04-04T14:00:00+00:00",
          "2025-04-04T15:00:00+00:00",
          "2025-04-04T16:00:00+00:00",
          "2025-04-04T17:00:00+00:00",
          "2025-04-04T18:00:00+00:00",
          "2025-04-04T19:00:00+00:00",
          "2025-04-04T20:00:00+00:00",
          "2025-04-04T21:00:00+00:00",
          "2025-04-04T22:00:00+00:00",
          "2025-04-04T23:00:00+00:00",
          "2025-04-05T00:00:00+00:00",
          "2025-04-05T00:00:00+00:00",
          "2025-04-05T01:00:00+00:00",
          "2025-04-05T02:00:00+00:00",
          "2025-04-05T03:00:00+00:00",
          "2025-04-05T04:00:00+00:00",
          "2025-04-05T05:00:00+00:00",
          "2025-04-05T06:00:00+00:00",
          "2025-04-05T07:00:00+00:00",
          "2025-04-05T08:00:00+00:00",
          "2025-04-05T09:00:00+00:00",
          "2025-04-05T10:00:00+00:00",
          "2025-04-05T11:00:00+00:00",
          "2025-04-05T12:00:00+00:00",
          "2025-04-05T13:00:00+00:00",
          "2025-04-05T14:00:00+00:00",
          "2025-04-05T15:00:00+00:00",
          "2025-04-05T16:00:00+00:00",
          "2025-04-05T17:00:00+00:00",
          "2025-04-05T18:00:00+00:00",
          "2025-04-05T19:00:00+00:00",
          "2025-04-05T20:00:00+00:00",
          "2025-04-05T21:00:00+00:00",
          "2025-04-05T22:00:00+00:00",
          "2025-04-05T23:00:00+00:00",
          "2025-04-06T00:00:00+00:00",
          "2025-04-06T00:00:00+00:00",
          "2025-04-06T01:00:00+00:00",
          "2025-04-06T02:00:00+00:00",
          "2025-04-06T03:00:00+00:00",
          "2025-04-06T04:00:00+00:00",
          "2025-04-06T05:00:00+00:00",
          "2025-04-06T06:00:00+00:00",
          "2025-04-06T07:00:00+00:00",
          "2025-04-06T08:00:00+00:00",
          "2025-04-06T09:00:00+00:00",
          "2025-04-06T10:00:00+00:00",
          "2025-04-06T11:00:00+00:00",
          "2025-04-06T12:00:00+00:00",
          "2025-04-06T13:00:00+00:00",
          "2025-04-06T14:00:00+00:00",
          "2025-04-06T15:00:00+00:00",
          "2025-04-06T16:00:00+00:00",
          "2025-04-06T17:00:00+00:00",
          "2025-04-06T18:00:00+00:00",
          "2025-04-06T19:00:00+00:00",
          "2025-04-06T20:00:00+00:00",
          "2025-04-06T21:00:00+00:00",
          "2025-04-06T22:00:00+00:00",
          "2025-04-06T23:00:00+00:00",
          "2025-04-07T00:00:00+00:00",
          "2025-04-07T00:00:00+00:00",
          "2025-04-07T01:00:00+00:00",
          "2025-04-07T02:00:00+00:00",
          "2025-04-07T03:00:00+00:00",
          "2025-04-07T04:00:00+00:00",
          "2025-04-07T05:00:00+00:00",
          "2025-04-07T06:00:00+00:00",
          "2025-04-07T07:00:00+00:00",
          "2025-04-07T08:00:00+00:00",
          "2025-04-07T09:00:00+00:00",
          "2025-04-07T10:00:00+00:00",
          "2025-04-07T11:00:00+00:00",
          "2025-04-07T12:00:00+00:00",
          "2025-04-07T13:00:00+00:00",
          "2025-04-07T14:00:00+00:00",
          "2025-04-07T15:00:00+00:00",
          "2025-04-07T16:00:00+00:00",
          "2025-04-07T17:00:00+00:00",
          "2025-04-07T18:00:00+00:00",
          "2025-04-07T19:00:00+00:00",
          "2025-04-07T20:00:00+00:00",
          "2025-04-07T21:00:00+00:00",
          "2025-04-07T22:00:00+00:00",
          "2025-04-07T23:00:00+00:00"
         ],
         "y": {
          "bdata": "AAAAAAAAT0AAAAAAAIBOQAAAAAAAAE9AAAAAAAAAT0AAAAAAAABPQAAAAAAAgE5AAAAAAACATkAAAAAAAIBOQAAAAAAAgE5AAAAAAACATkAAAAAAAIBOQAAAAAAAgE5AAAAAAACATkAAAAAAAIBOQAAAAAAAAE5AAAAAAAAATkAAAAAAAABOQAAAAAAAAE5AAAAAAAAATkAAAAAAAABOQAAAAAAAAE5AAAAAAAAATkAAAAAAAIBNQAAAAAAAgE1AAAAAAACATUAAAAAAAIBNQAAAAAAAAE1AAAAAAACATUAAAAAAAIBNQAAAAAAAgE1AAAAAAAAATUAAAAAAAABNQAAAAAAAAE1AAAAAAAAATUAAAAAAAABNQAAAAAAAAE1AAAAAAAAATUAAAAAAAABNQAAAAAAAAE1AAAAAAACATEAAAAAAAIBMQAAAAAAAgExAAAAAAACATEAAAAAAAIBMQAAAAAAAgExAAAAAAACATEAAAAAAAIBMQAAAAAAAgExAAAAAAACATEAAAAAAAIBMQAAAAAAAgExAAAAAAACATEAAAAAAAIBMQAAAAAAAgExAAAAAAACATEAAAAAAAIBMQAAAAAAAgExAAAAAAACATEAAAAAAAIBMQAAAAAAAgExAAAAAAACATEAAAAAAAIBMQAAAAAAAgExAAAAAAACATEAAAAAAAIBMQAAAAAAAgExAAAAAAACATEAAAAAAAIBMQAAAAAAAgExAAAAAAACATEAAAAAAAIBMQAAAAAAAgExAAAAAAACATEAAAAAAAIBMQAAAAAAAgExAAAAAAACATEAAAAAAAIBMQAAAAAAAgExAAAAAAACATEAAAAAAAIBMQAAAAAAAgExAAAAAAACATEAAAAAAAIBMQAAAAAAAgExAAAAAAACATEAAAAAAAIBMQAAAAAAAgExAAAAAAACATEAAAAAAAIBMQAAAAAAAgExAAAAAAACATEAAAAAAAIBMQAAAAAAAgEpAAAAAAACASkAAAAAAAIBKQAAAAAAAgEpAAAAAAACASkAAAAAAAIBKQAAAAAAAgEpAAAAAAACASkAAAAAAAIBKQAAAAAAAgEpAAAAAAACASkAAAAAAAIBKQAAAAAAAgEpAAAAAAACASkAAAAAAAIBKQAAAAAAAgEpAAAAAAACASkAAAAAAAIBKQAAAAAAAgEpAAAAAAACASkAAAAAAAIBKQAAAAAAAgEpAAAAAAACASkAAAAAAAIBKQAAAAAAAgEpAAAAAAACASkAAAAAAAIBKQAAAAAAAgEpAAAAAAACASkAAAAAAAIBKQAAAAAAAgEpAAAAAAACASkAAAAAAAIBKQAAAAAAAgEpAAAAAAACASkAAAAAAAIBKQAAAAAAAgEpAAAAAAACASkAAAAAAAIBKQAAAAAAAgEpAAAAAAACASkAAAAAAAIBKQAAAAAAAgEpAAAAAAACASkAAAAAAAIBKQAAAAAAAgEpAAAAAAACASkAAAAAAAIBKQAAAAAAAgEpAAAAAAACASkAAAAAAAIBKQAAAAAAAgEpAAAAAAACASkAAAAAAAIBKQAAAAAAAgEpAAAAAAACASkAAAAAAAIBKQAAAAAAAgEpAAAAAAACASkAAAAAAAIBKQAAAAAAAgEpAAAAAAACASkAAAAAAAIBKQAAAAAAAgEpAAAAAAACASkAAAAAAAIBKQAAAAAAAgEpAAAAAAACASkAAAAAAAIBKQAAAAAAAgEpAAAAAAACASkAAAAAAAIBKQAAAAAAAgEpAAAAAAACASkAAAAAAAIBKQAAAAAAAgEpAAAAAAACASkAAAAAAAIBKQAAAAAAAgEpAAAAAAACASkAAAAAAAIBKQAAAAAAAgEpAAAAAAACASkAAAAAAAIBKQAAAAAAAgEpAAAAAAACASkAAAAAAAIBKQAAAAAAAgEpAAAAAAACASkAAAAAAAIBKQAAAAAAAgEpAAAAAAACASkAAAAAAAIBKQAAAAAAAgEpAAAAAAACASkAAAAAAAIBKQAAAAAAAgEpAAAAAAACASkAAAAAAAIBKQAAAAAAAgEpAAAAAAACASkAAAAAAAAA6QAAAAAAAADpAAAAAAAAAOkAAAAAAAAA5QAAAAAAAADlAAAAAAAAAOUAAAAAAAAA4QAAAAAAAADhAAAAAAAAANkCamZmZmZk3QDMzMzMzMzdAzczMzMzMNkBmZmZmZmY2QAAAAAAAADZAAAAAAAAANkAAAAAAAAA1QAAAAAAAADVAAAAAAAAANUAAAAAAAAA1QAAAAAAAADRAAAAAAAAANEAAAAAAAAAzQAAAAAAAADNAAAAAAAAAM0AAAAAAAAAzQAAAAAAAADNAAAAAAAAAM0AAAAAAAAAzQAAAAAAAADJAAAAAAAAAMkAAAAAAAAAyQAAAAAAAADJAAAAAAAAAMkAAAAAAAAAxQAAAAAAAADJAAAAAAAAAMkAAAAAAAAAyQAAAAAAAADJAAAAAAAAAMUAAAAAAAAAxQAAAAAAAADFAAAAAAAAAMUAAAAAAAAAxQAAAAAAAADJAmpmZmZmZMUAAAAAAAAAxQAAAAAAAADJAAAAAAAAAMUAAAAAAAAAxQAAAAAAAADFAAAAAAAAAMUAAAAAAAAAwQAAAAAAAADBAAAAAAAAALkAAAAAAAAAsQAAAAAAAACxAAAAAAAAAKkAAAAAAAAAqQAAAAAAAAChAAAAAAAAAKkAAAAAAAAAqQAAAAAAAACpAAAAAAAAAKkAAAAAAAAAqQAAAAAAAAChAAAAAAAAAKkAAAAAAAAAoQAAAAAAAAChAAAAAAAAAKEAAAAAAAAAoQAAAAAAAAChAAAAAAAAAKEAAAAAAAAAoQAAAAAAAAChAAAAAAAAAKEAAAAAAAAAoQAAAAAAAAChAAAAAAAAAKEAAAAAAAAAoQAAAAAAAAChAAAAAAAAAKEAAAAAAAAAoQAAAAAAAAChAAAAAAAAAKEAAAAAAAAAoQAAAAAAAAChAAAAAAAAAKEAAAAAAAAAoQAAAAAAAAChAAAAAAAAAKEAAAAAAAAAoQAAAAAAAACZAAAAAAAAAJkAAAAAAAAAmQAAAAAAAACZAAAAAAAAAJkAAAAAAAAAkQAAAAAAAACRAAAAAAAAAJEAAAAAAAAAkQAAAAAAAACJAAAAAAAAAJEAAAAAAAAAiQAAAAAAAACJAAAAAAAAAIkAAAAAAAAAiQAAAAAAAACJAAAAAAAAAIkAAAAAAAAAiQAAAAAAAACJAAAAAAAAAIkAAAAAAAAAiQAAAAAAAACJAAAAAAAAAIkAAAAAAAAAiQAAAAAAAACJAAAAAAAAAIkAAAAAAAAAiQAAAAAAAACJAAAAAAAAAIkAAAAAAAAAiQAAAAAAAACJAAAAAAAAAIkAAAAAAAAAiQAAAAAAAACJAAAAAAAAAIkAAAAAAAAAiQAAAAAAAACJAAAAAAAAAIkAAAAAAAAAiQAAAAAAAACJAAAAAAAAAIkAAAAAAAAAiQAAAAAAAACJAAAAAAAAAIkAAAAAAAAAiQAAAAAAAACJAAAAAAAAAIkAAAAAAAAAiQAAAAAAAACJAAAAAAAAAIkAAAAAAAAAiQAAAAAAAACJAAAAAAAAAIkAAAAAAAAAiQAAAAAAAACJAAAAAAAAAJkAAAAAAAAAoQAAAAAAAACpAAAAAAAAAKkAAAAAAAAAsQAAAAAAAAC5AAAAAAAAALkAAAAAAAAAwQAAAAAAAADBAAAAAAAAAMEAAAAAAAAAxQAAAAAAAADJAAAAAAAAAM0AAAAAAAAAyQAAAAAAAADJAAAAAAAAAM0AAAAAAAAAzQAAAAAAAADNAAAAAAAAAM0AAAAAAAAAzQAAAAAAAADNAAAAAAAAAM0AAAAAAAAAzQAAAAAAAADNAAAAAAAAAM0AAAAAAAAAzQAAAAAAAADNAAAAAAAAAM0AAAAAAAAAzQAAAAAAAADNAAAAAAAAAM0AAAAAAAAAzQAAAAAAAADNAAAAAAAAAM0AAAAAAAAAzQAAAAAAAADNAAAAAAAAAM0AAAAAAAAAyQAAAAAAAADNAAAAAAAAAM0AAAAAAAAAzQAAAAAAAADJAAAAAAAAAMkAAAAAAAAAyQAAAAAAAADJAAAAAAAAAMkAAAAAAAAAyQAAAAAAAADJAAAAAAAAAMkAAAAAAAAAyQAAAAAAAADJAAAAAAAAAMkAAAAAAAAAyQAAAAAAAADJAAAAAAAAAMkAAAAAAAAAyQAAAAAAAADJAAAAAAAAAMkAAAAAAAAAyQAAAAAAAADJAAAAAAAAAMkAAAAAAAAAyQAAAAAAAADJAAAAAAAAAMkAAAAAAAAAyQAAAAAAAADJAAAAAAAAAMkAAAAAAAAAyQAAAAAAAADJAAAAAAAAAMkAAAAAAAAAyQAAAAAAAADJAAAAAAAAAMkAAAAAAAAAyQAAAAAAAADJAAAAAAAAAMUAAAAAAAAAxQAAAAAAAADFAAAAAAAAAMUAAAAAAAAAxQAAAAAAAADFAAAAAAAAAMUAAAAAAAAAxQAAAAAAAADFAAAAAAAAAMUAAAAAAAAAxQAAAAAAAADFAAAAAAAAAMEAAAAAAAAAxQAAAAAAAADFAAAAAAAAAMUAAAAAAAAAxQAAAAAAAADFAAAAAAAAAMEAAAAAAAAAwQAAAAAAAADBAAAAAAAAAMEAAAAAAAAAwQAAAAAAAADBAAAAAAAAALkAAAAAAAAAuQAAAAAAAAC5AAAAAAAAALkAAAAAAAAAsQAAAAAAAACxAAAAAAAAALEAAAAAAAAAsQAAAAAAAACxAAAAAAAAAKkAAAAAAAAAqQAAAAAAAACpAAAAAAAAAKkAAAAAAAAAqQAAAAAAAACpAAAAAAAAAKkAAAAAAAAAqQAAAAAAAACpAAAAAAAAAKkAAAAAAAAAqQAAAAAAAACpAAAAAAAAAKkAAAAAAAAAqQAAAAAAAACpAAAAAAAAAKkAAAAAAAAAqQAAAAAAAACpAAAAAAAAAKkAAAAAAAAAqQAAAAAAAACpAAAAAAAAAKkAAAAAAAAAqQAAAAAAAACpAAAAAAAAAKkAAAAAAAAAqQAAAAAAAACpAAAAAAAAAKkAAAAAAAAAqQAAAAAAAACpAAAAAAAAAKkAAAAAAAAAqQAAAAAAAACpAAAAAAAAAKkAAAAAAAAAqQAAAAAAAACpAAAAAAAAAKkAAAAAAAAAqQAAAAAAAACpAAAAAAAAAKkAAAAAAAAAqQAAAAAAAACpAAAAAAAAAKkAAAAAAAAAqQAAAAAAAACpAAAAAAAAAKkAAAAAAAAAqQAAAAAAAACpAAAAAAAAAKkAAAAAAAAAqQAAAAAAAACpAAAAAAAAAKkAAAAAAAAAqQAAAAAAAACpAAAAAAAAAKkAAAAAAAAAqQAAAAAAAACpAAAAAAAAAKkAAAAAAAAAqQAAAAAAAACpAAAAAAAAAKkAAAAAAAAAqQAAAAAAAACpAAAAAAAAAKkAAAAAAAAAqQAAAAAAAACpAAAAAAAAAKkAAAAAAAAAqQAAAAAAAACpAAAAAAAAAKkAAAAAAAAAqQAAAAAAAACpAAAAAAAAAKkAAAAAAAAAqQAAAAAAAACpAAAAAAAAAKkAAAAAAAAAqQAAAAAAAACpAAAAAAAAAKkAAAAAAAAAqQAAAAAAAACpAAAAAAAAAKkAAAAAAAAAqQAAAAAAAACpAAAAAAAAAKkAAAAAAAAAqQAAAAAAAACpAAAAAAAAAKkAAAAAAAAAqQAAAAAAAACpAAAAAAAAAKkAAAAAAAAAqQAAAAAAAACpAAAAAAAAAKkAAAAAAAAAqQAAAAAAAACpAAAAAAAAAKkAAAAAAAAAqQAAAAAAAACpAAAAAAAAAKkAAAAAAAAAqQAAAAAAAACpAAAAAAAAAKkAAAAAAAAAqQAAAAAAAACpAAAAAAAAAKkAAAAAAAAAqQAAAAAAAACpAAAAAAAAAKkAAAAAAAAAqQAAAAAAAACpAAAAAAAAAKkAAAAAAAAAqQAAAAAAAACpAAAAAAAAAKkAAAAAAAAAqQAAAAAAAACpAAAAAAAAAKkAAAAAAAAAqQAAAAAAAACpAAAAAAAAAKkAAAAAAAAAqQAAAAAAAACpAAAAAAAAAKkAAAAAAAAAqQAAAAAAAACpAAAAAAAAAKkAAAAAAAAAqQAAAAAAAACpAAAAAAAAAKkAAAAAAAAAqQAAAAAAAACpAAAAAAAAAKkAAAAAAAAAqQAAAAAAAACpAAAAAAAAAKkAAAAAAAAAsQAAAAAAAACxAAAAAAAAALkAAAAAAAAAuQAAAAAAAAC5AAAAAAAAALkAAAAAAAAAuQAAAAAAAAC5AAAAAAAAALkAAAAAAAAAuQAAAAAAAAC5AAAAAAAAAMEAAAAAAAAAuQAAAAAAAADBAAAAAAAAAMEAAAAAAAAAwQAAAAAAAADBAAAAAAAAAMEAAAAAAAAAwQAAAAAAAADBAAAAAAAAAMEAAAAAAAAAwQAAAAAAAADBAAAAAAAAAMEAAAAAAAAAwQAAAAAAAADBAAAAAAAAAMEAAAAAAAAAwQAAAAAAAADBAAAAAAAAAMEAAAAAAAAAwQAAAAAAAADBAAAAAAAAAMEAAAAAAAAAwQAAAAAAAADBAAAAAAAAAMEAAAAAAAAAwQAAAAAAAADBAAAAAAAAAMEAAAAAAAAAwQAAAAAAAADBAAAAAAAAAMEAAAAAAAAAwQAAAAAAAADBAAAAAAAAAMEAAAAAAAAAwQAAAAAAAADBAAAAAAAAAMEAAAAAAAAAwQAAAAAAAADBAAAAAAAAAMEAAAAAAAAAwQAAAAAAAADBAAAAAAAAAMEAAAAAAAAAwQAAAAAAAADBAAAAAAAAAMEAAAAAAAAAwQAAAAAAAADBAAAAAAAAAMEAAAAAAAAAwQAAAAAAAADBAAAAAAAAAMEAAAAAAAAAwQAAAAAAAADBAAAAAAAAAMEAAAAAAAAAwQAAAAAAAADBAAAAAAAAAMUAAAAAAAAAwQAAAAAAAADBAAAAAAAAAMEAAAAAAAAAwQAAAAAAAADFAAAAAAAAAMUAAAAAAAAAxQAAAAAAAADFAAAAAAAAAMUAAAAAAAAAxQAAAAAAAADFAAAAAAAAAMUAAAAAAAAAxQAAAAAAAADFAAAAAAAAAMUAAAAAAAAAxQAAAAAAAADFAAAAAAAAAMUAAAAAAAAAxQAAAAAAAADFAAAAAAAAAMUAAAAAAAAAwQAAAAAAAADBAAAAAAAAAMEAAAAAAAAAuQAAAAAAAADBAAAAAAAAAMEAAAAAAAAAuQAAAAAAAAC5AAAAAAAAALkAAAAAAAAAuQAAAAAAAAC5AAAAAAAAALkAAAAAAAAAuQAAAAAAAAC5AAAAAAAAALkAAAAAAAAAuQAAAAAAAAC5AAAAAAAAALkAAAAAAAAAuQAAAAAAAAC5AAAAAAAAALkAAAAAAAAAuQAAAAAAAAC5AAAAAAAAALkAAAAAAAAAuQAAAAAAAAC5AAAAAAAAALkAAAAAAAAAuQAAAAAAAACxAAAAAAAAALkAAAAAAAAAuQAAAAAAAAC5AAAAAAAAALkAAAAAAAAAsQAAAAAAAACxAAAAAAAAALEAAAAAAAAAsQAAAAAAAACxAAAAAAAAALEAAAAAAAAAsQAAAAAAAACxAAAAAAAAALEAAAAAAAAAsQAAAAAAAACxAAAAAAAAALEAAAAAAAAAsQAAAAAAAACxAAAAAAAAALEAAAAAAAAAsQAAAAAAAACxAAAAAAAAALEAAAAAAAAAsQAAAAAAAACxAAAAAAAAALEAAAAAAAAAsQAAAAAAAACxAAAAAAAAALEAAAAAAAAAsQAAAAAAAACxAAAAAAAAALEAAAAAAAAAsQAAAAAAAACxAAAAAAAAALEAAAAAAAAAsQAAAAAAAACxAAAAAAAAALEAAAAAAAAAsQAAAAAAAACxAAAAAAAAALEAAAAAAAAAsQAAAAAAAACxAAAAAAAAALEAAAAAAAAAsQAAAAAAAACxAAAAAAAAALEAAAAAAAAAsQAAAAAAAACxAAAAAAAAALEAAAAAAAAAsQAAAAAAAACxAAAAAAAAALEAAAAAAAAAsQAAAAAAAACxAAAAAAAAALEAAAAAAAAAsQAAAAAAAACxAAAAAAAAALEAAAAAAAAAsQAAAAAAAACxAAAAAAAAALEAAAAAAAAAsQAAAAAAAACxAAAAAAAAALEAAAAAAAAAsQAAAAAAAACxAAAAAAAAALEAAAAAAAAAsQAAAAAAAACxAAAAAAAAALEAAAAAAAAAsQAAAAAAAACxAAAAAAAAALEAAAAAAAAAsQAAAAAAAACxAAAAAAAAALEAAAAAAAAAsQAAAAAAAACxAAAAAAAAALEAAAAAAAAAsQAAAAAAAACxAAAAAAAAALEAAAAAAAAAsQAAAAAAAACxAAAAAAAAALEAAAAAAAAAsQAAAAAAAACxAAAAAAAAALEAAAAAAAAAsQAAAAAAAACxAAAAAAAAALEAAAAAAAAAsQAAAAAAAACxAAAAAAAAALEAAAAAAAAAsQAAAAAAAACxAAAAAAAAALkAAAAAAAAAxQAAAAAAAADFAAAAAAAAAMkAAAAAAAAAyQAAAAAAAADJAAAAAAAAAMkAAAAAAAAAyQAAAAAAAADJAAAAAAAAAMkAAAAAAAAAyQAAAAAAAADJAAAAAAAAAMUAAAAAAAAAxQAAAAAAAADFAAAAAAAAAMUAAAAAAAAAxQAAAAAAAADFAAAAAAAAAMUAAAAAAAAAxQAAAAAAAADFAAAAAAAAAMUAAAAAAAAAxQAAAAAAAADFAAAAAAAAAMEAAAAAAAAAwQAAAAAAAADBAAAAAAAAAMEAAAAAAAAAwQAAAAAAAADBAAAAAAAAAMEAAAAAAAAAwQAAAAAAAADBAAAAAAAAAMEAAAAAAAAAwQAAAAAAAADBAAAAAAAAAMEAAAAAAAAAwQAAAAAAAADBAAAAAAAAAMEAAAAAAAAAwQAAAAAAAADBAAAAAAAAAMEAAAAAAAAAwQAAAAAAAADBAAAAAAAAAMEAAAAAAAAAwQAAAAAAAADBAAAAAAAAAMEAAAAAAAAAwQAAAAAAAADBAAAAAAAAAMEAAAAAAAAAwQAAAAAAAADBAAAAAAAAAMEAAAAAAAAAwQAAAAAAAADBAAAAAAAAAMEAAAAAAAAAwQAAAAAAAADBAAAAAAAAAMEAAAAAAAAAwQAAAAAAAADBAAAAAAAAAMEAAAAAAAAAwQAAAAAAAADBAAAAAAAAAMEAAAAAAAAAwQAAAAAAAADBAAAAAAAAAMEAAAAAAAAAwQAAAAAAAADBAAAAAAAAAMEAAAAAAAAAwQAAAAAAAADBAAAAAAAAAMEAAAAAAAAAwQAAAAAAAADBAAAAAAAAAMEAAAAAAAAAwQAAAAAAAADBAAAAAAAAAMEAAAAAAAAAwQAAAAAAAADBAAAAAAAAAMEAAAAAAAAAwQAAAAAAAADBAAAAAAAAAMEAAAAAAAAAwQAAAAAAAADBAAAAAAAAAMEAAAAAAAAAwQAAAAAAAADBAAAAAAAAAMEAAAAAAAAAwQAAAAAAAADBAAAAAAAAAMEAAAAAAAAAwQAAAAAAAADBAAAAAAAAAMEAAAAAAAAAwQAAAAAAAADBAAAAAAAAAMEAAAAAAAAAwQAAAAAAAADBAAAAAAAAAMEAAAAAAAAAwQAAAAAAAADBAAAAAAAAAMEAAAAAAAAAwQAAAAAAAADBAAAAAAAAAMEAAAAAAAAAwQAAAAAAAADBAAAAAAAAAMEAAAAAAAAAwQAAAAAAAADBAAAAAAAAAMEAAAAAAAAAwQAAAAAAAADBAAAAAAAAAMEAAAAAAAAAwQAAAAAAAADBAAAAAAAAAMEAAAAAAAAAwQAAAAAAAADBAAAAAAAAAMEAAAAAAAAAwQAAAAAAAADBAAAAAAAAAMEAAAAAAAAAwQAAAAAAAADBAAAAAAAAAMEAAAAAAAAAwQAAAAAAAADBAAAAAAAAAMEAAAAAAAAAwQAAAAAAAADBAAAAAAAAAMEAAAAAAAAAwQAAAAAAAADBAAAAAAAAAMEAAAAAAAAAwQAAAAAAAADBAAAAAAAAAMUAAAAAAAAAzQAAAAAAAADNAAAAAAAAAM0AAAAAAAAAzQAAAAAAAADNAAAAAAAAAM0AAAAAAAAAzQAAAAAAAADNAAAAAAAAAMkAAAAAAAAAzQAAAAAAAADJAAAAAAAAAMkAAAAAAAAAyQAAAAAAAADJAAAAAAAAAMkAAAAAAAAAyQAAAAAAAADJAAAAAAAAAMkAAAAAAAAAyQAAAAAAAADJAAAAAAAAAMkAAAAAAAAAyQAAAAAAAADJAAAAAAAAAMkAAAAAAAAAyQAAAAAAAADJAAAAAAAAAMkAAAAAAAAAyQAAAAAAAADJAAAAAAAAAMkAAAAAAAAAyQAAAAAAAADJAAAAAAAAAMkAAAAAAAAAyQAAAAAAAADJAAAAAAAAAMkAAAAAAAAAyQAAAAAAAADJAAAAAAAAAMkAAAAAAAAAyQAAAAAAAADJAAAAAAAAAMkAAAAAAAAAyQAAAAAAAADJAAAAAAAAAMkAAAAAAAAAyQAAAAAAAADJAAAAAAAAAMkAAAAAAAAAyQAAAAAAAADlAAAAAAAAAOUAAAAAAAAA5QAAAAAAAADlAAAAAAAAAOkAAAAAAAAA8QAAAAAAAAD5AAAAAAAAAPkAAAAAAAAA/QAAAAAAAAEBAAAAAAAAAP0AAAAAAAAA+QAAAAAAAAD5AAAAAAAAAPkAAAAAAAAA/QAAAAAAAAEBAAAAAAAAAQEAAAAAAAABAQAAAAAAAAEBAAAAAAAAAQEAAAAAAAABAQAAAAAAAAEBAAAAAAAAAQEAAAAAAAABAQAAAAAAAAEBAAAAAAAAAQEAAAAAAAIBCQAAAAAAAgENAAAAAAACAREAAAAAAAABFQAAAAAAAAEdAAAAAAAAAR0AAAAAAAABHQAAAAAAAgEZAAAAAAAAAR0AAAAAAAABHQAAAAAAAAEdAAAAAAAAAR0AAAAAAAABHQAAAAAAAAEdAAAAAAAAAR0AAAAAAAABHQAAAAAAAAEdAAAAAAAAAR0AAAAAAAABHQAAAAAAAAEdAAAAAAAAAR0AAAAAAAABHQAAAAAAAAEdAAAAAAAAAR0AAAAAAAABHQAAAAAAAgEdAAAAAAAAASEAAAAAAAABIQAAAAAAAAEhAAAAAAAAASEAAAAAAAIBHQAAAAAAAgEdAAAAAAACAR0AAAAAAAABHQAAAAAAAgEdAAAAAAACAR0AAAAAAAIBHQAAAAAAAAEdAAAAAAAAAR0AAAAAAAABHQAAAAAAAAEdAAAAAAAAAR0AAAAAAAABHQAAAAAAAAEdAAAAAAAAAR0AAAAAAAABHQAAAAAAAAEdAAAAAAAAAR0AAAAAAAABHQAAAAAAAAEdAAAAAAACARkAAAAAAAIBGQAAAAAAAAEZAAAAAAAAARkAAAAAAAABGQAAAAAAAAEZAAAAAAAAARkAAAAAAAABGQAAAAAAAgEVAAAAAAAAARkAAAAAAAAA9QAAAAAAAAD1AAAAAAAAAPUAAAAAAAAA9QAAAAAAAgEVAAAAAAACARUAAAAAAAIBFQAAAAAAAgEVAAAAAAACARUAAAAAAAIBFQAAAAAAAgEVAAAAAAACARUAAAAAAAIBFQAAAAAAAgEVAAAAAAACARUAAAAAAAABFQAAAAAAAAEVAAAAAAAAARUAAAAAAAIBEQAAAAAAAgERAAAAAAACAREAAAAAAAIBEQAAAAAAAgERAAAAAAACAQ0AAAAAAAIBEQAAAAAAAAERAAAAAAAAAREAAAAAAAABEQAAAAAAAgENAAAAAAACAQ0AAAAAAAIBDQAAAAAAAgENAAAAAAACAQ0AAAAAAAIBDQAAAAAAAgENAAAAAAACAQ0AAAAAAAIBDQAAAAAAAgENAAAAAAACAQ0AAAAAAAIBDQAAAAAAAAENAAAAAAAAAQ0AAAAAAAABDQAAAAAAAAENAAAAAAACAQkAAAAAAAIBCQAAAAAAAgEJAAAAAAACAQkAAAAAAAIBAQAAAAAAAAEJAAAAAAACAQUAAAAAAAABBQAAAAAAAgEBAAAAAAACAQEAAAAAAAIBAQAAAAAAAgEBAAAAAAACAQEAAAAAAAIBAQAAAAAAAgEBAAAAAAACAQEAAAAAAAABAQAAAAAAAAD9AAAAAAAAAPkAAAAAAAAA+QAAAAAAAAD1AAAAAAAAAPUAAAAAAAAA9QAAAAAAAAD1AAAAAAAAAPEAAAAAAAAA8QAAAAAAAADxAAAAAAAAAPEAAAAAAAAA8QAAAAAAAADtAAAAAAAAAPEAAAAAAAAA8QAAAAAAAADxAAAAAAAAAPEAAAAAAAAA8QAAAAAAAADtAAAAAAAAAO0AAAAAAAAA7QAAAAAAAADtAAAAAAAAAO0AAAAAAAAA7QAAAAAAAADtAAAAAAAAAO0AAAAAAAAA7QAAAAAAAADtAAAAAAAAAO0AAAAAAAAA7QAAAAAAAADtAAAAAAAAAO0AAAAAAAAA7QAAAAAAAADtAAAAAAAAAO0AAAAAAAAA7QAAAAAAAADtAAAAAAAAAOUAAAAAAAAA6QAAAAAAAADpAAAAAAAAAOkAAAAAAAAA6QAAAAAAAADlAAAAAAAAAOUAAAAAAAAA5QAAAAAAAADlAAAAAAAAAOEAAAAAAAAA4QAAAAAAAADdAAAAAAAAAN0AAAAAAAAA3QAAAAAAAADdAAAAAAAAAN0AAAAAAAAA3QAAAAAAAADdAAAAAAAAAN0AAAAAAAAA3QAAAAAAAADdAAAAAAAAANkAAAAAAAAA3QAAAAAAAADZAAAAAAAAANkAAAAAAAAA1QAAAAAAAADZAAAAAAAAANkAAAAAAAAA1QAAAAAAAADVAAAAAAAAANUAAAAAAAAA1QAAAAAAAADVAAAAAAAAANUAAAAAAAAA1QAAAAAAAADVAAAAAAAAANUAAAAAAAAA1QAAAAAAAADVAAAAAAAAANUAAAAAAAAA1QAAAAAAAADVAAAAAAAAANUAAAAAAAAA1QAAAAAAAADVAAAAAAAAANUAAAAAAAAA1QAAAAAAAADVAAAAAAAAANUAAAAAAAAA1QAAAAAAAADVAAAAAAAAANUAAAAAAAAA1QAAAAAAAADVAAAAAAAAANUAAAAAAAAA1QAAAAAAAADVAAAAAAAAANUAAAAAAAAA1QAAAAAAAADVAAAAAAAAANUAAAAAAAAA1QAAAAAAAADVAAAAAAAAANUAAAAAAAAA1QAAAAAAAADVAAAAAAAAANUAAAAAAAAA1QAAAAAAAADZAAAAAAAAANUAAAAAAAAA1QAAAAAAAADVAAAAAAAAANUAAAAAAAAA1QAAAAAAAADVAAAAAAAAANUAAAAAAAAA1QAAAAAAAADVAAAAAAAAANUAAAAAAAAA1QAAAAAAAADVAAAAAAAAANUAAAAAAAAA1QAAAAAAAADVAAAAAAAAANUAAAAAAAAA1QAAAAAAAADVAAAAAAAAANUAAAAAAAAA1QAAAAAAAADVAAAAAAAAANUAAAAAAAAA1QAAAAAAAADVAAAAAAAAANUAAAAAAAAA1QAAAAAAAADVAAAAAAAAANUAAAAAAAAA1QAAAAAAAADVAAAAAAAAANUAAAAAAAAA1QAAAAAAAADVAAAAAAAAANUAAAAAAAAA1QAAAAAAAADVAAAAAAAAANUAAAAAAAAA1QAAAAAAAADVAAAAAAAAANUAAAAAAAAA1QAAAAAAAADVAAAAAAAAANUAAAAAAAAA1QAAAAAAAADVAAAAAAAAANUAAAAAAAAA1QAAAAAAAADVAAAAAAAAANUAAAAAAAAA1QAAAAAAAADRAAAAAAAAANEAAAAAAAAA0QAAAAAAAADRAAAAAAAAANEAAAAAAAAA0QAAAAAAAADRAAAAAAAAANEAAAAAAAAA0QAAAAAAAADRAAAAAAAAANEAAAAAAAAA0QAAAAAAAADRAAAAAAAAANEAAAAAAAAA0QAAAAAAAADRAAAAAAAAANEAAAAAAAAA0QAAAAAAAADRAAAAAAAAANEAAAAAAAAA0QAAAAAAAADRAAAAAAAAANEAAAAAAAAA0QAAAAAAAADRAAAAAAAAANEAAAAAAAAA0QAAAAAAAADRAAAAAAAAANEAAAAAAAAAzQAAAAAAAADNAAAAAAAAAMkAAAAAAAAAzQAAAAAAAADNAAAAAAAAAM0AAAAAAAAAzQAAAAAAAADJAAAAAAAAAMkAAAAAAAAAyQAAAAAAAADFAAAAAAAAAMUAAAAAAAAAxQAAAAAAAADFAAAAAAAAAMEAAAAAAAAAwQAAAAAAAADBAAAAAAAAALkAAAAAAAAAuQAAAAAAAACxAAAAAAAAALEAAAAAAAAAsQAAAAAAAACpAAAAAAAAAKEAAAAAAAAAmQAAAAAAAACZAAAAAAAAAJkAAAAAAAAAgQAAAAAAAACZAAAAAAAAAJEAAAAAAAAAiQAAAAAAAACJAAAAAAAAAIEAAAAAAAAAgQAAAAAAAACBAAAAAAAAAIEAAAAAAAAAgQAAAAAAAABxAAAAAAAAAIEAAAAAAAAAgQAAAAAAAACBAAAAAAAAAIkAAAAAAAAAiQAAAAAAAACJAAAAAAAAAIkAAAAAAAAAiQAAAAAAAACBAAAAAAAAAIkAAAAAAAAAiQAAAAAAAACRAAAAAAAAAJEAAAAAAAAAkQAAAAAAAACZAAAAAAAAAJEAAAAAAAAAkQAAAAAAAACRAAAAAAAAAJEAAAAAAAAAkQAAAAAAAACZAAAAAAAAAKEAAAAAAAAAsQAAAAAAAAC5AAAAAAAAALkAAAAAAAAAwQAAAAAAAADBAAAAAAAAAMkAAAAAAAAAyQAAAAAAAADNAAAAAAAAAMkAAAAAAAAAyQAAAAAAAADFAAAAAAAAAMUAAAAAAAAAwQAAAAAAAAC5AAAAAAAAALkAAAAAAAAAuQAAAAAAAACxAAAAAAAAAKkAAAAAAAAAsQAAAAAAAACxAAAAAAAAALEAAAAAAAAAqQAAAAAAAACpAAAAAAAAAKkAAAAAAAAAqQAAAAAAAACpAAAAAAAAAKkAAAAAAAAAqQAAAAAAAACpAAAAAAAAAKkAAAAAAAAAqQAAAAAAAACpAAAAAAAAAKkAAAAAAAAAqQAAAAAAAACpAAAAAAAAAKEAAAAAAAAAoQAAAAAAAAChAAAAAAAAAKEAAAAAAAAAmQAAAAAAAACZAAAAAAAAAJEAAAAAAAAAgQAAAAAAAACRAAAAAAAAAJEAAAAAAAAAkQAAAAAAAACBAAAAAAAAAIEAAAAAAAAAgQAAAAAAAACBAAAAAAAAAIEAAAAAAAAAgQAAAAAAAACBAAAAAAAAAIEAAAAAAAAAgQAAAAAAAACBAAAAAAAAAHEAAAAAAAAAcQAAAAAAAABxAAAAAAAAAHEAAAAAAAAAcQAAAAAAAABxAAAAAAAAAHEAAAAAAAAAcQAAAAAAAABxAAAAAAAAAHEAAAAAAAAAcQAAAAAAAABxAAAAAAAAAHEAAAAAAAAAcQAAAAAAAABxAAAAAAAAAHEAAAAAAAAAcQAAAAAAAABxAAAAAAAAAHEAAAAAAAAAcQAAAAAAAABxAAAAAAAAAGEAAAAAAAAAYQAAAAAAAABRAAAAAAAAAFEAAAAAAAAAUQAAAAAAAABRAAAAAAAAAEEAAAAAAAAAQQAAAAAAAABBAAAAAAAAAEEAAAAAAAAAQQAAAAAAAABBAAAAAAAAAEEAAAAAAAAAIQAAAAAAAAAhAAAAAAAAACEAAAAAAAAAIQAAAAAAAAAhAAAAAAAAACEAAAAAAAAAIQAAAAAAAAAhAAAAAAAAACEAAAAAAAAAIQAAAAAAAAAhAAAAAAAAAEEAAAAAAAAAIQAAAAAAAAAhAAAAAAAAACEAAAAAAAAAIQAAAAAAAAAhAAAAAAAAACEAAAAAAAAAIQAAAAAAAAAhAAAAAAAAACEAAAAAAAAAIQAAAAAAAAAhAAAAAAAAACEAAAAAAAAAIQAAAAAAAAAhAAAAAAAAACEAAAAAAAAAIQAAAAAAAAAhAAAAAAAAACEAAAAAAAAAIQAAAAAAAAAhAAAAAAAAACEAAAAAAAAAIQAAAAAAAAAhAAAAAAAAACEAAAAAAAAAIQAAAAAAAAAhAAAAAAAAACEAAAAAAAAAIQAAAAAAAAAhAAAAAAAAACEAAAAAAAAAIQAAAAAAAAAhAAAAAAAAACEAAAAAAAAAIQAAAAAAAAAhAAAAAAAAACEAAAAAAAAAIQAAAAAAAAAhAAAAAAAAACEAAAAAAAAAIQAAAAAAAAAhAAAAAAAAACEAAAAAAAAAIQAAAAAAAAAhAAAAAAAAACEAAAAAAAAAIQAAAAAAAAAhAAAAAAAAACEAAAAAAAAAIQAAAAAAAAAhAAAAAAAAACEAAAAAAAAAIQAAAAAAAAAhAAAAAAAAACEAAAAAAAAAIQAAAAAAAAAhAAAAAAAAACEAAAAAAAAAIQAAAAAAAAAhAAAAAAAAACEAAAAAAAAAIQAAAAAAAAAhAAAAAAAAACEAAAAAAAAAIQAAAAAAAAAhAAAAAAAAACEAAAAAAAAAIQAAAAAAAAAhAAAAAAAAACEAAAAAAAAAIQAAAAAAAAAhAAAAAAAAACEAAAAAAAAAIQAAAAAAAAAhAAAAAAAAACEAAAAAAAAAIQAAAAAAAAAhAAAAAAAAACEAAAAAAAAAIQAAAAAAAAAhAAAAAAAAACEAAAAAAAAAIQAAAAAAAAAhAAAAAAAAACEAAAAAAAAAIQAAAAAAAAAhAAAAAAAAACEAAAAAAAAAIQAAAAAAAAAhAAAAAAAAACEAAAAAAAAAIQAAAAAAAAAhAAAAAAAAACEAAAAAAAAAIQAAAAAAAAAhAAAAAAAAACEAAAAAAAAAIQAAAAAAAAAhAAAAAAAAACEAAAAAAAAAIQAAAAAAAAAhAAAAAAAAACEAAAAAAAAAIQAAAAAAAAAhAAAAAAAAACEAAAAAAAAAIQAAAAAAAAAhAAAAAAAAACEAAAAAAAAAIQAAAAAAAAAhAAAAAAAAACEAAAAAAAAAIQAAAAAAAAAhAAAAAAAAACEAAAAAAAAAIQAAAAAAAAAhAAAAAAAAACEAAAAAAAAAIQAAAAAAAAAhAAAAAAAAACEAAAAAAAAAIQAAAAAAAAAhAAAAAAAAACEAAAAAAAAAIQAAAAAAAAAhAAAAAAAAAEEAAAAAAAAAQQAAAAAAAABBAAAAAAAAAEEAAAAAAAAAQQAAAAAAAABBAAAAAAAAACEAAAAAAAAAQQAAAAAAAABhAAAAAAAAAGEAAAAAAAAAYQAAAAAAAABxAAAAAAAAAHEAAAAAAAAAmQAAAAAAAACZAAAAAAAAAKEAAAAAAAAAmQAAAAAAAACZAAAAAAAAAKEAAAAAAAAAoQAAAAAAAAChAAAAAAAAAKEAAAAAAAAAoQAAAAAAAAChAAAAAAAAAKEAAAAAAAAAoQAAAAAAAAChAAAAAAAAAKkAAAAAAAAAqQAAAAAAAACpAAAAAAAAAKkAAAAAAAAAqQAAAAAAAACpAAAAAAAAAKkAAAAAAAAAqQAAAAAAAACpAAAAAAAAAKkAAAAAAAAAqQAAAAAAAACxAAAAAAAAALEAAAAAAAAAsQAAAAAAAACxAAAAAAAAALEAAAAAAAAAsQAAAAAAAACxAAAAAAAAALEAAAAAAAAAsQAAAAAAAACxAAAAAAAAALEAAAAAAAAAoQAAAAAAAACZAAAAAAAAAJkAAAAAAAAAkQAAAAAAAACJAAAAAAAAAIEAAAAAAAAAcQAAAAAAAABhAAAAAAAAAGEAAAAAAAAAYQAAAAAAAABxAAAAAAAAAIEAAAAAAAAAiQAAAAAAAACJAAAAAAAAAJEAAAAAAAAAkQAAAAAAAACRAAAAAAAAAIkAAAAAAAAAkQAAAAAAAACRAAAAAAAAAJEAAAAAAAAAkQAAAAAAAACRAAAAAAAAAJEAAAAAAAAAkQAAAAAAAAChAAAAAAAAALkAAAAAAAAAwQAAAAAAAADBAAAAAAAAALkAAAAAAAAAuQAAAAAAAAC5AAAAAAAAALkAAAAAAAAAuQAAAAAAAAC5AAAAAAAAALkAAAAAAAAAuQAAAAAAAACxAAAAAAAAALEAAAAAAAAAuQAAAAAAAAC5AAAAAAAAAMkAAAAAAAAAuQAAAAAAAACxAAAAAAAAALkAAAAAAAAAwQAAAAAAAADFAAAAAAAAAMkAAAAAAAAAzQAAAAAAAADJAAAAAAAAAMkAAAAAAAAAxQAAAAAAAAC5AAAAAAAAAKkAAAAAAAAAoQAAAAAAAACZAAAAAAAAAJkAAAAAAAAAkQAAAAAAAACRAAAAAAAAAIkAAAAAAAAAiQAAAAAAAACJAAAAAAAAAIEAAAAAAAAAiQAAAAAAAACBAAAAAAAAAHEAAAAAAAAAUQAAAAAAAABxAAAAAAAAAHEAAAAAAAAAYQAAAAAAAABhAAAAAAAAAFEAAAAAAAAAUQAAAAAAAABRAAAAAAAAAFEAAAAAAAAAUQAAAAAAAABBAAAAAAAAAEEAAAAAAAAAIQAAAAAAAABBAAAAAAAAAAEAAAAAAAAAIQAAAAAAAAAhAAAAAAAAACEAAAAAAAAAIQAAAAAAAAAhAAAAAAAAACEAAAAAAAAAIQAAAAAAAAAhAAAAAAAAACEAAAAAAAAAAQAAAAAAAAAAAAAAAAAAAAEAAAAAAAAAAQAAAAAAAAABAAAAAAAAA8L8AAAAAAADwvwAAAAAAAPC/AAAAAAAA8L8AAAAAAADwvwAAAAAAAPC/AAAAAAAA8L8AAAAAAADwvwAAAAAAAPC/AAAAAAAA8L8AAAAAAADwvwAAAAAAAPC/AAAAAAAA8L8AAAAAAADwvwAAAAAAAPC/AAAAAAAA8L8AAAAAAADwvwAAAAAAAPC/AAAAAAAA8L8AAAAAAADwvwAAAAAAAPC/AAAAAAAAAAAAAAAAAADwvwAAAAAAAPC/AAAAAAAA8L8AAAAAAADwvwAAAAAAAPC/AAAAAAAA8L8AAAAAAADwvwAAAAAAAPC/AAAAAAAA8L8AAAAAAADwvwAAAAAAAPC/AAAAAAAA8L8AAAAAAADwvwAAAAAAAPC/AAAAAAAA8L8AAAAAAADwvwAAAAAAAPC/AAAAAAAA8L8AAAAAAADwvwAAAAAAAPC/AAAAAAAA8L8AAAAAAADwvwAAAAAAAPC/AAAAAAAA8L8AAAAAAAAAAAAAAAAAAPC/AAAAAAAA8L8AAAAAAADwvwAAAAAAAPC/AAAAAAAA8L8AAAAAAADwvwAAAAAAAPC/AAAAAAAA8L8AAAAAAADwvwAAAAAAAPC/AAAAAAAA8L8AAAAAAADwvwAAAAAAAPC/AAAAAAAA8L8AAAAAAADwvwAAAAAAAPC/AAAAAAAA8L8AAAAAAADwvwAAAAAAAPC/AAAAAAAA8L8AAAAAAADwvwAAAAAAAPC/AAAAAAAA8L8AAAAAAADwvwAAAAAAAAAAAAAAAAAA8L8AAAAAAADwvwAAAAAAAPC/AAAAAAAA8L8AAAAAAADwvwAAAAAAAPC/AAAAAAAA8L8AAAAAAADwvwAAAAAAAPC/AAAAAAAA8L8AAAAAAADwvwAAAAAAAPC/AAAAAAAA8L8AAAAAAADwvwAAAAAAAPC/AAAAAAAA8L8AAAAAAADwvwAAAAAAAPC/AAAAAAAA8L8AAAAAAADwvwAAAAAAAPC/AAAAAAAA8L8AAAAAAADwvwAAAAAAAPC/AAAAAAAAAAAAAAAAAADwvwAAAAAAAPC/AAAAAAAA8L8AAAAAAADwvwAAAAAAAPC/AAAAAAAA8L8AAAAAAADwvwAAAAAAAPC/AAAAAAAA8L8AAAAAAADwvwAAAAAAAPC/AAAAAAAA8L8AAAAAAADwvwAAAAAAAPC/AAAAAAAA8L8AAAAAAADwvwAAAAAAAPC/AAAAAAAA8L8AAAAAAADwvwAAAAAAAPC/AAAAAAAA8L8AAAAAAADwvwAAAAAAAPC/AAAAAAAA8L8AAAAAAAAAAAAAAAAAAPC/AAAAAAAA8L8AAAAAAADwvwAAAAAAAPC/AAAAAAAA8L8AAAAAAADwvwAAAAAAAPC/AAAAAAAA8L8AAAAAAADwvwAAAAAAAPC/AAAAAAAA8L8AAAAAAADwvwAAAAAAAPC/AAAAAAAA8L8AAAAAAADwvwAAAAAAAPC/AAAAAAAA8L8AAAAAAADwvwAAAAAAAPC/AAAAAAAA8L8AAAAAAADwvwAAAAAAAPC/AAAAAAAA8L8AAAAAAADwvwAAAAAAAAAAAAAAAAAA8L8AAAAAAADwvwAAAAAAAPC/AAAAAAAA8L8AAAAAAADwvwAAAAAAAPC/AAAAAAAA8L8AAAAAAADwvwAAAAAAAPC/AAAAAAAA8L8AAAAAAADwvwAAAAAAAPC/AAAAAAAA8L8AAAAAAADwvwAAAAAAAPC/AAAAAAAA8L8AAAAAAADwvwAAAAAAAPC/AAAAAAAA8L8AAAAAAADwvwAAAAAAAPC/AAAAAAAA8L8AAAAAAADwvwAAAAAAAPC/AAAAAAAAAAAAAAAAAADwvwAAAAAAAPC/AAAAAAAA8L8AAAAAAADwvwAAAAAAAPC/AAAAAAAA8L8AAAAAAADwvwAAAAAAAPC/AAAAAAAA8L8AAAAAAADwvwAAAAAAAPC/AAAAAAAA8L8AAAAAAADwvwAAAAAAAPC/AAAAAAAA8L8AAAAAAADwvwAAAAAAAPC/AAAAAAAA8L8AAAAAAADwvwAAAAAAAPC/AAAAAAAA8L8AAAAAAADwvwAAAAAAAPC/AAAAAAAA8L8AAAAAAAAAAAAAAAAAAPC/AAAAAAAA8L8AAAAAAADwvwAAAAAAAPC/AAAAAAAA8L8AAAAAAADwvwAAAAAAAPC/AAAAAAAA8L8AAAAAAADwvwAAAAAAAPC/AAAAAAAA8L8AAAAAAADwvwAAAAAAAPC/AAAAAAAA8L8AAAAAAADwvwAAAAAAAPC/AAAAAAAA8L8AAAAAAADwvwAAAAAAAPC/AAAAAAAA8L8AAAAAAADwvwAAAAAAAPC/AAAAAAAA8L8AAAAAAADwvwAAAAAAAAAAAAAAAAAA8L8AAAAAAADwvwAAAAAAAPC/AAAAAAAA8L8AAAAAAADwvwAAAAAAAPC/AAAAAAAA8L8AAAAAAADwvwAAAAAAAPC/AAAAAAAA8L8AAAAAAADwvwAAAAAAAPC/AAAAAAAA8L8AAAAAAADwvwAAAAAAAPC/AAAAAAAA8L8AAAAAAADwvwAAAAAAAPC/AAAAAAAA8L8AAAAAAADwvwAAAAAAAPC/AAAAAAAA8L8AAAAAAADwvwAAAAAAAPC/AAAAAAAAAAAAAAAAAADwvwAAAAAAAPC/AAAAAAAA8L8AAAAAAADwvwAAAAAAAPC/AAAAAAAA8L8AAAAAAADwvwAAAAAAAPC/AAAAAAAA8L8AAAAAAADwvwAAAAAAAPC/AAAAAAAA8L8AAAAAAADwvwAAAAAAAPC/AAAAAAAA8L8AAAAAAADwvwAAAAAAAPC/AAAAAAAA8L8AAAAAAADwvwAAAAAAAPC/AAAAAAAA8L8AAAAAAADwvwAAAAAAAPC/AAAAAAAA8L8AAAAAAAAAAAAAAAAAAPC/AAAAAAAA8L8AAAAAAADwvwAAAAAAAPC/AAAAAAAA8L8AAAAAAADwvwAAAAAAAPC/AAAAAAAA8L8AAAAAAADwvwAAAAAAAPC/AAAAAAAA8L8AAAAAAADwvwAAAAAAAPC/AAAAAAAA8L8AAAAAAADwvwAAAAAAAPC/AAAAAAAA8L8AAAAAAADwvwAAAAAAAPC/AAAAAAAA8L8AAAAAAADwvwAAAAAAAPC/AAAAAAAA8L8AAAAAAADwvwAAAAAAAAAAAAAAAAAA8L8AAAAAAADwvwAAAAAAAPC/AAAAAAAA8L8AAAAAAADwvwAAAAAAAPC/AAAAAAAA8L8AAAAAAADwvwAAAAAAAPC/AAAAAAAA8L8AAAAAAADwvwAAAAAAAPC/AAAAAAAA8L8AAAAAAADwvwAAAAAAAPC/AAAAAAAA8L8AAAAAAADwvwAAAAAAAPC/AAAAAAAA8L8AAAAAAADwvwAAAAAAAPC/AAAAAAAA8L8AAAAAAADwvwAAAAAAAPC/AAAAAAAAAAAAAAAAAADwvwAAAAAAAPC/AAAAAAAA8L8AAAAAAADwvwAAAAAAAPC/AAAAAAAA8L8AAAAAAADwvwAAAAAAAPC/AAAAAAAA8L8AAAAAAADwvwAAAAAAAPC/AAAAAAAA8L8AAAAAAADwvwAAAAAAAPC/AAAAAAAA8L8AAAAAAADwvwAAAAAAAPC/AAAAAAAA8L8AAAAAAADwvwAAAAAAAPC/AAAAAAAA8L8AAAAAAADwvwAAAAAAAPC/AAAAAAAA8L8AAAAAAAAAAAAAAAAAAPC/AAAAAAAA8L8AAAAAAADwvwAAAAAAAPC/AAAAAAAA8L8AAAAAAADwvwAAAAAAAPC/AAAAAAAA8L8AAAAAAADwvwAAAAAAAPC/AAAAAAAA8L8AAAAAAADwvwAAAAAAAPC/AAAAAAAA8L8AAAAAAADwvwAAAAAAAPC/AAAAAAAA8L8AAAAAAADwvwAAAAAAAPC/AAAAAAAA8L8AAAAAAADwvwAAAAAAAPC/AAAAAAAA8L8AAAAAAADwvwAAAAAAAAAAAAAAAAAA8L8AAAAAAADwvwAAAAAAAPC/AAAAAAAA8L8AAAAAAADwvwAAAAAAAPC/AAAAAAAA8L8AAAAAAADwvwAAAAAAAPC/AAAAAAAA8L8AAAAAAADwvwAAAAAAAPC/AAAAAAAA8L8AAAAAAADwvwAAAAAAAPC/AAAAAAAA8L8AAAAAAADwvwAAAAAAAPC/AAAAAAAA8L8AAAAAAADwvwAAAAAAAPC/AAAAAAAA8L8AAAAAAADwvwAAAAAAAPC/AAAAAAAAAAAAAAAAAADwvwAAAAAAAPC/AAAAAAAA8L8AAAAAAADwvwAAAAAAAPC/AAAAAAAA8L8AAAAAAADwvwAAAAAAAPC/AAAAAAAA8L8AAAAAAADwvwAAAAAAAPC/AAAAAAAA8L8AAAAAAADwvwAAAAAAAPC/AAAAAAAA8L8AAAAAAADwvwAAAAAAAPC/AAAAAAAA8L8AAAAAAADwvwAAAAAAAPC/AAAAAAAA8L8AAAAAAADwvwAAAAAAAPC/AAAAAAAA8L8AAAAAAAAAAAAAAAAAAPC/AAAAAAAA8L8AAAAAAADwvwAAAAAAAPC/AAAAAAAA8L8AAAAAAADwvwAAAAAAAPC/AAAAAAAA8L8AAAAAAADwvwAAAAAAAPC/AAAAAAAA8L8AAAAAAADwvwAAAAAAAPC/AAAAAAAA8L8AAAAAAADwvwAAAAAAAPC/AAAAAAAA8L8AAAAAAADwvwAAAAAAAPC/AAAAAAAA8L8AAAAAAADwvwAAAAAAAPC/AAAAAAAA8L8AAAAAAADwvwAAAAAAAAAAAAAAAAAA8L8AAAAAAADwvwAAAAAAAPC/AAAAAAAA8L8AAAAAAADwvwAAAAAAAPC/AAAAAAAA8L8AAAAAAADwvwAAAAAAAPC/AAAAAAAA8L8AAAAAAADwvwAAAAAAAPC/AAAAAAAA8L8AAAAAAADwvwAAAAAAAPC/AAAAAAAA8L8AAAAAAADwvwAAAAAAAPC/AAAAAAAA8L8AAAAAAADwvwAAAAAAAPC/AAAAAAAA8L8AAAAAAADwvwAAAAAAAPC/AAAAAAAAAAAAAAAAAADwvwAAAAAAAPC/AAAAAAAA8L8AAAAAAADwvwAAAAAAAPC/AAAAAAAA8L8AAAAAAADwvwAAAAAAAPC/AAAAAAAA8L8AAAAAAADwvwAAAAAAAPC/AAAAAAAA8L8AAAAAAADwvwAAAAAAAPC/AAAAAAAA8L8AAAAAAADwvwAAAAAAAPC/AAAAAAAA8L8AAAAAAADwvwAAAAAAAPC/AAAAAAAA8L8AAAAAAADwvwAAAAAAAPC/",
          "dtype": "f8"
         }
        }
       ],
       "layout": {
        "legend": {
         "title": {
          "text": "Snøtykkelse"
         }
        },
        "template": {
         "data": {
          "bar": [
           {
            "error_x": {
             "color": "#2a3f5f"
            },
            "error_y": {
             "color": "#2a3f5f"
            },
            "marker": {
             "line": {
              "color": "#E5ECF6",
              "width": 0.5
             },
             "pattern": {
              "fillmode": "overlay",
              "size": 10,
              "solidity": 0.2
             }
            },
            "type": "bar"
           }
          ],
          "barpolar": [
           {
            "marker": {
             "line": {
              "color": "#E5ECF6",
              "width": 0.5
             },
             "pattern": {
              "fillmode": "overlay",
              "size": 10,
              "solidity": 0.2
             }
            },
            "type": "barpolar"
           }
          ],
          "carpet": [
           {
            "aaxis": {
             "endlinecolor": "#2a3f5f",
             "gridcolor": "white",
             "linecolor": "white",
             "minorgridcolor": "white",
             "startlinecolor": "#2a3f5f"
            },
            "baxis": {
             "endlinecolor": "#2a3f5f",
             "gridcolor": "white",
             "linecolor": "white",
             "minorgridcolor": "white",
             "startlinecolor": "#2a3f5f"
            },
            "type": "carpet"
           }
          ],
          "choropleth": [
           {
            "colorbar": {
             "outlinewidth": 0,
             "ticks": ""
            },
            "type": "choropleth"
           }
          ],
          "contour": [
           {
            "colorbar": {
             "outlinewidth": 0,
             "ticks": ""
            },
            "colorscale": [
             [
              0,
              "#0d0887"
             ],
             [
              0.1111111111111111,
              "#46039f"
             ],
             [
              0.2222222222222222,
              "#7201a8"
             ],
             [
              0.3333333333333333,
              "#9c179e"
             ],
             [
              0.4444444444444444,
              "#bd3786"
             ],
             [
              0.5555555555555556,
              "#d8576b"
             ],
             [
              0.6666666666666666,
              "#ed7953"
             ],
             [
              0.7777777777777778,
              "#fb9f3a"
             ],
             [
              0.8888888888888888,
              "#fdca26"
             ],
             [
              1,
              "#f0f921"
             ]
            ],
            "type": "contour"
           }
          ],
          "contourcarpet": [
           {
            "colorbar": {
             "outlinewidth": 0,
             "ticks": ""
            },
            "type": "contourcarpet"
           }
          ],
          "heatmap": [
           {
            "colorbar": {
             "outlinewidth": 0,
             "ticks": ""
            },
            "colorscale": [
             [
              0,
              "#0d0887"
             ],
             [
              0.1111111111111111,
              "#46039f"
             ],
             [
              0.2222222222222222,
              "#7201a8"
             ],
             [
              0.3333333333333333,
              "#9c179e"
             ],
             [
              0.4444444444444444,
              "#bd3786"
             ],
             [
              0.5555555555555556,
              "#d8576b"
             ],
             [
              0.6666666666666666,
              "#ed7953"
             ],
             [
              0.7777777777777778,
              "#fb9f3a"
             ],
             [
              0.8888888888888888,
              "#fdca26"
             ],
             [
              1,
              "#f0f921"
             ]
            ],
            "type": "heatmap"
           }
          ],
          "histogram": [
           {
            "marker": {
             "pattern": {
              "fillmode": "overlay",
              "size": 10,
              "solidity": 0.2
             }
            },
            "type": "histogram"
           }
          ],
          "histogram2d": [
           {
            "colorbar": {
             "outlinewidth": 0,
             "ticks": ""
            },
            "colorscale": [
             [
              0,
              "#0d0887"
             ],
             [
              0.1111111111111111,
              "#46039f"
             ],
             [
              0.2222222222222222,
              "#7201a8"
             ],
             [
              0.3333333333333333,
              "#9c179e"
             ],
             [
              0.4444444444444444,
              "#bd3786"
             ],
             [
              0.5555555555555556,
              "#d8576b"
             ],
             [
              0.6666666666666666,
              "#ed7953"
             ],
             [
              0.7777777777777778,
              "#fb9f3a"
             ],
             [
              0.8888888888888888,
              "#fdca26"
             ],
             [
              1,
              "#f0f921"
             ]
            ],
            "type": "histogram2d"
           }
          ],
          "histogram2dcontour": [
           {
            "colorbar": {
             "outlinewidth": 0,
             "ticks": ""
            },
            "colorscale": [
             [
              0,
              "#0d0887"
             ],
             [
              0.1111111111111111,
              "#46039f"
             ],
             [
              0.2222222222222222,
              "#7201a8"
             ],
             [
              0.3333333333333333,
              "#9c179e"
             ],
             [
              0.4444444444444444,
              "#bd3786"
             ],
             [
              0.5555555555555556,
              "#d8576b"
             ],
             [
              0.6666666666666666,
              "#ed7953"
             ],
             [
              0.7777777777777778,
              "#fb9f3a"
             ],
             [
              0.8888888888888888,
              "#fdca26"
             ],
             [
              1,
              "#f0f921"
             ]
            ],
            "type": "histogram2dcontour"
           }
          ],
          "mesh3d": [
           {
            "colorbar": {
             "outlinewidth": 0,
             "ticks": ""
            },
            "type": "mesh3d"
           }
          ],
          "parcoords": [
           {
            "line": {
             "colorbar": {
              "outlinewidth": 0,
              "ticks": ""
             }
            },
            "type": "parcoords"
           }
          ],
          "pie": [
           {
            "automargin": true,
            "type": "pie"
           }
          ],
          "scatter": [
           {
            "fillpattern": {
             "fillmode": "overlay",
             "size": 10,
             "solidity": 0.2
            },
            "type": "scatter"
           }
          ],
          "scatter3d": [
           {
            "line": {
             "colorbar": {
              "outlinewidth": 0,
              "ticks": ""
             }
            },
            "marker": {
             "colorbar": {
              "outlinewidth": 0,
              "ticks": ""
             }
            },
            "type": "scatter3d"
           }
          ],
          "scattercarpet": [
           {
            "marker": {
             "colorbar": {
              "outlinewidth": 0,
              "ticks": ""
             }
            },
            "type": "scattercarpet"
           }
          ],
          "scattergeo": [
           {
            "marker": {
             "colorbar": {
              "outlinewidth": 0,
              "ticks": ""
             }
            },
            "type": "scattergeo"
           }
          ],
          "scattergl": [
           {
            "marker": {
             "colorbar": {
              "outlinewidth": 0,
              "ticks": ""
             }
            },
            "type": "scattergl"
           }
          ],
          "scattermap": [
           {
            "marker": {
             "colorbar": {
              "outlinewidth": 0,
              "ticks": ""
             }
            },
            "type": "scattermap"
           }
          ],
          "scattermapbox": [
           {
            "marker": {
             "colorbar": {
              "outlinewidth": 0,
              "ticks": ""
             }
            },
            "type": "scattermapbox"
           }
          ],
          "scatterpolar": [
           {
            "marker": {
             "colorbar": {
              "outlinewidth": 0,
              "ticks": ""
             }
            },
            "type": "scatterpolar"
           }
          ],
          "scatterpolargl": [
           {
            "marker": {
             "colorbar": {
              "outlinewidth": 0,
              "ticks": ""
             }
            },
            "type": "scatterpolargl"
           }
          ],
          "scatterternary": [
           {
            "marker": {
             "colorbar": {
              "outlinewidth": 0,
              "ticks": ""
             }
            },
            "type": "scatterternary"
           }
          ],
          "surface": [
           {
            "colorbar": {
             "outlinewidth": 0,
             "ticks": ""
            },
            "colorscale": [
             [
              0,
              "#0d0887"
             ],
             [
              0.1111111111111111,
              "#46039f"
             ],
             [
              0.2222222222222222,
              "#7201a8"
             ],
             [
              0.3333333333333333,
              "#9c179e"
             ],
             [
              0.4444444444444444,
              "#bd3786"
             ],
             [
              0.5555555555555556,
              "#d8576b"
             ],
             [
              0.6666666666666666,
              "#ed7953"
             ],
             [
              0.7777777777777778,
              "#fb9f3a"
             ],
             [
              0.8888888888888888,
              "#fdca26"
             ],
             [
              1,
              "#f0f921"
             ]
            ],
            "type": "surface"
           }
          ],
          "table": [
           {
            "cells": {
             "fill": {
              "color": "#EBF0F8"
             },
             "line": {
              "color": "white"
             }
            },
            "header": {
             "fill": {
              "color": "#C8D4E3"
             },
             "line": {
              "color": "white"
             }
            },
            "type": "table"
           }
          ]
         },
         "layout": {
          "annotationdefaults": {
           "arrowcolor": "#2a3f5f",
           "arrowhead": 0,
           "arrowwidth": 1
          },
          "autotypenumbers": "strict",
          "coloraxis": {
           "colorbar": {
            "outlinewidth": 0,
            "ticks": ""
           }
          },
          "colorscale": {
           "diverging": [
            [
             0,
             "#8e0152"
            ],
            [
             0.1,
             "#c51b7d"
            ],
            [
             0.2,
             "#de77ae"
            ],
            [
             0.3,
             "#f1b6da"
            ],
            [
             0.4,
             "#fde0ef"
            ],
            [
             0.5,
             "#f7f7f7"
            ],
            [
             0.6,
             "#e6f5d0"
            ],
            [
             0.7,
             "#b8e186"
            ],
            [
             0.8,
             "#7fbc41"
            ],
            [
             0.9,
             "#4d9221"
            ],
            [
             1,
             "#276419"
            ]
           ],
           "sequential": [
            [
             0,
             "#0d0887"
            ],
            [
             0.1111111111111111,
             "#46039f"
            ],
            [
             0.2222222222222222,
             "#7201a8"
            ],
            [
             0.3333333333333333,
             "#9c179e"
            ],
            [
             0.4444444444444444,
             "#bd3786"
            ],
            [
             0.5555555555555556,
             "#d8576b"
            ],
            [
             0.6666666666666666,
             "#ed7953"
            ],
            [
             0.7777777777777778,
             "#fb9f3a"
            ],
            [
             0.8888888888888888,
             "#fdca26"
            ],
            [
             1,
             "#f0f921"
            ]
           ],
           "sequentialminus": [
            [
             0,
             "#0d0887"
            ],
            [
             0.1111111111111111,
             "#46039f"
            ],
            [
             0.2222222222222222,
             "#7201a8"
            ],
            [
             0.3333333333333333,
             "#9c179e"
            ],
            [
             0.4444444444444444,
             "#bd3786"
            ],
            [
             0.5555555555555556,
             "#d8576b"
            ],
            [
             0.6666666666666666,
             "#ed7953"
            ],
            [
             0.7777777777777778,
             "#fb9f3a"
            ],
            [
             0.8888888888888888,
             "#fdca26"
            ],
            [
             1,
             "#f0f921"
            ]
           ]
          },
          "colorway": [
           "#636efa",
           "#EF553B",
           "#00cc96",
           "#ab63fa",
           "#FFA15A",
           "#19d3f3",
           "#FF6692",
           "#B6E880",
           "#FF97FF",
           "#FECB52"
          ],
          "font": {
           "color": "#2a3f5f"
          },
          "geo": {
           "bgcolor": "white",
           "lakecolor": "white",
           "landcolor": "#E5ECF6",
           "showlakes": true,
           "showland": true,
           "subunitcolor": "white"
          },
          "hoverlabel": {
           "align": "left"
          },
          "hovermode": "closest",
          "mapbox": {
           "style": "light"
          },
          "paper_bgcolor": "white",
          "plot_bgcolor": "#E5ECF6",
          "polar": {
           "angularaxis": {
            "gridcolor": "white",
            "linecolor": "white",
            "ticks": ""
           },
           "bgcolor": "#E5ECF6",
           "radialaxis": {
            "gridcolor": "white",
            "linecolor": "white",
            "ticks": ""
           }
          },
          "scene": {
           "xaxis": {
            "backgroundcolor": "#E5ECF6",
            "gridcolor": "white",
            "gridwidth": 2,
            "linecolor": "white",
            "showbackground": true,
            "ticks": "",
            "zerolinecolor": "white"
           },
           "yaxis": {
            "backgroundcolor": "#E5ECF6",
            "gridcolor": "white",
            "gridwidth": 2,
            "linecolor": "white",
            "showbackground": true,
            "ticks": "",
            "zerolinecolor": "white"
           },
           "zaxis": {
            "backgroundcolor": "#E5ECF6",
            "gridcolor": "white",
            "gridwidth": 2,
            "linecolor": "white",
            "showbackground": true,
            "ticks": "",
            "zerolinecolor": "white"
           }
          },
          "shapedefaults": {
           "line": {
            "color": "#2a3f5f"
           }
          },
          "ternary": {
           "aaxis": {
            "gridcolor": "white",
            "linecolor": "white",
            "ticks": ""
           },
           "baxis": {
            "gridcolor": "white",
            "linecolor": "white",
            "ticks": ""
           },
           "bgcolor": "#E5ECF6",
           "caxis": {
            "gridcolor": "white",
            "linecolor": "white",
            "ticks": ""
           }
          },
          "title": {
           "x": 0.05
          },
          "xaxis": {
           "automargin": true,
           "gridcolor": "white",
           "linecolor": "white",
           "ticks": "",
           "title": {
            "standoff": 15
           },
           "zerolinecolor": "white",
           "zerolinewidth": 2
          },
          "yaxis": {
           "automargin": true,
           "gridcolor": "white",
           "linecolor": "white",
           "ticks": "",
           "title": {
            "standoff": 15
           },
           "zerolinecolor": "white",
           "zerolinewidth": 2
          }
         }
        },
        "title": {
         "text": "Snøtykkelse over tid i Trondheim"
        },
        "xaxis": {
         "title": {
          "text": "Dato"
         }
        },
        "yaxis": {
         "title": {
          "text": "Snøtykkelse (cm)"
         }
        }
       }
      }
     },
     "metadata": {},
     "output_type": "display_data"
    },
    {
     "name": "stdout",
     "output_type": "stream",
     "text": [
      "\n",
      "Snøtykkelse:\n",
      "Median: 14.00, Standardavvik: 16.16\n"
     ]
    },
    {
     "data": {
      "application/vnd.plotly.v1+json": {
       "config": {
        "plotlyServerURL": "https://plot.ly"
       },
       "data": [
        {
         "line": {
          "color": "#1f77b4"
         },
         "mode": "lines",
         "name": "Luftfuktighet i Trondheim",
         "type": "scatter",
         "x": [
          "2025-01-08T00:00:00+00:00",
          "2025-01-09T00:00:00+00:00",
          "2025-01-10T00:00:00+00:00",
          "2025-01-11T00:00:00+00:00",
          "2025-01-12T00:00:00+00:00",
          "2025-01-13T00:00:00+00:00",
          "2025-01-14T00:00:00+00:00",
          "2025-01-15T00:00:00+00:00",
          "2025-01-16T00:00:00+00:00",
          "2025-01-17T00:00:00+00:00",
          "2025-01-18T00:00:00+00:00",
          "2025-01-19T00:00:00+00:00",
          "2025-01-20T00:00:00+00:00",
          "2025-01-21T00:00:00+00:00",
          "2025-01-22T00:00:00+00:00",
          "2025-01-23T00:00:00+00:00",
          "2025-01-24T00:00:00+00:00",
          "2025-01-25T00:00:00+00:00",
          "2025-01-26T00:00:00+00:00",
          "2025-01-27T00:00:00+00:00",
          "2025-01-28T00:00:00+00:00",
          "2025-01-29T00:00:00+00:00",
          "2025-01-30T00:00:00+00:00",
          "2025-01-31T00:00:00+00:00",
          "2025-02-01T00:00:00+00:00",
          "2025-02-02T00:00:00+00:00",
          "2025-02-03T00:00:00+00:00",
          "2025-02-04T00:00:00+00:00",
          "2025-02-05T00:00:00+00:00",
          "2025-02-06T00:00:00+00:00",
          "2025-02-07T00:00:00+00:00",
          "2025-02-08T00:00:00+00:00",
          "2025-02-09T00:00:00+00:00",
          "2025-02-10T00:00:00+00:00",
          "2025-02-11T00:00:00+00:00",
          "2025-02-12T00:00:00+00:00",
          "2025-02-13T00:00:00+00:00",
          "2025-02-14T00:00:00+00:00",
          "2025-02-15T00:00:00+00:00",
          "2025-02-16T00:00:00+00:00",
          "2025-02-17T00:00:00+00:00",
          "2025-02-18T00:00:00+00:00",
          "2025-02-19T00:00:00+00:00",
          "2025-02-20T00:00:00+00:00",
          "2025-02-21T00:00:00+00:00",
          "2025-02-22T00:00:00+00:00",
          "2025-02-23T00:00:00+00:00",
          "2025-02-24T00:00:00+00:00",
          "2025-02-25T00:00:00+00:00",
          "2025-02-26T00:00:00+00:00",
          "2025-02-27T00:00:00+00:00",
          "2025-02-28T00:00:00+00:00",
          "2025-03-01T00:00:00+00:00",
          "2025-03-02T00:00:00+00:00",
          "2025-03-03T00:00:00+00:00",
          "2025-03-04T00:00:00+00:00",
          "2025-03-05T00:00:00+00:00",
          "2025-03-06T00:00:00+00:00",
          "2025-03-07T00:00:00+00:00",
          "2025-03-08T00:00:00+00:00",
          "2025-03-09T00:00:00+00:00",
          "2025-03-10T00:00:00+00:00",
          "2025-03-11T00:00:00+00:00",
          "2025-03-12T00:00:00+00:00",
          "2025-03-13T00:00:00+00:00",
          "2025-03-14T00:00:00+00:00",
          "2025-03-15T00:00:00+00:00",
          "2025-03-16T00:00:00+00:00",
          "2025-03-17T00:00:00+00:00",
          "2025-03-18T00:00:00+00:00",
          "2025-03-19T00:00:00+00:00",
          "2025-03-20T00:00:00+00:00",
          "2025-03-21T00:00:00+00:00",
          "2025-03-22T00:00:00+00:00",
          "2025-03-23T00:00:00+00:00",
          "2025-03-24T00:00:00+00:00",
          "2025-03-25T00:00:00+00:00",
          "2025-03-26T00:00:00+00:00",
          "2025-03-27T00:00:00+00:00",
          "2025-03-28T00:00:00+00:00",
          "2025-03-29T00:00:00+00:00",
          "2025-03-30T00:00:00+00:00",
          "2025-03-31T00:00:00+00:00",
          "2025-04-01T00:00:00+00:00",
          "2025-04-02T00:00:00+00:00",
          "2025-04-03T00:00:00+00:00",
          "2025-04-04T00:00:00+00:00",
          "2025-04-05T00:00:00+00:00",
          "2025-04-06T00:00:00+00:00",
          "2025-04-07T00:00:00+00:00"
         ],
         "y": {
          "bdata": "AAAAAADAVkAAAAAAAIBXQAAAAAAAQFhAAAAAAACAV0AAAAAAAEBTQAAAAAAAgFRAAAAAAADAWEAAAAAAAMBXQAAAAAAAgFdAAAAAAABAVkAAAAAAAABXQAAAAAAAQFhAAAAAAAAAWUAAAAAAAABZQAAAAAAAgFhAAAAAAAAAWEAAAAAAAMBVQAAAAAAAAE9AAAAAAACATkAAAAAAAIBNQAAAAAAAwFNAAAAAAABAV0AAAAAAAEBXQAAAAAAAgFhAAAAAAADAWEAAAAAAAABVQAAAAAAAgFRAAAAAAAAAWUAAAAAAAEBYQAAAAAAAAFJAAAAAAADAVEAAAAAAAIBQQAAAAAAAQFNAAAAAAADAUkAAAAAAAIBVQAAAAAAAAFZAAAAAAACAU0AAAAAAAEBWQAAAAAAAAFJAAAAAAABAVUAAAAAAAMBYQAAAAAAAwFhAAAAAAAAAVkAAAAAAAABWQAAAAAAAwFRAAAAAAABAU0AAAAAAAMBTQAAAAAAAgE5AAAAAAADAUEAAAAAAAABUQAAAAAAAwFVAAAAAAABAVEAAAAAAAMBVQAAAAAAAwFhAAAAAAABAWEAAAAAAAMBXQAAAAAAAAFlAAAAAAAAAU0AAAAAAAIBVQAAAAAAAwFNAAAAAAADAVkAAAAAAAABVQAAAAAAAgFFAAAAAAABAU0AAAAAAAEBUQAAAAAAAgFZAAAAAAAAAV0AAAAAAAEBWQAAAAAAAAFhAAAAAAACAVkAAAAAAAMBXQAAAAAAAAFdAAAAAAADAVEAAAAAAAABHQAAAAAAAAEVAAAAAAABAUkAAAAAAAMBYQAAAAAAAwFhAAAAAAADAV0AAAAAAAMBXQAAAAAAAgFVAAAAAAABAWEAAAAAAAIBTQAAAAAAAQFVAAAAAAABAU0AAAAAAAIBUQAAAAAAAQFZAAAAAAAAAVkAAAAAAAMBWQAAAAAAAAFdA",
          "dtype": "f8"
         }
        },
        {
         "line": {
          "color": "#1f77b4",
          "dash": "dash"
         },
         "mode": "lines",
         "name": "Gjennomsnittlig luftfuktighet i Trondheim",
         "type": "scatter",
         "x": [
          "2025-01-08T00:00:00+00:00",
          "2025-01-09T00:00:00+00:00",
          "2025-01-10T00:00:00+00:00",
          "2025-01-11T00:00:00+00:00",
          "2025-01-12T00:00:00+00:00",
          "2025-01-13T00:00:00+00:00",
          "2025-01-14T00:00:00+00:00",
          "2025-01-15T00:00:00+00:00",
          "2025-01-16T00:00:00+00:00",
          "2025-01-17T00:00:00+00:00",
          "2025-01-18T00:00:00+00:00",
          "2025-01-19T00:00:00+00:00",
          "2025-01-20T00:00:00+00:00",
          "2025-01-21T00:00:00+00:00",
          "2025-01-22T00:00:00+00:00",
          "2025-01-23T00:00:00+00:00",
          "2025-01-24T00:00:00+00:00",
          "2025-01-25T00:00:00+00:00",
          "2025-01-26T00:00:00+00:00",
          "2025-01-27T00:00:00+00:00",
          "2025-01-28T00:00:00+00:00",
          "2025-01-29T00:00:00+00:00",
          "2025-01-30T00:00:00+00:00",
          "2025-01-31T00:00:00+00:00",
          "2025-02-01T00:00:00+00:00",
          "2025-02-02T00:00:00+00:00",
          "2025-02-03T00:00:00+00:00",
          "2025-02-04T00:00:00+00:00",
          "2025-02-05T00:00:00+00:00",
          "2025-02-06T00:00:00+00:00",
          "2025-02-07T00:00:00+00:00",
          "2025-02-08T00:00:00+00:00",
          "2025-02-09T00:00:00+00:00",
          "2025-02-10T00:00:00+00:00",
          "2025-02-11T00:00:00+00:00",
          "2025-02-12T00:00:00+00:00",
          "2025-02-13T00:00:00+00:00",
          "2025-02-14T00:00:00+00:00",
          "2025-02-15T00:00:00+00:00",
          "2025-02-16T00:00:00+00:00",
          "2025-02-17T00:00:00+00:00",
          "2025-02-18T00:00:00+00:00",
          "2025-02-19T00:00:00+00:00",
          "2025-02-20T00:00:00+00:00",
          "2025-02-21T00:00:00+00:00",
          "2025-02-22T00:00:00+00:00",
          "2025-02-23T00:00:00+00:00",
          "2025-02-24T00:00:00+00:00",
          "2025-02-25T00:00:00+00:00",
          "2025-02-26T00:00:00+00:00",
          "2025-02-27T00:00:00+00:00",
          "2025-02-28T00:00:00+00:00",
          "2025-03-01T00:00:00+00:00",
          "2025-03-02T00:00:00+00:00",
          "2025-03-03T00:00:00+00:00",
          "2025-03-04T00:00:00+00:00",
          "2025-03-05T00:00:00+00:00",
          "2025-03-06T00:00:00+00:00",
          "2025-03-07T00:00:00+00:00",
          "2025-03-08T00:00:00+00:00",
          "2025-03-09T00:00:00+00:00",
          "2025-03-10T00:00:00+00:00",
          "2025-03-11T00:00:00+00:00",
          "2025-03-12T00:00:00+00:00",
          "2025-03-13T00:00:00+00:00",
          "2025-03-14T00:00:00+00:00",
          "2025-03-15T00:00:00+00:00",
          "2025-03-16T00:00:00+00:00",
          "2025-03-17T00:00:00+00:00",
          "2025-03-18T00:00:00+00:00",
          "2025-03-19T00:00:00+00:00",
          "2025-03-20T00:00:00+00:00",
          "2025-03-21T00:00:00+00:00",
          "2025-03-22T00:00:00+00:00",
          "2025-03-23T00:00:00+00:00",
          "2025-03-24T00:00:00+00:00",
          "2025-03-25T00:00:00+00:00",
          "2025-03-26T00:00:00+00:00",
          "2025-03-27T00:00:00+00:00",
          "2025-03-28T00:00:00+00:00",
          "2025-03-29T00:00:00+00:00",
          "2025-03-30T00:00:00+00:00",
          "2025-03-31T00:00:00+00:00",
          "2025-04-01T00:00:00+00:00",
          "2025-04-02T00:00:00+00:00",
          "2025-04-03T00:00:00+00:00",
          "2025-04-04T00:00:00+00:00",
          "2025-04-05T00:00:00+00:00",
          "2025-04-06T00:00:00+00:00",
          "2025-04-07T00:00:00+00:00"
         ],
         "y": [
          85.68888888888888,
          85.68888888888888,
          85.68888888888888,
          85.68888888888888,
          85.68888888888888,
          85.68888888888888,
          85.68888888888888,
          85.68888888888888,
          85.68888888888888,
          85.68888888888888,
          85.68888888888888,
          85.68888888888888,
          85.68888888888888,
          85.68888888888888,
          85.68888888888888,
          85.68888888888888,
          85.68888888888888,
          85.68888888888888,
          85.68888888888888,
          85.68888888888888,
          85.68888888888888,
          85.68888888888888,
          85.68888888888888,
          85.68888888888888,
          85.68888888888888,
          85.68888888888888,
          85.68888888888888,
          85.68888888888888,
          85.68888888888888,
          85.68888888888888,
          85.68888888888888,
          85.68888888888888,
          85.68888888888888,
          85.68888888888888,
          85.68888888888888,
          85.68888888888888,
          85.68888888888888,
          85.68888888888888,
          85.68888888888888,
          85.68888888888888,
          85.68888888888888,
          85.68888888888888,
          85.68888888888888,
          85.68888888888888,
          85.68888888888888,
          85.68888888888888,
          85.68888888888888,
          85.68888888888888,
          85.68888888888888,
          85.68888888888888,
          85.68888888888888,
          85.68888888888888,
          85.68888888888888,
          85.68888888888888,
          85.68888888888888,
          85.68888888888888,
          85.68888888888888,
          85.68888888888888,
          85.68888888888888,
          85.68888888888888,
          85.68888888888888,
          85.68888888888888,
          85.68888888888888,
          85.68888888888888,
          85.68888888888888,
          85.68888888888888,
          85.68888888888888,
          85.68888888888888,
          85.68888888888888,
          85.68888888888888,
          85.68888888888888,
          85.68888888888888,
          85.68888888888888,
          85.68888888888888,
          85.68888888888888,
          85.68888888888888,
          85.68888888888888,
          85.68888888888888,
          85.68888888888888,
          85.68888888888888,
          85.68888888888888,
          85.68888888888888,
          85.68888888888888,
          85.68888888888888,
          85.68888888888888,
          85.68888888888888,
          85.68888888888888,
          85.68888888888888,
          85.68888888888888,
          85.68888888888888
         ]
        }
       ],
       "layout": {
        "legend": {
         "title": {
          "text": "Luftfuktighet"
         }
        },
        "template": {
         "data": {
          "bar": [
           {
            "error_x": {
             "color": "#2a3f5f"
            },
            "error_y": {
             "color": "#2a3f5f"
            },
            "marker": {
             "line": {
              "color": "#E5ECF6",
              "width": 0.5
             },
             "pattern": {
              "fillmode": "overlay",
              "size": 10,
              "solidity": 0.2
             }
            },
            "type": "bar"
           }
          ],
          "barpolar": [
           {
            "marker": {
             "line": {
              "color": "#E5ECF6",
              "width": 0.5
             },
             "pattern": {
              "fillmode": "overlay",
              "size": 10,
              "solidity": 0.2
             }
            },
            "type": "barpolar"
           }
          ],
          "carpet": [
           {
            "aaxis": {
             "endlinecolor": "#2a3f5f",
             "gridcolor": "white",
             "linecolor": "white",
             "minorgridcolor": "white",
             "startlinecolor": "#2a3f5f"
            },
            "baxis": {
             "endlinecolor": "#2a3f5f",
             "gridcolor": "white",
             "linecolor": "white",
             "minorgridcolor": "white",
             "startlinecolor": "#2a3f5f"
            },
            "type": "carpet"
           }
          ],
          "choropleth": [
           {
            "colorbar": {
             "outlinewidth": 0,
             "ticks": ""
            },
            "type": "choropleth"
           }
          ],
          "contour": [
           {
            "colorbar": {
             "outlinewidth": 0,
             "ticks": ""
            },
            "colorscale": [
             [
              0,
              "#0d0887"
             ],
             [
              0.1111111111111111,
              "#46039f"
             ],
             [
              0.2222222222222222,
              "#7201a8"
             ],
             [
              0.3333333333333333,
              "#9c179e"
             ],
             [
              0.4444444444444444,
              "#bd3786"
             ],
             [
              0.5555555555555556,
              "#d8576b"
             ],
             [
              0.6666666666666666,
              "#ed7953"
             ],
             [
              0.7777777777777778,
              "#fb9f3a"
             ],
             [
              0.8888888888888888,
              "#fdca26"
             ],
             [
              1,
              "#f0f921"
             ]
            ],
            "type": "contour"
           }
          ],
          "contourcarpet": [
           {
            "colorbar": {
             "outlinewidth": 0,
             "ticks": ""
            },
            "type": "contourcarpet"
           }
          ],
          "heatmap": [
           {
            "colorbar": {
             "outlinewidth": 0,
             "ticks": ""
            },
            "colorscale": [
             [
              0,
              "#0d0887"
             ],
             [
              0.1111111111111111,
              "#46039f"
             ],
             [
              0.2222222222222222,
              "#7201a8"
             ],
             [
              0.3333333333333333,
              "#9c179e"
             ],
             [
              0.4444444444444444,
              "#bd3786"
             ],
             [
              0.5555555555555556,
              "#d8576b"
             ],
             [
              0.6666666666666666,
              "#ed7953"
             ],
             [
              0.7777777777777778,
              "#fb9f3a"
             ],
             [
              0.8888888888888888,
              "#fdca26"
             ],
             [
              1,
              "#f0f921"
             ]
            ],
            "type": "heatmap"
           }
          ],
          "histogram": [
           {
            "marker": {
             "pattern": {
              "fillmode": "overlay",
              "size": 10,
              "solidity": 0.2
             }
            },
            "type": "histogram"
           }
          ],
          "histogram2d": [
           {
            "colorbar": {
             "outlinewidth": 0,
             "ticks": ""
            },
            "colorscale": [
             [
              0,
              "#0d0887"
             ],
             [
              0.1111111111111111,
              "#46039f"
             ],
             [
              0.2222222222222222,
              "#7201a8"
             ],
             [
              0.3333333333333333,
              "#9c179e"
             ],
             [
              0.4444444444444444,
              "#bd3786"
             ],
             [
              0.5555555555555556,
              "#d8576b"
             ],
             [
              0.6666666666666666,
              "#ed7953"
             ],
             [
              0.7777777777777778,
              "#fb9f3a"
             ],
             [
              0.8888888888888888,
              "#fdca26"
             ],
             [
              1,
              "#f0f921"
             ]
            ],
            "type": "histogram2d"
           }
          ],
          "histogram2dcontour": [
           {
            "colorbar": {
             "outlinewidth": 0,
             "ticks": ""
            },
            "colorscale": [
             [
              0,
              "#0d0887"
             ],
             [
              0.1111111111111111,
              "#46039f"
             ],
             [
              0.2222222222222222,
              "#7201a8"
             ],
             [
              0.3333333333333333,
              "#9c179e"
             ],
             [
              0.4444444444444444,
              "#bd3786"
             ],
             [
              0.5555555555555556,
              "#d8576b"
             ],
             [
              0.6666666666666666,
              "#ed7953"
             ],
             [
              0.7777777777777778,
              "#fb9f3a"
             ],
             [
              0.8888888888888888,
              "#fdca26"
             ],
             [
              1,
              "#f0f921"
             ]
            ],
            "type": "histogram2dcontour"
           }
          ],
          "mesh3d": [
           {
            "colorbar": {
             "outlinewidth": 0,
             "ticks": ""
            },
            "type": "mesh3d"
           }
          ],
          "parcoords": [
           {
            "line": {
             "colorbar": {
              "outlinewidth": 0,
              "ticks": ""
             }
            },
            "type": "parcoords"
           }
          ],
          "pie": [
           {
            "automargin": true,
            "type": "pie"
           }
          ],
          "scatter": [
           {
            "fillpattern": {
             "fillmode": "overlay",
             "size": 10,
             "solidity": 0.2
            },
            "type": "scatter"
           }
          ],
          "scatter3d": [
           {
            "line": {
             "colorbar": {
              "outlinewidth": 0,
              "ticks": ""
             }
            },
            "marker": {
             "colorbar": {
              "outlinewidth": 0,
              "ticks": ""
             }
            },
            "type": "scatter3d"
           }
          ],
          "scattercarpet": [
           {
            "marker": {
             "colorbar": {
              "outlinewidth": 0,
              "ticks": ""
             }
            },
            "type": "scattercarpet"
           }
          ],
          "scattergeo": [
           {
            "marker": {
             "colorbar": {
              "outlinewidth": 0,
              "ticks": ""
             }
            },
            "type": "scattergeo"
           }
          ],
          "scattergl": [
           {
            "marker": {
             "colorbar": {
              "outlinewidth": 0,
              "ticks": ""
             }
            },
            "type": "scattergl"
           }
          ],
          "scattermap": [
           {
            "marker": {
             "colorbar": {
              "outlinewidth": 0,
              "ticks": ""
             }
            },
            "type": "scattermap"
           }
          ],
          "scattermapbox": [
           {
            "marker": {
             "colorbar": {
              "outlinewidth": 0,
              "ticks": ""
             }
            },
            "type": "scattermapbox"
           }
          ],
          "scatterpolar": [
           {
            "marker": {
             "colorbar": {
              "outlinewidth": 0,
              "ticks": ""
             }
            },
            "type": "scatterpolar"
           }
          ],
          "scatterpolargl": [
           {
            "marker": {
             "colorbar": {
              "outlinewidth": 0,
              "ticks": ""
             }
            },
            "type": "scatterpolargl"
           }
          ],
          "scatterternary": [
           {
            "marker": {
             "colorbar": {
              "outlinewidth": 0,
              "ticks": ""
             }
            },
            "type": "scatterternary"
           }
          ],
          "surface": [
           {
            "colorbar": {
             "outlinewidth": 0,
             "ticks": ""
            },
            "colorscale": [
             [
              0,
              "#0d0887"
             ],
             [
              0.1111111111111111,
              "#46039f"
             ],
             [
              0.2222222222222222,
              "#7201a8"
             ],
             [
              0.3333333333333333,
              "#9c179e"
             ],
             [
              0.4444444444444444,
              "#bd3786"
             ],
             [
              0.5555555555555556,
              "#d8576b"
             ],
             [
              0.6666666666666666,
              "#ed7953"
             ],
             [
              0.7777777777777778,
              "#fb9f3a"
             ],
             [
              0.8888888888888888,
              "#fdca26"
             ],
             [
              1,
              "#f0f921"
             ]
            ],
            "type": "surface"
           }
          ],
          "table": [
           {
            "cells": {
             "fill": {
              "color": "#EBF0F8"
             },
             "line": {
              "color": "white"
             }
            },
            "header": {
             "fill": {
              "color": "#C8D4E3"
             },
             "line": {
              "color": "white"
             }
            },
            "type": "table"
           }
          ]
         },
         "layout": {
          "annotationdefaults": {
           "arrowcolor": "#2a3f5f",
           "arrowhead": 0,
           "arrowwidth": 1
          },
          "autotypenumbers": "strict",
          "coloraxis": {
           "colorbar": {
            "outlinewidth": 0,
            "ticks": ""
           }
          },
          "colorscale": {
           "diverging": [
            [
             0,
             "#8e0152"
            ],
            [
             0.1,
             "#c51b7d"
            ],
            [
             0.2,
             "#de77ae"
            ],
            [
             0.3,
             "#f1b6da"
            ],
            [
             0.4,
             "#fde0ef"
            ],
            [
             0.5,
             "#f7f7f7"
            ],
            [
             0.6,
             "#e6f5d0"
            ],
            [
             0.7,
             "#b8e186"
            ],
            [
             0.8,
             "#7fbc41"
            ],
            [
             0.9,
             "#4d9221"
            ],
            [
             1,
             "#276419"
            ]
           ],
           "sequential": [
            [
             0,
             "#0d0887"
            ],
            [
             0.1111111111111111,
             "#46039f"
            ],
            [
             0.2222222222222222,
             "#7201a8"
            ],
            [
             0.3333333333333333,
             "#9c179e"
            ],
            [
             0.4444444444444444,
             "#bd3786"
            ],
            [
             0.5555555555555556,
             "#d8576b"
            ],
            [
             0.6666666666666666,
             "#ed7953"
            ],
            [
             0.7777777777777778,
             "#fb9f3a"
            ],
            [
             0.8888888888888888,
             "#fdca26"
            ],
            [
             1,
             "#f0f921"
            ]
           ],
           "sequentialminus": [
            [
             0,
             "#0d0887"
            ],
            [
             0.1111111111111111,
             "#46039f"
            ],
            [
             0.2222222222222222,
             "#7201a8"
            ],
            [
             0.3333333333333333,
             "#9c179e"
            ],
            [
             0.4444444444444444,
             "#bd3786"
            ],
            [
             0.5555555555555556,
             "#d8576b"
            ],
            [
             0.6666666666666666,
             "#ed7953"
            ],
            [
             0.7777777777777778,
             "#fb9f3a"
            ],
            [
             0.8888888888888888,
             "#fdca26"
            ],
            [
             1,
             "#f0f921"
            ]
           ]
          },
          "colorway": [
           "#636efa",
           "#EF553B",
           "#00cc96",
           "#ab63fa",
           "#FFA15A",
           "#19d3f3",
           "#FF6692",
           "#B6E880",
           "#FF97FF",
           "#FECB52"
          ],
          "font": {
           "color": "#2a3f5f"
          },
          "geo": {
           "bgcolor": "white",
           "lakecolor": "white",
           "landcolor": "#E5ECF6",
           "showlakes": true,
           "showland": true,
           "subunitcolor": "white"
          },
          "hoverlabel": {
           "align": "left"
          },
          "hovermode": "closest",
          "mapbox": {
           "style": "light"
          },
          "paper_bgcolor": "white",
          "plot_bgcolor": "#E5ECF6",
          "polar": {
           "angularaxis": {
            "gridcolor": "white",
            "linecolor": "white",
            "ticks": ""
           },
           "bgcolor": "#E5ECF6",
           "radialaxis": {
            "gridcolor": "white",
            "linecolor": "white",
            "ticks": ""
           }
          },
          "scene": {
           "xaxis": {
            "backgroundcolor": "#E5ECF6",
            "gridcolor": "white",
            "gridwidth": 2,
            "linecolor": "white",
            "showbackground": true,
            "ticks": "",
            "zerolinecolor": "white"
           },
           "yaxis": {
            "backgroundcolor": "#E5ECF6",
            "gridcolor": "white",
            "gridwidth": 2,
            "linecolor": "white",
            "showbackground": true,
            "ticks": "",
            "zerolinecolor": "white"
           },
           "zaxis": {
            "backgroundcolor": "#E5ECF6",
            "gridcolor": "white",
            "gridwidth": 2,
            "linecolor": "white",
            "showbackground": true,
            "ticks": "",
            "zerolinecolor": "white"
           }
          },
          "shapedefaults": {
           "line": {
            "color": "#2a3f5f"
           }
          },
          "ternary": {
           "aaxis": {
            "gridcolor": "white",
            "linecolor": "white",
            "ticks": ""
           },
           "baxis": {
            "gridcolor": "white",
            "linecolor": "white",
            "ticks": ""
           },
           "bgcolor": "#E5ECF6",
           "caxis": {
            "gridcolor": "white",
            "linecolor": "white",
            "ticks": ""
           }
          },
          "title": {
           "x": 0.05
          },
          "xaxis": {
           "automargin": true,
           "gridcolor": "white",
           "linecolor": "white",
           "ticks": "",
           "title": {
            "standoff": 15
           },
           "zerolinecolor": "white",
           "zerolinewidth": 2
          },
          "yaxis": {
           "automargin": true,
           "gridcolor": "white",
           "linecolor": "white",
           "ticks": "",
           "title": {
            "standoff": 15
           },
           "zerolinecolor": "white",
           "zerolinewidth": 2
          }
         }
        },
        "title": {
         "text": "Luftfuktighet over tid i Trondheim"
        },
        "xaxis": {
         "title": {
          "text": "Dato"
         }
        },
        "yaxis": {
         "title": {
          "text": "Relativ luftfuktighet (%)"
         }
        }
       }
      }
     },
     "metadata": {},
     "output_type": "display_data"
    },
    {
     "name": "stdout",
     "output_type": "stream",
     "text": [
      "\n",
      "Relativ luftfuktighet:\n",
      "Median: 88.00, Standardavvik: 11.99\n"
     ]
    }
   ],
   "source": [
    "import pandas as pd\n",
    "import plotly.graph_objects as go\n",
    "import sqlite3\n",
    "\n",
    "# Bruker den eksisterende variabelen location_input som bynavn\n",
    "city_name = location_input\n",
    "\n",
    "# Konverterer referansetiden til datetime\n",
    "df['referenceTime'] = pd.to_datetime(df['referenceTime'])\n",
    "\n",
    "# Oppretter en SQLite-database i minnet\n",
    "conn = sqlite3.connect(\":memory:\")\n",
    "\n",
    "# Leser CSV-filen og lagrer den i SQLite-databasen\n",
    "csv_filename = \"../src/weather_data.csv\"\n",
    "df_csv = pd.read_csv(csv_filename)\n",
    "df_csv.to_sql(\"weather_data\", conn, index=False, if_exists=\"replace\")\n",
    "\n",
    "# SQL-spørring for å hente data\n",
    "query = \"\"\"\n",
    "SELECT * \n",
    "FROM weather_data\n",
    "WHERE elementId = 'mean(air_temperature P1D)'\n",
    "\"\"\"\n",
    "temperature_data = pd.read_sql_query(query, conn)\n",
    "\n",
    "# Konverterer referansetiden til datetime\n",
    "temperature_data['referenceTime'] = pd.to_datetime(temperature_data['referenceTime'])\n",
    "\n",
    "# Gjør det samme for andre elementer (nedbør og vindhastighet)\n",
    "query_precip = \"\"\"\n",
    "SELECT * \n",
    "FROM weather_data\n",
    "WHERE elementId = 'sum(precipitation_amount P1D)'\n",
    "\"\"\"\n",
    "precipitation_data = pd.read_sql_query(query_precip, conn)\n",
    "\n",
    "query_wind = \"\"\"\n",
    "SELECT * \n",
    "FROM weather_data\n",
    "WHERE elementId = 'mean(wind_speed P1D)'\n",
    "\"\"\"\n",
    "wind_speed_data = pd.read_sql_query(query_wind, conn)\n",
    "\n",
    "# Lukk tilkoblingen til databasen\n",
    "conn.close()\n",
    "\n",
    "# Definerer farger for grafene\n",
    "color_location = '#1f77b4'  # Blå for lokasjonen\n",
    "\n",
    "# Leser data fra weather_data.csv\n",
    "csv_filename = \"../src/weather_data.csv\"\n",
    "df_csv = pd.read_csv(csv_filename)\n",
    "\n",
    "# Filtrerer data for temperatur\n",
    "temperature_data = df_csv[df_csv['elementId'] == 'mean(air_temperature P1D)']\n",
    "temperature_data.loc[:, 'referenceTime'] = pd.to_datetime(temperature_data['referenceTime'])\n",
    "# Beregninger for temperatur\n",
    "median_temp = temperature_data['value'].median()\n",
    "std_temp = temperature_data['value'].std()\n",
    "\n",
    "# Filtrerer data for nedbør\n",
    "precipitation_data = df_csv[df_csv['elementId'] == 'sum(precipitation_amount P1D)']\n",
    "precipitation_data.loc[:, 'referenceTime'] = pd.to_datetime(precipitation_data['referenceTime'])\n",
    "# Beregninger for nedbør\n",
    "median_precip = precipitation_data['value'].median()\n",
    "std_precip = precipitation_data['value'].std()\n",
    "\n",
    "# Filtrerer data for vindhastighet\n",
    "wind_speed_data = df_csv[df_csv['elementId'] == 'mean(wind_speed P1D)']\n",
    "wind_speed_data.loc[:, 'referenceTime'] = pd.to_datetime(wind_speed_data['referenceTime'])\n",
    "# Beregninger for vindhastighet\n",
    "median_wind = wind_speed_data['value'].median()\n",
    "std_wind = wind_speed_data['value'].std()\n",
    "\n",
    "# Temperaturfigur\n",
    "fig_temp = go.Figure()\n",
    "\n",
    "# Temperaturdata\n",
    "fig_temp.add_trace(go.Scatter(\n",
    "    x=temperature_data['referenceTime'],\n",
    "    y=temperature_data['value'],\n",
    "    mode='lines',\n",
    "    name=f'Temperatur i {city_name}',\n",
    "    line=dict(color=color_location)\n",
    "))\n",
    "\n",
    "# Gjennomsnittstemperatur\n",
    "mean_temp = temperature_data['value'].mean()\n",
    "fig_temp.add_trace(go.Scatter(\n",
    "    x=temperature_data['referenceTime'],\n",
    "    y=[mean_temp] * len(temperature_data['referenceTime']),\n",
    "    mode='lines',\n",
    "    line=dict(dash='dash', color=color_location),\n",
    "    name=f'Gjennomsnittstemperatur i {city_name}'\n",
    "))\n",
    "\n",
    "# Tilpasser layout for temperatur\n",
    "fig_temp.update_layout(\n",
    "    title=f'Temperatur over tid i {city_name}',\n",
    "    xaxis_title='Dato',\n",
    "    yaxis_title='Temperatur (°C)',\n",
    "    legend_title='Temperatur'\n",
    ")\n",
    "\n",
    "# Viser temperaturfigur\n",
    "fig_temp.show()\n",
    "\n",
    "# Utskrift av resultatene for temperatur\n",
    "print(\"Temperatur:\")\n",
    "print(f\"Median: {median_temp:.2f}, Standardavvik: {std_temp:.2f}\")\n",
    "\n",
    "# Nedbørsfigur\n",
    "fig_precip = go.Figure()\n",
    "\n",
    "# Nedbørsdata\n",
    "fig_precip.add_trace(go.Bar(\n",
    "    x=precipitation_data['referenceTime'],\n",
    "    y=precipitation_data['value'],\n",
    "    name=f'Nedbør i {city_name}',\n",
    "    marker=dict(color=color_location)\n",
    "))\n",
    "\n",
    "# Gjennomsnittsnedbør som strek\n",
    "mean_precip = precipitation_data['value'].mean()\n",
    "fig_precip.add_trace(go.Scatter(\n",
    "    x=precipitation_data['referenceTime'],\n",
    "    y=[mean_precip] * len(precipitation_data['referenceTime']),\n",
    "    mode='lines',\n",
    "    line=dict(dash='dash', color='rgba(31, 119, 180, 0.8)'),\n",
    "    name=f'Gjennomsnittsnedbør i {city_name}'\n",
    "))\n",
    "\n",
    "# Tilpasser layout for nedbør\n",
    "fig_precip.update_layout(\n",
    "    title=f'Nedbør over tid i {city_name}',\n",
    "    xaxis_title='Dato',\n",
    "    yaxis_title='Nedbør (mm)',\n",
    "    legend_title='Nedbør'\n",
    ")\n",
    "\n",
    "# Viser nedbørsfigur\n",
    "fig_precip.show()\n",
    "\n",
    "# Utskrift av resultatene for nedbør\n",
    "print(\"\\nNedbør:\")\n",
    "print(f\"Median: {median_precip:.2f}, Standardavvik: {std_precip:.2f}\")\n",
    "\n",
    "# Vindhastighetsfigur\n",
    "fig_wind = go.Figure()\n",
    "\n",
    "# Vindhastighetsdata\n",
    "fig_wind.add_trace(go.Scatter(\n",
    "    x=wind_speed_data['referenceTime'],\n",
    "    y=wind_speed_data['value'],\n",
    "    mode='lines',\n",
    "    name=f'Vindhastighet i {city_name}',\n",
    "    line=dict(color=color_location)\n",
    "))\n",
    "\n",
    "# Gjennomsnittsvindhastighet\n",
    "mean_wind = wind_speed_data['value'].mean()\n",
    "fig_wind.add_trace(go.Scatter(\n",
    "    x=wind_speed_data['referenceTime'],\n",
    "    y=[mean_wind] * len(wind_speed_data['referenceTime']),\n",
    "    mode='lines',\n",
    "    line=dict(dash='dash', color=color_location),\n",
    "    name=f'Gjennomsnittsvindhastighet i {city_name}'\n",
    "))\n",
    "\n",
    "# Tilpasser layout for vindhastighet\n",
    "fig_wind.update_layout(\n",
    "    title=f'Vindhastighet over tid i {city_name}',\n",
    "    xaxis_title='Dato',\n",
    "    yaxis_title='Vindhastighet (m/s)',\n",
    "    legend_title='Vindhastighet'\n",
    ")\n",
    "\n",
    "# Viser vindhastighetsfigur\n",
    "fig_wind.show()\n",
    "\n",
    "# Utskrift av resultatene for vindhastighet\n",
    "print(\"\\nVindhastighet:\")\n",
    "print(f\"Median: {median_wind:.2f}, Standardavvik: {std_wind:.2f}\")\n",
    "\n",
    "# Filtrerer data for snøtykkelse\n",
    "snow_thickness_data = df_csv[df_csv['elementId'] == 'surface_snow_thickness']\n",
    "snow_thickness_data.loc[:, 'referenceTime'] = pd.to_datetime(snow_thickness_data['referenceTime'])\n",
    "\n",
    "# Scatterplott for snøtykkelse\n",
    "fig_snow = go.Figure()\n",
    "\n",
    "fig_snow.add_trace(go.Scatter(\n",
    "    x=snow_thickness_data['referenceTime'],\n",
    "    y=snow_thickness_data['value'],\n",
    "    mode='markers',\n",
    "    name=f'Snøtykkelse i {city_name}',\n",
    "    marker=dict(color=color_location)\n",
    "))\n",
    "\n",
    "# Tilpasser layout for snøtykkelse\n",
    "fig_snow.update_layout(\n",
    "    title=f'Snøtykkelse over tid i {city_name}',\n",
    "    xaxis_title='Dato',\n",
    "    yaxis_title='Snøtykkelse (cm)',\n",
    "    legend_title='Snøtykkelse'\n",
    ")\n",
    "\n",
    "# Viser snøtykkelsefigur\n",
    "fig_snow.show()\n",
    "\n",
    "# Utskrift av resultatene for snøtykkelse\n",
    "print(\"\\nSnøtykkelse:\")\n",
    "print(f\"Median: {snow_thickness_data['value'].median():.2f}, Standardavvik: {snow_thickness_data['value'].std():.2f}\")\n",
    "\n",
    "# Filtrerer data for relativ luftfuktighet\n",
    "humidity_data = df_csv[df_csv['elementId'] == 'mean(relative_humidity P1D)']\n",
    "humidity_data.loc[:, 'referenceTime'] = pd.to_datetime(humidity_data['referenceTime'])\n",
    "\n",
    "# Linjeplott for relativ luftfuktighet\n",
    "fig_humidity = go.Figure()\n",
    "\n",
    "fig_humidity.add_trace(go.Scatter(\n",
    "    x=humidity_data['referenceTime'],\n",
    "    y=humidity_data['value'],\n",
    "    mode='lines',\n",
    "    name=f'Luftfuktighet i {city_name}',\n",
    "    line=dict(color=color_location)\n",
    "))\n",
    "\n",
    "# Gjennomsnittlig luftfuktighet\n",
    "mean_humidity = humidity_data['value'].mean()\n",
    "fig_humidity.add_trace(go.Scatter(\n",
    "    x=humidity_data['referenceTime'],\n",
    "    y=[mean_humidity] * len(humidity_data['referenceTime']),\n",
    "    mode='lines',\n",
    "    line=dict(dash='dash', color=color_location),\n",
    "    name=f'Gjennomsnittlig luftfuktighet i {city_name}'\n",
    "))\n",
    "\n",
    "# Tilpasser layout for luftfuktighet\n",
    "fig_humidity.update_layout(\n",
    "    title=f'Luftfuktighet over tid i {city_name}',\n",
    "    xaxis_title='Dato',\n",
    "    yaxis_title='Relativ luftfuktighet (%)',\n",
    "    legend_title='Luftfuktighet'\n",
    ")\n",
    "\n",
    "# Viser luftfuktighetsfigur\n",
    "fig_humidity.show()\n",
    "\n",
    "# Utskrift av resultatene for luftfuktighet\n",
    "print(\"\\nRelativ luftfuktighet:\")\n",
    "print(f\"Median: {humidity_data['value'].median():.2f}, Standardavvik: {humidity_data['value'].std():.2f}\")"
   ]
  },
  {
   "cell_type": "code",
   "execution_count": 22,
   "metadata": {},
   "outputs": [],
   "source": [
    "#plotter figurene i nettleseren\n",
    "fig_temp.show(renderer=\"browser\")\n",
    "fig_precip.show(renderer=\"browser\")\n",
    "fig_wind.show(renderer=\"browser\")\n",
    "fig_snow.show(renderer=\"browser\")\n",
    "fig_humidity.show(renderer=\"browser\")"
   ]
  }
 ],
 "metadata": {
  "kernelspec": {
   "display_name": "venv",
   "language": "python",
   "name": "python3"
  },
  "language_info": {
   "codemirror_mode": {
    "name": "ipython",
    "version": 3
   },
   "file_extension": ".py",
   "mimetype": "text/x-python",
   "name": "python",
   "nbconvert_exporter": "python",
   "pygments_lexer": "ipython3",
   "version": "3.13.1"
  }
 },
 "nbformat": 4,
 "nbformat_minor": 2
}
