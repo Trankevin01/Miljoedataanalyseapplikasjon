{
 "cells": [
  {
   "cell_type": "code",
   "execution_count": null,
   "metadata": {},
   "outputs": [
    {
     "name": "stdout",
     "output_type": "stream",
     "text": [
      "Data retrieved from SN90450!\n",
      "Data retrieved from SN82290!\n"
     ]
    }
   ],
   "source": [
    "import requests\n",
    "import pandas as pd\n",
    "from datetime import datetime\n",
    "from datetime import timedelta\n",
    "from opencage.geocoder import OpenCageGeocode\n",
    "from geopy.distance import geodesic\n",
    "\n",
    "\n",
    "# Sett opp OpenCageGeocode med API-nøkkelen din\n",
    "api_key = 'e9a6e9b1b9be44fab4720c2c96ae9c48'  # Sett inn din OpenCage API-nøkkel\n",
    "geolocator = OpenCageGeocode(api_key)\n",
    "\n",
    "# Henter inn to lokasjoner fra brukeren\n",
    "location_input1 = input(\"Enter the first location (e.g., Bergen, Oslo, Trondheim, Stavanger, Tromsø): \")\n",
    "location_input2 = input(\"Enter the second location (e.g., Bergen, Oslo, Trondheim, Stavanger, Tromsø): \")\n",
    "\n",
    "# Geokoder lokasjonene for å få koordinatene\n",
    "location1 = geolocator.geocode(location_input1)\n",
    "location2 = geolocator.geocode(location_input2)\n",
    "\n",
    "# Sjekker om geokodingen var vellykket\n",
    "if location1 and location2:\n",
    "    # Henter ut koordinatene\n",
    "    location_coords1 = (location1[0]['geometry']['lat'], location1[0]['geometry']['lng'])\n",
    "    location_coords2 = (location2[0]['geometry']['lat'], location2[0]['geometry']['lng'])\n",
    "else:\n",
    "    raise ValueError(\"Could not find coordinates for one or both locations. Please check the input.\")\n",
    "\n",
    "# Vår klient-id for å hente data fra Frost API\n",
    "client_id = '2e243d34-57bc-42b4-8095-239991af5353'\n",
    "\n",
    "# Definerer endepunkt og parametere for stasjoner\n",
    "stations_endpoint = 'https://frost.met.no/sources/v0.jsonld'\n",
    "stations_parameters = {\n",
    "    'types': 'SensorSystem'\n",
    "}\n",
    "\n",
    "# Henter ut HTTP-responsen og lagrer den som JSON\n",
    "r = requests.get(stations_endpoint, stations_parameters, auth=(client_id, ''))\n",
    "stations_json = r.json()\n",
    "\n",
    "# Henter ut stasjonsinformasjonen\n",
    "stations = stations_json['data']\n",
    "\n",
    "# Lager et dictionary med stasjons-ID som nøkkel og koordinater som verdi\n",
    "weather_stations_coords = {station['id']: (station['geometry']['coordinates'][1], station['geometry']['coordinates'][0]) for station in stations if 'geometry' in station}\n",
    "\n",
    "# Regner ut avstanden til værstasjonene fra den første lokasjonen\n",
    "distances1 = {station: geodesic(location_coords1, coords).km for station, coords in weather_stations_coords.items()}\n",
    "# Regner ut avstanden til værstasjonene fra den andre lokasjonen\n",
    "distances2 = {station: geodesic(location_coords2, coords).km for station, coords in weather_stations_coords.items()}\n",
    "\n",
    "# Sorterer værstasjonene etter avstand til lokasjonene\n",
    "sorted_stations1 = sorted(distances1, key=distances1.get)\n",
    "sorted_stations2 = sorted(distances2, key=distances2.get)\n",
    "\n",
    "# Henter ut dagens dato og datoen 90 dager tilbake\n",
    "now = datetime.now()\n",
    "offset = now - timedelta(days=90)\n",
    "current_date = now.strftime(\"%Y-%m-%d\")\n",
    "historic_date = offset.strftime(\"%Y-%m-%d\")\n",
    "\n",
    "# Definerer endepunkt og parametere for observasjoner\n",
    "observations_endpoint = 'https://frost.met.no/observations/v0.jsonld'\n",
    "\n",
    "def fetch_data(stations, max_attempts=5):\n",
    "    \"\"\"\n",
    "    Fetch data from the nearest weather stations.\n",
    "    Tries up to max_attempts stations and returns the data from the first successful attempt.\n",
    "    \"\"\"\n",
    "    for attempt in range(min(max_attempts, len(stations))):\n",
    "        parameters = {\n",
    "            'sources': stations[attempt],\n",
    "            'elements': 'mean(air_temperature P1D),sum(precipitation_amount P1D),mean(wind_speed P1D)',\n",
    "            'referencetime': f'{historic_date}/{current_date}',\n",
    "        }\n",
    "        r = requests.get(observations_endpoint, parameters, auth=(client_id, ''))\n",
    "        json = r.json()\n",
    "\n",
    "        if r.status_code == 200 and 'data' in json:\n",
    "            data = json['data']\n",
    "            if data:\n",
    "                print(f'Data retrieved from {stations[attempt]}!')\n",
    "                return data, stations[attempt]\n",
    "        else:\n",
    "            print(f'Error retrieving data from {stations[attempt]}. Trying next station...')\n",
    "\n",
    "    # Hvis ingen data blir funnet, returneres data fra den første stasjonen\n",
    "    parameters = {\n",
    "        'sources': stations[0],\n",
    "        'elements': 'mean(air_temperature P1D),sum(precipitation_amount P1D),mean(wind_speed P1D)',\n",
    "        'referencetime': f'{historic_date}/{current_date}',\n",
    "    }\n",
    "    r = requests.get(observations_endpoint, parameters, auth=(client_id, ''))\n",
    "    json = r.json()\n",
    "    data = json['data']\n",
    "    print(f'No data found from other stations. Using data from {stations[0]}.')\n",
    "    return data, stations[0]\n",
    "\n",
    "# Henter data for begge lokasjonene\n",
    "data1, used_station_id1 = fetch_data(sorted_stations1)\n",
    "data2, used_station_id2 = fetch_data(sorted_stations2)\n",
    "\n",
    "# Kartlegging av sourceId til stasjonsnavn\n",
    "station_names = {station['id']: station['name'] for station in stations if 'name' in station}\n",
    "\n",
    "important_keys = ['elementId', 'value', 'unit', 'timeOffset', 'timeResolution', 'qualityCode']\n",
    "\n",
    "# Samler de viktige dataene i DataFrames\n",
    "df_list1 = []\n",
    "df_list2 = []\n",
    "\n",
    "for item in data1:\n",
    "    row = pd.DataFrame(item['observations'])\n",
    "    row['referenceTime'] = item['referenceTime']\n",
    "    row['sourceId'] = item['sourceId']\n",
    "    df_list1.append(row)\n",
    "\n",
    "for item in data2:\n",
    "    row = pd.DataFrame(item['observations'])\n",
    "    row['referenceTime'] = item['referenceTime']\n",
    "    row['sourceId'] = item['sourceId']\n",
    "    df_list2.append(row)\n",
    "\n",
    "# Effektivt å koble sammen alle DataFrames samtidig\n",
    "df1 = pd.concat(df_list1, ignore_index=True)\n",
    "df2 = pd.concat(df_list2, ignore_index=True)\n",
    "\n",
    "# Plotter dataene\n",
    "# Separerer dataene etter elementId\n",
    "temperature_data1 = df1[df1['elementId'] == 'mean(air_temperature P1D)']\n",
    "precipitation_data1 = df1[df1['elementId'] == 'sum(precipitation_amount P1D)']\n",
    "wind_speed_data1 = df1[df1['elementId'] == 'mean(wind_speed P1D)']\n",
    "\n",
    "temperature_data2 = df2[df2['elementId'] == 'mean(air_temperature P1D)']\n",
    "precipitation_data2 = df2[df2['elementId'] == 'sum(precipitation_amount P1D)']\n",
    "wind_speed_data2 = df2[df2['elementId'] == 'mean(wind_speed P1D)']\n",
    "\n",
    "# Konverterer referansetiden til datetime\n",
    "temperature_data1.loc[:, 'referenceTime'] = pd.to_datetime(temperature_data1['referenceTime'])\n",
    "precipitation_data1.loc[:, 'referenceTime'] = pd.to_datetime(precipitation_data1['referenceTime'])\n",
    "wind_speed_data1.loc[:, 'referenceTime'] = pd.to_datetime(wind_speed_data1['referenceTime'])\n",
    "\n",
    "temperature_data2.loc[:, 'referenceTime'] = pd.to_datetime(temperature_data2['referenceTime'])\n",
    "precipitation_data2.loc[:, 'referenceTime'] = pd.to_datetime(precipitation_data2['referenceTime'])\n",
    "wind_speed_data2.loc[:, 'referenceTime'] = pd.to_datetime(wind_speed_data2['referenceTime'])\n",
    "\n"
   ]
  },
  {
   "cell_type": "markdown",
   "metadata": {},
   "source": [
    "Plotting med Plotly"
   ]
  },
  {
   "cell_type": "code",
   "execution_count": 16,
   "metadata": {},
   "outputs": [
    {
     "data": {
      "application/vnd.plotly.v1+json": {
       "config": {
        "plotlyServerURL": "https://plot.ly"
       },
       "data": [
        {
         "line": {
          "color": "#1f77b4"
         },
         "mode": "lines",
         "name": "Temperature at TROMSØ",
         "type": "scatter",
         "x": [
          "2024-12-31T00:00:00+00:00",
          "2024-12-31T00:00:00+00:00",
          "2025-01-01T00:00:00+00:00",
          "2025-01-01T00:00:00+00:00",
          "2025-01-02T00:00:00+00:00",
          "2025-01-02T00:00:00+00:00",
          "2025-01-03T00:00:00+00:00",
          "2025-01-03T00:00:00+00:00",
          "2025-01-04T00:00:00+00:00",
          "2025-01-04T00:00:00+00:00",
          "2025-01-05T00:00:00+00:00",
          "2025-01-05T00:00:00+00:00",
          "2025-01-06T00:00:00+00:00",
          "2025-01-06T00:00:00+00:00",
          "2025-01-07T00:00:00+00:00",
          "2025-01-07T00:00:00+00:00",
          "2025-01-08T00:00:00+00:00",
          "2025-01-08T00:00:00+00:00",
          "2025-01-09T00:00:00+00:00",
          "2025-01-09T00:00:00+00:00",
          "2025-01-10T00:00:00+00:00",
          "2025-01-10T00:00:00+00:00",
          "2025-01-11T00:00:00+00:00",
          "2025-01-11T00:00:00+00:00",
          "2025-01-12T00:00:00+00:00",
          "2025-01-12T00:00:00+00:00",
          "2025-01-13T00:00:00+00:00",
          "2025-01-13T00:00:00+00:00",
          "2025-01-14T00:00:00+00:00",
          "2025-01-14T00:00:00+00:00",
          "2025-01-15T00:00:00+00:00",
          "2025-01-15T00:00:00+00:00",
          "2025-01-16T00:00:00+00:00",
          "2025-01-16T00:00:00+00:00",
          "2025-01-17T00:00:00+00:00",
          "2025-01-17T00:00:00+00:00",
          "2025-01-18T00:00:00+00:00",
          "2025-01-18T00:00:00+00:00",
          "2025-01-19T00:00:00+00:00",
          "2025-01-19T00:00:00+00:00",
          "2025-01-20T00:00:00+00:00",
          "2025-01-20T00:00:00+00:00",
          "2025-01-21T00:00:00+00:00",
          "2025-01-21T00:00:00+00:00",
          "2025-01-22T00:00:00+00:00",
          "2025-01-22T00:00:00+00:00",
          "2025-01-23T00:00:00+00:00",
          "2025-01-23T00:00:00+00:00",
          "2025-01-24T00:00:00+00:00",
          "2025-01-24T00:00:00+00:00",
          "2025-01-25T00:00:00+00:00",
          "2025-01-25T00:00:00+00:00",
          "2025-01-26T00:00:00+00:00",
          "2025-01-26T00:00:00+00:00",
          "2025-01-27T00:00:00+00:00",
          "2025-01-27T00:00:00+00:00",
          "2025-01-28T00:00:00+00:00",
          "2025-01-28T00:00:00+00:00",
          "2025-01-29T00:00:00+00:00",
          "2025-01-29T00:00:00+00:00",
          "2025-01-30T00:00:00+00:00",
          "2025-01-30T00:00:00+00:00",
          "2025-01-31T00:00:00+00:00",
          "2025-01-31T00:00:00+00:00",
          "2025-02-01T00:00:00+00:00",
          "2025-02-01T00:00:00+00:00",
          "2025-02-02T00:00:00+00:00",
          "2025-02-02T00:00:00+00:00",
          "2025-02-03T00:00:00+00:00",
          "2025-02-03T00:00:00+00:00",
          "2025-02-04T00:00:00+00:00",
          "2025-02-04T00:00:00+00:00",
          "2025-02-05T00:00:00+00:00",
          "2025-02-05T00:00:00+00:00",
          "2025-02-06T00:00:00+00:00",
          "2025-02-06T00:00:00+00:00",
          "2025-02-07T00:00:00+00:00",
          "2025-02-07T00:00:00+00:00",
          "2025-02-08T00:00:00+00:00",
          "2025-02-08T00:00:00+00:00",
          "2025-02-09T00:00:00+00:00",
          "2025-02-09T00:00:00+00:00",
          "2025-02-10T00:00:00+00:00",
          "2025-02-10T00:00:00+00:00",
          "2025-02-11T00:00:00+00:00",
          "2025-02-11T00:00:00+00:00",
          "2025-02-12T00:00:00+00:00",
          "2025-02-12T00:00:00+00:00",
          "2025-02-13T00:00:00+00:00",
          "2025-02-13T00:00:00+00:00",
          "2025-02-14T00:00:00+00:00",
          "2025-02-14T00:00:00+00:00",
          "2025-02-15T00:00:00+00:00",
          "2025-02-15T00:00:00+00:00",
          "2025-02-16T00:00:00+00:00",
          "2025-02-16T00:00:00+00:00",
          "2025-02-17T00:00:00+00:00",
          "2025-02-17T00:00:00+00:00",
          "2025-02-18T00:00:00+00:00",
          "2025-02-18T00:00:00+00:00",
          "2025-02-19T00:00:00+00:00",
          "2025-02-19T00:00:00+00:00",
          "2025-02-20T00:00:00+00:00",
          "2025-02-20T00:00:00+00:00",
          "2025-02-21T00:00:00+00:00",
          "2025-02-21T00:00:00+00:00",
          "2025-02-22T00:00:00+00:00",
          "2025-02-22T00:00:00+00:00",
          "2025-02-23T00:00:00+00:00",
          "2025-02-23T00:00:00+00:00",
          "2025-02-24T00:00:00+00:00",
          "2025-02-24T00:00:00+00:00",
          "2025-02-25T00:00:00+00:00",
          "2025-02-25T00:00:00+00:00",
          "2025-02-26T00:00:00+00:00",
          "2025-02-26T00:00:00+00:00",
          "2025-02-27T00:00:00+00:00",
          "2025-02-27T00:00:00+00:00",
          "2025-02-28T00:00:00+00:00",
          "2025-02-28T00:00:00+00:00",
          "2025-03-01T00:00:00+00:00",
          "2025-03-01T00:00:00+00:00",
          "2025-03-02T00:00:00+00:00",
          "2025-03-02T00:00:00+00:00",
          "2025-03-03T00:00:00+00:00",
          "2025-03-03T00:00:00+00:00",
          "2025-03-04T00:00:00+00:00",
          "2025-03-04T00:00:00+00:00",
          "2025-03-05T00:00:00+00:00",
          "2025-03-05T00:00:00+00:00",
          "2025-03-06T00:00:00+00:00",
          "2025-03-06T00:00:00+00:00",
          "2025-03-07T00:00:00+00:00",
          "2025-03-07T00:00:00+00:00",
          "2025-03-08T00:00:00+00:00",
          "2025-03-08T00:00:00+00:00",
          "2025-03-09T00:00:00+00:00",
          "2025-03-09T00:00:00+00:00",
          "2025-03-10T00:00:00+00:00",
          "2025-03-10T00:00:00+00:00",
          "2025-03-11T00:00:00+00:00",
          "2025-03-11T00:00:00+00:00",
          "2025-03-12T00:00:00+00:00",
          "2025-03-12T00:00:00+00:00",
          "2025-03-13T00:00:00+00:00",
          "2025-03-13T00:00:00+00:00",
          "2025-03-14T00:00:00+00:00",
          "2025-03-14T00:00:00+00:00",
          "2025-03-15T00:00:00+00:00",
          "2025-03-15T00:00:00+00:00",
          "2025-03-16T00:00:00+00:00",
          "2025-03-16T00:00:00+00:00",
          "2025-03-17T00:00:00+00:00",
          "2025-03-17T00:00:00+00:00",
          "2025-03-18T00:00:00+00:00",
          "2025-03-18T00:00:00+00:00",
          "2025-03-19T00:00:00+00:00",
          "2025-03-19T00:00:00+00:00",
          "2025-03-20T00:00:00+00:00",
          "2025-03-20T00:00:00+00:00",
          "2025-03-21T00:00:00+00:00",
          "2025-03-21T00:00:00+00:00",
          "2025-03-22T00:00:00+00:00",
          "2025-03-22T00:00:00+00:00",
          "2025-03-23T00:00:00+00:00",
          "2025-03-23T00:00:00+00:00",
          "2025-03-24T00:00:00+00:00",
          "2025-03-24T00:00:00+00:00",
          "2025-03-25T00:00:00+00:00",
          "2025-03-25T00:00:00+00:00",
          "2025-03-26T00:00:00+00:00",
          "2025-03-26T00:00:00+00:00",
          "2025-03-27T00:00:00+00:00",
          "2025-03-27T00:00:00+00:00",
          "2025-03-28T00:00:00+00:00",
          "2025-03-28T00:00:00+00:00",
          "2025-03-29T00:00:00+00:00",
          "2025-03-29T00:00:00+00:00",
          "2025-03-30T00:00:00+00:00",
          "2025-03-30T00:00:00+00:00"
         ],
         "y": {
          "bdata": "zczMzMzM9L+amZmZmZm5PzMzMzMzMxPAmpmZmZmZAcDNzMzMzMwawM3MzMzMzBbAZmZmZmZmCsBmZmZmZmYYwAAAAAAAABjAzczMzMzMCMDNzMzMzMwgwAAAAAAAACDAAAAAAAAAHMBmZmZmZmYewM3MzMzMzCDAzczMzMzMHMDNzMzMzMwhwGZmZmZmZiHAzczMzMzMHsBmZmZmZmYgwDMzMzMzMxHAzczMzMzMIMDNzMzMzMwQwDMzMzMzMwfAmpmZmZmZ+b+amZmZmZkNwDMzMzMzMwNAmpmZmZmZ6b/NzMzMzMz8P2ZmZmZmZgZAzczMzMzMDEBmZmZmZmb+PwAAAAAAABJAzczMzMzMEEAAAAAAAAAWQGZmZmZmZhJAZmZmZmZm9j+amZmZmZkRQM3MzMzMzAjAmpmZmZmZ6T/NzMzMzMwhwAAAAAAAABTAZmZmZmZmIMCamZmZmZkjwAAAAAAAACHAmpmZmZmZH8DNzMzMzMwEwJqZmZmZmR3AZmZmZmZmCsCamZmZmZnxv2ZmZmZmZgrAZmZmZmZmEsAAAAAAAAAAAAAAAAAAAATAMzMzMzMz0z9mZmZmZmb2P5qZmZmZmdm/MzMzMzMz878AAAAAAADgPwAAAAAAAOA/mpmZmZmZyT8zMzMzMzPjPzMzMzMzM/M/mpmZmZmZyb9mZmZmZmb2P2ZmZmZmZv4/MzMzMzMz+78zMzMzMzPTP5qZmZmZmRXAMzMzMzMzA8AzMzMzMzMZwDMzMzMzMxnAzczMzMzM9L9mZmZmZmYUwAAAAAAAABBAMzMzMzMz07+amZmZmZkXQGZmZmZmZhZAAAAAAAAAFEBmZmZmZmYWQM3MzMzMzPw/ZmZmZmZmEEBmZmZmZmb+PzMzMzMzM/M/AAAAAAAACEAAAAAAAAAIQM3MzMzMzPy/ZmZmZmZm9j8AAAAAAAAMwDMzMzMzMwPAAAAAAAAAFMAzMzMzMzMPwM3MzMzMzAjAAAAAAAAAFMCamZmZmZkBwM3MzMzMzATAzczMzMzM/L9mZmZmZmYCwJqZmZmZmQHAzczMzMzM/L8zMzMzMzPTv5qZmZmZmfm/ZmZmZmZm5j8AAAAAAAAAAAAAAAAAAPA/ZmZmZmZm5j8zMzMzMzMVQDMzMzMzM/M/mpmZmZmZGUDNzMzMzMwcQJqZmZmZmRVAmpmZmZmZF0CamZmZmZkXQJqZmZmZmRVAzczMzMzMCEAzMzMzMzMVQM3MzMzMzPw/MzMzMzMzA0BmZmZmZmb2P83MzMzMzABAMzMzMzMz8z9mZmZmZmbmP5qZmZmZmfk/MzMzMzMz+z/NzMzMzMzsP2ZmZmZmZvY/MzMzMzMz0z8zMzMzMzPjPwAAAAAAAPC/MzMzMzMz07+amZmZmZnZP5qZmZmZmdm/mpmZmZmZ6T8zMzMzMzPjP5qZmZmZmbm/AAAAAAAA4D+amZmZmZnxv5qZmZmZmbm/MzMzMzMzB8DNzMzMzMz8vzMzMzMzMw/AmpmZmZmZCcCamZmZmZkTwDMzMzMzMxPAmpmZmZmZFcAzMzMzMzMRwJqZmZmZmRnAAAAAAAAAGMBmZmZmZmYWwAAAAAAAABjAmpmZmZmZCcBmZmZmZmYUwAAAAAAAAAzAMzMzMzMzB8BmZmZmZmbmv83MzMzMzAjAzczMzMzMDMAAAAAAAADwvzMzMzMzMw/AzczMzMzMEMCamZmZmZm5P5qZmZmZmQnAMzMzMzMzF0CamZmZmZkBQJqZmZmZmRdAzczMzMzMGkAzMzMzMzMRQDMzMzMzMxVAmpmZmZmZ8b8zMzMzMzMHQDMzMzMzM/u/ZmZmZmZm/r/NzMzMzMzsvwAAAAAAAPi/AAAAAAAA4D+amZmZmZnZv2ZmZmZmZua/MzMzMzMz4z+amZmZmZm5vzMzMzMzM/u/",
          "dtype": "f8"
         }
        },
        {
         "line": {
          "color": "#ff7f0e"
         },
         "mode": "lines",
         "name": "Temperature at BODØ VI",
         "type": "scatter",
         "x": [
          "2024-12-31T00:00:00+00:00",
          "2024-12-31T00:00:00+00:00",
          "2025-01-01T00:00:00+00:00",
          "2025-01-01T00:00:00+00:00",
          "2025-01-02T00:00:00+00:00",
          "2025-01-02T00:00:00+00:00",
          "2025-01-03T00:00:00+00:00",
          "2025-01-03T00:00:00+00:00",
          "2025-01-04T00:00:00+00:00",
          "2025-01-04T00:00:00+00:00",
          "2025-01-05T00:00:00+00:00",
          "2025-01-05T00:00:00+00:00",
          "2025-01-06T00:00:00+00:00",
          "2025-01-06T00:00:00+00:00",
          "2025-01-07T00:00:00+00:00",
          "2025-01-07T00:00:00+00:00",
          "2025-01-08T00:00:00+00:00",
          "2025-01-08T00:00:00+00:00",
          "2025-01-09T00:00:00+00:00",
          "2025-01-09T00:00:00+00:00",
          "2025-01-10T00:00:00+00:00",
          "2025-01-10T00:00:00+00:00",
          "2025-01-11T00:00:00+00:00",
          "2025-01-11T00:00:00+00:00",
          "2025-01-12T00:00:00+00:00",
          "2025-01-12T00:00:00+00:00",
          "2025-01-13T00:00:00+00:00",
          "2025-01-13T00:00:00+00:00",
          "2025-01-14T00:00:00+00:00",
          "2025-01-14T00:00:00+00:00",
          "2025-01-15T00:00:00+00:00",
          "2025-01-15T00:00:00+00:00",
          "2025-01-16T00:00:00+00:00",
          "2025-01-16T00:00:00+00:00",
          "2025-01-17T00:00:00+00:00",
          "2025-01-17T00:00:00+00:00",
          "2025-01-18T00:00:00+00:00",
          "2025-01-18T00:00:00+00:00",
          "2025-01-19T00:00:00+00:00",
          "2025-01-19T00:00:00+00:00",
          "2025-01-20T00:00:00+00:00",
          "2025-01-20T00:00:00+00:00",
          "2025-01-21T00:00:00+00:00",
          "2025-01-21T00:00:00+00:00",
          "2025-01-22T00:00:00+00:00",
          "2025-01-22T00:00:00+00:00",
          "2025-01-23T00:00:00+00:00",
          "2025-01-23T00:00:00+00:00",
          "2025-01-24T00:00:00+00:00",
          "2025-01-24T00:00:00+00:00",
          "2025-01-25T00:00:00+00:00",
          "2025-01-25T00:00:00+00:00",
          "2025-01-26T00:00:00+00:00",
          "2025-01-26T00:00:00+00:00",
          "2025-01-27T00:00:00+00:00",
          "2025-01-27T00:00:00+00:00",
          "2025-01-28T00:00:00+00:00",
          "2025-01-28T00:00:00+00:00",
          "2025-01-29T00:00:00+00:00",
          "2025-01-29T00:00:00+00:00",
          "2025-01-30T00:00:00+00:00",
          "2025-01-30T00:00:00+00:00",
          "2025-01-31T00:00:00+00:00",
          "2025-01-31T00:00:00+00:00",
          "2025-02-01T00:00:00+00:00",
          "2025-02-01T00:00:00+00:00",
          "2025-02-02T00:00:00+00:00",
          "2025-02-02T00:00:00+00:00",
          "2025-02-03T00:00:00+00:00",
          "2025-02-03T00:00:00+00:00",
          "2025-02-04T00:00:00+00:00",
          "2025-02-04T00:00:00+00:00",
          "2025-02-05T00:00:00+00:00",
          "2025-02-05T00:00:00+00:00",
          "2025-02-06T00:00:00+00:00",
          "2025-02-06T00:00:00+00:00",
          "2025-02-07T00:00:00+00:00",
          "2025-02-07T00:00:00+00:00",
          "2025-02-08T00:00:00+00:00",
          "2025-02-08T00:00:00+00:00",
          "2025-02-09T00:00:00+00:00",
          "2025-02-09T00:00:00+00:00",
          "2025-02-10T00:00:00+00:00",
          "2025-02-10T00:00:00+00:00",
          "2025-02-11T00:00:00+00:00",
          "2025-02-11T00:00:00+00:00",
          "2025-02-12T00:00:00+00:00",
          "2025-02-12T00:00:00+00:00",
          "2025-02-13T00:00:00+00:00",
          "2025-02-13T00:00:00+00:00",
          "2025-02-14T00:00:00+00:00",
          "2025-02-14T00:00:00+00:00",
          "2025-02-15T00:00:00+00:00",
          "2025-02-15T00:00:00+00:00",
          "2025-02-16T00:00:00+00:00",
          "2025-02-16T00:00:00+00:00",
          "2025-02-17T00:00:00+00:00",
          "2025-02-17T00:00:00+00:00",
          "2025-02-18T00:00:00+00:00",
          "2025-02-18T00:00:00+00:00",
          "2025-02-19T00:00:00+00:00",
          "2025-02-19T00:00:00+00:00",
          "2025-02-20T00:00:00+00:00",
          "2025-02-20T00:00:00+00:00",
          "2025-02-21T00:00:00+00:00",
          "2025-02-21T00:00:00+00:00",
          "2025-02-22T00:00:00+00:00",
          "2025-02-22T00:00:00+00:00",
          "2025-02-23T00:00:00+00:00",
          "2025-02-23T00:00:00+00:00",
          "2025-02-24T00:00:00+00:00",
          "2025-02-24T00:00:00+00:00",
          "2025-02-25T00:00:00+00:00",
          "2025-02-25T00:00:00+00:00",
          "2025-02-26T00:00:00+00:00",
          "2025-02-26T00:00:00+00:00",
          "2025-02-27T00:00:00+00:00",
          "2025-02-27T00:00:00+00:00",
          "2025-02-28T00:00:00+00:00",
          "2025-02-28T00:00:00+00:00",
          "2025-03-01T00:00:00+00:00",
          "2025-03-01T00:00:00+00:00",
          "2025-03-02T00:00:00+00:00",
          "2025-03-02T00:00:00+00:00",
          "2025-03-03T00:00:00+00:00",
          "2025-03-03T00:00:00+00:00",
          "2025-03-04T00:00:00+00:00",
          "2025-03-04T00:00:00+00:00",
          "2025-03-05T00:00:00+00:00",
          "2025-03-05T00:00:00+00:00",
          "2025-03-06T00:00:00+00:00",
          "2025-03-06T00:00:00+00:00",
          "2025-03-07T00:00:00+00:00",
          "2025-03-07T00:00:00+00:00",
          "2025-03-08T00:00:00+00:00",
          "2025-03-08T00:00:00+00:00",
          "2025-03-09T00:00:00+00:00",
          "2025-03-09T00:00:00+00:00",
          "2025-03-10T00:00:00+00:00",
          "2025-03-10T00:00:00+00:00",
          "2025-03-11T00:00:00+00:00",
          "2025-03-11T00:00:00+00:00",
          "2025-03-12T00:00:00+00:00",
          "2025-03-12T00:00:00+00:00",
          "2025-03-13T00:00:00+00:00",
          "2025-03-13T00:00:00+00:00",
          "2025-03-14T00:00:00+00:00",
          "2025-03-14T00:00:00+00:00",
          "2025-03-15T00:00:00+00:00",
          "2025-03-15T00:00:00+00:00",
          "2025-03-16T00:00:00+00:00",
          "2025-03-16T00:00:00+00:00",
          "2025-03-17T00:00:00+00:00",
          "2025-03-17T00:00:00+00:00",
          "2025-03-18T00:00:00+00:00",
          "2025-03-18T00:00:00+00:00",
          "2025-03-19T00:00:00+00:00",
          "2025-03-19T00:00:00+00:00",
          "2025-03-20T00:00:00+00:00",
          "2025-03-20T00:00:00+00:00",
          "2025-03-21T00:00:00+00:00",
          "2025-03-21T00:00:00+00:00",
          "2025-03-22T00:00:00+00:00",
          "2025-03-22T00:00:00+00:00",
          "2025-03-23T00:00:00+00:00",
          "2025-03-23T00:00:00+00:00",
          "2025-03-24T00:00:00+00:00",
          "2025-03-24T00:00:00+00:00",
          "2025-03-25T00:00:00+00:00",
          "2025-03-25T00:00:00+00:00",
          "2025-03-26T00:00:00+00:00",
          "2025-03-26T00:00:00+00:00",
          "2025-03-27T00:00:00+00:00",
          "2025-03-27T00:00:00+00:00",
          "2025-03-28T00:00:00+00:00",
          "2025-03-28T00:00:00+00:00",
          "2025-03-29T00:00:00+00:00",
          "2025-03-29T00:00:00+00:00",
          "2025-03-30T00:00:00+00:00",
          "2025-03-30T00:00:00+00:00"
         ],
         "y": {
          "bdata": "zczMzMzM9L8zMzMzMzPTv2ZmZmZmZua/zczMzMzM7L/NzMzMzMwEwGZmZmZmZva/mpmZmZmZBcBmZmZmZmYOwAAAAAAAAOC/mpmZmZmZ8b/NzMzMzMwQwDMzMzMzM/O/zczMzMzMHsCamZmZmZkVwGZmZmZmZhjAmpmZmZmZHcBmZmZmZmYWwDMzMzMzMxfAAAAAAAAAFMCamZmZmZkVwM3MzMzMzATAAAAAAAAAFMAAAAAAAADgPzMzMzMzM+O/zczMzMzMDEDNzMzMzMzsPzMzMzMzMxVAAAAAAAAAEECamZmZmZkRQM3MzMzMzBZAAAAAAAAAGkAAAAAAAAAQQGZmZmZmZhxAZmZmZmZmHkAzMzMzMzMdQGZmZmZmZhxAZmZmZmZm9j8AAAAAAAAWQJqZmZmZmQFAAAAAAAAABECamZmZmZkJwJqZmZmZmcm/ZmZmZmZmBsAAAAAAAAAIwDMzMzMzMxvAmpmZmZmZDcCamZmZmZkNwM3MzMzMzBzAmpmZmZmZyb9mZmZmZmYCwJqZmZmZmbm/mpmZmZmZyT9mZmZmZmYOQDMzMzMzM+M/zczMzMzMAEBmZmZmZmYQQJqZmZmZmQFAAAAAAAAA+D8AAAAAAAD4P83MzMzMzARAMzMzMzMz+z/NzMzMzMz0PwAAAAAAAAhAZmZmZmZm/j+amZmZmZnZP5qZmZmZmQlAmpmZmZmZ6T+amZmZmZnZv83MzMzMzBDAmpmZmZmZ2T/NzMzMzMwWwDMzMzMzMxXAmpmZmZmZ2T+amZmZmZkTwM3MzMzMzBpAzczMzMzMBEAAAAAAAAAaQAAAAAAAAB5AMzMzMzMzD0AAAAAAAAAWQDMzMzMzM/M/zczMzMzMBEAzMzMzMzMRQJqZmZmZmQFAAAAAAAAAFECamZmZmZkTQDMzMzMzM9M/zczMzMzMEEDNzMzMzMwEwM3MzMzMzPS/zczMzMzMEsCamZmZmZkFwAAAAAAAABTAMzMzMzMzGcCamZmZmZm5vwAAAAAAAADAMzMzMzMz+7+amZmZmZnxv5qZmZmZmek/zczMzMzM7L/NzMzMzMz0PzMzMzMzM+M/ZmZmZmZm/j8AAAAAAAAAQAAAAAAAAPg/AAAAAAAAAEAAAAAAAAAeQAAAAAAAAARAMzMzMzMzG0AAAAAAAAAeQDMzMzMzMxtAZmZmZmZmHEAAAAAAAAAaQGZmZmZmZhpAMzMzMzMzEUAzMzMzMzMXQGZmZmZmZg5AZmZmZmZmEEAAAAAAAAAEQAAAAAAAAAxAMzMzMzMzB0BmZmZmZmYCQGZmZmZmZgJAZmZmZmZmBkDNzMzMzMwQQDMzMzMzMwtAAAAAAAAACEAAAAAAAAAMQDMzMzMzMwNAZmZmZmZmBkDNzMzMzMwEQM3MzMzMzABAMzMzMzMzB0AzMzMzMzMHQAAAAAAAABBAAAAAAAAADEAzMzMzMzPzPzMzMzMzMwtAmpmZmZmZAcCamZmZmZnJv5qZmZmZmQnAZmZmZmZmBsAzMzMzMzMHwAAAAAAAAAjAZmZmZmZmCsCamZmZmZkJwDMzMzMzM/O/AAAAAAAABMAzMzMzMzP7v5qZmZmZmdm/zczMzMzM7L9mZmZmZmYGwJqZmZmZmQFAmpmZmZmZyT8AAAAAAAAQQM3MzMzMzAxAZmZmZmZm5r/NzMzMzMwEQJqZmZmZmbk/zczMzMzM7L9mZmZmZmb+PzMzMzMzM9M/ZmZmZmZmGECamZmZmZkJQAAAAAAAACBAMzMzMzMzG0BmZmZmZmYSQM3MzMzMzB5AZmZmZmZm9j/NzMzMzMwMQJqZmZmZmQVAmpmZmZmZ6T9mZmZmZmYUQM3MzMzMzAxAmpmZmZmZE0DNzMzMzMwUQGZmZmZmZhJAmpmZmZmZFUAAAAAAAAAMQJqZmZmZmQ1A",
          "dtype": "f8"
         }
        },
        {
         "line": {
          "color": "#1f77b4",
          "dash": "dash"
         },
         "mode": "lines",
         "name": "Average Temperature at TROMSØ",
         "type": "scatter",
         "x": [
          "2024-12-31T00:00:00+00:00",
          "2024-12-31T00:00:00+00:00",
          "2025-01-01T00:00:00+00:00",
          "2025-01-01T00:00:00+00:00",
          "2025-01-02T00:00:00+00:00",
          "2025-01-02T00:00:00+00:00",
          "2025-01-03T00:00:00+00:00",
          "2025-01-03T00:00:00+00:00",
          "2025-01-04T00:00:00+00:00",
          "2025-01-04T00:00:00+00:00",
          "2025-01-05T00:00:00+00:00",
          "2025-01-05T00:00:00+00:00",
          "2025-01-06T00:00:00+00:00",
          "2025-01-06T00:00:00+00:00",
          "2025-01-07T00:00:00+00:00",
          "2025-01-07T00:00:00+00:00",
          "2025-01-08T00:00:00+00:00",
          "2025-01-08T00:00:00+00:00",
          "2025-01-09T00:00:00+00:00",
          "2025-01-09T00:00:00+00:00",
          "2025-01-10T00:00:00+00:00",
          "2025-01-10T00:00:00+00:00",
          "2025-01-11T00:00:00+00:00",
          "2025-01-11T00:00:00+00:00",
          "2025-01-12T00:00:00+00:00",
          "2025-01-12T00:00:00+00:00",
          "2025-01-13T00:00:00+00:00",
          "2025-01-13T00:00:00+00:00",
          "2025-01-14T00:00:00+00:00",
          "2025-01-14T00:00:00+00:00",
          "2025-01-15T00:00:00+00:00",
          "2025-01-15T00:00:00+00:00",
          "2025-01-16T00:00:00+00:00",
          "2025-01-16T00:00:00+00:00",
          "2025-01-17T00:00:00+00:00",
          "2025-01-17T00:00:00+00:00",
          "2025-01-18T00:00:00+00:00",
          "2025-01-18T00:00:00+00:00",
          "2025-01-19T00:00:00+00:00",
          "2025-01-19T00:00:00+00:00",
          "2025-01-20T00:00:00+00:00",
          "2025-01-20T00:00:00+00:00",
          "2025-01-21T00:00:00+00:00",
          "2025-01-21T00:00:00+00:00",
          "2025-01-22T00:00:00+00:00",
          "2025-01-22T00:00:00+00:00",
          "2025-01-23T00:00:00+00:00",
          "2025-01-23T00:00:00+00:00",
          "2025-01-24T00:00:00+00:00",
          "2025-01-24T00:00:00+00:00",
          "2025-01-25T00:00:00+00:00",
          "2025-01-25T00:00:00+00:00",
          "2025-01-26T00:00:00+00:00",
          "2025-01-26T00:00:00+00:00",
          "2025-01-27T00:00:00+00:00",
          "2025-01-27T00:00:00+00:00",
          "2025-01-28T00:00:00+00:00",
          "2025-01-28T00:00:00+00:00",
          "2025-01-29T00:00:00+00:00",
          "2025-01-29T00:00:00+00:00",
          "2025-01-30T00:00:00+00:00",
          "2025-01-30T00:00:00+00:00",
          "2025-01-31T00:00:00+00:00",
          "2025-01-31T00:00:00+00:00",
          "2025-02-01T00:00:00+00:00",
          "2025-02-01T00:00:00+00:00",
          "2025-02-02T00:00:00+00:00",
          "2025-02-02T00:00:00+00:00",
          "2025-02-03T00:00:00+00:00",
          "2025-02-03T00:00:00+00:00",
          "2025-02-04T00:00:00+00:00",
          "2025-02-04T00:00:00+00:00",
          "2025-02-05T00:00:00+00:00",
          "2025-02-05T00:00:00+00:00",
          "2025-02-06T00:00:00+00:00",
          "2025-02-06T00:00:00+00:00",
          "2025-02-07T00:00:00+00:00",
          "2025-02-07T00:00:00+00:00",
          "2025-02-08T00:00:00+00:00",
          "2025-02-08T00:00:00+00:00",
          "2025-02-09T00:00:00+00:00",
          "2025-02-09T00:00:00+00:00",
          "2025-02-10T00:00:00+00:00",
          "2025-02-10T00:00:00+00:00",
          "2025-02-11T00:00:00+00:00",
          "2025-02-11T00:00:00+00:00",
          "2025-02-12T00:00:00+00:00",
          "2025-02-12T00:00:00+00:00",
          "2025-02-13T00:00:00+00:00",
          "2025-02-13T00:00:00+00:00",
          "2025-02-14T00:00:00+00:00",
          "2025-02-14T00:00:00+00:00",
          "2025-02-15T00:00:00+00:00",
          "2025-02-15T00:00:00+00:00",
          "2025-02-16T00:00:00+00:00",
          "2025-02-16T00:00:00+00:00",
          "2025-02-17T00:00:00+00:00",
          "2025-02-17T00:00:00+00:00",
          "2025-02-18T00:00:00+00:00",
          "2025-02-18T00:00:00+00:00",
          "2025-02-19T00:00:00+00:00",
          "2025-02-19T00:00:00+00:00",
          "2025-02-20T00:00:00+00:00",
          "2025-02-20T00:00:00+00:00",
          "2025-02-21T00:00:00+00:00",
          "2025-02-21T00:00:00+00:00",
          "2025-02-22T00:00:00+00:00",
          "2025-02-22T00:00:00+00:00",
          "2025-02-23T00:00:00+00:00",
          "2025-02-23T00:00:00+00:00",
          "2025-02-24T00:00:00+00:00",
          "2025-02-24T00:00:00+00:00",
          "2025-02-25T00:00:00+00:00",
          "2025-02-25T00:00:00+00:00",
          "2025-02-26T00:00:00+00:00",
          "2025-02-26T00:00:00+00:00",
          "2025-02-27T00:00:00+00:00",
          "2025-02-27T00:00:00+00:00",
          "2025-02-28T00:00:00+00:00",
          "2025-02-28T00:00:00+00:00",
          "2025-03-01T00:00:00+00:00",
          "2025-03-01T00:00:00+00:00",
          "2025-03-02T00:00:00+00:00",
          "2025-03-02T00:00:00+00:00",
          "2025-03-03T00:00:00+00:00",
          "2025-03-03T00:00:00+00:00",
          "2025-03-04T00:00:00+00:00",
          "2025-03-04T00:00:00+00:00",
          "2025-03-05T00:00:00+00:00",
          "2025-03-05T00:00:00+00:00",
          "2025-03-06T00:00:00+00:00",
          "2025-03-06T00:00:00+00:00",
          "2025-03-07T00:00:00+00:00",
          "2025-03-07T00:00:00+00:00",
          "2025-03-08T00:00:00+00:00",
          "2025-03-08T00:00:00+00:00",
          "2025-03-09T00:00:00+00:00",
          "2025-03-09T00:00:00+00:00",
          "2025-03-10T00:00:00+00:00",
          "2025-03-10T00:00:00+00:00",
          "2025-03-11T00:00:00+00:00",
          "2025-03-11T00:00:00+00:00",
          "2025-03-12T00:00:00+00:00",
          "2025-03-12T00:00:00+00:00",
          "2025-03-13T00:00:00+00:00",
          "2025-03-13T00:00:00+00:00",
          "2025-03-14T00:00:00+00:00",
          "2025-03-14T00:00:00+00:00",
          "2025-03-15T00:00:00+00:00",
          "2025-03-15T00:00:00+00:00",
          "2025-03-16T00:00:00+00:00",
          "2025-03-16T00:00:00+00:00",
          "2025-03-17T00:00:00+00:00",
          "2025-03-17T00:00:00+00:00",
          "2025-03-18T00:00:00+00:00",
          "2025-03-18T00:00:00+00:00",
          "2025-03-19T00:00:00+00:00",
          "2025-03-19T00:00:00+00:00",
          "2025-03-20T00:00:00+00:00",
          "2025-03-20T00:00:00+00:00",
          "2025-03-21T00:00:00+00:00",
          "2025-03-21T00:00:00+00:00",
          "2025-03-22T00:00:00+00:00",
          "2025-03-22T00:00:00+00:00",
          "2025-03-23T00:00:00+00:00",
          "2025-03-23T00:00:00+00:00",
          "2025-03-24T00:00:00+00:00",
          "2025-03-24T00:00:00+00:00",
          "2025-03-25T00:00:00+00:00",
          "2025-03-25T00:00:00+00:00",
          "2025-03-26T00:00:00+00:00",
          "2025-03-26T00:00:00+00:00",
          "2025-03-27T00:00:00+00:00",
          "2025-03-27T00:00:00+00:00",
          "2025-03-28T00:00:00+00:00",
          "2025-03-28T00:00:00+00:00",
          "2025-03-29T00:00:00+00:00",
          "2025-03-29T00:00:00+00:00",
          "2025-03-30T00:00:00+00:00",
          "2025-03-30T00:00:00+00:00"
         ],
         "y": [
          -1.1061111111111113,
          -1.1061111111111113,
          -1.1061111111111113,
          -1.1061111111111113,
          -1.1061111111111113,
          -1.1061111111111113,
          -1.1061111111111113,
          -1.1061111111111113,
          -1.1061111111111113,
          -1.1061111111111113,
          -1.1061111111111113,
          -1.1061111111111113,
          -1.1061111111111113,
          -1.1061111111111113,
          -1.1061111111111113,
          -1.1061111111111113,
          -1.1061111111111113,
          -1.1061111111111113,
          -1.1061111111111113,
          -1.1061111111111113,
          -1.1061111111111113,
          -1.1061111111111113,
          -1.1061111111111113,
          -1.1061111111111113,
          -1.1061111111111113,
          -1.1061111111111113,
          -1.1061111111111113,
          -1.1061111111111113,
          -1.1061111111111113,
          -1.1061111111111113,
          -1.1061111111111113,
          -1.1061111111111113,
          -1.1061111111111113,
          -1.1061111111111113,
          -1.1061111111111113,
          -1.1061111111111113,
          -1.1061111111111113,
          -1.1061111111111113,
          -1.1061111111111113,
          -1.1061111111111113,
          -1.1061111111111113,
          -1.1061111111111113,
          -1.1061111111111113,
          -1.1061111111111113,
          -1.1061111111111113,
          -1.1061111111111113,
          -1.1061111111111113,
          -1.1061111111111113,
          -1.1061111111111113,
          -1.1061111111111113,
          -1.1061111111111113,
          -1.1061111111111113,
          -1.1061111111111113,
          -1.1061111111111113,
          -1.1061111111111113,
          -1.1061111111111113,
          -1.1061111111111113,
          -1.1061111111111113,
          -1.1061111111111113,
          -1.1061111111111113,
          -1.1061111111111113,
          -1.1061111111111113,
          -1.1061111111111113,
          -1.1061111111111113,
          -1.1061111111111113,
          -1.1061111111111113,
          -1.1061111111111113,
          -1.1061111111111113,
          -1.1061111111111113,
          -1.1061111111111113,
          -1.1061111111111113,
          -1.1061111111111113,
          -1.1061111111111113,
          -1.1061111111111113,
          -1.1061111111111113,
          -1.1061111111111113,
          -1.1061111111111113,
          -1.1061111111111113,
          -1.1061111111111113,
          -1.1061111111111113,
          -1.1061111111111113,
          -1.1061111111111113,
          -1.1061111111111113,
          -1.1061111111111113,
          -1.1061111111111113,
          -1.1061111111111113,
          -1.1061111111111113,
          -1.1061111111111113,
          -1.1061111111111113,
          -1.1061111111111113,
          -1.1061111111111113,
          -1.1061111111111113,
          -1.1061111111111113,
          -1.1061111111111113,
          -1.1061111111111113,
          -1.1061111111111113,
          -1.1061111111111113,
          -1.1061111111111113,
          -1.1061111111111113,
          -1.1061111111111113,
          -1.1061111111111113,
          -1.1061111111111113,
          -1.1061111111111113,
          -1.1061111111111113,
          -1.1061111111111113,
          -1.1061111111111113,
          -1.1061111111111113,
          -1.1061111111111113,
          -1.1061111111111113,
          -1.1061111111111113,
          -1.1061111111111113,
          -1.1061111111111113,
          -1.1061111111111113,
          -1.1061111111111113,
          -1.1061111111111113,
          -1.1061111111111113,
          -1.1061111111111113,
          -1.1061111111111113,
          -1.1061111111111113,
          -1.1061111111111113,
          -1.1061111111111113,
          -1.1061111111111113,
          -1.1061111111111113,
          -1.1061111111111113,
          -1.1061111111111113,
          -1.1061111111111113,
          -1.1061111111111113,
          -1.1061111111111113,
          -1.1061111111111113,
          -1.1061111111111113,
          -1.1061111111111113,
          -1.1061111111111113,
          -1.1061111111111113,
          -1.1061111111111113,
          -1.1061111111111113,
          -1.1061111111111113,
          -1.1061111111111113,
          -1.1061111111111113,
          -1.1061111111111113,
          -1.1061111111111113,
          -1.1061111111111113,
          -1.1061111111111113,
          -1.1061111111111113,
          -1.1061111111111113,
          -1.1061111111111113,
          -1.1061111111111113,
          -1.1061111111111113,
          -1.1061111111111113,
          -1.1061111111111113,
          -1.1061111111111113,
          -1.1061111111111113,
          -1.1061111111111113,
          -1.1061111111111113,
          -1.1061111111111113,
          -1.1061111111111113,
          -1.1061111111111113,
          -1.1061111111111113,
          -1.1061111111111113,
          -1.1061111111111113,
          -1.1061111111111113,
          -1.1061111111111113,
          -1.1061111111111113,
          -1.1061111111111113,
          -1.1061111111111113,
          -1.1061111111111113,
          -1.1061111111111113,
          -1.1061111111111113,
          -1.1061111111111113,
          -1.1061111111111113,
          -1.1061111111111113,
          -1.1061111111111113,
          -1.1061111111111113,
          -1.1061111111111113,
          -1.1061111111111113,
          -1.1061111111111113,
          -1.1061111111111113,
          -1.1061111111111113,
          -1.1061111111111113,
          -1.1061111111111113,
          -1.1061111111111113
         ]
        },
        {
         "line": {
          "color": "#ff7f0e",
          "dash": "dash"
         },
         "mode": "lines",
         "name": "Average Temperature at BODØ VI",
         "type": "scatter",
         "x": [
          "2024-12-31T00:00:00+00:00",
          "2024-12-31T00:00:00+00:00",
          "2025-01-01T00:00:00+00:00",
          "2025-01-01T00:00:00+00:00",
          "2025-01-02T00:00:00+00:00",
          "2025-01-02T00:00:00+00:00",
          "2025-01-03T00:00:00+00:00",
          "2025-01-03T00:00:00+00:00",
          "2025-01-04T00:00:00+00:00",
          "2025-01-04T00:00:00+00:00",
          "2025-01-05T00:00:00+00:00",
          "2025-01-05T00:00:00+00:00",
          "2025-01-06T00:00:00+00:00",
          "2025-01-06T00:00:00+00:00",
          "2025-01-07T00:00:00+00:00",
          "2025-01-07T00:00:00+00:00",
          "2025-01-08T00:00:00+00:00",
          "2025-01-08T00:00:00+00:00",
          "2025-01-09T00:00:00+00:00",
          "2025-01-09T00:00:00+00:00",
          "2025-01-10T00:00:00+00:00",
          "2025-01-10T00:00:00+00:00",
          "2025-01-11T00:00:00+00:00",
          "2025-01-11T00:00:00+00:00",
          "2025-01-12T00:00:00+00:00",
          "2025-01-12T00:00:00+00:00",
          "2025-01-13T00:00:00+00:00",
          "2025-01-13T00:00:00+00:00",
          "2025-01-14T00:00:00+00:00",
          "2025-01-14T00:00:00+00:00",
          "2025-01-15T00:00:00+00:00",
          "2025-01-15T00:00:00+00:00",
          "2025-01-16T00:00:00+00:00",
          "2025-01-16T00:00:00+00:00",
          "2025-01-17T00:00:00+00:00",
          "2025-01-17T00:00:00+00:00",
          "2025-01-18T00:00:00+00:00",
          "2025-01-18T00:00:00+00:00",
          "2025-01-19T00:00:00+00:00",
          "2025-01-19T00:00:00+00:00",
          "2025-01-20T00:00:00+00:00",
          "2025-01-20T00:00:00+00:00",
          "2025-01-21T00:00:00+00:00",
          "2025-01-21T00:00:00+00:00",
          "2025-01-22T00:00:00+00:00",
          "2025-01-22T00:00:00+00:00",
          "2025-01-23T00:00:00+00:00",
          "2025-01-23T00:00:00+00:00",
          "2025-01-24T00:00:00+00:00",
          "2025-01-24T00:00:00+00:00",
          "2025-01-25T00:00:00+00:00",
          "2025-01-25T00:00:00+00:00",
          "2025-01-26T00:00:00+00:00",
          "2025-01-26T00:00:00+00:00",
          "2025-01-27T00:00:00+00:00",
          "2025-01-27T00:00:00+00:00",
          "2025-01-28T00:00:00+00:00",
          "2025-01-28T00:00:00+00:00",
          "2025-01-29T00:00:00+00:00",
          "2025-01-29T00:00:00+00:00",
          "2025-01-30T00:00:00+00:00",
          "2025-01-30T00:00:00+00:00",
          "2025-01-31T00:00:00+00:00",
          "2025-01-31T00:00:00+00:00",
          "2025-02-01T00:00:00+00:00",
          "2025-02-01T00:00:00+00:00",
          "2025-02-02T00:00:00+00:00",
          "2025-02-02T00:00:00+00:00",
          "2025-02-03T00:00:00+00:00",
          "2025-02-03T00:00:00+00:00",
          "2025-02-04T00:00:00+00:00",
          "2025-02-04T00:00:00+00:00",
          "2025-02-05T00:00:00+00:00",
          "2025-02-05T00:00:00+00:00",
          "2025-02-06T00:00:00+00:00",
          "2025-02-06T00:00:00+00:00",
          "2025-02-07T00:00:00+00:00",
          "2025-02-07T00:00:00+00:00",
          "2025-02-08T00:00:00+00:00",
          "2025-02-08T00:00:00+00:00",
          "2025-02-09T00:00:00+00:00",
          "2025-02-09T00:00:00+00:00",
          "2025-02-10T00:00:00+00:00",
          "2025-02-10T00:00:00+00:00",
          "2025-02-11T00:00:00+00:00",
          "2025-02-11T00:00:00+00:00",
          "2025-02-12T00:00:00+00:00",
          "2025-02-12T00:00:00+00:00",
          "2025-02-13T00:00:00+00:00",
          "2025-02-13T00:00:00+00:00",
          "2025-02-14T00:00:00+00:00",
          "2025-02-14T00:00:00+00:00",
          "2025-02-15T00:00:00+00:00",
          "2025-02-15T00:00:00+00:00",
          "2025-02-16T00:00:00+00:00",
          "2025-02-16T00:00:00+00:00",
          "2025-02-17T00:00:00+00:00",
          "2025-02-17T00:00:00+00:00",
          "2025-02-18T00:00:00+00:00",
          "2025-02-18T00:00:00+00:00",
          "2025-02-19T00:00:00+00:00",
          "2025-02-19T00:00:00+00:00",
          "2025-02-20T00:00:00+00:00",
          "2025-02-20T00:00:00+00:00",
          "2025-02-21T00:00:00+00:00",
          "2025-02-21T00:00:00+00:00",
          "2025-02-22T00:00:00+00:00",
          "2025-02-22T00:00:00+00:00",
          "2025-02-23T00:00:00+00:00",
          "2025-02-23T00:00:00+00:00",
          "2025-02-24T00:00:00+00:00",
          "2025-02-24T00:00:00+00:00",
          "2025-02-25T00:00:00+00:00",
          "2025-02-25T00:00:00+00:00",
          "2025-02-26T00:00:00+00:00",
          "2025-02-26T00:00:00+00:00",
          "2025-02-27T00:00:00+00:00",
          "2025-02-27T00:00:00+00:00",
          "2025-02-28T00:00:00+00:00",
          "2025-02-28T00:00:00+00:00",
          "2025-03-01T00:00:00+00:00",
          "2025-03-01T00:00:00+00:00",
          "2025-03-02T00:00:00+00:00",
          "2025-03-02T00:00:00+00:00",
          "2025-03-03T00:00:00+00:00",
          "2025-03-03T00:00:00+00:00",
          "2025-03-04T00:00:00+00:00",
          "2025-03-04T00:00:00+00:00",
          "2025-03-05T00:00:00+00:00",
          "2025-03-05T00:00:00+00:00",
          "2025-03-06T00:00:00+00:00",
          "2025-03-06T00:00:00+00:00",
          "2025-03-07T00:00:00+00:00",
          "2025-03-07T00:00:00+00:00",
          "2025-03-08T00:00:00+00:00",
          "2025-03-08T00:00:00+00:00",
          "2025-03-09T00:00:00+00:00",
          "2025-03-09T00:00:00+00:00",
          "2025-03-10T00:00:00+00:00",
          "2025-03-10T00:00:00+00:00",
          "2025-03-11T00:00:00+00:00",
          "2025-03-11T00:00:00+00:00",
          "2025-03-12T00:00:00+00:00",
          "2025-03-12T00:00:00+00:00",
          "2025-03-13T00:00:00+00:00",
          "2025-03-13T00:00:00+00:00",
          "2025-03-14T00:00:00+00:00",
          "2025-03-14T00:00:00+00:00",
          "2025-03-15T00:00:00+00:00",
          "2025-03-15T00:00:00+00:00",
          "2025-03-16T00:00:00+00:00",
          "2025-03-16T00:00:00+00:00",
          "2025-03-17T00:00:00+00:00",
          "2025-03-17T00:00:00+00:00",
          "2025-03-18T00:00:00+00:00",
          "2025-03-18T00:00:00+00:00",
          "2025-03-19T00:00:00+00:00",
          "2025-03-19T00:00:00+00:00",
          "2025-03-20T00:00:00+00:00",
          "2025-03-20T00:00:00+00:00",
          "2025-03-21T00:00:00+00:00",
          "2025-03-21T00:00:00+00:00",
          "2025-03-22T00:00:00+00:00",
          "2025-03-22T00:00:00+00:00",
          "2025-03-23T00:00:00+00:00",
          "2025-03-23T00:00:00+00:00",
          "2025-03-24T00:00:00+00:00",
          "2025-03-24T00:00:00+00:00",
          "2025-03-25T00:00:00+00:00",
          "2025-03-25T00:00:00+00:00",
          "2025-03-26T00:00:00+00:00",
          "2025-03-26T00:00:00+00:00",
          "2025-03-27T00:00:00+00:00",
          "2025-03-27T00:00:00+00:00",
          "2025-03-28T00:00:00+00:00",
          "2025-03-28T00:00:00+00:00",
          "2025-03-29T00:00:00+00:00",
          "2025-03-29T00:00:00+00:00",
          "2025-03-30T00:00:00+00:00",
          "2025-03-30T00:00:00+00:00"
         ],
         "y": [
          1.1488888888888888,
          1.1488888888888888,
          1.1488888888888888,
          1.1488888888888888,
          1.1488888888888888,
          1.1488888888888888,
          1.1488888888888888,
          1.1488888888888888,
          1.1488888888888888,
          1.1488888888888888,
          1.1488888888888888,
          1.1488888888888888,
          1.1488888888888888,
          1.1488888888888888,
          1.1488888888888888,
          1.1488888888888888,
          1.1488888888888888,
          1.1488888888888888,
          1.1488888888888888,
          1.1488888888888888,
          1.1488888888888888,
          1.1488888888888888,
          1.1488888888888888,
          1.1488888888888888,
          1.1488888888888888,
          1.1488888888888888,
          1.1488888888888888,
          1.1488888888888888,
          1.1488888888888888,
          1.1488888888888888,
          1.1488888888888888,
          1.1488888888888888,
          1.1488888888888888,
          1.1488888888888888,
          1.1488888888888888,
          1.1488888888888888,
          1.1488888888888888,
          1.1488888888888888,
          1.1488888888888888,
          1.1488888888888888,
          1.1488888888888888,
          1.1488888888888888,
          1.1488888888888888,
          1.1488888888888888,
          1.1488888888888888,
          1.1488888888888888,
          1.1488888888888888,
          1.1488888888888888,
          1.1488888888888888,
          1.1488888888888888,
          1.1488888888888888,
          1.1488888888888888,
          1.1488888888888888,
          1.1488888888888888,
          1.1488888888888888,
          1.1488888888888888,
          1.1488888888888888,
          1.1488888888888888,
          1.1488888888888888,
          1.1488888888888888,
          1.1488888888888888,
          1.1488888888888888,
          1.1488888888888888,
          1.1488888888888888,
          1.1488888888888888,
          1.1488888888888888,
          1.1488888888888888,
          1.1488888888888888,
          1.1488888888888888,
          1.1488888888888888,
          1.1488888888888888,
          1.1488888888888888,
          1.1488888888888888,
          1.1488888888888888,
          1.1488888888888888,
          1.1488888888888888,
          1.1488888888888888,
          1.1488888888888888,
          1.1488888888888888,
          1.1488888888888888,
          1.1488888888888888,
          1.1488888888888888,
          1.1488888888888888,
          1.1488888888888888,
          1.1488888888888888,
          1.1488888888888888,
          1.1488888888888888,
          1.1488888888888888,
          1.1488888888888888,
          1.1488888888888888,
          1.1488888888888888,
          1.1488888888888888,
          1.1488888888888888,
          1.1488888888888888,
          1.1488888888888888,
          1.1488888888888888,
          1.1488888888888888,
          1.1488888888888888,
          1.1488888888888888,
          1.1488888888888888,
          1.1488888888888888,
          1.1488888888888888,
          1.1488888888888888,
          1.1488888888888888,
          1.1488888888888888,
          1.1488888888888888,
          1.1488888888888888,
          1.1488888888888888,
          1.1488888888888888,
          1.1488888888888888,
          1.1488888888888888,
          1.1488888888888888,
          1.1488888888888888,
          1.1488888888888888,
          1.1488888888888888,
          1.1488888888888888,
          1.1488888888888888,
          1.1488888888888888,
          1.1488888888888888,
          1.1488888888888888,
          1.1488888888888888,
          1.1488888888888888,
          1.1488888888888888,
          1.1488888888888888,
          1.1488888888888888,
          1.1488888888888888,
          1.1488888888888888,
          1.1488888888888888,
          1.1488888888888888,
          1.1488888888888888,
          1.1488888888888888,
          1.1488888888888888,
          1.1488888888888888,
          1.1488888888888888,
          1.1488888888888888,
          1.1488888888888888,
          1.1488888888888888,
          1.1488888888888888,
          1.1488888888888888,
          1.1488888888888888,
          1.1488888888888888,
          1.1488888888888888,
          1.1488888888888888,
          1.1488888888888888,
          1.1488888888888888,
          1.1488888888888888,
          1.1488888888888888,
          1.1488888888888888,
          1.1488888888888888,
          1.1488888888888888,
          1.1488888888888888,
          1.1488888888888888,
          1.1488888888888888,
          1.1488888888888888,
          1.1488888888888888,
          1.1488888888888888,
          1.1488888888888888,
          1.1488888888888888,
          1.1488888888888888,
          1.1488888888888888,
          1.1488888888888888,
          1.1488888888888888,
          1.1488888888888888,
          1.1488888888888888,
          1.1488888888888888,
          1.1488888888888888,
          1.1488888888888888,
          1.1488888888888888,
          1.1488888888888888,
          1.1488888888888888,
          1.1488888888888888,
          1.1488888888888888,
          1.1488888888888888,
          1.1488888888888888,
          1.1488888888888888,
          1.1488888888888888,
          1.1488888888888888,
          1.1488888888888888,
          1.1488888888888888,
          1.1488888888888888
         ]
        }
       ],
       "layout": {
        "legend": {
         "title": {
          "text": "Lokasjoner"
         }
        },
        "template": {
         "data": {
          "bar": [
           {
            "error_x": {
             "color": "#2a3f5f"
            },
            "error_y": {
             "color": "#2a3f5f"
            },
            "marker": {
             "line": {
              "color": "#E5ECF6",
              "width": 0.5
             },
             "pattern": {
              "fillmode": "overlay",
              "size": 10,
              "solidity": 0.2
             }
            },
            "type": "bar"
           }
          ],
          "barpolar": [
           {
            "marker": {
             "line": {
              "color": "#E5ECF6",
              "width": 0.5
             },
             "pattern": {
              "fillmode": "overlay",
              "size": 10,
              "solidity": 0.2
             }
            },
            "type": "barpolar"
           }
          ],
          "carpet": [
           {
            "aaxis": {
             "endlinecolor": "#2a3f5f",
             "gridcolor": "white",
             "linecolor": "white",
             "minorgridcolor": "white",
             "startlinecolor": "#2a3f5f"
            },
            "baxis": {
             "endlinecolor": "#2a3f5f",
             "gridcolor": "white",
             "linecolor": "white",
             "minorgridcolor": "white",
             "startlinecolor": "#2a3f5f"
            },
            "type": "carpet"
           }
          ],
          "choropleth": [
           {
            "colorbar": {
             "outlinewidth": 0,
             "ticks": ""
            },
            "type": "choropleth"
           }
          ],
          "contour": [
           {
            "colorbar": {
             "outlinewidth": 0,
             "ticks": ""
            },
            "colorscale": [
             [
              0,
              "#0d0887"
             ],
             [
              0.1111111111111111,
              "#46039f"
             ],
             [
              0.2222222222222222,
              "#7201a8"
             ],
             [
              0.3333333333333333,
              "#9c179e"
             ],
             [
              0.4444444444444444,
              "#bd3786"
             ],
             [
              0.5555555555555556,
              "#d8576b"
             ],
             [
              0.6666666666666666,
              "#ed7953"
             ],
             [
              0.7777777777777778,
              "#fb9f3a"
             ],
             [
              0.8888888888888888,
              "#fdca26"
             ],
             [
              1,
              "#f0f921"
             ]
            ],
            "type": "contour"
           }
          ],
          "contourcarpet": [
           {
            "colorbar": {
             "outlinewidth": 0,
             "ticks": ""
            },
            "type": "contourcarpet"
           }
          ],
          "heatmap": [
           {
            "colorbar": {
             "outlinewidth": 0,
             "ticks": ""
            },
            "colorscale": [
             [
              0,
              "#0d0887"
             ],
             [
              0.1111111111111111,
              "#46039f"
             ],
             [
              0.2222222222222222,
              "#7201a8"
             ],
             [
              0.3333333333333333,
              "#9c179e"
             ],
             [
              0.4444444444444444,
              "#bd3786"
             ],
             [
              0.5555555555555556,
              "#d8576b"
             ],
             [
              0.6666666666666666,
              "#ed7953"
             ],
             [
              0.7777777777777778,
              "#fb9f3a"
             ],
             [
              0.8888888888888888,
              "#fdca26"
             ],
             [
              1,
              "#f0f921"
             ]
            ],
            "type": "heatmap"
           }
          ],
          "histogram": [
           {
            "marker": {
             "pattern": {
              "fillmode": "overlay",
              "size": 10,
              "solidity": 0.2
             }
            },
            "type": "histogram"
           }
          ],
          "histogram2d": [
           {
            "colorbar": {
             "outlinewidth": 0,
             "ticks": ""
            },
            "colorscale": [
             [
              0,
              "#0d0887"
             ],
             [
              0.1111111111111111,
              "#46039f"
             ],
             [
              0.2222222222222222,
              "#7201a8"
             ],
             [
              0.3333333333333333,
              "#9c179e"
             ],
             [
              0.4444444444444444,
              "#bd3786"
             ],
             [
              0.5555555555555556,
              "#d8576b"
             ],
             [
              0.6666666666666666,
              "#ed7953"
             ],
             [
              0.7777777777777778,
              "#fb9f3a"
             ],
             [
              0.8888888888888888,
              "#fdca26"
             ],
             [
              1,
              "#f0f921"
             ]
            ],
            "type": "histogram2d"
           }
          ],
          "histogram2dcontour": [
           {
            "colorbar": {
             "outlinewidth": 0,
             "ticks": ""
            },
            "colorscale": [
             [
              0,
              "#0d0887"
             ],
             [
              0.1111111111111111,
              "#46039f"
             ],
             [
              0.2222222222222222,
              "#7201a8"
             ],
             [
              0.3333333333333333,
              "#9c179e"
             ],
             [
              0.4444444444444444,
              "#bd3786"
             ],
             [
              0.5555555555555556,
              "#d8576b"
             ],
             [
              0.6666666666666666,
              "#ed7953"
             ],
             [
              0.7777777777777778,
              "#fb9f3a"
             ],
             [
              0.8888888888888888,
              "#fdca26"
             ],
             [
              1,
              "#f0f921"
             ]
            ],
            "type": "histogram2dcontour"
           }
          ],
          "mesh3d": [
           {
            "colorbar": {
             "outlinewidth": 0,
             "ticks": ""
            },
            "type": "mesh3d"
           }
          ],
          "parcoords": [
           {
            "line": {
             "colorbar": {
              "outlinewidth": 0,
              "ticks": ""
             }
            },
            "type": "parcoords"
           }
          ],
          "pie": [
           {
            "automargin": true,
            "type": "pie"
           }
          ],
          "scatter": [
           {
            "fillpattern": {
             "fillmode": "overlay",
             "size": 10,
             "solidity": 0.2
            },
            "type": "scatter"
           }
          ],
          "scatter3d": [
           {
            "line": {
             "colorbar": {
              "outlinewidth": 0,
              "ticks": ""
             }
            },
            "marker": {
             "colorbar": {
              "outlinewidth": 0,
              "ticks": ""
             }
            },
            "type": "scatter3d"
           }
          ],
          "scattercarpet": [
           {
            "marker": {
             "colorbar": {
              "outlinewidth": 0,
              "ticks": ""
             }
            },
            "type": "scattercarpet"
           }
          ],
          "scattergeo": [
           {
            "marker": {
             "colorbar": {
              "outlinewidth": 0,
              "ticks": ""
             }
            },
            "type": "scattergeo"
           }
          ],
          "scattergl": [
           {
            "marker": {
             "colorbar": {
              "outlinewidth": 0,
              "ticks": ""
             }
            },
            "type": "scattergl"
           }
          ],
          "scattermap": [
           {
            "marker": {
             "colorbar": {
              "outlinewidth": 0,
              "ticks": ""
             }
            },
            "type": "scattermap"
           }
          ],
          "scattermapbox": [
           {
            "marker": {
             "colorbar": {
              "outlinewidth": 0,
              "ticks": ""
             }
            },
            "type": "scattermapbox"
           }
          ],
          "scatterpolar": [
           {
            "marker": {
             "colorbar": {
              "outlinewidth": 0,
              "ticks": ""
             }
            },
            "type": "scatterpolar"
           }
          ],
          "scatterpolargl": [
           {
            "marker": {
             "colorbar": {
              "outlinewidth": 0,
              "ticks": ""
             }
            },
            "type": "scatterpolargl"
           }
          ],
          "scatterternary": [
           {
            "marker": {
             "colorbar": {
              "outlinewidth": 0,
              "ticks": ""
             }
            },
            "type": "scatterternary"
           }
          ],
          "surface": [
           {
            "colorbar": {
             "outlinewidth": 0,
             "ticks": ""
            },
            "colorscale": [
             [
              0,
              "#0d0887"
             ],
             [
              0.1111111111111111,
              "#46039f"
             ],
             [
              0.2222222222222222,
              "#7201a8"
             ],
             [
              0.3333333333333333,
              "#9c179e"
             ],
             [
              0.4444444444444444,
              "#bd3786"
             ],
             [
              0.5555555555555556,
              "#d8576b"
             ],
             [
              0.6666666666666666,
              "#ed7953"
             ],
             [
              0.7777777777777778,
              "#fb9f3a"
             ],
             [
              0.8888888888888888,
              "#fdca26"
             ],
             [
              1,
              "#f0f921"
             ]
            ],
            "type": "surface"
           }
          ],
          "table": [
           {
            "cells": {
             "fill": {
              "color": "#EBF0F8"
             },
             "line": {
              "color": "white"
             }
            },
            "header": {
             "fill": {
              "color": "#C8D4E3"
             },
             "line": {
              "color": "white"
             }
            },
            "type": "table"
           }
          ]
         },
         "layout": {
          "annotationdefaults": {
           "arrowcolor": "#2a3f5f",
           "arrowhead": 0,
           "arrowwidth": 1
          },
          "autotypenumbers": "strict",
          "coloraxis": {
           "colorbar": {
            "outlinewidth": 0,
            "ticks": ""
           }
          },
          "colorscale": {
           "diverging": [
            [
             0,
             "#8e0152"
            ],
            [
             0.1,
             "#c51b7d"
            ],
            [
             0.2,
             "#de77ae"
            ],
            [
             0.3,
             "#f1b6da"
            ],
            [
             0.4,
             "#fde0ef"
            ],
            [
             0.5,
             "#f7f7f7"
            ],
            [
             0.6,
             "#e6f5d0"
            ],
            [
             0.7,
             "#b8e186"
            ],
            [
             0.8,
             "#7fbc41"
            ],
            [
             0.9,
             "#4d9221"
            ],
            [
             1,
             "#276419"
            ]
           ],
           "sequential": [
            [
             0,
             "#0d0887"
            ],
            [
             0.1111111111111111,
             "#46039f"
            ],
            [
             0.2222222222222222,
             "#7201a8"
            ],
            [
             0.3333333333333333,
             "#9c179e"
            ],
            [
             0.4444444444444444,
             "#bd3786"
            ],
            [
             0.5555555555555556,
             "#d8576b"
            ],
            [
             0.6666666666666666,
             "#ed7953"
            ],
            [
             0.7777777777777778,
             "#fb9f3a"
            ],
            [
             0.8888888888888888,
             "#fdca26"
            ],
            [
             1,
             "#f0f921"
            ]
           ],
           "sequentialminus": [
            [
             0,
             "#0d0887"
            ],
            [
             0.1111111111111111,
             "#46039f"
            ],
            [
             0.2222222222222222,
             "#7201a8"
            ],
            [
             0.3333333333333333,
             "#9c179e"
            ],
            [
             0.4444444444444444,
             "#bd3786"
            ],
            [
             0.5555555555555556,
             "#d8576b"
            ],
            [
             0.6666666666666666,
             "#ed7953"
            ],
            [
             0.7777777777777778,
             "#fb9f3a"
            ],
            [
             0.8888888888888888,
             "#fdca26"
            ],
            [
             1,
             "#f0f921"
            ]
           ]
          },
          "colorway": [
           "#636efa",
           "#EF553B",
           "#00cc96",
           "#ab63fa",
           "#FFA15A",
           "#19d3f3",
           "#FF6692",
           "#B6E880",
           "#FF97FF",
           "#FECB52"
          ],
          "font": {
           "color": "#2a3f5f"
          },
          "geo": {
           "bgcolor": "white",
           "lakecolor": "white",
           "landcolor": "#E5ECF6",
           "showlakes": true,
           "showland": true,
           "subunitcolor": "white"
          },
          "hoverlabel": {
           "align": "left"
          },
          "hovermode": "closest",
          "mapbox": {
           "style": "light"
          },
          "paper_bgcolor": "white",
          "plot_bgcolor": "#E5ECF6",
          "polar": {
           "angularaxis": {
            "gridcolor": "white",
            "linecolor": "white",
            "ticks": ""
           },
           "bgcolor": "#E5ECF6",
           "radialaxis": {
            "gridcolor": "white",
            "linecolor": "white",
            "ticks": ""
           }
          },
          "scene": {
           "xaxis": {
            "backgroundcolor": "#E5ECF6",
            "gridcolor": "white",
            "gridwidth": 2,
            "linecolor": "white",
            "showbackground": true,
            "ticks": "",
            "zerolinecolor": "white"
           },
           "yaxis": {
            "backgroundcolor": "#E5ECF6",
            "gridcolor": "white",
            "gridwidth": 2,
            "linecolor": "white",
            "showbackground": true,
            "ticks": "",
            "zerolinecolor": "white"
           },
           "zaxis": {
            "backgroundcolor": "#E5ECF6",
            "gridcolor": "white",
            "gridwidth": 2,
            "linecolor": "white",
            "showbackground": true,
            "ticks": "",
            "zerolinecolor": "white"
           }
          },
          "shapedefaults": {
           "line": {
            "color": "#2a3f5f"
           }
          },
          "ternary": {
           "aaxis": {
            "gridcolor": "white",
            "linecolor": "white",
            "ticks": ""
           },
           "baxis": {
            "gridcolor": "white",
            "linecolor": "white",
            "ticks": ""
           },
           "bgcolor": "#E5ECF6",
           "caxis": {
            "gridcolor": "white",
            "linecolor": "white",
            "ticks": ""
           }
          },
          "title": {
           "x": 0.05
          },
          "xaxis": {
           "automargin": true,
           "gridcolor": "white",
           "linecolor": "white",
           "ticks": "",
           "title": {
            "standoff": 15
           },
           "zerolinecolor": "white",
           "zerolinewidth": 2
          },
          "yaxis": {
           "automargin": true,
           "gridcolor": "white",
           "linecolor": "white",
           "ticks": "",
           "title": {
            "standoff": 15
           },
           "zerolinecolor": "white",
           "zerolinewidth": 2
          }
         }
        },
        "title": {
         "text": "Temperatur over tid"
        },
        "xaxis": {
         "title": {
          "text": "Dato"
         }
        },
        "yaxis": {
         "title": {
          "text": "Temperatur (°C)"
         }
        }
       }
      }
     },
     "metadata": {},
     "output_type": "display_data"
    },
    {
     "data": {
      "application/vnd.plotly.v1+json": {
       "config": {
        "plotlyServerURL": "https://plot.ly"
       },
       "data": [
        {
         "line": {
          "color": "#1f77b4"
         },
         "mode": "lines",
         "name": "Precipitation at TROMSØ",
         "type": "scatter",
         "x": [
          "2024-12-31T00:00:00+00:00",
          "2024-12-31T00:00:00+00:00",
          "2025-01-01T00:00:00+00:00",
          "2025-01-01T00:00:00+00:00",
          "2025-01-02T00:00:00+00:00",
          "2025-01-02T00:00:00+00:00",
          "2025-01-03T00:00:00+00:00",
          "2025-01-03T00:00:00+00:00",
          "2025-01-04T00:00:00+00:00",
          "2025-01-04T00:00:00+00:00",
          "2025-01-05T00:00:00+00:00",
          "2025-01-05T00:00:00+00:00",
          "2025-01-06T00:00:00+00:00",
          "2025-01-06T00:00:00+00:00",
          "2025-01-07T00:00:00+00:00",
          "2025-01-07T00:00:00+00:00",
          "2025-01-08T00:00:00+00:00",
          "2025-01-08T00:00:00+00:00",
          "2025-01-09T00:00:00+00:00",
          "2025-01-09T00:00:00+00:00",
          "2025-01-10T00:00:00+00:00",
          "2025-01-10T00:00:00+00:00",
          "2025-01-11T00:00:00+00:00",
          "2025-01-11T00:00:00+00:00",
          "2025-01-12T00:00:00+00:00",
          "2025-01-12T00:00:00+00:00",
          "2025-01-13T00:00:00+00:00",
          "2025-01-13T00:00:00+00:00",
          "2025-01-14T00:00:00+00:00",
          "2025-01-14T00:00:00+00:00",
          "2025-01-15T00:00:00+00:00",
          "2025-01-15T00:00:00+00:00",
          "2025-01-16T00:00:00+00:00",
          "2025-01-16T00:00:00+00:00",
          "2025-01-17T00:00:00+00:00",
          "2025-01-17T00:00:00+00:00",
          "2025-01-18T00:00:00+00:00",
          "2025-01-18T00:00:00+00:00",
          "2025-01-19T00:00:00+00:00",
          "2025-01-19T00:00:00+00:00",
          "2025-01-20T00:00:00+00:00",
          "2025-01-20T00:00:00+00:00",
          "2025-01-21T00:00:00+00:00",
          "2025-01-21T00:00:00+00:00",
          "2025-01-22T00:00:00+00:00",
          "2025-01-22T00:00:00+00:00",
          "2025-01-23T00:00:00+00:00",
          "2025-01-23T00:00:00+00:00",
          "2025-01-24T00:00:00+00:00",
          "2025-01-24T00:00:00+00:00",
          "2025-01-25T00:00:00+00:00",
          "2025-01-25T00:00:00+00:00",
          "2025-01-26T00:00:00+00:00",
          "2025-01-26T00:00:00+00:00",
          "2025-01-27T00:00:00+00:00",
          "2025-01-27T00:00:00+00:00",
          "2025-01-28T00:00:00+00:00",
          "2025-01-28T00:00:00+00:00",
          "2025-01-29T00:00:00+00:00",
          "2025-01-29T00:00:00+00:00",
          "2025-01-30T00:00:00+00:00",
          "2025-01-30T00:00:00+00:00",
          "2025-01-31T00:00:00+00:00",
          "2025-01-31T00:00:00+00:00",
          "2025-02-01T00:00:00+00:00",
          "2025-02-01T00:00:00+00:00",
          "2025-02-02T00:00:00+00:00",
          "2025-02-02T00:00:00+00:00",
          "2025-02-03T00:00:00+00:00",
          "2025-02-03T00:00:00+00:00",
          "2025-02-04T00:00:00+00:00",
          "2025-02-04T00:00:00+00:00",
          "2025-02-05T00:00:00+00:00",
          "2025-02-05T00:00:00+00:00",
          "2025-02-06T00:00:00+00:00",
          "2025-02-06T00:00:00+00:00",
          "2025-02-07T00:00:00+00:00",
          "2025-02-07T00:00:00+00:00",
          "2025-02-08T00:00:00+00:00",
          "2025-02-08T00:00:00+00:00",
          "2025-02-09T00:00:00+00:00",
          "2025-02-09T00:00:00+00:00",
          "2025-02-10T00:00:00+00:00",
          "2025-02-10T00:00:00+00:00",
          "2025-02-11T00:00:00+00:00",
          "2025-02-11T00:00:00+00:00",
          "2025-02-12T00:00:00+00:00",
          "2025-02-12T00:00:00+00:00",
          "2025-02-13T00:00:00+00:00",
          "2025-02-13T00:00:00+00:00",
          "2025-02-14T00:00:00+00:00",
          "2025-02-14T00:00:00+00:00",
          "2025-02-15T00:00:00+00:00",
          "2025-02-15T00:00:00+00:00",
          "2025-02-16T00:00:00+00:00",
          "2025-02-16T00:00:00+00:00",
          "2025-02-17T00:00:00+00:00",
          "2025-02-17T00:00:00+00:00",
          "2025-02-18T00:00:00+00:00",
          "2025-02-18T00:00:00+00:00",
          "2025-02-19T00:00:00+00:00",
          "2025-02-19T00:00:00+00:00",
          "2025-02-20T00:00:00+00:00",
          "2025-02-20T00:00:00+00:00",
          "2025-02-21T00:00:00+00:00",
          "2025-02-21T00:00:00+00:00",
          "2025-02-22T00:00:00+00:00",
          "2025-02-22T00:00:00+00:00",
          "2025-02-23T00:00:00+00:00",
          "2025-02-23T00:00:00+00:00",
          "2025-02-24T00:00:00+00:00",
          "2025-02-24T00:00:00+00:00",
          "2025-02-25T00:00:00+00:00",
          "2025-02-25T00:00:00+00:00",
          "2025-02-26T00:00:00+00:00",
          "2025-02-26T00:00:00+00:00",
          "2025-02-27T00:00:00+00:00",
          "2025-02-27T00:00:00+00:00",
          "2025-02-28T00:00:00+00:00",
          "2025-02-28T00:00:00+00:00",
          "2025-03-01T00:00:00+00:00",
          "2025-03-01T00:00:00+00:00",
          "2025-03-02T00:00:00+00:00",
          "2025-03-02T00:00:00+00:00",
          "2025-03-03T00:00:00+00:00",
          "2025-03-03T00:00:00+00:00",
          "2025-03-04T00:00:00+00:00",
          "2025-03-04T00:00:00+00:00",
          "2025-03-05T00:00:00+00:00",
          "2025-03-05T00:00:00+00:00",
          "2025-03-06T00:00:00+00:00",
          "2025-03-06T00:00:00+00:00",
          "2025-03-07T00:00:00+00:00",
          "2025-03-07T00:00:00+00:00",
          "2025-03-08T00:00:00+00:00",
          "2025-03-08T00:00:00+00:00",
          "2025-03-09T00:00:00+00:00",
          "2025-03-09T00:00:00+00:00",
          "2025-03-10T00:00:00+00:00",
          "2025-03-10T00:00:00+00:00",
          "2025-03-11T00:00:00+00:00",
          "2025-03-11T00:00:00+00:00",
          "2025-03-12T00:00:00+00:00",
          "2025-03-12T00:00:00+00:00",
          "2025-03-13T00:00:00+00:00",
          "2025-03-13T00:00:00+00:00",
          "2025-03-14T00:00:00+00:00",
          "2025-03-14T00:00:00+00:00",
          "2025-03-15T00:00:00+00:00",
          "2025-03-15T00:00:00+00:00",
          "2025-03-16T00:00:00+00:00",
          "2025-03-16T00:00:00+00:00",
          "2025-03-17T00:00:00+00:00",
          "2025-03-17T00:00:00+00:00",
          "2025-03-18T00:00:00+00:00",
          "2025-03-18T00:00:00+00:00",
          "2025-03-19T00:00:00+00:00",
          "2025-03-19T00:00:00+00:00",
          "2025-03-20T00:00:00+00:00",
          "2025-03-20T00:00:00+00:00",
          "2025-03-21T00:00:00+00:00",
          "2025-03-21T00:00:00+00:00",
          "2025-03-22T00:00:00+00:00",
          "2025-03-22T00:00:00+00:00",
          "2025-03-23T00:00:00+00:00",
          "2025-03-23T00:00:00+00:00",
          "2025-03-24T00:00:00+00:00",
          "2025-03-24T00:00:00+00:00",
          "2025-03-25T00:00:00+00:00",
          "2025-03-25T00:00:00+00:00",
          "2025-03-26T00:00:00+00:00",
          "2025-03-26T00:00:00+00:00",
          "2025-03-27T00:00:00+00:00",
          "2025-03-27T00:00:00+00:00",
          "2025-03-28T00:00:00+00:00",
          "2025-03-28T00:00:00+00:00",
          "2025-03-29T00:00:00+00:00",
          "2025-03-29T00:00:00+00:00",
          "2025-03-30T00:00:00+00:00",
          "2025-03-30T00:00:00+00:00"
         ],
         "y": {
          "bdata": "zczMzMzMEEDNzMzMzMwtQJqZmZmZmek/zczMzMzM9D8AAAAAAAAAADMzMzMzM+M/MzMzMzMzLEAzMzMzMzMpQM3MzMzMzPQ/ZmZmZmZmBkAAAAAAAAAAAAAAAAAAAAAAAAAAAAAAAAAAAAAAAAAAAAAAAAAAAAAAAAAAAAAAAAAAAAAAAAAAAAAAAAAAAAAAAAAAAAAAAAAAAAAAAAAAAAAAAAAAAOA/AAAAAAAAAACamZmZmRkwQGZmZmZmZiJAZmZmZmbmPUCamZmZmZk3QGZmZmZm5jlAMzMzMzOzOkBmZmZmZmYkQAAAAAAAADdAZmZmZmbmNkCamZmZmZnJPzMzMzMzszJAMzMzMzNzQUAAAAAAAIAzQM3MzMzMzCtAZmZmZmbmP0CamZmZmZk/QDMzMzMzMw9AMzMzMzMzLEDNzMzMzMz0P83MzMzMzAxAAAAAAAAAAAAAAAAAAAAAAJqZmZmZmbk/AAAAAAAAAAAzMzMzMzMDQM3MzMzMzOw/MzMzMzMz4z+amZmZmZkBQAAAAAAAAAAAAAAAAAAAAADNzMzMzMz0PwAAAAAAAAAAAAAAAAAA4D/NzMzMzMz8P5qZmZmZmbk/AAAAAAAAAAAzMzMzMzMRQAAAAAAAABBAAAAAAAAAAACamZmZmZnZP2ZmZmZmZhpAZmZmZmZm/j9mZmZmZmYYQM3MzMzMzCJAAAAAAAAAAABmZmZmZmb2PwAAAAAAAAAAAAAAAAAAAAAAAAAAAADwPwAAAAAAAAAAAAAAAAAADEBmZmZmZmYCQAAAAAAAACtAMzMzMzMzF0AzMzMzMzMgQGZmZmZmZitAAAAAAAAA4D8zMzMzMzMTQDMzMzMzM/s/AAAAAAAAAADNzMzMzMwSQM3MzMzMzBJAzczMzMzMLkAzMzMzMzMXQJqZmZmZmRlAmpmZmZmZKkCamZmZmZnJP2ZmZmZmZhJAMzMzMzMzF0DNzMzMzMz0P2ZmZmZmZhhAzczMzMzMEkAAAAAAAAAAQDMzMzMzMxtAZmZmZmZmCkAzMzMzMzMDQGZmZmZmZuY/zczMzMzMAEDNzMzMzMwsQAAAAAAAABxAmpmZmZkZNEDNzMzMzMwqQM3MzMzMzOw/ZmZmZmZmLUAAAAAAAADwP5qZmZmZmfk/MzMzMzMz4z8zMzMzMzPTP5qZmZmZmdk/AAAAAAAA8D8AAAAAAAAAAAAAAAAAAAAAAAAAAAAAAAAAAAAAAAAAADMzMzMzM+M/mpmZmZmZ2T+amZmZmZnJP5qZmZmZmdk/AAAAAAAA+D+amZmZmZnJP5qZmZmZmbk/mpmZmZmZ+T/NzMzMzMwiQJqZmZmZmdk/AAAAAAAAKUDNzMzMzMwnQDMzMzMzM9M/zczMzMzMI0BmZmZmZmbmP2ZmZmZmZuY/ZmZmZmZmCkCamZmZmZkJQJqZmZmZmQ1AAAAAAAAAAEDNzMzMzMwaQJqZmZmZmRdAmpmZmZmZI0AzMzMzMzMRQJqZmZmZmfk/ZmZmZmZmI0AAAAAAAAAAAAAAAAAAAAAAAAAAAAAAI0AAAAAAAAAAADMzMzMzMyFAzczMzMzMJUCamZmZmZksQJqZmZmZmSdAzczMzMzMKkAzMzMzMzM1QAAAAAAAACZAmpmZmZmZIEAAAAAAAAA2QGZmZmZmZitAZmZmZmZmJUAzMzMzM7MxQGZmZmZmZiFAAAAAAAAAJEAzMzMzMzMLQAAAAAAAABxAMzMzMzMz0z/NzMzMzMz0PzMzMzMzM/s/AAAAAAAAAAAAAAAAAAAAADMzMzMzM/s/mpmZmZkZM0BmZmZmZmYSQAAAAAAAACpAAAAAAAAANECamZmZmZkgQDMzMzMzMyNAMzMzMzMzA0AzMzMzMzMgQGZmZmZmZidAZmZmZmZmIEAAAAAAAAAAAAAAAAAAABBA",
          "dtype": "f8"
         }
        },
        {
         "line": {
          "color": "#ff7f0e"
         },
         "mode": "lines",
         "name": "Precipitation at BODØ VI",
         "type": "scatter",
         "x": [
          "2024-12-31T00:00:00+00:00",
          "2024-12-31T00:00:00+00:00",
          "2025-01-01T00:00:00+00:00",
          "2025-01-01T00:00:00+00:00",
          "2025-01-02T00:00:00+00:00",
          "2025-01-02T00:00:00+00:00",
          "2025-01-03T00:00:00+00:00",
          "2025-01-03T00:00:00+00:00",
          "2025-01-04T00:00:00+00:00",
          "2025-01-04T00:00:00+00:00",
          "2025-01-05T00:00:00+00:00",
          "2025-01-05T00:00:00+00:00",
          "2025-01-06T00:00:00+00:00",
          "2025-01-06T00:00:00+00:00",
          "2025-01-07T00:00:00+00:00",
          "2025-01-07T00:00:00+00:00",
          "2025-01-08T00:00:00+00:00",
          "2025-01-08T00:00:00+00:00",
          "2025-01-09T00:00:00+00:00",
          "2025-01-09T00:00:00+00:00",
          "2025-01-10T00:00:00+00:00",
          "2025-01-10T00:00:00+00:00",
          "2025-01-11T00:00:00+00:00",
          "2025-01-11T00:00:00+00:00",
          "2025-01-12T00:00:00+00:00",
          "2025-01-12T00:00:00+00:00",
          "2025-01-13T00:00:00+00:00",
          "2025-01-13T00:00:00+00:00",
          "2025-01-14T00:00:00+00:00",
          "2025-01-14T00:00:00+00:00",
          "2025-01-15T00:00:00+00:00",
          "2025-01-15T00:00:00+00:00",
          "2025-01-16T00:00:00+00:00",
          "2025-01-16T00:00:00+00:00",
          "2025-01-17T00:00:00+00:00",
          "2025-01-17T00:00:00+00:00",
          "2025-01-18T00:00:00+00:00",
          "2025-01-18T00:00:00+00:00",
          "2025-01-19T00:00:00+00:00",
          "2025-01-19T00:00:00+00:00",
          "2025-01-20T00:00:00+00:00",
          "2025-01-20T00:00:00+00:00",
          "2025-01-21T00:00:00+00:00",
          "2025-01-21T00:00:00+00:00",
          "2025-01-22T00:00:00+00:00",
          "2025-01-22T00:00:00+00:00",
          "2025-01-23T00:00:00+00:00",
          "2025-01-23T00:00:00+00:00",
          "2025-01-24T00:00:00+00:00",
          "2025-01-24T00:00:00+00:00",
          "2025-01-25T00:00:00+00:00",
          "2025-01-25T00:00:00+00:00",
          "2025-01-26T00:00:00+00:00",
          "2025-01-26T00:00:00+00:00",
          "2025-01-27T00:00:00+00:00",
          "2025-01-27T00:00:00+00:00",
          "2025-01-28T00:00:00+00:00",
          "2025-01-28T00:00:00+00:00",
          "2025-01-29T00:00:00+00:00",
          "2025-01-29T00:00:00+00:00",
          "2025-01-30T00:00:00+00:00",
          "2025-01-30T00:00:00+00:00",
          "2025-01-31T00:00:00+00:00",
          "2025-01-31T00:00:00+00:00",
          "2025-02-01T00:00:00+00:00",
          "2025-02-01T00:00:00+00:00",
          "2025-02-02T00:00:00+00:00",
          "2025-02-02T00:00:00+00:00",
          "2025-02-03T00:00:00+00:00",
          "2025-02-03T00:00:00+00:00",
          "2025-02-04T00:00:00+00:00",
          "2025-02-04T00:00:00+00:00",
          "2025-02-05T00:00:00+00:00",
          "2025-02-05T00:00:00+00:00",
          "2025-02-06T00:00:00+00:00",
          "2025-02-06T00:00:00+00:00",
          "2025-02-07T00:00:00+00:00",
          "2025-02-07T00:00:00+00:00",
          "2025-02-08T00:00:00+00:00",
          "2025-02-08T00:00:00+00:00",
          "2025-02-09T00:00:00+00:00",
          "2025-02-09T00:00:00+00:00",
          "2025-02-10T00:00:00+00:00",
          "2025-02-10T00:00:00+00:00",
          "2025-02-11T00:00:00+00:00",
          "2025-02-11T00:00:00+00:00",
          "2025-02-12T00:00:00+00:00",
          "2025-02-12T00:00:00+00:00",
          "2025-02-13T00:00:00+00:00",
          "2025-02-13T00:00:00+00:00",
          "2025-02-14T00:00:00+00:00",
          "2025-02-14T00:00:00+00:00",
          "2025-02-15T00:00:00+00:00",
          "2025-02-15T00:00:00+00:00",
          "2025-02-16T00:00:00+00:00",
          "2025-02-16T00:00:00+00:00",
          "2025-02-17T00:00:00+00:00",
          "2025-02-17T00:00:00+00:00",
          "2025-02-18T00:00:00+00:00",
          "2025-02-18T00:00:00+00:00",
          "2025-02-19T00:00:00+00:00",
          "2025-02-19T00:00:00+00:00",
          "2025-02-20T00:00:00+00:00",
          "2025-02-20T00:00:00+00:00",
          "2025-02-21T00:00:00+00:00",
          "2025-02-21T00:00:00+00:00",
          "2025-02-22T00:00:00+00:00",
          "2025-02-22T00:00:00+00:00",
          "2025-02-23T00:00:00+00:00",
          "2025-02-23T00:00:00+00:00",
          "2025-02-24T00:00:00+00:00",
          "2025-02-24T00:00:00+00:00",
          "2025-02-25T00:00:00+00:00",
          "2025-02-25T00:00:00+00:00",
          "2025-02-26T00:00:00+00:00",
          "2025-02-26T00:00:00+00:00",
          "2025-02-27T00:00:00+00:00",
          "2025-02-27T00:00:00+00:00",
          "2025-02-28T00:00:00+00:00",
          "2025-02-28T00:00:00+00:00",
          "2025-03-01T00:00:00+00:00",
          "2025-03-01T00:00:00+00:00",
          "2025-03-02T00:00:00+00:00",
          "2025-03-02T00:00:00+00:00",
          "2025-03-03T00:00:00+00:00",
          "2025-03-03T00:00:00+00:00",
          "2025-03-04T00:00:00+00:00",
          "2025-03-04T00:00:00+00:00",
          "2025-03-05T00:00:00+00:00",
          "2025-03-05T00:00:00+00:00",
          "2025-03-06T00:00:00+00:00",
          "2025-03-06T00:00:00+00:00",
          "2025-03-07T00:00:00+00:00",
          "2025-03-07T00:00:00+00:00",
          "2025-03-08T00:00:00+00:00",
          "2025-03-08T00:00:00+00:00",
          "2025-03-09T00:00:00+00:00",
          "2025-03-09T00:00:00+00:00",
          "2025-03-10T00:00:00+00:00",
          "2025-03-10T00:00:00+00:00",
          "2025-03-11T00:00:00+00:00",
          "2025-03-11T00:00:00+00:00",
          "2025-03-12T00:00:00+00:00",
          "2025-03-12T00:00:00+00:00",
          "2025-03-13T00:00:00+00:00",
          "2025-03-13T00:00:00+00:00",
          "2025-03-14T00:00:00+00:00",
          "2025-03-14T00:00:00+00:00",
          "2025-03-15T00:00:00+00:00",
          "2025-03-15T00:00:00+00:00",
          "2025-03-16T00:00:00+00:00",
          "2025-03-16T00:00:00+00:00",
          "2025-03-17T00:00:00+00:00",
          "2025-03-17T00:00:00+00:00",
          "2025-03-18T00:00:00+00:00",
          "2025-03-18T00:00:00+00:00",
          "2025-03-19T00:00:00+00:00",
          "2025-03-19T00:00:00+00:00",
          "2025-03-20T00:00:00+00:00",
          "2025-03-20T00:00:00+00:00",
          "2025-03-21T00:00:00+00:00",
          "2025-03-21T00:00:00+00:00",
          "2025-03-22T00:00:00+00:00",
          "2025-03-22T00:00:00+00:00",
          "2025-03-23T00:00:00+00:00",
          "2025-03-23T00:00:00+00:00",
          "2025-03-24T00:00:00+00:00",
          "2025-03-24T00:00:00+00:00",
          "2025-03-25T00:00:00+00:00",
          "2025-03-25T00:00:00+00:00",
          "2025-03-26T00:00:00+00:00",
          "2025-03-26T00:00:00+00:00",
          "2025-03-27T00:00:00+00:00",
          "2025-03-27T00:00:00+00:00",
          "2025-03-28T00:00:00+00:00",
          "2025-03-28T00:00:00+00:00",
          "2025-03-29T00:00:00+00:00",
          "2025-03-29T00:00:00+00:00",
          "2025-03-30T00:00:00+00:00",
          "2025-03-30T00:00:00+00:00"
         ],
         "y": {
          "bdata": "MzMzMzMzJkCamZmZmRk2QJqZmZmZmQlAZmZmZmZmEEAAAAAAAAAIQGZmZmZmZvY/zczMzMzMCECamZmZmZkJQM3MzMzMzB5AzczMzMzMHEAzMzMzMzMiQJqZmZmZmSVAAAAAAAAAAABmZmZmZmb2PwAAAAAAAAAAAAAAAAAAAAAAAAAAAAAAAAAAAAAAAAAAmpmZmZmZyT8AAAAAAAAAAAAAAAAAAPA/mpmZmZmZyT8zMzMzMzMhQDMzMzMzMyNAzczMzMzMFEAzMzMzMzMRQAAAAAAAAC5AzczMzMzMFEAzMzMzMzMRQAAAAAAAAC5AzczMzMzMKUAAAAAAAAAAAAAAAAAAABhAMzMzMzMzLEAAAAAAAIAyQDMzMzMzMyRAMzMzMzMzGUAzMzMzMzMzQM3MzMzMzCpAmpmZmZmZKUCamZmZmZm5PwAAAAAAAPA/AAAAAAAAAAAAAAAAAAAAAAAAAAAAAAAAAAAAAAAAAAAAAAAAAAAAAAAAAAAAAAAAAAAAAAAAAAAAAAAAAAAAAAAAAAAAAAAAAAAAAAAAAACamZmZmZkfQAAAAAAAAPg/AAAAAAAAAACamZmZmZkZQJqZmZmZmbk/AAAAAAAAAAAAAAAAAAAAAJqZmZmZmbk/AAAAAAAAAAAAAAAAAAAAAJqZmZmZmbk/mpmZmZmZuT8zMzMzMzPTP5qZmZmZmdk/AAAAAAAAAAAAAAAAAAAAAAAAAAAAAAAAAAAAAAAAAABmZmZmZmYeQJqZmZmZmbk/AAAAAAAALkBmZmZmZmYyQAAAAAAAAARAAAAAAAAAEkAAAAAAAAAAAM3MzMzMzABAAAAAAAAAAAAAAAAAAAAAAM3MzMzMzAxAAAAAAAAA8D8zMzMzMzPTPzMzMzMzMwdAAAAAAAAAEEAzMzMzMzMDQAAAAAAAAPA/zczMzMzM/D8zMzMzMzPzP83MzMzMzPQ/AAAAAAAABEAAAAAAAAD4PwAAAAAAAOA/MzMzMzMz+z9mZmZmZmbmPwAAAAAAAPA/AAAAAAAABECamZmZmZn5P5qZmZmZmdk/AAAAAAAA+D9mZmZmZmb+PwAAAAAAAAAAAAAAAAAAAABmZmZmZmb+P5qZmZmZmRFAAAAAAAAAAAAAAAAAAADwP5qZmZmZmRVAMzMzMzMzGUDNzMzMzMz8PwAAAAAAAAAAAAAAAAAAEkAAAAAAAAAAAAAAAAAAAAAAAAAAAAAAAAAAAAAAAAAAAAAAAAAAAAhAmpmZmZmZBUAAAAAAAAAcQM3MzMzMzPw/mpmZmZmZFUAAAAAAAAAYQDMzMzMzMx1AZmZmZmZmKEBmZmZmZmY0QJqZmZmZmS9AzczMzMzMCEAzMzMzMzMXQJqZmZmZmSBAzczMzMzMHECamZmZmZnxP2ZmZmZmZhBAZmZmZmZm9j+amZmZmZnZPzMzMzMzMxtAMzMzMzMzH0CamZmZmZnpPwAAAAAAAAAAmpmZmZmZ2T+amZmZmZnpPwAAAAAAAAAAmpmZmZmZ2T8AAAAAAAAAAAAAAAAAAAAAAAAAAAAAJUAAAAAAAAAAAAAAAAAAABRAzczMzMzMKUAAAAAAAAAgQAAAAAAAACFAZmZmZmZmEEDNzMzMzMwWQM3MzMzMzCBAzczMzMzMDEDNzMzMzMwWQDMzMzMzMyBAAAAAAAAA+D8zMzMzMzMPQM3MzMzMzOw/ZmZmZmZm9j8AAAAAAAAAAAAAAAAAAAAAAAAAAAAAAAAAAAAAAAAAAAAAAAAAAAAAAAAAAAAAAAAAAAAAAAAAQAAAAAAAAAAAAAAAAAAACEBmZmZmZmYSQJqZmZmZmSVAMzMzMzMzEUCamZmZmZktQM3MzMzMzCxAMzMzMzMzH0CamZmZmZkfQGZmZmZmZhRAmpmZmZmZKEAAAAAAAAAAAAAAAAAAAAAA",
          "dtype": "f8"
         }
        },
        {
         "line": {
          "color": "#1f77b4",
          "dash": "dash"
         },
         "mode": "lines",
         "name": "Average Precipitation at TROMSØ",
         "type": "scatter",
         "x": [
          "2024-12-31T00:00:00+00:00",
          "2024-12-31T00:00:00+00:00",
          "2025-01-01T00:00:00+00:00",
          "2025-01-01T00:00:00+00:00",
          "2025-01-02T00:00:00+00:00",
          "2025-01-02T00:00:00+00:00",
          "2025-01-03T00:00:00+00:00",
          "2025-01-03T00:00:00+00:00",
          "2025-01-04T00:00:00+00:00",
          "2025-01-04T00:00:00+00:00",
          "2025-01-05T00:00:00+00:00",
          "2025-01-05T00:00:00+00:00",
          "2025-01-06T00:00:00+00:00",
          "2025-01-06T00:00:00+00:00",
          "2025-01-07T00:00:00+00:00",
          "2025-01-07T00:00:00+00:00",
          "2025-01-08T00:00:00+00:00",
          "2025-01-08T00:00:00+00:00",
          "2025-01-09T00:00:00+00:00",
          "2025-01-09T00:00:00+00:00",
          "2025-01-10T00:00:00+00:00",
          "2025-01-10T00:00:00+00:00",
          "2025-01-11T00:00:00+00:00",
          "2025-01-11T00:00:00+00:00",
          "2025-01-12T00:00:00+00:00",
          "2025-01-12T00:00:00+00:00",
          "2025-01-13T00:00:00+00:00",
          "2025-01-13T00:00:00+00:00",
          "2025-01-14T00:00:00+00:00",
          "2025-01-14T00:00:00+00:00",
          "2025-01-15T00:00:00+00:00",
          "2025-01-15T00:00:00+00:00",
          "2025-01-16T00:00:00+00:00",
          "2025-01-16T00:00:00+00:00",
          "2025-01-17T00:00:00+00:00",
          "2025-01-17T00:00:00+00:00",
          "2025-01-18T00:00:00+00:00",
          "2025-01-18T00:00:00+00:00",
          "2025-01-19T00:00:00+00:00",
          "2025-01-19T00:00:00+00:00",
          "2025-01-20T00:00:00+00:00",
          "2025-01-20T00:00:00+00:00",
          "2025-01-21T00:00:00+00:00",
          "2025-01-21T00:00:00+00:00",
          "2025-01-22T00:00:00+00:00",
          "2025-01-22T00:00:00+00:00",
          "2025-01-23T00:00:00+00:00",
          "2025-01-23T00:00:00+00:00",
          "2025-01-24T00:00:00+00:00",
          "2025-01-24T00:00:00+00:00",
          "2025-01-25T00:00:00+00:00",
          "2025-01-25T00:00:00+00:00",
          "2025-01-26T00:00:00+00:00",
          "2025-01-26T00:00:00+00:00",
          "2025-01-27T00:00:00+00:00",
          "2025-01-27T00:00:00+00:00",
          "2025-01-28T00:00:00+00:00",
          "2025-01-28T00:00:00+00:00",
          "2025-01-29T00:00:00+00:00",
          "2025-01-29T00:00:00+00:00",
          "2025-01-30T00:00:00+00:00",
          "2025-01-30T00:00:00+00:00",
          "2025-01-31T00:00:00+00:00",
          "2025-01-31T00:00:00+00:00",
          "2025-02-01T00:00:00+00:00",
          "2025-02-01T00:00:00+00:00",
          "2025-02-02T00:00:00+00:00",
          "2025-02-02T00:00:00+00:00",
          "2025-02-03T00:00:00+00:00",
          "2025-02-03T00:00:00+00:00",
          "2025-02-04T00:00:00+00:00",
          "2025-02-04T00:00:00+00:00",
          "2025-02-05T00:00:00+00:00",
          "2025-02-05T00:00:00+00:00",
          "2025-02-06T00:00:00+00:00",
          "2025-02-06T00:00:00+00:00",
          "2025-02-07T00:00:00+00:00",
          "2025-02-07T00:00:00+00:00",
          "2025-02-08T00:00:00+00:00",
          "2025-02-08T00:00:00+00:00",
          "2025-02-09T00:00:00+00:00",
          "2025-02-09T00:00:00+00:00",
          "2025-02-10T00:00:00+00:00",
          "2025-02-10T00:00:00+00:00",
          "2025-02-11T00:00:00+00:00",
          "2025-02-11T00:00:00+00:00",
          "2025-02-12T00:00:00+00:00",
          "2025-02-12T00:00:00+00:00",
          "2025-02-13T00:00:00+00:00",
          "2025-02-13T00:00:00+00:00",
          "2025-02-14T00:00:00+00:00",
          "2025-02-14T00:00:00+00:00",
          "2025-02-15T00:00:00+00:00",
          "2025-02-15T00:00:00+00:00",
          "2025-02-16T00:00:00+00:00",
          "2025-02-16T00:00:00+00:00",
          "2025-02-17T00:00:00+00:00",
          "2025-02-17T00:00:00+00:00",
          "2025-02-18T00:00:00+00:00",
          "2025-02-18T00:00:00+00:00",
          "2025-02-19T00:00:00+00:00",
          "2025-02-19T00:00:00+00:00",
          "2025-02-20T00:00:00+00:00",
          "2025-02-20T00:00:00+00:00",
          "2025-02-21T00:00:00+00:00",
          "2025-02-21T00:00:00+00:00",
          "2025-02-22T00:00:00+00:00",
          "2025-02-22T00:00:00+00:00",
          "2025-02-23T00:00:00+00:00",
          "2025-02-23T00:00:00+00:00",
          "2025-02-24T00:00:00+00:00",
          "2025-02-24T00:00:00+00:00",
          "2025-02-25T00:00:00+00:00",
          "2025-02-25T00:00:00+00:00",
          "2025-02-26T00:00:00+00:00",
          "2025-02-26T00:00:00+00:00",
          "2025-02-27T00:00:00+00:00",
          "2025-02-27T00:00:00+00:00",
          "2025-02-28T00:00:00+00:00",
          "2025-02-28T00:00:00+00:00",
          "2025-03-01T00:00:00+00:00",
          "2025-03-01T00:00:00+00:00",
          "2025-03-02T00:00:00+00:00",
          "2025-03-02T00:00:00+00:00",
          "2025-03-03T00:00:00+00:00",
          "2025-03-03T00:00:00+00:00",
          "2025-03-04T00:00:00+00:00",
          "2025-03-04T00:00:00+00:00",
          "2025-03-05T00:00:00+00:00",
          "2025-03-05T00:00:00+00:00",
          "2025-03-06T00:00:00+00:00",
          "2025-03-06T00:00:00+00:00",
          "2025-03-07T00:00:00+00:00",
          "2025-03-07T00:00:00+00:00",
          "2025-03-08T00:00:00+00:00",
          "2025-03-08T00:00:00+00:00",
          "2025-03-09T00:00:00+00:00",
          "2025-03-09T00:00:00+00:00",
          "2025-03-10T00:00:00+00:00",
          "2025-03-10T00:00:00+00:00",
          "2025-03-11T00:00:00+00:00",
          "2025-03-11T00:00:00+00:00",
          "2025-03-12T00:00:00+00:00",
          "2025-03-12T00:00:00+00:00",
          "2025-03-13T00:00:00+00:00",
          "2025-03-13T00:00:00+00:00",
          "2025-03-14T00:00:00+00:00",
          "2025-03-14T00:00:00+00:00",
          "2025-03-15T00:00:00+00:00",
          "2025-03-15T00:00:00+00:00",
          "2025-03-16T00:00:00+00:00",
          "2025-03-16T00:00:00+00:00",
          "2025-03-17T00:00:00+00:00",
          "2025-03-17T00:00:00+00:00",
          "2025-03-18T00:00:00+00:00",
          "2025-03-18T00:00:00+00:00",
          "2025-03-19T00:00:00+00:00",
          "2025-03-19T00:00:00+00:00",
          "2025-03-20T00:00:00+00:00",
          "2025-03-20T00:00:00+00:00",
          "2025-03-21T00:00:00+00:00",
          "2025-03-21T00:00:00+00:00",
          "2025-03-22T00:00:00+00:00",
          "2025-03-22T00:00:00+00:00",
          "2025-03-23T00:00:00+00:00",
          "2025-03-23T00:00:00+00:00",
          "2025-03-24T00:00:00+00:00",
          "2025-03-24T00:00:00+00:00",
          "2025-03-25T00:00:00+00:00",
          "2025-03-25T00:00:00+00:00",
          "2025-03-26T00:00:00+00:00",
          "2025-03-26T00:00:00+00:00",
          "2025-03-27T00:00:00+00:00",
          "2025-03-27T00:00:00+00:00",
          "2025-03-28T00:00:00+00:00",
          "2025-03-28T00:00:00+00:00",
          "2025-03-29T00:00:00+00:00",
          "2025-03-29T00:00:00+00:00",
          "2025-03-30T00:00:00+00:00",
          "2025-03-30T00:00:00+00:00"
         ],
         "y": [
          6.088888888888889,
          6.088888888888889,
          6.088888888888889,
          6.088888888888889,
          6.088888888888889,
          6.088888888888889,
          6.088888888888889,
          6.088888888888889,
          6.088888888888889,
          6.088888888888889,
          6.088888888888889,
          6.088888888888889,
          6.088888888888889,
          6.088888888888889,
          6.088888888888889,
          6.088888888888889,
          6.088888888888889,
          6.088888888888889,
          6.088888888888889,
          6.088888888888889,
          6.088888888888889,
          6.088888888888889,
          6.088888888888889,
          6.088888888888889,
          6.088888888888889,
          6.088888888888889,
          6.088888888888889,
          6.088888888888889,
          6.088888888888889,
          6.088888888888889,
          6.088888888888889,
          6.088888888888889,
          6.088888888888889,
          6.088888888888889,
          6.088888888888889,
          6.088888888888889,
          6.088888888888889,
          6.088888888888889,
          6.088888888888889,
          6.088888888888889,
          6.088888888888889,
          6.088888888888889,
          6.088888888888889,
          6.088888888888889,
          6.088888888888889,
          6.088888888888889,
          6.088888888888889,
          6.088888888888889,
          6.088888888888889,
          6.088888888888889,
          6.088888888888889,
          6.088888888888889,
          6.088888888888889,
          6.088888888888889,
          6.088888888888889,
          6.088888888888889,
          6.088888888888889,
          6.088888888888889,
          6.088888888888889,
          6.088888888888889,
          6.088888888888889,
          6.088888888888889,
          6.088888888888889,
          6.088888888888889,
          6.088888888888889,
          6.088888888888889,
          6.088888888888889,
          6.088888888888889,
          6.088888888888889,
          6.088888888888889,
          6.088888888888889,
          6.088888888888889,
          6.088888888888889,
          6.088888888888889,
          6.088888888888889,
          6.088888888888889,
          6.088888888888889,
          6.088888888888889,
          6.088888888888889,
          6.088888888888889,
          6.088888888888889,
          6.088888888888889,
          6.088888888888889,
          6.088888888888889,
          6.088888888888889,
          6.088888888888889,
          6.088888888888889,
          6.088888888888889,
          6.088888888888889,
          6.088888888888889,
          6.088888888888889,
          6.088888888888889,
          6.088888888888889,
          6.088888888888889,
          6.088888888888889,
          6.088888888888889,
          6.088888888888889,
          6.088888888888889,
          6.088888888888889,
          6.088888888888889,
          6.088888888888889,
          6.088888888888889,
          6.088888888888889,
          6.088888888888889,
          6.088888888888889,
          6.088888888888889,
          6.088888888888889,
          6.088888888888889,
          6.088888888888889,
          6.088888888888889,
          6.088888888888889,
          6.088888888888889,
          6.088888888888889,
          6.088888888888889,
          6.088888888888889,
          6.088888888888889,
          6.088888888888889,
          6.088888888888889,
          6.088888888888889,
          6.088888888888889,
          6.088888888888889,
          6.088888888888889,
          6.088888888888889,
          6.088888888888889,
          6.088888888888889,
          6.088888888888889,
          6.088888888888889,
          6.088888888888889,
          6.088888888888889,
          6.088888888888889,
          6.088888888888889,
          6.088888888888889,
          6.088888888888889,
          6.088888888888889,
          6.088888888888889,
          6.088888888888889,
          6.088888888888889,
          6.088888888888889,
          6.088888888888889,
          6.088888888888889,
          6.088888888888889,
          6.088888888888889,
          6.088888888888889,
          6.088888888888889,
          6.088888888888889,
          6.088888888888889,
          6.088888888888889,
          6.088888888888889,
          6.088888888888889,
          6.088888888888889,
          6.088888888888889,
          6.088888888888889,
          6.088888888888889,
          6.088888888888889,
          6.088888888888889,
          6.088888888888889,
          6.088888888888889,
          6.088888888888889,
          6.088888888888889,
          6.088888888888889,
          6.088888888888889,
          6.088888888888889,
          6.088888888888889,
          6.088888888888889,
          6.088888888888889,
          6.088888888888889,
          6.088888888888889,
          6.088888888888889,
          6.088888888888889,
          6.088888888888889,
          6.088888888888889,
          6.088888888888889,
          6.088888888888889,
          6.088888888888889,
          6.088888888888889,
          6.088888888888889,
          6.088888888888889,
          6.088888888888889,
          6.088888888888889,
          6.088888888888889
         ]
        },
        {
         "line": {
          "color": "#ff7f0e",
          "dash": "dash"
         },
         "mode": "lines",
         "name": "Average Precipitation at BODØ VI",
         "type": "scatter",
         "x": [
          "2024-12-31T00:00:00+00:00",
          "2024-12-31T00:00:00+00:00",
          "2025-01-01T00:00:00+00:00",
          "2025-01-01T00:00:00+00:00",
          "2025-01-02T00:00:00+00:00",
          "2025-01-02T00:00:00+00:00",
          "2025-01-03T00:00:00+00:00",
          "2025-01-03T00:00:00+00:00",
          "2025-01-04T00:00:00+00:00",
          "2025-01-04T00:00:00+00:00",
          "2025-01-05T00:00:00+00:00",
          "2025-01-05T00:00:00+00:00",
          "2025-01-06T00:00:00+00:00",
          "2025-01-06T00:00:00+00:00",
          "2025-01-07T00:00:00+00:00",
          "2025-01-07T00:00:00+00:00",
          "2025-01-08T00:00:00+00:00",
          "2025-01-08T00:00:00+00:00",
          "2025-01-09T00:00:00+00:00",
          "2025-01-09T00:00:00+00:00",
          "2025-01-10T00:00:00+00:00",
          "2025-01-10T00:00:00+00:00",
          "2025-01-11T00:00:00+00:00",
          "2025-01-11T00:00:00+00:00",
          "2025-01-12T00:00:00+00:00",
          "2025-01-12T00:00:00+00:00",
          "2025-01-13T00:00:00+00:00",
          "2025-01-13T00:00:00+00:00",
          "2025-01-14T00:00:00+00:00",
          "2025-01-14T00:00:00+00:00",
          "2025-01-15T00:00:00+00:00",
          "2025-01-15T00:00:00+00:00",
          "2025-01-16T00:00:00+00:00",
          "2025-01-16T00:00:00+00:00",
          "2025-01-17T00:00:00+00:00",
          "2025-01-17T00:00:00+00:00",
          "2025-01-18T00:00:00+00:00",
          "2025-01-18T00:00:00+00:00",
          "2025-01-19T00:00:00+00:00",
          "2025-01-19T00:00:00+00:00",
          "2025-01-20T00:00:00+00:00",
          "2025-01-20T00:00:00+00:00",
          "2025-01-21T00:00:00+00:00",
          "2025-01-21T00:00:00+00:00",
          "2025-01-22T00:00:00+00:00",
          "2025-01-22T00:00:00+00:00",
          "2025-01-23T00:00:00+00:00",
          "2025-01-23T00:00:00+00:00",
          "2025-01-24T00:00:00+00:00",
          "2025-01-24T00:00:00+00:00",
          "2025-01-25T00:00:00+00:00",
          "2025-01-25T00:00:00+00:00",
          "2025-01-26T00:00:00+00:00",
          "2025-01-26T00:00:00+00:00",
          "2025-01-27T00:00:00+00:00",
          "2025-01-27T00:00:00+00:00",
          "2025-01-28T00:00:00+00:00",
          "2025-01-28T00:00:00+00:00",
          "2025-01-29T00:00:00+00:00",
          "2025-01-29T00:00:00+00:00",
          "2025-01-30T00:00:00+00:00",
          "2025-01-30T00:00:00+00:00",
          "2025-01-31T00:00:00+00:00",
          "2025-01-31T00:00:00+00:00",
          "2025-02-01T00:00:00+00:00",
          "2025-02-01T00:00:00+00:00",
          "2025-02-02T00:00:00+00:00",
          "2025-02-02T00:00:00+00:00",
          "2025-02-03T00:00:00+00:00",
          "2025-02-03T00:00:00+00:00",
          "2025-02-04T00:00:00+00:00",
          "2025-02-04T00:00:00+00:00",
          "2025-02-05T00:00:00+00:00",
          "2025-02-05T00:00:00+00:00",
          "2025-02-06T00:00:00+00:00",
          "2025-02-06T00:00:00+00:00",
          "2025-02-07T00:00:00+00:00",
          "2025-02-07T00:00:00+00:00",
          "2025-02-08T00:00:00+00:00",
          "2025-02-08T00:00:00+00:00",
          "2025-02-09T00:00:00+00:00",
          "2025-02-09T00:00:00+00:00",
          "2025-02-10T00:00:00+00:00",
          "2025-02-10T00:00:00+00:00",
          "2025-02-11T00:00:00+00:00",
          "2025-02-11T00:00:00+00:00",
          "2025-02-12T00:00:00+00:00",
          "2025-02-12T00:00:00+00:00",
          "2025-02-13T00:00:00+00:00",
          "2025-02-13T00:00:00+00:00",
          "2025-02-14T00:00:00+00:00",
          "2025-02-14T00:00:00+00:00",
          "2025-02-15T00:00:00+00:00",
          "2025-02-15T00:00:00+00:00",
          "2025-02-16T00:00:00+00:00",
          "2025-02-16T00:00:00+00:00",
          "2025-02-17T00:00:00+00:00",
          "2025-02-17T00:00:00+00:00",
          "2025-02-18T00:00:00+00:00",
          "2025-02-18T00:00:00+00:00",
          "2025-02-19T00:00:00+00:00",
          "2025-02-19T00:00:00+00:00",
          "2025-02-20T00:00:00+00:00",
          "2025-02-20T00:00:00+00:00",
          "2025-02-21T00:00:00+00:00",
          "2025-02-21T00:00:00+00:00",
          "2025-02-22T00:00:00+00:00",
          "2025-02-22T00:00:00+00:00",
          "2025-02-23T00:00:00+00:00",
          "2025-02-23T00:00:00+00:00",
          "2025-02-24T00:00:00+00:00",
          "2025-02-24T00:00:00+00:00",
          "2025-02-25T00:00:00+00:00",
          "2025-02-25T00:00:00+00:00",
          "2025-02-26T00:00:00+00:00",
          "2025-02-26T00:00:00+00:00",
          "2025-02-27T00:00:00+00:00",
          "2025-02-27T00:00:00+00:00",
          "2025-02-28T00:00:00+00:00",
          "2025-02-28T00:00:00+00:00",
          "2025-03-01T00:00:00+00:00",
          "2025-03-01T00:00:00+00:00",
          "2025-03-02T00:00:00+00:00",
          "2025-03-02T00:00:00+00:00",
          "2025-03-03T00:00:00+00:00",
          "2025-03-03T00:00:00+00:00",
          "2025-03-04T00:00:00+00:00",
          "2025-03-04T00:00:00+00:00",
          "2025-03-05T00:00:00+00:00",
          "2025-03-05T00:00:00+00:00",
          "2025-03-06T00:00:00+00:00",
          "2025-03-06T00:00:00+00:00",
          "2025-03-07T00:00:00+00:00",
          "2025-03-07T00:00:00+00:00",
          "2025-03-08T00:00:00+00:00",
          "2025-03-08T00:00:00+00:00",
          "2025-03-09T00:00:00+00:00",
          "2025-03-09T00:00:00+00:00",
          "2025-03-10T00:00:00+00:00",
          "2025-03-10T00:00:00+00:00",
          "2025-03-11T00:00:00+00:00",
          "2025-03-11T00:00:00+00:00",
          "2025-03-12T00:00:00+00:00",
          "2025-03-12T00:00:00+00:00",
          "2025-03-13T00:00:00+00:00",
          "2025-03-13T00:00:00+00:00",
          "2025-03-14T00:00:00+00:00",
          "2025-03-14T00:00:00+00:00",
          "2025-03-15T00:00:00+00:00",
          "2025-03-15T00:00:00+00:00",
          "2025-03-16T00:00:00+00:00",
          "2025-03-16T00:00:00+00:00",
          "2025-03-17T00:00:00+00:00",
          "2025-03-17T00:00:00+00:00",
          "2025-03-18T00:00:00+00:00",
          "2025-03-18T00:00:00+00:00",
          "2025-03-19T00:00:00+00:00",
          "2025-03-19T00:00:00+00:00",
          "2025-03-20T00:00:00+00:00",
          "2025-03-20T00:00:00+00:00",
          "2025-03-21T00:00:00+00:00",
          "2025-03-21T00:00:00+00:00",
          "2025-03-22T00:00:00+00:00",
          "2025-03-22T00:00:00+00:00",
          "2025-03-23T00:00:00+00:00",
          "2025-03-23T00:00:00+00:00",
          "2025-03-24T00:00:00+00:00",
          "2025-03-24T00:00:00+00:00",
          "2025-03-25T00:00:00+00:00",
          "2025-03-25T00:00:00+00:00",
          "2025-03-26T00:00:00+00:00",
          "2025-03-26T00:00:00+00:00",
          "2025-03-27T00:00:00+00:00",
          "2025-03-27T00:00:00+00:00",
          "2025-03-28T00:00:00+00:00",
          "2025-03-28T00:00:00+00:00",
          "2025-03-29T00:00:00+00:00",
          "2025-03-29T00:00:00+00:00",
          "2025-03-30T00:00:00+00:00",
          "2025-03-30T00:00:00+00:00"
         ],
         "y": [
          3.907222222222222,
          3.907222222222222,
          3.907222222222222,
          3.907222222222222,
          3.907222222222222,
          3.907222222222222,
          3.907222222222222,
          3.907222222222222,
          3.907222222222222,
          3.907222222222222,
          3.907222222222222,
          3.907222222222222,
          3.907222222222222,
          3.907222222222222,
          3.907222222222222,
          3.907222222222222,
          3.907222222222222,
          3.907222222222222,
          3.907222222222222,
          3.907222222222222,
          3.907222222222222,
          3.907222222222222,
          3.907222222222222,
          3.907222222222222,
          3.907222222222222,
          3.907222222222222,
          3.907222222222222,
          3.907222222222222,
          3.907222222222222,
          3.907222222222222,
          3.907222222222222,
          3.907222222222222,
          3.907222222222222,
          3.907222222222222,
          3.907222222222222,
          3.907222222222222,
          3.907222222222222,
          3.907222222222222,
          3.907222222222222,
          3.907222222222222,
          3.907222222222222,
          3.907222222222222,
          3.907222222222222,
          3.907222222222222,
          3.907222222222222,
          3.907222222222222,
          3.907222222222222,
          3.907222222222222,
          3.907222222222222,
          3.907222222222222,
          3.907222222222222,
          3.907222222222222,
          3.907222222222222,
          3.907222222222222,
          3.907222222222222,
          3.907222222222222,
          3.907222222222222,
          3.907222222222222,
          3.907222222222222,
          3.907222222222222,
          3.907222222222222,
          3.907222222222222,
          3.907222222222222,
          3.907222222222222,
          3.907222222222222,
          3.907222222222222,
          3.907222222222222,
          3.907222222222222,
          3.907222222222222,
          3.907222222222222,
          3.907222222222222,
          3.907222222222222,
          3.907222222222222,
          3.907222222222222,
          3.907222222222222,
          3.907222222222222,
          3.907222222222222,
          3.907222222222222,
          3.907222222222222,
          3.907222222222222,
          3.907222222222222,
          3.907222222222222,
          3.907222222222222,
          3.907222222222222,
          3.907222222222222,
          3.907222222222222,
          3.907222222222222,
          3.907222222222222,
          3.907222222222222,
          3.907222222222222,
          3.907222222222222,
          3.907222222222222,
          3.907222222222222,
          3.907222222222222,
          3.907222222222222,
          3.907222222222222,
          3.907222222222222,
          3.907222222222222,
          3.907222222222222,
          3.907222222222222,
          3.907222222222222,
          3.907222222222222,
          3.907222222222222,
          3.907222222222222,
          3.907222222222222,
          3.907222222222222,
          3.907222222222222,
          3.907222222222222,
          3.907222222222222,
          3.907222222222222,
          3.907222222222222,
          3.907222222222222,
          3.907222222222222,
          3.907222222222222,
          3.907222222222222,
          3.907222222222222,
          3.907222222222222,
          3.907222222222222,
          3.907222222222222,
          3.907222222222222,
          3.907222222222222,
          3.907222222222222,
          3.907222222222222,
          3.907222222222222,
          3.907222222222222,
          3.907222222222222,
          3.907222222222222,
          3.907222222222222,
          3.907222222222222,
          3.907222222222222,
          3.907222222222222,
          3.907222222222222,
          3.907222222222222,
          3.907222222222222,
          3.907222222222222,
          3.907222222222222,
          3.907222222222222,
          3.907222222222222,
          3.907222222222222,
          3.907222222222222,
          3.907222222222222,
          3.907222222222222,
          3.907222222222222,
          3.907222222222222,
          3.907222222222222,
          3.907222222222222,
          3.907222222222222,
          3.907222222222222,
          3.907222222222222,
          3.907222222222222,
          3.907222222222222,
          3.907222222222222,
          3.907222222222222,
          3.907222222222222,
          3.907222222222222,
          3.907222222222222,
          3.907222222222222,
          3.907222222222222,
          3.907222222222222,
          3.907222222222222,
          3.907222222222222,
          3.907222222222222,
          3.907222222222222,
          3.907222222222222,
          3.907222222222222,
          3.907222222222222,
          3.907222222222222,
          3.907222222222222,
          3.907222222222222,
          3.907222222222222,
          3.907222222222222,
          3.907222222222222,
          3.907222222222222,
          3.907222222222222,
          3.907222222222222,
          3.907222222222222,
          3.907222222222222,
          3.907222222222222,
          3.907222222222222,
          3.907222222222222
         ]
        }
       ],
       "layout": {
        "legend": {
         "title": {
          "text": "Lokasjoner"
         }
        },
        "template": {
         "data": {
          "bar": [
           {
            "error_x": {
             "color": "#2a3f5f"
            },
            "error_y": {
             "color": "#2a3f5f"
            },
            "marker": {
             "line": {
              "color": "#E5ECF6",
              "width": 0.5
             },
             "pattern": {
              "fillmode": "overlay",
              "size": 10,
              "solidity": 0.2
             }
            },
            "type": "bar"
           }
          ],
          "barpolar": [
           {
            "marker": {
             "line": {
              "color": "#E5ECF6",
              "width": 0.5
             },
             "pattern": {
              "fillmode": "overlay",
              "size": 10,
              "solidity": 0.2
             }
            },
            "type": "barpolar"
           }
          ],
          "carpet": [
           {
            "aaxis": {
             "endlinecolor": "#2a3f5f",
             "gridcolor": "white",
             "linecolor": "white",
             "minorgridcolor": "white",
             "startlinecolor": "#2a3f5f"
            },
            "baxis": {
             "endlinecolor": "#2a3f5f",
             "gridcolor": "white",
             "linecolor": "white",
             "minorgridcolor": "white",
             "startlinecolor": "#2a3f5f"
            },
            "type": "carpet"
           }
          ],
          "choropleth": [
           {
            "colorbar": {
             "outlinewidth": 0,
             "ticks": ""
            },
            "type": "choropleth"
           }
          ],
          "contour": [
           {
            "colorbar": {
             "outlinewidth": 0,
             "ticks": ""
            },
            "colorscale": [
             [
              0,
              "#0d0887"
             ],
             [
              0.1111111111111111,
              "#46039f"
             ],
             [
              0.2222222222222222,
              "#7201a8"
             ],
             [
              0.3333333333333333,
              "#9c179e"
             ],
             [
              0.4444444444444444,
              "#bd3786"
             ],
             [
              0.5555555555555556,
              "#d8576b"
             ],
             [
              0.6666666666666666,
              "#ed7953"
             ],
             [
              0.7777777777777778,
              "#fb9f3a"
             ],
             [
              0.8888888888888888,
              "#fdca26"
             ],
             [
              1,
              "#f0f921"
             ]
            ],
            "type": "contour"
           }
          ],
          "contourcarpet": [
           {
            "colorbar": {
             "outlinewidth": 0,
             "ticks": ""
            },
            "type": "contourcarpet"
           }
          ],
          "heatmap": [
           {
            "colorbar": {
             "outlinewidth": 0,
             "ticks": ""
            },
            "colorscale": [
             [
              0,
              "#0d0887"
             ],
             [
              0.1111111111111111,
              "#46039f"
             ],
             [
              0.2222222222222222,
              "#7201a8"
             ],
             [
              0.3333333333333333,
              "#9c179e"
             ],
             [
              0.4444444444444444,
              "#bd3786"
             ],
             [
              0.5555555555555556,
              "#d8576b"
             ],
             [
              0.6666666666666666,
              "#ed7953"
             ],
             [
              0.7777777777777778,
              "#fb9f3a"
             ],
             [
              0.8888888888888888,
              "#fdca26"
             ],
             [
              1,
              "#f0f921"
             ]
            ],
            "type": "heatmap"
           }
          ],
          "histogram": [
           {
            "marker": {
             "pattern": {
              "fillmode": "overlay",
              "size": 10,
              "solidity": 0.2
             }
            },
            "type": "histogram"
           }
          ],
          "histogram2d": [
           {
            "colorbar": {
             "outlinewidth": 0,
             "ticks": ""
            },
            "colorscale": [
             [
              0,
              "#0d0887"
             ],
             [
              0.1111111111111111,
              "#46039f"
             ],
             [
              0.2222222222222222,
              "#7201a8"
             ],
             [
              0.3333333333333333,
              "#9c179e"
             ],
             [
              0.4444444444444444,
              "#bd3786"
             ],
             [
              0.5555555555555556,
              "#d8576b"
             ],
             [
              0.6666666666666666,
              "#ed7953"
             ],
             [
              0.7777777777777778,
              "#fb9f3a"
             ],
             [
              0.8888888888888888,
              "#fdca26"
             ],
             [
              1,
              "#f0f921"
             ]
            ],
            "type": "histogram2d"
           }
          ],
          "histogram2dcontour": [
           {
            "colorbar": {
             "outlinewidth": 0,
             "ticks": ""
            },
            "colorscale": [
             [
              0,
              "#0d0887"
             ],
             [
              0.1111111111111111,
              "#46039f"
             ],
             [
              0.2222222222222222,
              "#7201a8"
             ],
             [
              0.3333333333333333,
              "#9c179e"
             ],
             [
              0.4444444444444444,
              "#bd3786"
             ],
             [
              0.5555555555555556,
              "#d8576b"
             ],
             [
              0.6666666666666666,
              "#ed7953"
             ],
             [
              0.7777777777777778,
              "#fb9f3a"
             ],
             [
              0.8888888888888888,
              "#fdca26"
             ],
             [
              1,
              "#f0f921"
             ]
            ],
            "type": "histogram2dcontour"
           }
          ],
          "mesh3d": [
           {
            "colorbar": {
             "outlinewidth": 0,
             "ticks": ""
            },
            "type": "mesh3d"
           }
          ],
          "parcoords": [
           {
            "line": {
             "colorbar": {
              "outlinewidth": 0,
              "ticks": ""
             }
            },
            "type": "parcoords"
           }
          ],
          "pie": [
           {
            "automargin": true,
            "type": "pie"
           }
          ],
          "scatter": [
           {
            "fillpattern": {
             "fillmode": "overlay",
             "size": 10,
             "solidity": 0.2
            },
            "type": "scatter"
           }
          ],
          "scatter3d": [
           {
            "line": {
             "colorbar": {
              "outlinewidth": 0,
              "ticks": ""
             }
            },
            "marker": {
             "colorbar": {
              "outlinewidth": 0,
              "ticks": ""
             }
            },
            "type": "scatter3d"
           }
          ],
          "scattercarpet": [
           {
            "marker": {
             "colorbar": {
              "outlinewidth": 0,
              "ticks": ""
             }
            },
            "type": "scattercarpet"
           }
          ],
          "scattergeo": [
           {
            "marker": {
             "colorbar": {
              "outlinewidth": 0,
              "ticks": ""
             }
            },
            "type": "scattergeo"
           }
          ],
          "scattergl": [
           {
            "marker": {
             "colorbar": {
              "outlinewidth": 0,
              "ticks": ""
             }
            },
            "type": "scattergl"
           }
          ],
          "scattermap": [
           {
            "marker": {
             "colorbar": {
              "outlinewidth": 0,
              "ticks": ""
             }
            },
            "type": "scattermap"
           }
          ],
          "scattermapbox": [
           {
            "marker": {
             "colorbar": {
              "outlinewidth": 0,
              "ticks": ""
             }
            },
            "type": "scattermapbox"
           }
          ],
          "scatterpolar": [
           {
            "marker": {
             "colorbar": {
              "outlinewidth": 0,
              "ticks": ""
             }
            },
            "type": "scatterpolar"
           }
          ],
          "scatterpolargl": [
           {
            "marker": {
             "colorbar": {
              "outlinewidth": 0,
              "ticks": ""
             }
            },
            "type": "scatterpolargl"
           }
          ],
          "scatterternary": [
           {
            "marker": {
             "colorbar": {
              "outlinewidth": 0,
              "ticks": ""
             }
            },
            "type": "scatterternary"
           }
          ],
          "surface": [
           {
            "colorbar": {
             "outlinewidth": 0,
             "ticks": ""
            },
            "colorscale": [
             [
              0,
              "#0d0887"
             ],
             [
              0.1111111111111111,
              "#46039f"
             ],
             [
              0.2222222222222222,
              "#7201a8"
             ],
             [
              0.3333333333333333,
              "#9c179e"
             ],
             [
              0.4444444444444444,
              "#bd3786"
             ],
             [
              0.5555555555555556,
              "#d8576b"
             ],
             [
              0.6666666666666666,
              "#ed7953"
             ],
             [
              0.7777777777777778,
              "#fb9f3a"
             ],
             [
              0.8888888888888888,
              "#fdca26"
             ],
             [
              1,
              "#f0f921"
             ]
            ],
            "type": "surface"
           }
          ],
          "table": [
           {
            "cells": {
             "fill": {
              "color": "#EBF0F8"
             },
             "line": {
              "color": "white"
             }
            },
            "header": {
             "fill": {
              "color": "#C8D4E3"
             },
             "line": {
              "color": "white"
             }
            },
            "type": "table"
           }
          ]
         },
         "layout": {
          "annotationdefaults": {
           "arrowcolor": "#2a3f5f",
           "arrowhead": 0,
           "arrowwidth": 1
          },
          "autotypenumbers": "strict",
          "coloraxis": {
           "colorbar": {
            "outlinewidth": 0,
            "ticks": ""
           }
          },
          "colorscale": {
           "diverging": [
            [
             0,
             "#8e0152"
            ],
            [
             0.1,
             "#c51b7d"
            ],
            [
             0.2,
             "#de77ae"
            ],
            [
             0.3,
             "#f1b6da"
            ],
            [
             0.4,
             "#fde0ef"
            ],
            [
             0.5,
             "#f7f7f7"
            ],
            [
             0.6,
             "#e6f5d0"
            ],
            [
             0.7,
             "#b8e186"
            ],
            [
             0.8,
             "#7fbc41"
            ],
            [
             0.9,
             "#4d9221"
            ],
            [
             1,
             "#276419"
            ]
           ],
           "sequential": [
            [
             0,
             "#0d0887"
            ],
            [
             0.1111111111111111,
             "#46039f"
            ],
            [
             0.2222222222222222,
             "#7201a8"
            ],
            [
             0.3333333333333333,
             "#9c179e"
            ],
            [
             0.4444444444444444,
             "#bd3786"
            ],
            [
             0.5555555555555556,
             "#d8576b"
            ],
            [
             0.6666666666666666,
             "#ed7953"
            ],
            [
             0.7777777777777778,
             "#fb9f3a"
            ],
            [
             0.8888888888888888,
             "#fdca26"
            ],
            [
             1,
             "#f0f921"
            ]
           ],
           "sequentialminus": [
            [
             0,
             "#0d0887"
            ],
            [
             0.1111111111111111,
             "#46039f"
            ],
            [
             0.2222222222222222,
             "#7201a8"
            ],
            [
             0.3333333333333333,
             "#9c179e"
            ],
            [
             0.4444444444444444,
             "#bd3786"
            ],
            [
             0.5555555555555556,
             "#d8576b"
            ],
            [
             0.6666666666666666,
             "#ed7953"
            ],
            [
             0.7777777777777778,
             "#fb9f3a"
            ],
            [
             0.8888888888888888,
             "#fdca26"
            ],
            [
             1,
             "#f0f921"
            ]
           ]
          },
          "colorway": [
           "#636efa",
           "#EF553B",
           "#00cc96",
           "#ab63fa",
           "#FFA15A",
           "#19d3f3",
           "#FF6692",
           "#B6E880",
           "#FF97FF",
           "#FECB52"
          ],
          "font": {
           "color": "#2a3f5f"
          },
          "geo": {
           "bgcolor": "white",
           "lakecolor": "white",
           "landcolor": "#E5ECF6",
           "showlakes": true,
           "showland": true,
           "subunitcolor": "white"
          },
          "hoverlabel": {
           "align": "left"
          },
          "hovermode": "closest",
          "mapbox": {
           "style": "light"
          },
          "paper_bgcolor": "white",
          "plot_bgcolor": "#E5ECF6",
          "polar": {
           "angularaxis": {
            "gridcolor": "white",
            "linecolor": "white",
            "ticks": ""
           },
           "bgcolor": "#E5ECF6",
           "radialaxis": {
            "gridcolor": "white",
            "linecolor": "white",
            "ticks": ""
           }
          },
          "scene": {
           "xaxis": {
            "backgroundcolor": "#E5ECF6",
            "gridcolor": "white",
            "gridwidth": 2,
            "linecolor": "white",
            "showbackground": true,
            "ticks": "",
            "zerolinecolor": "white"
           },
           "yaxis": {
            "backgroundcolor": "#E5ECF6",
            "gridcolor": "white",
            "gridwidth": 2,
            "linecolor": "white",
            "showbackground": true,
            "ticks": "",
            "zerolinecolor": "white"
           },
           "zaxis": {
            "backgroundcolor": "#E5ECF6",
            "gridcolor": "white",
            "gridwidth": 2,
            "linecolor": "white",
            "showbackground": true,
            "ticks": "",
            "zerolinecolor": "white"
           }
          },
          "shapedefaults": {
           "line": {
            "color": "#2a3f5f"
           }
          },
          "ternary": {
           "aaxis": {
            "gridcolor": "white",
            "linecolor": "white",
            "ticks": ""
           },
           "baxis": {
            "gridcolor": "white",
            "linecolor": "white",
            "ticks": ""
           },
           "bgcolor": "#E5ECF6",
           "caxis": {
            "gridcolor": "white",
            "linecolor": "white",
            "ticks": ""
           }
          },
          "title": {
           "x": 0.05
          },
          "xaxis": {
           "automargin": true,
           "gridcolor": "white",
           "linecolor": "white",
           "ticks": "",
           "title": {
            "standoff": 15
           },
           "zerolinecolor": "white",
           "zerolinewidth": 2
          },
          "yaxis": {
           "automargin": true,
           "gridcolor": "white",
           "linecolor": "white",
           "ticks": "",
           "title": {
            "standoff": 15
           },
           "zerolinecolor": "white",
           "zerolinewidth": 2
          }
         }
        },
        "title": {
         "text": "Nedbør over tid"
        },
        "xaxis": {
         "title": {
          "text": "Dato"
         }
        },
        "yaxis": {
         "title": {
          "text": "Nedbør (mm)"
         }
        }
       }
      }
     },
     "metadata": {},
     "output_type": "display_data"
    },
    {
     "data": {
      "application/vnd.plotly.v1+json": {
       "config": {
        "plotlyServerURL": "https://plot.ly"
       },
       "data": [
        {
         "line": {
          "color": "#1f77b4"
         },
         "mode": "lines",
         "name": "Wind Speed at TROMSØ",
         "type": "scatter",
         "x": [
          "2024-12-31T00:00:00+00:00",
          "2025-01-01T00:00:00+00:00",
          "2025-01-02T00:00:00+00:00",
          "2025-01-03T00:00:00+00:00",
          "2025-01-04T00:00:00+00:00",
          "2025-01-05T00:00:00+00:00",
          "2025-01-06T00:00:00+00:00",
          "2025-01-07T00:00:00+00:00",
          "2025-01-08T00:00:00+00:00",
          "2025-01-09T00:00:00+00:00",
          "2025-01-10T00:00:00+00:00",
          "2025-01-11T00:00:00+00:00",
          "2025-01-12T00:00:00+00:00",
          "2025-01-13T00:00:00+00:00",
          "2025-01-14T00:00:00+00:00",
          "2025-01-15T00:00:00+00:00",
          "2025-01-16T00:00:00+00:00",
          "2025-01-17T00:00:00+00:00",
          "2025-01-18T00:00:00+00:00",
          "2025-01-19T00:00:00+00:00",
          "2025-01-20T00:00:00+00:00",
          "2025-01-21T00:00:00+00:00",
          "2025-01-22T00:00:00+00:00",
          "2025-01-23T00:00:00+00:00",
          "2025-01-24T00:00:00+00:00",
          "2025-01-25T00:00:00+00:00",
          "2025-01-26T00:00:00+00:00",
          "2025-01-27T00:00:00+00:00",
          "2025-01-28T00:00:00+00:00",
          "2025-01-29T00:00:00+00:00",
          "2025-01-30T00:00:00+00:00",
          "2025-01-31T00:00:00+00:00",
          "2025-02-01T00:00:00+00:00",
          "2025-02-02T00:00:00+00:00",
          "2025-02-03T00:00:00+00:00",
          "2025-02-04T00:00:00+00:00",
          "2025-02-05T00:00:00+00:00",
          "2025-02-06T00:00:00+00:00",
          "2025-02-07T00:00:00+00:00",
          "2025-02-08T00:00:00+00:00",
          "2025-02-09T00:00:00+00:00",
          "2025-02-10T00:00:00+00:00",
          "2025-02-11T00:00:00+00:00",
          "2025-02-12T00:00:00+00:00",
          "2025-02-13T00:00:00+00:00",
          "2025-02-14T00:00:00+00:00",
          "2025-02-15T00:00:00+00:00",
          "2025-02-16T00:00:00+00:00",
          "2025-02-17T00:00:00+00:00",
          "2025-02-18T00:00:00+00:00",
          "2025-02-19T00:00:00+00:00",
          "2025-02-20T00:00:00+00:00",
          "2025-02-21T00:00:00+00:00",
          "2025-02-22T00:00:00+00:00",
          "2025-02-23T00:00:00+00:00",
          "2025-02-24T00:00:00+00:00",
          "2025-02-25T00:00:00+00:00",
          "2025-02-26T00:00:00+00:00",
          "2025-02-27T00:00:00+00:00",
          "2025-02-28T00:00:00+00:00",
          "2025-03-01T00:00:00+00:00",
          "2025-03-02T00:00:00+00:00",
          "2025-03-03T00:00:00+00:00",
          "2025-03-04T00:00:00+00:00",
          "2025-03-05T00:00:00+00:00",
          "2025-03-06T00:00:00+00:00",
          "2025-03-07T00:00:00+00:00",
          "2025-03-08T00:00:00+00:00",
          "2025-03-09T00:00:00+00:00",
          "2025-03-10T00:00:00+00:00",
          "2025-03-11T00:00:00+00:00",
          "2025-03-12T00:00:00+00:00",
          "2025-03-13T00:00:00+00:00",
          "2025-03-14T00:00:00+00:00",
          "2025-03-15T00:00:00+00:00",
          "2025-03-16T00:00:00+00:00",
          "2025-03-17T00:00:00+00:00",
          "2025-03-18T00:00:00+00:00",
          "2025-03-19T00:00:00+00:00",
          "2025-03-20T00:00:00+00:00",
          "2025-03-21T00:00:00+00:00",
          "2025-03-22T00:00:00+00:00",
          "2025-03-23T00:00:00+00:00",
          "2025-03-24T00:00:00+00:00",
          "2025-03-25T00:00:00+00:00",
          "2025-03-26T00:00:00+00:00",
          "2025-03-27T00:00:00+00:00",
          "2025-03-28T00:00:00+00:00",
          "2025-03-29T00:00:00+00:00",
          "2025-03-30T00:00:00+00:00"
         ],
         "y": {
          "bdata": "mpmZmZmZEUCamZmZmZkBQDMzMzMzMwNAzczMzMzMEkBmZmZmZmYGQM3MzMzMzABAmpmZmZmZAUDNzMzMzMz0PwAAAAAAAABAzczMzMzMCEAAAAAAAAAYQJqZmZmZmRFAZmZmZmZmBkAAAAAAAAAcQJqZmZmZmQlAMzMzMzMzH0AAAAAAAAAYQDMzMzMzMxtAMzMzMzMzFUDNzMzMzMwMQGZmZmZmZvY/AAAAAAAADEDNzMzMzMwWQM3MzMzMzBpAzczMzMzMAEDNzMzMzMwEQJqZmZmZmRNAzczMzMzMCEAAAAAAAAAWQAAAAAAAABRAZmZmZmZmCkCamZmZmZkNQDMzMzMzMwNAZmZmZmZmEkDNzMzMzMwgQM3MzMzMzCJAMzMzMzMzH0AzMzMzMzMhQDMzMzMzMyBAmpmZmZmZF0DNzMzMzMwYQGZmZmZmZhZAmpmZmZmZF0DNzMzMzMz8PzMzMzMzM/M/AAAAAAAABEBmZmZmZmYCQM3MzMzMzPQ/zczMzMzMAEDNzMzMzMwEQDMzMzMzMw9AAAAAAAAAFkAAAAAAAAAUQJqZmZmZmRdAzczMzMzMGkBmZmZmZmYUQAAAAAAAABZAmpmZmZmZCUAAAAAAAAAQQAAAAAAAAAxAAAAAAAAAFkDNzMzMzMwQQAAAAAAAABJAzczMzMzM/D8zMzMzMzMDQGZmZmZmZg5AAAAAAAAABEDNzMzMzMz8P5qZmZmZmQVAzczMzMzMDEAAAAAAAAAAQDMzMzMzMwNAMzMzMzMzGUDNzMzMzMwMQDMzMzMzMxVAzczMzMzMCEAAAAAAAAAEQGZmZmZmZhZAmpmZmZmZCUCamZmZmZkBQJqZmZmZmRVAzczMzMzMHkDNzMzMzMwcQM3MzMzMzBZAzczMzMzMDEAzMzMzMzMHQJqZmZmZmQFAZmZmZmZm/j8AAAAAAAAMQDMzMzMzM/M/",
          "dtype": "f8"
         }
        },
        {
         "line": {
          "color": "#ff7f0e"
         },
         "mode": "lines",
         "name": "Wind Speed at BODØ VI",
         "type": "scatter",
         "x": [
          "2024-12-31T00:00:00+00:00",
          "2025-01-01T00:00:00+00:00",
          "2025-01-02T00:00:00+00:00",
          "2025-01-03T00:00:00+00:00",
          "2025-01-04T00:00:00+00:00",
          "2025-01-05T00:00:00+00:00",
          "2025-01-06T00:00:00+00:00",
          "2025-01-07T00:00:00+00:00",
          "2025-01-08T00:00:00+00:00",
          "2025-01-09T00:00:00+00:00",
          "2025-01-10T00:00:00+00:00",
          "2025-01-11T00:00:00+00:00",
          "2025-01-12T00:00:00+00:00",
          "2025-01-13T00:00:00+00:00",
          "2025-01-14T00:00:00+00:00",
          "2025-01-15T00:00:00+00:00",
          "2025-01-16T00:00:00+00:00",
          "2025-01-17T00:00:00+00:00",
          "2025-01-18T00:00:00+00:00",
          "2025-01-19T00:00:00+00:00",
          "2025-01-20T00:00:00+00:00",
          "2025-01-21T00:00:00+00:00",
          "2025-01-22T00:00:00+00:00",
          "2025-01-23T00:00:00+00:00",
          "2025-01-24T00:00:00+00:00",
          "2025-01-25T00:00:00+00:00",
          "2025-01-26T00:00:00+00:00",
          "2025-01-27T00:00:00+00:00",
          "2025-01-28T00:00:00+00:00",
          "2025-01-29T00:00:00+00:00",
          "2025-01-30T00:00:00+00:00",
          "2025-01-31T00:00:00+00:00",
          "2025-02-01T00:00:00+00:00",
          "2025-02-02T00:00:00+00:00",
          "2025-02-03T00:00:00+00:00",
          "2025-02-04T00:00:00+00:00",
          "2025-02-05T00:00:00+00:00",
          "2025-02-06T00:00:00+00:00",
          "2025-02-07T00:00:00+00:00",
          "2025-02-08T00:00:00+00:00",
          "2025-02-09T00:00:00+00:00",
          "2025-02-10T00:00:00+00:00",
          "2025-02-11T00:00:00+00:00",
          "2025-02-12T00:00:00+00:00",
          "2025-02-13T00:00:00+00:00",
          "2025-02-14T00:00:00+00:00",
          "2025-02-15T00:00:00+00:00",
          "2025-02-16T00:00:00+00:00",
          "2025-02-17T00:00:00+00:00",
          "2025-02-18T00:00:00+00:00",
          "2025-02-19T00:00:00+00:00",
          "2025-02-20T00:00:00+00:00",
          "2025-02-21T00:00:00+00:00",
          "2025-02-22T00:00:00+00:00",
          "2025-02-23T00:00:00+00:00",
          "2025-02-24T00:00:00+00:00",
          "2025-02-25T00:00:00+00:00",
          "2025-02-26T00:00:00+00:00",
          "2025-02-27T00:00:00+00:00",
          "2025-02-28T00:00:00+00:00",
          "2025-03-01T00:00:00+00:00",
          "2025-03-02T00:00:00+00:00",
          "2025-03-03T00:00:00+00:00",
          "2025-03-04T00:00:00+00:00",
          "2025-03-05T00:00:00+00:00",
          "2025-03-06T00:00:00+00:00",
          "2025-03-07T00:00:00+00:00",
          "2025-03-08T00:00:00+00:00",
          "2025-03-09T00:00:00+00:00",
          "2025-03-10T00:00:00+00:00",
          "2025-03-11T00:00:00+00:00",
          "2025-03-12T00:00:00+00:00",
          "2025-03-13T00:00:00+00:00",
          "2025-03-14T00:00:00+00:00",
          "2025-03-15T00:00:00+00:00",
          "2025-03-16T00:00:00+00:00",
          "2025-03-17T00:00:00+00:00",
          "2025-03-18T00:00:00+00:00",
          "2025-03-19T00:00:00+00:00",
          "2025-03-20T00:00:00+00:00",
          "2025-03-21T00:00:00+00:00",
          "2025-03-22T00:00:00+00:00",
          "2025-03-23T00:00:00+00:00",
          "2025-03-24T00:00:00+00:00",
          "2025-03-25T00:00:00+00:00",
          "2025-03-26T00:00:00+00:00",
          "2025-03-27T00:00:00+00:00",
          "2025-03-28T00:00:00+00:00",
          "2025-03-29T00:00:00+00:00",
          "2025-03-30T00:00:00+00:00"
         ],
         "y": {
          "bdata": "AAAAAAAAI0DNzMzMzMwaQJqZmZmZmSVAZmZmZmZmGEAzMzMzMzMVQGZmZmZmZiBAZmZmZmZmIkAAAAAAAAAoQM3MzMzMzCZAAAAAAAAAIUBmZmZmZmYcQAAAAAAAACNAmpmZmZmZKkBmZmZmZmYsQJqZmZmZmRtAzczMzMzMJ0BmZmZmZmYnQDMzMzMzMytAMzMzMzMzJkDNzMzMzMweQM3MzMzMzCJAMzMzMzMzJkAAAAAAAAAeQJqZmZmZmR1AAAAAAAAAJ0CamZmZmZksQDMzMzMzMyVAZmZmZmZmIEBmZmZmZmYeQM3MzMzMzCFAMzMzMzMzFUCamZmZmZkXQGZmZmZmZg5AZmZmZmZmIkBmZmZmZmYrQDMzMzMzszFAMzMzMzMzJkCamZmZmRkwQAAAAAAAACNAzczMzMzMHEDNzMzMzMwgQGZmZmZmZiJAMzMzMzMzJUAAAAAAAAAEQGZmZmZmZg5AAAAAAAAAEEAAAAAAAAAUQGZmZmZmZhBAMzMzMzMzC0DNzMzMzMwSQGZmZmZmZhxAZmZmZmZmIECamZmZmZkhQM3MzMzMzBxAmpmZmZmZH0AAAAAAAAAcQGZmZmZmZhRAmpmZmZmZG0CamZmZmZkTQM3MzMzMzBhAAAAAAAAAHkCamZmZmZkZQGZmZmZmZiRAzczMzMzMIEBmZmZmZmYhQM3MzMzMzBhAMzMzMzMzH0DNzMzMzMwjQAAAAAAAABJAMzMzMzMzEUAAAAAAAAAcQGZmZmZmZhhAAAAAAAAAGkBmZmZmZmYeQAAAAAAAACJAMzMzMzMzHUCamZmZmZkjQAAAAAAAAC5AzczMzMzMHkAAAAAAAAAQQDMzMzMzMxtAmpmZmZmZIEDNzMzMzMweQGZmZmZmZiJAZmZmZmZmJEDNzMzMzMweQM3MzMzMzCRAMzMzMzMzGUAzMzMzMzMbQJqZmZmZmQVA",
          "dtype": "f8"
         }
        },
        {
         "line": {
          "color": "#1f77b4",
          "dash": "dash"
         },
         "mode": "lines",
         "name": "Average Wind Speed at TROMSØ",
         "type": "scatter",
         "x": [
          "2024-12-31T00:00:00+00:00",
          "2025-01-01T00:00:00+00:00",
          "2025-01-02T00:00:00+00:00",
          "2025-01-03T00:00:00+00:00",
          "2025-01-04T00:00:00+00:00",
          "2025-01-05T00:00:00+00:00",
          "2025-01-06T00:00:00+00:00",
          "2025-01-07T00:00:00+00:00",
          "2025-01-08T00:00:00+00:00",
          "2025-01-09T00:00:00+00:00",
          "2025-01-10T00:00:00+00:00",
          "2025-01-11T00:00:00+00:00",
          "2025-01-12T00:00:00+00:00",
          "2025-01-13T00:00:00+00:00",
          "2025-01-14T00:00:00+00:00",
          "2025-01-15T00:00:00+00:00",
          "2025-01-16T00:00:00+00:00",
          "2025-01-17T00:00:00+00:00",
          "2025-01-18T00:00:00+00:00",
          "2025-01-19T00:00:00+00:00",
          "2025-01-20T00:00:00+00:00",
          "2025-01-21T00:00:00+00:00",
          "2025-01-22T00:00:00+00:00",
          "2025-01-23T00:00:00+00:00",
          "2025-01-24T00:00:00+00:00",
          "2025-01-25T00:00:00+00:00",
          "2025-01-26T00:00:00+00:00",
          "2025-01-27T00:00:00+00:00",
          "2025-01-28T00:00:00+00:00",
          "2025-01-29T00:00:00+00:00",
          "2025-01-30T00:00:00+00:00",
          "2025-01-31T00:00:00+00:00",
          "2025-02-01T00:00:00+00:00",
          "2025-02-02T00:00:00+00:00",
          "2025-02-03T00:00:00+00:00",
          "2025-02-04T00:00:00+00:00",
          "2025-02-05T00:00:00+00:00",
          "2025-02-06T00:00:00+00:00",
          "2025-02-07T00:00:00+00:00",
          "2025-02-08T00:00:00+00:00",
          "2025-02-09T00:00:00+00:00",
          "2025-02-10T00:00:00+00:00",
          "2025-02-11T00:00:00+00:00",
          "2025-02-12T00:00:00+00:00",
          "2025-02-13T00:00:00+00:00",
          "2025-02-14T00:00:00+00:00",
          "2025-02-15T00:00:00+00:00",
          "2025-02-16T00:00:00+00:00",
          "2025-02-17T00:00:00+00:00",
          "2025-02-18T00:00:00+00:00",
          "2025-02-19T00:00:00+00:00",
          "2025-02-20T00:00:00+00:00",
          "2025-02-21T00:00:00+00:00",
          "2025-02-22T00:00:00+00:00",
          "2025-02-23T00:00:00+00:00",
          "2025-02-24T00:00:00+00:00",
          "2025-02-25T00:00:00+00:00",
          "2025-02-26T00:00:00+00:00",
          "2025-02-27T00:00:00+00:00",
          "2025-02-28T00:00:00+00:00",
          "2025-03-01T00:00:00+00:00",
          "2025-03-02T00:00:00+00:00",
          "2025-03-03T00:00:00+00:00",
          "2025-03-04T00:00:00+00:00",
          "2025-03-05T00:00:00+00:00",
          "2025-03-06T00:00:00+00:00",
          "2025-03-07T00:00:00+00:00",
          "2025-03-08T00:00:00+00:00",
          "2025-03-09T00:00:00+00:00",
          "2025-03-10T00:00:00+00:00",
          "2025-03-11T00:00:00+00:00",
          "2025-03-12T00:00:00+00:00",
          "2025-03-13T00:00:00+00:00",
          "2025-03-14T00:00:00+00:00",
          "2025-03-15T00:00:00+00:00",
          "2025-03-16T00:00:00+00:00",
          "2025-03-17T00:00:00+00:00",
          "2025-03-18T00:00:00+00:00",
          "2025-03-19T00:00:00+00:00",
          "2025-03-20T00:00:00+00:00",
          "2025-03-21T00:00:00+00:00",
          "2025-03-22T00:00:00+00:00",
          "2025-03-23T00:00:00+00:00",
          "2025-03-24T00:00:00+00:00",
          "2025-03-25T00:00:00+00:00",
          "2025-03-26T00:00:00+00:00",
          "2025-03-27T00:00:00+00:00",
          "2025-03-28T00:00:00+00:00",
          "2025-03-29T00:00:00+00:00",
          "2025-03-30T00:00:00+00:00"
         ],
         "y": [
          4.1433333333333335,
          4.1433333333333335,
          4.1433333333333335,
          4.1433333333333335,
          4.1433333333333335,
          4.1433333333333335,
          4.1433333333333335,
          4.1433333333333335,
          4.1433333333333335,
          4.1433333333333335,
          4.1433333333333335,
          4.1433333333333335,
          4.1433333333333335,
          4.1433333333333335,
          4.1433333333333335,
          4.1433333333333335,
          4.1433333333333335,
          4.1433333333333335,
          4.1433333333333335,
          4.1433333333333335,
          4.1433333333333335,
          4.1433333333333335,
          4.1433333333333335,
          4.1433333333333335,
          4.1433333333333335,
          4.1433333333333335,
          4.1433333333333335,
          4.1433333333333335,
          4.1433333333333335,
          4.1433333333333335,
          4.1433333333333335,
          4.1433333333333335,
          4.1433333333333335,
          4.1433333333333335,
          4.1433333333333335,
          4.1433333333333335,
          4.1433333333333335,
          4.1433333333333335,
          4.1433333333333335,
          4.1433333333333335,
          4.1433333333333335,
          4.1433333333333335,
          4.1433333333333335,
          4.1433333333333335,
          4.1433333333333335,
          4.1433333333333335,
          4.1433333333333335,
          4.1433333333333335,
          4.1433333333333335,
          4.1433333333333335,
          4.1433333333333335,
          4.1433333333333335,
          4.1433333333333335,
          4.1433333333333335,
          4.1433333333333335,
          4.1433333333333335,
          4.1433333333333335,
          4.1433333333333335,
          4.1433333333333335,
          4.1433333333333335,
          4.1433333333333335,
          4.1433333333333335,
          4.1433333333333335,
          4.1433333333333335,
          4.1433333333333335,
          4.1433333333333335,
          4.1433333333333335,
          4.1433333333333335,
          4.1433333333333335,
          4.1433333333333335,
          4.1433333333333335,
          4.1433333333333335,
          4.1433333333333335,
          4.1433333333333335,
          4.1433333333333335,
          4.1433333333333335,
          4.1433333333333335,
          4.1433333333333335,
          4.1433333333333335,
          4.1433333333333335,
          4.1433333333333335,
          4.1433333333333335,
          4.1433333333333335,
          4.1433333333333335,
          4.1433333333333335,
          4.1433333333333335,
          4.1433333333333335,
          4.1433333333333335,
          4.1433333333333335,
          4.1433333333333335
         ]
        },
        {
         "line": {
          "color": "#ff7f0e",
          "dash": "dash"
         },
         "mode": "lines",
         "name": "Average Wind Speed at BODØ VI",
         "type": "scatter",
         "x": [
          "2024-12-31T00:00:00+00:00",
          "2025-01-01T00:00:00+00:00",
          "2025-01-02T00:00:00+00:00",
          "2025-01-03T00:00:00+00:00",
          "2025-01-04T00:00:00+00:00",
          "2025-01-05T00:00:00+00:00",
          "2025-01-06T00:00:00+00:00",
          "2025-01-07T00:00:00+00:00",
          "2025-01-08T00:00:00+00:00",
          "2025-01-09T00:00:00+00:00",
          "2025-01-10T00:00:00+00:00",
          "2025-01-11T00:00:00+00:00",
          "2025-01-12T00:00:00+00:00",
          "2025-01-13T00:00:00+00:00",
          "2025-01-14T00:00:00+00:00",
          "2025-01-15T00:00:00+00:00",
          "2025-01-16T00:00:00+00:00",
          "2025-01-17T00:00:00+00:00",
          "2025-01-18T00:00:00+00:00",
          "2025-01-19T00:00:00+00:00",
          "2025-01-20T00:00:00+00:00",
          "2025-01-21T00:00:00+00:00",
          "2025-01-22T00:00:00+00:00",
          "2025-01-23T00:00:00+00:00",
          "2025-01-24T00:00:00+00:00",
          "2025-01-25T00:00:00+00:00",
          "2025-01-26T00:00:00+00:00",
          "2025-01-27T00:00:00+00:00",
          "2025-01-28T00:00:00+00:00",
          "2025-01-29T00:00:00+00:00",
          "2025-01-30T00:00:00+00:00",
          "2025-01-31T00:00:00+00:00",
          "2025-02-01T00:00:00+00:00",
          "2025-02-02T00:00:00+00:00",
          "2025-02-03T00:00:00+00:00",
          "2025-02-04T00:00:00+00:00",
          "2025-02-05T00:00:00+00:00",
          "2025-02-06T00:00:00+00:00",
          "2025-02-07T00:00:00+00:00",
          "2025-02-08T00:00:00+00:00",
          "2025-02-09T00:00:00+00:00",
          "2025-02-10T00:00:00+00:00",
          "2025-02-11T00:00:00+00:00",
          "2025-02-12T00:00:00+00:00",
          "2025-02-13T00:00:00+00:00",
          "2025-02-14T00:00:00+00:00",
          "2025-02-15T00:00:00+00:00",
          "2025-02-16T00:00:00+00:00",
          "2025-02-17T00:00:00+00:00",
          "2025-02-18T00:00:00+00:00",
          "2025-02-19T00:00:00+00:00",
          "2025-02-20T00:00:00+00:00",
          "2025-02-21T00:00:00+00:00",
          "2025-02-22T00:00:00+00:00",
          "2025-02-23T00:00:00+00:00",
          "2025-02-24T00:00:00+00:00",
          "2025-02-25T00:00:00+00:00",
          "2025-02-26T00:00:00+00:00",
          "2025-02-27T00:00:00+00:00",
          "2025-02-28T00:00:00+00:00",
          "2025-03-01T00:00:00+00:00",
          "2025-03-02T00:00:00+00:00",
          "2025-03-03T00:00:00+00:00",
          "2025-03-04T00:00:00+00:00",
          "2025-03-05T00:00:00+00:00",
          "2025-03-06T00:00:00+00:00",
          "2025-03-07T00:00:00+00:00",
          "2025-03-08T00:00:00+00:00",
          "2025-03-09T00:00:00+00:00",
          "2025-03-10T00:00:00+00:00",
          "2025-03-11T00:00:00+00:00",
          "2025-03-12T00:00:00+00:00",
          "2025-03-13T00:00:00+00:00",
          "2025-03-14T00:00:00+00:00",
          "2025-03-15T00:00:00+00:00",
          "2025-03-16T00:00:00+00:00",
          "2025-03-17T00:00:00+00:00",
          "2025-03-18T00:00:00+00:00",
          "2025-03-19T00:00:00+00:00",
          "2025-03-20T00:00:00+00:00",
          "2025-03-21T00:00:00+00:00",
          "2025-03-22T00:00:00+00:00",
          "2025-03-23T00:00:00+00:00",
          "2025-03-24T00:00:00+00:00",
          "2025-03-25T00:00:00+00:00",
          "2025-03-26T00:00:00+00:00",
          "2025-03-27T00:00:00+00:00",
          "2025-03-28T00:00:00+00:00",
          "2025-03-29T00:00:00+00:00",
          "2025-03-30T00:00:00+00:00"
         ],
         "y": [
          8.285555555555556,
          8.285555555555556,
          8.285555555555556,
          8.285555555555556,
          8.285555555555556,
          8.285555555555556,
          8.285555555555556,
          8.285555555555556,
          8.285555555555556,
          8.285555555555556,
          8.285555555555556,
          8.285555555555556,
          8.285555555555556,
          8.285555555555556,
          8.285555555555556,
          8.285555555555556,
          8.285555555555556,
          8.285555555555556,
          8.285555555555556,
          8.285555555555556,
          8.285555555555556,
          8.285555555555556,
          8.285555555555556,
          8.285555555555556,
          8.285555555555556,
          8.285555555555556,
          8.285555555555556,
          8.285555555555556,
          8.285555555555556,
          8.285555555555556,
          8.285555555555556,
          8.285555555555556,
          8.285555555555556,
          8.285555555555556,
          8.285555555555556,
          8.285555555555556,
          8.285555555555556,
          8.285555555555556,
          8.285555555555556,
          8.285555555555556,
          8.285555555555556,
          8.285555555555556,
          8.285555555555556,
          8.285555555555556,
          8.285555555555556,
          8.285555555555556,
          8.285555555555556,
          8.285555555555556,
          8.285555555555556,
          8.285555555555556,
          8.285555555555556,
          8.285555555555556,
          8.285555555555556,
          8.285555555555556,
          8.285555555555556,
          8.285555555555556,
          8.285555555555556,
          8.285555555555556,
          8.285555555555556,
          8.285555555555556,
          8.285555555555556,
          8.285555555555556,
          8.285555555555556,
          8.285555555555556,
          8.285555555555556,
          8.285555555555556,
          8.285555555555556,
          8.285555555555556,
          8.285555555555556,
          8.285555555555556,
          8.285555555555556,
          8.285555555555556,
          8.285555555555556,
          8.285555555555556,
          8.285555555555556,
          8.285555555555556,
          8.285555555555556,
          8.285555555555556,
          8.285555555555556,
          8.285555555555556,
          8.285555555555556,
          8.285555555555556,
          8.285555555555556,
          8.285555555555556,
          8.285555555555556,
          8.285555555555556,
          8.285555555555556,
          8.285555555555556,
          8.285555555555556,
          8.285555555555556
         ]
        }
       ],
       "layout": {
        "legend": {
         "title": {
          "text": "Lokasjoner"
         }
        },
        "template": {
         "data": {
          "bar": [
           {
            "error_x": {
             "color": "#2a3f5f"
            },
            "error_y": {
             "color": "#2a3f5f"
            },
            "marker": {
             "line": {
              "color": "#E5ECF6",
              "width": 0.5
             },
             "pattern": {
              "fillmode": "overlay",
              "size": 10,
              "solidity": 0.2
             }
            },
            "type": "bar"
           }
          ],
          "barpolar": [
           {
            "marker": {
             "line": {
              "color": "#E5ECF6",
              "width": 0.5
             },
             "pattern": {
              "fillmode": "overlay",
              "size": 10,
              "solidity": 0.2
             }
            },
            "type": "barpolar"
           }
          ],
          "carpet": [
           {
            "aaxis": {
             "endlinecolor": "#2a3f5f",
             "gridcolor": "white",
             "linecolor": "white",
             "minorgridcolor": "white",
             "startlinecolor": "#2a3f5f"
            },
            "baxis": {
             "endlinecolor": "#2a3f5f",
             "gridcolor": "white",
             "linecolor": "white",
             "minorgridcolor": "white",
             "startlinecolor": "#2a3f5f"
            },
            "type": "carpet"
           }
          ],
          "choropleth": [
           {
            "colorbar": {
             "outlinewidth": 0,
             "ticks": ""
            },
            "type": "choropleth"
           }
          ],
          "contour": [
           {
            "colorbar": {
             "outlinewidth": 0,
             "ticks": ""
            },
            "colorscale": [
             [
              0,
              "#0d0887"
             ],
             [
              0.1111111111111111,
              "#46039f"
             ],
             [
              0.2222222222222222,
              "#7201a8"
             ],
             [
              0.3333333333333333,
              "#9c179e"
             ],
             [
              0.4444444444444444,
              "#bd3786"
             ],
             [
              0.5555555555555556,
              "#d8576b"
             ],
             [
              0.6666666666666666,
              "#ed7953"
             ],
             [
              0.7777777777777778,
              "#fb9f3a"
             ],
             [
              0.8888888888888888,
              "#fdca26"
             ],
             [
              1,
              "#f0f921"
             ]
            ],
            "type": "contour"
           }
          ],
          "contourcarpet": [
           {
            "colorbar": {
             "outlinewidth": 0,
             "ticks": ""
            },
            "type": "contourcarpet"
           }
          ],
          "heatmap": [
           {
            "colorbar": {
             "outlinewidth": 0,
             "ticks": ""
            },
            "colorscale": [
             [
              0,
              "#0d0887"
             ],
             [
              0.1111111111111111,
              "#46039f"
             ],
             [
              0.2222222222222222,
              "#7201a8"
             ],
             [
              0.3333333333333333,
              "#9c179e"
             ],
             [
              0.4444444444444444,
              "#bd3786"
             ],
             [
              0.5555555555555556,
              "#d8576b"
             ],
             [
              0.6666666666666666,
              "#ed7953"
             ],
             [
              0.7777777777777778,
              "#fb9f3a"
             ],
             [
              0.8888888888888888,
              "#fdca26"
             ],
             [
              1,
              "#f0f921"
             ]
            ],
            "type": "heatmap"
           }
          ],
          "histogram": [
           {
            "marker": {
             "pattern": {
              "fillmode": "overlay",
              "size": 10,
              "solidity": 0.2
             }
            },
            "type": "histogram"
           }
          ],
          "histogram2d": [
           {
            "colorbar": {
             "outlinewidth": 0,
             "ticks": ""
            },
            "colorscale": [
             [
              0,
              "#0d0887"
             ],
             [
              0.1111111111111111,
              "#46039f"
             ],
             [
              0.2222222222222222,
              "#7201a8"
             ],
             [
              0.3333333333333333,
              "#9c179e"
             ],
             [
              0.4444444444444444,
              "#bd3786"
             ],
             [
              0.5555555555555556,
              "#d8576b"
             ],
             [
              0.6666666666666666,
              "#ed7953"
             ],
             [
              0.7777777777777778,
              "#fb9f3a"
             ],
             [
              0.8888888888888888,
              "#fdca26"
             ],
             [
              1,
              "#f0f921"
             ]
            ],
            "type": "histogram2d"
           }
          ],
          "histogram2dcontour": [
           {
            "colorbar": {
             "outlinewidth": 0,
             "ticks": ""
            },
            "colorscale": [
             [
              0,
              "#0d0887"
             ],
             [
              0.1111111111111111,
              "#46039f"
             ],
             [
              0.2222222222222222,
              "#7201a8"
             ],
             [
              0.3333333333333333,
              "#9c179e"
             ],
             [
              0.4444444444444444,
              "#bd3786"
             ],
             [
              0.5555555555555556,
              "#d8576b"
             ],
             [
              0.6666666666666666,
              "#ed7953"
             ],
             [
              0.7777777777777778,
              "#fb9f3a"
             ],
             [
              0.8888888888888888,
              "#fdca26"
             ],
             [
              1,
              "#f0f921"
             ]
            ],
            "type": "histogram2dcontour"
           }
          ],
          "mesh3d": [
           {
            "colorbar": {
             "outlinewidth": 0,
             "ticks": ""
            },
            "type": "mesh3d"
           }
          ],
          "parcoords": [
           {
            "line": {
             "colorbar": {
              "outlinewidth": 0,
              "ticks": ""
             }
            },
            "type": "parcoords"
           }
          ],
          "pie": [
           {
            "automargin": true,
            "type": "pie"
           }
          ],
          "scatter": [
           {
            "fillpattern": {
             "fillmode": "overlay",
             "size": 10,
             "solidity": 0.2
            },
            "type": "scatter"
           }
          ],
          "scatter3d": [
           {
            "line": {
             "colorbar": {
              "outlinewidth": 0,
              "ticks": ""
             }
            },
            "marker": {
             "colorbar": {
              "outlinewidth": 0,
              "ticks": ""
             }
            },
            "type": "scatter3d"
           }
          ],
          "scattercarpet": [
           {
            "marker": {
             "colorbar": {
              "outlinewidth": 0,
              "ticks": ""
             }
            },
            "type": "scattercarpet"
           }
          ],
          "scattergeo": [
           {
            "marker": {
             "colorbar": {
              "outlinewidth": 0,
              "ticks": ""
             }
            },
            "type": "scattergeo"
           }
          ],
          "scattergl": [
           {
            "marker": {
             "colorbar": {
              "outlinewidth": 0,
              "ticks": ""
             }
            },
            "type": "scattergl"
           }
          ],
          "scattermap": [
           {
            "marker": {
             "colorbar": {
              "outlinewidth": 0,
              "ticks": ""
             }
            },
            "type": "scattermap"
           }
          ],
          "scattermapbox": [
           {
            "marker": {
             "colorbar": {
              "outlinewidth": 0,
              "ticks": ""
             }
            },
            "type": "scattermapbox"
           }
          ],
          "scatterpolar": [
           {
            "marker": {
             "colorbar": {
              "outlinewidth": 0,
              "ticks": ""
             }
            },
            "type": "scatterpolar"
           }
          ],
          "scatterpolargl": [
           {
            "marker": {
             "colorbar": {
              "outlinewidth": 0,
              "ticks": ""
             }
            },
            "type": "scatterpolargl"
           }
          ],
          "scatterternary": [
           {
            "marker": {
             "colorbar": {
              "outlinewidth": 0,
              "ticks": ""
             }
            },
            "type": "scatterternary"
           }
          ],
          "surface": [
           {
            "colorbar": {
             "outlinewidth": 0,
             "ticks": ""
            },
            "colorscale": [
             [
              0,
              "#0d0887"
             ],
             [
              0.1111111111111111,
              "#46039f"
             ],
             [
              0.2222222222222222,
              "#7201a8"
             ],
             [
              0.3333333333333333,
              "#9c179e"
             ],
             [
              0.4444444444444444,
              "#bd3786"
             ],
             [
              0.5555555555555556,
              "#d8576b"
             ],
             [
              0.6666666666666666,
              "#ed7953"
             ],
             [
              0.7777777777777778,
              "#fb9f3a"
             ],
             [
              0.8888888888888888,
              "#fdca26"
             ],
             [
              1,
              "#f0f921"
             ]
            ],
            "type": "surface"
           }
          ],
          "table": [
           {
            "cells": {
             "fill": {
              "color": "#EBF0F8"
             },
             "line": {
              "color": "white"
             }
            },
            "header": {
             "fill": {
              "color": "#C8D4E3"
             },
             "line": {
              "color": "white"
             }
            },
            "type": "table"
           }
          ]
         },
         "layout": {
          "annotationdefaults": {
           "arrowcolor": "#2a3f5f",
           "arrowhead": 0,
           "arrowwidth": 1
          },
          "autotypenumbers": "strict",
          "coloraxis": {
           "colorbar": {
            "outlinewidth": 0,
            "ticks": ""
           }
          },
          "colorscale": {
           "diverging": [
            [
             0,
             "#8e0152"
            ],
            [
             0.1,
             "#c51b7d"
            ],
            [
             0.2,
             "#de77ae"
            ],
            [
             0.3,
             "#f1b6da"
            ],
            [
             0.4,
             "#fde0ef"
            ],
            [
             0.5,
             "#f7f7f7"
            ],
            [
             0.6,
             "#e6f5d0"
            ],
            [
             0.7,
             "#b8e186"
            ],
            [
             0.8,
             "#7fbc41"
            ],
            [
             0.9,
             "#4d9221"
            ],
            [
             1,
             "#276419"
            ]
           ],
           "sequential": [
            [
             0,
             "#0d0887"
            ],
            [
             0.1111111111111111,
             "#46039f"
            ],
            [
             0.2222222222222222,
             "#7201a8"
            ],
            [
             0.3333333333333333,
             "#9c179e"
            ],
            [
             0.4444444444444444,
             "#bd3786"
            ],
            [
             0.5555555555555556,
             "#d8576b"
            ],
            [
             0.6666666666666666,
             "#ed7953"
            ],
            [
             0.7777777777777778,
             "#fb9f3a"
            ],
            [
             0.8888888888888888,
             "#fdca26"
            ],
            [
             1,
             "#f0f921"
            ]
           ],
           "sequentialminus": [
            [
             0,
             "#0d0887"
            ],
            [
             0.1111111111111111,
             "#46039f"
            ],
            [
             0.2222222222222222,
             "#7201a8"
            ],
            [
             0.3333333333333333,
             "#9c179e"
            ],
            [
             0.4444444444444444,
             "#bd3786"
            ],
            [
             0.5555555555555556,
             "#d8576b"
            ],
            [
             0.6666666666666666,
             "#ed7953"
            ],
            [
             0.7777777777777778,
             "#fb9f3a"
            ],
            [
             0.8888888888888888,
             "#fdca26"
            ],
            [
             1,
             "#f0f921"
            ]
           ]
          },
          "colorway": [
           "#636efa",
           "#EF553B",
           "#00cc96",
           "#ab63fa",
           "#FFA15A",
           "#19d3f3",
           "#FF6692",
           "#B6E880",
           "#FF97FF",
           "#FECB52"
          ],
          "font": {
           "color": "#2a3f5f"
          },
          "geo": {
           "bgcolor": "white",
           "lakecolor": "white",
           "landcolor": "#E5ECF6",
           "showlakes": true,
           "showland": true,
           "subunitcolor": "white"
          },
          "hoverlabel": {
           "align": "left"
          },
          "hovermode": "closest",
          "mapbox": {
           "style": "light"
          },
          "paper_bgcolor": "white",
          "plot_bgcolor": "#E5ECF6",
          "polar": {
           "angularaxis": {
            "gridcolor": "white",
            "linecolor": "white",
            "ticks": ""
           },
           "bgcolor": "#E5ECF6",
           "radialaxis": {
            "gridcolor": "white",
            "linecolor": "white",
            "ticks": ""
           }
          },
          "scene": {
           "xaxis": {
            "backgroundcolor": "#E5ECF6",
            "gridcolor": "white",
            "gridwidth": 2,
            "linecolor": "white",
            "showbackground": true,
            "ticks": "",
            "zerolinecolor": "white"
           },
           "yaxis": {
            "backgroundcolor": "#E5ECF6",
            "gridcolor": "white",
            "gridwidth": 2,
            "linecolor": "white",
            "showbackground": true,
            "ticks": "",
            "zerolinecolor": "white"
           },
           "zaxis": {
            "backgroundcolor": "#E5ECF6",
            "gridcolor": "white",
            "gridwidth": 2,
            "linecolor": "white",
            "showbackground": true,
            "ticks": "",
            "zerolinecolor": "white"
           }
          },
          "shapedefaults": {
           "line": {
            "color": "#2a3f5f"
           }
          },
          "ternary": {
           "aaxis": {
            "gridcolor": "white",
            "linecolor": "white",
            "ticks": ""
           },
           "baxis": {
            "gridcolor": "white",
            "linecolor": "white",
            "ticks": ""
           },
           "bgcolor": "#E5ECF6",
           "caxis": {
            "gridcolor": "white",
            "linecolor": "white",
            "ticks": ""
           }
          },
          "title": {
           "x": 0.05
          },
          "xaxis": {
           "automargin": true,
           "gridcolor": "white",
           "linecolor": "white",
           "ticks": "",
           "title": {
            "standoff": 15
           },
           "zerolinecolor": "white",
           "zerolinewidth": 2
          },
          "yaxis": {
           "automargin": true,
           "gridcolor": "white",
           "linecolor": "white",
           "ticks": "",
           "title": {
            "standoff": 15
           },
           "zerolinecolor": "white",
           "zerolinewidth": 2
          }
         }
        },
        "title": {
         "text": "Vindhastighet over tid"
        },
        "xaxis": {
         "title": {
          "text": "Dato"
         }
        },
        "yaxis": {
         "title": {
          "text": "Vindhastighet (m/s)"
         }
        }
       }
      }
     },
     "metadata": {},
     "output_type": "display_data"
    }
   ],
   "source": [
    "import plotly.graph_objects as go\n",
    "\n",
    "# Definer farger for lokasjonene\n",
    "color_location1 = '#1f77b4'  # Blå for lokasjon 1\n",
    "color_location2 = '#ff7f0e'  # Oransje for lokasjon 2\n",
    "\n",
    "# Temperaturfigur\n",
    "fig_temp = go.Figure()\n",
    "\n",
    "# Temperaturdata for lokasjon 1\n",
    "fig_temp.add_trace(go.Scatter(\n",
    "    x=temperature_data1['referenceTime'],\n",
    "    y=temperature_data1['value'],\n",
    "    mode='lines',\n",
    "    name=f'Temperature at {station_names.get(used_station_id1, \"Unknown Station 1\")}',\n",
    "    line=dict(color=color_location1)\n",
    "))\n",
    "\n",
    "# Temperaturdata for lokasjon 2\n",
    "fig_temp.add_trace(go.Scatter(\n",
    "    x=temperature_data2['referenceTime'],\n",
    "    y=temperature_data2['value'],\n",
    "    mode='lines',\n",
    "    name=f'Temperature at {station_names.get(used_station_id2, \"Unknown Station 2\")}',\n",
    "    line=dict(color=color_location2)\n",
    "))\n",
    "\n",
    "# Gjennomsnittstemperatur for lokasjon 1\n",
    "mean_temp1 = temperature_data1['value'].mean()\n",
    "fig_temp.add_trace(go.Scatter(\n",
    "    x=temperature_data1['referenceTime'],\n",
    "    y=[mean_temp1] * len(temperature_data1['referenceTime']),\n",
    "    mode='lines',\n",
    "    line=dict(dash='dash', color=color_location1),\n",
    "    name=f'Average Temperature at {station_names.get(used_station_id1, \"Unknown Station 1\")}'\n",
    "))\n",
    "\n",
    "# Gjennomsnittstemperatur for lokasjon 2\n",
    "mean_temp2 = temperature_data2['value'].mean()\n",
    "fig_temp.add_trace(go.Scatter(\n",
    "    x=temperature_data2['referenceTime'],\n",
    "    y=[mean_temp2] * len(temperature_data2['referenceTime']),\n",
    "    mode='lines',\n",
    "    line=dict(dash='dash', color=color_location2),\n",
    "    name=f'Average Temperature at {station_names.get(used_station_id2, \"Unknown Station 2\")}'\n",
    "))\n",
    "\n",
    "# Tilpasser layout for temperatur\n",
    "fig_temp.update_layout(\n",
    "    title='Temperatur over tid',\n",
    "    xaxis_title='Dato',\n",
    "    yaxis_title='Temperatur (°C)',\n",
    "    legend_title='Lokasjoner'\n",
    ")\n",
    "\n",
    "# Viser temperaturfigur\n",
    "fig_temp.show()\n",
    "\n",
    "# Nedbørsfigur\n",
    "fig_precip = go.Figure()\n",
    "\n",
    "# Nedbørsdata for lokasjon 1\n",
    "fig_precip.add_trace(go.Scatter(\n",
    "    x=precipitation_data1['referenceTime'],\n",
    "    y=precipitation_data1['value'],\n",
    "    mode='lines',\n",
    "    name=f'Precipitation at {station_names.get(used_station_id1, \"Unknown Station 1\")}',\n",
    "    line=dict(color=color_location1)\n",
    "))\n",
    "\n",
    "# Nedbørsdata for lokasjon 2\n",
    "fig_precip.add_trace(go.Scatter(\n",
    "    x=precipitation_data2['referenceTime'],\n",
    "    y=precipitation_data2['value'],\n",
    "    mode='lines',\n",
    "    name=f'Precipitation at {station_names.get(used_station_id2, \"Unknown Station 2\")}',\n",
    "    line=dict(color=color_location2)\n",
    "))\n",
    "\n",
    "# Gjennomsnittsnedbør for lokasjon 1\n",
    "mean_precip1 = precipitation_data1['value'].mean()\n",
    "fig_precip.add_trace(go.Scatter(\n",
    "    x=precipitation_data1['referenceTime'],\n",
    "    y=[mean_precip1] * len(precipitation_data1['referenceTime']),\n",
    "    mode='lines',\n",
    "    line=dict(dash='dash', color=color_location1),\n",
    "    name=f'Average Precipitation at {station_names.get(used_station_id1, \"Unknown Station 1\")}'\n",
    "))\n",
    "\n",
    "# Gjennomsnittsnedbør for lokasjon 2\n",
    "mean_precip2 = precipitation_data2['value'].mean()\n",
    "fig_precip.add_trace(go.Scatter(\n",
    "    x=precipitation_data2['referenceTime'],\n",
    "    y=[mean_precip2] * len(precipitation_data2['referenceTime']),\n",
    "    mode='lines',\n",
    "    line=dict(dash='dash', color=color_location2),\n",
    "    name=f'Average Precipitation at {station_names.get(used_station_id2, \"Unknown Station 2\")}'\n",
    "))\n",
    "\n",
    "# Tilpasser layout for nedbør\n",
    "fig_precip.update_layout(\n",
    "    title='Nedbør over tid',\n",
    "    xaxis_title='Dato',\n",
    "    yaxis_title='Nedbør (mm)',\n",
    "    legend_title='Lokasjoner'\n",
    ")\n",
    "\n",
    "# Viser nedbørsfigur\n",
    "fig_precip.show()\n",
    "\n",
    "# Vindhastighetsfigur\n",
    "fig_wind = go.Figure()\n",
    "\n",
    "# Vindhastighetsdata for lokasjon 1\n",
    "fig_wind.add_trace(go.Scatter(\n",
    "    x=wind_speed_data1['referenceTime'],\n",
    "    y=wind_speed_data1['value'],\n",
    "    mode='lines',\n",
    "    name=f'Wind Speed at {station_names.get(used_station_id1, \"Unknown Station 1\")}',\n",
    "    line=dict(color=color_location1)\n",
    "))\n",
    "\n",
    "# Vindhastighetsdata for lokasjon 2\n",
    "fig_wind.add_trace(go.Scatter(\n",
    "    x=wind_speed_data2['referenceTime'],\n",
    "    y=wind_speed_data2['value'],\n",
    "    mode='lines',\n",
    "    name=f'Wind Speed at {station_names.get(used_station_id2, \"Unknown Station 2\")}',\n",
    "    line=dict(color=color_location2)\n",
    "))\n",
    "\n",
    "# Gjennomsnittsvindhastighet for lokasjon 1\n",
    "mean_wind1 = wind_speed_data1['value'].mean()\n",
    "fig_wind.add_trace(go.Scatter(\n",
    "    x=wind_speed_data1['referenceTime'],\n",
    "    y=[mean_wind1] * len(wind_speed_data1['referenceTime']),\n",
    "    mode='lines',\n",
    "    line=dict(dash='dash', color=color_location1),\n",
    "    name=f'Average Wind Speed at {station_names.get(used_station_id1, \"Unknown Station 1\")}'\n",
    "))\n",
    "\n",
    "# Gjennomsnittsvindhastighet for lokasjon 2\n",
    "mean_wind2 = wind_speed_data2['value'].mean()\n",
    "fig_wind.add_trace(go.Scatter(\n",
    "    x=wind_speed_data2['referenceTime'],\n",
    "    y=[mean_wind2] * len(wind_speed_data2['referenceTime']),\n",
    "    mode='lines',\n",
    "    line=dict(dash='dash', color=color_location2),\n",
    "    name=f'Average Wind Speed at {station_names.get(used_station_id2, \"Unknown Station 2\")}'\n",
    "))\n",
    "\n",
    "# Tilpasser layout for vindhastighet\n",
    "fig_wind.update_layout(\n",
    "    title='Vindhastighet over tid',\n",
    "    xaxis_title='Dato',\n",
    "    yaxis_title='Vindhastighet (m/s)',\n",
    "    legend_title='Lokasjoner'\n",
    ")\n",
    "\n",
    "# Viser vindhastighetsfigur\n",
    "fig_wind.show()"
   ]
  }
 ],
 "metadata": {
  "kernelspec": {
   "display_name": "venv",
   "language": "python",
   "name": "python3"
  },
  "language_info": {
   "codemirror_mode": {
    "name": "ipython",
    "version": 3
   },
   "file_extension": ".py",
   "mimetype": "text/x-python",
   "name": "python",
   "nbconvert_exporter": "python",
   "pygments_lexer": "ipython3",
   "version": "3.13.1"
  }
 },
 "nbformat": 4,
 "nbformat_minor": 2
}
