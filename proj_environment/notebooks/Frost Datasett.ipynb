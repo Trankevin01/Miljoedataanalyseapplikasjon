{
 "cells": [
  {
   "cell_type": "markdown",
   "metadata": {},
   "source": [
    "# Vi lager et program som lar brukeren velge et sted i Norge og se den historiske værdataene til dette stedet. \n",
    "# Programmet henter informasjon fra den nærmeste værstasjonen til det valgte stedet og visualiserer dataene i grafer\n",
    "# Programmet viser også en beregning for hvordan framtidig vær kommer til å se ut.\n",
    "# All data er hentet fra MET som er en offentlig kilde sponset fra den norske stat"
   ]
  },
  {
   "cell_type": "code",
   "execution_count": 2,
   "metadata": {},
   "outputs": [
    {
     "name": "stdout",
     "output_type": "stream",
     "text": [
      "Henter data for element: mean(air_temperature P1D)\n",
      "Data retrieved for mean(air_temperature P1D) from station SN90450!\n",
      "Henter data for element: sum(precipitation_amount P1D)\n",
      "Data retrieved for sum(precipitation_amount P1D) from station SN90450!\n",
      "Henter data for element: mean(wind_speed P1D)\n",
      "Data retrieved for mean(wind_speed P1D) from station SN90450!\n",
      "Henter data for element: surface_snow_thickness\n",
      "Data retrieved for surface_snow_thickness from station SN90450!\n",
      "Henter data for element: mean(relative_humidity P1D)\n",
      "Data retrieved for mean(relative_humidity P1D) from station SN90450!\n",
      "Data saved to ../src/weather_data.csv\n"
     ]
    }
   ],
   "source": [
    "import requests\n",
    "import pandas as pd\n",
    "import os\n",
    "import sys\n",
    "from datetime import datetime, timedelta\n",
    "from opencage.geocoder import OpenCageGeocode\n",
    "from geopy.distance import geodesic\n",
    "sys.path.insert(0, os.path.abspath(os.path.join(os.getcwd(), '..', 'src')))\n",
    "from API_Key_Manager_class import APIKeyManager\n",
    "\n",
    "api_key_manager = APIKeyManager()\n",
    "\n",
    "# Hent Frost API-nøkkelen direkte fra klassen\n",
    "client_id = api_key_manager.get_api_key(\"Frost\")\n",
    "\n",
    "# Hent Opencage API-nøkkelen direkte fra klassen\n",
    "api_key = api_key_manager.get_api_key(\"Opencage\")\n",
    "\n",
    "# Sett opp OpenCageGeocode med API-nøkkelen din\n",
    "geolocator = OpenCageGeocode(api_key)\n",
    "\n",
    "# Henter inn lokasjon fra brukeren\n",
    "location_input = input(\"Enter the location (e.g., Bergen, Oslo, Trondheim, Stavanger, Tromsø): \")\n",
    "\n",
    "# Geokoder lokasjonen for å få koordinatene\n",
    "location = geolocator.geocode(location_input)\n",
    "\n",
    "# Sjekker om geokodingen var vellykket\n",
    "if location:\n",
    "    # Henter ut koordinatene\n",
    "    location_coords = (location[0]['geometry']['lat'], location[0]['geometry']['lng'])\n",
    "else:\n",
    "    raise ValueError(\"Could not find coordinates for the location. Please check the input.\")\n",
    "\n",
    "# Definerer endepunkt og parametere for stasjoner\n",
    "stations_endpoint = 'https://frost.met.no/sources/v0.jsonld'\n",
    "stations_parameters = {\n",
    "    'types': 'SensorSystem'\n",
    "}\n",
    "\n",
    "# Henter ut HTTP-responsen og lagrer den som JSON\n",
    "r = requests.get(stations_endpoint, stations_parameters, auth=(client_id, ''))\n",
    "stations_json = r.json()\n",
    "\n",
    "# Henter ut stasjonsinformasjonen\n",
    "stations = stations_json['data']\n",
    "\n",
    "# Lager et dictionary med stasjons-ID som nøkkel og koordinater som verdi\n",
    "weather_stations_coords = {station['id']: (station['geometry']['coordinates'][1], station['geometry']['coordinates'][0]) for station in stations if 'geometry' in station}\n",
    "\n",
    "# Regner ut avstanden til værstasjonene fra lokasjonen\n",
    "distances = {station: geodesic(location_coords, coords).km for station, coords in weather_stations_coords.items()}\n",
    "\n",
    "# Sorterer værstasjonene etter avstand til lokasjonen\n",
    "sorted_stations = sorted(distances, key=distances.get)\n",
    "\n",
    "# Henter ut dagens dato og datoen 90 dager tilbake\n",
    "now = datetime.now()\n",
    "offset = now - timedelta(days=30)\n",
    "current_date = now.strftime(\"%Y-%m-%d\")\n",
    "historic_date = offset.strftime(\"%Y-%m-%d\")\n",
    "\n",
    "# Definerer endepunkt og parametere for observasjoner\n",
    "observations_endpoint = 'https://frost.met.no/observations/v0.jsonld'\n",
    "\n",
    "def fetch_data_by_element(stations, elements, max_attempts = 15):\n",
    "    \"\"\"\n",
    "    Fetch data for each element (e.g., temperature, precipitation, wind speed) from the nearest weather stations.\n",
    "    Tries up to max_attempts stations for each element and returns the data for the first successful attempt.\n",
    "    \"\"\"\n",
    "    all_data = {}\n",
    "    \n",
    "    for element in elements:\n",
    "        print(f\"Henter data for element: {element}\")\n",
    "        for attempt in range(min(max_attempts, len(stations))):\n",
    "            parameters = {\n",
    "                'sources': stations[attempt],\n",
    "                'elements': element,\n",
    "                'referencetime': f'{historic_date}/{current_date}',\n",
    "            }\n",
    "            r = requests.get(observations_endpoint, parameters, auth=(client_id, ''))\n",
    "            json = r.json()\n",
    "\n",
    "            if r.status_code == 200 and 'data' in json:\n",
    "                data = json['data']\n",
    "                if data:\n",
    "                    print(f\"Data retrieved for {element} from station {stations[attempt]}!\")\n",
    "                    all_data[element] = data\n",
    "                    break\n",
    "            else:\n",
    "                print(f\"Error retrieving {element} data from station {stations[attempt]}. Trying next station...\")\n",
    "        \n",
    "        # Hvis ingen data blir funnet for elementet, logges en melding\n",
    "        if element not in all_data:\n",
    "            print(f\"No data found for {element} from any of the attempted stations.\")\n",
    "    \n",
    "    return all_data\n",
    "\n",
    "# Elementene vi ønsker å hente data for\n",
    "elements = [\n",
    "    'mean(air_temperature P1D)', \n",
    "    'sum(precipitation_amount P1D)', \n",
    "    'mean(wind_speed P1D)',\n",
    "    'surface_snow_thickness',\n",
    "    'mean(relative_humidity P1D)'\n",
    "]\n",
    "\n",
    "# Henter data for lokasjonen\n",
    "data = fetch_data_by_element(sorted_stations, elements)\n",
    "\n",
    "# Samler de viktige dataene i en DataFrame\n",
    "df_list = []\n",
    "\n",
    "for element, data_element in data.items():\n",
    "    for item in data_element:\n",
    "        row = pd.DataFrame(item['observations'])\n",
    "        row['referenceTime'] = item['referenceTime']\n",
    "        row['sourceId'] = item['sourceId']\n",
    "        row['elementId'] = element\n",
    "        df_list.append(row)\n",
    "\n",
    "# Effektivt å koble sammen alle DataFrames samtidig\n",
    "df = pd.concat(df_list, ignore_index=True)\n",
    "\n",
    "# Lagrer dataene i en CSV-fil (overskriver eksisterende fil)\n",
    "csv_filename = \"../src/weather_data.csv\"\n",
    "df.to_csv(csv_filename, index=False)\n",
    "print(f\"Data saved to {csv_filename}\")\n"
   ]
  },
  {
   "cell_type": "code",
   "execution_count": 28,
   "metadata": {},
   "outputs": [
    {
     "data": {
      "application/vnd.plotly.v1+json": {
       "config": {
        "plotlyServerURL": "https://plot.ly"
       },
       "data": [
        {
         "line": {
          "color": "#1f77b4"
         },
         "mode": "lines",
         "name": "Temperatur i tromsø",
         "type": "scatter",
         "x": [
          "2025-03-09T00:00:00+00:00",
          "2025-03-09T00:00:00+00:00",
          "2025-03-10T00:00:00+00:00",
          "2025-03-10T00:00:00+00:00",
          "2025-03-11T00:00:00+00:00",
          "2025-03-11T00:00:00+00:00",
          "2025-03-12T00:00:00+00:00",
          "2025-03-12T00:00:00+00:00",
          "2025-03-13T00:00:00+00:00",
          "2025-03-13T00:00:00+00:00",
          "2025-03-14T00:00:00+00:00",
          "2025-03-14T00:00:00+00:00",
          "2025-03-15T00:00:00+00:00",
          "2025-03-15T00:00:00+00:00",
          "2025-03-16T00:00:00+00:00",
          "2025-03-16T00:00:00+00:00",
          "2025-03-17T00:00:00+00:00",
          "2025-03-17T00:00:00+00:00",
          "2025-03-18T00:00:00+00:00",
          "2025-03-18T00:00:00+00:00",
          "2025-03-19T00:00:00+00:00",
          "2025-03-19T00:00:00+00:00",
          "2025-03-20T00:00:00+00:00",
          "2025-03-20T00:00:00+00:00",
          "2025-03-21T00:00:00+00:00",
          "2025-03-21T00:00:00+00:00",
          "2025-03-22T00:00:00+00:00",
          "2025-03-22T00:00:00+00:00",
          "2025-03-23T00:00:00+00:00",
          "2025-03-23T00:00:00+00:00",
          "2025-03-24T00:00:00+00:00",
          "2025-03-24T00:00:00+00:00",
          "2025-03-25T00:00:00+00:00",
          "2025-03-25T00:00:00+00:00",
          "2025-03-26T00:00:00+00:00",
          "2025-03-26T00:00:00+00:00",
          "2025-03-27T00:00:00+00:00",
          "2025-03-27T00:00:00+00:00",
          "2025-03-28T00:00:00+00:00",
          "2025-03-28T00:00:00+00:00",
          "2025-03-29T00:00:00+00:00",
          "2025-03-29T00:00:00+00:00",
          "2025-03-30T00:00:00+00:00",
          "2025-03-30T00:00:00+00:00",
          "2025-03-31T00:00:00+00:00",
          "2025-03-31T00:00:00+00:00",
          "2025-04-01T00:00:00+00:00",
          "2025-04-01T00:00:00+00:00",
          "2025-04-02T00:00:00+00:00",
          "2025-04-02T00:00:00+00:00",
          "2025-04-03T00:00:00+00:00",
          "2025-04-03T00:00:00+00:00",
          "2025-04-04T00:00:00+00:00",
          "2025-04-04T00:00:00+00:00",
          "2025-04-05T00:00:00+00:00",
          "2025-04-05T00:00:00+00:00",
          "2025-04-06T00:00:00+00:00",
          "2025-04-06T00:00:00+00:00",
          "2025-04-07T00:00:00+00:00",
          "2025-04-07T00:00:00+00:00"
         ],
         "y": {
          "bdata": "mpmZmZmZ8b+amZmZmZm5vzMzMzMzMwfAzczMzMzM/L8zMzMzMzMPwJqZmZmZmQnAmpmZmZmZE8AzMzMzMzMTwJqZmZmZmRXAMzMzMzMzEcCamZmZmZkZwAAAAAAAABjAZmZmZmZmFsAAAAAAAAAYwJqZmZmZmQnAZmZmZmZmFMAAAAAAAAAMwDMzMzMzMwfAZmZmZmZm5r/NzMzMzMwIwM3MzMzMzAzAAAAAAAAA8L8zMzMzMzMPwM3MzMzMzBDAmpmZmZmZuT+amZmZmZkJwDMzMzMzMxdAmpmZmZmZAUCamZmZmZkXQM3MzMzMzBpAMzMzMzMzEUAzMzMzMzMVQJqZmZmZmfG/MzMzMzMzB0AzMzMzMzP7v2ZmZmZmZv6/zczMzMzM7L8AAAAAAAD4vwAAAAAAAOA/mpmZmZmZ2b9mZmZmZmbmvzMzMzMzM+M/mpmZmZmZub8zMzMzMzP7v83MzMzMzOw/mpmZmZmZ6T8AAAAAAAAIQDMzMzMzM/M/AAAAAAAACEAzMzMzMzMPQM3MzMzMzAhAZmZmZmZmCkBmZmZmZmb+v83MzMzMzPQ/zczMzMzM9L8zMzMzMzMDwGZmZmZmZv4/AAAAAAAAAAAAAAAAAAAEQAAAAAAAAABA",
          "dtype": "f8"
         }
        },
        {
         "line": {
          "color": "#1f77b4",
          "dash": "dash"
         },
         "mode": "lines",
         "name": "Gjennomsnittstemperatur i tromsø",
         "type": "scatter",
         "x": [
          "2025-03-09T00:00:00+00:00",
          "2025-03-09T00:00:00+00:00",
          "2025-03-10T00:00:00+00:00",
          "2025-03-10T00:00:00+00:00",
          "2025-03-11T00:00:00+00:00",
          "2025-03-11T00:00:00+00:00",
          "2025-03-12T00:00:00+00:00",
          "2025-03-12T00:00:00+00:00",
          "2025-03-13T00:00:00+00:00",
          "2025-03-13T00:00:00+00:00",
          "2025-03-14T00:00:00+00:00",
          "2025-03-14T00:00:00+00:00",
          "2025-03-15T00:00:00+00:00",
          "2025-03-15T00:00:00+00:00",
          "2025-03-16T00:00:00+00:00",
          "2025-03-16T00:00:00+00:00",
          "2025-03-17T00:00:00+00:00",
          "2025-03-17T00:00:00+00:00",
          "2025-03-18T00:00:00+00:00",
          "2025-03-18T00:00:00+00:00",
          "2025-03-19T00:00:00+00:00",
          "2025-03-19T00:00:00+00:00",
          "2025-03-20T00:00:00+00:00",
          "2025-03-20T00:00:00+00:00",
          "2025-03-21T00:00:00+00:00",
          "2025-03-21T00:00:00+00:00",
          "2025-03-22T00:00:00+00:00",
          "2025-03-22T00:00:00+00:00",
          "2025-03-23T00:00:00+00:00",
          "2025-03-23T00:00:00+00:00",
          "2025-03-24T00:00:00+00:00",
          "2025-03-24T00:00:00+00:00",
          "2025-03-25T00:00:00+00:00",
          "2025-03-25T00:00:00+00:00",
          "2025-03-26T00:00:00+00:00",
          "2025-03-26T00:00:00+00:00",
          "2025-03-27T00:00:00+00:00",
          "2025-03-27T00:00:00+00:00",
          "2025-03-28T00:00:00+00:00",
          "2025-03-28T00:00:00+00:00",
          "2025-03-29T00:00:00+00:00",
          "2025-03-29T00:00:00+00:00",
          "2025-03-30T00:00:00+00:00",
          "2025-03-30T00:00:00+00:00",
          "2025-03-31T00:00:00+00:00",
          "2025-03-31T00:00:00+00:00",
          "2025-04-01T00:00:00+00:00",
          "2025-04-01T00:00:00+00:00",
          "2025-04-02T00:00:00+00:00",
          "2025-04-02T00:00:00+00:00",
          "2025-04-03T00:00:00+00:00",
          "2025-04-03T00:00:00+00:00",
          "2025-04-04T00:00:00+00:00",
          "2025-04-04T00:00:00+00:00",
          "2025-04-05T00:00:00+00:00",
          "2025-04-05T00:00:00+00:00",
          "2025-04-06T00:00:00+00:00",
          "2025-04-06T00:00:00+00:00",
          "2025-04-07T00:00:00+00:00",
          "2025-04-07T00:00:00+00:00"
         ],
         "y": [
          -0.7533333333333333,
          -0.7533333333333333,
          -0.7533333333333333,
          -0.7533333333333333,
          -0.7533333333333333,
          -0.7533333333333333,
          -0.7533333333333333,
          -0.7533333333333333,
          -0.7533333333333333,
          -0.7533333333333333,
          -0.7533333333333333,
          -0.7533333333333333,
          -0.7533333333333333,
          -0.7533333333333333,
          -0.7533333333333333,
          -0.7533333333333333,
          -0.7533333333333333,
          -0.7533333333333333,
          -0.7533333333333333,
          -0.7533333333333333,
          -0.7533333333333333,
          -0.7533333333333333,
          -0.7533333333333333,
          -0.7533333333333333,
          -0.7533333333333333,
          -0.7533333333333333,
          -0.7533333333333333,
          -0.7533333333333333,
          -0.7533333333333333,
          -0.7533333333333333,
          -0.7533333333333333,
          -0.7533333333333333,
          -0.7533333333333333,
          -0.7533333333333333,
          -0.7533333333333333,
          -0.7533333333333333,
          -0.7533333333333333,
          -0.7533333333333333,
          -0.7533333333333333,
          -0.7533333333333333,
          -0.7533333333333333,
          -0.7533333333333333,
          -0.7533333333333333,
          -0.7533333333333333,
          -0.7533333333333333,
          -0.7533333333333333,
          -0.7533333333333333,
          -0.7533333333333333,
          -0.7533333333333333,
          -0.7533333333333333,
          -0.7533333333333333,
          -0.7533333333333333,
          -0.7533333333333333,
          -0.7533333333333333,
          -0.7533333333333333,
          -0.7533333333333333,
          -0.7533333333333333,
          -0.7533333333333333,
          -0.7533333333333333,
          -0.7533333333333333
         ]
        }
       ],
       "layout": {
        "legend": {
         "title": {
          "text": "Temperatur"
         }
        },
        "template": {
         "data": {
          "bar": [
           {
            "error_x": {
             "color": "#2a3f5f"
            },
            "error_y": {
             "color": "#2a3f5f"
            },
            "marker": {
             "line": {
              "color": "#E5ECF6",
              "width": 0.5
             },
             "pattern": {
              "fillmode": "overlay",
              "size": 10,
              "solidity": 0.2
             }
            },
            "type": "bar"
           }
          ],
          "barpolar": [
           {
            "marker": {
             "line": {
              "color": "#E5ECF6",
              "width": 0.5
             },
             "pattern": {
              "fillmode": "overlay",
              "size": 10,
              "solidity": 0.2
             }
            },
            "type": "barpolar"
           }
          ],
          "carpet": [
           {
            "aaxis": {
             "endlinecolor": "#2a3f5f",
             "gridcolor": "white",
             "linecolor": "white",
             "minorgridcolor": "white",
             "startlinecolor": "#2a3f5f"
            },
            "baxis": {
             "endlinecolor": "#2a3f5f",
             "gridcolor": "white",
             "linecolor": "white",
             "minorgridcolor": "white",
             "startlinecolor": "#2a3f5f"
            },
            "type": "carpet"
           }
          ],
          "choropleth": [
           {
            "colorbar": {
             "outlinewidth": 0,
             "ticks": ""
            },
            "type": "choropleth"
           }
          ],
          "contour": [
           {
            "colorbar": {
             "outlinewidth": 0,
             "ticks": ""
            },
            "colorscale": [
             [
              0,
              "#0d0887"
             ],
             [
              0.1111111111111111,
              "#46039f"
             ],
             [
              0.2222222222222222,
              "#7201a8"
             ],
             [
              0.3333333333333333,
              "#9c179e"
             ],
             [
              0.4444444444444444,
              "#bd3786"
             ],
             [
              0.5555555555555556,
              "#d8576b"
             ],
             [
              0.6666666666666666,
              "#ed7953"
             ],
             [
              0.7777777777777778,
              "#fb9f3a"
             ],
             [
              0.8888888888888888,
              "#fdca26"
             ],
             [
              1,
              "#f0f921"
             ]
            ],
            "type": "contour"
           }
          ],
          "contourcarpet": [
           {
            "colorbar": {
             "outlinewidth": 0,
             "ticks": ""
            },
            "type": "contourcarpet"
           }
          ],
          "heatmap": [
           {
            "colorbar": {
             "outlinewidth": 0,
             "ticks": ""
            },
            "colorscale": [
             [
              0,
              "#0d0887"
             ],
             [
              0.1111111111111111,
              "#46039f"
             ],
             [
              0.2222222222222222,
              "#7201a8"
             ],
             [
              0.3333333333333333,
              "#9c179e"
             ],
             [
              0.4444444444444444,
              "#bd3786"
             ],
             [
              0.5555555555555556,
              "#d8576b"
             ],
             [
              0.6666666666666666,
              "#ed7953"
             ],
             [
              0.7777777777777778,
              "#fb9f3a"
             ],
             [
              0.8888888888888888,
              "#fdca26"
             ],
             [
              1,
              "#f0f921"
             ]
            ],
            "type": "heatmap"
           }
          ],
          "histogram": [
           {
            "marker": {
             "pattern": {
              "fillmode": "overlay",
              "size": 10,
              "solidity": 0.2
             }
            },
            "type": "histogram"
           }
          ],
          "histogram2d": [
           {
            "colorbar": {
             "outlinewidth": 0,
             "ticks": ""
            },
            "colorscale": [
             [
              0,
              "#0d0887"
             ],
             [
              0.1111111111111111,
              "#46039f"
             ],
             [
              0.2222222222222222,
              "#7201a8"
             ],
             [
              0.3333333333333333,
              "#9c179e"
             ],
             [
              0.4444444444444444,
              "#bd3786"
             ],
             [
              0.5555555555555556,
              "#d8576b"
             ],
             [
              0.6666666666666666,
              "#ed7953"
             ],
             [
              0.7777777777777778,
              "#fb9f3a"
             ],
             [
              0.8888888888888888,
              "#fdca26"
             ],
             [
              1,
              "#f0f921"
             ]
            ],
            "type": "histogram2d"
           }
          ],
          "histogram2dcontour": [
           {
            "colorbar": {
             "outlinewidth": 0,
             "ticks": ""
            },
            "colorscale": [
             [
              0,
              "#0d0887"
             ],
             [
              0.1111111111111111,
              "#46039f"
             ],
             [
              0.2222222222222222,
              "#7201a8"
             ],
             [
              0.3333333333333333,
              "#9c179e"
             ],
             [
              0.4444444444444444,
              "#bd3786"
             ],
             [
              0.5555555555555556,
              "#d8576b"
             ],
             [
              0.6666666666666666,
              "#ed7953"
             ],
             [
              0.7777777777777778,
              "#fb9f3a"
             ],
             [
              0.8888888888888888,
              "#fdca26"
             ],
             [
              1,
              "#f0f921"
             ]
            ],
            "type": "histogram2dcontour"
           }
          ],
          "mesh3d": [
           {
            "colorbar": {
             "outlinewidth": 0,
             "ticks": ""
            },
            "type": "mesh3d"
           }
          ],
          "parcoords": [
           {
            "line": {
             "colorbar": {
              "outlinewidth": 0,
              "ticks": ""
             }
            },
            "type": "parcoords"
           }
          ],
          "pie": [
           {
            "automargin": true,
            "type": "pie"
           }
          ],
          "scatter": [
           {
            "fillpattern": {
             "fillmode": "overlay",
             "size": 10,
             "solidity": 0.2
            },
            "type": "scatter"
           }
          ],
          "scatter3d": [
           {
            "line": {
             "colorbar": {
              "outlinewidth": 0,
              "ticks": ""
             }
            },
            "marker": {
             "colorbar": {
              "outlinewidth": 0,
              "ticks": ""
             }
            },
            "type": "scatter3d"
           }
          ],
          "scattercarpet": [
           {
            "marker": {
             "colorbar": {
              "outlinewidth": 0,
              "ticks": ""
             }
            },
            "type": "scattercarpet"
           }
          ],
          "scattergeo": [
           {
            "marker": {
             "colorbar": {
              "outlinewidth": 0,
              "ticks": ""
             }
            },
            "type": "scattergeo"
           }
          ],
          "scattergl": [
           {
            "marker": {
             "colorbar": {
              "outlinewidth": 0,
              "ticks": ""
             }
            },
            "type": "scattergl"
           }
          ],
          "scattermap": [
           {
            "marker": {
             "colorbar": {
              "outlinewidth": 0,
              "ticks": ""
             }
            },
            "type": "scattermap"
           }
          ],
          "scattermapbox": [
           {
            "marker": {
             "colorbar": {
              "outlinewidth": 0,
              "ticks": ""
             }
            },
            "type": "scattermapbox"
           }
          ],
          "scatterpolar": [
           {
            "marker": {
             "colorbar": {
              "outlinewidth": 0,
              "ticks": ""
             }
            },
            "type": "scatterpolar"
           }
          ],
          "scatterpolargl": [
           {
            "marker": {
             "colorbar": {
              "outlinewidth": 0,
              "ticks": ""
             }
            },
            "type": "scatterpolargl"
           }
          ],
          "scatterternary": [
           {
            "marker": {
             "colorbar": {
              "outlinewidth": 0,
              "ticks": ""
             }
            },
            "type": "scatterternary"
           }
          ],
          "surface": [
           {
            "colorbar": {
             "outlinewidth": 0,
             "ticks": ""
            },
            "colorscale": [
             [
              0,
              "#0d0887"
             ],
             [
              0.1111111111111111,
              "#46039f"
             ],
             [
              0.2222222222222222,
              "#7201a8"
             ],
             [
              0.3333333333333333,
              "#9c179e"
             ],
             [
              0.4444444444444444,
              "#bd3786"
             ],
             [
              0.5555555555555556,
              "#d8576b"
             ],
             [
              0.6666666666666666,
              "#ed7953"
             ],
             [
              0.7777777777777778,
              "#fb9f3a"
             ],
             [
              0.8888888888888888,
              "#fdca26"
             ],
             [
              1,
              "#f0f921"
             ]
            ],
            "type": "surface"
           }
          ],
          "table": [
           {
            "cells": {
             "fill": {
              "color": "#EBF0F8"
             },
             "line": {
              "color": "white"
             }
            },
            "header": {
             "fill": {
              "color": "#C8D4E3"
             },
             "line": {
              "color": "white"
             }
            },
            "type": "table"
           }
          ]
         },
         "layout": {
          "annotationdefaults": {
           "arrowcolor": "#2a3f5f",
           "arrowhead": 0,
           "arrowwidth": 1
          },
          "autotypenumbers": "strict",
          "coloraxis": {
           "colorbar": {
            "outlinewidth": 0,
            "ticks": ""
           }
          },
          "colorscale": {
           "diverging": [
            [
             0,
             "#8e0152"
            ],
            [
             0.1,
             "#c51b7d"
            ],
            [
             0.2,
             "#de77ae"
            ],
            [
             0.3,
             "#f1b6da"
            ],
            [
             0.4,
             "#fde0ef"
            ],
            [
             0.5,
             "#f7f7f7"
            ],
            [
             0.6,
             "#e6f5d0"
            ],
            [
             0.7,
             "#b8e186"
            ],
            [
             0.8,
             "#7fbc41"
            ],
            [
             0.9,
             "#4d9221"
            ],
            [
             1,
             "#276419"
            ]
           ],
           "sequential": [
            [
             0,
             "#0d0887"
            ],
            [
             0.1111111111111111,
             "#46039f"
            ],
            [
             0.2222222222222222,
             "#7201a8"
            ],
            [
             0.3333333333333333,
             "#9c179e"
            ],
            [
             0.4444444444444444,
             "#bd3786"
            ],
            [
             0.5555555555555556,
             "#d8576b"
            ],
            [
             0.6666666666666666,
             "#ed7953"
            ],
            [
             0.7777777777777778,
             "#fb9f3a"
            ],
            [
             0.8888888888888888,
             "#fdca26"
            ],
            [
             1,
             "#f0f921"
            ]
           ],
           "sequentialminus": [
            [
             0,
             "#0d0887"
            ],
            [
             0.1111111111111111,
             "#46039f"
            ],
            [
             0.2222222222222222,
             "#7201a8"
            ],
            [
             0.3333333333333333,
             "#9c179e"
            ],
            [
             0.4444444444444444,
             "#bd3786"
            ],
            [
             0.5555555555555556,
             "#d8576b"
            ],
            [
             0.6666666666666666,
             "#ed7953"
            ],
            [
             0.7777777777777778,
             "#fb9f3a"
            ],
            [
             0.8888888888888888,
             "#fdca26"
            ],
            [
             1,
             "#f0f921"
            ]
           ]
          },
          "colorway": [
           "#636efa",
           "#EF553B",
           "#00cc96",
           "#ab63fa",
           "#FFA15A",
           "#19d3f3",
           "#FF6692",
           "#B6E880",
           "#FF97FF",
           "#FECB52"
          ],
          "font": {
           "color": "#2a3f5f"
          },
          "geo": {
           "bgcolor": "white",
           "lakecolor": "white",
           "landcolor": "#E5ECF6",
           "showlakes": true,
           "showland": true,
           "subunitcolor": "white"
          },
          "hoverlabel": {
           "align": "left"
          },
          "hovermode": "closest",
          "mapbox": {
           "style": "light"
          },
          "paper_bgcolor": "white",
          "plot_bgcolor": "#E5ECF6",
          "polar": {
           "angularaxis": {
            "gridcolor": "white",
            "linecolor": "white",
            "ticks": ""
           },
           "bgcolor": "#E5ECF6",
           "radialaxis": {
            "gridcolor": "white",
            "linecolor": "white",
            "ticks": ""
           }
          },
          "scene": {
           "xaxis": {
            "backgroundcolor": "#E5ECF6",
            "gridcolor": "white",
            "gridwidth": 2,
            "linecolor": "white",
            "showbackground": true,
            "ticks": "",
            "zerolinecolor": "white"
           },
           "yaxis": {
            "backgroundcolor": "#E5ECF6",
            "gridcolor": "white",
            "gridwidth": 2,
            "linecolor": "white",
            "showbackground": true,
            "ticks": "",
            "zerolinecolor": "white"
           },
           "zaxis": {
            "backgroundcolor": "#E5ECF6",
            "gridcolor": "white",
            "gridwidth": 2,
            "linecolor": "white",
            "showbackground": true,
            "ticks": "",
            "zerolinecolor": "white"
           }
          },
          "shapedefaults": {
           "line": {
            "color": "#2a3f5f"
           }
          },
          "ternary": {
           "aaxis": {
            "gridcolor": "white",
            "linecolor": "white",
            "ticks": ""
           },
           "baxis": {
            "gridcolor": "white",
            "linecolor": "white",
            "ticks": ""
           },
           "bgcolor": "#E5ECF6",
           "caxis": {
            "gridcolor": "white",
            "linecolor": "white",
            "ticks": ""
           }
          },
          "title": {
           "x": 0.05
          },
          "xaxis": {
           "automargin": true,
           "gridcolor": "white",
           "linecolor": "white",
           "ticks": "",
           "title": {
            "standoff": 15
           },
           "zerolinecolor": "white",
           "zerolinewidth": 2
          },
          "yaxis": {
           "automargin": true,
           "gridcolor": "white",
           "linecolor": "white",
           "ticks": "",
           "title": {
            "standoff": 15
           },
           "zerolinecolor": "white",
           "zerolinewidth": 2
          }
         }
        },
        "title": {
         "text": "Temperatur over tid i tromsø"
        },
        "xaxis": {
         "title": {
          "text": "Dato"
         }
        },
        "yaxis": {
         "title": {
          "text": "Temperatur (°C)"
         }
        }
       }
      }
     },
     "metadata": {},
     "output_type": "display_data"
    },
    {
     "name": "stdout",
     "output_type": "stream",
     "text": [
      "Temperatur:\n",
      "Median: -1.05, Standardavvik: 3.29\n"
     ]
    },
    {
     "data": {
      "application/vnd.plotly.v1+json": {
       "config": {
        "plotlyServerURL": "https://plot.ly"
       },
       "data": [
        {
         "marker": {
          "color": "#1f77b4"
         },
         "name": "Nedbør i tromsø",
         "type": "bar",
         "x": [
          "2025-03-09T00:00:00+00:00",
          "2025-03-09T00:00:00+00:00",
          "2025-03-10T00:00:00+00:00",
          "2025-03-10T00:00:00+00:00",
          "2025-03-11T00:00:00+00:00",
          "2025-03-11T00:00:00+00:00",
          "2025-03-12T00:00:00+00:00",
          "2025-03-12T00:00:00+00:00",
          "2025-03-13T00:00:00+00:00",
          "2025-03-13T00:00:00+00:00",
          "2025-03-14T00:00:00+00:00",
          "2025-03-14T00:00:00+00:00",
          "2025-03-15T00:00:00+00:00",
          "2025-03-15T00:00:00+00:00",
          "2025-03-16T00:00:00+00:00",
          "2025-03-16T00:00:00+00:00",
          "2025-03-17T00:00:00+00:00",
          "2025-03-17T00:00:00+00:00",
          "2025-03-18T00:00:00+00:00",
          "2025-03-18T00:00:00+00:00",
          "2025-03-19T00:00:00+00:00",
          "2025-03-19T00:00:00+00:00",
          "2025-03-20T00:00:00+00:00",
          "2025-03-20T00:00:00+00:00",
          "2025-03-21T00:00:00+00:00",
          "2025-03-21T00:00:00+00:00",
          "2025-03-22T00:00:00+00:00",
          "2025-03-22T00:00:00+00:00",
          "2025-03-23T00:00:00+00:00",
          "2025-03-23T00:00:00+00:00",
          "2025-03-24T00:00:00+00:00",
          "2025-03-24T00:00:00+00:00",
          "2025-03-25T00:00:00+00:00",
          "2025-03-25T00:00:00+00:00",
          "2025-03-26T00:00:00+00:00",
          "2025-03-26T00:00:00+00:00",
          "2025-03-27T00:00:00+00:00",
          "2025-03-27T00:00:00+00:00",
          "2025-03-28T00:00:00+00:00",
          "2025-03-28T00:00:00+00:00",
          "2025-03-29T00:00:00+00:00",
          "2025-03-29T00:00:00+00:00",
          "2025-03-30T00:00:00+00:00",
          "2025-03-30T00:00:00+00:00",
          "2025-03-31T00:00:00+00:00",
          "2025-03-31T00:00:00+00:00",
          "2025-04-01T00:00:00+00:00",
          "2025-04-01T00:00:00+00:00",
          "2025-04-02T00:00:00+00:00",
          "2025-04-02T00:00:00+00:00",
          "2025-04-03T00:00:00+00:00",
          "2025-04-03T00:00:00+00:00",
          "2025-04-04T00:00:00+00:00",
          "2025-04-04T00:00:00+00:00",
          "2025-04-05T00:00:00+00:00",
          "2025-04-05T00:00:00+00:00",
          "2025-04-06T00:00:00+00:00",
          "2025-04-06T00:00:00+00:00",
          "2025-04-07T00:00:00+00:00",
          "2025-04-07T00:00:00+00:00"
         ],
         "y": {
          "bdata": "zczMzMzMGkCamZmZmZkXQJqZmZmZmSNAMzMzMzMzEUCamZmZmZn5P2ZmZmZmZiNAAAAAAAAAAAAAAAAAAAAAAAAAAAAAACNAAAAAAAAAAAAzMzMzMzMhQM3MzMzMzCVAmpmZmZmZLECamZmZmZknQM3MzMzMzCpAMzMzMzMzNUAAAAAAAAAmQJqZmZmZmSBAAAAAAAAANkBmZmZmZmYrQGZmZmZmZiVAMzMzMzOzMUBmZmZmZmYhQAAAAAAAACRAMzMzMzMzC0AAAAAAAAAcQDMzMzMzM9M/zczMzMzM9D8zMzMzMzP7PwAAAAAAAAAAAAAAAAAAAAAzMzMzMzP7P5qZmZmZGTNAZmZmZmZmEkAAAAAAAAAqQAAAAAAAADRAmpmZmZmZIEAzMzMzMzMjQDMzMzMzMwNAMzMzMzMzIEBmZmZmZmYnQGZmZmZmZiBAAAAAAAAAAAAAAAAAAAAQQGZmZmZmZuY/ZmZmZmZm5j8zMzMzMzMDQM3MzMzMzOw/MzMzMzMzI0BmZmZmZmYhQDMzMzMzMxlAZmZmZmZmFkAzMzMzMzP7PwAAAAAAABJAMzMzMzMzF0DNzMzMzMwQQJqZmZmZmRFAZmZmZmZmFkCamZmZmZm5P2ZmZmZmZuY/",
          "dtype": "f8"
         }
        },
        {
         "line": {
          "color": "rgba(31, 119, 180, 0.8)",
          "dash": "dash"
         },
         "mode": "lines",
         "name": "Gjennomsnittsnedbør i tromsø",
         "type": "scatter",
         "x": [
          "2025-03-09T00:00:00+00:00",
          "2025-03-09T00:00:00+00:00",
          "2025-03-10T00:00:00+00:00",
          "2025-03-10T00:00:00+00:00",
          "2025-03-11T00:00:00+00:00",
          "2025-03-11T00:00:00+00:00",
          "2025-03-12T00:00:00+00:00",
          "2025-03-12T00:00:00+00:00",
          "2025-03-13T00:00:00+00:00",
          "2025-03-13T00:00:00+00:00",
          "2025-03-14T00:00:00+00:00",
          "2025-03-14T00:00:00+00:00",
          "2025-03-15T00:00:00+00:00",
          "2025-03-15T00:00:00+00:00",
          "2025-03-16T00:00:00+00:00",
          "2025-03-16T00:00:00+00:00",
          "2025-03-17T00:00:00+00:00",
          "2025-03-17T00:00:00+00:00",
          "2025-03-18T00:00:00+00:00",
          "2025-03-18T00:00:00+00:00",
          "2025-03-19T00:00:00+00:00",
          "2025-03-19T00:00:00+00:00",
          "2025-03-20T00:00:00+00:00",
          "2025-03-20T00:00:00+00:00",
          "2025-03-21T00:00:00+00:00",
          "2025-03-21T00:00:00+00:00",
          "2025-03-22T00:00:00+00:00",
          "2025-03-22T00:00:00+00:00",
          "2025-03-23T00:00:00+00:00",
          "2025-03-23T00:00:00+00:00",
          "2025-03-24T00:00:00+00:00",
          "2025-03-24T00:00:00+00:00",
          "2025-03-25T00:00:00+00:00",
          "2025-03-25T00:00:00+00:00",
          "2025-03-26T00:00:00+00:00",
          "2025-03-26T00:00:00+00:00",
          "2025-03-27T00:00:00+00:00",
          "2025-03-27T00:00:00+00:00",
          "2025-03-28T00:00:00+00:00",
          "2025-03-28T00:00:00+00:00",
          "2025-03-29T00:00:00+00:00",
          "2025-03-29T00:00:00+00:00",
          "2025-03-30T00:00:00+00:00",
          "2025-03-30T00:00:00+00:00",
          "2025-03-31T00:00:00+00:00",
          "2025-03-31T00:00:00+00:00",
          "2025-04-01T00:00:00+00:00",
          "2025-04-01T00:00:00+00:00",
          "2025-04-02T00:00:00+00:00",
          "2025-04-02T00:00:00+00:00",
          "2025-04-03T00:00:00+00:00",
          "2025-04-03T00:00:00+00:00",
          "2025-04-04T00:00:00+00:00",
          "2025-04-04T00:00:00+00:00",
          "2025-04-05T00:00:00+00:00",
          "2025-04-05T00:00:00+00:00",
          "2025-04-06T00:00:00+00:00",
          "2025-04-06T00:00:00+00:00",
          "2025-04-07T00:00:00+00:00",
          "2025-04-07T00:00:00+00:00"
         ],
         "y": [
          6.9350000000000005,
          6.9350000000000005,
          6.9350000000000005,
          6.9350000000000005,
          6.9350000000000005,
          6.9350000000000005,
          6.9350000000000005,
          6.9350000000000005,
          6.9350000000000005,
          6.9350000000000005,
          6.9350000000000005,
          6.9350000000000005,
          6.9350000000000005,
          6.9350000000000005,
          6.9350000000000005,
          6.9350000000000005,
          6.9350000000000005,
          6.9350000000000005,
          6.9350000000000005,
          6.9350000000000005,
          6.9350000000000005,
          6.9350000000000005,
          6.9350000000000005,
          6.9350000000000005,
          6.9350000000000005,
          6.9350000000000005,
          6.9350000000000005,
          6.9350000000000005,
          6.9350000000000005,
          6.9350000000000005,
          6.9350000000000005,
          6.9350000000000005,
          6.9350000000000005,
          6.9350000000000005,
          6.9350000000000005,
          6.9350000000000005,
          6.9350000000000005,
          6.9350000000000005,
          6.9350000000000005,
          6.9350000000000005,
          6.9350000000000005,
          6.9350000000000005,
          6.9350000000000005,
          6.9350000000000005,
          6.9350000000000005,
          6.9350000000000005,
          6.9350000000000005,
          6.9350000000000005,
          6.9350000000000005,
          6.9350000000000005,
          6.9350000000000005,
          6.9350000000000005,
          6.9350000000000005,
          6.9350000000000005,
          6.9350000000000005,
          6.9350000000000005,
          6.9350000000000005,
          6.9350000000000005,
          6.9350000000000005,
          6.9350000000000005
         ]
        }
       ],
       "layout": {
        "legend": {
         "title": {
          "text": "Nedbør"
         }
        },
        "template": {
         "data": {
          "bar": [
           {
            "error_x": {
             "color": "#2a3f5f"
            },
            "error_y": {
             "color": "#2a3f5f"
            },
            "marker": {
             "line": {
              "color": "#E5ECF6",
              "width": 0.5
             },
             "pattern": {
              "fillmode": "overlay",
              "size": 10,
              "solidity": 0.2
             }
            },
            "type": "bar"
           }
          ],
          "barpolar": [
           {
            "marker": {
             "line": {
              "color": "#E5ECF6",
              "width": 0.5
             },
             "pattern": {
              "fillmode": "overlay",
              "size": 10,
              "solidity": 0.2
             }
            },
            "type": "barpolar"
           }
          ],
          "carpet": [
           {
            "aaxis": {
             "endlinecolor": "#2a3f5f",
             "gridcolor": "white",
             "linecolor": "white",
             "minorgridcolor": "white",
             "startlinecolor": "#2a3f5f"
            },
            "baxis": {
             "endlinecolor": "#2a3f5f",
             "gridcolor": "white",
             "linecolor": "white",
             "minorgridcolor": "white",
             "startlinecolor": "#2a3f5f"
            },
            "type": "carpet"
           }
          ],
          "choropleth": [
           {
            "colorbar": {
             "outlinewidth": 0,
             "ticks": ""
            },
            "type": "choropleth"
           }
          ],
          "contour": [
           {
            "colorbar": {
             "outlinewidth": 0,
             "ticks": ""
            },
            "colorscale": [
             [
              0,
              "#0d0887"
             ],
             [
              0.1111111111111111,
              "#46039f"
             ],
             [
              0.2222222222222222,
              "#7201a8"
             ],
             [
              0.3333333333333333,
              "#9c179e"
             ],
             [
              0.4444444444444444,
              "#bd3786"
             ],
             [
              0.5555555555555556,
              "#d8576b"
             ],
             [
              0.6666666666666666,
              "#ed7953"
             ],
             [
              0.7777777777777778,
              "#fb9f3a"
             ],
             [
              0.8888888888888888,
              "#fdca26"
             ],
             [
              1,
              "#f0f921"
             ]
            ],
            "type": "contour"
           }
          ],
          "contourcarpet": [
           {
            "colorbar": {
             "outlinewidth": 0,
             "ticks": ""
            },
            "type": "contourcarpet"
           }
          ],
          "heatmap": [
           {
            "colorbar": {
             "outlinewidth": 0,
             "ticks": ""
            },
            "colorscale": [
             [
              0,
              "#0d0887"
             ],
             [
              0.1111111111111111,
              "#46039f"
             ],
             [
              0.2222222222222222,
              "#7201a8"
             ],
             [
              0.3333333333333333,
              "#9c179e"
             ],
             [
              0.4444444444444444,
              "#bd3786"
             ],
             [
              0.5555555555555556,
              "#d8576b"
             ],
             [
              0.6666666666666666,
              "#ed7953"
             ],
             [
              0.7777777777777778,
              "#fb9f3a"
             ],
             [
              0.8888888888888888,
              "#fdca26"
             ],
             [
              1,
              "#f0f921"
             ]
            ],
            "type": "heatmap"
           }
          ],
          "histogram": [
           {
            "marker": {
             "pattern": {
              "fillmode": "overlay",
              "size": 10,
              "solidity": 0.2
             }
            },
            "type": "histogram"
           }
          ],
          "histogram2d": [
           {
            "colorbar": {
             "outlinewidth": 0,
             "ticks": ""
            },
            "colorscale": [
             [
              0,
              "#0d0887"
             ],
             [
              0.1111111111111111,
              "#46039f"
             ],
             [
              0.2222222222222222,
              "#7201a8"
             ],
             [
              0.3333333333333333,
              "#9c179e"
             ],
             [
              0.4444444444444444,
              "#bd3786"
             ],
             [
              0.5555555555555556,
              "#d8576b"
             ],
             [
              0.6666666666666666,
              "#ed7953"
             ],
             [
              0.7777777777777778,
              "#fb9f3a"
             ],
             [
              0.8888888888888888,
              "#fdca26"
             ],
             [
              1,
              "#f0f921"
             ]
            ],
            "type": "histogram2d"
           }
          ],
          "histogram2dcontour": [
           {
            "colorbar": {
             "outlinewidth": 0,
             "ticks": ""
            },
            "colorscale": [
             [
              0,
              "#0d0887"
             ],
             [
              0.1111111111111111,
              "#46039f"
             ],
             [
              0.2222222222222222,
              "#7201a8"
             ],
             [
              0.3333333333333333,
              "#9c179e"
             ],
             [
              0.4444444444444444,
              "#bd3786"
             ],
             [
              0.5555555555555556,
              "#d8576b"
             ],
             [
              0.6666666666666666,
              "#ed7953"
             ],
             [
              0.7777777777777778,
              "#fb9f3a"
             ],
             [
              0.8888888888888888,
              "#fdca26"
             ],
             [
              1,
              "#f0f921"
             ]
            ],
            "type": "histogram2dcontour"
           }
          ],
          "mesh3d": [
           {
            "colorbar": {
             "outlinewidth": 0,
             "ticks": ""
            },
            "type": "mesh3d"
           }
          ],
          "parcoords": [
           {
            "line": {
             "colorbar": {
              "outlinewidth": 0,
              "ticks": ""
             }
            },
            "type": "parcoords"
           }
          ],
          "pie": [
           {
            "automargin": true,
            "type": "pie"
           }
          ],
          "scatter": [
           {
            "fillpattern": {
             "fillmode": "overlay",
             "size": 10,
             "solidity": 0.2
            },
            "type": "scatter"
           }
          ],
          "scatter3d": [
           {
            "line": {
             "colorbar": {
              "outlinewidth": 0,
              "ticks": ""
             }
            },
            "marker": {
             "colorbar": {
              "outlinewidth": 0,
              "ticks": ""
             }
            },
            "type": "scatter3d"
           }
          ],
          "scattercarpet": [
           {
            "marker": {
             "colorbar": {
              "outlinewidth": 0,
              "ticks": ""
             }
            },
            "type": "scattercarpet"
           }
          ],
          "scattergeo": [
           {
            "marker": {
             "colorbar": {
              "outlinewidth": 0,
              "ticks": ""
             }
            },
            "type": "scattergeo"
           }
          ],
          "scattergl": [
           {
            "marker": {
             "colorbar": {
              "outlinewidth": 0,
              "ticks": ""
             }
            },
            "type": "scattergl"
           }
          ],
          "scattermap": [
           {
            "marker": {
             "colorbar": {
              "outlinewidth": 0,
              "ticks": ""
             }
            },
            "type": "scattermap"
           }
          ],
          "scattermapbox": [
           {
            "marker": {
             "colorbar": {
              "outlinewidth": 0,
              "ticks": ""
             }
            },
            "type": "scattermapbox"
           }
          ],
          "scatterpolar": [
           {
            "marker": {
             "colorbar": {
              "outlinewidth": 0,
              "ticks": ""
             }
            },
            "type": "scatterpolar"
           }
          ],
          "scatterpolargl": [
           {
            "marker": {
             "colorbar": {
              "outlinewidth": 0,
              "ticks": ""
             }
            },
            "type": "scatterpolargl"
           }
          ],
          "scatterternary": [
           {
            "marker": {
             "colorbar": {
              "outlinewidth": 0,
              "ticks": ""
             }
            },
            "type": "scatterternary"
           }
          ],
          "surface": [
           {
            "colorbar": {
             "outlinewidth": 0,
             "ticks": ""
            },
            "colorscale": [
             [
              0,
              "#0d0887"
             ],
             [
              0.1111111111111111,
              "#46039f"
             ],
             [
              0.2222222222222222,
              "#7201a8"
             ],
             [
              0.3333333333333333,
              "#9c179e"
             ],
             [
              0.4444444444444444,
              "#bd3786"
             ],
             [
              0.5555555555555556,
              "#d8576b"
             ],
             [
              0.6666666666666666,
              "#ed7953"
             ],
             [
              0.7777777777777778,
              "#fb9f3a"
             ],
             [
              0.8888888888888888,
              "#fdca26"
             ],
             [
              1,
              "#f0f921"
             ]
            ],
            "type": "surface"
           }
          ],
          "table": [
           {
            "cells": {
             "fill": {
              "color": "#EBF0F8"
             },
             "line": {
              "color": "white"
             }
            },
            "header": {
             "fill": {
              "color": "#C8D4E3"
             },
             "line": {
              "color": "white"
             }
            },
            "type": "table"
           }
          ]
         },
         "layout": {
          "annotationdefaults": {
           "arrowcolor": "#2a3f5f",
           "arrowhead": 0,
           "arrowwidth": 1
          },
          "autotypenumbers": "strict",
          "coloraxis": {
           "colorbar": {
            "outlinewidth": 0,
            "ticks": ""
           }
          },
          "colorscale": {
           "diverging": [
            [
             0,
             "#8e0152"
            ],
            [
             0.1,
             "#c51b7d"
            ],
            [
             0.2,
             "#de77ae"
            ],
            [
             0.3,
             "#f1b6da"
            ],
            [
             0.4,
             "#fde0ef"
            ],
            [
             0.5,
             "#f7f7f7"
            ],
            [
             0.6,
             "#e6f5d0"
            ],
            [
             0.7,
             "#b8e186"
            ],
            [
             0.8,
             "#7fbc41"
            ],
            [
             0.9,
             "#4d9221"
            ],
            [
             1,
             "#276419"
            ]
           ],
           "sequential": [
            [
             0,
             "#0d0887"
            ],
            [
             0.1111111111111111,
             "#46039f"
            ],
            [
             0.2222222222222222,
             "#7201a8"
            ],
            [
             0.3333333333333333,
             "#9c179e"
            ],
            [
             0.4444444444444444,
             "#bd3786"
            ],
            [
             0.5555555555555556,
             "#d8576b"
            ],
            [
             0.6666666666666666,
             "#ed7953"
            ],
            [
             0.7777777777777778,
             "#fb9f3a"
            ],
            [
             0.8888888888888888,
             "#fdca26"
            ],
            [
             1,
             "#f0f921"
            ]
           ],
           "sequentialminus": [
            [
             0,
             "#0d0887"
            ],
            [
             0.1111111111111111,
             "#46039f"
            ],
            [
             0.2222222222222222,
             "#7201a8"
            ],
            [
             0.3333333333333333,
             "#9c179e"
            ],
            [
             0.4444444444444444,
             "#bd3786"
            ],
            [
             0.5555555555555556,
             "#d8576b"
            ],
            [
             0.6666666666666666,
             "#ed7953"
            ],
            [
             0.7777777777777778,
             "#fb9f3a"
            ],
            [
             0.8888888888888888,
             "#fdca26"
            ],
            [
             1,
             "#f0f921"
            ]
           ]
          },
          "colorway": [
           "#636efa",
           "#EF553B",
           "#00cc96",
           "#ab63fa",
           "#FFA15A",
           "#19d3f3",
           "#FF6692",
           "#B6E880",
           "#FF97FF",
           "#FECB52"
          ],
          "font": {
           "color": "#2a3f5f"
          },
          "geo": {
           "bgcolor": "white",
           "lakecolor": "white",
           "landcolor": "#E5ECF6",
           "showlakes": true,
           "showland": true,
           "subunitcolor": "white"
          },
          "hoverlabel": {
           "align": "left"
          },
          "hovermode": "closest",
          "mapbox": {
           "style": "light"
          },
          "paper_bgcolor": "white",
          "plot_bgcolor": "#E5ECF6",
          "polar": {
           "angularaxis": {
            "gridcolor": "white",
            "linecolor": "white",
            "ticks": ""
           },
           "bgcolor": "#E5ECF6",
           "radialaxis": {
            "gridcolor": "white",
            "linecolor": "white",
            "ticks": ""
           }
          },
          "scene": {
           "xaxis": {
            "backgroundcolor": "#E5ECF6",
            "gridcolor": "white",
            "gridwidth": 2,
            "linecolor": "white",
            "showbackground": true,
            "ticks": "",
            "zerolinecolor": "white"
           },
           "yaxis": {
            "backgroundcolor": "#E5ECF6",
            "gridcolor": "white",
            "gridwidth": 2,
            "linecolor": "white",
            "showbackground": true,
            "ticks": "",
            "zerolinecolor": "white"
           },
           "zaxis": {
            "backgroundcolor": "#E5ECF6",
            "gridcolor": "white",
            "gridwidth": 2,
            "linecolor": "white",
            "showbackground": true,
            "ticks": "",
            "zerolinecolor": "white"
           }
          },
          "shapedefaults": {
           "line": {
            "color": "#2a3f5f"
           }
          },
          "ternary": {
           "aaxis": {
            "gridcolor": "white",
            "linecolor": "white",
            "ticks": ""
           },
           "baxis": {
            "gridcolor": "white",
            "linecolor": "white",
            "ticks": ""
           },
           "bgcolor": "#E5ECF6",
           "caxis": {
            "gridcolor": "white",
            "linecolor": "white",
            "ticks": ""
           }
          },
          "title": {
           "x": 0.05
          },
          "xaxis": {
           "automargin": true,
           "gridcolor": "white",
           "linecolor": "white",
           "ticks": "",
           "title": {
            "standoff": 15
           },
           "zerolinecolor": "white",
           "zerolinewidth": 2
          },
          "yaxis": {
           "automargin": true,
           "gridcolor": "white",
           "linecolor": "white",
           "ticks": "",
           "title": {
            "standoff": 15
           },
           "zerolinecolor": "white",
           "zerolinewidth": 2
          }
         }
        },
        "title": {
         "text": "Nedbør over tid i tromsø"
        },
        "xaxis": {
         "title": {
          "text": "Dato"
         }
        },
        "yaxis": {
         "title": {
          "text": "Nedbør (mm)"
         }
        }
       }
      }
     },
     "metadata": {},
     "output_type": "display_data"
    },
    {
     "name": "stdout",
     "output_type": "stream",
     "text": [
      "\n",
      "Nedbør:\n",
      "Median: 6.10, Standardavvik: 5.78\n"
     ]
    },
    {
     "data": {
      "application/vnd.plotly.v1+json": {
       "config": {
        "plotlyServerURL": "https://plot.ly"
       },
       "data": [
        {
         "line": {
          "color": "#1f77b4"
         },
         "mode": "lines",
         "name": "Vindhastighet i tromsø",
         "type": "scatter",
         "x": [
          "2025-03-09T00:00:00+00:00",
          "2025-03-10T00:00:00+00:00",
          "2025-03-11T00:00:00+00:00",
          "2025-03-12T00:00:00+00:00",
          "2025-03-13T00:00:00+00:00",
          "2025-03-14T00:00:00+00:00",
          "2025-03-15T00:00:00+00:00",
          "2025-03-16T00:00:00+00:00",
          "2025-03-17T00:00:00+00:00",
          "2025-03-18T00:00:00+00:00",
          "2025-03-19T00:00:00+00:00",
          "2025-03-20T00:00:00+00:00",
          "2025-03-21T00:00:00+00:00",
          "2025-03-22T00:00:00+00:00",
          "2025-03-23T00:00:00+00:00",
          "2025-03-24T00:00:00+00:00",
          "2025-03-25T00:00:00+00:00",
          "2025-03-26T00:00:00+00:00",
          "2025-03-27T00:00:00+00:00",
          "2025-03-28T00:00:00+00:00",
          "2025-03-29T00:00:00+00:00",
          "2025-03-30T00:00:00+00:00",
          "2025-03-31T00:00:00+00:00",
          "2025-04-01T00:00:00+00:00",
          "2025-04-02T00:00:00+00:00",
          "2025-04-03T00:00:00+00:00",
          "2025-04-04T00:00:00+00:00",
          "2025-04-05T00:00:00+00:00",
          "2025-04-06T00:00:00+00:00",
          "2025-04-07T00:00:00+00:00"
         ],
         "y": {
          "bdata": "mpmZmZmZBUDNzMzMzMwMQAAAAAAAAABAMzMzMzMzA0AzMzMzMzMZQM3MzMzMzAxAMzMzMzMzFUDNzMzMzMwIQAAAAAAAAARAZmZmZmZmFkCamZmZmZkJQJqZmZmZmQFAmpmZmZmZFUDNzMzMzMweQM3MzMzMzBxAzczMzMzMFkDNzMzMzMwMQDMzMzMzMwdAmpmZmZmZAUBmZmZmZmb+PwAAAAAAAAxAMzMzMzMz8z/NzMzMzMwEQAAAAAAAABxAMzMzMzMzE0CamZmZmZkVQDMzMzMzMw9AzczMzMzMEEAzMzMzMzMDQDMzMzMzMxFA",
          "dtype": "f8"
         }
        },
        {
         "line": {
          "color": "#1f77b4",
          "dash": "dash"
         },
         "mode": "lines",
         "name": "Gjennomsnittsvindhastighet i tromsø",
         "type": "scatter",
         "x": [
          "2025-03-09T00:00:00+00:00",
          "2025-03-10T00:00:00+00:00",
          "2025-03-11T00:00:00+00:00",
          "2025-03-12T00:00:00+00:00",
          "2025-03-13T00:00:00+00:00",
          "2025-03-14T00:00:00+00:00",
          "2025-03-15T00:00:00+00:00",
          "2025-03-16T00:00:00+00:00",
          "2025-03-17T00:00:00+00:00",
          "2025-03-18T00:00:00+00:00",
          "2025-03-19T00:00:00+00:00",
          "2025-03-20T00:00:00+00:00",
          "2025-03-21T00:00:00+00:00",
          "2025-03-22T00:00:00+00:00",
          "2025-03-23T00:00:00+00:00",
          "2025-03-24T00:00:00+00:00",
          "2025-03-25T00:00:00+00:00",
          "2025-03-26T00:00:00+00:00",
          "2025-03-27T00:00:00+00:00",
          "2025-03-28T00:00:00+00:00",
          "2025-03-29T00:00:00+00:00",
          "2025-03-30T00:00:00+00:00",
          "2025-03-31T00:00:00+00:00",
          "2025-04-01T00:00:00+00:00",
          "2025-04-02T00:00:00+00:00",
          "2025-04-03T00:00:00+00:00",
          "2025-04-04T00:00:00+00:00",
          "2025-04-05T00:00:00+00:00",
          "2025-04-06T00:00:00+00:00",
          "2025-04-07T00:00:00+00:00"
         ],
         "y": [
          3.9466666666666668,
          3.9466666666666668,
          3.9466666666666668,
          3.9466666666666668,
          3.9466666666666668,
          3.9466666666666668,
          3.9466666666666668,
          3.9466666666666668,
          3.9466666666666668,
          3.9466666666666668,
          3.9466666666666668,
          3.9466666666666668,
          3.9466666666666668,
          3.9466666666666668,
          3.9466666666666668,
          3.9466666666666668,
          3.9466666666666668,
          3.9466666666666668,
          3.9466666666666668,
          3.9466666666666668,
          3.9466666666666668,
          3.9466666666666668,
          3.9466666666666668,
          3.9466666666666668,
          3.9466666666666668,
          3.9466666666666668,
          3.9466666666666668,
          3.9466666666666668,
          3.9466666666666668,
          3.9466666666666668
         ]
        }
       ],
       "layout": {
        "legend": {
         "title": {
          "text": "Vindhastighet"
         }
        },
        "template": {
         "data": {
          "bar": [
           {
            "error_x": {
             "color": "#2a3f5f"
            },
            "error_y": {
             "color": "#2a3f5f"
            },
            "marker": {
             "line": {
              "color": "#E5ECF6",
              "width": 0.5
             },
             "pattern": {
              "fillmode": "overlay",
              "size": 10,
              "solidity": 0.2
             }
            },
            "type": "bar"
           }
          ],
          "barpolar": [
           {
            "marker": {
             "line": {
              "color": "#E5ECF6",
              "width": 0.5
             },
             "pattern": {
              "fillmode": "overlay",
              "size": 10,
              "solidity": 0.2
             }
            },
            "type": "barpolar"
           }
          ],
          "carpet": [
           {
            "aaxis": {
             "endlinecolor": "#2a3f5f",
             "gridcolor": "white",
             "linecolor": "white",
             "minorgridcolor": "white",
             "startlinecolor": "#2a3f5f"
            },
            "baxis": {
             "endlinecolor": "#2a3f5f",
             "gridcolor": "white",
             "linecolor": "white",
             "minorgridcolor": "white",
             "startlinecolor": "#2a3f5f"
            },
            "type": "carpet"
           }
          ],
          "choropleth": [
           {
            "colorbar": {
             "outlinewidth": 0,
             "ticks": ""
            },
            "type": "choropleth"
           }
          ],
          "contour": [
           {
            "colorbar": {
             "outlinewidth": 0,
             "ticks": ""
            },
            "colorscale": [
             [
              0,
              "#0d0887"
             ],
             [
              0.1111111111111111,
              "#46039f"
             ],
             [
              0.2222222222222222,
              "#7201a8"
             ],
             [
              0.3333333333333333,
              "#9c179e"
             ],
             [
              0.4444444444444444,
              "#bd3786"
             ],
             [
              0.5555555555555556,
              "#d8576b"
             ],
             [
              0.6666666666666666,
              "#ed7953"
             ],
             [
              0.7777777777777778,
              "#fb9f3a"
             ],
             [
              0.8888888888888888,
              "#fdca26"
             ],
             [
              1,
              "#f0f921"
             ]
            ],
            "type": "contour"
           }
          ],
          "contourcarpet": [
           {
            "colorbar": {
             "outlinewidth": 0,
             "ticks": ""
            },
            "type": "contourcarpet"
           }
          ],
          "heatmap": [
           {
            "colorbar": {
             "outlinewidth": 0,
             "ticks": ""
            },
            "colorscale": [
             [
              0,
              "#0d0887"
             ],
             [
              0.1111111111111111,
              "#46039f"
             ],
             [
              0.2222222222222222,
              "#7201a8"
             ],
             [
              0.3333333333333333,
              "#9c179e"
             ],
             [
              0.4444444444444444,
              "#bd3786"
             ],
             [
              0.5555555555555556,
              "#d8576b"
             ],
             [
              0.6666666666666666,
              "#ed7953"
             ],
             [
              0.7777777777777778,
              "#fb9f3a"
             ],
             [
              0.8888888888888888,
              "#fdca26"
             ],
             [
              1,
              "#f0f921"
             ]
            ],
            "type": "heatmap"
           }
          ],
          "histogram": [
           {
            "marker": {
             "pattern": {
              "fillmode": "overlay",
              "size": 10,
              "solidity": 0.2
             }
            },
            "type": "histogram"
           }
          ],
          "histogram2d": [
           {
            "colorbar": {
             "outlinewidth": 0,
             "ticks": ""
            },
            "colorscale": [
             [
              0,
              "#0d0887"
             ],
             [
              0.1111111111111111,
              "#46039f"
             ],
             [
              0.2222222222222222,
              "#7201a8"
             ],
             [
              0.3333333333333333,
              "#9c179e"
             ],
             [
              0.4444444444444444,
              "#bd3786"
             ],
             [
              0.5555555555555556,
              "#d8576b"
             ],
             [
              0.6666666666666666,
              "#ed7953"
             ],
             [
              0.7777777777777778,
              "#fb9f3a"
             ],
             [
              0.8888888888888888,
              "#fdca26"
             ],
             [
              1,
              "#f0f921"
             ]
            ],
            "type": "histogram2d"
           }
          ],
          "histogram2dcontour": [
           {
            "colorbar": {
             "outlinewidth": 0,
             "ticks": ""
            },
            "colorscale": [
             [
              0,
              "#0d0887"
             ],
             [
              0.1111111111111111,
              "#46039f"
             ],
             [
              0.2222222222222222,
              "#7201a8"
             ],
             [
              0.3333333333333333,
              "#9c179e"
             ],
             [
              0.4444444444444444,
              "#bd3786"
             ],
             [
              0.5555555555555556,
              "#d8576b"
             ],
             [
              0.6666666666666666,
              "#ed7953"
             ],
             [
              0.7777777777777778,
              "#fb9f3a"
             ],
             [
              0.8888888888888888,
              "#fdca26"
             ],
             [
              1,
              "#f0f921"
             ]
            ],
            "type": "histogram2dcontour"
           }
          ],
          "mesh3d": [
           {
            "colorbar": {
             "outlinewidth": 0,
             "ticks": ""
            },
            "type": "mesh3d"
           }
          ],
          "parcoords": [
           {
            "line": {
             "colorbar": {
              "outlinewidth": 0,
              "ticks": ""
             }
            },
            "type": "parcoords"
           }
          ],
          "pie": [
           {
            "automargin": true,
            "type": "pie"
           }
          ],
          "scatter": [
           {
            "fillpattern": {
             "fillmode": "overlay",
             "size": 10,
             "solidity": 0.2
            },
            "type": "scatter"
           }
          ],
          "scatter3d": [
           {
            "line": {
             "colorbar": {
              "outlinewidth": 0,
              "ticks": ""
             }
            },
            "marker": {
             "colorbar": {
              "outlinewidth": 0,
              "ticks": ""
             }
            },
            "type": "scatter3d"
           }
          ],
          "scattercarpet": [
           {
            "marker": {
             "colorbar": {
              "outlinewidth": 0,
              "ticks": ""
             }
            },
            "type": "scattercarpet"
           }
          ],
          "scattergeo": [
           {
            "marker": {
             "colorbar": {
              "outlinewidth": 0,
              "ticks": ""
             }
            },
            "type": "scattergeo"
           }
          ],
          "scattergl": [
           {
            "marker": {
             "colorbar": {
              "outlinewidth": 0,
              "ticks": ""
             }
            },
            "type": "scattergl"
           }
          ],
          "scattermap": [
           {
            "marker": {
             "colorbar": {
              "outlinewidth": 0,
              "ticks": ""
             }
            },
            "type": "scattermap"
           }
          ],
          "scattermapbox": [
           {
            "marker": {
             "colorbar": {
              "outlinewidth": 0,
              "ticks": ""
             }
            },
            "type": "scattermapbox"
           }
          ],
          "scatterpolar": [
           {
            "marker": {
             "colorbar": {
              "outlinewidth": 0,
              "ticks": ""
             }
            },
            "type": "scatterpolar"
           }
          ],
          "scatterpolargl": [
           {
            "marker": {
             "colorbar": {
              "outlinewidth": 0,
              "ticks": ""
             }
            },
            "type": "scatterpolargl"
           }
          ],
          "scatterternary": [
           {
            "marker": {
             "colorbar": {
              "outlinewidth": 0,
              "ticks": ""
             }
            },
            "type": "scatterternary"
           }
          ],
          "surface": [
           {
            "colorbar": {
             "outlinewidth": 0,
             "ticks": ""
            },
            "colorscale": [
             [
              0,
              "#0d0887"
             ],
             [
              0.1111111111111111,
              "#46039f"
             ],
             [
              0.2222222222222222,
              "#7201a8"
             ],
             [
              0.3333333333333333,
              "#9c179e"
             ],
             [
              0.4444444444444444,
              "#bd3786"
             ],
             [
              0.5555555555555556,
              "#d8576b"
             ],
             [
              0.6666666666666666,
              "#ed7953"
             ],
             [
              0.7777777777777778,
              "#fb9f3a"
             ],
             [
              0.8888888888888888,
              "#fdca26"
             ],
             [
              1,
              "#f0f921"
             ]
            ],
            "type": "surface"
           }
          ],
          "table": [
           {
            "cells": {
             "fill": {
              "color": "#EBF0F8"
             },
             "line": {
              "color": "white"
             }
            },
            "header": {
             "fill": {
              "color": "#C8D4E3"
             },
             "line": {
              "color": "white"
             }
            },
            "type": "table"
           }
          ]
         },
         "layout": {
          "annotationdefaults": {
           "arrowcolor": "#2a3f5f",
           "arrowhead": 0,
           "arrowwidth": 1
          },
          "autotypenumbers": "strict",
          "coloraxis": {
           "colorbar": {
            "outlinewidth": 0,
            "ticks": ""
           }
          },
          "colorscale": {
           "diverging": [
            [
             0,
             "#8e0152"
            ],
            [
             0.1,
             "#c51b7d"
            ],
            [
             0.2,
             "#de77ae"
            ],
            [
             0.3,
             "#f1b6da"
            ],
            [
             0.4,
             "#fde0ef"
            ],
            [
             0.5,
             "#f7f7f7"
            ],
            [
             0.6,
             "#e6f5d0"
            ],
            [
             0.7,
             "#b8e186"
            ],
            [
             0.8,
             "#7fbc41"
            ],
            [
             0.9,
             "#4d9221"
            ],
            [
             1,
             "#276419"
            ]
           ],
           "sequential": [
            [
             0,
             "#0d0887"
            ],
            [
             0.1111111111111111,
             "#46039f"
            ],
            [
             0.2222222222222222,
             "#7201a8"
            ],
            [
             0.3333333333333333,
             "#9c179e"
            ],
            [
             0.4444444444444444,
             "#bd3786"
            ],
            [
             0.5555555555555556,
             "#d8576b"
            ],
            [
             0.6666666666666666,
             "#ed7953"
            ],
            [
             0.7777777777777778,
             "#fb9f3a"
            ],
            [
             0.8888888888888888,
             "#fdca26"
            ],
            [
             1,
             "#f0f921"
            ]
           ],
           "sequentialminus": [
            [
             0,
             "#0d0887"
            ],
            [
             0.1111111111111111,
             "#46039f"
            ],
            [
             0.2222222222222222,
             "#7201a8"
            ],
            [
             0.3333333333333333,
             "#9c179e"
            ],
            [
             0.4444444444444444,
             "#bd3786"
            ],
            [
             0.5555555555555556,
             "#d8576b"
            ],
            [
             0.6666666666666666,
             "#ed7953"
            ],
            [
             0.7777777777777778,
             "#fb9f3a"
            ],
            [
             0.8888888888888888,
             "#fdca26"
            ],
            [
             1,
             "#f0f921"
            ]
           ]
          },
          "colorway": [
           "#636efa",
           "#EF553B",
           "#00cc96",
           "#ab63fa",
           "#FFA15A",
           "#19d3f3",
           "#FF6692",
           "#B6E880",
           "#FF97FF",
           "#FECB52"
          ],
          "font": {
           "color": "#2a3f5f"
          },
          "geo": {
           "bgcolor": "white",
           "lakecolor": "white",
           "landcolor": "#E5ECF6",
           "showlakes": true,
           "showland": true,
           "subunitcolor": "white"
          },
          "hoverlabel": {
           "align": "left"
          },
          "hovermode": "closest",
          "mapbox": {
           "style": "light"
          },
          "paper_bgcolor": "white",
          "plot_bgcolor": "#E5ECF6",
          "polar": {
           "angularaxis": {
            "gridcolor": "white",
            "linecolor": "white",
            "ticks": ""
           },
           "bgcolor": "#E5ECF6",
           "radialaxis": {
            "gridcolor": "white",
            "linecolor": "white",
            "ticks": ""
           }
          },
          "scene": {
           "xaxis": {
            "backgroundcolor": "#E5ECF6",
            "gridcolor": "white",
            "gridwidth": 2,
            "linecolor": "white",
            "showbackground": true,
            "ticks": "",
            "zerolinecolor": "white"
           },
           "yaxis": {
            "backgroundcolor": "#E5ECF6",
            "gridcolor": "white",
            "gridwidth": 2,
            "linecolor": "white",
            "showbackground": true,
            "ticks": "",
            "zerolinecolor": "white"
           },
           "zaxis": {
            "backgroundcolor": "#E5ECF6",
            "gridcolor": "white",
            "gridwidth": 2,
            "linecolor": "white",
            "showbackground": true,
            "ticks": "",
            "zerolinecolor": "white"
           }
          },
          "shapedefaults": {
           "line": {
            "color": "#2a3f5f"
           }
          },
          "ternary": {
           "aaxis": {
            "gridcolor": "white",
            "linecolor": "white",
            "ticks": ""
           },
           "baxis": {
            "gridcolor": "white",
            "linecolor": "white",
            "ticks": ""
           },
           "bgcolor": "#E5ECF6",
           "caxis": {
            "gridcolor": "white",
            "linecolor": "white",
            "ticks": ""
           }
          },
          "title": {
           "x": 0.05
          },
          "xaxis": {
           "automargin": true,
           "gridcolor": "white",
           "linecolor": "white",
           "ticks": "",
           "title": {
            "standoff": 15
           },
           "zerolinecolor": "white",
           "zerolinewidth": 2
          },
          "yaxis": {
           "automargin": true,
           "gridcolor": "white",
           "linecolor": "white",
           "ticks": "",
           "title": {
            "standoff": 15
           },
           "zerolinecolor": "white",
           "zerolinewidth": 2
          }
         }
        },
        "title": {
         "text": "Vindhastighet over tid i tromsø"
        },
        "xaxis": {
         "title": {
          "text": "Dato"
         }
        },
        "yaxis": {
         "title": {
          "text": "Vindhastighet (m/s)"
         }
        }
       }
      }
     },
     "metadata": {},
     "output_type": "display_data"
    },
    {
     "name": "stdout",
     "output_type": "stream",
     "text": [
      "\n",
      "Vindhastighet:\n",
      "Median: 3.60, Standardavvik: 1.73\n"
     ]
    },
    {
     "data": {
      "application/vnd.plotly.v1+json": {
       "config": {
        "plotlyServerURL": "https://plot.ly"
       },
       "data": [
        {
         "marker": {
          "color": "#1f77b4"
         },
         "mode": "markers",
         "name": "Snøtykkelse i tromsø",
         "type": "scatter",
         "x": [
          "2025-03-09T00:00:00+00:00",
          "2025-03-09T00:00:00+00:00",
          "2025-03-09T01:00:00+00:00",
          "2025-03-09T02:00:00+00:00",
          "2025-03-09T03:00:00+00:00",
          "2025-03-09T04:00:00+00:00",
          "2025-03-09T05:00:00+00:00",
          "2025-03-09T06:00:00+00:00",
          "2025-03-09T07:00:00+00:00",
          "2025-03-09T08:00:00+00:00",
          "2025-03-09T09:00:00+00:00",
          "2025-03-09T10:00:00+00:00",
          "2025-03-09T11:00:00+00:00",
          "2025-03-09T12:00:00+00:00",
          "2025-03-09T13:00:00+00:00",
          "2025-03-09T14:00:00+00:00",
          "2025-03-09T15:00:00+00:00",
          "2025-03-09T16:00:00+00:00",
          "2025-03-09T17:00:00+00:00",
          "2025-03-09T18:00:00+00:00",
          "2025-03-09T19:00:00+00:00",
          "2025-03-09T20:00:00+00:00",
          "2025-03-09T21:00:00+00:00",
          "2025-03-09T22:00:00+00:00",
          "2025-03-09T23:00:00+00:00",
          "2025-03-10T00:00:00+00:00",
          "2025-03-10T00:00:00+00:00",
          "2025-03-10T01:00:00+00:00",
          "2025-03-10T02:00:00+00:00",
          "2025-03-10T03:00:00+00:00",
          "2025-03-10T04:00:00+00:00",
          "2025-03-10T05:00:00+00:00",
          "2025-03-10T06:00:00+00:00",
          "2025-03-10T07:00:00+00:00",
          "2025-03-10T08:00:00+00:00",
          "2025-03-10T09:00:00+00:00",
          "2025-03-10T10:00:00+00:00",
          "2025-03-10T11:00:00+00:00",
          "2025-03-10T12:00:00+00:00",
          "2025-03-10T13:00:00+00:00",
          "2025-03-10T14:00:00+00:00",
          "2025-03-10T15:00:00+00:00",
          "2025-03-10T16:00:00+00:00",
          "2025-03-10T17:00:00+00:00",
          "2025-03-10T18:00:00+00:00",
          "2025-03-10T19:00:00+00:00",
          "2025-03-10T20:00:00+00:00",
          "2025-03-10T21:00:00+00:00",
          "2025-03-10T22:00:00+00:00",
          "2025-03-10T23:00:00+00:00",
          "2025-03-11T00:00:00+00:00",
          "2025-03-11T00:00:00+00:00",
          "2025-03-11T01:00:00+00:00",
          "2025-03-11T02:00:00+00:00",
          "2025-03-11T03:00:00+00:00",
          "2025-03-11T04:00:00+00:00",
          "2025-03-11T05:00:00+00:00",
          "2025-03-11T06:00:00+00:00",
          "2025-03-11T07:00:00+00:00",
          "2025-03-11T08:00:00+00:00",
          "2025-03-11T09:00:00+00:00",
          "2025-03-11T10:00:00+00:00",
          "2025-03-11T11:00:00+00:00",
          "2025-03-11T12:00:00+00:00",
          "2025-03-11T13:00:00+00:00",
          "2025-03-11T14:00:00+00:00",
          "2025-03-11T15:00:00+00:00",
          "2025-03-11T16:00:00+00:00",
          "2025-03-11T17:00:00+00:00",
          "2025-03-11T18:00:00+00:00",
          "2025-03-11T19:00:00+00:00",
          "2025-03-11T20:00:00+00:00",
          "2025-03-11T21:00:00+00:00",
          "2025-03-11T22:00:00+00:00",
          "2025-03-11T23:00:00+00:00",
          "2025-03-12T00:00:00+00:00",
          "2025-03-12T00:00:00+00:00",
          "2025-03-12T01:00:00+00:00",
          "2025-03-12T02:00:00+00:00",
          "2025-03-12T03:00:00+00:00",
          "2025-03-12T04:00:00+00:00",
          "2025-03-12T05:00:00+00:00",
          "2025-03-12T06:00:00+00:00",
          "2025-03-12T07:00:00+00:00",
          "2025-03-12T08:00:00+00:00",
          "2025-03-12T09:00:00+00:00",
          "2025-03-12T10:00:00+00:00",
          "2025-03-12T11:00:00+00:00",
          "2025-03-12T12:00:00+00:00",
          "2025-03-12T13:00:00+00:00",
          "2025-03-12T14:00:00+00:00",
          "2025-03-12T15:00:00+00:00",
          "2025-03-12T16:00:00+00:00",
          "2025-03-12T17:00:00+00:00",
          "2025-03-12T18:00:00+00:00",
          "2025-03-12T19:00:00+00:00",
          "2025-03-12T20:00:00+00:00",
          "2025-03-12T21:00:00+00:00",
          "2025-03-12T22:00:00+00:00",
          "2025-03-12T23:00:00+00:00",
          "2025-03-13T00:00:00+00:00",
          "2025-03-13T00:00:00+00:00",
          "2025-03-13T01:00:00+00:00",
          "2025-03-13T02:00:00+00:00",
          "2025-03-13T03:00:00+00:00",
          "2025-03-13T04:00:00+00:00",
          "2025-03-13T05:00:00+00:00",
          "2025-03-13T06:00:00+00:00",
          "2025-03-13T07:00:00+00:00",
          "2025-03-13T08:00:00+00:00",
          "2025-03-13T09:00:00+00:00",
          "2025-03-13T10:00:00+00:00",
          "2025-03-13T11:00:00+00:00",
          "2025-03-13T12:00:00+00:00",
          "2025-03-13T13:00:00+00:00",
          "2025-03-13T14:00:00+00:00",
          "2025-03-13T15:00:00+00:00",
          "2025-03-13T16:00:00+00:00",
          "2025-03-13T17:00:00+00:00",
          "2025-03-13T18:00:00+00:00",
          "2025-03-13T19:00:00+00:00",
          "2025-03-13T20:00:00+00:00",
          "2025-03-13T21:00:00+00:00",
          "2025-03-13T22:00:00+00:00",
          "2025-03-13T23:00:00+00:00",
          "2025-03-14T00:00:00+00:00",
          "2025-03-14T00:00:00+00:00",
          "2025-03-14T01:00:00+00:00",
          "2025-03-14T02:00:00+00:00",
          "2025-03-14T03:00:00+00:00",
          "2025-03-14T04:00:00+00:00",
          "2025-03-14T05:00:00+00:00",
          "2025-03-14T06:00:00+00:00",
          "2025-03-14T07:00:00+00:00",
          "2025-03-14T08:00:00+00:00",
          "2025-03-14T09:00:00+00:00",
          "2025-03-14T10:00:00+00:00",
          "2025-03-14T11:00:00+00:00",
          "2025-03-14T12:00:00+00:00",
          "2025-03-14T13:00:00+00:00",
          "2025-03-14T14:00:00+00:00",
          "2025-03-14T15:00:00+00:00",
          "2025-03-14T16:00:00+00:00",
          "2025-03-14T17:00:00+00:00",
          "2025-03-14T18:00:00+00:00",
          "2025-03-14T19:00:00+00:00",
          "2025-03-14T20:00:00+00:00",
          "2025-03-14T21:00:00+00:00",
          "2025-03-14T22:00:00+00:00",
          "2025-03-14T23:00:00+00:00",
          "2025-03-15T00:00:00+00:00",
          "2025-03-15T00:00:00+00:00",
          "2025-03-15T01:00:00+00:00",
          "2025-03-15T02:00:00+00:00",
          "2025-03-15T03:00:00+00:00",
          "2025-03-15T04:00:00+00:00",
          "2025-03-15T05:00:00+00:00",
          "2025-03-15T06:00:00+00:00",
          "2025-03-15T07:00:00+00:00",
          "2025-03-15T08:00:00+00:00",
          "2025-03-15T09:00:00+00:00",
          "2025-03-15T10:00:00+00:00",
          "2025-03-15T11:00:00+00:00",
          "2025-03-15T12:00:00+00:00",
          "2025-03-15T13:00:00+00:00",
          "2025-03-15T14:00:00+00:00",
          "2025-03-15T15:00:00+00:00",
          "2025-03-15T16:00:00+00:00",
          "2025-03-15T17:00:00+00:00",
          "2025-03-15T18:00:00+00:00",
          "2025-03-15T19:00:00+00:00",
          "2025-03-15T20:00:00+00:00",
          "2025-03-15T21:00:00+00:00",
          "2025-03-15T22:00:00+00:00",
          "2025-03-15T23:00:00+00:00",
          "2025-03-16T00:00:00+00:00",
          "2025-03-16T00:00:00+00:00",
          "2025-03-16T01:00:00+00:00",
          "2025-03-16T02:00:00+00:00",
          "2025-03-16T03:00:00+00:00",
          "2025-03-16T04:00:00+00:00",
          "2025-03-16T05:00:00+00:00",
          "2025-03-16T06:00:00+00:00",
          "2025-03-16T07:00:00+00:00",
          "2025-03-16T08:00:00+00:00",
          "2025-03-16T09:00:00+00:00",
          "2025-03-16T10:00:00+00:00",
          "2025-03-16T11:00:00+00:00",
          "2025-03-16T12:00:00+00:00",
          "2025-03-16T13:00:00+00:00",
          "2025-03-16T14:00:00+00:00",
          "2025-03-16T15:00:00+00:00",
          "2025-03-16T16:00:00+00:00",
          "2025-03-16T17:00:00+00:00",
          "2025-03-16T18:00:00+00:00",
          "2025-03-16T19:00:00+00:00",
          "2025-03-16T20:00:00+00:00",
          "2025-03-16T21:00:00+00:00",
          "2025-03-16T22:00:00+00:00",
          "2025-03-16T23:00:00+00:00",
          "2025-03-17T00:00:00+00:00",
          "2025-03-17T00:00:00+00:00",
          "2025-03-17T01:00:00+00:00",
          "2025-03-17T02:00:00+00:00",
          "2025-03-17T03:00:00+00:00",
          "2025-03-17T04:00:00+00:00",
          "2025-03-17T05:00:00+00:00",
          "2025-03-17T06:00:00+00:00",
          "2025-03-17T07:00:00+00:00",
          "2025-03-17T08:00:00+00:00",
          "2025-03-17T09:00:00+00:00",
          "2025-03-17T10:00:00+00:00",
          "2025-03-17T11:00:00+00:00",
          "2025-03-17T12:00:00+00:00",
          "2025-03-17T13:00:00+00:00",
          "2025-03-17T14:00:00+00:00",
          "2025-03-17T15:00:00+00:00",
          "2025-03-17T16:00:00+00:00",
          "2025-03-17T17:00:00+00:00",
          "2025-03-17T18:00:00+00:00",
          "2025-03-17T19:00:00+00:00",
          "2025-03-17T20:00:00+00:00",
          "2025-03-17T21:00:00+00:00",
          "2025-03-17T22:00:00+00:00",
          "2025-03-17T23:00:00+00:00",
          "2025-03-18T00:00:00+00:00",
          "2025-03-18T00:00:00+00:00",
          "2025-03-18T01:00:00+00:00",
          "2025-03-18T02:00:00+00:00",
          "2025-03-18T03:00:00+00:00",
          "2025-03-18T04:00:00+00:00",
          "2025-03-18T05:00:00+00:00",
          "2025-03-18T06:00:00+00:00",
          "2025-03-18T07:00:00+00:00",
          "2025-03-18T08:00:00+00:00",
          "2025-03-18T09:00:00+00:00",
          "2025-03-18T10:00:00+00:00",
          "2025-03-18T11:00:00+00:00",
          "2025-03-18T12:00:00+00:00",
          "2025-03-18T13:00:00+00:00",
          "2025-03-18T14:00:00+00:00",
          "2025-03-18T15:00:00+00:00",
          "2025-03-18T16:00:00+00:00",
          "2025-03-18T17:00:00+00:00",
          "2025-03-18T18:00:00+00:00",
          "2025-03-18T19:00:00+00:00",
          "2025-03-18T20:00:00+00:00",
          "2025-03-18T21:00:00+00:00",
          "2025-03-18T22:00:00+00:00",
          "2025-03-18T23:00:00+00:00",
          "2025-03-19T00:00:00+00:00",
          "2025-03-19T00:00:00+00:00",
          "2025-03-19T01:00:00+00:00",
          "2025-03-19T02:00:00+00:00",
          "2025-03-19T03:00:00+00:00",
          "2025-03-19T04:00:00+00:00",
          "2025-03-19T05:00:00+00:00",
          "2025-03-19T06:00:00+00:00",
          "2025-03-19T07:00:00+00:00",
          "2025-03-19T08:00:00+00:00",
          "2025-03-19T09:00:00+00:00",
          "2025-03-19T10:00:00+00:00",
          "2025-03-19T11:00:00+00:00",
          "2025-03-19T12:00:00+00:00",
          "2025-03-19T13:00:00+00:00",
          "2025-03-19T14:00:00+00:00",
          "2025-03-19T15:00:00+00:00",
          "2025-03-19T16:00:00+00:00",
          "2025-03-19T17:00:00+00:00",
          "2025-03-19T18:00:00+00:00",
          "2025-03-19T19:00:00+00:00",
          "2025-03-19T20:00:00+00:00",
          "2025-03-19T21:00:00+00:00",
          "2025-03-19T22:00:00+00:00",
          "2025-03-19T23:00:00+00:00",
          "2025-03-20T00:00:00+00:00",
          "2025-03-20T00:00:00+00:00",
          "2025-03-20T01:00:00+00:00",
          "2025-03-20T02:00:00+00:00",
          "2025-03-20T03:00:00+00:00",
          "2025-03-20T04:00:00+00:00",
          "2025-03-20T05:00:00+00:00",
          "2025-03-20T06:00:00+00:00",
          "2025-03-20T07:00:00+00:00",
          "2025-03-20T08:00:00+00:00",
          "2025-03-20T09:00:00+00:00",
          "2025-03-20T10:00:00+00:00",
          "2025-03-20T11:00:00+00:00",
          "2025-03-20T12:00:00+00:00",
          "2025-03-20T13:00:00+00:00",
          "2025-03-20T14:00:00+00:00",
          "2025-03-20T15:00:00+00:00",
          "2025-03-20T16:00:00+00:00",
          "2025-03-20T17:00:00+00:00",
          "2025-03-20T18:00:00+00:00",
          "2025-03-20T19:00:00+00:00",
          "2025-03-20T20:00:00+00:00",
          "2025-03-20T21:00:00+00:00",
          "2025-03-20T22:00:00+00:00",
          "2025-03-20T23:00:00+00:00",
          "2025-03-21T00:00:00+00:00",
          "2025-03-21T00:00:00+00:00",
          "2025-03-21T01:00:00+00:00",
          "2025-03-21T02:00:00+00:00",
          "2025-03-21T03:00:00+00:00",
          "2025-03-21T04:00:00+00:00",
          "2025-03-21T05:00:00+00:00",
          "2025-03-21T06:00:00+00:00",
          "2025-03-21T07:00:00+00:00",
          "2025-03-21T08:00:00+00:00",
          "2025-03-21T09:00:00+00:00",
          "2025-03-21T10:00:00+00:00",
          "2025-03-21T11:00:00+00:00",
          "2025-03-21T12:00:00+00:00",
          "2025-03-21T13:00:00+00:00",
          "2025-03-21T14:00:00+00:00",
          "2025-03-21T15:00:00+00:00",
          "2025-03-21T16:00:00+00:00",
          "2025-03-21T17:00:00+00:00",
          "2025-03-21T18:00:00+00:00",
          "2025-03-21T19:00:00+00:00",
          "2025-03-21T20:00:00+00:00",
          "2025-03-21T21:00:00+00:00",
          "2025-03-21T22:00:00+00:00",
          "2025-03-21T23:00:00+00:00",
          "2025-03-22T00:00:00+00:00",
          "2025-03-22T00:00:00+00:00",
          "2025-03-22T01:00:00+00:00",
          "2025-03-22T02:00:00+00:00",
          "2025-03-22T03:00:00+00:00",
          "2025-03-22T04:00:00+00:00",
          "2025-03-22T05:00:00+00:00",
          "2025-03-22T06:00:00+00:00",
          "2025-03-22T07:00:00+00:00",
          "2025-03-22T08:00:00+00:00",
          "2025-03-22T09:00:00+00:00",
          "2025-03-22T10:00:00+00:00",
          "2025-03-22T11:00:00+00:00",
          "2025-03-22T12:00:00+00:00",
          "2025-03-22T13:00:00+00:00",
          "2025-03-22T14:00:00+00:00",
          "2025-03-22T15:00:00+00:00",
          "2025-03-22T16:00:00+00:00",
          "2025-03-22T17:00:00+00:00",
          "2025-03-22T18:00:00+00:00",
          "2025-03-22T19:00:00+00:00",
          "2025-03-22T20:00:00+00:00",
          "2025-03-22T21:00:00+00:00",
          "2025-03-22T22:00:00+00:00",
          "2025-03-22T23:00:00+00:00",
          "2025-03-23T00:00:00+00:00",
          "2025-03-23T00:00:00+00:00",
          "2025-03-23T01:00:00+00:00",
          "2025-03-23T02:00:00+00:00",
          "2025-03-23T03:00:00+00:00",
          "2025-03-23T04:00:00+00:00",
          "2025-03-23T05:00:00+00:00",
          "2025-03-23T06:00:00+00:00",
          "2025-03-23T07:00:00+00:00",
          "2025-03-23T08:00:00+00:00",
          "2025-03-23T09:00:00+00:00",
          "2025-03-23T10:00:00+00:00",
          "2025-03-23T11:00:00+00:00",
          "2025-03-23T12:00:00+00:00",
          "2025-03-23T13:00:00+00:00",
          "2025-03-23T14:00:00+00:00",
          "2025-03-23T15:00:00+00:00",
          "2025-03-23T16:00:00+00:00",
          "2025-03-23T17:00:00+00:00",
          "2025-03-23T18:00:00+00:00",
          "2025-03-23T19:00:00+00:00",
          "2025-03-23T20:00:00+00:00",
          "2025-03-23T21:00:00+00:00",
          "2025-03-23T22:00:00+00:00",
          "2025-03-23T23:00:00+00:00",
          "2025-03-24T00:00:00+00:00",
          "2025-03-24T00:00:00+00:00",
          "2025-03-24T01:00:00+00:00",
          "2025-03-24T02:00:00+00:00",
          "2025-03-24T03:00:00+00:00",
          "2025-03-24T04:00:00+00:00",
          "2025-03-24T05:00:00+00:00",
          "2025-03-24T06:00:00+00:00",
          "2025-03-24T07:00:00+00:00",
          "2025-03-24T08:00:00+00:00",
          "2025-03-24T09:00:00+00:00",
          "2025-03-24T10:00:00+00:00",
          "2025-03-24T11:00:00+00:00",
          "2025-03-24T12:00:00+00:00",
          "2025-03-24T13:00:00+00:00",
          "2025-03-24T14:00:00+00:00",
          "2025-03-24T15:00:00+00:00",
          "2025-03-24T16:00:00+00:00",
          "2025-03-24T17:00:00+00:00",
          "2025-03-24T18:00:00+00:00",
          "2025-03-24T19:00:00+00:00",
          "2025-03-24T20:00:00+00:00",
          "2025-03-24T21:00:00+00:00",
          "2025-03-24T22:00:00+00:00",
          "2025-03-24T23:00:00+00:00",
          "2025-03-25T00:00:00+00:00",
          "2025-03-25T00:00:00+00:00",
          "2025-03-25T01:00:00+00:00",
          "2025-03-25T02:00:00+00:00",
          "2025-03-25T03:00:00+00:00",
          "2025-03-25T04:00:00+00:00",
          "2025-03-25T05:00:00+00:00",
          "2025-03-25T06:00:00+00:00",
          "2025-03-25T07:00:00+00:00",
          "2025-03-25T08:00:00+00:00",
          "2025-03-25T09:00:00+00:00",
          "2025-03-25T10:00:00+00:00",
          "2025-03-25T11:00:00+00:00",
          "2025-03-25T12:00:00+00:00",
          "2025-03-25T13:00:00+00:00",
          "2025-03-25T14:00:00+00:00",
          "2025-03-25T15:00:00+00:00",
          "2025-03-25T16:00:00+00:00",
          "2025-03-25T17:00:00+00:00",
          "2025-03-25T18:00:00+00:00",
          "2025-03-25T19:00:00+00:00",
          "2025-03-25T20:00:00+00:00",
          "2025-03-25T21:00:00+00:00",
          "2025-03-25T22:00:00+00:00",
          "2025-03-25T23:00:00+00:00",
          "2025-03-26T00:00:00+00:00",
          "2025-03-26T00:00:00+00:00",
          "2025-03-26T01:00:00+00:00",
          "2025-03-26T02:00:00+00:00",
          "2025-03-26T03:00:00+00:00",
          "2025-03-26T04:00:00+00:00",
          "2025-03-26T05:00:00+00:00",
          "2025-03-26T06:00:00+00:00",
          "2025-03-26T07:00:00+00:00",
          "2025-03-26T08:00:00+00:00",
          "2025-03-26T09:00:00+00:00",
          "2025-03-26T10:00:00+00:00",
          "2025-03-26T11:00:00+00:00",
          "2025-03-26T12:00:00+00:00",
          "2025-03-26T13:00:00+00:00",
          "2025-03-26T14:00:00+00:00",
          "2025-03-26T15:00:00+00:00",
          "2025-03-26T16:00:00+00:00",
          "2025-03-26T17:00:00+00:00",
          "2025-03-26T18:00:00+00:00",
          "2025-03-26T19:00:00+00:00",
          "2025-03-26T20:00:00+00:00",
          "2025-03-26T21:00:00+00:00",
          "2025-03-26T22:00:00+00:00",
          "2025-03-26T23:00:00+00:00",
          "2025-03-27T00:00:00+00:00",
          "2025-03-27T00:00:00+00:00",
          "2025-03-27T01:00:00+00:00",
          "2025-03-27T02:00:00+00:00",
          "2025-03-27T03:00:00+00:00",
          "2025-03-27T04:00:00+00:00",
          "2025-03-27T05:00:00+00:00",
          "2025-03-27T06:00:00+00:00",
          "2025-03-27T07:00:00+00:00",
          "2025-03-27T08:00:00+00:00",
          "2025-03-27T09:00:00+00:00",
          "2025-03-27T10:00:00+00:00",
          "2025-03-27T11:00:00+00:00",
          "2025-03-27T12:00:00+00:00",
          "2025-03-27T13:00:00+00:00",
          "2025-03-27T14:00:00+00:00",
          "2025-03-27T15:00:00+00:00",
          "2025-03-27T16:00:00+00:00",
          "2025-03-27T17:00:00+00:00",
          "2025-03-27T18:00:00+00:00",
          "2025-03-27T19:00:00+00:00",
          "2025-03-27T20:00:00+00:00",
          "2025-03-27T21:00:00+00:00",
          "2025-03-27T22:00:00+00:00",
          "2025-03-27T23:00:00+00:00",
          "2025-03-28T00:00:00+00:00",
          "2025-03-28T00:00:00+00:00",
          "2025-03-28T01:00:00+00:00",
          "2025-03-28T02:00:00+00:00",
          "2025-03-28T03:00:00+00:00",
          "2025-03-28T04:00:00+00:00",
          "2025-03-28T05:00:00+00:00",
          "2025-03-28T06:00:00+00:00",
          "2025-03-28T07:00:00+00:00",
          "2025-03-28T08:00:00+00:00",
          "2025-03-28T09:00:00+00:00",
          "2025-03-28T10:00:00+00:00",
          "2025-03-28T11:00:00+00:00",
          "2025-03-28T12:00:00+00:00",
          "2025-03-28T13:00:00+00:00",
          "2025-03-28T14:00:00+00:00",
          "2025-03-28T15:00:00+00:00",
          "2025-03-28T16:00:00+00:00",
          "2025-03-28T17:00:00+00:00",
          "2025-03-28T18:00:00+00:00",
          "2025-03-28T19:00:00+00:00",
          "2025-03-28T20:00:00+00:00",
          "2025-03-28T21:00:00+00:00",
          "2025-03-28T22:00:00+00:00",
          "2025-03-28T23:00:00+00:00",
          "2025-03-29T00:00:00+00:00",
          "2025-03-29T00:00:00+00:00",
          "2025-03-29T01:00:00+00:00",
          "2025-03-29T02:00:00+00:00",
          "2025-03-29T03:00:00+00:00",
          "2025-03-29T04:00:00+00:00",
          "2025-03-29T05:00:00+00:00",
          "2025-03-29T06:00:00+00:00",
          "2025-03-29T07:00:00+00:00",
          "2025-03-29T08:00:00+00:00",
          "2025-03-29T09:00:00+00:00",
          "2025-03-29T10:00:00+00:00",
          "2025-03-29T11:00:00+00:00",
          "2025-03-29T12:00:00+00:00",
          "2025-03-29T13:00:00+00:00",
          "2025-03-29T14:00:00+00:00",
          "2025-03-29T15:00:00+00:00",
          "2025-03-29T16:00:00+00:00",
          "2025-03-29T17:00:00+00:00",
          "2025-03-29T18:00:00+00:00",
          "2025-03-29T19:00:00+00:00",
          "2025-03-29T20:00:00+00:00",
          "2025-03-29T21:00:00+00:00",
          "2025-03-29T22:00:00+00:00",
          "2025-03-29T23:00:00+00:00",
          "2025-03-30T00:00:00+00:00",
          "2025-03-30T00:00:00+00:00",
          "2025-03-30T01:00:00+00:00",
          "2025-03-30T02:00:00+00:00",
          "2025-03-30T03:00:00+00:00",
          "2025-03-30T04:00:00+00:00",
          "2025-03-30T05:00:00+00:00",
          "2025-03-30T06:00:00+00:00",
          "2025-03-30T07:00:00+00:00",
          "2025-03-30T08:00:00+00:00",
          "2025-03-30T09:00:00+00:00",
          "2025-03-30T10:00:00+00:00",
          "2025-03-30T11:00:00+00:00",
          "2025-03-30T12:00:00+00:00",
          "2025-03-30T13:00:00+00:00",
          "2025-03-30T14:00:00+00:00",
          "2025-03-30T15:00:00+00:00",
          "2025-03-30T16:00:00+00:00",
          "2025-03-30T17:00:00+00:00",
          "2025-03-30T18:00:00+00:00",
          "2025-03-30T19:00:00+00:00",
          "2025-03-30T20:00:00+00:00",
          "2025-03-30T21:00:00+00:00",
          "2025-03-30T22:00:00+00:00",
          "2025-03-30T23:00:00+00:00",
          "2025-03-31T00:00:00+00:00",
          "2025-03-31T00:00:00+00:00",
          "2025-03-31T01:00:00+00:00",
          "2025-03-31T02:00:00+00:00",
          "2025-03-31T03:00:00+00:00",
          "2025-03-31T04:00:00+00:00",
          "2025-03-31T05:00:00+00:00",
          "2025-03-31T06:00:00+00:00",
          "2025-03-31T07:00:00+00:00",
          "2025-03-31T08:00:00+00:00",
          "2025-03-31T09:00:00+00:00",
          "2025-03-31T10:00:00+00:00",
          "2025-03-31T11:00:00+00:00",
          "2025-03-31T12:00:00+00:00",
          "2025-03-31T13:00:00+00:00",
          "2025-03-31T14:00:00+00:00",
          "2025-03-31T15:00:00+00:00",
          "2025-03-31T16:00:00+00:00",
          "2025-03-31T17:00:00+00:00",
          "2025-03-31T18:00:00+00:00",
          "2025-03-31T19:00:00+00:00",
          "2025-03-31T20:00:00+00:00",
          "2025-03-31T21:00:00+00:00",
          "2025-03-31T22:00:00+00:00",
          "2025-03-31T23:00:00+00:00",
          "2025-04-01T00:00:00+00:00",
          "2025-04-01T00:00:00+00:00",
          "2025-04-01T01:00:00+00:00",
          "2025-04-01T02:00:00+00:00",
          "2025-04-01T03:00:00+00:00",
          "2025-04-01T04:00:00+00:00",
          "2025-04-01T05:00:00+00:00",
          "2025-04-01T06:00:00+00:00",
          "2025-04-01T07:00:00+00:00",
          "2025-04-01T08:00:00+00:00",
          "2025-04-01T09:00:00+00:00",
          "2025-04-01T10:00:00+00:00",
          "2025-04-01T11:00:00+00:00",
          "2025-04-01T12:00:00+00:00",
          "2025-04-01T13:00:00+00:00",
          "2025-04-01T14:00:00+00:00",
          "2025-04-01T15:00:00+00:00",
          "2025-04-01T16:00:00+00:00",
          "2025-04-01T17:00:00+00:00",
          "2025-04-01T18:00:00+00:00",
          "2025-04-01T19:00:00+00:00",
          "2025-04-01T20:00:00+00:00",
          "2025-04-01T21:00:00+00:00",
          "2025-04-01T22:00:00+00:00",
          "2025-04-01T23:00:00+00:00",
          "2025-04-02T00:00:00+00:00",
          "2025-04-02T00:00:00+00:00",
          "2025-04-02T01:00:00+00:00",
          "2025-04-02T02:00:00+00:00",
          "2025-04-02T03:00:00+00:00",
          "2025-04-02T04:00:00+00:00",
          "2025-04-02T05:00:00+00:00",
          "2025-04-02T06:00:00+00:00",
          "2025-04-02T07:00:00+00:00",
          "2025-04-02T08:00:00+00:00",
          "2025-04-02T09:00:00+00:00",
          "2025-04-02T10:00:00+00:00",
          "2025-04-02T11:00:00+00:00",
          "2025-04-02T12:00:00+00:00",
          "2025-04-02T13:00:00+00:00",
          "2025-04-02T14:00:00+00:00",
          "2025-04-02T15:00:00+00:00",
          "2025-04-02T16:00:00+00:00",
          "2025-04-02T17:00:00+00:00",
          "2025-04-02T18:00:00+00:00",
          "2025-04-02T19:00:00+00:00",
          "2025-04-02T20:00:00+00:00",
          "2025-04-02T21:00:00+00:00",
          "2025-04-02T22:00:00+00:00",
          "2025-04-02T23:00:00+00:00",
          "2025-04-03T00:00:00+00:00",
          "2025-04-03T00:00:00+00:00",
          "2025-04-03T01:00:00+00:00",
          "2025-04-03T02:00:00+00:00",
          "2025-04-03T03:00:00+00:00",
          "2025-04-03T04:00:00+00:00",
          "2025-04-03T05:00:00+00:00",
          "2025-04-03T06:00:00+00:00",
          "2025-04-03T07:00:00+00:00",
          "2025-04-03T08:00:00+00:00",
          "2025-04-03T09:00:00+00:00",
          "2025-04-03T10:00:00+00:00",
          "2025-04-03T11:00:00+00:00",
          "2025-04-03T12:00:00+00:00",
          "2025-04-03T13:00:00+00:00",
          "2025-04-03T14:00:00+00:00",
          "2025-04-03T15:00:00+00:00",
          "2025-04-03T16:00:00+00:00",
          "2025-04-03T17:00:00+00:00",
          "2025-04-03T18:00:00+00:00",
          "2025-04-03T19:00:00+00:00",
          "2025-04-03T20:00:00+00:00",
          "2025-04-03T21:00:00+00:00",
          "2025-04-03T22:00:00+00:00",
          "2025-04-03T23:00:00+00:00",
          "2025-04-04T00:00:00+00:00",
          "2025-04-04T00:00:00+00:00",
          "2025-04-04T01:00:00+00:00",
          "2025-04-04T02:00:00+00:00",
          "2025-04-04T03:00:00+00:00",
          "2025-04-04T04:00:00+00:00",
          "2025-04-04T05:00:00+00:00",
          "2025-04-04T06:00:00+00:00",
          "2025-04-04T07:00:00+00:00",
          "2025-04-04T08:00:00+00:00",
          "2025-04-04T09:00:00+00:00",
          "2025-04-04T10:00:00+00:00",
          "2025-04-04T11:00:00+00:00",
          "2025-04-04T12:00:00+00:00",
          "2025-04-04T13:00:00+00:00",
          "2025-04-04T14:00:00+00:00",
          "2025-04-04T15:00:00+00:00",
          "2025-04-04T16:00:00+00:00",
          "2025-04-04T17:00:00+00:00",
          "2025-04-04T18:00:00+00:00",
          "2025-04-04T19:00:00+00:00",
          "2025-04-04T20:00:00+00:00",
          "2025-04-04T21:00:00+00:00",
          "2025-04-04T22:00:00+00:00",
          "2025-04-04T23:00:00+00:00",
          "2025-04-05T00:00:00+00:00",
          "2025-04-05T00:00:00+00:00",
          "2025-04-05T01:00:00+00:00",
          "2025-04-05T02:00:00+00:00",
          "2025-04-05T03:00:00+00:00",
          "2025-04-05T04:00:00+00:00",
          "2025-04-05T05:00:00+00:00",
          "2025-04-05T06:00:00+00:00",
          "2025-04-05T07:00:00+00:00",
          "2025-04-05T08:00:00+00:00",
          "2025-04-05T09:00:00+00:00",
          "2025-04-05T10:00:00+00:00",
          "2025-04-05T11:00:00+00:00",
          "2025-04-05T12:00:00+00:00",
          "2025-04-05T13:00:00+00:00",
          "2025-04-05T14:00:00+00:00",
          "2025-04-05T15:00:00+00:00",
          "2025-04-05T16:00:00+00:00",
          "2025-04-05T17:00:00+00:00",
          "2025-04-05T18:00:00+00:00",
          "2025-04-05T19:00:00+00:00",
          "2025-04-05T20:00:00+00:00",
          "2025-04-05T21:00:00+00:00",
          "2025-04-05T22:00:00+00:00",
          "2025-04-05T23:00:00+00:00",
          "2025-04-06T00:00:00+00:00",
          "2025-04-06T00:00:00+00:00",
          "2025-04-06T01:00:00+00:00",
          "2025-04-06T02:00:00+00:00",
          "2025-04-06T03:00:00+00:00",
          "2025-04-06T04:00:00+00:00",
          "2025-04-06T05:00:00+00:00",
          "2025-04-06T06:00:00+00:00",
          "2025-04-06T07:00:00+00:00",
          "2025-04-06T08:00:00+00:00",
          "2025-04-06T09:00:00+00:00",
          "2025-04-06T10:00:00+00:00",
          "2025-04-06T11:00:00+00:00",
          "2025-04-06T12:00:00+00:00",
          "2025-04-06T13:00:00+00:00",
          "2025-04-06T14:00:00+00:00",
          "2025-04-06T15:00:00+00:00",
          "2025-04-06T16:00:00+00:00",
          "2025-04-06T17:00:00+00:00",
          "2025-04-06T18:00:00+00:00",
          "2025-04-06T19:00:00+00:00",
          "2025-04-06T20:00:00+00:00",
          "2025-04-06T21:00:00+00:00",
          "2025-04-06T22:00:00+00:00",
          "2025-04-06T23:00:00+00:00",
          "2025-04-07T00:00:00+00:00",
          "2025-04-07T00:00:00+00:00",
          "2025-04-07T01:00:00+00:00",
          "2025-04-07T02:00:00+00:00",
          "2025-04-07T03:00:00+00:00",
          "2025-04-07T04:00:00+00:00",
          "2025-04-07T05:00:00+00:00",
          "2025-04-07T06:00:00+00:00",
          "2025-04-07T07:00:00+00:00",
          "2025-04-07T08:00:00+00:00",
          "2025-04-07T09:00:00+00:00",
          "2025-04-07T10:00:00+00:00",
          "2025-04-07T11:00:00+00:00",
          "2025-04-07T12:00:00+00:00",
          "2025-04-07T13:00:00+00:00",
          "2025-04-07T14:00:00+00:00",
          "2025-04-07T15:00:00+00:00",
          "2025-04-07T16:00:00+00:00",
          "2025-04-07T17:00:00+00:00",
          "2025-04-07T18:00:00+00:00",
          "2025-04-07T19:00:00+00:00",
          "2025-04-07T20:00:00+00:00",
          "2025-04-07T21:00:00+00:00",
          "2025-04-07T22:00:00+00:00",
          "2025-04-07T23:00:00+00:00"
         ],
         "y": {
          "bdata": "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",
          "dtype": "f8"
         }
        }
       ],
       "layout": {
        "legend": {
         "title": {
          "text": "Snøtykkelse"
         }
        },
        "template": {
         "data": {
          "bar": [
           {
            "error_x": {
             "color": "#2a3f5f"
            },
            "error_y": {
             "color": "#2a3f5f"
            },
            "marker": {
             "line": {
              "color": "#E5ECF6",
              "width": 0.5
             },
             "pattern": {
              "fillmode": "overlay",
              "size": 10,
              "solidity": 0.2
             }
            },
            "type": "bar"
           }
          ],
          "barpolar": [
           {
            "marker": {
             "line": {
              "color": "#E5ECF6",
              "width": 0.5
             },
             "pattern": {
              "fillmode": "overlay",
              "size": 10,
              "solidity": 0.2
             }
            },
            "type": "barpolar"
           }
          ],
          "carpet": [
           {
            "aaxis": {
             "endlinecolor": "#2a3f5f",
             "gridcolor": "white",
             "linecolor": "white",
             "minorgridcolor": "white",
             "startlinecolor": "#2a3f5f"
            },
            "baxis": {
             "endlinecolor": "#2a3f5f",
             "gridcolor": "white",
             "linecolor": "white",
             "minorgridcolor": "white",
             "startlinecolor": "#2a3f5f"
            },
            "type": "carpet"
           }
          ],
          "choropleth": [
           {
            "colorbar": {
             "outlinewidth": 0,
             "ticks": ""
            },
            "type": "choropleth"
           }
          ],
          "contour": [
           {
            "colorbar": {
             "outlinewidth": 0,
             "ticks": ""
            },
            "colorscale": [
             [
              0,
              "#0d0887"
             ],
             [
              0.1111111111111111,
              "#46039f"
             ],
             [
              0.2222222222222222,
              "#7201a8"
             ],
             [
              0.3333333333333333,
              "#9c179e"
             ],
             [
              0.4444444444444444,
              "#bd3786"
             ],
             [
              0.5555555555555556,
              "#d8576b"
             ],
             [
              0.6666666666666666,
              "#ed7953"
             ],
             [
              0.7777777777777778,
              "#fb9f3a"
             ],
             [
              0.8888888888888888,
              "#fdca26"
             ],
             [
              1,
              "#f0f921"
             ]
            ],
            "type": "contour"
           }
          ],
          "contourcarpet": [
           {
            "colorbar": {
             "outlinewidth": 0,
             "ticks": ""
            },
            "type": "contourcarpet"
           }
          ],
          "heatmap": [
           {
            "colorbar": {
             "outlinewidth": 0,
             "ticks": ""
            },
            "colorscale": [
             [
              0,
              "#0d0887"
             ],
             [
              0.1111111111111111,
              "#46039f"
             ],
             [
              0.2222222222222222,
              "#7201a8"
             ],
             [
              0.3333333333333333,
              "#9c179e"
             ],
             [
              0.4444444444444444,
              "#bd3786"
             ],
             [
              0.5555555555555556,
              "#d8576b"
             ],
             [
              0.6666666666666666,
              "#ed7953"
             ],
             [
              0.7777777777777778,
              "#fb9f3a"
             ],
             [
              0.8888888888888888,
              "#fdca26"
             ],
             [
              1,
              "#f0f921"
             ]
            ],
            "type": "heatmap"
           }
          ],
          "histogram": [
           {
            "marker": {
             "pattern": {
              "fillmode": "overlay",
              "size": 10,
              "solidity": 0.2
             }
            },
            "type": "histogram"
           }
          ],
          "histogram2d": [
           {
            "colorbar": {
             "outlinewidth": 0,
             "ticks": ""
            },
            "colorscale": [
             [
              0,
              "#0d0887"
             ],
             [
              0.1111111111111111,
              "#46039f"
             ],
             [
              0.2222222222222222,
              "#7201a8"
             ],
             [
              0.3333333333333333,
              "#9c179e"
             ],
             [
              0.4444444444444444,
              "#bd3786"
             ],
             [
              0.5555555555555556,
              "#d8576b"
             ],
             [
              0.6666666666666666,
              "#ed7953"
             ],
             [
              0.7777777777777778,
              "#fb9f3a"
             ],
             [
              0.8888888888888888,
              "#fdca26"
             ],
             [
              1,
              "#f0f921"
             ]
            ],
            "type": "histogram2d"
           }
          ],
          "histogram2dcontour": [
           {
            "colorbar": {
             "outlinewidth": 0,
             "ticks": ""
            },
            "colorscale": [
             [
              0,
              "#0d0887"
             ],
             [
              0.1111111111111111,
              "#46039f"
             ],
             [
              0.2222222222222222,
              "#7201a8"
             ],
             [
              0.3333333333333333,
              "#9c179e"
             ],
             [
              0.4444444444444444,
              "#bd3786"
             ],
             [
              0.5555555555555556,
              "#d8576b"
             ],
             [
              0.6666666666666666,
              "#ed7953"
             ],
             [
              0.7777777777777778,
              "#fb9f3a"
             ],
             [
              0.8888888888888888,
              "#fdca26"
             ],
             [
              1,
              "#f0f921"
             ]
            ],
            "type": "histogram2dcontour"
           }
          ],
          "mesh3d": [
           {
            "colorbar": {
             "outlinewidth": 0,
             "ticks": ""
            },
            "type": "mesh3d"
           }
          ],
          "parcoords": [
           {
            "line": {
             "colorbar": {
              "outlinewidth": 0,
              "ticks": ""
             }
            },
            "type": "parcoords"
           }
          ],
          "pie": [
           {
            "automargin": true,
            "type": "pie"
           }
          ],
          "scatter": [
           {
            "fillpattern": {
             "fillmode": "overlay",
             "size": 10,
             "solidity": 0.2
            },
            "type": "scatter"
           }
          ],
          "scatter3d": [
           {
            "line": {
             "colorbar": {
              "outlinewidth": 0,
              "ticks": ""
             }
            },
            "marker": {
             "colorbar": {
              "outlinewidth": 0,
              "ticks": ""
             }
            },
            "type": "scatter3d"
           }
          ],
          "scattercarpet": [
           {
            "marker": {
             "colorbar": {
              "outlinewidth": 0,
              "ticks": ""
             }
            },
            "type": "scattercarpet"
           }
          ],
          "scattergeo": [
           {
            "marker": {
             "colorbar": {
              "outlinewidth": 0,
              "ticks": ""
             }
            },
            "type": "scattergeo"
           }
          ],
          "scattergl": [
           {
            "marker": {
             "colorbar": {
              "outlinewidth": 0,
              "ticks": ""
             }
            },
            "type": "scattergl"
           }
          ],
          "scattermap": [
           {
            "marker": {
             "colorbar": {
              "outlinewidth": 0,
              "ticks": ""
             }
            },
            "type": "scattermap"
           }
          ],
          "scattermapbox": [
           {
            "marker": {
             "colorbar": {
              "outlinewidth": 0,
              "ticks": ""
             }
            },
            "type": "scattermapbox"
           }
          ],
          "scatterpolar": [
           {
            "marker": {
             "colorbar": {
              "outlinewidth": 0,
              "ticks": ""
             }
            },
            "type": "scatterpolar"
           }
          ],
          "scatterpolargl": [
           {
            "marker": {
             "colorbar": {
              "outlinewidth": 0,
              "ticks": ""
             }
            },
            "type": "scatterpolargl"
           }
          ],
          "scatterternary": [
           {
            "marker": {
             "colorbar": {
              "outlinewidth": 0,
              "ticks": ""
             }
            },
            "type": "scatterternary"
           }
          ],
          "surface": [
           {
            "colorbar": {
             "outlinewidth": 0,
             "ticks": ""
            },
            "colorscale": [
             [
              0,
              "#0d0887"
             ],
             [
              0.1111111111111111,
              "#46039f"
             ],
             [
              0.2222222222222222,
              "#7201a8"
             ],
             [
              0.3333333333333333,
              "#9c179e"
             ],
             [
              0.4444444444444444,
              "#bd3786"
             ],
             [
              0.5555555555555556,
              "#d8576b"
             ],
             [
              0.6666666666666666,
              "#ed7953"
             ],
             [
              0.7777777777777778,
              "#fb9f3a"
             ],
             [
              0.8888888888888888,
              "#fdca26"
             ],
             [
              1,
              "#f0f921"
             ]
            ],
            "type": "surface"
           }
          ],
          "table": [
           {
            "cells": {
             "fill": {
              "color": "#EBF0F8"
             },
             "line": {
              "color": "white"
             }
            },
            "header": {
             "fill": {
              "color": "#C8D4E3"
             },
             "line": {
              "color": "white"
             }
            },
            "type": "table"
           }
          ]
         },
         "layout": {
          "annotationdefaults": {
           "arrowcolor": "#2a3f5f",
           "arrowhead": 0,
           "arrowwidth": 1
          },
          "autotypenumbers": "strict",
          "coloraxis": {
           "colorbar": {
            "outlinewidth": 0,
            "ticks": ""
           }
          },
          "colorscale": {
           "diverging": [
            [
             0,
             "#8e0152"
            ],
            [
             0.1,
             "#c51b7d"
            ],
            [
             0.2,
             "#de77ae"
            ],
            [
             0.3,
             "#f1b6da"
            ],
            [
             0.4,
             "#fde0ef"
            ],
            [
             0.5,
             "#f7f7f7"
            ],
            [
             0.6,
             "#e6f5d0"
            ],
            [
             0.7,
             "#b8e186"
            ],
            [
             0.8,
             "#7fbc41"
            ],
            [
             0.9,
             "#4d9221"
            ],
            [
             1,
             "#276419"
            ]
           ],
           "sequential": [
            [
             0,
             "#0d0887"
            ],
            [
             0.1111111111111111,
             "#46039f"
            ],
            [
             0.2222222222222222,
             "#7201a8"
            ],
            [
             0.3333333333333333,
             "#9c179e"
            ],
            [
             0.4444444444444444,
             "#bd3786"
            ],
            [
             0.5555555555555556,
             "#d8576b"
            ],
            [
             0.6666666666666666,
             "#ed7953"
            ],
            [
             0.7777777777777778,
             "#fb9f3a"
            ],
            [
             0.8888888888888888,
             "#fdca26"
            ],
            [
             1,
             "#f0f921"
            ]
           ],
           "sequentialminus": [
            [
             0,
             "#0d0887"
            ],
            [
             0.1111111111111111,
             "#46039f"
            ],
            [
             0.2222222222222222,
             "#7201a8"
            ],
            [
             0.3333333333333333,
             "#9c179e"
            ],
            [
             0.4444444444444444,
             "#bd3786"
            ],
            [
             0.5555555555555556,
             "#d8576b"
            ],
            [
             0.6666666666666666,
             "#ed7953"
            ],
            [
             0.7777777777777778,
             "#fb9f3a"
            ],
            [
             0.8888888888888888,
             "#fdca26"
            ],
            [
             1,
             "#f0f921"
            ]
           ]
          },
          "colorway": [
           "#636efa",
           "#EF553B",
           "#00cc96",
           "#ab63fa",
           "#FFA15A",
           "#19d3f3",
           "#FF6692",
           "#B6E880",
           "#FF97FF",
           "#FECB52"
          ],
          "font": {
           "color": "#2a3f5f"
          },
          "geo": {
           "bgcolor": "white",
           "lakecolor": "white",
           "landcolor": "#E5ECF6",
           "showlakes": true,
           "showland": true,
           "subunitcolor": "white"
          },
          "hoverlabel": {
           "align": "left"
          },
          "hovermode": "closest",
          "mapbox": {
           "style": "light"
          },
          "paper_bgcolor": "white",
          "plot_bgcolor": "#E5ECF6",
          "polar": {
           "angularaxis": {
            "gridcolor": "white",
            "linecolor": "white",
            "ticks": ""
           },
           "bgcolor": "#E5ECF6",
           "radialaxis": {
            "gridcolor": "white",
            "linecolor": "white",
            "ticks": ""
           }
          },
          "scene": {
           "xaxis": {
            "backgroundcolor": "#E5ECF6",
            "gridcolor": "white",
            "gridwidth": 2,
            "linecolor": "white",
            "showbackground": true,
            "ticks": "",
            "zerolinecolor": "white"
           },
           "yaxis": {
            "backgroundcolor": "#E5ECF6",
            "gridcolor": "white",
            "gridwidth": 2,
            "linecolor": "white",
            "showbackground": true,
            "ticks": "",
            "zerolinecolor": "white"
           },
           "zaxis": {
            "backgroundcolor": "#E5ECF6",
            "gridcolor": "white",
            "gridwidth": 2,
            "linecolor": "white",
            "showbackground": true,
            "ticks": "",
            "zerolinecolor": "white"
           }
          },
          "shapedefaults": {
           "line": {
            "color": "#2a3f5f"
           }
          },
          "ternary": {
           "aaxis": {
            "gridcolor": "white",
            "linecolor": "white",
            "ticks": ""
           },
           "baxis": {
            "gridcolor": "white",
            "linecolor": "white",
            "ticks": ""
           },
           "bgcolor": "#E5ECF6",
           "caxis": {
            "gridcolor": "white",
            "linecolor": "white",
            "ticks": ""
           }
          },
          "title": {
           "x": 0.05
          },
          "xaxis": {
           "automargin": true,
           "gridcolor": "white",
           "linecolor": "white",
           "ticks": "",
           "title": {
            "standoff": 15
           },
           "zerolinecolor": "white",
           "zerolinewidth": 2
          },
          "yaxis": {
           "automargin": true,
           "gridcolor": "white",
           "linecolor": "white",
           "ticks": "",
           "title": {
            "standoff": 15
           },
           "zerolinecolor": "white",
           "zerolinewidth": 2
          }
         }
        },
        "title": {
         "text": "Snøtykkelse over tid i tromsø"
        },
        "xaxis": {
         "title": {
          "text": "Dato"
         }
        },
        "yaxis": {
         "title": {
          "text": "Snøtykkelse (cm)"
         }
        }
       }
      }
     },
     "metadata": {},
     "output_type": "display_data"
    },
    {
     "name": "stdout",
     "output_type": "stream",
     "text": [
      "\n",
      "Snøtykkelse:\n",
      "Median: 89.50, Standardavvik: 15.09\n"
     ]
    },
    {
     "data": {
      "application/vnd.plotly.v1+json": {
       "config": {
        "plotlyServerURL": "https://plot.ly"
       },
       "data": [
        {
         "line": {
          "color": "#1f77b4"
         },
         "mode": "lines",
         "name": "Luftfuktighet i tromsø",
         "type": "scatter",
         "x": [
          "2025-03-09T00:00:00+00:00",
          "2025-03-10T00:00:00+00:00",
          "2025-03-11T00:00:00+00:00",
          "2025-03-12T00:00:00+00:00",
          "2025-03-13T00:00:00+00:00",
          "2025-03-14T00:00:00+00:00",
          "2025-03-15T00:00:00+00:00",
          "2025-03-16T00:00:00+00:00",
          "2025-03-17T00:00:00+00:00",
          "2025-03-18T00:00:00+00:00",
          "2025-03-19T00:00:00+00:00",
          "2025-03-20T00:00:00+00:00",
          "2025-03-21T00:00:00+00:00",
          "2025-03-22T00:00:00+00:00",
          "2025-03-23T00:00:00+00:00",
          "2025-03-24T00:00:00+00:00",
          "2025-03-25T00:00:00+00:00",
          "2025-03-26T00:00:00+00:00",
          "2025-03-27T00:00:00+00:00",
          "2025-03-28T00:00:00+00:00",
          "2025-03-29T00:00:00+00:00",
          "2025-03-30T00:00:00+00:00",
          "2025-03-31T00:00:00+00:00",
          "2025-04-01T00:00:00+00:00",
          "2025-04-02T00:00:00+00:00",
          "2025-04-03T00:00:00+00:00",
          "2025-04-04T00:00:00+00:00",
          "2025-04-05T00:00:00+00:00",
          "2025-04-06T00:00:00+00:00",
          "2025-04-07T00:00:00+00:00"
         ],
         "y": {
          "bdata": "AAAAAAAAVUAAAAAAAMBWQAAAAAAAgFZAAAAAAACAU0AAAAAAAMBSQAAAAAAAQFVAAAAAAADAVEAAAAAAAMBUQAAAAAAAAFVAAAAAAADAVkAAAAAAAMBTQAAAAAAAgFRAAAAAAABAU0AAAAAAAABLQAAAAAAAAE1AAAAAAAAASUAAAAAAAMBVQAAAAAAAgFdAAAAAAABAV0AAAAAAAIBVQAAAAAAAQFdAAAAAAADAUUAAAAAAAEBTQAAAAAAAAFNAAAAAAABAVUAAAAAAAMBUQAAAAAAAgFBAAAAAAACAVUAAAAAAAABTQAAAAAAAwFFA",
          "dtype": "f8"
         }
        },
        {
         "line": {
          "color": "#1f77b4",
          "dash": "dash"
         },
         "mode": "lines",
         "name": "Gjennomsnittlig luftfuktighet i tromsø",
         "type": "scatter",
         "x": [
          "2025-03-09T00:00:00+00:00",
          "2025-03-10T00:00:00+00:00",
          "2025-03-11T00:00:00+00:00",
          "2025-03-12T00:00:00+00:00",
          "2025-03-13T00:00:00+00:00",
          "2025-03-14T00:00:00+00:00",
          "2025-03-15T00:00:00+00:00",
          "2025-03-16T00:00:00+00:00",
          "2025-03-17T00:00:00+00:00",
          "2025-03-18T00:00:00+00:00",
          "2025-03-19T00:00:00+00:00",
          "2025-03-20T00:00:00+00:00",
          "2025-03-21T00:00:00+00:00",
          "2025-03-22T00:00:00+00:00",
          "2025-03-23T00:00:00+00:00",
          "2025-03-24T00:00:00+00:00",
          "2025-03-25T00:00:00+00:00",
          "2025-03-26T00:00:00+00:00",
          "2025-03-27T00:00:00+00:00",
          "2025-03-28T00:00:00+00:00",
          "2025-03-29T00:00:00+00:00",
          "2025-03-30T00:00:00+00:00",
          "2025-03-31T00:00:00+00:00",
          "2025-04-01T00:00:00+00:00",
          "2025-04-02T00:00:00+00:00",
          "2025-04-03T00:00:00+00:00",
          "2025-04-04T00:00:00+00:00",
          "2025-04-05T00:00:00+00:00",
          "2025-04-06T00:00:00+00:00",
          "2025-04-07T00:00:00+00:00"
         ],
         "y": [
          79.6,
          79.6,
          79.6,
          79.6,
          79.6,
          79.6,
          79.6,
          79.6,
          79.6,
          79.6,
          79.6,
          79.6,
          79.6,
          79.6,
          79.6,
          79.6,
          79.6,
          79.6,
          79.6,
          79.6,
          79.6,
          79.6,
          79.6,
          79.6,
          79.6,
          79.6,
          79.6,
          79.6,
          79.6,
          79.6
         ]
        }
       ],
       "layout": {
        "legend": {
         "title": {
          "text": "Luftfuktighet"
         }
        },
        "template": {
         "data": {
          "bar": [
           {
            "error_x": {
             "color": "#2a3f5f"
            },
            "error_y": {
             "color": "#2a3f5f"
            },
            "marker": {
             "line": {
              "color": "#E5ECF6",
              "width": 0.5
             },
             "pattern": {
              "fillmode": "overlay",
              "size": 10,
              "solidity": 0.2
             }
            },
            "type": "bar"
           }
          ],
          "barpolar": [
           {
            "marker": {
             "line": {
              "color": "#E5ECF6",
              "width": 0.5
             },
             "pattern": {
              "fillmode": "overlay",
              "size": 10,
              "solidity": 0.2
             }
            },
            "type": "barpolar"
           }
          ],
          "carpet": [
           {
            "aaxis": {
             "endlinecolor": "#2a3f5f",
             "gridcolor": "white",
             "linecolor": "white",
             "minorgridcolor": "white",
             "startlinecolor": "#2a3f5f"
            },
            "baxis": {
             "endlinecolor": "#2a3f5f",
             "gridcolor": "white",
             "linecolor": "white",
             "minorgridcolor": "white",
             "startlinecolor": "#2a3f5f"
            },
            "type": "carpet"
           }
          ],
          "choropleth": [
           {
            "colorbar": {
             "outlinewidth": 0,
             "ticks": ""
            },
            "type": "choropleth"
           }
          ],
          "contour": [
           {
            "colorbar": {
             "outlinewidth": 0,
             "ticks": ""
            },
            "colorscale": [
             [
              0,
              "#0d0887"
             ],
             [
              0.1111111111111111,
              "#46039f"
             ],
             [
              0.2222222222222222,
              "#7201a8"
             ],
             [
              0.3333333333333333,
              "#9c179e"
             ],
             [
              0.4444444444444444,
              "#bd3786"
             ],
             [
              0.5555555555555556,
              "#d8576b"
             ],
             [
              0.6666666666666666,
              "#ed7953"
             ],
             [
              0.7777777777777778,
              "#fb9f3a"
             ],
             [
              0.8888888888888888,
              "#fdca26"
             ],
             [
              1,
              "#f0f921"
             ]
            ],
            "type": "contour"
           }
          ],
          "contourcarpet": [
           {
            "colorbar": {
             "outlinewidth": 0,
             "ticks": ""
            },
            "type": "contourcarpet"
           }
          ],
          "heatmap": [
           {
            "colorbar": {
             "outlinewidth": 0,
             "ticks": ""
            },
            "colorscale": [
             [
              0,
              "#0d0887"
             ],
             [
              0.1111111111111111,
              "#46039f"
             ],
             [
              0.2222222222222222,
              "#7201a8"
             ],
             [
              0.3333333333333333,
              "#9c179e"
             ],
             [
              0.4444444444444444,
              "#bd3786"
             ],
             [
              0.5555555555555556,
              "#d8576b"
             ],
             [
              0.6666666666666666,
              "#ed7953"
             ],
             [
              0.7777777777777778,
              "#fb9f3a"
             ],
             [
              0.8888888888888888,
              "#fdca26"
             ],
             [
              1,
              "#f0f921"
             ]
            ],
            "type": "heatmap"
           }
          ],
          "histogram": [
           {
            "marker": {
             "pattern": {
              "fillmode": "overlay",
              "size": 10,
              "solidity": 0.2
             }
            },
            "type": "histogram"
           }
          ],
          "histogram2d": [
           {
            "colorbar": {
             "outlinewidth": 0,
             "ticks": ""
            },
            "colorscale": [
             [
              0,
              "#0d0887"
             ],
             [
              0.1111111111111111,
              "#46039f"
             ],
             [
              0.2222222222222222,
              "#7201a8"
             ],
             [
              0.3333333333333333,
              "#9c179e"
             ],
             [
              0.4444444444444444,
              "#bd3786"
             ],
             [
              0.5555555555555556,
              "#d8576b"
             ],
             [
              0.6666666666666666,
              "#ed7953"
             ],
             [
              0.7777777777777778,
              "#fb9f3a"
             ],
             [
              0.8888888888888888,
              "#fdca26"
             ],
             [
              1,
              "#f0f921"
             ]
            ],
            "type": "histogram2d"
           }
          ],
          "histogram2dcontour": [
           {
            "colorbar": {
             "outlinewidth": 0,
             "ticks": ""
            },
            "colorscale": [
             [
              0,
              "#0d0887"
             ],
             [
              0.1111111111111111,
              "#46039f"
             ],
             [
              0.2222222222222222,
              "#7201a8"
             ],
             [
              0.3333333333333333,
              "#9c179e"
             ],
             [
              0.4444444444444444,
              "#bd3786"
             ],
             [
              0.5555555555555556,
              "#d8576b"
             ],
             [
              0.6666666666666666,
              "#ed7953"
             ],
             [
              0.7777777777777778,
              "#fb9f3a"
             ],
             [
              0.8888888888888888,
              "#fdca26"
             ],
             [
              1,
              "#f0f921"
             ]
            ],
            "type": "histogram2dcontour"
           }
          ],
          "mesh3d": [
           {
            "colorbar": {
             "outlinewidth": 0,
             "ticks": ""
            },
            "type": "mesh3d"
           }
          ],
          "parcoords": [
           {
            "line": {
             "colorbar": {
              "outlinewidth": 0,
              "ticks": ""
             }
            },
            "type": "parcoords"
           }
          ],
          "pie": [
           {
            "automargin": true,
            "type": "pie"
           }
          ],
          "scatter": [
           {
            "fillpattern": {
             "fillmode": "overlay",
             "size": 10,
             "solidity": 0.2
            },
            "type": "scatter"
           }
          ],
          "scatter3d": [
           {
            "line": {
             "colorbar": {
              "outlinewidth": 0,
              "ticks": ""
             }
            },
            "marker": {
             "colorbar": {
              "outlinewidth": 0,
              "ticks": ""
             }
            },
            "type": "scatter3d"
           }
          ],
          "scattercarpet": [
           {
            "marker": {
             "colorbar": {
              "outlinewidth": 0,
              "ticks": ""
             }
            },
            "type": "scattercarpet"
           }
          ],
          "scattergeo": [
           {
            "marker": {
             "colorbar": {
              "outlinewidth": 0,
              "ticks": ""
             }
            },
            "type": "scattergeo"
           }
          ],
          "scattergl": [
           {
            "marker": {
             "colorbar": {
              "outlinewidth": 0,
              "ticks": ""
             }
            },
            "type": "scattergl"
           }
          ],
          "scattermap": [
           {
            "marker": {
             "colorbar": {
              "outlinewidth": 0,
              "ticks": ""
             }
            },
            "type": "scattermap"
           }
          ],
          "scattermapbox": [
           {
            "marker": {
             "colorbar": {
              "outlinewidth": 0,
              "ticks": ""
             }
            },
            "type": "scattermapbox"
           }
          ],
          "scatterpolar": [
           {
            "marker": {
             "colorbar": {
              "outlinewidth": 0,
              "ticks": ""
             }
            },
            "type": "scatterpolar"
           }
          ],
          "scatterpolargl": [
           {
            "marker": {
             "colorbar": {
              "outlinewidth": 0,
              "ticks": ""
             }
            },
            "type": "scatterpolargl"
           }
          ],
          "scatterternary": [
           {
            "marker": {
             "colorbar": {
              "outlinewidth": 0,
              "ticks": ""
             }
            },
            "type": "scatterternary"
           }
          ],
          "surface": [
           {
            "colorbar": {
             "outlinewidth": 0,
             "ticks": ""
            },
            "colorscale": [
             [
              0,
              "#0d0887"
             ],
             [
              0.1111111111111111,
              "#46039f"
             ],
             [
              0.2222222222222222,
              "#7201a8"
             ],
             [
              0.3333333333333333,
              "#9c179e"
             ],
             [
              0.4444444444444444,
              "#bd3786"
             ],
             [
              0.5555555555555556,
              "#d8576b"
             ],
             [
              0.6666666666666666,
              "#ed7953"
             ],
             [
              0.7777777777777778,
              "#fb9f3a"
             ],
             [
              0.8888888888888888,
              "#fdca26"
             ],
             [
              1,
              "#f0f921"
             ]
            ],
            "type": "surface"
           }
          ],
          "table": [
           {
            "cells": {
             "fill": {
              "color": "#EBF0F8"
             },
             "line": {
              "color": "white"
             }
            },
            "header": {
             "fill": {
              "color": "#C8D4E3"
             },
             "line": {
              "color": "white"
             }
            },
            "type": "table"
           }
          ]
         },
         "layout": {
          "annotationdefaults": {
           "arrowcolor": "#2a3f5f",
           "arrowhead": 0,
           "arrowwidth": 1
          },
          "autotypenumbers": "strict",
          "coloraxis": {
           "colorbar": {
            "outlinewidth": 0,
            "ticks": ""
           }
          },
          "colorscale": {
           "diverging": [
            [
             0,
             "#8e0152"
            ],
            [
             0.1,
             "#c51b7d"
            ],
            [
             0.2,
             "#de77ae"
            ],
            [
             0.3,
             "#f1b6da"
            ],
            [
             0.4,
             "#fde0ef"
            ],
            [
             0.5,
             "#f7f7f7"
            ],
            [
             0.6,
             "#e6f5d0"
            ],
            [
             0.7,
             "#b8e186"
            ],
            [
             0.8,
             "#7fbc41"
            ],
            [
             0.9,
             "#4d9221"
            ],
            [
             1,
             "#276419"
            ]
           ],
           "sequential": [
            [
             0,
             "#0d0887"
            ],
            [
             0.1111111111111111,
             "#46039f"
            ],
            [
             0.2222222222222222,
             "#7201a8"
            ],
            [
             0.3333333333333333,
             "#9c179e"
            ],
            [
             0.4444444444444444,
             "#bd3786"
            ],
            [
             0.5555555555555556,
             "#d8576b"
            ],
            [
             0.6666666666666666,
             "#ed7953"
            ],
            [
             0.7777777777777778,
             "#fb9f3a"
            ],
            [
             0.8888888888888888,
             "#fdca26"
            ],
            [
             1,
             "#f0f921"
            ]
           ],
           "sequentialminus": [
            [
             0,
             "#0d0887"
            ],
            [
             0.1111111111111111,
             "#46039f"
            ],
            [
             0.2222222222222222,
             "#7201a8"
            ],
            [
             0.3333333333333333,
             "#9c179e"
            ],
            [
             0.4444444444444444,
             "#bd3786"
            ],
            [
             0.5555555555555556,
             "#d8576b"
            ],
            [
             0.6666666666666666,
             "#ed7953"
            ],
            [
             0.7777777777777778,
             "#fb9f3a"
            ],
            [
             0.8888888888888888,
             "#fdca26"
            ],
            [
             1,
             "#f0f921"
            ]
           ]
          },
          "colorway": [
           "#636efa",
           "#EF553B",
           "#00cc96",
           "#ab63fa",
           "#FFA15A",
           "#19d3f3",
           "#FF6692",
           "#B6E880",
           "#FF97FF",
           "#FECB52"
          ],
          "font": {
           "color": "#2a3f5f"
          },
          "geo": {
           "bgcolor": "white",
           "lakecolor": "white",
           "landcolor": "#E5ECF6",
           "showlakes": true,
           "showland": true,
           "subunitcolor": "white"
          },
          "hoverlabel": {
           "align": "left"
          },
          "hovermode": "closest",
          "mapbox": {
           "style": "light"
          },
          "paper_bgcolor": "white",
          "plot_bgcolor": "#E5ECF6",
          "polar": {
           "angularaxis": {
            "gridcolor": "white",
            "linecolor": "white",
            "ticks": ""
           },
           "bgcolor": "#E5ECF6",
           "radialaxis": {
            "gridcolor": "white",
            "linecolor": "white",
            "ticks": ""
           }
          },
          "scene": {
           "xaxis": {
            "backgroundcolor": "#E5ECF6",
            "gridcolor": "white",
            "gridwidth": 2,
            "linecolor": "white",
            "showbackground": true,
            "ticks": "",
            "zerolinecolor": "white"
           },
           "yaxis": {
            "backgroundcolor": "#E5ECF6",
            "gridcolor": "white",
            "gridwidth": 2,
            "linecolor": "white",
            "showbackground": true,
            "ticks": "",
            "zerolinecolor": "white"
           },
           "zaxis": {
            "backgroundcolor": "#E5ECF6",
            "gridcolor": "white",
            "gridwidth": 2,
            "linecolor": "white",
            "showbackground": true,
            "ticks": "",
            "zerolinecolor": "white"
           }
          },
          "shapedefaults": {
           "line": {
            "color": "#2a3f5f"
           }
          },
          "ternary": {
           "aaxis": {
            "gridcolor": "white",
            "linecolor": "white",
            "ticks": ""
           },
           "baxis": {
            "gridcolor": "white",
            "linecolor": "white",
            "ticks": ""
           },
           "bgcolor": "#E5ECF6",
           "caxis": {
            "gridcolor": "white",
            "linecolor": "white",
            "ticks": ""
           }
          },
          "title": {
           "x": 0.05
          },
          "xaxis": {
           "automargin": true,
           "gridcolor": "white",
           "linecolor": "white",
           "ticks": "",
           "title": {
            "standoff": 15
           },
           "zerolinecolor": "white",
           "zerolinewidth": 2
          },
          "yaxis": {
           "automargin": true,
           "gridcolor": "white",
           "linecolor": "white",
           "ticks": "",
           "title": {
            "standoff": 15
           },
           "zerolinecolor": "white",
           "zerolinewidth": 2
          }
         }
        },
        "title": {
         "text": "Luftfuktighet over tid i tromsø"
        },
        "xaxis": {
         "title": {
          "text": "Dato"
         }
        },
        "yaxis": {
         "title": {
          "text": "Relativ luftfuktighet (%)"
         }
        }
       }
      }
     },
     "metadata": {},
     "output_type": "display_data"
    },
    {
     "name": "stdout",
     "output_type": "stream",
     "text": [
      "\n",
      "Relativ luftfuktighet:\n",
      "Median: 83.00, Standardavvik: 11.15\n"
     ]
    }
   ],
   "source": [
    "import pandas as pd\n",
    "import plotly.graph_objects as go\n",
    "import sqlite3\n",
    "\n",
    "# Bruker den eksisterende variabelen location_input som bynavn\n",
    "city_name = location_input\n",
    "\n",
    "# Konverterer referansetiden til datetime\n",
    "df['referenceTime'] = pd.to_datetime(df['referenceTime'])\n",
    "\n",
    "# Oppretter en SQLite-database i minnet\n",
    "conn = sqlite3.connect(\":memory:\")\n",
    "\n",
    "# Leser CSV-filen og lagrer den i SQLite-databasen\n",
    "csv_filename = \"../src/weather_data.csv\"\n",
    "df_csv = pd.read_csv(csv_filename)\n",
    "df_csv.to_sql(\"weather_data\", conn, index=False, if_exists=\"replace\")\n",
    "\n",
    "# SQL-spørring for å hente data\n",
    "query = \"\"\"\n",
    "SELECT * \n",
    "FROM weather_data\n",
    "WHERE elementId = 'mean(air_temperature P1D)'\n",
    "\"\"\"\n",
    "temperature_data = pd.read_sql_query(query, conn)\n",
    "\n",
    "# Konverterer referansetiden til datetime\n",
    "temperature_data['referenceTime'] = pd.to_datetime(temperature_data['referenceTime'])\n",
    "\n",
    "# Gjør det samme for andre elementer (nedbør og vindhastighet)\n",
    "query_precip = \"\"\"\n",
    "SELECT * \n",
    "FROM weather_data\n",
    "WHERE elementId = 'sum(precipitation_amount P1D)'\n",
    "\"\"\"\n",
    "precipitation_data = pd.read_sql_query(query_precip, conn)\n",
    "\n",
    "query_wind = \"\"\"\n",
    "SELECT * \n",
    "FROM weather_data\n",
    "WHERE elementId = 'mean(wind_speed P1D)'\n",
    "\"\"\"\n",
    "wind_speed_data = pd.read_sql_query(query_wind, conn)\n",
    "\n",
    "# Lukk tilkoblingen til databasen\n",
    "conn.close()\n",
    "\n",
    "# Definerer farger for grafene\n",
    "color_location = '#1f77b4'  # Blå for lokasjonen\n",
    "\n",
    "# Leser data fra weather_data.csv\n",
    "csv_filename = \"../src/weather_data.csv\"\n",
    "df_csv = pd.read_csv(csv_filename)\n",
    "\n",
    "# Filtrerer data for temperatur\n",
    "temperature_data = df_csv[df_csv['elementId'] == 'mean(air_temperature P1D)']\n",
    "temperature_data.loc[:, 'referenceTime'] = pd.to_datetime(temperature_data['referenceTime'])\n",
    "# Beregninger for temperatur\n",
    "median_temp = temperature_data['value'].median()\n",
    "std_temp = temperature_data['value'].std()\n",
    "\n",
    "# Filtrerer data for nedbør\n",
    "precipitation_data = df_csv[df_csv['elementId'] == 'sum(precipitation_amount P1D)']\n",
    "precipitation_data.loc[:, 'referenceTime'] = pd.to_datetime(precipitation_data['referenceTime'])\n",
    "# Beregninger for nedbør\n",
    "median_precip = precipitation_data['value'].median()\n",
    "std_precip = precipitation_data['value'].std()\n",
    "\n",
    "# Filtrerer data for vindhastighet\n",
    "wind_speed_data = df_csv[df_csv['elementId'] == 'mean(wind_speed P1D)']\n",
    "wind_speed_data.loc[:, 'referenceTime'] = pd.to_datetime(wind_speed_data['referenceTime'])\n",
    "# Beregninger for vindhastighet\n",
    "median_wind = wind_speed_data['value'].median()\n",
    "std_wind = wind_speed_data['value'].std()\n",
    "\n",
    "# Temperaturfigur\n",
    "fig_temp = go.Figure()\n",
    "\n",
    "# Temperaturdata\n",
    "fig_temp.add_trace(go.Scatter(\n",
    "    x=temperature_data['referenceTime'],\n",
    "    y=temperature_data['value'],\n",
    "    mode='lines',\n",
    "    name=f'Temperatur i {city_name}',\n",
    "    line=dict(color=color_location)\n",
    "))\n",
    "\n",
    "# Gjennomsnittstemperatur\n",
    "mean_temp = temperature_data['value'].mean()\n",
    "fig_temp.add_trace(go.Scatter(\n",
    "    x=temperature_data['referenceTime'],\n",
    "    y=[mean_temp] * len(temperature_data['referenceTime']),\n",
    "    mode='lines',\n",
    "    line=dict(dash='dash', color=color_location),\n",
    "    name=f'Gjennomsnittstemperatur i {city_name}'\n",
    "))\n",
    "\n",
    "# Tilpasser layout for temperatur\n",
    "fig_temp.update_layout(\n",
    "    title=f'Temperatur over tid i {city_name}',\n",
    "    xaxis_title='Dato',\n",
    "    yaxis_title='Temperatur (°C)',\n",
    "    legend_title='Temperatur'\n",
    ")\n",
    "\n",
    "# Viser temperaturfigur\n",
    "fig_temp.show()\n",
    "\n",
    "# Utskrift av resultatene for temperatur\n",
    "print(\"Temperatur:\")\n",
    "print(f\"Median: {median_temp:.2f}, Standardavvik: {std_temp:.2f}\")\n",
    "\n",
    "# Nedbørsfigur\n",
    "fig_precip = go.Figure()\n",
    "\n",
    "# Nedbørsdata\n",
    "fig_precip.add_trace(go.Bar(\n",
    "    x=precipitation_data['referenceTime'],\n",
    "    y=precipitation_data['value'],\n",
    "    name=f'Nedbør i {city_name}',\n",
    "    marker=dict(color=color_location)\n",
    "))\n",
    "\n",
    "# Gjennomsnittsnedbør som strek\n",
    "mean_precip = precipitation_data['value'].mean()\n",
    "fig_precip.add_trace(go.Scatter(\n",
    "    x=precipitation_data['referenceTime'],\n",
    "    y=[mean_precip] * len(precipitation_data['referenceTime']),\n",
    "    mode='lines',\n",
    "    line=dict(dash='dash', color='rgba(31, 119, 180, 0.8)'),\n",
    "    name=f'Gjennomsnittsnedbør i {city_name}'\n",
    "))\n",
    "\n",
    "# Tilpasser layout for nedbør\n",
    "fig_precip.update_layout(\n",
    "    title=f'Nedbør over tid i {city_name}',\n",
    "    xaxis_title='Dato',\n",
    "    yaxis_title='Nedbør (mm)',\n",
    "    legend_title='Nedbør'\n",
    ")\n",
    "\n",
    "# Viser nedbørsfigur\n",
    "fig_precip.show()\n",
    "\n",
    "# Utskrift av resultatene for nedbør\n",
    "print(\"\\nNedbør:\")\n",
    "print(f\"Median: {median_precip:.2f}, Standardavvik: {std_precip:.2f}\")\n",
    "\n",
    "# Vindhastighetsfigur\n",
    "fig_wind = go.Figure()\n",
    "\n",
    "# Vindhastighetsdata\n",
    "fig_wind.add_trace(go.Scatter(\n",
    "    x=wind_speed_data['referenceTime'],\n",
    "    y=wind_speed_data['value'],\n",
    "    mode='lines',\n",
    "    name=f'Vindhastighet i {city_name}',\n",
    "    line=dict(color=color_location)\n",
    "))\n",
    "\n",
    "# Gjennomsnittsvindhastighet\n",
    "mean_wind = wind_speed_data['value'].mean()\n",
    "fig_wind.add_trace(go.Scatter(\n",
    "    x=wind_speed_data['referenceTime'],\n",
    "    y=[mean_wind] * len(wind_speed_data['referenceTime']),\n",
    "    mode='lines',\n",
    "    line=dict(dash='dash', color=color_location),\n",
    "    name=f'Gjennomsnittsvindhastighet i {city_name}'\n",
    "))\n",
    "\n",
    "# Tilpasser layout for vindhastighet\n",
    "fig_wind.update_layout(\n",
    "    title=f'Vindhastighet over tid i {city_name}',\n",
    "    xaxis_title='Dato',\n",
    "    yaxis_title='Vindhastighet (m/s)',\n",
    "    legend_title='Vindhastighet'\n",
    ")\n",
    "\n",
    "# Viser vindhastighetsfigur\n",
    "fig_wind.show()\n",
    "\n",
    "# Utskrift av resultatene for vindhastighet\n",
    "print(\"\\nVindhastighet:\")\n",
    "print(f\"Median: {median_wind:.2f}, Standardavvik: {std_wind:.2f}\")\n",
    "\n",
    "# Filtrerer data for snøtykkelse\n",
    "snow_thickness_data = df_csv[df_csv['elementId'] == 'surface_snow_thickness']\n",
    "snow_thickness_data.loc[:, 'referenceTime'] = pd.to_datetime(snow_thickness_data['referenceTime'])\n",
    "\n",
    "# Scatterplott for snøtykkelse\n",
    "fig_snow = go.Figure()\n",
    "\n",
    "fig_snow.add_trace(go.Scatter(\n",
    "    x=snow_thickness_data['referenceTime'],\n",
    "    y=snow_thickness_data['value'],\n",
    "    mode='markers',\n",
    "    name=f'Snøtykkelse i {city_name}',\n",
    "    marker=dict(color=color_location)\n",
    "))\n",
    "\n",
    "# Tilpasser layout for snøtykkelse\n",
    "fig_snow.update_layout(\n",
    "    title=f'Snøtykkelse over tid i {city_name}',\n",
    "    xaxis_title='Dato',\n",
    "    yaxis_title='Snøtykkelse (cm)',\n",
    "    legend_title='Snøtykkelse'\n",
    ")\n",
    "\n",
    "# Viser snøtykkelsefigur\n",
    "fig_snow.show()\n",
    "\n",
    "# Utskrift av resultatene for snøtykkelse\n",
    "print(\"\\nSnøtykkelse:\")\n",
    "print(f\"Median: {snow_thickness_data['value'].median():.2f}, Standardavvik: {snow_thickness_data['value'].std():.2f}\")\n",
    "\n",
    "# Filtrerer data for relativ luftfuktighet\n",
    "humidity_data = df_csv[df_csv['elementId'] == 'mean(relative_humidity P1D)']\n",
    "humidity_data.loc[:, 'referenceTime'] = pd.to_datetime(humidity_data['referenceTime'])\n",
    "\n",
    "# Linjeplott for relativ luftfuktighet\n",
    "fig_humidity = go.Figure()\n",
    "\n",
    "fig_humidity.add_trace(go.Scatter(\n",
    "    x=humidity_data['referenceTime'],\n",
    "    y=humidity_data['value'],\n",
    "    mode='lines',\n",
    "    name=f'Luftfuktighet i {city_name}',\n",
    "    line=dict(color=color_location)\n",
    "))\n",
    "\n",
    "# Gjennomsnittlig luftfuktighet\n",
    "mean_humidity = humidity_data['value'].mean()\n",
    "fig_humidity.add_trace(go.Scatter(\n",
    "    x=humidity_data['referenceTime'],\n",
    "    y=[mean_humidity] * len(humidity_data['referenceTime']),\n",
    "    mode='lines',\n",
    "    line=dict(dash='dash', color=color_location),\n",
    "    name=f'Gjennomsnittlig luftfuktighet i {city_name}'\n",
    "))\n",
    "\n",
    "# Tilpasser layout for luftfuktighet\n",
    "fig_humidity.update_layout(\n",
    "    title=f'Luftfuktighet over tid i {city_name}',\n",
    "    xaxis_title='Dato',\n",
    "    yaxis_title='Relativ luftfuktighet (%)',\n",
    "    legend_title='Luftfuktighet'\n",
    ")\n",
    "\n",
    "# Viser luftfuktighetsfigur\n",
    "fig_humidity.show()\n",
    "\n",
    "# Utskrift av resultatene for luftfuktighet\n",
    "print(\"\\nRelativ luftfuktighet:\")\n",
    "print(f\"Median: {humidity_data['value'].median():.2f}, Standardavvik: {humidity_data['value'].std():.2f}\")"
   ]
  },
  {
   "cell_type": "code",
   "execution_count": 29,
   "metadata": {},
   "outputs": [],
   "source": [
    "#plotter figurene i nettleseren\n",
    "fig_temp.show(renderer=\"browser\")\n",
    "fig_precip.show(renderer=\"browser\")\n",
    "fig_wind.show(renderer=\"browser\")\n",
    "fig_snow.show(renderer=\"browser\")\n",
    "fig_humidity.show(renderer=\"browser\")"
   ]
  }
 ],
 "metadata": {
  "kernelspec": {
   "display_name": "venv",
   "language": "python",
   "name": "python3"
  },
  "language_info": {
   "codemirror_mode": {
    "name": "ipython",
    "version": 3
   },
   "file_extension": ".py",
   "mimetype": "text/x-python",
   "name": "python",
   "nbconvert_exporter": "python",
   "pygments_lexer": "ipython3",
   "version": "3.13.1"
  }
 },
 "nbformat": 4,
 "nbformat_minor": 2
}
