{
 "cells": [
  {
   "cell_type": "markdown",
   "metadata": {},
   "source": [
    "# Vi lager et program som lar brukeren velge et sted i Norge og se den historiske værdataene til dette stedet. \n",
    "# Programmet henter informasjon fra den nærmeste værstasjonen til det valgte stedet og visualiserer dataene i grafer\n",
    "# Programmet viser også en beregning for hvordan framtidig vær kommer til å se ut.\n",
    "# All data er hentet fra MET som er en offentlig kilde sponset fra den norske stat\n",
    "e9a6e9b1b9be44fab4720c2c96ae9c48"
   ]
  },
  {
   "cell_type": "code",
   "execution_count": 16,
   "metadata": {},
   "outputs": [
    {
     "name": "stdout",
     "output_type": "stream",
     "text": [
      "Henter data for element: mean(air_temperature P1D)\n",
      "Data retrieved for mean(air_temperature P1D) from station SN90450!\n",
      "Henter data for element: sum(precipitation_amount P1D)\n",
      "Data retrieved for sum(precipitation_amount P1D) from station SN90450!\n",
      "Henter data for element: mean(wind_speed P1D)\n",
      "Data retrieved for mean(wind_speed P1D) from station SN90450!\n",
      "Henter data for element: surface_snow_thickness\n",
      "Data retrieved for surface_snow_thickness from station SN90450!\n",
      "Henter data for element: mean(relative_humidity P1D)\n",
      "Data retrieved for mean(relative_humidity P1D) from station SN90450!\n",
      "Data saved to ../src/weather_data.csv\n"
     ]
    }
   ],
   "source": [
    "import requests\n",
    "import pandas as pd\n",
    "import os\n",
    "import sys\n",
    "from datetime import datetime, timedelta\n",
    "from opencage.geocoder import OpenCageGeocode\n",
    "from geopy.distance import geodesic\n",
    "sys.path.insert(0, os.path.abspath(os.path.join(os.getcwd(), 'proj_environment', 'src')))\n",
    "from API_Key_Manager_class import APIKeyManager\n",
    "\n",
    "api_key_manager = APIKeyManager()\n",
    "\n",
    "# Hent Frost API-nøkkelen direkte fra klassen\n",
    "client_id = api_key_manager.get_api_key(\"Frost\")\n",
    "\n",
    "# Hent Opencage API-nøkkelen direkte fra klassen\n",
    "api_key = api_key_manager.get_api_key(\"Opencage\")\n",
    "\n",
    "# Sett opp OpenCageGeocode med API-nøkkelen din\n",
    "geolocator = OpenCageGeocode(api_key)\n",
    "\n",
    "# Henter inn lokasjon fra brukeren\n",
    "location_input = input(\"Enter the location (e.g., Bergen, Oslo, Trondheim, Stavanger, Tromsø): \")\n",
    "\n",
    "# Geokoder lokasjonen for å få koordinatene\n",
    "location = geolocator.geocode(location_input)\n",
    "\n",
    "# Sjekker om geokodingen var vellykket\n",
    "if location:\n",
    "    # Henter ut koordinatene\n",
    "    location_coords = (location[0]['geometry']['lat'], location[0]['geometry']['lng'])\n",
    "else:\n",
    "    raise ValueError(\"Could not find coordinates for the location. Please check the input.\")\n",
    "\n",
    "# Definerer endepunkt og parametere for stasjoner\n",
    "stations_endpoint = 'https://frost.met.no/sources/v0.jsonld'\n",
    "stations_parameters = {\n",
    "    'types': 'SensorSystem'\n",
    "}\n",
    "\n",
    "# Henter ut HTTP-responsen og lagrer den som JSON\n",
    "r = requests.get(stations_endpoint, stations_parameters, auth=(client_id, ''))\n",
    "stations_json = r.json()\n",
    "\n",
    "# Henter ut stasjonsinformasjonen\n",
    "stations = stations_json['data']\n",
    "\n",
    "# Lager et dictionary med stasjons-ID som nøkkel og koordinater som verdi\n",
    "weather_stations_coords = {station['id']: (station['geometry']['coordinates'][1], station['geometry']['coordinates'][0]) for station in stations if 'geometry' in station}\n",
    "\n",
    "# Regner ut avstanden til værstasjonene fra lokasjonen\n",
    "distances = {station: geodesic(location_coords, coords).km for station, coords in weather_stations_coords.items()}\n",
    "\n",
    "# Sorterer værstasjonene etter avstand til lokasjonen\n",
    "sorted_stations = sorted(distances, key=distances.get)\n",
    "\n",
    "# Henter ut dagens dato og datoen 90 dager tilbake\n",
    "now = datetime.now()\n",
    "offset = now - timedelta(days=90)\n",
    "current_date = now.strftime(\"%Y-%m-%d\")\n",
    "historic_date = offset.strftime(\"%Y-%m-%d\")\n",
    "\n",
    "# Definerer endepunkt og parametere for observasjoner\n",
    "observations_endpoint = 'https://frost.met.no/observations/v0.jsonld'\n",
    "\n",
    "def fetch_data_by_element(stations, elements, max_attempts = 15):\n",
    "    \"\"\"\n",
    "    Fetch data for each element (e.g., temperature, precipitation, wind speed) from the nearest weather stations.\n",
    "    Tries up to max_attempts stations for each element and returns the data for the first successful attempt.\n",
    "    \"\"\"\n",
    "    all_data = {}\n",
    "    \n",
    "    for element in elements:\n",
    "        print(f\"Henter data for element: {element}\")\n",
    "        for attempt in range(min(max_attempts, len(stations))):\n",
    "            parameters = {\n",
    "                'sources': stations[attempt],\n",
    "                'elements': element,\n",
    "                'referencetime': f'{historic_date}/{current_date}',\n",
    "            }\n",
    "            r = requests.get(observations_endpoint, parameters, auth=(client_id, ''))\n",
    "            json = r.json()\n",
    "\n",
    "            if r.status_code == 200 and 'data' in json:\n",
    "                data = json['data']\n",
    "                if data:\n",
    "                    print(f\"Data retrieved for {element} from station {stations[attempt]}!\")\n",
    "                    all_data[element] = data\n",
    "                    break\n",
    "            else:\n",
    "                print(f\"Error retrieving {element} data from station {stations[attempt]}. Trying next station...\")\n",
    "        \n",
    "        # Hvis ingen data blir funnet for elementet, logges en melding\n",
    "        if element not in all_data:\n",
    "            print(f\"No data found for {element} from any of the attempted stations.\")\n",
    "    \n",
    "    return all_data\n",
    "\n",
    "# Elementene vi ønsker å hente data for\n",
    "elements = [\n",
    "    'mean(air_temperature P1D)', \n",
    "    'sum(precipitation_amount P1D)', \n",
    "    'mean(wind_speed P1D)',\n",
    "    'surface_snow_thickness',\n",
    "    'mean(relative_humidity P1D)'\n",
    "]\n",
    "\n",
    "# Henter data for lokasjonen\n",
    "data = fetch_data_by_element(sorted_stations, elements)\n",
    "\n",
    "# Samler de viktige dataene i en DataFrame\n",
    "df_list = []\n",
    "\n",
    "for element, data_element in data.items():\n",
    "    for item in data_element:\n",
    "        row = pd.DataFrame(item['observations'])\n",
    "        row['referenceTime'] = item['referenceTime']\n",
    "        row['sourceId'] = item['sourceId']\n",
    "        row['elementId'] = element\n",
    "        df_list.append(row)\n",
    "\n",
    "# Effektivt å koble sammen alle DataFrames samtidig\n",
    "df = pd.concat(df_list, ignore_index=True)\n",
    "\n",
    "# Lagrer dataene i en CSV-fil (overskriver eksisterende fil)\n",
    "csv_filename = \"../src/weather_data.csv\"\n",
    "df.to_csv(csv_filename, index=False)\n",
    "print(f\"Data saved to {csv_filename}\")\n"
   ]
  },
  {
   "cell_type": "code",
   "execution_count": 17,
   "metadata": {},
   "outputs": [
    {
     "data": {
      "application/vnd.plotly.v1+json": {
       "config": {
        "plotlyServerURL": "https://plot.ly"
       },
       "data": [
        {
         "line": {
          "color": "#1f77b4"
         },
         "mode": "lines",
         "name": "Temperatur i tromsø",
         "type": "scatter",
         "x": [
          "2025-01-08T00:00:00+00:00",
          "2025-01-08T00:00:00+00:00",
          "2025-01-09T00:00:00+00:00",
          "2025-01-09T00:00:00+00:00",
          "2025-01-10T00:00:00+00:00",
          "2025-01-10T00:00:00+00:00",
          "2025-01-11T00:00:00+00:00",
          "2025-01-11T00:00:00+00:00",
          "2025-01-12T00:00:00+00:00",
          "2025-01-12T00:00:00+00:00",
          "2025-01-13T00:00:00+00:00",
          "2025-01-13T00:00:00+00:00",
          "2025-01-14T00:00:00+00:00",
          "2025-01-14T00:00:00+00:00",
          "2025-01-15T00:00:00+00:00",
          "2025-01-15T00:00:00+00:00",
          "2025-01-16T00:00:00+00:00",
          "2025-01-16T00:00:00+00:00",
          "2025-01-17T00:00:00+00:00",
          "2025-01-17T00:00:00+00:00",
          "2025-01-18T00:00:00+00:00",
          "2025-01-18T00:00:00+00:00",
          "2025-01-19T00:00:00+00:00",
          "2025-01-19T00:00:00+00:00",
          "2025-01-20T00:00:00+00:00",
          "2025-01-20T00:00:00+00:00",
          "2025-01-21T00:00:00+00:00",
          "2025-01-21T00:00:00+00:00",
          "2025-01-22T00:00:00+00:00",
          "2025-01-22T00:00:00+00:00",
          "2025-01-23T00:00:00+00:00",
          "2025-01-23T00:00:00+00:00",
          "2025-01-24T00:00:00+00:00",
          "2025-01-24T00:00:00+00:00",
          "2025-01-25T00:00:00+00:00",
          "2025-01-25T00:00:00+00:00",
          "2025-01-26T00:00:00+00:00",
          "2025-01-26T00:00:00+00:00",
          "2025-01-27T00:00:00+00:00",
          "2025-01-27T00:00:00+00:00",
          "2025-01-28T00:00:00+00:00",
          "2025-01-28T00:00:00+00:00",
          "2025-01-29T00:00:00+00:00",
          "2025-01-29T00:00:00+00:00",
          "2025-01-30T00:00:00+00:00",
          "2025-01-30T00:00:00+00:00",
          "2025-01-31T00:00:00+00:00",
          "2025-01-31T00:00:00+00:00",
          "2025-02-01T00:00:00+00:00",
          "2025-02-01T00:00:00+00:00",
          "2025-02-02T00:00:00+00:00",
          "2025-02-02T00:00:00+00:00",
          "2025-02-03T00:00:00+00:00",
          "2025-02-03T00:00:00+00:00",
          "2025-02-04T00:00:00+00:00",
          "2025-02-04T00:00:00+00:00",
          "2025-02-05T00:00:00+00:00",
          "2025-02-05T00:00:00+00:00",
          "2025-02-06T00:00:00+00:00",
          "2025-02-06T00:00:00+00:00",
          "2025-02-07T00:00:00+00:00",
          "2025-02-07T00:00:00+00:00",
          "2025-02-08T00:00:00+00:00",
          "2025-02-08T00:00:00+00:00",
          "2025-02-09T00:00:00+00:00",
          "2025-02-09T00:00:00+00:00",
          "2025-02-10T00:00:00+00:00",
          "2025-02-10T00:00:00+00:00",
          "2025-02-11T00:00:00+00:00",
          "2025-02-11T00:00:00+00:00",
          "2025-02-12T00:00:00+00:00",
          "2025-02-12T00:00:00+00:00",
          "2025-02-13T00:00:00+00:00",
          "2025-02-13T00:00:00+00:00",
          "2025-02-14T00:00:00+00:00",
          "2025-02-14T00:00:00+00:00",
          "2025-02-15T00:00:00+00:00",
          "2025-02-15T00:00:00+00:00",
          "2025-02-16T00:00:00+00:00",
          "2025-02-16T00:00:00+00:00",
          "2025-02-17T00:00:00+00:00",
          "2025-02-17T00:00:00+00:00",
          "2025-02-18T00:00:00+00:00",
          "2025-02-18T00:00:00+00:00",
          "2025-02-19T00:00:00+00:00",
          "2025-02-19T00:00:00+00:00",
          "2025-02-20T00:00:00+00:00",
          "2025-02-20T00:00:00+00:00",
          "2025-02-21T00:00:00+00:00",
          "2025-02-21T00:00:00+00:00",
          "2025-02-22T00:00:00+00:00",
          "2025-02-22T00:00:00+00:00",
          "2025-02-23T00:00:00+00:00",
          "2025-02-23T00:00:00+00:00",
          "2025-02-24T00:00:00+00:00",
          "2025-02-24T00:00:00+00:00",
          "2025-02-25T00:00:00+00:00",
          "2025-02-25T00:00:00+00:00",
          "2025-02-26T00:00:00+00:00",
          "2025-02-26T00:00:00+00:00",
          "2025-02-27T00:00:00+00:00",
          "2025-02-27T00:00:00+00:00",
          "2025-02-28T00:00:00+00:00",
          "2025-02-28T00:00:00+00:00",
          "2025-03-01T00:00:00+00:00",
          "2025-03-01T00:00:00+00:00",
          "2025-03-02T00:00:00+00:00",
          "2025-03-02T00:00:00+00:00",
          "2025-03-03T00:00:00+00:00",
          "2025-03-03T00:00:00+00:00",
          "2025-03-04T00:00:00+00:00",
          "2025-03-04T00:00:00+00:00",
          "2025-03-05T00:00:00+00:00",
          "2025-03-05T00:00:00+00:00",
          "2025-03-06T00:00:00+00:00",
          "2025-03-06T00:00:00+00:00",
          "2025-03-07T00:00:00+00:00",
          "2025-03-07T00:00:00+00:00",
          "2025-03-08T00:00:00+00:00",
          "2025-03-08T00:00:00+00:00",
          "2025-03-09T00:00:00+00:00",
          "2025-03-09T00:00:00+00:00",
          "2025-03-10T00:00:00+00:00",
          "2025-03-10T00:00:00+00:00",
          "2025-03-11T00:00:00+00:00",
          "2025-03-11T00:00:00+00:00",
          "2025-03-12T00:00:00+00:00",
          "2025-03-12T00:00:00+00:00",
          "2025-03-13T00:00:00+00:00",
          "2025-03-13T00:00:00+00:00",
          "2025-03-14T00:00:00+00:00",
          "2025-03-14T00:00:00+00:00",
          "2025-03-15T00:00:00+00:00",
          "2025-03-15T00:00:00+00:00",
          "2025-03-16T00:00:00+00:00",
          "2025-03-16T00:00:00+00:00",
          "2025-03-17T00:00:00+00:00",
          "2025-03-17T00:00:00+00:00",
          "2025-03-18T00:00:00+00:00",
          "2025-03-18T00:00:00+00:00",
          "2025-03-19T00:00:00+00:00",
          "2025-03-19T00:00:00+00:00",
          "2025-03-20T00:00:00+00:00",
          "2025-03-20T00:00:00+00:00",
          "2025-03-21T00:00:00+00:00",
          "2025-03-21T00:00:00+00:00",
          "2025-03-22T00:00:00+00:00",
          "2025-03-22T00:00:00+00:00",
          "2025-03-23T00:00:00+00:00",
          "2025-03-23T00:00:00+00:00",
          "2025-03-24T00:00:00+00:00",
          "2025-03-24T00:00:00+00:00",
          "2025-03-25T00:00:00+00:00",
          "2025-03-25T00:00:00+00:00",
          "2025-03-26T00:00:00+00:00",
          "2025-03-26T00:00:00+00:00",
          "2025-03-27T00:00:00+00:00",
          "2025-03-27T00:00:00+00:00",
          "2025-03-28T00:00:00+00:00",
          "2025-03-28T00:00:00+00:00",
          "2025-03-29T00:00:00+00:00",
          "2025-03-29T00:00:00+00:00",
          "2025-03-30T00:00:00+00:00",
          "2025-03-30T00:00:00+00:00",
          "2025-03-31T00:00:00+00:00",
          "2025-03-31T00:00:00+00:00",
          "2025-04-01T00:00:00+00:00",
          "2025-04-01T00:00:00+00:00",
          "2025-04-02T00:00:00+00:00",
          "2025-04-02T00:00:00+00:00",
          "2025-04-03T00:00:00+00:00",
          "2025-04-03T00:00:00+00:00",
          "2025-04-04T00:00:00+00:00",
          "2025-04-04T00:00:00+00:00",
          "2025-04-05T00:00:00+00:00",
          "2025-04-05T00:00:00+00:00",
          "2025-04-06T00:00:00+00:00",
          "2025-04-06T00:00:00+00:00",
          "2025-04-07T00:00:00+00:00",
          "2025-04-07T00:00:00+00:00"
         ],
         "y": {
          "bdata": "zczMzMzMIcBmZmZmZmYhwM3MzMzMzB7AZmZmZmZmIMAzMzMzMzMRwM3MzMzMzCDAzczMzMzMEMAzMzMzMzMHwJqZmZmZmfm/mpmZmZmZDcAzMzMzMzMDQJqZmZmZmem/zczMzMzM/D9mZmZmZmYGQM3MzMzMzAxAZmZmZmZm/j8AAAAAAAASQM3MzMzMzBBAAAAAAAAAFkBmZmZmZmYSQGZmZmZmZvY/mpmZmZmZEUDNzMzMzMwIwJqZmZmZmek/zczMzMzMIcAAAAAAAAAUwGZmZmZmZiDAmpmZmZmZI8AAAAAAAAAhwJqZmZmZmR/AzczMzMzMBMCamZmZmZkdwGZmZmZmZgrAmpmZmZmZ8b9mZmZmZmYKwGZmZmZmZhLAAAAAAAAAAAAAAAAAAAAEwDMzMzMzM9M/ZmZmZmZm9j+amZmZmZnZvzMzMzMzM/O/AAAAAAAA4D8AAAAAAADgP5qZmZmZmck/MzMzMzMz4z8zMzMzMzPzP5qZmZmZmcm/ZmZmZmZm9j9mZmZmZmb+PzMzMzMzM/u/MzMzMzMz0z+amZmZmZkVwDMzMzMzMwPAMzMzMzMzGcAzMzMzMzMZwM3MzMzMzPS/ZmZmZmZmFMAAAAAAAAAQQDMzMzMzM9O/mpmZmZmZF0BmZmZmZmYWQAAAAAAAABRAZmZmZmZmFkDNzMzMzMz8P2ZmZmZmZhBAZmZmZmZm/j8zMzMzMzPzPwAAAAAAAAhAAAAAAAAACEDNzMzMzMz8v2ZmZmZmZvY/AAAAAAAADMAzMzMzMzMDwAAAAAAAABTAMzMzMzMzD8DNzMzMzMwIwAAAAAAAABTAmpmZmZmZAcDNzMzMzMwEwM3MzMzMzPy/ZmZmZmZmAsCamZmZmZkBwM3MzMzMzPy/MzMzMzMz07+amZmZmZn5v2ZmZmZmZuY/AAAAAAAAAAAAAAAAAADwP2ZmZmZmZuY/MzMzMzMzFUAzMzMzMzPzP5qZmZmZmRlAzczMzMzMHECamZmZmZkVQJqZmZmZmRdAmpmZmZmZF0CamZmZmZkVQM3MzMzMzAhAMzMzMzMzFUDNzMzMzMz8PzMzMzMzMwNAZmZmZmZm9j/NzMzMzMwAQDMzMzMzM/M/ZmZmZmZm5j+amZmZmZn5PzMzMzMzM/s/zczMzMzM7D9mZmZmZmb2PzMzMzMzM9M/MzMzMzMz4z8AAAAAAADwvzMzMzMzM9O/mpmZmZmZ2T+amZmZmZnZv5qZmZmZmek/MzMzMzMz4z+amZmZmZm5vwAAAAAAAOA/mpmZmZmZ8b+amZmZmZm5vzMzMzMzMwfAzczMzMzM/L8zMzMzMzMPwJqZmZmZmQnAmpmZmZmZE8AzMzMzMzMTwJqZmZmZmRXAMzMzMzMzEcCamZmZmZkZwAAAAAAAABjAZmZmZmZmFsAAAAAAAAAYwJqZmZmZmQnAZmZmZmZmFMAAAAAAAAAMwDMzMzMzMwfAZmZmZmZm5r/NzMzMzMwIwM3MzMzMzAzAAAAAAAAA8L8zMzMzMzMPwM3MzMzMzBDAmpmZmZmZuT+amZmZmZkJwDMzMzMzMxdAmpmZmZmZAUCamZmZmZkXQM3MzMzMzBpAMzMzMzMzEUAzMzMzMzMVQJqZmZmZmfG/MzMzMzMzB0AzMzMzMzP7v2ZmZmZmZv6/zczMzMzM7L8AAAAAAAD4vwAAAAAAAOA/mpmZmZmZ2b9mZmZmZmbmvzMzMzMzM+M/mpmZmZmZub8zMzMzMzP7v83MzMzMzOw/mpmZmZmZ6T8AAAAAAAAIQDMzMzMzM/M/AAAAAAAACEAzMzMzMzMPQM3MzMzMzAhAZmZmZmZmCkBmZmZmZmb+v83MzMzMzPQ/zczMzMzM9L8zMzMzMzMDwGZmZmZmZv4/AAAAAAAAAAAAAAAAAAAEQAAAAAAAAABA",
          "dtype": "f8"
         }
        },
        {
         "line": {
          "color": "#1f77b4",
          "dash": "dash"
         },
         "mode": "lines",
         "name": "Gjennomsnittstemperatur i tromsø",
         "type": "scatter",
         "x": [
          "2025-01-08T00:00:00+00:00",
          "2025-01-08T00:00:00+00:00",
          "2025-01-09T00:00:00+00:00",
          "2025-01-09T00:00:00+00:00",
          "2025-01-10T00:00:00+00:00",
          "2025-01-10T00:00:00+00:00",
          "2025-01-11T00:00:00+00:00",
          "2025-01-11T00:00:00+00:00",
          "2025-01-12T00:00:00+00:00",
          "2025-01-12T00:00:00+00:00",
          "2025-01-13T00:00:00+00:00",
          "2025-01-13T00:00:00+00:00",
          "2025-01-14T00:00:00+00:00",
          "2025-01-14T00:00:00+00:00",
          "2025-01-15T00:00:00+00:00",
          "2025-01-15T00:00:00+00:00",
          "2025-01-16T00:00:00+00:00",
          "2025-01-16T00:00:00+00:00",
          "2025-01-17T00:00:00+00:00",
          "2025-01-17T00:00:00+00:00",
          "2025-01-18T00:00:00+00:00",
          "2025-01-18T00:00:00+00:00",
          "2025-01-19T00:00:00+00:00",
          "2025-01-19T00:00:00+00:00",
          "2025-01-20T00:00:00+00:00",
          "2025-01-20T00:00:00+00:00",
          "2025-01-21T00:00:00+00:00",
          "2025-01-21T00:00:00+00:00",
          "2025-01-22T00:00:00+00:00",
          "2025-01-22T00:00:00+00:00",
          "2025-01-23T00:00:00+00:00",
          "2025-01-23T00:00:00+00:00",
          "2025-01-24T00:00:00+00:00",
          "2025-01-24T00:00:00+00:00",
          "2025-01-25T00:00:00+00:00",
          "2025-01-25T00:00:00+00:00",
          "2025-01-26T00:00:00+00:00",
          "2025-01-26T00:00:00+00:00",
          "2025-01-27T00:00:00+00:00",
          "2025-01-27T00:00:00+00:00",
          "2025-01-28T00:00:00+00:00",
          "2025-01-28T00:00:00+00:00",
          "2025-01-29T00:00:00+00:00",
          "2025-01-29T00:00:00+00:00",
          "2025-01-30T00:00:00+00:00",
          "2025-01-30T00:00:00+00:00",
          "2025-01-31T00:00:00+00:00",
          "2025-01-31T00:00:00+00:00",
          "2025-02-01T00:00:00+00:00",
          "2025-02-01T00:00:00+00:00",
          "2025-02-02T00:00:00+00:00",
          "2025-02-02T00:00:00+00:00",
          "2025-02-03T00:00:00+00:00",
          "2025-02-03T00:00:00+00:00",
          "2025-02-04T00:00:00+00:00",
          "2025-02-04T00:00:00+00:00",
          "2025-02-05T00:00:00+00:00",
          "2025-02-05T00:00:00+00:00",
          "2025-02-06T00:00:00+00:00",
          "2025-02-06T00:00:00+00:00",
          "2025-02-07T00:00:00+00:00",
          "2025-02-07T00:00:00+00:00",
          "2025-02-08T00:00:00+00:00",
          "2025-02-08T00:00:00+00:00",
          "2025-02-09T00:00:00+00:00",
          "2025-02-09T00:00:00+00:00",
          "2025-02-10T00:00:00+00:00",
          "2025-02-10T00:00:00+00:00",
          "2025-02-11T00:00:00+00:00",
          "2025-02-11T00:00:00+00:00",
          "2025-02-12T00:00:00+00:00",
          "2025-02-12T00:00:00+00:00",
          "2025-02-13T00:00:00+00:00",
          "2025-02-13T00:00:00+00:00",
          "2025-02-14T00:00:00+00:00",
          "2025-02-14T00:00:00+00:00",
          "2025-02-15T00:00:00+00:00",
          "2025-02-15T00:00:00+00:00",
          "2025-02-16T00:00:00+00:00",
          "2025-02-16T00:00:00+00:00",
          "2025-02-17T00:00:00+00:00",
          "2025-02-17T00:00:00+00:00",
          "2025-02-18T00:00:00+00:00",
          "2025-02-18T00:00:00+00:00",
          "2025-02-19T00:00:00+00:00",
          "2025-02-19T00:00:00+00:00",
          "2025-02-20T00:00:00+00:00",
          "2025-02-20T00:00:00+00:00",
          "2025-02-21T00:00:00+00:00",
          "2025-02-21T00:00:00+00:00",
          "2025-02-22T00:00:00+00:00",
          "2025-02-22T00:00:00+00:00",
          "2025-02-23T00:00:00+00:00",
          "2025-02-23T00:00:00+00:00",
          "2025-02-24T00:00:00+00:00",
          "2025-02-24T00:00:00+00:00",
          "2025-02-25T00:00:00+00:00",
          "2025-02-25T00:00:00+00:00",
          "2025-02-26T00:00:00+00:00",
          "2025-02-26T00:00:00+00:00",
          "2025-02-27T00:00:00+00:00",
          "2025-02-27T00:00:00+00:00",
          "2025-02-28T00:00:00+00:00",
          "2025-02-28T00:00:00+00:00",
          "2025-03-01T00:00:00+00:00",
          "2025-03-01T00:00:00+00:00",
          "2025-03-02T00:00:00+00:00",
          "2025-03-02T00:00:00+00:00",
          "2025-03-03T00:00:00+00:00",
          "2025-03-03T00:00:00+00:00",
          "2025-03-04T00:00:00+00:00",
          "2025-03-04T00:00:00+00:00",
          "2025-03-05T00:00:00+00:00",
          "2025-03-05T00:00:00+00:00",
          "2025-03-06T00:00:00+00:00",
          "2025-03-06T00:00:00+00:00",
          "2025-03-07T00:00:00+00:00",
          "2025-03-07T00:00:00+00:00",
          "2025-03-08T00:00:00+00:00",
          "2025-03-08T00:00:00+00:00",
          "2025-03-09T00:00:00+00:00",
          "2025-03-09T00:00:00+00:00",
          "2025-03-10T00:00:00+00:00",
          "2025-03-10T00:00:00+00:00",
          "2025-03-11T00:00:00+00:00",
          "2025-03-11T00:00:00+00:00",
          "2025-03-12T00:00:00+00:00",
          "2025-03-12T00:00:00+00:00",
          "2025-03-13T00:00:00+00:00",
          "2025-03-13T00:00:00+00:00",
          "2025-03-14T00:00:00+00:00",
          "2025-03-14T00:00:00+00:00",
          "2025-03-15T00:00:00+00:00",
          "2025-03-15T00:00:00+00:00",
          "2025-03-16T00:00:00+00:00",
          "2025-03-16T00:00:00+00:00",
          "2025-03-17T00:00:00+00:00",
          "2025-03-17T00:00:00+00:00",
          "2025-03-18T00:00:00+00:00",
          "2025-03-18T00:00:00+00:00",
          "2025-03-19T00:00:00+00:00",
          "2025-03-19T00:00:00+00:00",
          "2025-03-20T00:00:00+00:00",
          "2025-03-20T00:00:00+00:00",
          "2025-03-21T00:00:00+00:00",
          "2025-03-21T00:00:00+00:00",
          "2025-03-22T00:00:00+00:00",
          "2025-03-22T00:00:00+00:00",
          "2025-03-23T00:00:00+00:00",
          "2025-03-23T00:00:00+00:00",
          "2025-03-24T00:00:00+00:00",
          "2025-03-24T00:00:00+00:00",
          "2025-03-25T00:00:00+00:00",
          "2025-03-25T00:00:00+00:00",
          "2025-03-26T00:00:00+00:00",
          "2025-03-26T00:00:00+00:00",
          "2025-03-27T00:00:00+00:00",
          "2025-03-27T00:00:00+00:00",
          "2025-03-28T00:00:00+00:00",
          "2025-03-28T00:00:00+00:00",
          "2025-03-29T00:00:00+00:00",
          "2025-03-29T00:00:00+00:00",
          "2025-03-30T00:00:00+00:00",
          "2025-03-30T00:00:00+00:00",
          "2025-03-31T00:00:00+00:00",
          "2025-03-31T00:00:00+00:00",
          "2025-04-01T00:00:00+00:00",
          "2025-04-01T00:00:00+00:00",
          "2025-04-02T00:00:00+00:00",
          "2025-04-02T00:00:00+00:00",
          "2025-04-03T00:00:00+00:00",
          "2025-04-03T00:00:00+00:00",
          "2025-04-04T00:00:00+00:00",
          "2025-04-04T00:00:00+00:00",
          "2025-04-05T00:00:00+00:00",
          "2025-04-05T00:00:00+00:00",
          "2025-04-06T00:00:00+00:00",
          "2025-04-06T00:00:00+00:00",
          "2025-04-07T00:00:00+00:00",
          "2025-04-07T00:00:00+00:00"
         ],
         "y": [
          -0.5116666666666668,
          -0.5116666666666668,
          -0.5116666666666668,
          -0.5116666666666668,
          -0.5116666666666668,
          -0.5116666666666668,
          -0.5116666666666668,
          -0.5116666666666668,
          -0.5116666666666668,
          -0.5116666666666668,
          -0.5116666666666668,
          -0.5116666666666668,
          -0.5116666666666668,
          -0.5116666666666668,
          -0.5116666666666668,
          -0.5116666666666668,
          -0.5116666666666668,
          -0.5116666666666668,
          -0.5116666666666668,
          -0.5116666666666668,
          -0.5116666666666668,
          -0.5116666666666668,
          -0.5116666666666668,
          -0.5116666666666668,
          -0.5116666666666668,
          -0.5116666666666668,
          -0.5116666666666668,
          -0.5116666666666668,
          -0.5116666666666668,
          -0.5116666666666668,
          -0.5116666666666668,
          -0.5116666666666668,
          -0.5116666666666668,
          -0.5116666666666668,
          -0.5116666666666668,
          -0.5116666666666668,
          -0.5116666666666668,
          -0.5116666666666668,
          -0.5116666666666668,
          -0.5116666666666668,
          -0.5116666666666668,
          -0.5116666666666668,
          -0.5116666666666668,
          -0.5116666666666668,
          -0.5116666666666668,
          -0.5116666666666668,
          -0.5116666666666668,
          -0.5116666666666668,
          -0.5116666666666668,
          -0.5116666666666668,
          -0.5116666666666668,
          -0.5116666666666668,
          -0.5116666666666668,
          -0.5116666666666668,
          -0.5116666666666668,
          -0.5116666666666668,
          -0.5116666666666668,
          -0.5116666666666668,
          -0.5116666666666668,
          -0.5116666666666668,
          -0.5116666666666668,
          -0.5116666666666668,
          -0.5116666666666668,
          -0.5116666666666668,
          -0.5116666666666668,
          -0.5116666666666668,
          -0.5116666666666668,
          -0.5116666666666668,
          -0.5116666666666668,
          -0.5116666666666668,
          -0.5116666666666668,
          -0.5116666666666668,
          -0.5116666666666668,
          -0.5116666666666668,
          -0.5116666666666668,
          -0.5116666666666668,
          -0.5116666666666668,
          -0.5116666666666668,
          -0.5116666666666668,
          -0.5116666666666668,
          -0.5116666666666668,
          -0.5116666666666668,
          -0.5116666666666668,
          -0.5116666666666668,
          -0.5116666666666668,
          -0.5116666666666668,
          -0.5116666666666668,
          -0.5116666666666668,
          -0.5116666666666668,
          -0.5116666666666668,
          -0.5116666666666668,
          -0.5116666666666668,
          -0.5116666666666668,
          -0.5116666666666668,
          -0.5116666666666668,
          -0.5116666666666668,
          -0.5116666666666668,
          -0.5116666666666668,
          -0.5116666666666668,
          -0.5116666666666668,
          -0.5116666666666668,
          -0.5116666666666668,
          -0.5116666666666668,
          -0.5116666666666668,
          -0.5116666666666668,
          -0.5116666666666668,
          -0.5116666666666668,
          -0.5116666666666668,
          -0.5116666666666668,
          -0.5116666666666668,
          -0.5116666666666668,
          -0.5116666666666668,
          -0.5116666666666668,
          -0.5116666666666668,
          -0.5116666666666668,
          -0.5116666666666668,
          -0.5116666666666668,
          -0.5116666666666668,
          -0.5116666666666668,
          -0.5116666666666668,
          -0.5116666666666668,
          -0.5116666666666668,
          -0.5116666666666668,
          -0.5116666666666668,
          -0.5116666666666668,
          -0.5116666666666668,
          -0.5116666666666668,
          -0.5116666666666668,
          -0.5116666666666668,
          -0.5116666666666668,
          -0.5116666666666668,
          -0.5116666666666668,
          -0.5116666666666668,
          -0.5116666666666668,
          -0.5116666666666668,
          -0.5116666666666668,
          -0.5116666666666668,
          -0.5116666666666668,
          -0.5116666666666668,
          -0.5116666666666668,
          -0.5116666666666668,
          -0.5116666666666668,
          -0.5116666666666668,
          -0.5116666666666668,
          -0.5116666666666668,
          -0.5116666666666668,
          -0.5116666666666668,
          -0.5116666666666668,
          -0.5116666666666668,
          -0.5116666666666668,
          -0.5116666666666668,
          -0.5116666666666668,
          -0.5116666666666668,
          -0.5116666666666668,
          -0.5116666666666668,
          -0.5116666666666668,
          -0.5116666666666668,
          -0.5116666666666668,
          -0.5116666666666668,
          -0.5116666666666668,
          -0.5116666666666668,
          -0.5116666666666668,
          -0.5116666666666668,
          -0.5116666666666668,
          -0.5116666666666668,
          -0.5116666666666668,
          -0.5116666666666668,
          -0.5116666666666668,
          -0.5116666666666668,
          -0.5116666666666668,
          -0.5116666666666668,
          -0.5116666666666668,
          -0.5116666666666668,
          -0.5116666666666668,
          -0.5116666666666668,
          -0.5116666666666668,
          -0.5116666666666668,
          -0.5116666666666668,
          -0.5116666666666668,
          -0.5116666666666668
         ]
        }
       ],
       "layout": {
        "legend": {
         "title": {
          "text": "Temperatur"
         }
        },
        "template": {
         "data": {
          "bar": [
           {
            "error_x": {
             "color": "#2a3f5f"
            },
            "error_y": {
             "color": "#2a3f5f"
            },
            "marker": {
             "line": {
              "color": "#E5ECF6",
              "width": 0.5
             },
             "pattern": {
              "fillmode": "overlay",
              "size": 10,
              "solidity": 0.2
             }
            },
            "type": "bar"
           }
          ],
          "barpolar": [
           {
            "marker": {
             "line": {
              "color": "#E5ECF6",
              "width": 0.5
             },
             "pattern": {
              "fillmode": "overlay",
              "size": 10,
              "solidity": 0.2
             }
            },
            "type": "barpolar"
           }
          ],
          "carpet": [
           {
            "aaxis": {
             "endlinecolor": "#2a3f5f",
             "gridcolor": "white",
             "linecolor": "white",
             "minorgridcolor": "white",
             "startlinecolor": "#2a3f5f"
            },
            "baxis": {
             "endlinecolor": "#2a3f5f",
             "gridcolor": "white",
             "linecolor": "white",
             "minorgridcolor": "white",
             "startlinecolor": "#2a3f5f"
            },
            "type": "carpet"
           }
          ],
          "choropleth": [
           {
            "colorbar": {
             "outlinewidth": 0,
             "ticks": ""
            },
            "type": "choropleth"
           }
          ],
          "contour": [
           {
            "colorbar": {
             "outlinewidth": 0,
             "ticks": ""
            },
            "colorscale": [
             [
              0,
              "#0d0887"
             ],
             [
              0.1111111111111111,
              "#46039f"
             ],
             [
              0.2222222222222222,
              "#7201a8"
             ],
             [
              0.3333333333333333,
              "#9c179e"
             ],
             [
              0.4444444444444444,
              "#bd3786"
             ],
             [
              0.5555555555555556,
              "#d8576b"
             ],
             [
              0.6666666666666666,
              "#ed7953"
             ],
             [
              0.7777777777777778,
              "#fb9f3a"
             ],
             [
              0.8888888888888888,
              "#fdca26"
             ],
             [
              1,
              "#f0f921"
             ]
            ],
            "type": "contour"
           }
          ],
          "contourcarpet": [
           {
            "colorbar": {
             "outlinewidth": 0,
             "ticks": ""
            },
            "type": "contourcarpet"
           }
          ],
          "heatmap": [
           {
            "colorbar": {
             "outlinewidth": 0,
             "ticks": ""
            },
            "colorscale": [
             [
              0,
              "#0d0887"
             ],
             [
              0.1111111111111111,
              "#46039f"
             ],
             [
              0.2222222222222222,
              "#7201a8"
             ],
             [
              0.3333333333333333,
              "#9c179e"
             ],
             [
              0.4444444444444444,
              "#bd3786"
             ],
             [
              0.5555555555555556,
              "#d8576b"
             ],
             [
              0.6666666666666666,
              "#ed7953"
             ],
             [
              0.7777777777777778,
              "#fb9f3a"
             ],
             [
              0.8888888888888888,
              "#fdca26"
             ],
             [
              1,
              "#f0f921"
             ]
            ],
            "type": "heatmap"
           }
          ],
          "histogram": [
           {
            "marker": {
             "pattern": {
              "fillmode": "overlay",
              "size": 10,
              "solidity": 0.2
             }
            },
            "type": "histogram"
           }
          ],
          "histogram2d": [
           {
            "colorbar": {
             "outlinewidth": 0,
             "ticks": ""
            },
            "colorscale": [
             [
              0,
              "#0d0887"
             ],
             [
              0.1111111111111111,
              "#46039f"
             ],
             [
              0.2222222222222222,
              "#7201a8"
             ],
             [
              0.3333333333333333,
              "#9c179e"
             ],
             [
              0.4444444444444444,
              "#bd3786"
             ],
             [
              0.5555555555555556,
              "#d8576b"
             ],
             [
              0.6666666666666666,
              "#ed7953"
             ],
             [
              0.7777777777777778,
              "#fb9f3a"
             ],
             [
              0.8888888888888888,
              "#fdca26"
             ],
             [
              1,
              "#f0f921"
             ]
            ],
            "type": "histogram2d"
           }
          ],
          "histogram2dcontour": [
           {
            "colorbar": {
             "outlinewidth": 0,
             "ticks": ""
            },
            "colorscale": [
             [
              0,
              "#0d0887"
             ],
             [
              0.1111111111111111,
              "#46039f"
             ],
             [
              0.2222222222222222,
              "#7201a8"
             ],
             [
              0.3333333333333333,
              "#9c179e"
             ],
             [
              0.4444444444444444,
              "#bd3786"
             ],
             [
              0.5555555555555556,
              "#d8576b"
             ],
             [
              0.6666666666666666,
              "#ed7953"
             ],
             [
              0.7777777777777778,
              "#fb9f3a"
             ],
             [
              0.8888888888888888,
              "#fdca26"
             ],
             [
              1,
              "#f0f921"
             ]
            ],
            "type": "histogram2dcontour"
           }
          ],
          "mesh3d": [
           {
            "colorbar": {
             "outlinewidth": 0,
             "ticks": ""
            },
            "type": "mesh3d"
           }
          ],
          "parcoords": [
           {
            "line": {
             "colorbar": {
              "outlinewidth": 0,
              "ticks": ""
             }
            },
            "type": "parcoords"
           }
          ],
          "pie": [
           {
            "automargin": true,
            "type": "pie"
           }
          ],
          "scatter": [
           {
            "fillpattern": {
             "fillmode": "overlay",
             "size": 10,
             "solidity": 0.2
            },
            "type": "scatter"
           }
          ],
          "scatter3d": [
           {
            "line": {
             "colorbar": {
              "outlinewidth": 0,
              "ticks": ""
             }
            },
            "marker": {
             "colorbar": {
              "outlinewidth": 0,
              "ticks": ""
             }
            },
            "type": "scatter3d"
           }
          ],
          "scattercarpet": [
           {
            "marker": {
             "colorbar": {
              "outlinewidth": 0,
              "ticks": ""
             }
            },
            "type": "scattercarpet"
           }
          ],
          "scattergeo": [
           {
            "marker": {
             "colorbar": {
              "outlinewidth": 0,
              "ticks": ""
             }
            },
            "type": "scattergeo"
           }
          ],
          "scattergl": [
           {
            "marker": {
             "colorbar": {
              "outlinewidth": 0,
              "ticks": ""
             }
            },
            "type": "scattergl"
           }
          ],
          "scattermap": [
           {
            "marker": {
             "colorbar": {
              "outlinewidth": 0,
              "ticks": ""
             }
            },
            "type": "scattermap"
           }
          ],
          "scattermapbox": [
           {
            "marker": {
             "colorbar": {
              "outlinewidth": 0,
              "ticks": ""
             }
            },
            "type": "scattermapbox"
           }
          ],
          "scatterpolar": [
           {
            "marker": {
             "colorbar": {
              "outlinewidth": 0,
              "ticks": ""
             }
            },
            "type": "scatterpolar"
           }
          ],
          "scatterpolargl": [
           {
            "marker": {
             "colorbar": {
              "outlinewidth": 0,
              "ticks": ""
             }
            },
            "type": "scatterpolargl"
           }
          ],
          "scatterternary": [
           {
            "marker": {
             "colorbar": {
              "outlinewidth": 0,
              "ticks": ""
             }
            },
            "type": "scatterternary"
           }
          ],
          "surface": [
           {
            "colorbar": {
             "outlinewidth": 0,
             "ticks": ""
            },
            "colorscale": [
             [
              0,
              "#0d0887"
             ],
             [
              0.1111111111111111,
              "#46039f"
             ],
             [
              0.2222222222222222,
              "#7201a8"
             ],
             [
              0.3333333333333333,
              "#9c179e"
             ],
             [
              0.4444444444444444,
              "#bd3786"
             ],
             [
              0.5555555555555556,
              "#d8576b"
             ],
             [
              0.6666666666666666,
              "#ed7953"
             ],
             [
              0.7777777777777778,
              "#fb9f3a"
             ],
             [
              0.8888888888888888,
              "#fdca26"
             ],
             [
              1,
              "#f0f921"
             ]
            ],
            "type": "surface"
           }
          ],
          "table": [
           {
            "cells": {
             "fill": {
              "color": "#EBF0F8"
             },
             "line": {
              "color": "white"
             }
            },
            "header": {
             "fill": {
              "color": "#C8D4E3"
             },
             "line": {
              "color": "white"
             }
            },
            "type": "table"
           }
          ]
         },
         "layout": {
          "annotationdefaults": {
           "arrowcolor": "#2a3f5f",
           "arrowhead": 0,
           "arrowwidth": 1
          },
          "autotypenumbers": "strict",
          "coloraxis": {
           "colorbar": {
            "outlinewidth": 0,
            "ticks": ""
           }
          },
          "colorscale": {
           "diverging": [
            [
             0,
             "#8e0152"
            ],
            [
             0.1,
             "#c51b7d"
            ],
            [
             0.2,
             "#de77ae"
            ],
            [
             0.3,
             "#f1b6da"
            ],
            [
             0.4,
             "#fde0ef"
            ],
            [
             0.5,
             "#f7f7f7"
            ],
            [
             0.6,
             "#e6f5d0"
            ],
            [
             0.7,
             "#b8e186"
            ],
            [
             0.8,
             "#7fbc41"
            ],
            [
             0.9,
             "#4d9221"
            ],
            [
             1,
             "#276419"
            ]
           ],
           "sequential": [
            [
             0,
             "#0d0887"
            ],
            [
             0.1111111111111111,
             "#46039f"
            ],
            [
             0.2222222222222222,
             "#7201a8"
            ],
            [
             0.3333333333333333,
             "#9c179e"
            ],
            [
             0.4444444444444444,
             "#bd3786"
            ],
            [
             0.5555555555555556,
             "#d8576b"
            ],
            [
             0.6666666666666666,
             "#ed7953"
            ],
            [
             0.7777777777777778,
             "#fb9f3a"
            ],
            [
             0.8888888888888888,
             "#fdca26"
            ],
            [
             1,
             "#f0f921"
            ]
           ],
           "sequentialminus": [
            [
             0,
             "#0d0887"
            ],
            [
             0.1111111111111111,
             "#46039f"
            ],
            [
             0.2222222222222222,
             "#7201a8"
            ],
            [
             0.3333333333333333,
             "#9c179e"
            ],
            [
             0.4444444444444444,
             "#bd3786"
            ],
            [
             0.5555555555555556,
             "#d8576b"
            ],
            [
             0.6666666666666666,
             "#ed7953"
            ],
            [
             0.7777777777777778,
             "#fb9f3a"
            ],
            [
             0.8888888888888888,
             "#fdca26"
            ],
            [
             1,
             "#f0f921"
            ]
           ]
          },
          "colorway": [
           "#636efa",
           "#EF553B",
           "#00cc96",
           "#ab63fa",
           "#FFA15A",
           "#19d3f3",
           "#FF6692",
           "#B6E880",
           "#FF97FF",
           "#FECB52"
          ],
          "font": {
           "color": "#2a3f5f"
          },
          "geo": {
           "bgcolor": "white",
           "lakecolor": "white",
           "landcolor": "#E5ECF6",
           "showlakes": true,
           "showland": true,
           "subunitcolor": "white"
          },
          "hoverlabel": {
           "align": "left"
          },
          "hovermode": "closest",
          "mapbox": {
           "style": "light"
          },
          "paper_bgcolor": "white",
          "plot_bgcolor": "#E5ECF6",
          "polar": {
           "angularaxis": {
            "gridcolor": "white",
            "linecolor": "white",
            "ticks": ""
           },
           "bgcolor": "#E5ECF6",
           "radialaxis": {
            "gridcolor": "white",
            "linecolor": "white",
            "ticks": ""
           }
          },
          "scene": {
           "xaxis": {
            "backgroundcolor": "#E5ECF6",
            "gridcolor": "white",
            "gridwidth": 2,
            "linecolor": "white",
            "showbackground": true,
            "ticks": "",
            "zerolinecolor": "white"
           },
           "yaxis": {
            "backgroundcolor": "#E5ECF6",
            "gridcolor": "white",
            "gridwidth": 2,
            "linecolor": "white",
            "showbackground": true,
            "ticks": "",
            "zerolinecolor": "white"
           },
           "zaxis": {
            "backgroundcolor": "#E5ECF6",
            "gridcolor": "white",
            "gridwidth": 2,
            "linecolor": "white",
            "showbackground": true,
            "ticks": "",
            "zerolinecolor": "white"
           }
          },
          "shapedefaults": {
           "line": {
            "color": "#2a3f5f"
           }
          },
          "ternary": {
           "aaxis": {
            "gridcolor": "white",
            "linecolor": "white",
            "ticks": ""
           },
           "baxis": {
            "gridcolor": "white",
            "linecolor": "white",
            "ticks": ""
           },
           "bgcolor": "#E5ECF6",
           "caxis": {
            "gridcolor": "white",
            "linecolor": "white",
            "ticks": ""
           }
          },
          "title": {
           "x": 0.05
          },
          "xaxis": {
           "automargin": true,
           "gridcolor": "white",
           "linecolor": "white",
           "ticks": "",
           "title": {
            "standoff": 15
           },
           "zerolinecolor": "white",
           "zerolinewidth": 2
          },
          "yaxis": {
           "automargin": true,
           "gridcolor": "white",
           "linecolor": "white",
           "ticks": "",
           "title": {
            "standoff": 15
           },
           "zerolinecolor": "white",
           "zerolinewidth": 2
          }
         }
        },
        "title": {
         "text": "Temperatur over tid i tromsø"
        },
        "xaxis": {
         "title": {
          "text": "Dato"
         }
        },
        "yaxis": {
         "title": {
          "text": "Temperatur (°C)"
         }
        }
       }
      }
     },
     "metadata": {},
     "output_type": "display_data"
    },
    {
     "name": "stdout",
     "output_type": "stream",
     "text": [
      "Temperatur:\n",
      "Median: -0.10, Standardavvik: 3.73\n"
     ]
    },
    {
     "data": {
      "application/vnd.plotly.v1+json": {
       "config": {
        "plotlyServerURL": "https://plot.ly"
       },
       "data": [
        {
         "marker": {
          "color": "#1f77b4"
         },
         "name": "Nedbør i tromsø",
         "type": "bar",
         "x": [
          "2025-01-08T00:00:00+00:00",
          "2025-01-08T00:00:00+00:00",
          "2025-01-09T00:00:00+00:00",
          "2025-01-09T00:00:00+00:00",
          "2025-01-10T00:00:00+00:00",
          "2025-01-10T00:00:00+00:00",
          "2025-01-11T00:00:00+00:00",
          "2025-01-11T00:00:00+00:00",
          "2025-01-12T00:00:00+00:00",
          "2025-01-12T00:00:00+00:00",
          "2025-01-13T00:00:00+00:00",
          "2025-01-13T00:00:00+00:00",
          "2025-01-14T00:00:00+00:00",
          "2025-01-14T00:00:00+00:00",
          "2025-01-15T00:00:00+00:00",
          "2025-01-15T00:00:00+00:00",
          "2025-01-16T00:00:00+00:00",
          "2025-01-16T00:00:00+00:00",
          "2025-01-17T00:00:00+00:00",
          "2025-01-17T00:00:00+00:00",
          "2025-01-18T00:00:00+00:00",
          "2025-01-18T00:00:00+00:00",
          "2025-01-19T00:00:00+00:00",
          "2025-01-19T00:00:00+00:00",
          "2025-01-20T00:00:00+00:00",
          "2025-01-20T00:00:00+00:00",
          "2025-01-21T00:00:00+00:00",
          "2025-01-21T00:00:00+00:00",
          "2025-01-22T00:00:00+00:00",
          "2025-01-22T00:00:00+00:00",
          "2025-01-23T00:00:00+00:00",
          "2025-01-23T00:00:00+00:00",
          "2025-01-24T00:00:00+00:00",
          "2025-01-24T00:00:00+00:00",
          "2025-01-25T00:00:00+00:00",
          "2025-01-25T00:00:00+00:00",
          "2025-01-26T00:00:00+00:00",
          "2025-01-26T00:00:00+00:00",
          "2025-01-27T00:00:00+00:00",
          "2025-01-27T00:00:00+00:00",
          "2025-01-28T00:00:00+00:00",
          "2025-01-28T00:00:00+00:00",
          "2025-01-29T00:00:00+00:00",
          "2025-01-29T00:00:00+00:00",
          "2025-01-30T00:00:00+00:00",
          "2025-01-30T00:00:00+00:00",
          "2025-01-31T00:00:00+00:00",
          "2025-01-31T00:00:00+00:00",
          "2025-02-01T00:00:00+00:00",
          "2025-02-01T00:00:00+00:00",
          "2025-02-02T00:00:00+00:00",
          "2025-02-02T00:00:00+00:00",
          "2025-02-03T00:00:00+00:00",
          "2025-02-03T00:00:00+00:00",
          "2025-02-04T00:00:00+00:00",
          "2025-02-04T00:00:00+00:00",
          "2025-02-05T00:00:00+00:00",
          "2025-02-05T00:00:00+00:00",
          "2025-02-06T00:00:00+00:00",
          "2025-02-06T00:00:00+00:00",
          "2025-02-07T00:00:00+00:00",
          "2025-02-07T00:00:00+00:00",
          "2025-02-08T00:00:00+00:00",
          "2025-02-08T00:00:00+00:00",
          "2025-02-09T00:00:00+00:00",
          "2025-02-09T00:00:00+00:00",
          "2025-02-10T00:00:00+00:00",
          "2025-02-10T00:00:00+00:00",
          "2025-02-11T00:00:00+00:00",
          "2025-02-11T00:00:00+00:00",
          "2025-02-12T00:00:00+00:00",
          "2025-02-12T00:00:00+00:00",
          "2025-02-13T00:00:00+00:00",
          "2025-02-13T00:00:00+00:00",
          "2025-02-14T00:00:00+00:00",
          "2025-02-14T00:00:00+00:00",
          "2025-02-15T00:00:00+00:00",
          "2025-02-15T00:00:00+00:00",
          "2025-02-16T00:00:00+00:00",
          "2025-02-16T00:00:00+00:00",
          "2025-02-17T00:00:00+00:00",
          "2025-02-17T00:00:00+00:00",
          "2025-02-18T00:00:00+00:00",
          "2025-02-18T00:00:00+00:00",
          "2025-02-19T00:00:00+00:00",
          "2025-02-19T00:00:00+00:00",
          "2025-02-20T00:00:00+00:00",
          "2025-02-20T00:00:00+00:00",
          "2025-02-21T00:00:00+00:00",
          "2025-02-21T00:00:00+00:00",
          "2025-02-22T00:00:00+00:00",
          "2025-02-22T00:00:00+00:00",
          "2025-02-23T00:00:00+00:00",
          "2025-02-23T00:00:00+00:00",
          "2025-02-24T00:00:00+00:00",
          "2025-02-24T00:00:00+00:00",
          "2025-02-25T00:00:00+00:00",
          "2025-02-25T00:00:00+00:00",
          "2025-02-26T00:00:00+00:00",
          "2025-02-26T00:00:00+00:00",
          "2025-02-27T00:00:00+00:00",
          "2025-02-27T00:00:00+00:00",
          "2025-02-28T00:00:00+00:00",
          "2025-02-28T00:00:00+00:00",
          "2025-03-01T00:00:00+00:00",
          "2025-03-01T00:00:00+00:00",
          "2025-03-02T00:00:00+00:00",
          "2025-03-02T00:00:00+00:00",
          "2025-03-03T00:00:00+00:00",
          "2025-03-03T00:00:00+00:00",
          "2025-03-04T00:00:00+00:00",
          "2025-03-04T00:00:00+00:00",
          "2025-03-05T00:00:00+00:00",
          "2025-03-05T00:00:00+00:00",
          "2025-03-06T00:00:00+00:00",
          "2025-03-06T00:00:00+00:00",
          "2025-03-07T00:00:00+00:00",
          "2025-03-07T00:00:00+00:00",
          "2025-03-08T00:00:00+00:00",
          "2025-03-08T00:00:00+00:00",
          "2025-03-09T00:00:00+00:00",
          "2025-03-09T00:00:00+00:00",
          "2025-03-10T00:00:00+00:00",
          "2025-03-10T00:00:00+00:00",
          "2025-03-11T00:00:00+00:00",
          "2025-03-11T00:00:00+00:00",
          "2025-03-12T00:00:00+00:00",
          "2025-03-12T00:00:00+00:00",
          "2025-03-13T00:00:00+00:00",
          "2025-03-13T00:00:00+00:00",
          "2025-03-14T00:00:00+00:00",
          "2025-03-14T00:00:00+00:00",
          "2025-03-15T00:00:00+00:00",
          "2025-03-15T00:00:00+00:00",
          "2025-03-16T00:00:00+00:00",
          "2025-03-16T00:00:00+00:00",
          "2025-03-17T00:00:00+00:00",
          "2025-03-17T00:00:00+00:00",
          "2025-03-18T00:00:00+00:00",
          "2025-03-18T00:00:00+00:00",
          "2025-03-19T00:00:00+00:00",
          "2025-03-19T00:00:00+00:00",
          "2025-03-20T00:00:00+00:00",
          "2025-03-20T00:00:00+00:00",
          "2025-03-21T00:00:00+00:00",
          "2025-03-21T00:00:00+00:00",
          "2025-03-22T00:00:00+00:00",
          "2025-03-22T00:00:00+00:00",
          "2025-03-23T00:00:00+00:00",
          "2025-03-23T00:00:00+00:00",
          "2025-03-24T00:00:00+00:00",
          "2025-03-24T00:00:00+00:00",
          "2025-03-25T00:00:00+00:00",
          "2025-03-25T00:00:00+00:00",
          "2025-03-26T00:00:00+00:00",
          "2025-03-26T00:00:00+00:00",
          "2025-03-27T00:00:00+00:00",
          "2025-03-27T00:00:00+00:00",
          "2025-03-28T00:00:00+00:00",
          "2025-03-28T00:00:00+00:00",
          "2025-03-29T00:00:00+00:00",
          "2025-03-29T00:00:00+00:00",
          "2025-03-30T00:00:00+00:00",
          "2025-03-30T00:00:00+00:00",
          "2025-03-31T00:00:00+00:00",
          "2025-03-31T00:00:00+00:00",
          "2025-04-01T00:00:00+00:00",
          "2025-04-01T00:00:00+00:00",
          "2025-04-02T00:00:00+00:00",
          "2025-04-02T00:00:00+00:00",
          "2025-04-03T00:00:00+00:00",
          "2025-04-03T00:00:00+00:00",
          "2025-04-04T00:00:00+00:00",
          "2025-04-04T00:00:00+00:00",
          "2025-04-05T00:00:00+00:00",
          "2025-04-05T00:00:00+00:00",
          "2025-04-06T00:00:00+00:00",
          "2025-04-06T00:00:00+00:00",
          "2025-04-07T00:00:00+00:00",
          "2025-04-07T00:00:00+00:00"
         ],
         "y": {
          "bdata": "AAAAAAAAAAAAAAAAAAAAAAAAAAAAAAAAAAAAAAAAAAAAAAAAAADgPwAAAAAAAAAAmpmZmZkZMEBmZmZmZmYiQGZmZmZm5j1AmpmZmZmZN0BmZmZmZuY5QDMzMzMzszpAZmZmZmZmJEAAAAAAAAA3QGZmZmZm5jZAmpmZmZmZyT8zMzMzM7MyQDMzMzMzc0FAAAAAAACAM0DNzMzMzMwrQGZmZmZm5j9AmpmZmZmZP0AzMzMzMzMPQDMzMzMzMyxAzczMzMzM9D/NzMzMzMwMQAAAAAAAAAAAAAAAAAAAAACamZmZmZm5PwAAAAAAAAAAMzMzMzMzA0DNzMzMzMzsPzMzMzMzM+M/mpmZmZmZAUAAAAAAAAAAAAAAAAAAAAAAzczMzMzM9D8AAAAAAAAAAAAAAAAAAOA/zczMzMzM/D+amZmZmZm5PwAAAAAAAAAAMzMzMzMzEUAAAAAAAAAQQAAAAAAAAAAAmpmZmZmZ2T9mZmZmZmYaQGZmZmZmZv4/ZmZmZmZmGEDNzMzMzMwiQAAAAAAAAAAAZmZmZmZm9j8AAAAAAAAAAAAAAAAAAAAAAAAAAAAA8D8AAAAAAAAAAAAAAAAAAAxAZmZmZmZmAkAAAAAAAAArQDMzMzMzMxdAMzMzMzMzIEBmZmZmZmYrQAAAAAAAAOA/MzMzMzMzE0AzMzMzMzP7PwAAAAAAAAAAzczMzMzMEkDNzMzMzMwSQM3MzMzMzC5AMzMzMzMzF0CamZmZmZkZQJqZmZmZmSpAmpmZmZmZyT9mZmZmZmYSQDMzMzMzMxdAzczMzMzM9D9mZmZmZmYYQM3MzMzMzBJAAAAAAAAAAEAzMzMzMzMbQGZmZmZmZgpAMzMzMzMzA0BmZmZmZmbmP83MzMzMzABAzczMzMzMLEAAAAAAAAAcQJqZmZmZGTRAzczMzMzMKkDNzMzMzMzsP2ZmZmZmZi1AAAAAAAAA8D+amZmZmZn5PzMzMzMzM+M/MzMzMzMz0z+amZmZmZnZPwAAAAAAAPA/AAAAAAAAAAAAAAAAAAAAAAAAAAAAAAAAAAAAAAAAAAAzMzMzMzPjP5qZmZmZmdk/mpmZmZmZyT+amZmZmZnZPwAAAAAAAPg/mpmZmZmZyT+amZmZmZm5P5qZmZmZmfk/zczMzMzMIkCamZmZmZnZPwAAAAAAAClAzczMzMzMJ0AzMzMzMzPTP83MzMzMzCNAZmZmZmZm5j9mZmZmZmbmP2ZmZmZmZgpAmpmZmZmZCUCamZmZmZkNQAAAAAAAAABAzczMzMzMGkCamZmZmZkXQJqZmZmZmSNAMzMzMzMzEUCamZmZmZn5P2ZmZmZmZiNAAAAAAAAAAAAAAAAAAAAAAAAAAAAAACNAAAAAAAAAAAAzMzMzMzMhQM3MzMzMzCVAmpmZmZmZLECamZmZmZknQM3MzMzMzCpAMzMzMzMzNUAAAAAAAAAmQJqZmZmZmSBAAAAAAAAANkBmZmZmZmYrQGZmZmZmZiVAMzMzMzOzMUBmZmZmZmYhQAAAAAAAACRAMzMzMzMzC0AAAAAAAAAcQDMzMzMzM9M/zczMzMzM9D8zMzMzMzP7PwAAAAAAAAAAAAAAAAAAAAAzMzMzMzP7P5qZmZmZGTNAZmZmZmZmEkAAAAAAAAAqQAAAAAAAADRAmpmZmZmZIEAzMzMzMzMjQDMzMzMzMwNAMzMzMzMzIEBmZmZmZmYnQGZmZmZmZiBAAAAAAAAAAAAAAAAAAAAQQGZmZmZmZuY/ZmZmZmZm5j8zMzMzMzMDQM3MzMzMzOw/MzMzMzMzI0BmZmZmZmYhQDMzMzMzMxlAZmZmZmZmFkAzMzMzMzP7PwAAAAAAABJAMzMzMzMzF0DNzMzMzMwQQJqZmZmZmRFAZmZmZmZmFkCamZmZmZm5P2ZmZmZmZuY/",
          "dtype": "f8"
         }
        },
        {
         "line": {
          "color": "rgba(31, 119, 180, 0.8)",
          "dash": "dash"
         },
         "mode": "lines",
         "name": "Gjennomsnittsnedbør i tromsø",
         "type": "scatter",
         "x": [
          "2025-01-08T00:00:00+00:00",
          "2025-01-08T00:00:00+00:00",
          "2025-01-09T00:00:00+00:00",
          "2025-01-09T00:00:00+00:00",
          "2025-01-10T00:00:00+00:00",
          "2025-01-10T00:00:00+00:00",
          "2025-01-11T00:00:00+00:00",
          "2025-01-11T00:00:00+00:00",
          "2025-01-12T00:00:00+00:00",
          "2025-01-12T00:00:00+00:00",
          "2025-01-13T00:00:00+00:00",
          "2025-01-13T00:00:00+00:00",
          "2025-01-14T00:00:00+00:00",
          "2025-01-14T00:00:00+00:00",
          "2025-01-15T00:00:00+00:00",
          "2025-01-15T00:00:00+00:00",
          "2025-01-16T00:00:00+00:00",
          "2025-01-16T00:00:00+00:00",
          "2025-01-17T00:00:00+00:00",
          "2025-01-17T00:00:00+00:00",
          "2025-01-18T00:00:00+00:00",
          "2025-01-18T00:00:00+00:00",
          "2025-01-19T00:00:00+00:00",
          "2025-01-19T00:00:00+00:00",
          "2025-01-20T00:00:00+00:00",
          "2025-01-20T00:00:00+00:00",
          "2025-01-21T00:00:00+00:00",
          "2025-01-21T00:00:00+00:00",
          "2025-01-22T00:00:00+00:00",
          "2025-01-22T00:00:00+00:00",
          "2025-01-23T00:00:00+00:00",
          "2025-01-23T00:00:00+00:00",
          "2025-01-24T00:00:00+00:00",
          "2025-01-24T00:00:00+00:00",
          "2025-01-25T00:00:00+00:00",
          "2025-01-25T00:00:00+00:00",
          "2025-01-26T00:00:00+00:00",
          "2025-01-26T00:00:00+00:00",
          "2025-01-27T00:00:00+00:00",
          "2025-01-27T00:00:00+00:00",
          "2025-01-28T00:00:00+00:00",
          "2025-01-28T00:00:00+00:00",
          "2025-01-29T00:00:00+00:00",
          "2025-01-29T00:00:00+00:00",
          "2025-01-30T00:00:00+00:00",
          "2025-01-30T00:00:00+00:00",
          "2025-01-31T00:00:00+00:00",
          "2025-01-31T00:00:00+00:00",
          "2025-02-01T00:00:00+00:00",
          "2025-02-01T00:00:00+00:00",
          "2025-02-02T00:00:00+00:00",
          "2025-02-02T00:00:00+00:00",
          "2025-02-03T00:00:00+00:00",
          "2025-02-03T00:00:00+00:00",
          "2025-02-04T00:00:00+00:00",
          "2025-02-04T00:00:00+00:00",
          "2025-02-05T00:00:00+00:00",
          "2025-02-05T00:00:00+00:00",
          "2025-02-06T00:00:00+00:00",
          "2025-02-06T00:00:00+00:00",
          "2025-02-07T00:00:00+00:00",
          "2025-02-07T00:00:00+00:00",
          "2025-02-08T00:00:00+00:00",
          "2025-02-08T00:00:00+00:00",
          "2025-02-09T00:00:00+00:00",
          "2025-02-09T00:00:00+00:00",
          "2025-02-10T00:00:00+00:00",
          "2025-02-10T00:00:00+00:00",
          "2025-02-11T00:00:00+00:00",
          "2025-02-11T00:00:00+00:00",
          "2025-02-12T00:00:00+00:00",
          "2025-02-12T00:00:00+00:00",
          "2025-02-13T00:00:00+00:00",
          "2025-02-13T00:00:00+00:00",
          "2025-02-14T00:00:00+00:00",
          "2025-02-14T00:00:00+00:00",
          "2025-02-15T00:00:00+00:00",
          "2025-02-15T00:00:00+00:00",
          "2025-02-16T00:00:00+00:00",
          "2025-02-16T00:00:00+00:00",
          "2025-02-17T00:00:00+00:00",
          "2025-02-17T00:00:00+00:00",
          "2025-02-18T00:00:00+00:00",
          "2025-02-18T00:00:00+00:00",
          "2025-02-19T00:00:00+00:00",
          "2025-02-19T00:00:00+00:00",
          "2025-02-20T00:00:00+00:00",
          "2025-02-20T00:00:00+00:00",
          "2025-02-21T00:00:00+00:00",
          "2025-02-21T00:00:00+00:00",
          "2025-02-22T00:00:00+00:00",
          "2025-02-22T00:00:00+00:00",
          "2025-02-23T00:00:00+00:00",
          "2025-02-23T00:00:00+00:00",
          "2025-02-24T00:00:00+00:00",
          "2025-02-24T00:00:00+00:00",
          "2025-02-25T00:00:00+00:00",
          "2025-02-25T00:00:00+00:00",
          "2025-02-26T00:00:00+00:00",
          "2025-02-26T00:00:00+00:00",
          "2025-02-27T00:00:00+00:00",
          "2025-02-27T00:00:00+00:00",
          "2025-02-28T00:00:00+00:00",
          "2025-02-28T00:00:00+00:00",
          "2025-03-01T00:00:00+00:00",
          "2025-03-01T00:00:00+00:00",
          "2025-03-02T00:00:00+00:00",
          "2025-03-02T00:00:00+00:00",
          "2025-03-03T00:00:00+00:00",
          "2025-03-03T00:00:00+00:00",
          "2025-03-04T00:00:00+00:00",
          "2025-03-04T00:00:00+00:00",
          "2025-03-05T00:00:00+00:00",
          "2025-03-05T00:00:00+00:00",
          "2025-03-06T00:00:00+00:00",
          "2025-03-06T00:00:00+00:00",
          "2025-03-07T00:00:00+00:00",
          "2025-03-07T00:00:00+00:00",
          "2025-03-08T00:00:00+00:00",
          "2025-03-08T00:00:00+00:00",
          "2025-03-09T00:00:00+00:00",
          "2025-03-09T00:00:00+00:00",
          "2025-03-10T00:00:00+00:00",
          "2025-03-10T00:00:00+00:00",
          "2025-03-11T00:00:00+00:00",
          "2025-03-11T00:00:00+00:00",
          "2025-03-12T00:00:00+00:00",
          "2025-03-12T00:00:00+00:00",
          "2025-03-13T00:00:00+00:00",
          "2025-03-13T00:00:00+00:00",
          "2025-03-14T00:00:00+00:00",
          "2025-03-14T00:00:00+00:00",
          "2025-03-15T00:00:00+00:00",
          "2025-03-15T00:00:00+00:00",
          "2025-03-16T00:00:00+00:00",
          "2025-03-16T00:00:00+00:00",
          "2025-03-17T00:00:00+00:00",
          "2025-03-17T00:00:00+00:00",
          "2025-03-18T00:00:00+00:00",
          "2025-03-18T00:00:00+00:00",
          "2025-03-19T00:00:00+00:00",
          "2025-03-19T00:00:00+00:00",
          "2025-03-20T00:00:00+00:00",
          "2025-03-20T00:00:00+00:00",
          "2025-03-21T00:00:00+00:00",
          "2025-03-21T00:00:00+00:00",
          "2025-03-22T00:00:00+00:00",
          "2025-03-22T00:00:00+00:00",
          "2025-03-23T00:00:00+00:00",
          "2025-03-23T00:00:00+00:00",
          "2025-03-24T00:00:00+00:00",
          "2025-03-24T00:00:00+00:00",
          "2025-03-25T00:00:00+00:00",
          "2025-03-25T00:00:00+00:00",
          "2025-03-26T00:00:00+00:00",
          "2025-03-26T00:00:00+00:00",
          "2025-03-27T00:00:00+00:00",
          "2025-03-27T00:00:00+00:00",
          "2025-03-28T00:00:00+00:00",
          "2025-03-28T00:00:00+00:00",
          "2025-03-29T00:00:00+00:00",
          "2025-03-29T00:00:00+00:00",
          "2025-03-30T00:00:00+00:00",
          "2025-03-30T00:00:00+00:00",
          "2025-03-31T00:00:00+00:00",
          "2025-03-31T00:00:00+00:00",
          "2025-04-01T00:00:00+00:00",
          "2025-04-01T00:00:00+00:00",
          "2025-04-02T00:00:00+00:00",
          "2025-04-02T00:00:00+00:00",
          "2025-04-03T00:00:00+00:00",
          "2025-04-03T00:00:00+00:00",
          "2025-04-04T00:00:00+00:00",
          "2025-04-04T00:00:00+00:00",
          "2025-04-05T00:00:00+00:00",
          "2025-04-05T00:00:00+00:00",
          "2025-04-06T00:00:00+00:00",
          "2025-04-06T00:00:00+00:00",
          "2025-04-07T00:00:00+00:00",
          "2025-04-07T00:00:00+00:00"
         ],
         "y": [
          6.140555555555556,
          6.140555555555556,
          6.140555555555556,
          6.140555555555556,
          6.140555555555556,
          6.140555555555556,
          6.140555555555556,
          6.140555555555556,
          6.140555555555556,
          6.140555555555556,
          6.140555555555556,
          6.140555555555556,
          6.140555555555556,
          6.140555555555556,
          6.140555555555556,
          6.140555555555556,
          6.140555555555556,
          6.140555555555556,
          6.140555555555556,
          6.140555555555556,
          6.140555555555556,
          6.140555555555556,
          6.140555555555556,
          6.140555555555556,
          6.140555555555556,
          6.140555555555556,
          6.140555555555556,
          6.140555555555556,
          6.140555555555556,
          6.140555555555556,
          6.140555555555556,
          6.140555555555556,
          6.140555555555556,
          6.140555555555556,
          6.140555555555556,
          6.140555555555556,
          6.140555555555556,
          6.140555555555556,
          6.140555555555556,
          6.140555555555556,
          6.140555555555556,
          6.140555555555556,
          6.140555555555556,
          6.140555555555556,
          6.140555555555556,
          6.140555555555556,
          6.140555555555556,
          6.140555555555556,
          6.140555555555556,
          6.140555555555556,
          6.140555555555556,
          6.140555555555556,
          6.140555555555556,
          6.140555555555556,
          6.140555555555556,
          6.140555555555556,
          6.140555555555556,
          6.140555555555556,
          6.140555555555556,
          6.140555555555556,
          6.140555555555556,
          6.140555555555556,
          6.140555555555556,
          6.140555555555556,
          6.140555555555556,
          6.140555555555556,
          6.140555555555556,
          6.140555555555556,
          6.140555555555556,
          6.140555555555556,
          6.140555555555556,
          6.140555555555556,
          6.140555555555556,
          6.140555555555556,
          6.140555555555556,
          6.140555555555556,
          6.140555555555556,
          6.140555555555556,
          6.140555555555556,
          6.140555555555556,
          6.140555555555556,
          6.140555555555556,
          6.140555555555556,
          6.140555555555556,
          6.140555555555556,
          6.140555555555556,
          6.140555555555556,
          6.140555555555556,
          6.140555555555556,
          6.140555555555556,
          6.140555555555556,
          6.140555555555556,
          6.140555555555556,
          6.140555555555556,
          6.140555555555556,
          6.140555555555556,
          6.140555555555556,
          6.140555555555556,
          6.140555555555556,
          6.140555555555556,
          6.140555555555556,
          6.140555555555556,
          6.140555555555556,
          6.140555555555556,
          6.140555555555556,
          6.140555555555556,
          6.140555555555556,
          6.140555555555556,
          6.140555555555556,
          6.140555555555556,
          6.140555555555556,
          6.140555555555556,
          6.140555555555556,
          6.140555555555556,
          6.140555555555556,
          6.140555555555556,
          6.140555555555556,
          6.140555555555556,
          6.140555555555556,
          6.140555555555556,
          6.140555555555556,
          6.140555555555556,
          6.140555555555556,
          6.140555555555556,
          6.140555555555556,
          6.140555555555556,
          6.140555555555556,
          6.140555555555556,
          6.140555555555556,
          6.140555555555556,
          6.140555555555556,
          6.140555555555556,
          6.140555555555556,
          6.140555555555556,
          6.140555555555556,
          6.140555555555556,
          6.140555555555556,
          6.140555555555556,
          6.140555555555556,
          6.140555555555556,
          6.140555555555556,
          6.140555555555556,
          6.140555555555556,
          6.140555555555556,
          6.140555555555556,
          6.140555555555556,
          6.140555555555556,
          6.140555555555556,
          6.140555555555556,
          6.140555555555556,
          6.140555555555556,
          6.140555555555556,
          6.140555555555556,
          6.140555555555556,
          6.140555555555556,
          6.140555555555556,
          6.140555555555556,
          6.140555555555556,
          6.140555555555556,
          6.140555555555556,
          6.140555555555556,
          6.140555555555556,
          6.140555555555556,
          6.140555555555556,
          6.140555555555556,
          6.140555555555556,
          6.140555555555556,
          6.140555555555556,
          6.140555555555556,
          6.140555555555556,
          6.140555555555556,
          6.140555555555556,
          6.140555555555556,
          6.140555555555556,
          6.140555555555556,
          6.140555555555556,
          6.140555555555556,
          6.140555555555556,
          6.140555555555556,
          6.140555555555556
         ]
        }
       ],
       "layout": {
        "legend": {
         "title": {
          "text": "Nedbør"
         }
        },
        "template": {
         "data": {
          "bar": [
           {
            "error_x": {
             "color": "#2a3f5f"
            },
            "error_y": {
             "color": "#2a3f5f"
            },
            "marker": {
             "line": {
              "color": "#E5ECF6",
              "width": 0.5
             },
             "pattern": {
              "fillmode": "overlay",
              "size": 10,
              "solidity": 0.2
             }
            },
            "type": "bar"
           }
          ],
          "barpolar": [
           {
            "marker": {
             "line": {
              "color": "#E5ECF6",
              "width": 0.5
             },
             "pattern": {
              "fillmode": "overlay",
              "size": 10,
              "solidity": 0.2
             }
            },
            "type": "barpolar"
           }
          ],
          "carpet": [
           {
            "aaxis": {
             "endlinecolor": "#2a3f5f",
             "gridcolor": "white",
             "linecolor": "white",
             "minorgridcolor": "white",
             "startlinecolor": "#2a3f5f"
            },
            "baxis": {
             "endlinecolor": "#2a3f5f",
             "gridcolor": "white",
             "linecolor": "white",
             "minorgridcolor": "white",
             "startlinecolor": "#2a3f5f"
            },
            "type": "carpet"
           }
          ],
          "choropleth": [
           {
            "colorbar": {
             "outlinewidth": 0,
             "ticks": ""
            },
            "type": "choropleth"
           }
          ],
          "contour": [
           {
            "colorbar": {
             "outlinewidth": 0,
             "ticks": ""
            },
            "colorscale": [
             [
              0,
              "#0d0887"
             ],
             [
              0.1111111111111111,
              "#46039f"
             ],
             [
              0.2222222222222222,
              "#7201a8"
             ],
             [
              0.3333333333333333,
              "#9c179e"
             ],
             [
              0.4444444444444444,
              "#bd3786"
             ],
             [
              0.5555555555555556,
              "#d8576b"
             ],
             [
              0.6666666666666666,
              "#ed7953"
             ],
             [
              0.7777777777777778,
              "#fb9f3a"
             ],
             [
              0.8888888888888888,
              "#fdca26"
             ],
             [
              1,
              "#f0f921"
             ]
            ],
            "type": "contour"
           }
          ],
          "contourcarpet": [
           {
            "colorbar": {
             "outlinewidth": 0,
             "ticks": ""
            },
            "type": "contourcarpet"
           }
          ],
          "heatmap": [
           {
            "colorbar": {
             "outlinewidth": 0,
             "ticks": ""
            },
            "colorscale": [
             [
              0,
              "#0d0887"
             ],
             [
              0.1111111111111111,
              "#46039f"
             ],
             [
              0.2222222222222222,
              "#7201a8"
             ],
             [
              0.3333333333333333,
              "#9c179e"
             ],
             [
              0.4444444444444444,
              "#bd3786"
             ],
             [
              0.5555555555555556,
              "#d8576b"
             ],
             [
              0.6666666666666666,
              "#ed7953"
             ],
             [
              0.7777777777777778,
              "#fb9f3a"
             ],
             [
              0.8888888888888888,
              "#fdca26"
             ],
             [
              1,
              "#f0f921"
             ]
            ],
            "type": "heatmap"
           }
          ],
          "histogram": [
           {
            "marker": {
             "pattern": {
              "fillmode": "overlay",
              "size": 10,
              "solidity": 0.2
             }
            },
            "type": "histogram"
           }
          ],
          "histogram2d": [
           {
            "colorbar": {
             "outlinewidth": 0,
             "ticks": ""
            },
            "colorscale": [
             [
              0,
              "#0d0887"
             ],
             [
              0.1111111111111111,
              "#46039f"
             ],
             [
              0.2222222222222222,
              "#7201a8"
             ],
             [
              0.3333333333333333,
              "#9c179e"
             ],
             [
              0.4444444444444444,
              "#bd3786"
             ],
             [
              0.5555555555555556,
              "#d8576b"
             ],
             [
              0.6666666666666666,
              "#ed7953"
             ],
             [
              0.7777777777777778,
              "#fb9f3a"
             ],
             [
              0.8888888888888888,
              "#fdca26"
             ],
             [
              1,
              "#f0f921"
             ]
            ],
            "type": "histogram2d"
           }
          ],
          "histogram2dcontour": [
           {
            "colorbar": {
             "outlinewidth": 0,
             "ticks": ""
            },
            "colorscale": [
             [
              0,
              "#0d0887"
             ],
             [
              0.1111111111111111,
              "#46039f"
             ],
             [
              0.2222222222222222,
              "#7201a8"
             ],
             [
              0.3333333333333333,
              "#9c179e"
             ],
             [
              0.4444444444444444,
              "#bd3786"
             ],
             [
              0.5555555555555556,
              "#d8576b"
             ],
             [
              0.6666666666666666,
              "#ed7953"
             ],
             [
              0.7777777777777778,
              "#fb9f3a"
             ],
             [
              0.8888888888888888,
              "#fdca26"
             ],
             [
              1,
              "#f0f921"
             ]
            ],
            "type": "histogram2dcontour"
           }
          ],
          "mesh3d": [
           {
            "colorbar": {
             "outlinewidth": 0,
             "ticks": ""
            },
            "type": "mesh3d"
           }
          ],
          "parcoords": [
           {
            "line": {
             "colorbar": {
              "outlinewidth": 0,
              "ticks": ""
             }
            },
            "type": "parcoords"
           }
          ],
          "pie": [
           {
            "automargin": true,
            "type": "pie"
           }
          ],
          "scatter": [
           {
            "fillpattern": {
             "fillmode": "overlay",
             "size": 10,
             "solidity": 0.2
            },
            "type": "scatter"
           }
          ],
          "scatter3d": [
           {
            "line": {
             "colorbar": {
              "outlinewidth": 0,
              "ticks": ""
             }
            },
            "marker": {
             "colorbar": {
              "outlinewidth": 0,
              "ticks": ""
             }
            },
            "type": "scatter3d"
           }
          ],
          "scattercarpet": [
           {
            "marker": {
             "colorbar": {
              "outlinewidth": 0,
              "ticks": ""
             }
            },
            "type": "scattercarpet"
           }
          ],
          "scattergeo": [
           {
            "marker": {
             "colorbar": {
              "outlinewidth": 0,
              "ticks": ""
             }
            },
            "type": "scattergeo"
           }
          ],
          "scattergl": [
           {
            "marker": {
             "colorbar": {
              "outlinewidth": 0,
              "ticks": ""
             }
            },
            "type": "scattergl"
           }
          ],
          "scattermap": [
           {
            "marker": {
             "colorbar": {
              "outlinewidth": 0,
              "ticks": ""
             }
            },
            "type": "scattermap"
           }
          ],
          "scattermapbox": [
           {
            "marker": {
             "colorbar": {
              "outlinewidth": 0,
              "ticks": ""
             }
            },
            "type": "scattermapbox"
           }
          ],
          "scatterpolar": [
           {
            "marker": {
             "colorbar": {
              "outlinewidth": 0,
              "ticks": ""
             }
            },
            "type": "scatterpolar"
           }
          ],
          "scatterpolargl": [
           {
            "marker": {
             "colorbar": {
              "outlinewidth": 0,
              "ticks": ""
             }
            },
            "type": "scatterpolargl"
           }
          ],
          "scatterternary": [
           {
            "marker": {
             "colorbar": {
              "outlinewidth": 0,
              "ticks": ""
             }
            },
            "type": "scatterternary"
           }
          ],
          "surface": [
           {
            "colorbar": {
             "outlinewidth": 0,
             "ticks": ""
            },
            "colorscale": [
             [
              0,
              "#0d0887"
             ],
             [
              0.1111111111111111,
              "#46039f"
             ],
             [
              0.2222222222222222,
              "#7201a8"
             ],
             [
              0.3333333333333333,
              "#9c179e"
             ],
             [
              0.4444444444444444,
              "#bd3786"
             ],
             [
              0.5555555555555556,
              "#d8576b"
             ],
             [
              0.6666666666666666,
              "#ed7953"
             ],
             [
              0.7777777777777778,
              "#fb9f3a"
             ],
             [
              0.8888888888888888,
              "#fdca26"
             ],
             [
              1,
              "#f0f921"
             ]
            ],
            "type": "surface"
           }
          ],
          "table": [
           {
            "cells": {
             "fill": {
              "color": "#EBF0F8"
             },
             "line": {
              "color": "white"
             }
            },
            "header": {
             "fill": {
              "color": "#C8D4E3"
             },
             "line": {
              "color": "white"
             }
            },
            "type": "table"
           }
          ]
         },
         "layout": {
          "annotationdefaults": {
           "arrowcolor": "#2a3f5f",
           "arrowhead": 0,
           "arrowwidth": 1
          },
          "autotypenumbers": "strict",
          "coloraxis": {
           "colorbar": {
            "outlinewidth": 0,
            "ticks": ""
           }
          },
          "colorscale": {
           "diverging": [
            [
             0,
             "#8e0152"
            ],
            [
             0.1,
             "#c51b7d"
            ],
            [
             0.2,
             "#de77ae"
            ],
            [
             0.3,
             "#f1b6da"
            ],
            [
             0.4,
             "#fde0ef"
            ],
            [
             0.5,
             "#f7f7f7"
            ],
            [
             0.6,
             "#e6f5d0"
            ],
            [
             0.7,
             "#b8e186"
            ],
            [
             0.8,
             "#7fbc41"
            ],
            [
             0.9,
             "#4d9221"
            ],
            [
             1,
             "#276419"
            ]
           ],
           "sequential": [
            [
             0,
             "#0d0887"
            ],
            [
             0.1111111111111111,
             "#46039f"
            ],
            [
             0.2222222222222222,
             "#7201a8"
            ],
            [
             0.3333333333333333,
             "#9c179e"
            ],
            [
             0.4444444444444444,
             "#bd3786"
            ],
            [
             0.5555555555555556,
             "#d8576b"
            ],
            [
             0.6666666666666666,
             "#ed7953"
            ],
            [
             0.7777777777777778,
             "#fb9f3a"
            ],
            [
             0.8888888888888888,
             "#fdca26"
            ],
            [
             1,
             "#f0f921"
            ]
           ],
           "sequentialminus": [
            [
             0,
             "#0d0887"
            ],
            [
             0.1111111111111111,
             "#46039f"
            ],
            [
             0.2222222222222222,
             "#7201a8"
            ],
            [
             0.3333333333333333,
             "#9c179e"
            ],
            [
             0.4444444444444444,
             "#bd3786"
            ],
            [
             0.5555555555555556,
             "#d8576b"
            ],
            [
             0.6666666666666666,
             "#ed7953"
            ],
            [
             0.7777777777777778,
             "#fb9f3a"
            ],
            [
             0.8888888888888888,
             "#fdca26"
            ],
            [
             1,
             "#f0f921"
            ]
           ]
          },
          "colorway": [
           "#636efa",
           "#EF553B",
           "#00cc96",
           "#ab63fa",
           "#FFA15A",
           "#19d3f3",
           "#FF6692",
           "#B6E880",
           "#FF97FF",
           "#FECB52"
          ],
          "font": {
           "color": "#2a3f5f"
          },
          "geo": {
           "bgcolor": "white",
           "lakecolor": "white",
           "landcolor": "#E5ECF6",
           "showlakes": true,
           "showland": true,
           "subunitcolor": "white"
          },
          "hoverlabel": {
           "align": "left"
          },
          "hovermode": "closest",
          "mapbox": {
           "style": "light"
          },
          "paper_bgcolor": "white",
          "plot_bgcolor": "#E5ECF6",
          "polar": {
           "angularaxis": {
            "gridcolor": "white",
            "linecolor": "white",
            "ticks": ""
           },
           "bgcolor": "#E5ECF6",
           "radialaxis": {
            "gridcolor": "white",
            "linecolor": "white",
            "ticks": ""
           }
          },
          "scene": {
           "xaxis": {
            "backgroundcolor": "#E5ECF6",
            "gridcolor": "white",
            "gridwidth": 2,
            "linecolor": "white",
            "showbackground": true,
            "ticks": "",
            "zerolinecolor": "white"
           },
           "yaxis": {
            "backgroundcolor": "#E5ECF6",
            "gridcolor": "white",
            "gridwidth": 2,
            "linecolor": "white",
            "showbackground": true,
            "ticks": "",
            "zerolinecolor": "white"
           },
           "zaxis": {
            "backgroundcolor": "#E5ECF6",
            "gridcolor": "white",
            "gridwidth": 2,
            "linecolor": "white",
            "showbackground": true,
            "ticks": "",
            "zerolinecolor": "white"
           }
          },
          "shapedefaults": {
           "line": {
            "color": "#2a3f5f"
           }
          },
          "ternary": {
           "aaxis": {
            "gridcolor": "white",
            "linecolor": "white",
            "ticks": ""
           },
           "baxis": {
            "gridcolor": "white",
            "linecolor": "white",
            "ticks": ""
           },
           "bgcolor": "#E5ECF6",
           "caxis": {
            "gridcolor": "white",
            "linecolor": "white",
            "ticks": ""
           }
          },
          "title": {
           "x": 0.05
          },
          "xaxis": {
           "automargin": true,
           "gridcolor": "white",
           "linecolor": "white",
           "ticks": "",
           "title": {
            "standoff": 15
           },
           "zerolinecolor": "white",
           "zerolinewidth": 2
          },
          "yaxis": {
           "automargin": true,
           "gridcolor": "white",
           "linecolor": "white",
           "ticks": "",
           "title": {
            "standoff": 15
           },
           "zerolinecolor": "white",
           "zerolinewidth": 2
          }
         }
        },
        "title": {
         "text": "Nedbør over tid i tromsø"
        },
        "xaxis": {
         "title": {
          "text": "Dato"
         }
        },
        "yaxis": {
         "title": {
          "text": "Nedbør (mm)"
         }
        }
       }
      }
     },
     "metadata": {},
     "output_type": "display_data"
    },
    {
     "name": "stdout",
     "output_type": "stream",
     "text": [
      "\n",
      "Nedbør:\n",
      "Median: 3.45, Standardavvik: 7.42\n"
     ]
    },
    {
     "data": {
      "application/vnd.plotly.v1+json": {
       "config": {
        "plotlyServerURL": "https://plot.ly"
       },
       "data": [
        {
         "line": {
          "color": "#1f77b4"
         },
         "mode": "lines",
         "name": "Vindhastighet i tromsø",
         "type": "scatter",
         "x": [
          "2025-01-08T00:00:00+00:00",
          "2025-01-09T00:00:00+00:00",
          "2025-01-10T00:00:00+00:00",
          "2025-01-11T00:00:00+00:00",
          "2025-01-12T00:00:00+00:00",
          "2025-01-13T00:00:00+00:00",
          "2025-01-14T00:00:00+00:00",
          "2025-01-15T00:00:00+00:00",
          "2025-01-16T00:00:00+00:00",
          "2025-01-17T00:00:00+00:00",
          "2025-01-18T00:00:00+00:00",
          "2025-01-19T00:00:00+00:00",
          "2025-01-20T00:00:00+00:00",
          "2025-01-21T00:00:00+00:00",
          "2025-01-22T00:00:00+00:00",
          "2025-01-23T00:00:00+00:00",
          "2025-01-24T00:00:00+00:00",
          "2025-01-25T00:00:00+00:00",
          "2025-01-26T00:00:00+00:00",
          "2025-01-27T00:00:00+00:00",
          "2025-01-28T00:00:00+00:00",
          "2025-01-29T00:00:00+00:00",
          "2025-01-30T00:00:00+00:00",
          "2025-01-31T00:00:00+00:00",
          "2025-02-01T00:00:00+00:00",
          "2025-02-02T00:00:00+00:00",
          "2025-02-03T00:00:00+00:00",
          "2025-02-04T00:00:00+00:00",
          "2025-02-05T00:00:00+00:00",
          "2025-02-06T00:00:00+00:00",
          "2025-02-07T00:00:00+00:00",
          "2025-02-08T00:00:00+00:00",
          "2025-02-09T00:00:00+00:00",
          "2025-02-10T00:00:00+00:00",
          "2025-02-11T00:00:00+00:00",
          "2025-02-12T00:00:00+00:00",
          "2025-02-13T00:00:00+00:00",
          "2025-02-14T00:00:00+00:00",
          "2025-02-15T00:00:00+00:00",
          "2025-02-16T00:00:00+00:00",
          "2025-02-17T00:00:00+00:00",
          "2025-02-18T00:00:00+00:00",
          "2025-02-19T00:00:00+00:00",
          "2025-02-20T00:00:00+00:00",
          "2025-02-21T00:00:00+00:00",
          "2025-02-22T00:00:00+00:00",
          "2025-02-23T00:00:00+00:00",
          "2025-02-24T00:00:00+00:00",
          "2025-02-25T00:00:00+00:00",
          "2025-02-26T00:00:00+00:00",
          "2025-02-27T00:00:00+00:00",
          "2025-02-28T00:00:00+00:00",
          "2025-03-01T00:00:00+00:00",
          "2025-03-02T00:00:00+00:00",
          "2025-03-03T00:00:00+00:00",
          "2025-03-04T00:00:00+00:00",
          "2025-03-05T00:00:00+00:00",
          "2025-03-06T00:00:00+00:00",
          "2025-03-07T00:00:00+00:00",
          "2025-03-08T00:00:00+00:00",
          "2025-03-09T00:00:00+00:00",
          "2025-03-10T00:00:00+00:00",
          "2025-03-11T00:00:00+00:00",
          "2025-03-12T00:00:00+00:00",
          "2025-03-13T00:00:00+00:00",
          "2025-03-14T00:00:00+00:00",
          "2025-03-15T00:00:00+00:00",
          "2025-03-16T00:00:00+00:00",
          "2025-03-17T00:00:00+00:00",
          "2025-03-18T00:00:00+00:00",
          "2025-03-19T00:00:00+00:00",
          "2025-03-20T00:00:00+00:00",
          "2025-03-21T00:00:00+00:00",
          "2025-03-22T00:00:00+00:00",
          "2025-03-23T00:00:00+00:00",
          "2025-03-24T00:00:00+00:00",
          "2025-03-25T00:00:00+00:00",
          "2025-03-26T00:00:00+00:00",
          "2025-03-27T00:00:00+00:00",
          "2025-03-28T00:00:00+00:00",
          "2025-03-29T00:00:00+00:00",
          "2025-03-30T00:00:00+00:00",
          "2025-03-31T00:00:00+00:00",
          "2025-04-01T00:00:00+00:00",
          "2025-04-02T00:00:00+00:00",
          "2025-04-03T00:00:00+00:00",
          "2025-04-04T00:00:00+00:00",
          "2025-04-05T00:00:00+00:00",
          "2025-04-06T00:00:00+00:00",
          "2025-04-07T00:00:00+00:00"
         ],
         "y": {
          "bdata": "AAAAAAAAAEDNzMzMzMwIQAAAAAAAABhAmpmZmZmZEUBmZmZmZmYGQAAAAAAAABxAmpmZmZmZCUAzMzMzMzMfQAAAAAAAABhAMzMzMzMzG0AzMzMzMzMVQM3MzMzMzAxAZmZmZmZm9j8AAAAAAAAMQM3MzMzMzBZAzczMzMzMGkDNzMzMzMwAQM3MzMzMzARAmpmZmZmZE0DNzMzMzMwIQAAAAAAAABZAAAAAAAAAFEBmZmZmZmYKQJqZmZmZmQ1AMzMzMzMzA0BmZmZmZmYSQM3MzMzMzCBAzczMzMzMIkAzMzMzMzMfQDMzMzMzMyFAMzMzMzMzIECamZmZmZkXQM3MzMzMzBhAZmZmZmZmFkCamZmZmZkXQM3MzMzMzPw/MzMzMzMz8z8AAAAAAAAEQGZmZmZmZgJAzczMzMzM9D/NzMzMzMwAQM3MzMzMzARAMzMzMzMzD0AAAAAAAAAWQAAAAAAAABRAmpmZmZmZF0DNzMzMzMwaQGZmZmZmZhRAAAAAAAAAFkCamZmZmZkJQAAAAAAAABBAAAAAAAAADEAAAAAAAAAWQM3MzMzMzBBAAAAAAAAAEkDNzMzMzMz8PzMzMzMzMwNAZmZmZmZmDkAAAAAAAAAEQM3MzMzMzPw/mpmZmZmZBUDNzMzMzMwMQAAAAAAAAABAMzMzMzMzA0AzMzMzMzMZQM3MzMzMzAxAMzMzMzMzFUDNzMzMzMwIQAAAAAAAAARAZmZmZmZmFkCamZmZmZkJQJqZmZmZmQFAmpmZmZmZFUDNzMzMzMweQM3MzMzMzBxAzczMzMzMFkDNzMzMzMwMQDMzMzMzMwdAmpmZmZmZAUBmZmZmZmb+PwAAAAAAAAxAMzMzMzMz8z/NzMzMzMwEQAAAAAAAABxAMzMzMzMzE0CamZmZmZkVQDMzMzMzMw9AzczMzMzMEEAzMzMzMzMDQDMzMzMzMxFA",
          "dtype": "f8"
         }
        },
        {
         "line": {
          "color": "#1f77b4",
          "dash": "dash"
         },
         "mode": "lines",
         "name": "Gjennomsnittsvindhastighet i tromsø",
         "type": "scatter",
         "x": [
          "2025-01-08T00:00:00+00:00",
          "2025-01-09T00:00:00+00:00",
          "2025-01-10T00:00:00+00:00",
          "2025-01-11T00:00:00+00:00",
          "2025-01-12T00:00:00+00:00",
          "2025-01-13T00:00:00+00:00",
          "2025-01-14T00:00:00+00:00",
          "2025-01-15T00:00:00+00:00",
          "2025-01-16T00:00:00+00:00",
          "2025-01-17T00:00:00+00:00",
          "2025-01-18T00:00:00+00:00",
          "2025-01-19T00:00:00+00:00",
          "2025-01-20T00:00:00+00:00",
          "2025-01-21T00:00:00+00:00",
          "2025-01-22T00:00:00+00:00",
          "2025-01-23T00:00:00+00:00",
          "2025-01-24T00:00:00+00:00",
          "2025-01-25T00:00:00+00:00",
          "2025-01-26T00:00:00+00:00",
          "2025-01-27T00:00:00+00:00",
          "2025-01-28T00:00:00+00:00",
          "2025-01-29T00:00:00+00:00",
          "2025-01-30T00:00:00+00:00",
          "2025-01-31T00:00:00+00:00",
          "2025-02-01T00:00:00+00:00",
          "2025-02-02T00:00:00+00:00",
          "2025-02-03T00:00:00+00:00",
          "2025-02-04T00:00:00+00:00",
          "2025-02-05T00:00:00+00:00",
          "2025-02-06T00:00:00+00:00",
          "2025-02-07T00:00:00+00:00",
          "2025-02-08T00:00:00+00:00",
          "2025-02-09T00:00:00+00:00",
          "2025-02-10T00:00:00+00:00",
          "2025-02-11T00:00:00+00:00",
          "2025-02-12T00:00:00+00:00",
          "2025-02-13T00:00:00+00:00",
          "2025-02-14T00:00:00+00:00",
          "2025-02-15T00:00:00+00:00",
          "2025-02-16T00:00:00+00:00",
          "2025-02-17T00:00:00+00:00",
          "2025-02-18T00:00:00+00:00",
          "2025-02-19T00:00:00+00:00",
          "2025-02-20T00:00:00+00:00",
          "2025-02-21T00:00:00+00:00",
          "2025-02-22T00:00:00+00:00",
          "2025-02-23T00:00:00+00:00",
          "2025-02-24T00:00:00+00:00",
          "2025-02-25T00:00:00+00:00",
          "2025-02-26T00:00:00+00:00",
          "2025-02-27T00:00:00+00:00",
          "2025-02-28T00:00:00+00:00",
          "2025-03-01T00:00:00+00:00",
          "2025-03-02T00:00:00+00:00",
          "2025-03-03T00:00:00+00:00",
          "2025-03-04T00:00:00+00:00",
          "2025-03-05T00:00:00+00:00",
          "2025-03-06T00:00:00+00:00",
          "2025-03-07T00:00:00+00:00",
          "2025-03-08T00:00:00+00:00",
          "2025-03-09T00:00:00+00:00",
          "2025-03-10T00:00:00+00:00",
          "2025-03-11T00:00:00+00:00",
          "2025-03-12T00:00:00+00:00",
          "2025-03-13T00:00:00+00:00",
          "2025-03-14T00:00:00+00:00",
          "2025-03-15T00:00:00+00:00",
          "2025-03-16T00:00:00+00:00",
          "2025-03-17T00:00:00+00:00",
          "2025-03-18T00:00:00+00:00",
          "2025-03-19T00:00:00+00:00",
          "2025-03-20T00:00:00+00:00",
          "2025-03-21T00:00:00+00:00",
          "2025-03-22T00:00:00+00:00",
          "2025-03-23T00:00:00+00:00",
          "2025-03-24T00:00:00+00:00",
          "2025-03-25T00:00:00+00:00",
          "2025-03-26T00:00:00+00:00",
          "2025-03-27T00:00:00+00:00",
          "2025-03-28T00:00:00+00:00",
          "2025-03-29T00:00:00+00:00",
          "2025-03-30T00:00:00+00:00",
          "2025-03-31T00:00:00+00:00",
          "2025-04-01T00:00:00+00:00",
          "2025-04-02T00:00:00+00:00",
          "2025-04-03T00:00:00+00:00",
          "2025-04-04T00:00:00+00:00",
          "2025-04-05T00:00:00+00:00",
          "2025-04-06T00:00:00+00:00",
          "2025-04-07T00:00:00+00:00"
         ],
         "y": [
          4.282222222222223,
          4.282222222222223,
          4.282222222222223,
          4.282222222222223,
          4.282222222222223,
          4.282222222222223,
          4.282222222222223,
          4.282222222222223,
          4.282222222222223,
          4.282222222222223,
          4.282222222222223,
          4.282222222222223,
          4.282222222222223,
          4.282222222222223,
          4.282222222222223,
          4.282222222222223,
          4.282222222222223,
          4.282222222222223,
          4.282222222222223,
          4.282222222222223,
          4.282222222222223,
          4.282222222222223,
          4.282222222222223,
          4.282222222222223,
          4.282222222222223,
          4.282222222222223,
          4.282222222222223,
          4.282222222222223,
          4.282222222222223,
          4.282222222222223,
          4.282222222222223,
          4.282222222222223,
          4.282222222222223,
          4.282222222222223,
          4.282222222222223,
          4.282222222222223,
          4.282222222222223,
          4.282222222222223,
          4.282222222222223,
          4.282222222222223,
          4.282222222222223,
          4.282222222222223,
          4.282222222222223,
          4.282222222222223,
          4.282222222222223,
          4.282222222222223,
          4.282222222222223,
          4.282222222222223,
          4.282222222222223,
          4.282222222222223,
          4.282222222222223,
          4.282222222222223,
          4.282222222222223,
          4.282222222222223,
          4.282222222222223,
          4.282222222222223,
          4.282222222222223,
          4.282222222222223,
          4.282222222222223,
          4.282222222222223,
          4.282222222222223,
          4.282222222222223,
          4.282222222222223,
          4.282222222222223,
          4.282222222222223,
          4.282222222222223,
          4.282222222222223,
          4.282222222222223,
          4.282222222222223,
          4.282222222222223,
          4.282222222222223,
          4.282222222222223,
          4.282222222222223,
          4.282222222222223,
          4.282222222222223,
          4.282222222222223,
          4.282222222222223,
          4.282222222222223,
          4.282222222222223,
          4.282222222222223,
          4.282222222222223,
          4.282222222222223,
          4.282222222222223,
          4.282222222222223,
          4.282222222222223,
          4.282222222222223,
          4.282222222222223,
          4.282222222222223,
          4.282222222222223,
          4.282222222222223
         ]
        }
       ],
       "layout": {
        "legend": {
         "title": {
          "text": "Vindhastighet"
         }
        },
        "template": {
         "data": {
          "bar": [
           {
            "error_x": {
             "color": "#2a3f5f"
            },
            "error_y": {
             "color": "#2a3f5f"
            },
            "marker": {
             "line": {
              "color": "#E5ECF6",
              "width": 0.5
             },
             "pattern": {
              "fillmode": "overlay",
              "size": 10,
              "solidity": 0.2
             }
            },
            "type": "bar"
           }
          ],
          "barpolar": [
           {
            "marker": {
             "line": {
              "color": "#E5ECF6",
              "width": 0.5
             },
             "pattern": {
              "fillmode": "overlay",
              "size": 10,
              "solidity": 0.2
             }
            },
            "type": "barpolar"
           }
          ],
          "carpet": [
           {
            "aaxis": {
             "endlinecolor": "#2a3f5f",
             "gridcolor": "white",
             "linecolor": "white",
             "minorgridcolor": "white",
             "startlinecolor": "#2a3f5f"
            },
            "baxis": {
             "endlinecolor": "#2a3f5f",
             "gridcolor": "white",
             "linecolor": "white",
             "minorgridcolor": "white",
             "startlinecolor": "#2a3f5f"
            },
            "type": "carpet"
           }
          ],
          "choropleth": [
           {
            "colorbar": {
             "outlinewidth": 0,
             "ticks": ""
            },
            "type": "choropleth"
           }
          ],
          "contour": [
           {
            "colorbar": {
             "outlinewidth": 0,
             "ticks": ""
            },
            "colorscale": [
             [
              0,
              "#0d0887"
             ],
             [
              0.1111111111111111,
              "#46039f"
             ],
             [
              0.2222222222222222,
              "#7201a8"
             ],
             [
              0.3333333333333333,
              "#9c179e"
             ],
             [
              0.4444444444444444,
              "#bd3786"
             ],
             [
              0.5555555555555556,
              "#d8576b"
             ],
             [
              0.6666666666666666,
              "#ed7953"
             ],
             [
              0.7777777777777778,
              "#fb9f3a"
             ],
             [
              0.8888888888888888,
              "#fdca26"
             ],
             [
              1,
              "#f0f921"
             ]
            ],
            "type": "contour"
           }
          ],
          "contourcarpet": [
           {
            "colorbar": {
             "outlinewidth": 0,
             "ticks": ""
            },
            "type": "contourcarpet"
           }
          ],
          "heatmap": [
           {
            "colorbar": {
             "outlinewidth": 0,
             "ticks": ""
            },
            "colorscale": [
             [
              0,
              "#0d0887"
             ],
             [
              0.1111111111111111,
              "#46039f"
             ],
             [
              0.2222222222222222,
              "#7201a8"
             ],
             [
              0.3333333333333333,
              "#9c179e"
             ],
             [
              0.4444444444444444,
              "#bd3786"
             ],
             [
              0.5555555555555556,
              "#d8576b"
             ],
             [
              0.6666666666666666,
              "#ed7953"
             ],
             [
              0.7777777777777778,
              "#fb9f3a"
             ],
             [
              0.8888888888888888,
              "#fdca26"
             ],
             [
              1,
              "#f0f921"
             ]
            ],
            "type": "heatmap"
           }
          ],
          "histogram": [
           {
            "marker": {
             "pattern": {
              "fillmode": "overlay",
              "size": 10,
              "solidity": 0.2
             }
            },
            "type": "histogram"
           }
          ],
          "histogram2d": [
           {
            "colorbar": {
             "outlinewidth": 0,
             "ticks": ""
            },
            "colorscale": [
             [
              0,
              "#0d0887"
             ],
             [
              0.1111111111111111,
              "#46039f"
             ],
             [
              0.2222222222222222,
              "#7201a8"
             ],
             [
              0.3333333333333333,
              "#9c179e"
             ],
             [
              0.4444444444444444,
              "#bd3786"
             ],
             [
              0.5555555555555556,
              "#d8576b"
             ],
             [
              0.6666666666666666,
              "#ed7953"
             ],
             [
              0.7777777777777778,
              "#fb9f3a"
             ],
             [
              0.8888888888888888,
              "#fdca26"
             ],
             [
              1,
              "#f0f921"
             ]
            ],
            "type": "histogram2d"
           }
          ],
          "histogram2dcontour": [
           {
            "colorbar": {
             "outlinewidth": 0,
             "ticks": ""
            },
            "colorscale": [
             [
              0,
              "#0d0887"
             ],
             [
              0.1111111111111111,
              "#46039f"
             ],
             [
              0.2222222222222222,
              "#7201a8"
             ],
             [
              0.3333333333333333,
              "#9c179e"
             ],
             [
              0.4444444444444444,
              "#bd3786"
             ],
             [
              0.5555555555555556,
              "#d8576b"
             ],
             [
              0.6666666666666666,
              "#ed7953"
             ],
             [
              0.7777777777777778,
              "#fb9f3a"
             ],
             [
              0.8888888888888888,
              "#fdca26"
             ],
             [
              1,
              "#f0f921"
             ]
            ],
            "type": "histogram2dcontour"
           }
          ],
          "mesh3d": [
           {
            "colorbar": {
             "outlinewidth": 0,
             "ticks": ""
            },
            "type": "mesh3d"
           }
          ],
          "parcoords": [
           {
            "line": {
             "colorbar": {
              "outlinewidth": 0,
              "ticks": ""
             }
            },
            "type": "parcoords"
           }
          ],
          "pie": [
           {
            "automargin": true,
            "type": "pie"
           }
          ],
          "scatter": [
           {
            "fillpattern": {
             "fillmode": "overlay",
             "size": 10,
             "solidity": 0.2
            },
            "type": "scatter"
           }
          ],
          "scatter3d": [
           {
            "line": {
             "colorbar": {
              "outlinewidth": 0,
              "ticks": ""
             }
            },
            "marker": {
             "colorbar": {
              "outlinewidth": 0,
              "ticks": ""
             }
            },
            "type": "scatter3d"
           }
          ],
          "scattercarpet": [
           {
            "marker": {
             "colorbar": {
              "outlinewidth": 0,
              "ticks": ""
             }
            },
            "type": "scattercarpet"
           }
          ],
          "scattergeo": [
           {
            "marker": {
             "colorbar": {
              "outlinewidth": 0,
              "ticks": ""
             }
            },
            "type": "scattergeo"
           }
          ],
          "scattergl": [
           {
            "marker": {
             "colorbar": {
              "outlinewidth": 0,
              "ticks": ""
             }
            },
            "type": "scattergl"
           }
          ],
          "scattermap": [
           {
            "marker": {
             "colorbar": {
              "outlinewidth": 0,
              "ticks": ""
             }
            },
            "type": "scattermap"
           }
          ],
          "scattermapbox": [
           {
            "marker": {
             "colorbar": {
              "outlinewidth": 0,
              "ticks": ""
             }
            },
            "type": "scattermapbox"
           }
          ],
          "scatterpolar": [
           {
            "marker": {
             "colorbar": {
              "outlinewidth": 0,
              "ticks": ""
             }
            },
            "type": "scatterpolar"
           }
          ],
          "scatterpolargl": [
           {
            "marker": {
             "colorbar": {
              "outlinewidth": 0,
              "ticks": ""
             }
            },
            "type": "scatterpolargl"
           }
          ],
          "scatterternary": [
           {
            "marker": {
             "colorbar": {
              "outlinewidth": 0,
              "ticks": ""
             }
            },
            "type": "scatterternary"
           }
          ],
          "surface": [
           {
            "colorbar": {
             "outlinewidth": 0,
             "ticks": ""
            },
            "colorscale": [
             [
              0,
              "#0d0887"
             ],
             [
              0.1111111111111111,
              "#46039f"
             ],
             [
              0.2222222222222222,
              "#7201a8"
             ],
             [
              0.3333333333333333,
              "#9c179e"
             ],
             [
              0.4444444444444444,
              "#bd3786"
             ],
             [
              0.5555555555555556,
              "#d8576b"
             ],
             [
              0.6666666666666666,
              "#ed7953"
             ],
             [
              0.7777777777777778,
              "#fb9f3a"
             ],
             [
              0.8888888888888888,
              "#fdca26"
             ],
             [
              1,
              "#f0f921"
             ]
            ],
            "type": "surface"
           }
          ],
          "table": [
           {
            "cells": {
             "fill": {
              "color": "#EBF0F8"
             },
             "line": {
              "color": "white"
             }
            },
            "header": {
             "fill": {
              "color": "#C8D4E3"
             },
             "line": {
              "color": "white"
             }
            },
            "type": "table"
           }
          ]
         },
         "layout": {
          "annotationdefaults": {
           "arrowcolor": "#2a3f5f",
           "arrowhead": 0,
           "arrowwidth": 1
          },
          "autotypenumbers": "strict",
          "coloraxis": {
           "colorbar": {
            "outlinewidth": 0,
            "ticks": ""
           }
          },
          "colorscale": {
           "diverging": [
            [
             0,
             "#8e0152"
            ],
            [
             0.1,
             "#c51b7d"
            ],
            [
             0.2,
             "#de77ae"
            ],
            [
             0.3,
             "#f1b6da"
            ],
            [
             0.4,
             "#fde0ef"
            ],
            [
             0.5,
             "#f7f7f7"
            ],
            [
             0.6,
             "#e6f5d0"
            ],
            [
             0.7,
             "#b8e186"
            ],
            [
             0.8,
             "#7fbc41"
            ],
            [
             0.9,
             "#4d9221"
            ],
            [
             1,
             "#276419"
            ]
           ],
           "sequential": [
            [
             0,
             "#0d0887"
            ],
            [
             0.1111111111111111,
             "#46039f"
            ],
            [
             0.2222222222222222,
             "#7201a8"
            ],
            [
             0.3333333333333333,
             "#9c179e"
            ],
            [
             0.4444444444444444,
             "#bd3786"
            ],
            [
             0.5555555555555556,
             "#d8576b"
            ],
            [
             0.6666666666666666,
             "#ed7953"
            ],
            [
             0.7777777777777778,
             "#fb9f3a"
            ],
            [
             0.8888888888888888,
             "#fdca26"
            ],
            [
             1,
             "#f0f921"
            ]
           ],
           "sequentialminus": [
            [
             0,
             "#0d0887"
            ],
            [
             0.1111111111111111,
             "#46039f"
            ],
            [
             0.2222222222222222,
             "#7201a8"
            ],
            [
             0.3333333333333333,
             "#9c179e"
            ],
            [
             0.4444444444444444,
             "#bd3786"
            ],
            [
             0.5555555555555556,
             "#d8576b"
            ],
            [
             0.6666666666666666,
             "#ed7953"
            ],
            [
             0.7777777777777778,
             "#fb9f3a"
            ],
            [
             0.8888888888888888,
             "#fdca26"
            ],
            [
             1,
             "#f0f921"
            ]
           ]
          },
          "colorway": [
           "#636efa",
           "#EF553B",
           "#00cc96",
           "#ab63fa",
           "#FFA15A",
           "#19d3f3",
           "#FF6692",
           "#B6E880",
           "#FF97FF",
           "#FECB52"
          ],
          "font": {
           "color": "#2a3f5f"
          },
          "geo": {
           "bgcolor": "white",
           "lakecolor": "white",
           "landcolor": "#E5ECF6",
           "showlakes": true,
           "showland": true,
           "subunitcolor": "white"
          },
          "hoverlabel": {
           "align": "left"
          },
          "hovermode": "closest",
          "mapbox": {
           "style": "light"
          },
          "paper_bgcolor": "white",
          "plot_bgcolor": "#E5ECF6",
          "polar": {
           "angularaxis": {
            "gridcolor": "white",
            "linecolor": "white",
            "ticks": ""
           },
           "bgcolor": "#E5ECF6",
           "radialaxis": {
            "gridcolor": "white",
            "linecolor": "white",
            "ticks": ""
           }
          },
          "scene": {
           "xaxis": {
            "backgroundcolor": "#E5ECF6",
            "gridcolor": "white",
            "gridwidth": 2,
            "linecolor": "white",
            "showbackground": true,
            "ticks": "",
            "zerolinecolor": "white"
           },
           "yaxis": {
            "backgroundcolor": "#E5ECF6",
            "gridcolor": "white",
            "gridwidth": 2,
            "linecolor": "white",
            "showbackground": true,
            "ticks": "",
            "zerolinecolor": "white"
           },
           "zaxis": {
            "backgroundcolor": "#E5ECF6",
            "gridcolor": "white",
            "gridwidth": 2,
            "linecolor": "white",
            "showbackground": true,
            "ticks": "",
            "zerolinecolor": "white"
           }
          },
          "shapedefaults": {
           "line": {
            "color": "#2a3f5f"
           }
          },
          "ternary": {
           "aaxis": {
            "gridcolor": "white",
            "linecolor": "white",
            "ticks": ""
           },
           "baxis": {
            "gridcolor": "white",
            "linecolor": "white",
            "ticks": ""
           },
           "bgcolor": "#E5ECF6",
           "caxis": {
            "gridcolor": "white",
            "linecolor": "white",
            "ticks": ""
           }
          },
          "title": {
           "x": 0.05
          },
          "xaxis": {
           "automargin": true,
           "gridcolor": "white",
           "linecolor": "white",
           "ticks": "",
           "title": {
            "standoff": 15
           },
           "zerolinecolor": "white",
           "zerolinewidth": 2
          },
          "yaxis": {
           "automargin": true,
           "gridcolor": "white",
           "linecolor": "white",
           "ticks": "",
           "title": {
            "standoff": 15
           },
           "zerolinecolor": "white",
           "zerolinewidth": 2
          }
         }
        },
        "title": {
         "text": "Vindhastighet over tid i tromsø"
        },
        "xaxis": {
         "title": {
          "text": "Dato"
         }
        },
        "yaxis": {
         "title": {
          "text": "Vindhastighet (m/s)"
         }
        }
       }
      }
     },
     "metadata": {},
     "output_type": "display_data"
    },
    {
     "name": "stdout",
     "output_type": "stream",
     "text": [
      "\n",
      "Vindhastighet:\n",
      "Median: 3.90, Standardavvik: 1.96\n"
     ]
    }
   ],
   "source": [
    "import pandas as pd\n",
    "import plotly.graph_objects as go\n",
    "import sqlite3\n",
    "\n",
    "# Bruker den eksisterende variabelen location_input som bynavn\n",
    "city_name = location_input\n",
    "\n",
    "# Konverterer referansetiden til datetime\n",
    "df['referenceTime'] = pd.to_datetime(df['referenceTime'])\n",
    "\n",
    "# Oppretter en SQLite-database i minnet\n",
    "conn = sqlite3.connect(\":memory:\")\n",
    "\n",
    "# Leser CSV-filen og lagrer den i SQLite-databasen\n",
    "csv_filename = \"../src/weather_data.csv\"\n",
    "df_csv = pd.read_csv(csv_filename)\n",
    "df_csv.to_sql(\"weather_data\", conn, index=False, if_exists=\"replace\")\n",
    "\n",
    "# SQL-spørring for å hente data\n",
    "query = \"\"\"\n",
    "SELECT * \n",
    "FROM weather_data\n",
    "WHERE elementId = 'mean(air_temperature P1D)'\n",
    "\"\"\"\n",
    "temperature_data = pd.read_sql_query(query, conn)\n",
    "\n",
    "# Konverterer referansetiden til datetime\n",
    "temperature_data['referenceTime'] = pd.to_datetime(temperature_data['referenceTime'])\n",
    "\n",
    "# Gjør det samme for andre elementer (nedbør og vindhastighet)\n",
    "query_precip = \"\"\"\n",
    "SELECT * \n",
    "FROM weather_data\n",
    "WHERE elementId = 'sum(precipitation_amount P1D)'\n",
    "\"\"\"\n",
    "precipitation_data = pd.read_sql_query(query_precip, conn)\n",
    "\n",
    "query_wind = \"\"\"\n",
    "SELECT * \n",
    "FROM weather_data\n",
    "WHERE elementId = 'mean(wind_speed P1D)'\n",
    "\"\"\"\n",
    "wind_speed_data = pd.read_sql_query(query_wind, conn)\n",
    "\n",
    "# Lukk tilkoblingen til databasen\n",
    "conn.close()\n",
    "\n",
    "# Definerer farger for grafene\n",
    "color_location = '#1f77b4'  # Blå for lokasjonen\n",
    "\n",
    "# Leser data fra weather_data.csv\n",
    "csv_filename = \"../src/weather_data.csv\"\n",
    "df_csv = pd.read_csv(csv_filename)\n",
    "\n",
    "# Filtrerer data for temperatur\n",
    "temperature_data = df_csv[df_csv['elementId'] == 'mean(air_temperature P1D)']\n",
    "temperature_data.loc[:, 'referenceTime'] = pd.to_datetime(temperature_data['referenceTime'])\n",
    "# Beregninger for temperatur\n",
    "median_temp = temperature_data['value'].median()\n",
    "std_temp = temperature_data['value'].std()\n",
    "\n",
    "# Filtrerer data for nedbør\n",
    "precipitation_data = df_csv[df_csv['elementId'] == 'sum(precipitation_amount P1D)']\n",
    "precipitation_data.loc[:, 'referenceTime'] = pd.to_datetime(precipitation_data['referenceTime'])\n",
    "# Beregninger for nedbør\n",
    "median_precip = precipitation_data['value'].median()\n",
    "std_precip = precipitation_data['value'].std()\n",
    "\n",
    "# Filtrerer data for vindhastighet\n",
    "wind_speed_data = df_csv[df_csv['elementId'] == 'mean(wind_speed P1D)']\n",
    "wind_speed_data.loc[:, 'referenceTime'] = pd.to_datetime(wind_speed_data['referenceTime'])\n",
    "# Beregninger for vindhastighet\n",
    "median_wind = wind_speed_data['value'].median()\n",
    "std_wind = wind_speed_data['value'].std()\n",
    "\n",
    "# Temperaturfigur\n",
    "fig_temp = go.Figure()\n",
    "\n",
    "# Temperaturdata\n",
    "fig_temp.add_trace(go.Scatter(\n",
    "    x=temperature_data['referenceTime'],\n",
    "    y=temperature_data['value'],\n",
    "    mode='lines',\n",
    "    name=f'Temperatur i {city_name}',\n",
    "    line=dict(color=color_location)\n",
    "))\n",
    "\n",
    "# Gjennomsnittstemperatur\n",
    "mean_temp = temperature_data['value'].mean()\n",
    "fig_temp.add_trace(go.Scatter(\n",
    "    x=temperature_data['referenceTime'],\n",
    "    y=[mean_temp] * len(temperature_data['referenceTime']),\n",
    "    mode='lines',\n",
    "    line=dict(dash='dash', color=color_location),\n",
    "    name=f'Gjennomsnittstemperatur i {city_name}'\n",
    "))\n",
    "\n",
    "# Tilpasser layout for temperatur\n",
    "fig_temp.update_layout(\n",
    "    title=f'Temperatur over tid i {city_name}',\n",
    "    xaxis_title='Dato',\n",
    "    yaxis_title='Temperatur (°C)',\n",
    "    legend_title='Temperatur'\n",
    ")\n",
    "\n",
    "# Viser temperaturfigur\n",
    "fig_temp.show()\n",
    "\n",
    "# Utskrift av resultatene for temperatur\n",
    "print(\"Temperatur:\")\n",
    "print(f\"Median: {median_temp:.2f}, Standardavvik: {std_temp:.2f}\")\n",
    "\n",
    "# Nedbørsfigur\n",
    "fig_precip = go.Figure()\n",
    "\n",
    "# Nedbørsdata\n",
    "fig_precip.add_trace(go.Bar(\n",
    "    x=precipitation_data['referenceTime'],\n",
    "    y=precipitation_data['value'],\n",
    "    name=f'Nedbør i {city_name}',\n",
    "    marker=dict(color=color_location)\n",
    "))\n",
    "\n",
    "# Gjennomsnittsnedbør som strek\n",
    "mean_precip = precipitation_data['value'].mean()\n",
    "fig_precip.add_trace(go.Scatter(\n",
    "    x=precipitation_data['referenceTime'],\n",
    "    y=[mean_precip] * len(precipitation_data['referenceTime']),\n",
    "    mode='lines',\n",
    "    line=dict(dash='dash', color='rgba(31, 119, 180, 0.8)'),\n",
    "    name=f'Gjennomsnittsnedbør i {city_name}'\n",
    "))\n",
    "\n",
    "# Tilpasser layout for nedbør\n",
    "fig_precip.update_layout(\n",
    "    title=f'Nedbør over tid i {city_name}',\n",
    "    xaxis_title='Dato',\n",
    "    yaxis_title='Nedbør (mm)',\n",
    "    legend_title='Nedbør'\n",
    ")\n",
    "\n",
    "# Viser nedbørsfigur\n",
    "fig_precip.show()\n",
    "\n",
    "# Utskrift av resultatene for nedbør\n",
    "print(\"\\nNedbør:\")\n",
    "print(f\"Median: {median_precip:.2f}, Standardavvik: {std_precip:.2f}\")\n",
    "\n",
    "# Vindhastighetsfigur\n",
    "fig_wind = go.Figure()\n",
    "\n",
    "# Vindhastighetsdata\n",
    "fig_wind.add_trace(go.Scatter(\n",
    "    x=wind_speed_data['referenceTime'],\n",
    "    y=wind_speed_data['value'],\n",
    "    mode='lines',\n",
    "    name=f'Vindhastighet i {city_name}',\n",
    "    line=dict(color=color_location)\n",
    "))\n",
    "\n",
    "# Gjennomsnittsvindhastighet\n",
    "mean_wind = wind_speed_data['value'].mean()\n",
    "fig_wind.add_trace(go.Scatter(\n",
    "    x=wind_speed_data['referenceTime'],\n",
    "    y=[mean_wind] * len(wind_speed_data['referenceTime']),\n",
    "    mode='lines',\n",
    "    line=dict(dash='dash', color=color_location),\n",
    "    name=f'Gjennomsnittsvindhastighet i {city_name}'\n",
    "))\n",
    "\n",
    "# Tilpasser layout for vindhastighet\n",
    "fig_wind.update_layout(\n",
    "    title=f'Vindhastighet over tid i {city_name}',\n",
    "    xaxis_title='Dato',\n",
    "    yaxis_title='Vindhastighet (m/s)',\n",
    "    legend_title='Vindhastighet'\n",
    ")\n",
    "\n",
    "# Viser vindhastighetsfigur\n",
    "fig_wind.show()\n",
    "\n",
    "# Utskrift av resultatene for vindhastighet\n",
    "print(\"\\nVindhastighet:\")\n",
    "print(f\"Median: {median_wind:.2f}, Standardavvik: {std_wind:.2f}\")"
   ]
  },
  {
   "cell_type": "code",
   "execution_count": 58,
   "metadata": {},
   "outputs": [],
   "source": [
    "#plotter figurene i nettleseren\n",
    "fig_temp.show(renderer=\"browser\")\n",
    "fig_precip.show(renderer=\"browser\")\n",
    "fig_wind.show(renderer=\"browser\")"
   ]
  }
 ],
 "metadata": {
  "kernelspec": {
   "display_name": "venv",
   "language": "python",
   "name": "python3"
  },
  "language_info": {
   "codemirror_mode": {
    "name": "ipython",
    "version": 3
   },
   "file_extension": ".py",
   "mimetype": "text/x-python",
   "name": "python",
   "nbconvert_exporter": "python",
   "pygments_lexer": "ipython3",
   "version": "3.13.1"
  }
 },
 "nbformat": 4,
 "nbformat_minor": 2
}
