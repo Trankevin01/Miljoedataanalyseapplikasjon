{
 "cells": [
  {
   "cell_type": "markdown",
   "metadata": {},
   "source": [
    "Vi lager et program som lar brukeren velge et sted i Norge og se den historiske værdataene til dette stedet. Programmet henter informasjon fra den nærmeste værstasjonen til det valgte stedet og visualiserer dataene i grafer. Programmet viser også en beregning for hvordan framtidig vær kommer til å se ut. All data er hentet fra MET som er en offentlig kilde sponset fra den norske stat"
   ]
  },
  {
   "cell_type": "code",
   "execution_count": null,
   "metadata": {},
   "outputs": [
    {
     "name": "stdout",
     "output_type": "stream",
     "text": [
      "Henter data for element: mean(air_temperature P1D)\n",
      "Data retrieved for mean(air_temperature P1D) from station SN32290!\n",
      "Henter data for element: sum(precipitation_amount P1D)\n",
      "Error retrieving sum(precipitation_amount P1D) data from station SN32290. Trying next station...\n",
      "Data retrieved for sum(precipitation_amount P1D) from station SN34900!\n",
      "Henter data for element: mean(wind_speed P1D)\n",
      "Error retrieving mean(wind_speed P1D) data from station SN32290. Trying next station...\n",
      "Error retrieving mean(wind_speed P1D) data from station SN34900. Trying next station...\n",
      "Data retrieved for mean(wind_speed P1D) from station SN32240!\n",
      "Henter data for element: surface_snow_thickness\n",
      "Error retrieving surface_snow_thickness data from station SN32290. Trying next station...\n",
      "Data retrieved for surface_snow_thickness from station SN34900!\n",
      "Henter data for element: mean(relative_humidity P1D)\n",
      "Error retrieving mean(relative_humidity P1D) data from station SN32290. Trying next station...\n",
      "Error retrieving mean(relative_humidity P1D) data from station SN34900. Trying next station...\n",
      "Data retrieved for mean(relative_humidity P1D) from station SN32240!\n",
      "Data saved to ../src/weather_data.csv\n"
     ]
    }
   ],
   "source": [
    "import requests\n",
    "import pandas as pd\n",
    "import os\n",
    "import sys\n",
    "from datetime import datetime, timedelta\n",
    "from opencage.geocoder import OpenCageGeocode\n",
    "from geopy.distance import geodesic\n",
    "sys.path.insert(0, os.path.abspath(os.path.join(os.getcwd(), '..', 'src')))\n",
    "from API_Key_Manager_class import APIKeyManager\n",
    "\n",
    "api_key_manager = APIKeyManager()\n",
    "\n",
    "# Hent Frost API-nøkkelen direkte fra klassen\n",
    "client_id = api_key_manager.get_api_key(\"Frost\")\n",
    "\n",
    "# Hent Opencage API-nøkkelen direkte fra klassen\n",
    "api_key = api_key_manager.get_api_key(\"Opencage\")\n",
    "\n",
    "# Sett opp OpenCageGeocode med API-nøkkelen din\n",
    "geolocator = OpenCageGeocode(api_key)\n",
    "\n",
    "# Henter inn lokasjon fra brukeren\n",
    "location_input = input(\"Enter the location (e.g., Bergen, Oslo, Trondheim, Stavanger, Tromsø): \")\n",
    "\n",
    "# Geokoder lokasjonen for å få koordinatene\n",
    "location = geolocator.geocode(location_input)\n",
    "\n",
    "# Sjekker om geokodingen var vellykket\n",
    "if location:\n",
    "    # Henter ut koordinatene\n",
    "    location_coords = (location[0]['geometry']['lat'], location[0]['geometry']['lng'])\n",
    "else:\n",
    "    raise ValueError(\"Could not find coordinates for the location. Please check the input.\")\n",
    "\n",
    "# Definerer endepunkt og parametere for stasjoner\n",
    "stations_endpoint = 'https://frost.met.no/sources/v0.jsonld'\n",
    "stations_parameters = {\n",
    "    'types': 'SensorSystem'\n",
    "}\n",
    "\n",
    "# Henter ut HTTP-responsen og lagrer den som JSON\n",
    "r = requests.get(stations_endpoint, stations_parameters, auth=(client_id, ''))\n",
    "stations_json = r.json()\n",
    "\n",
    "# Henter ut stasjonsinformasjonen\n",
    "stations = stations_json['data']\n",
    "\n",
    "# Lager et dictionary med stasjons-ID som nøkkel og koordinater som verdi\n",
    "weather_stations_coords = {station['id']: (station['geometry']['coordinates'][1], station['geometry']['coordinates'][0]) for station in stations if 'geometry' in station}\n",
    "\n",
    "# Regner ut avstanden til værstasjonene fra lokasjonen\n",
    "distances = {station: geodesic(location_coords, coords).km for station, coords in weather_stations_coords.items()}\n",
    "\n",
    "# Sorterer værstasjonene etter avstand til lokasjonen\n",
    "sorted_stations = sorted(distances, key=distances.get)\n",
    "\n",
    "# Henter ut dagens dato og datoen 90 dager tilbake\n",
    "now = datetime.now()\n",
    "offset = now - timedelta(days=90)\n",
    "current_date = now.strftime(\"%Y-%m-%d\")\n",
    "historic_date = offset.strftime(\"%Y-%m-%d\")\n",
    "\n",
    "# Definerer endepunkt og parametere for observasjoner\n",
    "observations_endpoint = 'https://frost.met.no/observations/v0.jsonld'\n",
    "\n",
    "def fetch_data_by_element(stations, elements, max_attempts = 15):\n",
    "    \"\"\"\n",
    "    Fetch data for each element (e.g., temperature, precipitation, wind speed) from the nearest weather stations.\n",
    "    Tries up to max_attempts stations for each element and returns the data for the first successful attempt.\n",
    "    \"\"\"\n",
    "    all_data = {}\n",
    "    \n",
    "    for element in elements:\n",
    "        print(f\"Henter data for element: {element}\")\n",
    "        for attempt in range(min(max_attempts, len(stations))):\n",
    "            parameters = {\n",
    "                'sources': stations[attempt],\n",
    "                'elements': element,\n",
    "                'referencetime': f'{historic_date}/{current_date}',\n",
    "            }\n",
    "            r = requests.get(observations_endpoint, parameters, auth=(client_id, ''))\n",
    "            json = r.json()\n",
    "\n",
    "            if r.status_code == 200 and 'data' in json:\n",
    "                data = json['data']\n",
    "                if data:\n",
    "                    print(f\"Data retrieved for {element} from station {stations[attempt]}!\")\n",
    "                    all_data[element] = data\n",
    "                    break\n",
    "            else:\n",
    "                print(f\"Error retrieving {element} data from station {stations[attempt]}. Trying next station...\")\n",
    "        \n",
    "        # Hvis ingen data blir funnet for elementet, logges en melding\n",
    "        if element not in all_data:\n",
    "            print(f\"No data found for {element} from any of the attempted stations.\")\n",
    "    \n",
    "    return all_data\n",
    "\n",
    "# Elementene vi ønsker å hente data for\n",
    "elements = [\n",
    "    'mean(air_temperature P1D)', \n",
    "    'sum(precipitation_amount P1D)', \n",
    "    'mean(wind_speed P1D)',\n",
    "    'surface_snow_thickness',\n",
    "    'mean(relative_humidity P1D)'\n",
    "]\n",
    "\n",
    "# Henter data for lokasjonen\n",
    "data = fetch_data_by_element(sorted_stations, elements)\n",
    "\n",
    "# Samler de viktige dataene i en DataFrame\n",
    "df_list = []\n",
    "\n",
    "for element, data_element in data.items():\n",
    "    for item in data_element:\n",
    "        row = pd.DataFrame(item['observations'])\n",
    "        row['referenceTime'] = item['referenceTime']\n",
    "        row['sourceId'] = item['sourceId']\n",
    "        row['elementId'] = element\n",
    "        df_list.append(row)\n",
    "\n",
    "# Effektivt å koble sammen alle DataFrames samtidig\n",
    "df = pd.concat(df_list, ignore_index=True)\n",
    "\n",
    "# Lagrer dataene i en CSV-fil (overskriver eksisterende fil)\n",
    "csv_filename = \"../src/weather_data.csv\"\n",
    "df.to_csv(csv_filename, index=False)\n",
    "print(f\"Data saved to {csv_filename}\")\n"
   ]
  },
  {
   "cell_type": "code",
   "execution_count": 5,
   "metadata": {},
   "outputs": [
    {
     "data": {
      "application/vnd.plotly.v1+json": {
       "config": {
        "plotlyServerURL": "https://plot.ly"
       },
       "data": [
        {
         "line": {
          "color": "#1f77b4"
         },
         "mode": "lines",
         "name": "Temperatur i telemark",
         "type": "scatter",
         "x": [
          "2025-03-09T00:00:00+00:00",
          "2025-03-10T00:00:00+00:00",
          "2025-03-12T00:00:00+00:00",
          "2025-03-13T00:00:00+00:00",
          "2025-03-14T00:00:00+00:00",
          "2025-03-16T00:00:00+00:00",
          "2025-03-17T00:00:00+00:00",
          "2025-03-18T00:00:00+00:00",
          "2025-03-19T00:00:00+00:00",
          "2025-03-20T00:00:00+00:00",
          "2025-03-21T00:00:00+00:00",
          "2025-03-22T00:00:00+00:00",
          "2025-03-23T00:00:00+00:00",
          "2025-03-24T00:00:00+00:00"
         ],
         "y": {
          "bdata": "zczMzMzM9D8zMzMzMzMDQJqZmZmZmbk/mpmZmZmZ6b+amZmZmZnxv2ZmZmZmZg5AZmZmZmZmCkAzMzMzMzMVQGZmZmZmZhRAmpmZmZmZE0CamZmZmZkJQJqZmZmZmfk/AAAAAAAADEDNzMzMzMwSQA==",
          "dtype": "f8"
         }
        },
        {
         "line": {
          "color": "#1f77b4",
          "dash": "dash"
         },
         "mode": "lines",
         "name": "Gjennomsnittstemperatur i telemark",
         "type": "scatter",
         "x": [
          "2025-03-09T00:00:00+00:00",
          "2025-03-10T00:00:00+00:00",
          "2025-03-12T00:00:00+00:00",
          "2025-03-13T00:00:00+00:00",
          "2025-03-14T00:00:00+00:00",
          "2025-03-16T00:00:00+00:00",
          "2025-03-17T00:00:00+00:00",
          "2025-03-18T00:00:00+00:00",
          "2025-03-19T00:00:00+00:00",
          "2025-03-20T00:00:00+00:00",
          "2025-03-21T00:00:00+00:00",
          "2025-03-22T00:00:00+00:00",
          "2025-03-23T00:00:00+00:00",
          "2025-03-24T00:00:00+00:00"
         ],
         "y": [
          2.664285714285714,
          2.664285714285714,
          2.664285714285714,
          2.664285714285714,
          2.664285714285714,
          2.664285714285714,
          2.664285714285714,
          2.664285714285714,
          2.664285714285714,
          2.664285714285714,
          2.664285714285714,
          2.664285714285714,
          2.664285714285714,
          2.664285714285714
         ]
        }
       ],
       "layout": {
        "legend": {
         "title": {
          "text": "Temperatur"
         }
        },
        "template": {
         "data": {
          "bar": [
           {
            "error_x": {
             "color": "#2a3f5f"
            },
            "error_y": {
             "color": "#2a3f5f"
            },
            "marker": {
             "line": {
              "color": "#E5ECF6",
              "width": 0.5
             },
             "pattern": {
              "fillmode": "overlay",
              "size": 10,
              "solidity": 0.2
             }
            },
            "type": "bar"
           }
          ],
          "barpolar": [
           {
            "marker": {
             "line": {
              "color": "#E5ECF6",
              "width": 0.5
             },
             "pattern": {
              "fillmode": "overlay",
              "size": 10,
              "solidity": 0.2
             }
            },
            "type": "barpolar"
           }
          ],
          "carpet": [
           {
            "aaxis": {
             "endlinecolor": "#2a3f5f",
             "gridcolor": "white",
             "linecolor": "white",
             "minorgridcolor": "white",
             "startlinecolor": "#2a3f5f"
            },
            "baxis": {
             "endlinecolor": "#2a3f5f",
             "gridcolor": "white",
             "linecolor": "white",
             "minorgridcolor": "white",
             "startlinecolor": "#2a3f5f"
            },
            "type": "carpet"
           }
          ],
          "choropleth": [
           {
            "colorbar": {
             "outlinewidth": 0,
             "ticks": ""
            },
            "type": "choropleth"
           }
          ],
          "contour": [
           {
            "colorbar": {
             "outlinewidth": 0,
             "ticks": ""
            },
            "colorscale": [
             [
              0,
              "#0d0887"
             ],
             [
              0.1111111111111111,
              "#46039f"
             ],
             [
              0.2222222222222222,
              "#7201a8"
             ],
             [
              0.3333333333333333,
              "#9c179e"
             ],
             [
              0.4444444444444444,
              "#bd3786"
             ],
             [
              0.5555555555555556,
              "#d8576b"
             ],
             [
              0.6666666666666666,
              "#ed7953"
             ],
             [
              0.7777777777777778,
              "#fb9f3a"
             ],
             [
              0.8888888888888888,
              "#fdca26"
             ],
             [
              1,
              "#f0f921"
             ]
            ],
            "type": "contour"
           }
          ],
          "contourcarpet": [
           {
            "colorbar": {
             "outlinewidth": 0,
             "ticks": ""
            },
            "type": "contourcarpet"
           }
          ],
          "heatmap": [
           {
            "colorbar": {
             "outlinewidth": 0,
             "ticks": ""
            },
            "colorscale": [
             [
              0,
              "#0d0887"
             ],
             [
              0.1111111111111111,
              "#46039f"
             ],
             [
              0.2222222222222222,
              "#7201a8"
             ],
             [
              0.3333333333333333,
              "#9c179e"
             ],
             [
              0.4444444444444444,
              "#bd3786"
             ],
             [
              0.5555555555555556,
              "#d8576b"
             ],
             [
              0.6666666666666666,
              "#ed7953"
             ],
             [
              0.7777777777777778,
              "#fb9f3a"
             ],
             [
              0.8888888888888888,
              "#fdca26"
             ],
             [
              1,
              "#f0f921"
             ]
            ],
            "type": "heatmap"
           }
          ],
          "histogram": [
           {
            "marker": {
             "pattern": {
              "fillmode": "overlay",
              "size": 10,
              "solidity": 0.2
             }
            },
            "type": "histogram"
           }
          ],
          "histogram2d": [
           {
            "colorbar": {
             "outlinewidth": 0,
             "ticks": ""
            },
            "colorscale": [
             [
              0,
              "#0d0887"
             ],
             [
              0.1111111111111111,
              "#46039f"
             ],
             [
              0.2222222222222222,
              "#7201a8"
             ],
             [
              0.3333333333333333,
              "#9c179e"
             ],
             [
              0.4444444444444444,
              "#bd3786"
             ],
             [
              0.5555555555555556,
              "#d8576b"
             ],
             [
              0.6666666666666666,
              "#ed7953"
             ],
             [
              0.7777777777777778,
              "#fb9f3a"
             ],
             [
              0.8888888888888888,
              "#fdca26"
             ],
             [
              1,
              "#f0f921"
             ]
            ],
            "type": "histogram2d"
           }
          ],
          "histogram2dcontour": [
           {
            "colorbar": {
             "outlinewidth": 0,
             "ticks": ""
            },
            "colorscale": [
             [
              0,
              "#0d0887"
             ],
             [
              0.1111111111111111,
              "#46039f"
             ],
             [
              0.2222222222222222,
              "#7201a8"
             ],
             [
              0.3333333333333333,
              "#9c179e"
             ],
             [
              0.4444444444444444,
              "#bd3786"
             ],
             [
              0.5555555555555556,
              "#d8576b"
             ],
             [
              0.6666666666666666,
              "#ed7953"
             ],
             [
              0.7777777777777778,
              "#fb9f3a"
             ],
             [
              0.8888888888888888,
              "#fdca26"
             ],
             [
              1,
              "#f0f921"
             ]
            ],
            "type": "histogram2dcontour"
           }
          ],
          "mesh3d": [
           {
            "colorbar": {
             "outlinewidth": 0,
             "ticks": ""
            },
            "type": "mesh3d"
           }
          ],
          "parcoords": [
           {
            "line": {
             "colorbar": {
              "outlinewidth": 0,
              "ticks": ""
             }
            },
            "type": "parcoords"
           }
          ],
          "pie": [
           {
            "automargin": true,
            "type": "pie"
           }
          ],
          "scatter": [
           {
            "fillpattern": {
             "fillmode": "overlay",
             "size": 10,
             "solidity": 0.2
            },
            "type": "scatter"
           }
          ],
          "scatter3d": [
           {
            "line": {
             "colorbar": {
              "outlinewidth": 0,
              "ticks": ""
             }
            },
            "marker": {
             "colorbar": {
              "outlinewidth": 0,
              "ticks": ""
             }
            },
            "type": "scatter3d"
           }
          ],
          "scattercarpet": [
           {
            "marker": {
             "colorbar": {
              "outlinewidth": 0,
              "ticks": ""
             }
            },
            "type": "scattercarpet"
           }
          ],
          "scattergeo": [
           {
            "marker": {
             "colorbar": {
              "outlinewidth": 0,
              "ticks": ""
             }
            },
            "type": "scattergeo"
           }
          ],
          "scattergl": [
           {
            "marker": {
             "colorbar": {
              "outlinewidth": 0,
              "ticks": ""
             }
            },
            "type": "scattergl"
           }
          ],
          "scattermap": [
           {
            "marker": {
             "colorbar": {
              "outlinewidth": 0,
              "ticks": ""
             }
            },
            "type": "scattermap"
           }
          ],
          "scattermapbox": [
           {
            "marker": {
             "colorbar": {
              "outlinewidth": 0,
              "ticks": ""
             }
            },
            "type": "scattermapbox"
           }
          ],
          "scatterpolar": [
           {
            "marker": {
             "colorbar": {
              "outlinewidth": 0,
              "ticks": ""
             }
            },
            "type": "scatterpolar"
           }
          ],
          "scatterpolargl": [
           {
            "marker": {
             "colorbar": {
              "outlinewidth": 0,
              "ticks": ""
             }
            },
            "type": "scatterpolargl"
           }
          ],
          "scatterternary": [
           {
            "marker": {
             "colorbar": {
              "outlinewidth": 0,
              "ticks": ""
             }
            },
            "type": "scatterternary"
           }
          ],
          "surface": [
           {
            "colorbar": {
             "outlinewidth": 0,
             "ticks": ""
            },
            "colorscale": [
             [
              0,
              "#0d0887"
             ],
             [
              0.1111111111111111,
              "#46039f"
             ],
             [
              0.2222222222222222,
              "#7201a8"
             ],
             [
              0.3333333333333333,
              "#9c179e"
             ],
             [
              0.4444444444444444,
              "#bd3786"
             ],
             [
              0.5555555555555556,
              "#d8576b"
             ],
             [
              0.6666666666666666,
              "#ed7953"
             ],
             [
              0.7777777777777778,
              "#fb9f3a"
             ],
             [
              0.8888888888888888,
              "#fdca26"
             ],
             [
              1,
              "#f0f921"
             ]
            ],
            "type": "surface"
           }
          ],
          "table": [
           {
            "cells": {
             "fill": {
              "color": "#EBF0F8"
             },
             "line": {
              "color": "white"
             }
            },
            "header": {
             "fill": {
              "color": "#C8D4E3"
             },
             "line": {
              "color": "white"
             }
            },
            "type": "table"
           }
          ]
         },
         "layout": {
          "annotationdefaults": {
           "arrowcolor": "#2a3f5f",
           "arrowhead": 0,
           "arrowwidth": 1
          },
          "autotypenumbers": "strict",
          "coloraxis": {
           "colorbar": {
            "outlinewidth": 0,
            "ticks": ""
           }
          },
          "colorscale": {
           "diverging": [
            [
             0,
             "#8e0152"
            ],
            [
             0.1,
             "#c51b7d"
            ],
            [
             0.2,
             "#de77ae"
            ],
            [
             0.3,
             "#f1b6da"
            ],
            [
             0.4,
             "#fde0ef"
            ],
            [
             0.5,
             "#f7f7f7"
            ],
            [
             0.6,
             "#e6f5d0"
            ],
            [
             0.7,
             "#b8e186"
            ],
            [
             0.8,
             "#7fbc41"
            ],
            [
             0.9,
             "#4d9221"
            ],
            [
             1,
             "#276419"
            ]
           ],
           "sequential": [
            [
             0,
             "#0d0887"
            ],
            [
             0.1111111111111111,
             "#46039f"
            ],
            [
             0.2222222222222222,
             "#7201a8"
            ],
            [
             0.3333333333333333,
             "#9c179e"
            ],
            [
             0.4444444444444444,
             "#bd3786"
            ],
            [
             0.5555555555555556,
             "#d8576b"
            ],
            [
             0.6666666666666666,
             "#ed7953"
            ],
            [
             0.7777777777777778,
             "#fb9f3a"
            ],
            [
             0.8888888888888888,
             "#fdca26"
            ],
            [
             1,
             "#f0f921"
            ]
           ],
           "sequentialminus": [
            [
             0,
             "#0d0887"
            ],
            [
             0.1111111111111111,
             "#46039f"
            ],
            [
             0.2222222222222222,
             "#7201a8"
            ],
            [
             0.3333333333333333,
             "#9c179e"
            ],
            [
             0.4444444444444444,
             "#bd3786"
            ],
            [
             0.5555555555555556,
             "#d8576b"
            ],
            [
             0.6666666666666666,
             "#ed7953"
            ],
            [
             0.7777777777777778,
             "#fb9f3a"
            ],
            [
             0.8888888888888888,
             "#fdca26"
            ],
            [
             1,
             "#f0f921"
            ]
           ]
          },
          "colorway": [
           "#636efa",
           "#EF553B",
           "#00cc96",
           "#ab63fa",
           "#FFA15A",
           "#19d3f3",
           "#FF6692",
           "#B6E880",
           "#FF97FF",
           "#FECB52"
          ],
          "font": {
           "color": "#2a3f5f"
          },
          "geo": {
           "bgcolor": "white",
           "lakecolor": "white",
           "landcolor": "#E5ECF6",
           "showlakes": true,
           "showland": true,
           "subunitcolor": "white"
          },
          "hoverlabel": {
           "align": "left"
          },
          "hovermode": "closest",
          "mapbox": {
           "style": "light"
          },
          "paper_bgcolor": "white",
          "plot_bgcolor": "#E5ECF6",
          "polar": {
           "angularaxis": {
            "gridcolor": "white",
            "linecolor": "white",
            "ticks": ""
           },
           "bgcolor": "#E5ECF6",
           "radialaxis": {
            "gridcolor": "white",
            "linecolor": "white",
            "ticks": ""
           }
          },
          "scene": {
           "xaxis": {
            "backgroundcolor": "#E5ECF6",
            "gridcolor": "white",
            "gridwidth": 2,
            "linecolor": "white",
            "showbackground": true,
            "ticks": "",
            "zerolinecolor": "white"
           },
           "yaxis": {
            "backgroundcolor": "#E5ECF6",
            "gridcolor": "white",
            "gridwidth": 2,
            "linecolor": "white",
            "showbackground": true,
            "ticks": "",
            "zerolinecolor": "white"
           },
           "zaxis": {
            "backgroundcolor": "#E5ECF6",
            "gridcolor": "white",
            "gridwidth": 2,
            "linecolor": "white",
            "showbackground": true,
            "ticks": "",
            "zerolinecolor": "white"
           }
          },
          "shapedefaults": {
           "line": {
            "color": "#2a3f5f"
           }
          },
          "ternary": {
           "aaxis": {
            "gridcolor": "white",
            "linecolor": "white",
            "ticks": ""
           },
           "baxis": {
            "gridcolor": "white",
            "linecolor": "white",
            "ticks": ""
           },
           "bgcolor": "#E5ECF6",
           "caxis": {
            "gridcolor": "white",
            "linecolor": "white",
            "ticks": ""
           }
          },
          "title": {
           "x": 0.05
          },
          "xaxis": {
           "automargin": true,
           "gridcolor": "white",
           "linecolor": "white",
           "ticks": "",
           "title": {
            "standoff": 15
           },
           "zerolinecolor": "white",
           "zerolinewidth": 2
          },
          "yaxis": {
           "automargin": true,
           "gridcolor": "white",
           "linecolor": "white",
           "ticks": "",
           "title": {
            "standoff": 15
           },
           "zerolinecolor": "white",
           "zerolinewidth": 2
          }
         }
        },
        "title": {
         "text": "Temperatur over tid i telemark"
        },
        "xaxis": {
         "title": {
          "text": "Dato"
         }
        },
        "yaxis": {
         "title": {
          "text": "Temperatur (°C)"
         }
        }
       }
      }
     },
     "metadata": {},
     "output_type": "display_data"
    },
    {
     "name": "stdout",
     "output_type": "stream",
     "text": [
      "Temperatur:\n",
      "Median: 3.25, Standardavvik: 2.16\n"
     ]
    },
    {
     "data": {
      "application/vnd.plotly.v1+json": {
       "config": {
        "plotlyServerURL": "https://plot.ly"
       },
       "data": [
        {
         "marker": {
          "color": "#1f77b4"
         },
         "name": "Nedbør i telemark",
         "type": "bar",
         "x": [
          "2025-03-09T00:00:00+00:00",
          "2025-03-10T00:00:00+00:00",
          "2025-03-11T00:00:00+00:00",
          "2025-03-12T00:00:00+00:00",
          "2025-03-13T00:00:00+00:00",
          "2025-03-14T00:00:00+00:00",
          "2025-03-15T00:00:00+00:00",
          "2025-03-16T00:00:00+00:00",
          "2025-03-17T00:00:00+00:00",
          "2025-03-18T00:00:00+00:00",
          "2025-03-19T00:00:00+00:00",
          "2025-03-20T00:00:00+00:00",
          "2025-03-21T00:00:00+00:00",
          "2025-03-22T00:00:00+00:00",
          "2025-03-23T00:00:00+00:00",
          "2025-03-24T00:00:00+00:00",
          "2025-03-25T00:00:00+00:00",
          "2025-03-26T00:00:00+00:00",
          "2025-03-27T00:00:00+00:00",
          "2025-03-28T00:00:00+00:00",
          "2025-03-29T00:00:00+00:00",
          "2025-03-30T00:00:00+00:00",
          "2025-03-31T00:00:00+00:00",
          "2025-04-01T00:00:00+00:00",
          "2025-04-02T00:00:00+00:00",
          "2025-04-03T00:00:00+00:00",
          "2025-04-04T00:00:00+00:00",
          "2025-04-05T00:00:00+00:00",
          "2025-04-06T00:00:00+00:00",
          "2025-04-07T00:00:00+00:00"
         ],
         "y": {
          "bdata": "zczMzMzM9D8AAAAAAAAAAM3MzMzMzClAmpmZmZmZLUAAAAAAAAAAAAAAAAAAAAAAAAAAAAAAAAAAAAAAAAAAAAAAAAAAAAAAAAAAAAAAAAAAAAAAAAAAAAAAAAAAAAAAAAAAAAAAAAAAAAAAAAAAAAAAAAAAAAAAAAAAAAAAAAAAAAAAAAAAAAAAAAAAAAAAAAAAAAAAAABmZmZmZmbmP5qZmZmZmfk/ZmZmZmZmIUAzMzMzMzMLQAAAAAAAAAAAAAAAAAAAAAAAAAAAAAAAAAAAAAAAAAAAAAAAAAAAAAAAAAAAAAAAAAAAAAAAAAAA",
          "dtype": "f8"
         }
        },
        {
         "line": {
          "color": "rgba(31, 119, 180, 0.8)",
          "dash": "dash"
         },
         "mode": "lines",
         "name": "Gjennomsnittsnedbør i telemark",
         "type": "scatter",
         "x": [
          "2025-03-09T00:00:00+00:00",
          "2025-03-10T00:00:00+00:00",
          "2025-03-11T00:00:00+00:00",
          "2025-03-12T00:00:00+00:00",
          "2025-03-13T00:00:00+00:00",
          "2025-03-14T00:00:00+00:00",
          "2025-03-15T00:00:00+00:00",
          "2025-03-16T00:00:00+00:00",
          "2025-03-17T00:00:00+00:00",
          "2025-03-18T00:00:00+00:00",
          "2025-03-19T00:00:00+00:00",
          "2025-03-20T00:00:00+00:00",
          "2025-03-21T00:00:00+00:00",
          "2025-03-22T00:00:00+00:00",
          "2025-03-23T00:00:00+00:00",
          "2025-03-24T00:00:00+00:00",
          "2025-03-25T00:00:00+00:00",
          "2025-03-26T00:00:00+00:00",
          "2025-03-27T00:00:00+00:00",
          "2025-03-28T00:00:00+00:00",
          "2025-03-29T00:00:00+00:00",
          "2025-03-30T00:00:00+00:00",
          "2025-03-31T00:00:00+00:00",
          "2025-04-01T00:00:00+00:00",
          "2025-04-02T00:00:00+00:00",
          "2025-04-03T00:00:00+00:00",
          "2025-04-04T00:00:00+00:00",
          "2025-04-05T00:00:00+00:00",
          "2025-04-06T00:00:00+00:00",
          "2025-04-07T00:00:00+00:00"
         ],
         "y": [
          1.4466666666666665,
          1.4466666666666665,
          1.4466666666666665,
          1.4466666666666665,
          1.4466666666666665,
          1.4466666666666665,
          1.4466666666666665,
          1.4466666666666665,
          1.4466666666666665,
          1.4466666666666665,
          1.4466666666666665,
          1.4466666666666665,
          1.4466666666666665,
          1.4466666666666665,
          1.4466666666666665,
          1.4466666666666665,
          1.4466666666666665,
          1.4466666666666665,
          1.4466666666666665,
          1.4466666666666665,
          1.4466666666666665,
          1.4466666666666665,
          1.4466666666666665,
          1.4466666666666665,
          1.4466666666666665,
          1.4466666666666665,
          1.4466666666666665,
          1.4466666666666665,
          1.4466666666666665,
          1.4466666666666665
         ]
        }
       ],
       "layout": {
        "legend": {
         "title": {
          "text": "Nedbør"
         }
        },
        "template": {
         "data": {
          "bar": [
           {
            "error_x": {
             "color": "#2a3f5f"
            },
            "error_y": {
             "color": "#2a3f5f"
            },
            "marker": {
             "line": {
              "color": "#E5ECF6",
              "width": 0.5
             },
             "pattern": {
              "fillmode": "overlay",
              "size": 10,
              "solidity": 0.2
             }
            },
            "type": "bar"
           }
          ],
          "barpolar": [
           {
            "marker": {
             "line": {
              "color": "#E5ECF6",
              "width": 0.5
             },
             "pattern": {
              "fillmode": "overlay",
              "size": 10,
              "solidity": 0.2
             }
            },
            "type": "barpolar"
           }
          ],
          "carpet": [
           {
            "aaxis": {
             "endlinecolor": "#2a3f5f",
             "gridcolor": "white",
             "linecolor": "white",
             "minorgridcolor": "white",
             "startlinecolor": "#2a3f5f"
            },
            "baxis": {
             "endlinecolor": "#2a3f5f",
             "gridcolor": "white",
             "linecolor": "white",
             "minorgridcolor": "white",
             "startlinecolor": "#2a3f5f"
            },
            "type": "carpet"
           }
          ],
          "choropleth": [
           {
            "colorbar": {
             "outlinewidth": 0,
             "ticks": ""
            },
            "type": "choropleth"
           }
          ],
          "contour": [
           {
            "colorbar": {
             "outlinewidth": 0,
             "ticks": ""
            },
            "colorscale": [
             [
              0,
              "#0d0887"
             ],
             [
              0.1111111111111111,
              "#46039f"
             ],
             [
              0.2222222222222222,
              "#7201a8"
             ],
             [
              0.3333333333333333,
              "#9c179e"
             ],
             [
              0.4444444444444444,
              "#bd3786"
             ],
             [
              0.5555555555555556,
              "#d8576b"
             ],
             [
              0.6666666666666666,
              "#ed7953"
             ],
             [
              0.7777777777777778,
              "#fb9f3a"
             ],
             [
              0.8888888888888888,
              "#fdca26"
             ],
             [
              1,
              "#f0f921"
             ]
            ],
            "type": "contour"
           }
          ],
          "contourcarpet": [
           {
            "colorbar": {
             "outlinewidth": 0,
             "ticks": ""
            },
            "type": "contourcarpet"
           }
          ],
          "heatmap": [
           {
            "colorbar": {
             "outlinewidth": 0,
             "ticks": ""
            },
            "colorscale": [
             [
              0,
              "#0d0887"
             ],
             [
              0.1111111111111111,
              "#46039f"
             ],
             [
              0.2222222222222222,
              "#7201a8"
             ],
             [
              0.3333333333333333,
              "#9c179e"
             ],
             [
              0.4444444444444444,
              "#bd3786"
             ],
             [
              0.5555555555555556,
              "#d8576b"
             ],
             [
              0.6666666666666666,
              "#ed7953"
             ],
             [
              0.7777777777777778,
              "#fb9f3a"
             ],
             [
              0.8888888888888888,
              "#fdca26"
             ],
             [
              1,
              "#f0f921"
             ]
            ],
            "type": "heatmap"
           }
          ],
          "histogram": [
           {
            "marker": {
             "pattern": {
              "fillmode": "overlay",
              "size": 10,
              "solidity": 0.2
             }
            },
            "type": "histogram"
           }
          ],
          "histogram2d": [
           {
            "colorbar": {
             "outlinewidth": 0,
             "ticks": ""
            },
            "colorscale": [
             [
              0,
              "#0d0887"
             ],
             [
              0.1111111111111111,
              "#46039f"
             ],
             [
              0.2222222222222222,
              "#7201a8"
             ],
             [
              0.3333333333333333,
              "#9c179e"
             ],
             [
              0.4444444444444444,
              "#bd3786"
             ],
             [
              0.5555555555555556,
              "#d8576b"
             ],
             [
              0.6666666666666666,
              "#ed7953"
             ],
             [
              0.7777777777777778,
              "#fb9f3a"
             ],
             [
              0.8888888888888888,
              "#fdca26"
             ],
             [
              1,
              "#f0f921"
             ]
            ],
            "type": "histogram2d"
           }
          ],
          "histogram2dcontour": [
           {
            "colorbar": {
             "outlinewidth": 0,
             "ticks": ""
            },
            "colorscale": [
             [
              0,
              "#0d0887"
             ],
             [
              0.1111111111111111,
              "#46039f"
             ],
             [
              0.2222222222222222,
              "#7201a8"
             ],
             [
              0.3333333333333333,
              "#9c179e"
             ],
             [
              0.4444444444444444,
              "#bd3786"
             ],
             [
              0.5555555555555556,
              "#d8576b"
             ],
             [
              0.6666666666666666,
              "#ed7953"
             ],
             [
              0.7777777777777778,
              "#fb9f3a"
             ],
             [
              0.8888888888888888,
              "#fdca26"
             ],
             [
              1,
              "#f0f921"
             ]
            ],
            "type": "histogram2dcontour"
           }
          ],
          "mesh3d": [
           {
            "colorbar": {
             "outlinewidth": 0,
             "ticks": ""
            },
            "type": "mesh3d"
           }
          ],
          "parcoords": [
           {
            "line": {
             "colorbar": {
              "outlinewidth": 0,
              "ticks": ""
             }
            },
            "type": "parcoords"
           }
          ],
          "pie": [
           {
            "automargin": true,
            "type": "pie"
           }
          ],
          "scatter": [
           {
            "fillpattern": {
             "fillmode": "overlay",
             "size": 10,
             "solidity": 0.2
            },
            "type": "scatter"
           }
          ],
          "scatter3d": [
           {
            "line": {
             "colorbar": {
              "outlinewidth": 0,
              "ticks": ""
             }
            },
            "marker": {
             "colorbar": {
              "outlinewidth": 0,
              "ticks": ""
             }
            },
            "type": "scatter3d"
           }
          ],
          "scattercarpet": [
           {
            "marker": {
             "colorbar": {
              "outlinewidth": 0,
              "ticks": ""
             }
            },
            "type": "scattercarpet"
           }
          ],
          "scattergeo": [
           {
            "marker": {
             "colorbar": {
              "outlinewidth": 0,
              "ticks": ""
             }
            },
            "type": "scattergeo"
           }
          ],
          "scattergl": [
           {
            "marker": {
             "colorbar": {
              "outlinewidth": 0,
              "ticks": ""
             }
            },
            "type": "scattergl"
           }
          ],
          "scattermap": [
           {
            "marker": {
             "colorbar": {
              "outlinewidth": 0,
              "ticks": ""
             }
            },
            "type": "scattermap"
           }
          ],
          "scattermapbox": [
           {
            "marker": {
             "colorbar": {
              "outlinewidth": 0,
              "ticks": ""
             }
            },
            "type": "scattermapbox"
           }
          ],
          "scatterpolar": [
           {
            "marker": {
             "colorbar": {
              "outlinewidth": 0,
              "ticks": ""
             }
            },
            "type": "scatterpolar"
           }
          ],
          "scatterpolargl": [
           {
            "marker": {
             "colorbar": {
              "outlinewidth": 0,
              "ticks": ""
             }
            },
            "type": "scatterpolargl"
           }
          ],
          "scatterternary": [
           {
            "marker": {
             "colorbar": {
              "outlinewidth": 0,
              "ticks": ""
             }
            },
            "type": "scatterternary"
           }
          ],
          "surface": [
           {
            "colorbar": {
             "outlinewidth": 0,
             "ticks": ""
            },
            "colorscale": [
             [
              0,
              "#0d0887"
             ],
             [
              0.1111111111111111,
              "#46039f"
             ],
             [
              0.2222222222222222,
              "#7201a8"
             ],
             [
              0.3333333333333333,
              "#9c179e"
             ],
             [
              0.4444444444444444,
              "#bd3786"
             ],
             [
              0.5555555555555556,
              "#d8576b"
             ],
             [
              0.6666666666666666,
              "#ed7953"
             ],
             [
              0.7777777777777778,
              "#fb9f3a"
             ],
             [
              0.8888888888888888,
              "#fdca26"
             ],
             [
              1,
              "#f0f921"
             ]
            ],
            "type": "surface"
           }
          ],
          "table": [
           {
            "cells": {
             "fill": {
              "color": "#EBF0F8"
             },
             "line": {
              "color": "white"
             }
            },
            "header": {
             "fill": {
              "color": "#C8D4E3"
             },
             "line": {
              "color": "white"
             }
            },
            "type": "table"
           }
          ]
         },
         "layout": {
          "annotationdefaults": {
           "arrowcolor": "#2a3f5f",
           "arrowhead": 0,
           "arrowwidth": 1
          },
          "autotypenumbers": "strict",
          "coloraxis": {
           "colorbar": {
            "outlinewidth": 0,
            "ticks": ""
           }
          },
          "colorscale": {
           "diverging": [
            [
             0,
             "#8e0152"
            ],
            [
             0.1,
             "#c51b7d"
            ],
            [
             0.2,
             "#de77ae"
            ],
            [
             0.3,
             "#f1b6da"
            ],
            [
             0.4,
             "#fde0ef"
            ],
            [
             0.5,
             "#f7f7f7"
            ],
            [
             0.6,
             "#e6f5d0"
            ],
            [
             0.7,
             "#b8e186"
            ],
            [
             0.8,
             "#7fbc41"
            ],
            [
             0.9,
             "#4d9221"
            ],
            [
             1,
             "#276419"
            ]
           ],
           "sequential": [
            [
             0,
             "#0d0887"
            ],
            [
             0.1111111111111111,
             "#46039f"
            ],
            [
             0.2222222222222222,
             "#7201a8"
            ],
            [
             0.3333333333333333,
             "#9c179e"
            ],
            [
             0.4444444444444444,
             "#bd3786"
            ],
            [
             0.5555555555555556,
             "#d8576b"
            ],
            [
             0.6666666666666666,
             "#ed7953"
            ],
            [
             0.7777777777777778,
             "#fb9f3a"
            ],
            [
             0.8888888888888888,
             "#fdca26"
            ],
            [
             1,
             "#f0f921"
            ]
           ],
           "sequentialminus": [
            [
             0,
             "#0d0887"
            ],
            [
             0.1111111111111111,
             "#46039f"
            ],
            [
             0.2222222222222222,
             "#7201a8"
            ],
            [
             0.3333333333333333,
             "#9c179e"
            ],
            [
             0.4444444444444444,
             "#bd3786"
            ],
            [
             0.5555555555555556,
             "#d8576b"
            ],
            [
             0.6666666666666666,
             "#ed7953"
            ],
            [
             0.7777777777777778,
             "#fb9f3a"
            ],
            [
             0.8888888888888888,
             "#fdca26"
            ],
            [
             1,
             "#f0f921"
            ]
           ]
          },
          "colorway": [
           "#636efa",
           "#EF553B",
           "#00cc96",
           "#ab63fa",
           "#FFA15A",
           "#19d3f3",
           "#FF6692",
           "#B6E880",
           "#FF97FF",
           "#FECB52"
          ],
          "font": {
           "color": "#2a3f5f"
          },
          "geo": {
           "bgcolor": "white",
           "lakecolor": "white",
           "landcolor": "#E5ECF6",
           "showlakes": true,
           "showland": true,
           "subunitcolor": "white"
          },
          "hoverlabel": {
           "align": "left"
          },
          "hovermode": "closest",
          "mapbox": {
           "style": "light"
          },
          "paper_bgcolor": "white",
          "plot_bgcolor": "#E5ECF6",
          "polar": {
           "angularaxis": {
            "gridcolor": "white",
            "linecolor": "white",
            "ticks": ""
           },
           "bgcolor": "#E5ECF6",
           "radialaxis": {
            "gridcolor": "white",
            "linecolor": "white",
            "ticks": ""
           }
          },
          "scene": {
           "xaxis": {
            "backgroundcolor": "#E5ECF6",
            "gridcolor": "white",
            "gridwidth": 2,
            "linecolor": "white",
            "showbackground": true,
            "ticks": "",
            "zerolinecolor": "white"
           },
           "yaxis": {
            "backgroundcolor": "#E5ECF6",
            "gridcolor": "white",
            "gridwidth": 2,
            "linecolor": "white",
            "showbackground": true,
            "ticks": "",
            "zerolinecolor": "white"
           },
           "zaxis": {
            "backgroundcolor": "#E5ECF6",
            "gridcolor": "white",
            "gridwidth": 2,
            "linecolor": "white",
            "showbackground": true,
            "ticks": "",
            "zerolinecolor": "white"
           }
          },
          "shapedefaults": {
           "line": {
            "color": "#2a3f5f"
           }
          },
          "ternary": {
           "aaxis": {
            "gridcolor": "white",
            "linecolor": "white",
            "ticks": ""
           },
           "baxis": {
            "gridcolor": "white",
            "linecolor": "white",
            "ticks": ""
           },
           "bgcolor": "#E5ECF6",
           "caxis": {
            "gridcolor": "white",
            "linecolor": "white",
            "ticks": ""
           }
          },
          "title": {
           "x": 0.05
          },
          "xaxis": {
           "automargin": true,
           "gridcolor": "white",
           "linecolor": "white",
           "ticks": "",
           "title": {
            "standoff": 15
           },
           "zerolinecolor": "white",
           "zerolinewidth": 2
          },
          "yaxis": {
           "automargin": true,
           "gridcolor": "white",
           "linecolor": "white",
           "ticks": "",
           "title": {
            "standoff": 15
           },
           "zerolinecolor": "white",
           "zerolinewidth": 2
          }
         }
        },
        "title": {
         "text": "Nedbør over tid i telemark"
        },
        "xaxis": {
         "title": {
          "text": "Dato"
         }
        },
        "yaxis": {
         "title": {
          "text": "Nedbør (mm)"
         }
        }
       }
      }
     },
     "metadata": {},
     "output_type": "display_data"
    },
    {
     "name": "stdout",
     "output_type": "stream",
     "text": [
      "\n",
      "Nedbør:\n",
      "Median: 0.00, Standardavvik: 3.78\n"
     ]
    },
    {
     "data": {
      "application/vnd.plotly.v1+json": {
       "config": {
        "plotlyServerURL": "https://plot.ly"
       },
       "data": [
        {
         "line": {
          "color": "#1f77b4"
         },
         "mode": "lines",
         "name": "Vindhastighet i telemark",
         "type": "scatter",
         "x": [
          "2025-03-12T00:00:00+00:00",
          "2025-03-13T00:00:00+00:00",
          "2025-03-14T00:00:00+00:00",
          "2025-03-15T00:00:00+00:00",
          "2025-03-16T00:00:00+00:00",
          "2025-03-17T00:00:00+00:00",
          "2025-03-18T00:00:00+00:00",
          "2025-03-19T00:00:00+00:00",
          "2025-03-20T00:00:00+00:00",
          "2025-03-21T00:00:00+00:00",
          "2025-03-22T00:00:00+00:00",
          "2025-03-23T00:00:00+00:00",
          "2025-03-24T00:00:00+00:00",
          "2025-03-25T00:00:00+00:00",
          "2025-03-26T00:00:00+00:00",
          "2025-03-27T00:00:00+00:00",
          "2025-03-28T00:00:00+00:00",
          "2025-03-29T00:00:00+00:00",
          "2025-03-30T00:00:00+00:00",
          "2025-03-31T00:00:00+00:00",
          "2025-04-02T00:00:00+00:00",
          "2025-04-03T00:00:00+00:00",
          "2025-04-04T00:00:00+00:00",
          "2025-04-05T00:00:00+00:00",
          "2025-04-06T00:00:00+00:00",
          "2025-04-07T00:00:00+00:00"
         ],
         "y": {
          "bdata": "zczMzMzMCEAAAAAAAAD4PzMzMzMzM+M/zczMzMzM9D9mZmZmZmYCQM3MzMzMzPQ/zczMzMzM9D8zMzMzMzPzPzMzMzMzM/M/zczMzMzM7D+amZmZmZnxP2ZmZmZmZgJAmpmZmZmZ6T8AAAAAAAD4P83MzMzMzPQ/mpmZmZmZ+T8AAAAAAAAMQJqZmZmZmfk/MzMzMzMz+z8AAAAAAADwP83MzMzMzOw/zczMzMzM7D8AAAAAAAD4PzMzMzMzM/s/AAAAAAAA8D+amZmZmZnxPw==",
          "dtype": "f8"
         }
        },
        {
         "line": {
          "color": "#1f77b4",
          "dash": "dash"
         },
         "mode": "lines",
         "name": "Gjennomsnittsvindhastighet i telemark",
         "type": "scatter",
         "x": [
          "2025-03-12T00:00:00+00:00",
          "2025-03-13T00:00:00+00:00",
          "2025-03-14T00:00:00+00:00",
          "2025-03-15T00:00:00+00:00",
          "2025-03-16T00:00:00+00:00",
          "2025-03-17T00:00:00+00:00",
          "2025-03-18T00:00:00+00:00",
          "2025-03-19T00:00:00+00:00",
          "2025-03-20T00:00:00+00:00",
          "2025-03-21T00:00:00+00:00",
          "2025-03-22T00:00:00+00:00",
          "2025-03-23T00:00:00+00:00",
          "2025-03-24T00:00:00+00:00",
          "2025-03-25T00:00:00+00:00",
          "2025-03-26T00:00:00+00:00",
          "2025-03-27T00:00:00+00:00",
          "2025-03-28T00:00:00+00:00",
          "2025-03-29T00:00:00+00:00",
          "2025-03-30T00:00:00+00:00",
          "2025-03-31T00:00:00+00:00",
          "2025-04-02T00:00:00+00:00",
          "2025-04-03T00:00:00+00:00",
          "2025-04-04T00:00:00+00:00",
          "2025-04-05T00:00:00+00:00",
          "2025-04-06T00:00:00+00:00",
          "2025-04-07T00:00:00+00:00"
         ],
         "y": [
          1.4692307692307691,
          1.4692307692307691,
          1.4692307692307691,
          1.4692307692307691,
          1.4692307692307691,
          1.4692307692307691,
          1.4692307692307691,
          1.4692307692307691,
          1.4692307692307691,
          1.4692307692307691,
          1.4692307692307691,
          1.4692307692307691,
          1.4692307692307691,
          1.4692307692307691,
          1.4692307692307691,
          1.4692307692307691,
          1.4692307692307691,
          1.4692307692307691,
          1.4692307692307691,
          1.4692307692307691,
          1.4692307692307691,
          1.4692307692307691,
          1.4692307692307691,
          1.4692307692307691,
          1.4692307692307691,
          1.4692307692307691
         ]
        }
       ],
       "layout": {
        "legend": {
         "title": {
          "text": "Vindhastighet"
         }
        },
        "template": {
         "data": {
          "bar": [
           {
            "error_x": {
             "color": "#2a3f5f"
            },
            "error_y": {
             "color": "#2a3f5f"
            },
            "marker": {
             "line": {
              "color": "#E5ECF6",
              "width": 0.5
             },
             "pattern": {
              "fillmode": "overlay",
              "size": 10,
              "solidity": 0.2
             }
            },
            "type": "bar"
           }
          ],
          "barpolar": [
           {
            "marker": {
             "line": {
              "color": "#E5ECF6",
              "width": 0.5
             },
             "pattern": {
              "fillmode": "overlay",
              "size": 10,
              "solidity": 0.2
             }
            },
            "type": "barpolar"
           }
          ],
          "carpet": [
           {
            "aaxis": {
             "endlinecolor": "#2a3f5f",
             "gridcolor": "white",
             "linecolor": "white",
             "minorgridcolor": "white",
             "startlinecolor": "#2a3f5f"
            },
            "baxis": {
             "endlinecolor": "#2a3f5f",
             "gridcolor": "white",
             "linecolor": "white",
             "minorgridcolor": "white",
             "startlinecolor": "#2a3f5f"
            },
            "type": "carpet"
           }
          ],
          "choropleth": [
           {
            "colorbar": {
             "outlinewidth": 0,
             "ticks": ""
            },
            "type": "choropleth"
           }
          ],
          "contour": [
           {
            "colorbar": {
             "outlinewidth": 0,
             "ticks": ""
            },
            "colorscale": [
             [
              0,
              "#0d0887"
             ],
             [
              0.1111111111111111,
              "#46039f"
             ],
             [
              0.2222222222222222,
              "#7201a8"
             ],
             [
              0.3333333333333333,
              "#9c179e"
             ],
             [
              0.4444444444444444,
              "#bd3786"
             ],
             [
              0.5555555555555556,
              "#d8576b"
             ],
             [
              0.6666666666666666,
              "#ed7953"
             ],
             [
              0.7777777777777778,
              "#fb9f3a"
             ],
             [
              0.8888888888888888,
              "#fdca26"
             ],
             [
              1,
              "#f0f921"
             ]
            ],
            "type": "contour"
           }
          ],
          "contourcarpet": [
           {
            "colorbar": {
             "outlinewidth": 0,
             "ticks": ""
            },
            "type": "contourcarpet"
           }
          ],
          "heatmap": [
           {
            "colorbar": {
             "outlinewidth": 0,
             "ticks": ""
            },
            "colorscale": [
             [
              0,
              "#0d0887"
             ],
             [
              0.1111111111111111,
              "#46039f"
             ],
             [
              0.2222222222222222,
              "#7201a8"
             ],
             [
              0.3333333333333333,
              "#9c179e"
             ],
             [
              0.4444444444444444,
              "#bd3786"
             ],
             [
              0.5555555555555556,
              "#d8576b"
             ],
             [
              0.6666666666666666,
              "#ed7953"
             ],
             [
              0.7777777777777778,
              "#fb9f3a"
             ],
             [
              0.8888888888888888,
              "#fdca26"
             ],
             [
              1,
              "#f0f921"
             ]
            ],
            "type": "heatmap"
           }
          ],
          "histogram": [
           {
            "marker": {
             "pattern": {
              "fillmode": "overlay",
              "size": 10,
              "solidity": 0.2
             }
            },
            "type": "histogram"
           }
          ],
          "histogram2d": [
           {
            "colorbar": {
             "outlinewidth": 0,
             "ticks": ""
            },
            "colorscale": [
             [
              0,
              "#0d0887"
             ],
             [
              0.1111111111111111,
              "#46039f"
             ],
             [
              0.2222222222222222,
              "#7201a8"
             ],
             [
              0.3333333333333333,
              "#9c179e"
             ],
             [
              0.4444444444444444,
              "#bd3786"
             ],
             [
              0.5555555555555556,
              "#d8576b"
             ],
             [
              0.6666666666666666,
              "#ed7953"
             ],
             [
              0.7777777777777778,
              "#fb9f3a"
             ],
             [
              0.8888888888888888,
              "#fdca26"
             ],
             [
              1,
              "#f0f921"
             ]
            ],
            "type": "histogram2d"
           }
          ],
          "histogram2dcontour": [
           {
            "colorbar": {
             "outlinewidth": 0,
             "ticks": ""
            },
            "colorscale": [
             [
              0,
              "#0d0887"
             ],
             [
              0.1111111111111111,
              "#46039f"
             ],
             [
              0.2222222222222222,
              "#7201a8"
             ],
             [
              0.3333333333333333,
              "#9c179e"
             ],
             [
              0.4444444444444444,
              "#bd3786"
             ],
             [
              0.5555555555555556,
              "#d8576b"
             ],
             [
              0.6666666666666666,
              "#ed7953"
             ],
             [
              0.7777777777777778,
              "#fb9f3a"
             ],
             [
              0.8888888888888888,
              "#fdca26"
             ],
             [
              1,
              "#f0f921"
             ]
            ],
            "type": "histogram2dcontour"
           }
          ],
          "mesh3d": [
           {
            "colorbar": {
             "outlinewidth": 0,
             "ticks": ""
            },
            "type": "mesh3d"
           }
          ],
          "parcoords": [
           {
            "line": {
             "colorbar": {
              "outlinewidth": 0,
              "ticks": ""
             }
            },
            "type": "parcoords"
           }
          ],
          "pie": [
           {
            "automargin": true,
            "type": "pie"
           }
          ],
          "scatter": [
           {
            "fillpattern": {
             "fillmode": "overlay",
             "size": 10,
             "solidity": 0.2
            },
            "type": "scatter"
           }
          ],
          "scatter3d": [
           {
            "line": {
             "colorbar": {
              "outlinewidth": 0,
              "ticks": ""
             }
            },
            "marker": {
             "colorbar": {
              "outlinewidth": 0,
              "ticks": ""
             }
            },
            "type": "scatter3d"
           }
          ],
          "scattercarpet": [
           {
            "marker": {
             "colorbar": {
              "outlinewidth": 0,
              "ticks": ""
             }
            },
            "type": "scattercarpet"
           }
          ],
          "scattergeo": [
           {
            "marker": {
             "colorbar": {
              "outlinewidth": 0,
              "ticks": ""
             }
            },
            "type": "scattergeo"
           }
          ],
          "scattergl": [
           {
            "marker": {
             "colorbar": {
              "outlinewidth": 0,
              "ticks": ""
             }
            },
            "type": "scattergl"
           }
          ],
          "scattermap": [
           {
            "marker": {
             "colorbar": {
              "outlinewidth": 0,
              "ticks": ""
             }
            },
            "type": "scattermap"
           }
          ],
          "scattermapbox": [
           {
            "marker": {
             "colorbar": {
              "outlinewidth": 0,
              "ticks": ""
             }
            },
            "type": "scattermapbox"
           }
          ],
          "scatterpolar": [
           {
            "marker": {
             "colorbar": {
              "outlinewidth": 0,
              "ticks": ""
             }
            },
            "type": "scatterpolar"
           }
          ],
          "scatterpolargl": [
           {
            "marker": {
             "colorbar": {
              "outlinewidth": 0,
              "ticks": ""
             }
            },
            "type": "scatterpolargl"
           }
          ],
          "scatterternary": [
           {
            "marker": {
             "colorbar": {
              "outlinewidth": 0,
              "ticks": ""
             }
            },
            "type": "scatterternary"
           }
          ],
          "surface": [
           {
            "colorbar": {
             "outlinewidth": 0,
             "ticks": ""
            },
            "colorscale": [
             [
              0,
              "#0d0887"
             ],
             [
              0.1111111111111111,
              "#46039f"
             ],
             [
              0.2222222222222222,
              "#7201a8"
             ],
             [
              0.3333333333333333,
              "#9c179e"
             ],
             [
              0.4444444444444444,
              "#bd3786"
             ],
             [
              0.5555555555555556,
              "#d8576b"
             ],
             [
              0.6666666666666666,
              "#ed7953"
             ],
             [
              0.7777777777777778,
              "#fb9f3a"
             ],
             [
              0.8888888888888888,
              "#fdca26"
             ],
             [
              1,
              "#f0f921"
             ]
            ],
            "type": "surface"
           }
          ],
          "table": [
           {
            "cells": {
             "fill": {
              "color": "#EBF0F8"
             },
             "line": {
              "color": "white"
             }
            },
            "header": {
             "fill": {
              "color": "#C8D4E3"
             },
             "line": {
              "color": "white"
             }
            },
            "type": "table"
           }
          ]
         },
         "layout": {
          "annotationdefaults": {
           "arrowcolor": "#2a3f5f",
           "arrowhead": 0,
           "arrowwidth": 1
          },
          "autotypenumbers": "strict",
          "coloraxis": {
           "colorbar": {
            "outlinewidth": 0,
            "ticks": ""
           }
          },
          "colorscale": {
           "diverging": [
            [
             0,
             "#8e0152"
            ],
            [
             0.1,
             "#c51b7d"
            ],
            [
             0.2,
             "#de77ae"
            ],
            [
             0.3,
             "#f1b6da"
            ],
            [
             0.4,
             "#fde0ef"
            ],
            [
             0.5,
             "#f7f7f7"
            ],
            [
             0.6,
             "#e6f5d0"
            ],
            [
             0.7,
             "#b8e186"
            ],
            [
             0.8,
             "#7fbc41"
            ],
            [
             0.9,
             "#4d9221"
            ],
            [
             1,
             "#276419"
            ]
           ],
           "sequential": [
            [
             0,
             "#0d0887"
            ],
            [
             0.1111111111111111,
             "#46039f"
            ],
            [
             0.2222222222222222,
             "#7201a8"
            ],
            [
             0.3333333333333333,
             "#9c179e"
            ],
            [
             0.4444444444444444,
             "#bd3786"
            ],
            [
             0.5555555555555556,
             "#d8576b"
            ],
            [
             0.6666666666666666,
             "#ed7953"
            ],
            [
             0.7777777777777778,
             "#fb9f3a"
            ],
            [
             0.8888888888888888,
             "#fdca26"
            ],
            [
             1,
             "#f0f921"
            ]
           ],
           "sequentialminus": [
            [
             0,
             "#0d0887"
            ],
            [
             0.1111111111111111,
             "#46039f"
            ],
            [
             0.2222222222222222,
             "#7201a8"
            ],
            [
             0.3333333333333333,
             "#9c179e"
            ],
            [
             0.4444444444444444,
             "#bd3786"
            ],
            [
             0.5555555555555556,
             "#d8576b"
            ],
            [
             0.6666666666666666,
             "#ed7953"
            ],
            [
             0.7777777777777778,
             "#fb9f3a"
            ],
            [
             0.8888888888888888,
             "#fdca26"
            ],
            [
             1,
             "#f0f921"
            ]
           ]
          },
          "colorway": [
           "#636efa",
           "#EF553B",
           "#00cc96",
           "#ab63fa",
           "#FFA15A",
           "#19d3f3",
           "#FF6692",
           "#B6E880",
           "#FF97FF",
           "#FECB52"
          ],
          "font": {
           "color": "#2a3f5f"
          },
          "geo": {
           "bgcolor": "white",
           "lakecolor": "white",
           "landcolor": "#E5ECF6",
           "showlakes": true,
           "showland": true,
           "subunitcolor": "white"
          },
          "hoverlabel": {
           "align": "left"
          },
          "hovermode": "closest",
          "mapbox": {
           "style": "light"
          },
          "paper_bgcolor": "white",
          "plot_bgcolor": "#E5ECF6",
          "polar": {
           "angularaxis": {
            "gridcolor": "white",
            "linecolor": "white",
            "ticks": ""
           },
           "bgcolor": "#E5ECF6",
           "radialaxis": {
            "gridcolor": "white",
            "linecolor": "white",
            "ticks": ""
           }
          },
          "scene": {
           "xaxis": {
            "backgroundcolor": "#E5ECF6",
            "gridcolor": "white",
            "gridwidth": 2,
            "linecolor": "white",
            "showbackground": true,
            "ticks": "",
            "zerolinecolor": "white"
           },
           "yaxis": {
            "backgroundcolor": "#E5ECF6",
            "gridcolor": "white",
            "gridwidth": 2,
            "linecolor": "white",
            "showbackground": true,
            "ticks": "",
            "zerolinecolor": "white"
           },
           "zaxis": {
            "backgroundcolor": "#E5ECF6",
            "gridcolor": "white",
            "gridwidth": 2,
            "linecolor": "white",
            "showbackground": true,
            "ticks": "",
            "zerolinecolor": "white"
           }
          },
          "shapedefaults": {
           "line": {
            "color": "#2a3f5f"
           }
          },
          "ternary": {
           "aaxis": {
            "gridcolor": "white",
            "linecolor": "white",
            "ticks": ""
           },
           "baxis": {
            "gridcolor": "white",
            "linecolor": "white",
            "ticks": ""
           },
           "bgcolor": "#E5ECF6",
           "caxis": {
            "gridcolor": "white",
            "linecolor": "white",
            "ticks": ""
           }
          },
          "title": {
           "x": 0.05
          },
          "xaxis": {
           "automargin": true,
           "gridcolor": "white",
           "linecolor": "white",
           "ticks": "",
           "title": {
            "standoff": 15
           },
           "zerolinecolor": "white",
           "zerolinewidth": 2
          },
          "yaxis": {
           "automargin": true,
           "gridcolor": "white",
           "linecolor": "white",
           "ticks": "",
           "title": {
            "standoff": 15
           },
           "zerolinecolor": "white",
           "zerolinewidth": 2
          }
         }
        },
        "title": {
         "text": "Vindhastighet over tid i telemark"
        },
        "xaxis": {
         "title": {
          "text": "Dato"
         }
        },
        "yaxis": {
         "title": {
          "text": "Vindhastighet (m/s)"
         }
        }
       }
      }
     },
     "metadata": {},
     "output_type": "display_data"
    },
    {
     "name": "stdout",
     "output_type": "stream",
     "text": [
      "\n",
      "Vindhastighet:\n",
      "Median: 1.30, Standardavvik: 0.68\n"
     ]
    },
    {
     "data": {
      "application/vnd.plotly.v1+json": {
       "config": {
        "plotlyServerURL": "https://plot.ly"
       },
       "data": [
        {
         "marker": {
          "color": "#1f77b4"
         },
         "mode": "markers",
         "name": "Snøtykkelse i telemark",
         "type": "scatter",
         "x": [
          "2025-03-09T00:00:00+00:00",
          "2025-03-10T00:00:00+00:00",
          "2025-03-11T00:00:00+00:00",
          "2025-03-12T00:00:00+00:00",
          "2025-03-13T00:00:00+00:00",
          "2025-03-14T00:00:00+00:00",
          "2025-03-15T00:00:00+00:00",
          "2025-03-16T00:00:00+00:00",
          "2025-03-17T00:00:00+00:00",
          "2025-03-18T00:00:00+00:00",
          "2025-03-19T00:00:00+00:00",
          "2025-03-20T00:00:00+00:00",
          "2025-03-21T00:00:00+00:00",
          "2025-03-22T00:00:00+00:00",
          "2025-03-23T00:00:00+00:00",
          "2025-03-24T00:00:00+00:00",
          "2025-03-25T00:00:00+00:00",
          "2025-03-26T00:00:00+00:00",
          "2025-03-27T00:00:00+00:00",
          "2025-03-28T00:00:00+00:00",
          "2025-03-29T00:00:00+00:00",
          "2025-03-30T00:00:00+00:00",
          "2025-03-31T00:00:00+00:00",
          "2025-04-01T00:00:00+00:00",
          "2025-04-02T00:00:00+00:00",
          "2025-04-03T00:00:00+00:00",
          "2025-04-04T00:00:00+00:00",
          "2025-04-05T00:00:00+00:00",
          "2025-04-06T00:00:00+00:00",
          "2025-04-07T00:00:00+00:00"
         ],
         "y": {
          "bdata": "AAAAAAAAOkAAAAAAAAA5QAAAAAAAAEFAAAAAAACAQkAAAAAAAIBBQAAAAAAAAEFAAAAAAAAAQEAAAAAAAAA+QAAAAAAAAD5AAAAAAAAAPUAAAAAAAAA6QAAAAAAAADhAAAAAAAAAN0AAAAAAAAA2QAAAAAAAADNAAAAAAAAAMEAAAAAAAAAsQAAAAAAAACBAAAAAAAAAGEAAAAAAAAAIQAAAAAAAAPA/AAAAAAAAIEAAAAAAAAAAAAAAAAAAAAAAAAAAAAAAAAAAAAAAAAAAAAAAAAAAAAAAAAAAAAAAAAAAAAAAAAAAAAAAAAAAAAAA",
          "dtype": "f8"
         }
        }
       ],
       "layout": {
        "legend": {
         "title": {
          "text": "Snøtykkelse"
         }
        },
        "template": {
         "data": {
          "bar": [
           {
            "error_x": {
             "color": "#2a3f5f"
            },
            "error_y": {
             "color": "#2a3f5f"
            },
            "marker": {
             "line": {
              "color": "#E5ECF6",
              "width": 0.5
             },
             "pattern": {
              "fillmode": "overlay",
              "size": 10,
              "solidity": 0.2
             }
            },
            "type": "bar"
           }
          ],
          "barpolar": [
           {
            "marker": {
             "line": {
              "color": "#E5ECF6",
              "width": 0.5
             },
             "pattern": {
              "fillmode": "overlay",
              "size": 10,
              "solidity": 0.2
             }
            },
            "type": "barpolar"
           }
          ],
          "carpet": [
           {
            "aaxis": {
             "endlinecolor": "#2a3f5f",
             "gridcolor": "white",
             "linecolor": "white",
             "minorgridcolor": "white",
             "startlinecolor": "#2a3f5f"
            },
            "baxis": {
             "endlinecolor": "#2a3f5f",
             "gridcolor": "white",
             "linecolor": "white",
             "minorgridcolor": "white",
             "startlinecolor": "#2a3f5f"
            },
            "type": "carpet"
           }
          ],
          "choropleth": [
           {
            "colorbar": {
             "outlinewidth": 0,
             "ticks": ""
            },
            "type": "choropleth"
           }
          ],
          "contour": [
           {
            "colorbar": {
             "outlinewidth": 0,
             "ticks": ""
            },
            "colorscale": [
             [
              0,
              "#0d0887"
             ],
             [
              0.1111111111111111,
              "#46039f"
             ],
             [
              0.2222222222222222,
              "#7201a8"
             ],
             [
              0.3333333333333333,
              "#9c179e"
             ],
             [
              0.4444444444444444,
              "#bd3786"
             ],
             [
              0.5555555555555556,
              "#d8576b"
             ],
             [
              0.6666666666666666,
              "#ed7953"
             ],
             [
              0.7777777777777778,
              "#fb9f3a"
             ],
             [
              0.8888888888888888,
              "#fdca26"
             ],
             [
              1,
              "#f0f921"
             ]
            ],
            "type": "contour"
           }
          ],
          "contourcarpet": [
           {
            "colorbar": {
             "outlinewidth": 0,
             "ticks": ""
            },
            "type": "contourcarpet"
           }
          ],
          "heatmap": [
           {
            "colorbar": {
             "outlinewidth": 0,
             "ticks": ""
            },
            "colorscale": [
             [
              0,
              "#0d0887"
             ],
             [
              0.1111111111111111,
              "#46039f"
             ],
             [
              0.2222222222222222,
              "#7201a8"
             ],
             [
              0.3333333333333333,
              "#9c179e"
             ],
             [
              0.4444444444444444,
              "#bd3786"
             ],
             [
              0.5555555555555556,
              "#d8576b"
             ],
             [
              0.6666666666666666,
              "#ed7953"
             ],
             [
              0.7777777777777778,
              "#fb9f3a"
             ],
             [
              0.8888888888888888,
              "#fdca26"
             ],
             [
              1,
              "#f0f921"
             ]
            ],
            "type": "heatmap"
           }
          ],
          "histogram": [
           {
            "marker": {
             "pattern": {
              "fillmode": "overlay",
              "size": 10,
              "solidity": 0.2
             }
            },
            "type": "histogram"
           }
          ],
          "histogram2d": [
           {
            "colorbar": {
             "outlinewidth": 0,
             "ticks": ""
            },
            "colorscale": [
             [
              0,
              "#0d0887"
             ],
             [
              0.1111111111111111,
              "#46039f"
             ],
             [
              0.2222222222222222,
              "#7201a8"
             ],
             [
              0.3333333333333333,
              "#9c179e"
             ],
             [
              0.4444444444444444,
              "#bd3786"
             ],
             [
              0.5555555555555556,
              "#d8576b"
             ],
             [
              0.6666666666666666,
              "#ed7953"
             ],
             [
              0.7777777777777778,
              "#fb9f3a"
             ],
             [
              0.8888888888888888,
              "#fdca26"
             ],
             [
              1,
              "#f0f921"
             ]
            ],
            "type": "histogram2d"
           }
          ],
          "histogram2dcontour": [
           {
            "colorbar": {
             "outlinewidth": 0,
             "ticks": ""
            },
            "colorscale": [
             [
              0,
              "#0d0887"
             ],
             [
              0.1111111111111111,
              "#46039f"
             ],
             [
              0.2222222222222222,
              "#7201a8"
             ],
             [
              0.3333333333333333,
              "#9c179e"
             ],
             [
              0.4444444444444444,
              "#bd3786"
             ],
             [
              0.5555555555555556,
              "#d8576b"
             ],
             [
              0.6666666666666666,
              "#ed7953"
             ],
             [
              0.7777777777777778,
              "#fb9f3a"
             ],
             [
              0.8888888888888888,
              "#fdca26"
             ],
             [
              1,
              "#f0f921"
             ]
            ],
            "type": "histogram2dcontour"
           }
          ],
          "mesh3d": [
           {
            "colorbar": {
             "outlinewidth": 0,
             "ticks": ""
            },
            "type": "mesh3d"
           }
          ],
          "parcoords": [
           {
            "line": {
             "colorbar": {
              "outlinewidth": 0,
              "ticks": ""
             }
            },
            "type": "parcoords"
           }
          ],
          "pie": [
           {
            "automargin": true,
            "type": "pie"
           }
          ],
          "scatter": [
           {
            "fillpattern": {
             "fillmode": "overlay",
             "size": 10,
             "solidity": 0.2
            },
            "type": "scatter"
           }
          ],
          "scatter3d": [
           {
            "line": {
             "colorbar": {
              "outlinewidth": 0,
              "ticks": ""
             }
            },
            "marker": {
             "colorbar": {
              "outlinewidth": 0,
              "ticks": ""
             }
            },
            "type": "scatter3d"
           }
          ],
          "scattercarpet": [
           {
            "marker": {
             "colorbar": {
              "outlinewidth": 0,
              "ticks": ""
             }
            },
            "type": "scattercarpet"
           }
          ],
          "scattergeo": [
           {
            "marker": {
             "colorbar": {
              "outlinewidth": 0,
              "ticks": ""
             }
            },
            "type": "scattergeo"
           }
          ],
          "scattergl": [
           {
            "marker": {
             "colorbar": {
              "outlinewidth": 0,
              "ticks": ""
             }
            },
            "type": "scattergl"
           }
          ],
          "scattermap": [
           {
            "marker": {
             "colorbar": {
              "outlinewidth": 0,
              "ticks": ""
             }
            },
            "type": "scattermap"
           }
          ],
          "scattermapbox": [
           {
            "marker": {
             "colorbar": {
              "outlinewidth": 0,
              "ticks": ""
             }
            },
            "type": "scattermapbox"
           }
          ],
          "scatterpolar": [
           {
            "marker": {
             "colorbar": {
              "outlinewidth": 0,
              "ticks": ""
             }
            },
            "type": "scatterpolar"
           }
          ],
          "scatterpolargl": [
           {
            "marker": {
             "colorbar": {
              "outlinewidth": 0,
              "ticks": ""
             }
            },
            "type": "scatterpolargl"
           }
          ],
          "scatterternary": [
           {
            "marker": {
             "colorbar": {
              "outlinewidth": 0,
              "ticks": ""
             }
            },
            "type": "scatterternary"
           }
          ],
          "surface": [
           {
            "colorbar": {
             "outlinewidth": 0,
             "ticks": ""
            },
            "colorscale": [
             [
              0,
              "#0d0887"
             ],
             [
              0.1111111111111111,
              "#46039f"
             ],
             [
              0.2222222222222222,
              "#7201a8"
             ],
             [
              0.3333333333333333,
              "#9c179e"
             ],
             [
              0.4444444444444444,
              "#bd3786"
             ],
             [
              0.5555555555555556,
              "#d8576b"
             ],
             [
              0.6666666666666666,
              "#ed7953"
             ],
             [
              0.7777777777777778,
              "#fb9f3a"
             ],
             [
              0.8888888888888888,
              "#fdca26"
             ],
             [
              1,
              "#f0f921"
             ]
            ],
            "type": "surface"
           }
          ],
          "table": [
           {
            "cells": {
             "fill": {
              "color": "#EBF0F8"
             },
             "line": {
              "color": "white"
             }
            },
            "header": {
             "fill": {
              "color": "#C8D4E3"
             },
             "line": {
              "color": "white"
             }
            },
            "type": "table"
           }
          ]
         },
         "layout": {
          "annotationdefaults": {
           "arrowcolor": "#2a3f5f",
           "arrowhead": 0,
           "arrowwidth": 1
          },
          "autotypenumbers": "strict",
          "coloraxis": {
           "colorbar": {
            "outlinewidth": 0,
            "ticks": ""
           }
          },
          "colorscale": {
           "diverging": [
            [
             0,
             "#8e0152"
            ],
            [
             0.1,
             "#c51b7d"
            ],
            [
             0.2,
             "#de77ae"
            ],
            [
             0.3,
             "#f1b6da"
            ],
            [
             0.4,
             "#fde0ef"
            ],
            [
             0.5,
             "#f7f7f7"
            ],
            [
             0.6,
             "#e6f5d0"
            ],
            [
             0.7,
             "#b8e186"
            ],
            [
             0.8,
             "#7fbc41"
            ],
            [
             0.9,
             "#4d9221"
            ],
            [
             1,
             "#276419"
            ]
           ],
           "sequential": [
            [
             0,
             "#0d0887"
            ],
            [
             0.1111111111111111,
             "#46039f"
            ],
            [
             0.2222222222222222,
             "#7201a8"
            ],
            [
             0.3333333333333333,
             "#9c179e"
            ],
            [
             0.4444444444444444,
             "#bd3786"
            ],
            [
             0.5555555555555556,
             "#d8576b"
            ],
            [
             0.6666666666666666,
             "#ed7953"
            ],
            [
             0.7777777777777778,
             "#fb9f3a"
            ],
            [
             0.8888888888888888,
             "#fdca26"
            ],
            [
             1,
             "#f0f921"
            ]
           ],
           "sequentialminus": [
            [
             0,
             "#0d0887"
            ],
            [
             0.1111111111111111,
             "#46039f"
            ],
            [
             0.2222222222222222,
             "#7201a8"
            ],
            [
             0.3333333333333333,
             "#9c179e"
            ],
            [
             0.4444444444444444,
             "#bd3786"
            ],
            [
             0.5555555555555556,
             "#d8576b"
            ],
            [
             0.6666666666666666,
             "#ed7953"
            ],
            [
             0.7777777777777778,
             "#fb9f3a"
            ],
            [
             0.8888888888888888,
             "#fdca26"
            ],
            [
             1,
             "#f0f921"
            ]
           ]
          },
          "colorway": [
           "#636efa",
           "#EF553B",
           "#00cc96",
           "#ab63fa",
           "#FFA15A",
           "#19d3f3",
           "#FF6692",
           "#B6E880",
           "#FF97FF",
           "#FECB52"
          ],
          "font": {
           "color": "#2a3f5f"
          },
          "geo": {
           "bgcolor": "white",
           "lakecolor": "white",
           "landcolor": "#E5ECF6",
           "showlakes": true,
           "showland": true,
           "subunitcolor": "white"
          },
          "hoverlabel": {
           "align": "left"
          },
          "hovermode": "closest",
          "mapbox": {
           "style": "light"
          },
          "paper_bgcolor": "white",
          "plot_bgcolor": "#E5ECF6",
          "polar": {
           "angularaxis": {
            "gridcolor": "white",
            "linecolor": "white",
            "ticks": ""
           },
           "bgcolor": "#E5ECF6",
           "radialaxis": {
            "gridcolor": "white",
            "linecolor": "white",
            "ticks": ""
           }
          },
          "scene": {
           "xaxis": {
            "backgroundcolor": "#E5ECF6",
            "gridcolor": "white",
            "gridwidth": 2,
            "linecolor": "white",
            "showbackground": true,
            "ticks": "",
            "zerolinecolor": "white"
           },
           "yaxis": {
            "backgroundcolor": "#E5ECF6",
            "gridcolor": "white",
            "gridwidth": 2,
            "linecolor": "white",
            "showbackground": true,
            "ticks": "",
            "zerolinecolor": "white"
           },
           "zaxis": {
            "backgroundcolor": "#E5ECF6",
            "gridcolor": "white",
            "gridwidth": 2,
            "linecolor": "white",
            "showbackground": true,
            "ticks": "",
            "zerolinecolor": "white"
           }
          },
          "shapedefaults": {
           "line": {
            "color": "#2a3f5f"
           }
          },
          "ternary": {
           "aaxis": {
            "gridcolor": "white",
            "linecolor": "white",
            "ticks": ""
           },
           "baxis": {
            "gridcolor": "white",
            "linecolor": "white",
            "ticks": ""
           },
           "bgcolor": "#E5ECF6",
           "caxis": {
            "gridcolor": "white",
            "linecolor": "white",
            "ticks": ""
           }
          },
          "title": {
           "x": 0.05
          },
          "xaxis": {
           "automargin": true,
           "gridcolor": "white",
           "linecolor": "white",
           "ticks": "",
           "title": {
            "standoff": 15
           },
           "zerolinecolor": "white",
           "zerolinewidth": 2
          },
          "yaxis": {
           "automargin": true,
           "gridcolor": "white",
           "linecolor": "white",
           "ticks": "",
           "title": {
            "standoff": 15
           },
           "zerolinecolor": "white",
           "zerolinewidth": 2
          }
         }
        },
        "title": {
         "text": "Snøtykkelse over tid i telemark"
        },
        "xaxis": {
         "title": {
          "text": "Dato"
         }
        },
        "yaxis": {
         "title": {
          "text": "Snøtykkelse (cm)"
         }
        }
       }
      }
     },
     "metadata": {},
     "output_type": "display_data"
    },
    {
     "name": "stdout",
     "output_type": "stream",
     "text": [
      "\n",
      "Snøtykkelse:\n",
      "Median: 17.50, Standardavvik: 13.62\n"
     ]
    },
    {
     "data": {
      "application/vnd.plotly.v1+json": {
       "config": {
        "plotlyServerURL": "https://plot.ly"
       },
       "data": [
        {
         "line": {
          "color": "#1f77b4"
         },
         "mode": "lines",
         "name": "Luftfuktighet i telemark",
         "type": "scatter",
         "x": [
          "2025-03-09T00:00:00+00:00",
          "2025-03-10T00:00:00+00:00",
          "2025-03-11T00:00:00+00:00",
          "2025-03-12T00:00:00+00:00",
          "2025-03-13T00:00:00+00:00",
          "2025-03-14T00:00:00+00:00",
          "2025-03-15T00:00:00+00:00",
          "2025-03-16T00:00:00+00:00",
          "2025-03-17T00:00:00+00:00",
          "2025-03-18T00:00:00+00:00",
          "2025-03-19T00:00:00+00:00",
          "2025-03-20T00:00:00+00:00",
          "2025-03-21T00:00:00+00:00",
          "2025-03-22T00:00:00+00:00",
          "2025-03-23T00:00:00+00:00",
          "2025-03-24T00:00:00+00:00",
          "2025-03-25T00:00:00+00:00",
          "2025-03-26T00:00:00+00:00",
          "2025-03-27T00:00:00+00:00",
          "2025-03-28T00:00:00+00:00",
          "2025-03-29T00:00:00+00:00",
          "2025-03-30T00:00:00+00:00",
          "2025-03-31T00:00:00+00:00",
          "2025-04-01T00:00:00+00:00",
          "2025-04-02T00:00:00+00:00",
          "2025-04-03T00:00:00+00:00",
          "2025-04-04T00:00:00+00:00",
          "2025-04-05T00:00:00+00:00",
          "2025-04-06T00:00:00+00:00",
          "2025-04-07T00:00:00+00:00"
         ],
         "y": {
          "bdata": "AAAAAABAV0AAAAAAAIBVQAAAAAAAQFRAAAAAAACAUkAAAAAAAEBQQAAAAAAAAFBAAAAAAABAUEAAAAAAAABIQAAAAAAAgE1AAAAAAACATkAAAAAAAIBOQAAAAAAAAE9AAAAAAACAUUAAAAAAAIBTQAAAAAAAgFFAAAAAAAAAU0AAAAAAAMBQQAAAAAAAAE9AAAAAAAAAUUAAAAAAAIBSQAAAAAAAwFBAAAAAAABAVUAAAAAAAIBMQAAAAAAAAFBAAAAAAAAAUkAAAAAAAIBNQAAAAAAAAElAAAAAAACASUAAAAAAAIBNQAAAAAAAAFBA",
          "dtype": "f8"
         }
        },
        {
         "line": {
          "color": "#1f77b4",
          "dash": "dash"
         },
         "mode": "lines",
         "name": "Gjennomsnittlig luftfuktighet i telemark",
         "type": "scatter",
         "x": [
          "2025-03-09T00:00:00+00:00",
          "2025-03-10T00:00:00+00:00",
          "2025-03-11T00:00:00+00:00",
          "2025-03-12T00:00:00+00:00",
          "2025-03-13T00:00:00+00:00",
          "2025-03-14T00:00:00+00:00",
          "2025-03-15T00:00:00+00:00",
          "2025-03-16T00:00:00+00:00",
          "2025-03-17T00:00:00+00:00",
          "2025-03-18T00:00:00+00:00",
          "2025-03-19T00:00:00+00:00",
          "2025-03-20T00:00:00+00:00",
          "2025-03-21T00:00:00+00:00",
          "2025-03-22T00:00:00+00:00",
          "2025-03-23T00:00:00+00:00",
          "2025-03-24T00:00:00+00:00",
          "2025-03-25T00:00:00+00:00",
          "2025-03-26T00:00:00+00:00",
          "2025-03-27T00:00:00+00:00",
          "2025-03-28T00:00:00+00:00",
          "2025-03-29T00:00:00+00:00",
          "2025-03-30T00:00:00+00:00",
          "2025-03-31T00:00:00+00:00",
          "2025-04-01T00:00:00+00:00",
          "2025-04-02T00:00:00+00:00",
          "2025-04-03T00:00:00+00:00",
          "2025-04-04T00:00:00+00:00",
          "2025-04-05T00:00:00+00:00",
          "2025-04-06T00:00:00+00:00",
          "2025-04-07T00:00:00+00:00"
         ],
         "y": [
          67.06666666666666,
          67.06666666666666,
          67.06666666666666,
          67.06666666666666,
          67.06666666666666,
          67.06666666666666,
          67.06666666666666,
          67.06666666666666,
          67.06666666666666,
          67.06666666666666,
          67.06666666666666,
          67.06666666666666,
          67.06666666666666,
          67.06666666666666,
          67.06666666666666,
          67.06666666666666,
          67.06666666666666,
          67.06666666666666,
          67.06666666666666,
          67.06666666666666,
          67.06666666666666,
          67.06666666666666,
          67.06666666666666,
          67.06666666666666,
          67.06666666666666,
          67.06666666666666,
          67.06666666666666,
          67.06666666666666,
          67.06666666666666,
          67.06666666666666
         ]
        }
       ],
       "layout": {
        "legend": {
         "title": {
          "text": "Luftfuktighet"
         }
        },
        "template": {
         "data": {
          "bar": [
           {
            "error_x": {
             "color": "#2a3f5f"
            },
            "error_y": {
             "color": "#2a3f5f"
            },
            "marker": {
             "line": {
              "color": "#E5ECF6",
              "width": 0.5
             },
             "pattern": {
              "fillmode": "overlay",
              "size": 10,
              "solidity": 0.2
             }
            },
            "type": "bar"
           }
          ],
          "barpolar": [
           {
            "marker": {
             "line": {
              "color": "#E5ECF6",
              "width": 0.5
             },
             "pattern": {
              "fillmode": "overlay",
              "size": 10,
              "solidity": 0.2
             }
            },
            "type": "barpolar"
           }
          ],
          "carpet": [
           {
            "aaxis": {
             "endlinecolor": "#2a3f5f",
             "gridcolor": "white",
             "linecolor": "white",
             "minorgridcolor": "white",
             "startlinecolor": "#2a3f5f"
            },
            "baxis": {
             "endlinecolor": "#2a3f5f",
             "gridcolor": "white",
             "linecolor": "white",
             "minorgridcolor": "white",
             "startlinecolor": "#2a3f5f"
            },
            "type": "carpet"
           }
          ],
          "choropleth": [
           {
            "colorbar": {
             "outlinewidth": 0,
             "ticks": ""
            },
            "type": "choropleth"
           }
          ],
          "contour": [
           {
            "colorbar": {
             "outlinewidth": 0,
             "ticks": ""
            },
            "colorscale": [
             [
              0,
              "#0d0887"
             ],
             [
              0.1111111111111111,
              "#46039f"
             ],
             [
              0.2222222222222222,
              "#7201a8"
             ],
             [
              0.3333333333333333,
              "#9c179e"
             ],
             [
              0.4444444444444444,
              "#bd3786"
             ],
             [
              0.5555555555555556,
              "#d8576b"
             ],
             [
              0.6666666666666666,
              "#ed7953"
             ],
             [
              0.7777777777777778,
              "#fb9f3a"
             ],
             [
              0.8888888888888888,
              "#fdca26"
             ],
             [
              1,
              "#f0f921"
             ]
            ],
            "type": "contour"
           }
          ],
          "contourcarpet": [
           {
            "colorbar": {
             "outlinewidth": 0,
             "ticks": ""
            },
            "type": "contourcarpet"
           }
          ],
          "heatmap": [
           {
            "colorbar": {
             "outlinewidth": 0,
             "ticks": ""
            },
            "colorscale": [
             [
              0,
              "#0d0887"
             ],
             [
              0.1111111111111111,
              "#46039f"
             ],
             [
              0.2222222222222222,
              "#7201a8"
             ],
             [
              0.3333333333333333,
              "#9c179e"
             ],
             [
              0.4444444444444444,
              "#bd3786"
             ],
             [
              0.5555555555555556,
              "#d8576b"
             ],
             [
              0.6666666666666666,
              "#ed7953"
             ],
             [
              0.7777777777777778,
              "#fb9f3a"
             ],
             [
              0.8888888888888888,
              "#fdca26"
             ],
             [
              1,
              "#f0f921"
             ]
            ],
            "type": "heatmap"
           }
          ],
          "histogram": [
           {
            "marker": {
             "pattern": {
              "fillmode": "overlay",
              "size": 10,
              "solidity": 0.2
             }
            },
            "type": "histogram"
           }
          ],
          "histogram2d": [
           {
            "colorbar": {
             "outlinewidth": 0,
             "ticks": ""
            },
            "colorscale": [
             [
              0,
              "#0d0887"
             ],
             [
              0.1111111111111111,
              "#46039f"
             ],
             [
              0.2222222222222222,
              "#7201a8"
             ],
             [
              0.3333333333333333,
              "#9c179e"
             ],
             [
              0.4444444444444444,
              "#bd3786"
             ],
             [
              0.5555555555555556,
              "#d8576b"
             ],
             [
              0.6666666666666666,
              "#ed7953"
             ],
             [
              0.7777777777777778,
              "#fb9f3a"
             ],
             [
              0.8888888888888888,
              "#fdca26"
             ],
             [
              1,
              "#f0f921"
             ]
            ],
            "type": "histogram2d"
           }
          ],
          "histogram2dcontour": [
           {
            "colorbar": {
             "outlinewidth": 0,
             "ticks": ""
            },
            "colorscale": [
             [
              0,
              "#0d0887"
             ],
             [
              0.1111111111111111,
              "#46039f"
             ],
             [
              0.2222222222222222,
              "#7201a8"
             ],
             [
              0.3333333333333333,
              "#9c179e"
             ],
             [
              0.4444444444444444,
              "#bd3786"
             ],
             [
              0.5555555555555556,
              "#d8576b"
             ],
             [
              0.6666666666666666,
              "#ed7953"
             ],
             [
              0.7777777777777778,
              "#fb9f3a"
             ],
             [
              0.8888888888888888,
              "#fdca26"
             ],
             [
              1,
              "#f0f921"
             ]
            ],
            "type": "histogram2dcontour"
           }
          ],
          "mesh3d": [
           {
            "colorbar": {
             "outlinewidth": 0,
             "ticks": ""
            },
            "type": "mesh3d"
           }
          ],
          "parcoords": [
           {
            "line": {
             "colorbar": {
              "outlinewidth": 0,
              "ticks": ""
             }
            },
            "type": "parcoords"
           }
          ],
          "pie": [
           {
            "automargin": true,
            "type": "pie"
           }
          ],
          "scatter": [
           {
            "fillpattern": {
             "fillmode": "overlay",
             "size": 10,
             "solidity": 0.2
            },
            "type": "scatter"
           }
          ],
          "scatter3d": [
           {
            "line": {
             "colorbar": {
              "outlinewidth": 0,
              "ticks": ""
             }
            },
            "marker": {
             "colorbar": {
              "outlinewidth": 0,
              "ticks": ""
             }
            },
            "type": "scatter3d"
           }
          ],
          "scattercarpet": [
           {
            "marker": {
             "colorbar": {
              "outlinewidth": 0,
              "ticks": ""
             }
            },
            "type": "scattercarpet"
           }
          ],
          "scattergeo": [
           {
            "marker": {
             "colorbar": {
              "outlinewidth": 0,
              "ticks": ""
             }
            },
            "type": "scattergeo"
           }
          ],
          "scattergl": [
           {
            "marker": {
             "colorbar": {
              "outlinewidth": 0,
              "ticks": ""
             }
            },
            "type": "scattergl"
           }
          ],
          "scattermap": [
           {
            "marker": {
             "colorbar": {
              "outlinewidth": 0,
              "ticks": ""
             }
            },
            "type": "scattermap"
           }
          ],
          "scattermapbox": [
           {
            "marker": {
             "colorbar": {
              "outlinewidth": 0,
              "ticks": ""
             }
            },
            "type": "scattermapbox"
           }
          ],
          "scatterpolar": [
           {
            "marker": {
             "colorbar": {
              "outlinewidth": 0,
              "ticks": ""
             }
            },
            "type": "scatterpolar"
           }
          ],
          "scatterpolargl": [
           {
            "marker": {
             "colorbar": {
              "outlinewidth": 0,
              "ticks": ""
             }
            },
            "type": "scatterpolargl"
           }
          ],
          "scatterternary": [
           {
            "marker": {
             "colorbar": {
              "outlinewidth": 0,
              "ticks": ""
             }
            },
            "type": "scatterternary"
           }
          ],
          "surface": [
           {
            "colorbar": {
             "outlinewidth": 0,
             "ticks": ""
            },
            "colorscale": [
             [
              0,
              "#0d0887"
             ],
             [
              0.1111111111111111,
              "#46039f"
             ],
             [
              0.2222222222222222,
              "#7201a8"
             ],
             [
              0.3333333333333333,
              "#9c179e"
             ],
             [
              0.4444444444444444,
              "#bd3786"
             ],
             [
              0.5555555555555556,
              "#d8576b"
             ],
             [
              0.6666666666666666,
              "#ed7953"
             ],
             [
              0.7777777777777778,
              "#fb9f3a"
             ],
             [
              0.8888888888888888,
              "#fdca26"
             ],
             [
              1,
              "#f0f921"
             ]
            ],
            "type": "surface"
           }
          ],
          "table": [
           {
            "cells": {
             "fill": {
              "color": "#EBF0F8"
             },
             "line": {
              "color": "white"
             }
            },
            "header": {
             "fill": {
              "color": "#C8D4E3"
             },
             "line": {
              "color": "white"
             }
            },
            "type": "table"
           }
          ]
         },
         "layout": {
          "annotationdefaults": {
           "arrowcolor": "#2a3f5f",
           "arrowhead": 0,
           "arrowwidth": 1
          },
          "autotypenumbers": "strict",
          "coloraxis": {
           "colorbar": {
            "outlinewidth": 0,
            "ticks": ""
           }
          },
          "colorscale": {
           "diverging": [
            [
             0,
             "#8e0152"
            ],
            [
             0.1,
             "#c51b7d"
            ],
            [
             0.2,
             "#de77ae"
            ],
            [
             0.3,
             "#f1b6da"
            ],
            [
             0.4,
             "#fde0ef"
            ],
            [
             0.5,
             "#f7f7f7"
            ],
            [
             0.6,
             "#e6f5d0"
            ],
            [
             0.7,
             "#b8e186"
            ],
            [
             0.8,
             "#7fbc41"
            ],
            [
             0.9,
             "#4d9221"
            ],
            [
             1,
             "#276419"
            ]
           ],
           "sequential": [
            [
             0,
             "#0d0887"
            ],
            [
             0.1111111111111111,
             "#46039f"
            ],
            [
             0.2222222222222222,
             "#7201a8"
            ],
            [
             0.3333333333333333,
             "#9c179e"
            ],
            [
             0.4444444444444444,
             "#bd3786"
            ],
            [
             0.5555555555555556,
             "#d8576b"
            ],
            [
             0.6666666666666666,
             "#ed7953"
            ],
            [
             0.7777777777777778,
             "#fb9f3a"
            ],
            [
             0.8888888888888888,
             "#fdca26"
            ],
            [
             1,
             "#f0f921"
            ]
           ],
           "sequentialminus": [
            [
             0,
             "#0d0887"
            ],
            [
             0.1111111111111111,
             "#46039f"
            ],
            [
             0.2222222222222222,
             "#7201a8"
            ],
            [
             0.3333333333333333,
             "#9c179e"
            ],
            [
             0.4444444444444444,
             "#bd3786"
            ],
            [
             0.5555555555555556,
             "#d8576b"
            ],
            [
             0.6666666666666666,
             "#ed7953"
            ],
            [
             0.7777777777777778,
             "#fb9f3a"
            ],
            [
             0.8888888888888888,
             "#fdca26"
            ],
            [
             1,
             "#f0f921"
            ]
           ]
          },
          "colorway": [
           "#636efa",
           "#EF553B",
           "#00cc96",
           "#ab63fa",
           "#FFA15A",
           "#19d3f3",
           "#FF6692",
           "#B6E880",
           "#FF97FF",
           "#FECB52"
          ],
          "font": {
           "color": "#2a3f5f"
          },
          "geo": {
           "bgcolor": "white",
           "lakecolor": "white",
           "landcolor": "#E5ECF6",
           "showlakes": true,
           "showland": true,
           "subunitcolor": "white"
          },
          "hoverlabel": {
           "align": "left"
          },
          "hovermode": "closest",
          "mapbox": {
           "style": "light"
          },
          "paper_bgcolor": "white",
          "plot_bgcolor": "#E5ECF6",
          "polar": {
           "angularaxis": {
            "gridcolor": "white",
            "linecolor": "white",
            "ticks": ""
           },
           "bgcolor": "#E5ECF6",
           "radialaxis": {
            "gridcolor": "white",
            "linecolor": "white",
            "ticks": ""
           }
          },
          "scene": {
           "xaxis": {
            "backgroundcolor": "#E5ECF6",
            "gridcolor": "white",
            "gridwidth": 2,
            "linecolor": "white",
            "showbackground": true,
            "ticks": "",
            "zerolinecolor": "white"
           },
           "yaxis": {
            "backgroundcolor": "#E5ECF6",
            "gridcolor": "white",
            "gridwidth": 2,
            "linecolor": "white",
            "showbackground": true,
            "ticks": "",
            "zerolinecolor": "white"
           },
           "zaxis": {
            "backgroundcolor": "#E5ECF6",
            "gridcolor": "white",
            "gridwidth": 2,
            "linecolor": "white",
            "showbackground": true,
            "ticks": "",
            "zerolinecolor": "white"
           }
          },
          "shapedefaults": {
           "line": {
            "color": "#2a3f5f"
           }
          },
          "ternary": {
           "aaxis": {
            "gridcolor": "white",
            "linecolor": "white",
            "ticks": ""
           },
           "baxis": {
            "gridcolor": "white",
            "linecolor": "white",
            "ticks": ""
           },
           "bgcolor": "#E5ECF6",
           "caxis": {
            "gridcolor": "white",
            "linecolor": "white",
            "ticks": ""
           }
          },
          "title": {
           "x": 0.05
          },
          "xaxis": {
           "automargin": true,
           "gridcolor": "white",
           "linecolor": "white",
           "ticks": "",
           "title": {
            "standoff": 15
           },
           "zerolinecolor": "white",
           "zerolinewidth": 2
          },
          "yaxis": {
           "automargin": true,
           "gridcolor": "white",
           "linecolor": "white",
           "ticks": "",
           "title": {
            "standoff": 15
           },
           "zerolinecolor": "white",
           "zerolinewidth": 2
          }
         }
        },
        "title": {
         "text": "Luftfuktighet over tid i telemark"
        },
        "xaxis": {
         "title": {
          "text": "Dato"
         }
        },
        "yaxis": {
         "title": {
          "text": "Relativ luftfuktighet (%)"
         }
        }
       }
      }
     },
     "metadata": {},
     "output_type": "display_data"
    },
    {
     "name": "stdout",
     "output_type": "stream",
     "text": [
      "\n",
      "Relativ luftfuktighet:\n",
      "Median: 65.00, Standardavvik: 10.60\n"
     ]
    }
   ],
   "source": [
    "import pandas as pd\n",
    "import plotly.graph_objects as go\n",
    "import sqlite3\n",
    "\n",
    "# Bruker den eksisterende variabelen location_input som bynavn\n",
    "city_name = location_input\n",
    "\n",
    "# Konverterer referansetiden til datetime\n",
    "df['referenceTime'] = pd.to_datetime(df['referenceTime'])\n",
    "\n",
    "# Oppretter en SQLite-database i minnet\n",
    "conn = sqlite3.connect(\":memory:\")\n",
    "\n",
    "# Leser CSV-filen og lagrer den i SQLite-databasen\n",
    "csv_filename = \"../src/weather_data.csv\"\n",
    "df_csv = pd.read_csv(csv_filename)\n",
    "df_csv.to_sql(\"weather_data\", conn, index=False, if_exists=\"replace\")\n",
    "\n",
    "# SQL-spørring for å hente data\n",
    "query = \"\"\"\n",
    "SELECT * \n",
    "FROM weather_data\n",
    "WHERE elementId = 'mean(air_temperature P1D)'\n",
    "\"\"\"\n",
    "temperature_data = pd.read_sql_query(query, conn)\n",
    "\n",
    "# Konverterer referansetiden til datetime\n",
    "temperature_data['referenceTime'] = pd.to_datetime(temperature_data['referenceTime'])\n",
    "\n",
    "# Gjør det samme for andre elementer (nedbør og vindhastighet)\n",
    "query_precip = \"\"\"\n",
    "SELECT * \n",
    "FROM weather_data\n",
    "WHERE elementId = 'sum(precipitation_amount P1D)'\n",
    "\"\"\"\n",
    "precipitation_data = pd.read_sql_query(query_precip, conn)\n",
    "\n",
    "query_wind = \"\"\"\n",
    "SELECT * \n",
    "FROM weather_data\n",
    "WHERE elementId = 'mean(wind_speed P1D)'\n",
    "\"\"\"\n",
    "wind_speed_data = pd.read_sql_query(query_wind, conn)\n",
    "\n",
    "# Lukk tilkoblingen til databasen\n",
    "conn.close()\n",
    "\n",
    "# Definerer farger for grafene\n",
    "color_location = '#1f77b4'  # Blå for lokasjonen\n",
    "\n",
    "# Leser data fra weather_data.csv\n",
    "csv_filename = \"../src/weather_data.csv\"\n",
    "df_csv = pd.read_csv(csv_filename)\n",
    "\n",
    "# Filtrerer data for temperatur\n",
    "temperature_data = df_csv[df_csv['elementId'] == 'mean(air_temperature P1D)']\n",
    "temperature_data.loc[:, 'referenceTime'] = pd.to_datetime(temperature_data['referenceTime'])\n",
    "# Beregninger for temperatur\n",
    "median_temp = temperature_data['value'].median()\n",
    "std_temp = temperature_data['value'].std()\n",
    "\n",
    "# Filtrerer data for nedbør\n",
    "precipitation_data = df_csv[df_csv['elementId'] == 'sum(precipitation_amount P1D)']\n",
    "precipitation_data.loc[:, 'referenceTime'] = pd.to_datetime(precipitation_data['referenceTime'])\n",
    "# Beregninger for nedbør\n",
    "median_precip = precipitation_data['value'].median()\n",
    "std_precip = precipitation_data['value'].std()\n",
    "\n",
    "# Filtrerer data for vindhastighet\n",
    "wind_speed_data = df_csv[df_csv['elementId'] == 'mean(wind_speed P1D)']\n",
    "wind_speed_data.loc[:, 'referenceTime'] = pd.to_datetime(wind_speed_data['referenceTime'])\n",
    "# Beregninger for vindhastighet\n",
    "median_wind = wind_speed_data['value'].median()\n",
    "std_wind = wind_speed_data['value'].std()\n",
    "\n",
    "# Temperaturfigur\n",
    "fig_temp = go.Figure()\n",
    "\n",
    "# Temperaturdata\n",
    "fig_temp.add_trace(go.Scatter(\n",
    "    x=temperature_data['referenceTime'],\n",
    "    y=temperature_data['value'],\n",
    "    mode='lines',\n",
    "    name=f'Temperatur i {city_name}',\n",
    "    line=dict(color=color_location)\n",
    "))\n",
    "\n",
    "# Gjennomsnittstemperatur\n",
    "mean_temp = temperature_data['value'].mean()\n",
    "fig_temp.add_trace(go.Scatter(\n",
    "    x=temperature_data['referenceTime'],\n",
    "    y=[mean_temp] * len(temperature_data['referenceTime']),\n",
    "    mode='lines',\n",
    "    line=dict(dash='dash', color=color_location),\n",
    "    name=f'Gjennomsnittstemperatur i {city_name}'\n",
    "))\n",
    "\n",
    "# Tilpasser layout for temperatur\n",
    "fig_temp.update_layout(\n",
    "    title=f'Temperatur over tid i {city_name}',\n",
    "    xaxis_title='Dato',\n",
    "    yaxis_title='Temperatur (°C)',\n",
    "    legend_title='Temperatur'\n",
    ")\n",
    "\n",
    "# Viser temperaturfigur\n",
    "fig_temp.show()\n",
    "\n",
    "# Utskrift av resultatene for temperatur\n",
    "print(\"Temperatur:\")\n",
    "print(f\"Median: {median_temp:.2f}, Standardavvik: {std_temp:.2f}\")\n",
    "\n",
    "# Nedbørsfigur\n",
    "fig_precip = go.Figure()\n",
    "\n",
    "# Nedbørsdata\n",
    "fig_precip.add_trace(go.Bar(\n",
    "    x=precipitation_data['referenceTime'],\n",
    "    y=precipitation_data['value'],\n",
    "    name=f'Nedbør i {city_name}',\n",
    "    marker=dict(color=color_location)\n",
    "))\n",
    "\n",
    "# Gjennomsnittsnedbør som strek\n",
    "mean_precip = precipitation_data['value'].mean()\n",
    "fig_precip.add_trace(go.Scatter(\n",
    "    x=precipitation_data['referenceTime'],\n",
    "    y=[mean_precip] * len(precipitation_data['referenceTime']),\n",
    "    mode='lines',\n",
    "    line=dict(dash='dash', color='rgba(31, 119, 180, 0.8)'),\n",
    "    name=f'Gjennomsnittsnedbør i {city_name}'\n",
    "))\n",
    "\n",
    "# Tilpasser layout for nedbør\n",
    "fig_precip.update_layout(\n",
    "    title=f'Nedbør over tid i {city_name}',\n",
    "    xaxis_title='Dato',\n",
    "    yaxis_title='Nedbør (mm)',\n",
    "    legend_title='Nedbør'\n",
    ")\n",
    "\n",
    "# Viser nedbørsfigur\n",
    "fig_precip.show()\n",
    "\n",
    "# Utskrift av resultatene for nedbør\n",
    "print(\"\\nNedbør:\")\n",
    "print(f\"Median: {median_precip:.2f}, Standardavvik: {std_precip:.2f}\")\n",
    "\n",
    "# Vindhastighetsfigur\n",
    "fig_wind = go.Figure()\n",
    "\n",
    "# Vindhastighetsdata\n",
    "fig_wind.add_trace(go.Scatter(\n",
    "    x=wind_speed_data['referenceTime'],\n",
    "    y=wind_speed_data['value'],\n",
    "    mode='lines',\n",
    "    name=f'Vindhastighet i {city_name}',\n",
    "    line=dict(color=color_location)\n",
    "))\n",
    "\n",
    "# Gjennomsnittsvindhastighet\n",
    "mean_wind = wind_speed_data['value'].mean()\n",
    "fig_wind.add_trace(go.Scatter(\n",
    "    x=wind_speed_data['referenceTime'],\n",
    "    y=[mean_wind] * len(wind_speed_data['referenceTime']),\n",
    "    mode='lines',\n",
    "    line=dict(dash='dash', color=color_location),\n",
    "    name=f'Gjennomsnittsvindhastighet i {city_name}'\n",
    "))\n",
    "\n",
    "# Tilpasser layout for vindhastighet\n",
    "fig_wind.update_layout(\n",
    "    title=f'Vindhastighet over tid i {city_name}',\n",
    "    xaxis_title='Dato',\n",
    "    yaxis_title='Vindhastighet (m/s)',\n",
    "    legend_title='Vindhastighet'\n",
    ")\n",
    "\n",
    "# Viser vindhastighetsfigur\n",
    "fig_wind.show()\n",
    "\n",
    "# Utskrift av resultatene for vindhastighet\n",
    "print(\"\\nVindhastighet:\")\n",
    "print(f\"Median: {median_wind:.2f}, Standardavvik: {std_wind:.2f}\")\n",
    "\n",
    "# Filtrerer data for snøtykkelse\n",
    "snow_thickness_data = df_csv[df_csv['elementId'] == 'surface_snow_thickness']\n",
    "snow_thickness_data.loc[:, 'referenceTime'] = pd.to_datetime(snow_thickness_data['referenceTime'])\n",
    "\n",
    "# Scatterplott for snøtykkelse\n",
    "fig_snow = go.Figure()\n",
    "\n",
    "fig_snow.add_trace(go.Scatter(\n",
    "    x=snow_thickness_data['referenceTime'],\n",
    "    y=snow_thickness_data['value'],\n",
    "    mode='markers',\n",
    "    name=f'Snøtykkelse i {city_name}',\n",
    "    marker=dict(color=color_location)\n",
    "))\n",
    "\n",
    "# Tilpasser layout for snøtykkelse\n",
    "fig_snow.update_layout(\n",
    "    title=f'Snøtykkelse over tid i {city_name}',\n",
    "    xaxis_title='Dato',\n",
    "    yaxis_title='Snøtykkelse (cm)',\n",
    "    legend_title='Snøtykkelse'\n",
    ")\n",
    "\n",
    "# Viser snøtykkelsefigur\n",
    "fig_snow.show()\n",
    "\n",
    "# Utskrift av resultatene for snøtykkelse\n",
    "print(\"\\nSnøtykkelse:\")\n",
    "print(f\"Median: {snow_thickness_data['value'].median():.2f}, Standardavvik: {snow_thickness_data['value'].std():.2f}\")\n",
    "\n",
    "# Filtrerer data for relativ luftfuktighet\n",
    "humidity_data = df_csv[df_csv['elementId'] == 'mean(relative_humidity P1D)']\n",
    "humidity_data.loc[:, 'referenceTime'] = pd.to_datetime(humidity_data['referenceTime'])\n",
    "\n",
    "# Linjeplott for relativ luftfuktighet\n",
    "fig_humidity = go.Figure()\n",
    "\n",
    "fig_humidity.add_trace(go.Scatter(\n",
    "    x=humidity_data['referenceTime'],\n",
    "    y=humidity_data['value'],\n",
    "    mode='lines',\n",
    "    name=f'Luftfuktighet i {city_name}',\n",
    "    line=dict(color=color_location)\n",
    "))\n",
    "\n",
    "# Gjennomsnittlig luftfuktighet\n",
    "mean_humidity = humidity_data['value'].mean()\n",
    "fig_humidity.add_trace(go.Scatter(\n",
    "    x=humidity_data['referenceTime'],\n",
    "    y=[mean_humidity] * len(humidity_data['referenceTime']),\n",
    "    mode='lines',\n",
    "    line=dict(dash='dash', color=color_location),\n",
    "    name=f'Gjennomsnittlig luftfuktighet i {city_name}'\n",
    "))\n",
    "\n",
    "# Tilpasser layout for luftfuktighet\n",
    "fig_humidity.update_layout(\n",
    "    title=f'Luftfuktighet over tid i {city_name}',\n",
    "    xaxis_title='Dato',\n",
    "    yaxis_title='Relativ luftfuktighet (%)',\n",
    "    legend_title='Luftfuktighet'\n",
    ")\n",
    "\n",
    "# Viser luftfuktighetsfigur\n",
    "fig_humidity.show()\n",
    "\n",
    "# Utskrift av resultatene for luftfuktighet\n",
    "print(\"\\nRelativ luftfuktighet:\")\n",
    "print(f\"Median: {humidity_data['value'].median():.2f}, Standardavvik: {humidity_data['value'].std():.2f}\")"
   ]
  },
  {
   "cell_type": "code",
   "execution_count": 6,
   "metadata": {},
   "outputs": [],
   "source": [
    "#plotter figurene i nettleseren\n",
    "fig_temp.show(renderer=\"browser\")\n",
    "fig_precip.show(renderer=\"browser\")\n",
    "fig_wind.show(renderer=\"browser\")\n",
    "fig_snow.show(renderer=\"browser\")\n",
    "fig_humidity.show(renderer=\"browser\")"
   ]
  }
 ],
 "metadata": {
  "kernelspec": {
   "display_name": "venv",
   "language": "python",
   "name": "python3"
  },
  "language_info": {
   "codemirror_mode": {
    "name": "ipython",
    "version": 3
   },
   "file_extension": ".py",
   "mimetype": "text/x-python",
   "name": "python",
   "nbconvert_exporter": "python",
   "pygments_lexer": "ipython3",
   "version": "3.13.1"
  }
 },
 "nbformat": 4,
 "nbformat_minor": 2
}
