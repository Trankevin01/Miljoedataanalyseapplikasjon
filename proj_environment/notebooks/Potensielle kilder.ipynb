{
 "cells": [
  {
   "cell_type": "code",
   "execution_count": 1,
   "metadata": {},
   "outputs": [
    {
     "name": "stdout",
     "output_type": "stream",
     "text": [
      "Utviklingsmiljøet er klart!\n",
      "Savner deg Martin <3\n",
      "Savner deg og <3\n"
     ]
    }
   ],
   "source": [
    "print(\"Utviklingsmiljøet er klart!\")\n",
    "print(\"Savner deg Martin <3\")\n",
    "print(\"Savner deg og <3\")"
   ]
  },
  {
   "cell_type": "code",
   "execution_count": null,
   "metadata": {},
   "outputs": [],
   "source": [
    "#Internasjonale kilder\n",
    "\n",
    "#NOAA API tilgjengelig og data er relevant P.S virker som de hovedsaklig har amerikansk data\n",
    "\n",
    "#Nasjonale Kilder\n",
    "\n",
    "#SMHI API tilgjengelig og data er relevant\n",
    "#YR API tilgjengelig og data er relevant\n"
   ]
  },
  {
   "cell_type": "code",
   "execution_count": null,
   "metadata": {},
   "outputs": [],
   "source": []
  }
 ],
 "metadata": {
  "kernelspec": {
   "display_name": "Python 3",
   "language": "python",
   "name": "python3"
  },
  "language_info": {
   "codemirror_mode": {
    "name": "ipython",
    "version": 3
   },
   "file_extension": ".py",
   "mimetype": "text/x-python",
   "name": "python",
   "nbconvert_exporter": "python",
   "pygments_lexer": "ipython3",
   "version": "3.13.1"
  }
 },
 "nbformat": 4,
 "nbformat_minor": 2
}
