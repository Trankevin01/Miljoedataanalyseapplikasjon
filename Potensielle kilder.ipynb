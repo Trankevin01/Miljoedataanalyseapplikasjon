{
 "cells": [
  {
   "cell_type": "code",
   "execution_count": 1,
   "metadata": {},
   "outputs": [
    {
     "name": "stdout",
     "output_type": "stream",
     "text": [
      "Utviklingsmiljøet er klart!\n",
      "Savner deg Martin <3\n"
     ]
    }
   ],
   "source": [
    "print(\"Utviklingsmiljøet er klart!\")\n",
    "print(\"Savner deg Martin <3\")"
   ]
  },
  {
   "cell_type": "code",
   "execution_count": null,
   "metadata": {},
   "outputs": [],
   "source": [
    "#internasjonale kilder\n",
    "\n",
    "#NASA\n",
    "#NOAA\n",
    "#ECMWF\n",
    "#WMO\n",
    "#C3s\n",
    "\n",
    "#Nasjonale Kilder\n",
    "\n",
    "#MET Norge\n",
    "#DWD\n",
    "#Meteo-France\n",
    "#MET office\n",
    "#FMI\n",
    "#SMHI\n",
    "#YR\n",
    "\n",
    "#Miljøovervåkingsorgansisasjoner\n",
    "\n",
    "#Miljødirektoratet\n",
    "#EEA\n",
    "#UNEP\n",
    "#IPCC"
   ]
  },
  {
   "cell_type": "code",
   "execution_count": null,
   "metadata": {},
   "outputs": [],
   "source": []
  }
 ],
 "metadata": {
  "kernelspec": {
   "display_name": "venv",
   "language": "python",
   "name": "python3"
  },
  "language_info": {
   "codemirror_mode": {
    "name": "ipython",
    "version": 3
   },
   "file_extension": ".py",
   "mimetype": "text/x-python",
   "name": "python",
   "nbconvert_exporter": "python",
   "pygments_lexer": "ipython3",
   "version": "3.13.2"
  }
 },
 "nbformat": 4,
 "nbformat_minor": 2
}
